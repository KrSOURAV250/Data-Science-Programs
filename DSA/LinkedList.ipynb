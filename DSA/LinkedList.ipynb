{
 "cells": [
  {
   "cell_type": "code",
   "execution_count": 13,
   "metadata": {},
   "outputs": [],
   "source": [
    "class Node:\n",
    "    def __init__(self, value) -> None:\n",
    "        self.data = value\n",
    "        self.next = None"
   ]
  },
  {
   "cell_type": "code",
   "execution_count": 144,
   "metadata": {},
   "outputs": [],
   "source": [
    "class LinkedList:\n",
    "    def __init__(self) -> None:\n",
    "        self.head = None\n",
    "        self.n = 0\n",
    "\n",
    "    def __len__(self):\n",
    "        return self.n\n",
    "\n",
    "    def insert_head(self, value):\n",
    "        newNode = Node(value)\n",
    "        newNode.next = self.head\n",
    "        self.head = newNode\n",
    "        self.n += 1\n",
    "\n",
    "    def insert(self, value):\n",
    "        newNode = Node(value)\n",
    "        if self.head == None:\n",
    "            self.head = newNode\n",
    "        else:\n",
    "            curr = self.head\n",
    "            while curr.next != None:\n",
    "                curr = curr.next\n",
    "            curr.next = newNode\n",
    "        self.n += 1\n",
    "\n",
    "    def insertAtIndex(self, value, index):\n",
    "        if index > self.n:\n",
    "            print(\"Sorry, Can't Insert\")\n",
    "        elif index == 0:\n",
    "            self.insert_head(value)\n",
    "        elif index == self.n:\n",
    "            self.insert(value)\n",
    "        else:\n",
    "            newNode = Node(value)\n",
    "            curr = self.head\n",
    "            for i in range(index - 1):\n",
    "                curr = curr.next\n",
    "            newNode.next = curr.next\n",
    "            curr.next = newNode\n",
    "            self.n += 1\n",
    "\n",
    "    def deleteFromHead(self):\n",
    "        self.head = self.head.next\n",
    "        self.n -= 1\n",
    "\n",
    "    def deleteByValue(self, value):\n",
    "        if self.head.data == value:\n",
    "            self.deleteFromHead()\n",
    "        else:\n",
    "            curr = self.head\n",
    "            while curr.next != None:\n",
    "                curr = curr.next\n",
    "                if curr.next.data == value:\n",
    "                    break\n",
    "            curr.next = curr.next.next\n",
    "            self.n -= 1\n",
    "\n",
    "    def pop(self):\n",
    "        curr = self.head\n",
    "        while curr.next.next != None:\n",
    "            curr = curr.next\n",
    "        curr.next = None\n",
    "        self.n -= 1\n",
    "\n",
    "    def __str__(self):\n",
    "        curr = self.head\n",
    "        result = ''\n",
    "        while curr != None:\n",
    "            result += str(curr.data) + \" -> \"\n",
    "            curr = curr.next\n",
    "        return result[:-4]"
   ]
  },
  {
   "cell_type": "code",
   "execution_count": 145,
   "metadata": {},
   "outputs": [
    {
     "name": "stdout",
     "output_type": "stream",
     "text": [
      "5 -> 25 -> 85 -> 78 -> 8\n",
      "5 -> 25 -> 999 -> 85 -> 78 -> 8\n",
      "25 -> 999 -> 85 -> 78 -> 8\n",
      "25 -> 999 -> 85 -> 78\n"
     ]
    },
    {
     "ename": "AttributeError",
     "evalue": "'NoneType' object has no attribute 'data'",
     "output_type": "error",
     "traceback": [
      "\u001b[1;31m---------------------------------------------------------------------------\u001b[0m",
      "\u001b[1;31mAttributeError\u001b[0m                            Traceback (most recent call last)",
      "\u001b[1;32md:\\Programs Code\\Data Science Programs New\\DSA\\LinkedList.ipynb Cell 3\u001b[0m line \u001b[0;36m1\n\u001b[0;32m     <a href='vscode-notebook-cell:/d%3A/Programs%20Code/Data%20Science%20Programs%20New/DSA/LinkedList.ipynb#W2sZmlsZQ%3D%3D?line=13'>14</a>\u001b[0m l\u001b[39m.\u001b[39mpop()\n\u001b[0;32m     <a href='vscode-notebook-cell:/d%3A/Programs%20Code/Data%20Science%20Programs%20New/DSA/LinkedList.ipynb#W2sZmlsZQ%3D%3D?line=14'>15</a>\u001b[0m \u001b[39mprint\u001b[39m(l)\n\u001b[1;32m---> <a href='vscode-notebook-cell:/d%3A/Programs%20Code/Data%20Science%20Programs%20New/DSA/LinkedList.ipynb#W2sZmlsZQ%3D%3D?line=15'>16</a>\u001b[0m l\u001b[39m.\u001b[39;49mdeleteByValue(\u001b[39m999\u001b[39;49m)\n\u001b[0;32m     <a href='vscode-notebook-cell:/d%3A/Programs%20Code/Data%20Science%20Programs%20New/DSA/LinkedList.ipynb#W2sZmlsZQ%3D%3D?line=16'>17</a>\u001b[0m \u001b[39mprint\u001b[39m(l)\n",
      "\u001b[1;32md:\\Programs Code\\Data Science Programs New\\DSA\\LinkedList.ipynb Cell 3\u001b[0m line \u001b[0;36m5\n\u001b[0;32m     <a href='vscode-notebook-cell:/d%3A/Programs%20Code/Data%20Science%20Programs%20New/DSA/LinkedList.ipynb#W2sZmlsZQ%3D%3D?line=50'>51</a>\u001b[0m \u001b[39mwhile\u001b[39;00m curr\u001b[39m.\u001b[39mnext \u001b[39m!=\u001b[39m \u001b[39mNone\u001b[39;00m:\n\u001b[0;32m     <a href='vscode-notebook-cell:/d%3A/Programs%20Code/Data%20Science%20Programs%20New/DSA/LinkedList.ipynb#W2sZmlsZQ%3D%3D?line=51'>52</a>\u001b[0m     curr \u001b[39m=\u001b[39m curr\u001b[39m.\u001b[39mnext\n\u001b[1;32m---> <a href='vscode-notebook-cell:/d%3A/Programs%20Code/Data%20Science%20Programs%20New/DSA/LinkedList.ipynb#W2sZmlsZQ%3D%3D?line=52'>53</a>\u001b[0m     \u001b[39mif\u001b[39;00m curr\u001b[39m.\u001b[39;49mnext\u001b[39m.\u001b[39;49mdata \u001b[39m==\u001b[39m value:\n\u001b[0;32m     <a href='vscode-notebook-cell:/d%3A/Programs%20Code/Data%20Science%20Programs%20New/DSA/LinkedList.ipynb#W2sZmlsZQ%3D%3D?line=53'>54</a>\u001b[0m         \u001b[39mbreak\u001b[39;00m\n\u001b[0;32m     <a href='vscode-notebook-cell:/d%3A/Programs%20Code/Data%20Science%20Programs%20New/DSA/LinkedList.ipynb#W2sZmlsZQ%3D%3D?line=54'>55</a>\u001b[0m curr\u001b[39m.\u001b[39mnext \u001b[39m=\u001b[39m curr\u001b[39m.\u001b[39mnext\u001b[39m.\u001b[39mnext\n",
      "\u001b[1;31mAttributeError\u001b[0m: 'NoneType' object has no attribute 'data'"
     ]
    }
   ],
   "source": [
    "l = LinkedList()\n",
    "l.insert_head(85)\n",
    "l.insert_head(25)\n",
    "l.insert_head(5)\n",
    "\n",
    "l.insert(78)\n",
    "l.insert(8)\n",
    "\n",
    "print(l)\n",
    "l.insertAtIndex(999, 2)\n",
    "print(l)\n",
    "l.deleteFromHead()\n",
    "print(l)\n",
    "l.pop()\n",
    "print(l)\n",
    "l.deleteByValue(999)\n",
    "print(l)"
   ]
  },
  {
   "cell_type": "code",
   "execution_count": null,
   "metadata": {},
   "outputs": [],
   "source": []
  }
 ],
 "metadata": {
  "kernelspec": {
   "display_name": "Python 3",
   "language": "python",
   "name": "python3"
  },
  "language_info": {
   "codemirror_mode": {
    "name": "ipython",
    "version": 3
   },
   "file_extension": ".py",
   "mimetype": "text/x-python",
   "name": "python",
   "nbconvert_exporter": "python",
   "pygments_lexer": "ipython3",
   "version": "3.11.4"
  }
 },
 "nbformat": 4,
 "nbformat_minor": 2
}
