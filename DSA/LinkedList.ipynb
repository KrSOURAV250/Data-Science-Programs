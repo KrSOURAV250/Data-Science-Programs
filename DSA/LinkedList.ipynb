{
 "cells": [
  {
   "cell_type": "code",
   "execution_count": 4,
   "metadata": {},
   "outputs": [],
   "source": [
    "class Node:\n",
    "    def __init__(self, value) -> None:\n",
    "        self.data = value\n",
    "        self.next = None"
   ]
  },
  {
   "cell_type": "code",
   "execution_count": 5,
   "metadata": {},
   "outputs": [],
   "source": [
    "class LinkedList:\n",
    "    def __init__(self) -> None:\n",
    "        self.head = None\n",
    "        self.n = 0\n",
    "\n",
    "    def __len__(self):\n",
    "        return self.n\n",
    "\n",
    "    def insert_head(self, value):\n",
    "        newNode = Node(value)\n",
    "        newNode.next = self.head\n",
    "        self.head = newNode\n",
    "        self.n += 1\n",
    "\n",
    "    def insert(self, value):\n",
    "        newNode = Node(value)\n",
    "        if self.head == None:\n",
    "            self.head = newNode\n",
    "        else:\n",
    "            curr = self.head\n",
    "            while curr.next != None:\n",
    "                curr = curr.next\n",
    "            curr.next = newNode\n",
    "        self.n += 1\n",
    "\n",
    "    def insertAtIndex(self, value, index):\n",
    "        if index > self.n:\n",
    "            print(\"Sorry, Can't Insert\")\n",
    "        elif index == 0:\n",
    "            self.insert_head(value)\n",
    "        elif index == self.n:\n",
    "            self.insert(value)\n",
    "        else:\n",
    "            newNode = Node(value)\n",
    "            curr = self.head\n",
    "            for i in range(index - 1):\n",
    "                curr = curr.next\n",
    "            newNode.next = curr.next\n",
    "            curr.next = newNode\n",
    "            self.n += 1\n",
    "\n",
    "    def deleteFromHead(self):\n",
    "        self.head = self.head.next\n",
    "        self.n -= 1\n",
    "\n",
    "    def deleteByValue(self, value):\n",
    "        if self.head.data == value:\n",
    "            self.deleteFromHead()\n",
    "        else:\n",
    "            curr = self.head\n",
    "            while curr.next != None:\n",
    "                curr = curr.next\n",
    "                if curr.next.data == value:\n",
    "                    break\n",
    "            curr.next = curr.next.next\n",
    "            self.n -= 1\n",
    "\n",
    "    def pop(self):\n",
    "        curr = self.head\n",
    "        while curr.next.next != None:\n",
    "            curr = curr.next\n",
    "        curr.next = None\n",
    "        self.n -= 1\n",
    "\n",
    "    def __str__(self):\n",
    "        curr = self.head\n",
    "        result = ''\n",
    "        while curr != None:\n",
    "            result += str(curr.data) + \" -> \"\n",
    "            curr = curr.next\n",
    "        return result[:-4]"
   ]
  },
  {
   "cell_type": "code",
   "execution_count": 6,
   "metadata": {},
   "outputs": [
    {
     "name": "stdout",
     "output_type": "stream",
     "text": [
      "5 -> 25 -> 85 -> 78 -> 8\n",
      "5 -> 25 -> 999 -> 85 -> 78 -> 8\n",
      "25 -> 999 -> 85 -> 78 -> 8\n",
      "25 -> 999 -> 85 -> 78\n"
     ]
    }
   ],
   "source": [
    "l = LinkedList()\n",
    "l.insert_head(85)\n",
    "l.insert_head(25)\n",
    "l.insert_head(5)\n",
    "\n",
    "l.insert(78)\n",
    "l.insert(8)\n",
    "\n",
    "print(l)\n",
    "l.insertAtIndex(999, 2)\n",
    "print(l)\n",
    "l.deleteFromHead()\n",
    "print(l)\n",
    "l.pop()\n",
    "print(l)"
   ]
  },
  {
   "cell_type": "code",
   "execution_count": null,
   "metadata": {},
   "outputs": [],
   "source": []
  }
 ],
 "metadata": {
  "kernelspec": {
   "display_name": "Python 3",
   "language": "python",
   "name": "python3"
  },
  "language_info": {
   "codemirror_mode": {
    "name": "ipython",
    "version": 3
   },
   "file_extension": ".py",
   "mimetype": "text/x-python",
   "name": "python",
   "nbconvert_exporter": "python",
   "pygments_lexer": "ipython3",
   "version": "3.11.8"
  }
 },
 "nbformat": 4,
 "nbformat_minor": 2
}
