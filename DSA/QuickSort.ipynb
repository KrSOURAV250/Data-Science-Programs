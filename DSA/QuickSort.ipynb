{
 "cells": [
  {
   "cell_type": "code",
   "execution_count": 1,
   "metadata": {},
   "outputs": [],
   "source": [
    "import random"
   ]
  },
  {
   "cell_type": "code",
   "execution_count": 2,
   "metadata": {},
   "outputs": [],
   "source": [
    "def swap(arr, i, j):\n",
    "    arr[i], arr[j] = arr[j], arr[i]"
   ]
  },
  {
   "cell_type": "code",
   "execution_count": 3,
   "metadata": {},
   "outputs": [],
   "source": [
    "def partition(arr, lowIdx, highIdx):\n",
    "    pivot_index = (lowIdx + highIdx) // 2\n",
    "    swap(arr, pivot_index, highIdx)\n",
    "    pivot = arr[highIdx]\n",
    "    i = lowIdx - 1\n",
    "    for j in range(lowIdx, highIdx):\n",
    "        if arr[j] <= pivot:\n",
    "            i += 1\n",
    "            if arr[i] != arr[j]:\n",
    "                swap(arr, i, j)\n",
    "    swap(arr, i+1, highIdx)\n",
    "    return i + 1"
   ]
  },
  {
   "cell_type": "code",
   "execution_count": 4,
   "metadata": {},
   "outputs": [],
   "source": [
    "def quickSort(arr, lowIdx, highIdx):\n",
    "    stack = list()\n",
    "    stack.append(lowIdx)\n",
    "    stack.append(highIdx)\n",
    "    while stack:\n",
    "        highIdx = stack.pop()\n",
    "        lowIdx = stack.pop()\n",
    "        pi = partition(arr, lowIdx, highIdx)\n",
    "        if pi - 1 > lowIdx:\n",
    "            stack.append(lowIdx)\n",
    "            stack.append(pi - 1)\n",
    "        if pi + 1 < highIdx:\n",
    "            stack.append(pi+1)\n",
    "            stack.append(highIdx)"
   ]
  },
  {
   "cell_type": "code",
   "execution_count": 5,
   "metadata": {},
   "outputs": [],
   "source": [
    "arr = []\n",
    "for i in range(100):\n",
    "    arr.append(random.randint(0, 100))"
   ]
  },
  {
   "cell_type": "code",
   "execution_count": 6,
   "metadata": {},
   "outputs": [],
   "source": [
    "arr = [5]"
   ]
  },
  {
   "cell_type": "code",
   "execution_count": 7,
   "metadata": {},
   "outputs": [
    {
     "name": "stdout",
     "output_type": "stream",
     "text": [
      "[5]\n",
      "[5]\n"
     ]
    }
   ],
   "source": [
    "print(arr)\n",
    "quickSort(arr, 0, len(arr) - 1)\n",
    "print(arr)"
   ]
  },
  {
   "cell_type": "code",
   "execution_count": 8,
   "metadata": {},
   "outputs": [],
   "source": [
    "class Solution:\n",
    "    def swap(self, arr, i, j):\n",
    "        arr[i] = arr[i] + arr[j]\n",
    "        arr[j] = arr[i] - arr[j]\n",
    "        arr[i] = arr[i] - arr[j]\n",
    "\n",
    "    def partition(self, arr, left, right):\n",
    "        pivot_idx = (left + right) // 2\n",
    "        self.swap(arr, pivot_idx, right)\n",
    "        pivot = arr[right]\n",
    "        i = left - 1\n",
    "        for j in range(left, right):\n",
    "            if arr[j] <= pivot:\n",
    "                i += 1\n",
    "                if arr[i] != arr[j]:\n",
    "                    self.swap(arr, i, j)\n",
    "        self.swap(arr, i + 1, right)\n",
    "        return i + 1\n",
    "\n",
    "    def quickSort(self, arr, left, right):\n",
    "        stack = list()\n",
    "        stack.append(left)\n",
    "        stack.append(right)\n",
    "        while stack:\n",
    "            right = stack.pop()\n",
    "            left = stack.pop()\n",
    "            pi = self.partition(arr, left, right)\n",
    "            if pi - 1 > left:\n",
    "                stack.append(pi - 1)\n",
    "                stack.append(left)\n",
    "            if pi + 1 < right:\n",
    "                stack.append(right)\n",
    "                stack.append(pi + 1)\n",
    "\n",
    "    def findMedianSortedArrays(self, nums1, nums2) -> float:\n",
    "        nums11 = nums1 + nums2\n",
    "        l = len(nums11)\n",
    "        self.quickSort(nums11, 0, l-1)\n",
    "        if l % 2 == 0:\n",
    "            return (nums11[l // 2] + nums11[(l // 2) - 1]) / 2\n",
    "        else:\n",
    "            return nums11[l // 2]"
   ]
  },
  {
   "cell_type": "code",
   "execution_count": 9,
   "metadata": {},
   "outputs": [
    {
     "data": {
      "text/plain": [
       "0"
      ]
     },
     "execution_count": 9,
     "metadata": {},
     "output_type": "execute_result"
    }
   ],
   "source": [
    "s = Solution()\n",
    "s.findMedianSortedArrays([1,3], [2])"
   ]
  }
 ],
 "metadata": {
  "kernelspec": {
   "display_name": "Python 3",
   "language": "python",
   "name": "python3"
  },
  "language_info": {
   "codemirror_mode": {
    "name": "ipython",
    "version": 3
   },
   "file_extension": ".py",
   "mimetype": "text/x-python",
   "name": "python",
   "nbconvert_exporter": "python",
   "pygments_lexer": "ipython3",
   "version": "3.11.8"
  }
 },
 "nbformat": 4,
 "nbformat_minor": 2
}
