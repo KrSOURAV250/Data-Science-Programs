{
 "cells": [
  {
   "cell_type": "code",
   "execution_count": 1,
   "metadata": {},
   "outputs": [],
   "source": [
    "from sklearn.linear_model import LinearRegression, LogisticRegression\n",
    "from sklearn.model_selection import cross_val_score\n",
    "from sklearn.datasets import load_iris\n",
    "import pandas as pd   "
   ]
  },
  {
   "cell_type": "code",
   "execution_count": 2,
   "metadata": {},
   "outputs": [
    {
     "data": {
      "text/html": [
       "<div>\n",
       "<style scoped>\n",
       "    .dataframe tbody tr th:only-of-type {\n",
       "        vertical-align: middle;\n",
       "    }\n",
       "\n",
       "    .dataframe tbody tr th {\n",
       "        vertical-align: top;\n",
       "    }\n",
       "\n",
       "    .dataframe thead th {\n",
       "        text-align: right;\n",
       "    }\n",
       "</style>\n",
       "<table border=\"1\" class=\"dataframe\">\n",
       "  <thead>\n",
       "    <tr style=\"text-align: right;\">\n",
       "      <th></th>\n",
       "      <th>sepal_length</th>\n",
       "      <th>sepal_width</th>\n",
       "      <th>petal_length</th>\n",
       "      <th>petal_width</th>\n",
       "      <th>species</th>\n",
       "    </tr>\n",
       "  </thead>\n",
       "  <tbody>\n",
       "    <tr>\n",
       "      <th>0</th>\n",
       "      <td>5.1</td>\n",
       "      <td>3.5</td>\n",
       "      <td>1.4</td>\n",
       "      <td>0.2</td>\n",
       "      <td>setosa</td>\n",
       "    </tr>\n",
       "    <tr>\n",
       "      <th>1</th>\n",
       "      <td>4.9</td>\n",
       "      <td>3.0</td>\n",
       "      <td>1.4</td>\n",
       "      <td>0.2</td>\n",
       "      <td>setosa</td>\n",
       "    </tr>\n",
       "    <tr>\n",
       "      <th>2</th>\n",
       "      <td>4.7</td>\n",
       "      <td>3.2</td>\n",
       "      <td>1.3</td>\n",
       "      <td>0.2</td>\n",
       "      <td>setosa</td>\n",
       "    </tr>\n",
       "    <tr>\n",
       "      <th>3</th>\n",
       "      <td>4.6</td>\n",
       "      <td>3.1</td>\n",
       "      <td>1.5</td>\n",
       "      <td>0.2</td>\n",
       "      <td>setosa</td>\n",
       "    </tr>\n",
       "    <tr>\n",
       "      <th>4</th>\n",
       "      <td>5.0</td>\n",
       "      <td>3.6</td>\n",
       "      <td>1.4</td>\n",
       "      <td>0.2</td>\n",
       "      <td>setosa</td>\n",
       "    </tr>\n",
       "    <tr>\n",
       "      <th>...</th>\n",
       "      <td>...</td>\n",
       "      <td>...</td>\n",
       "      <td>...</td>\n",
       "      <td>...</td>\n",
       "      <td>...</td>\n",
       "    </tr>\n",
       "    <tr>\n",
       "      <th>145</th>\n",
       "      <td>6.7</td>\n",
       "      <td>3.0</td>\n",
       "      <td>5.2</td>\n",
       "      <td>2.3</td>\n",
       "      <td>virginica</td>\n",
       "    </tr>\n",
       "    <tr>\n",
       "      <th>146</th>\n",
       "      <td>6.3</td>\n",
       "      <td>2.5</td>\n",
       "      <td>5.0</td>\n",
       "      <td>1.9</td>\n",
       "      <td>virginica</td>\n",
       "    </tr>\n",
       "    <tr>\n",
       "      <th>147</th>\n",
       "      <td>6.5</td>\n",
       "      <td>3.0</td>\n",
       "      <td>5.2</td>\n",
       "      <td>2.0</td>\n",
       "      <td>virginica</td>\n",
       "    </tr>\n",
       "    <tr>\n",
       "      <th>148</th>\n",
       "      <td>6.2</td>\n",
       "      <td>3.4</td>\n",
       "      <td>5.4</td>\n",
       "      <td>2.3</td>\n",
       "      <td>virginica</td>\n",
       "    </tr>\n",
       "    <tr>\n",
       "      <th>149</th>\n",
       "      <td>5.9</td>\n",
       "      <td>3.0</td>\n",
       "      <td>5.1</td>\n",
       "      <td>1.8</td>\n",
       "      <td>virginica</td>\n",
       "    </tr>\n",
       "  </tbody>\n",
       "</table>\n",
       "<p>150 rows × 5 columns</p>\n",
       "</div>"
      ],
      "text/plain": [
       "     sepal_length  sepal_width  petal_length  petal_width    species\n",
       "0             5.1          3.5           1.4          0.2     setosa\n",
       "1             4.9          3.0           1.4          0.2     setosa\n",
       "2             4.7          3.2           1.3          0.2     setosa\n",
       "3             4.6          3.1           1.5          0.2     setosa\n",
       "4             5.0          3.6           1.4          0.2     setosa\n",
       "..            ...          ...           ...          ...        ...\n",
       "145           6.7          3.0           5.2          2.3  virginica\n",
       "146           6.3          2.5           5.0          1.9  virginica\n",
       "147           6.5          3.0           5.2          2.0  virginica\n",
       "148           6.2          3.4           5.4          2.3  virginica\n",
       "149           5.9          3.0           5.1          1.8  virginica\n",
       "\n",
       "[150 rows x 5 columns]"
      ]
     },
     "execution_count": 2,
     "metadata": {},
     "output_type": "execute_result"
    }
   ],
   "source": [
    "df = pd.read_csv(r\"The Data\\iris.csv\")\n",
    "df"
   ]
  },
  {
   "cell_type": "code",
   "execution_count": 3,
   "metadata": {},
   "outputs": [],
   "source": [
    "from mlxtend.feature_selection import ExhaustiveFeatureSelector as EFS\n",
    "lr = LogisticRegression()\n",
    "sel = EFS(lr, max_features=4, scoring=\"accuracy\", cv=5)"
   ]
  },
  {
   "cell_type": "code",
   "execution_count": 4,
   "metadata": {},
   "outputs": [
    {
     "name": "stderr",
     "output_type": "stream",
     "text": [
      "c:\\Python\\Python311\\Lib\\site-packages\\sklearn\\linear_model\\_logistic.py:460: ConvergenceWarning: lbfgs failed to converge (status=1):\n",
      "STOP: TOTAL NO. of ITERATIONS REACHED LIMIT.\n",
      "\n",
      "Increase the number of iterations (max_iter) or scale the data as shown in:\n",
      "    https://scikit-learn.org/stable/modules/preprocessing.html\n",
      "Please also refer to the documentation for alternative solver options:\n",
      "    https://scikit-learn.org/stable/modules/linear_model.html#logistic-regression\n",
      "  n_iter_i = _check_optimize_result(\n",
      "c:\\Python\\Python311\\Lib\\site-packages\\sklearn\\linear_model\\_logistic.py:460: ConvergenceWarning: lbfgs failed to converge (status=1):\n",
      "STOP: TOTAL NO. of ITERATIONS REACHED LIMIT.\n",
      "\n",
      "Increase the number of iterations (max_iter) or scale the data as shown in:\n",
      "    https://scikit-learn.org/stable/modules/preprocessing.html\n",
      "Please also refer to the documentation for alternative solver options:\n",
      "    https://scikit-learn.org/stable/modules/linear_model.html#logistic-regression\n",
      "  n_iter_i = _check_optimize_result(\n",
      "c:\\Python\\Python311\\Lib\\site-packages\\sklearn\\linear_model\\_logistic.py:460: ConvergenceWarning: lbfgs failed to converge (status=1):\n",
      "STOP: TOTAL NO. of ITERATIONS REACHED LIMIT.\n",
      "\n",
      "Increase the number of iterations (max_iter) or scale the data as shown in:\n",
      "    https://scikit-learn.org/stable/modules/preprocessing.html\n",
      "Please also refer to the documentation for alternative solver options:\n",
      "    https://scikit-learn.org/stable/modules/linear_model.html#logistic-regression\n",
      "  n_iter_i = _check_optimize_result(\n",
      "Features: 15/15"
     ]
    }
   ],
   "source": [
    "model = sel.fit(df.iloc[:, :4], df[\"species\"])"
   ]
  },
  {
   "cell_type": "code",
   "execution_count": 5,
   "metadata": {},
   "outputs": [
    {
     "data": {
      "text/plain": [
       "0.9733333333333334"
      ]
     },
     "execution_count": 5,
     "metadata": {},
     "output_type": "execute_result"
    }
   ],
   "source": [
    "model.best_score_"
   ]
  },
  {
   "cell_type": "code",
   "execution_count": 6,
   "metadata": {},
   "outputs": [
    {
     "data": {
      "text/plain": [
       "('sepal_width', 'petal_length', 'petal_width')"
      ]
     },
     "execution_count": 6,
     "metadata": {},
     "output_type": "execute_result"
    }
   ],
   "source": [
    "model.best_feature_names_"
   ]
  },
  {
   "cell_type": "code",
   "execution_count": 7,
   "metadata": {},
   "outputs": [
    {
     "data": {
      "text/plain": [
       "{0: {'feature_idx': (0,),\n",
       "  'cv_scores': array([0.66666667, 0.73333333, 0.76666667, 0.76666667, 0.83333333]),\n",
       "  'avg_score': 0.7533333333333333,\n",
       "  'feature_names': ('sepal_length',)},\n",
       " 1: {'feature_idx': (1,),\n",
       "  'cv_scores': array([0.53333333, 0.56666667, 0.53333333, 0.53333333, 0.63333333]),\n",
       "  'avg_score': 0.5599999999999999,\n",
       "  'feature_names': ('sepal_width',)},\n",
       " 2: {'feature_idx': (2,),\n",
       "  'cv_scores': array([0.93333333, 1.        , 0.9       , 0.93333333, 1.        ]),\n",
       "  'avg_score': 0.9533333333333334,\n",
       "  'feature_names': ('petal_length',)},\n",
       " 3: {'feature_idx': (3,),\n",
       "  'cv_scores': array([1.        , 0.96666667, 0.9       , 0.93333333, 1.        ]),\n",
       "  'avg_score': 0.96,\n",
       "  'feature_names': ('petal_width',)},\n",
       " 4: {'feature_idx': (0, 1),\n",
       "  'cv_scores': array([0.73333333, 0.83333333, 0.76666667, 0.86666667, 0.9       ]),\n",
       "  'avg_score': 0.8200000000000001,\n",
       "  'feature_names': ('sepal_length', 'sepal_width')},\n",
       " 5: {'feature_idx': (0, 2),\n",
       "  'cv_scores': array([0.93333333, 1.        , 0.9       , 0.93333333, 1.        ]),\n",
       "  'avg_score': 0.9533333333333334,\n",
       "  'feature_names': ('sepal_length', 'petal_length')},\n",
       " 6: {'feature_idx': (0, 3),\n",
       "  'cv_scores': array([0.93333333, 0.96666667, 0.93333333, 0.93333333, 1.        ]),\n",
       "  'avg_score': 0.9533333333333334,\n",
       "  'feature_names': ('sepal_length', 'petal_width')},\n",
       " 7: {'feature_idx': (1, 2),\n",
       "  'cv_scores': array([0.93333333, 1.        , 0.9       , 0.93333333, 1.        ]),\n",
       "  'avg_score': 0.9533333333333334,\n",
       "  'feature_names': ('sepal_width', 'petal_length')},\n",
       " 8: {'feature_idx': (1, 3),\n",
       "  'cv_scores': array([0.93333333, 0.96666667, 0.9       , 0.93333333, 0.96666667]),\n",
       "  'avg_score': 0.9400000000000001,\n",
       "  'feature_names': ('sepal_width', 'petal_width')},\n",
       " 9: {'feature_idx': (2, 3),\n",
       "  'cv_scores': array([0.96666667, 0.96666667, 0.93333333, 0.93333333, 1.        ]),\n",
       "  'avg_score': 0.96,\n",
       "  'feature_names': ('petal_length', 'petal_width')},\n",
       " 10: {'feature_idx': (0, 1, 2),\n",
       "  'cv_scores': array([0.93333333, 1.        , 0.9       , 0.93333333, 1.        ]),\n",
       "  'avg_score': 0.9533333333333334,\n",
       "  'feature_names': ('sepal_length', 'sepal_width', 'petal_length')},\n",
       " 11: {'feature_idx': (0, 1, 3),\n",
       "  'cv_scores': array([0.9       , 0.96666667, 0.93333333, 0.93333333, 1.        ]),\n",
       "  'avg_score': 0.9466666666666667,\n",
       "  'feature_names': ('sepal_length', 'sepal_width', 'petal_width')},\n",
       " 12: {'feature_idx': (0, 2, 3),\n",
       "  'cv_scores': array([0.96666667, 0.96666667, 0.93333333, 0.96666667, 1.        ]),\n",
       "  'avg_score': 0.9666666666666668,\n",
       "  'feature_names': ('sepal_length', 'petal_length', 'petal_width')},\n",
       " 13: {'feature_idx': (1, 2, 3),\n",
       "  'cv_scores': array([0.96666667, 1.        , 0.93333333, 0.96666667, 1.        ]),\n",
       "  'avg_score': 0.9733333333333334,\n",
       "  'feature_names': ('sepal_width', 'petal_length', 'petal_width')},\n",
       " 14: {'feature_idx': (0, 1, 2, 3),\n",
       "  'cv_scores': array([0.96666667, 1.        , 0.93333333, 0.96666667, 1.        ]),\n",
       "  'avg_score': 0.9733333333333334,\n",
       "  'feature_names': ('sepal_length',\n",
       "   'sepal_width',\n",
       "   'petal_length',\n",
       "   'petal_width')}}"
      ]
     },
     "execution_count": 7,
     "metadata": {},
     "output_type": "execute_result"
    }
   ],
   "source": [
    "model.subsets_"
   ]
  },
  {
   "cell_type": "code",
   "execution_count": 8,
   "metadata": {},
   "outputs": [
    {
     "data": {
      "text/html": [
       "<div>\n",
       "<style scoped>\n",
       "    .dataframe tbody tr th:only-of-type {\n",
       "        vertical-align: middle;\n",
       "    }\n",
       "\n",
       "    .dataframe tbody tr th {\n",
       "        vertical-align: top;\n",
       "    }\n",
       "\n",
       "    .dataframe thead th {\n",
       "        text-align: right;\n",
       "    }\n",
       "</style>\n",
       "<table border=\"1\" class=\"dataframe\">\n",
       "  <thead>\n",
       "    <tr style=\"text-align: right;\">\n",
       "      <th></th>\n",
       "      <th>feature_idx</th>\n",
       "      <th>cv_scores</th>\n",
       "      <th>avg_score</th>\n",
       "      <th>feature_names</th>\n",
       "      <th>ci_bound</th>\n",
       "      <th>std_dev</th>\n",
       "      <th>std_err</th>\n",
       "    </tr>\n",
       "  </thead>\n",
       "  <tbody>\n",
       "    <tr>\n",
       "      <th>0</th>\n",
       "      <td>(0,)</td>\n",
       "      <td>[0.6666666666666666, 0.7333333333333333, 0.766...</td>\n",
       "      <td>0.753333</td>\n",
       "      <td>(sepal_length,)</td>\n",
       "      <td>0.069612</td>\n",
       "      <td>0.05416</td>\n",
       "      <td>0.02708</td>\n",
       "    </tr>\n",
       "    <tr>\n",
       "      <th>1</th>\n",
       "      <td>(1,)</td>\n",
       "      <td>[0.5333333333333333, 0.5666666666666667, 0.533...</td>\n",
       "      <td>0.56</td>\n",
       "      <td>(sepal_width,)</td>\n",
       "      <td>0.049963</td>\n",
       "      <td>0.038873</td>\n",
       "      <td>0.019437</td>\n",
       "    </tr>\n",
       "    <tr>\n",
       "      <th>2</th>\n",
       "      <td>(2,)</td>\n",
       "      <td>[0.9333333333333333, 1.0, 0.9, 0.9333333333333...</td>\n",
       "      <td>0.953333</td>\n",
       "      <td>(petal_length,)</td>\n",
       "      <td>0.051412</td>\n",
       "      <td>0.04</td>\n",
       "      <td>0.02</td>\n",
       "    </tr>\n",
       "    <tr>\n",
       "      <th>3</th>\n",
       "      <td>(3,)</td>\n",
       "      <td>[1.0, 0.9666666666666667, 0.9, 0.9333333333333...</td>\n",
       "      <td>0.96</td>\n",
       "      <td>(petal_width,)</td>\n",
       "      <td>0.049963</td>\n",
       "      <td>0.038873</td>\n",
       "      <td>0.019437</td>\n",
       "    </tr>\n",
       "    <tr>\n",
       "      <th>4</th>\n",
       "      <td>(0, 1)</td>\n",
       "      <td>[0.7333333333333333, 0.8333333333333334, 0.766...</td>\n",
       "      <td>0.82</td>\n",
       "      <td>(sepal_length, sepal_width)</td>\n",
       "      <td>0.079462</td>\n",
       "      <td>0.061824</td>\n",
       "      <td>0.030912</td>\n",
       "    </tr>\n",
       "    <tr>\n",
       "      <th>5</th>\n",
       "      <td>(0, 2)</td>\n",
       "      <td>[0.9333333333333333, 1.0, 0.9, 0.9333333333333...</td>\n",
       "      <td>0.953333</td>\n",
       "      <td>(sepal_length, petal_length)</td>\n",
       "      <td>0.051412</td>\n",
       "      <td>0.04</td>\n",
       "      <td>0.02</td>\n",
       "    </tr>\n",
       "    <tr>\n",
       "      <th>6</th>\n",
       "      <td>(0, 3)</td>\n",
       "      <td>[0.9333333333333333, 0.9666666666666667, 0.933...</td>\n",
       "      <td>0.953333</td>\n",
       "      <td>(sepal_length, petal_width)</td>\n",
       "      <td>0.034274</td>\n",
       "      <td>0.026667</td>\n",
       "      <td>0.013333</td>\n",
       "    </tr>\n",
       "    <tr>\n",
       "      <th>7</th>\n",
       "      <td>(1, 2)</td>\n",
       "      <td>[0.9333333333333333, 1.0, 0.9, 0.9333333333333...</td>\n",
       "      <td>0.953333</td>\n",
       "      <td>(sepal_width, petal_length)</td>\n",
       "      <td>0.051412</td>\n",
       "      <td>0.04</td>\n",
       "      <td>0.02</td>\n",
       "    </tr>\n",
       "    <tr>\n",
       "      <th>8</th>\n",
       "      <td>(1, 3)</td>\n",
       "      <td>[0.9333333333333333, 0.9666666666666667, 0.9, ...</td>\n",
       "      <td>0.94</td>\n",
       "      <td>(sepal_width, petal_width)</td>\n",
       "      <td>0.032061</td>\n",
       "      <td>0.024944</td>\n",
       "      <td>0.012472</td>\n",
       "    </tr>\n",
       "    <tr>\n",
       "      <th>9</th>\n",
       "      <td>(2, 3)</td>\n",
       "      <td>[0.9666666666666667, 0.9666666666666667, 0.933...</td>\n",
       "      <td>0.96</td>\n",
       "      <td>(petal_length, petal_width)</td>\n",
       "      <td>0.032061</td>\n",
       "      <td>0.024944</td>\n",
       "      <td>0.012472</td>\n",
       "    </tr>\n",
       "    <tr>\n",
       "      <th>10</th>\n",
       "      <td>(0, 1, 2)</td>\n",
       "      <td>[0.9333333333333333, 1.0, 0.9, 0.9333333333333...</td>\n",
       "      <td>0.953333</td>\n",
       "      <td>(sepal_length, sepal_width, petal_length)</td>\n",
       "      <td>0.051412</td>\n",
       "      <td>0.04</td>\n",
       "      <td>0.02</td>\n",
       "    </tr>\n",
       "    <tr>\n",
       "      <th>11</th>\n",
       "      <td>(0, 1, 3)</td>\n",
       "      <td>[0.9, 0.9666666666666667, 0.9333333333333333, ...</td>\n",
       "      <td>0.946667</td>\n",
       "      <td>(sepal_length, sepal_width, petal_width)</td>\n",
       "      <td>0.043691</td>\n",
       "      <td>0.033993</td>\n",
       "      <td>0.016997</td>\n",
       "    </tr>\n",
       "    <tr>\n",
       "      <th>12</th>\n",
       "      <td>(0, 2, 3)</td>\n",
       "      <td>[0.9666666666666667, 0.9666666666666667, 0.933...</td>\n",
       "      <td>0.966667</td>\n",
       "      <td>(sepal_length, petal_length, petal_width)</td>\n",
       "      <td>0.027096</td>\n",
       "      <td>0.021082</td>\n",
       "      <td>0.010541</td>\n",
       "    </tr>\n",
       "    <tr>\n",
       "      <th>13</th>\n",
       "      <td>(1, 2, 3)</td>\n",
       "      <td>[0.9666666666666667, 1.0, 0.9333333333333333, ...</td>\n",
       "      <td>0.973333</td>\n",
       "      <td>(sepal_width, petal_length, petal_width)</td>\n",
       "      <td>0.032061</td>\n",
       "      <td>0.024944</td>\n",
       "      <td>0.012472</td>\n",
       "    </tr>\n",
       "    <tr>\n",
       "      <th>14</th>\n",
       "      <td>(0, 1, 2, 3)</td>\n",
       "      <td>[0.9666666666666667, 1.0, 0.9333333333333333, ...</td>\n",
       "      <td>0.973333</td>\n",
       "      <td>(sepal_length, sepal_width, petal_length, peta...</td>\n",
       "      <td>0.032061</td>\n",
       "      <td>0.024944</td>\n",
       "      <td>0.012472</td>\n",
       "    </tr>\n",
       "  </tbody>\n",
       "</table>\n",
       "</div>"
      ],
      "text/plain": [
       "     feature_idx                                          cv_scores avg_score  \\\n",
       "0           (0,)  [0.6666666666666666, 0.7333333333333333, 0.766...  0.753333   \n",
       "1           (1,)  [0.5333333333333333, 0.5666666666666667, 0.533...      0.56   \n",
       "2           (2,)  [0.9333333333333333, 1.0, 0.9, 0.9333333333333...  0.953333   \n",
       "3           (3,)  [1.0, 0.9666666666666667, 0.9, 0.9333333333333...      0.96   \n",
       "4         (0, 1)  [0.7333333333333333, 0.8333333333333334, 0.766...      0.82   \n",
       "5         (0, 2)  [0.9333333333333333, 1.0, 0.9, 0.9333333333333...  0.953333   \n",
       "6         (0, 3)  [0.9333333333333333, 0.9666666666666667, 0.933...  0.953333   \n",
       "7         (1, 2)  [0.9333333333333333, 1.0, 0.9, 0.9333333333333...  0.953333   \n",
       "8         (1, 3)  [0.9333333333333333, 0.9666666666666667, 0.9, ...      0.94   \n",
       "9         (2, 3)  [0.9666666666666667, 0.9666666666666667, 0.933...      0.96   \n",
       "10     (0, 1, 2)  [0.9333333333333333, 1.0, 0.9, 0.9333333333333...  0.953333   \n",
       "11     (0, 1, 3)  [0.9, 0.9666666666666667, 0.9333333333333333, ...  0.946667   \n",
       "12     (0, 2, 3)  [0.9666666666666667, 0.9666666666666667, 0.933...  0.966667   \n",
       "13     (1, 2, 3)  [0.9666666666666667, 1.0, 0.9333333333333333, ...  0.973333   \n",
       "14  (0, 1, 2, 3)  [0.9666666666666667, 1.0, 0.9333333333333333, ...  0.973333   \n",
       "\n",
       "                                        feature_names  ci_bound   std_dev  \\\n",
       "0                                     (sepal_length,)  0.069612   0.05416   \n",
       "1                                      (sepal_width,)  0.049963  0.038873   \n",
       "2                                     (petal_length,)  0.051412      0.04   \n",
       "3                                      (petal_width,)  0.049963  0.038873   \n",
       "4                         (sepal_length, sepal_width)  0.079462  0.061824   \n",
       "5                        (sepal_length, petal_length)  0.051412      0.04   \n",
       "6                         (sepal_length, petal_width)  0.034274  0.026667   \n",
       "7                         (sepal_width, petal_length)  0.051412      0.04   \n",
       "8                          (sepal_width, petal_width)  0.032061  0.024944   \n",
       "9                         (petal_length, petal_width)  0.032061  0.024944   \n",
       "10          (sepal_length, sepal_width, petal_length)  0.051412      0.04   \n",
       "11           (sepal_length, sepal_width, petal_width)  0.043691  0.033993   \n",
       "12          (sepal_length, petal_length, petal_width)  0.027096  0.021082   \n",
       "13           (sepal_width, petal_length, petal_width)  0.032061  0.024944   \n",
       "14  (sepal_length, sepal_width, petal_length, peta...  0.032061  0.024944   \n",
       "\n",
       "     std_err  \n",
       "0    0.02708  \n",
       "1   0.019437  \n",
       "2       0.02  \n",
       "3   0.019437  \n",
       "4   0.030912  \n",
       "5       0.02  \n",
       "6   0.013333  \n",
       "7       0.02  \n",
       "8   0.012472  \n",
       "9   0.012472  \n",
       "10      0.02  \n",
       "11  0.016997  \n",
       "12  0.010541  \n",
       "13  0.012472  \n",
       "14  0.012472  "
      ]
     },
     "execution_count": 8,
     "metadata": {},
     "output_type": "execute_result"
    }
   ],
   "source": [
    "metricDf = pd.DataFrame(model.get_metric_dict()).T\n",
    "metricDf"
   ]
  },
  {
   "cell_type": "code",
   "execution_count": 9,
   "metadata": {},
   "outputs": [
    {
     "data": {
      "application/vnd.plotly.v1+json": {
       "config": {
        "plotlyServerURL": "https://plot.ly"
       },
       "data": [
        {
         "hovertemplate": "x=%{x}<br>y=%{y}<extra></extra>",
         "legendgroup": "",
         "line": {
          "color": "#636efa",
          "dash": "solid"
         },
         "marker": {
          "symbol": "circle"
         },
         "mode": "lines",
         "name": "",
         "orientation": "v",
         "showlegend": false,
         "type": "scatter",
         "x": [
          "('sepal_length',)",
          "('sepal_width',)",
          "('petal_length',)",
          "('petal_width',)",
          "('sepal_length', 'sepal_width')",
          "('sepal_length', 'petal_length')",
          "('sepal_length', 'petal_width')",
          "('sepal_width', 'petal_length')",
          "('sepal_width', 'petal_width')",
          "('petal_length', 'petal_width')",
          "('sepal_length', 'sepal_width', 'petal_length')",
          "('sepal_length', 'sepal_width', 'petal_width')",
          "('sepal_length', 'petal_length', 'petal_width')",
          "('sepal_width', 'petal_length', 'petal_width')",
          "('sepal_length', 'sepal_width', 'petal_length', 'petal_width')"
         ],
         "xaxis": "x",
         "y": [
          0.7533333333333333,
          0.5599999999999999,
          0.9533333333333334,
          0.96,
          0.8200000000000001,
          0.9533333333333334,
          0.9533333333333334,
          0.9533333333333334,
          0.9400000000000001,
          0.96,
          0.9533333333333334,
          0.9466666666666667,
          0.9666666666666668,
          0.9733333333333334,
          0.9733333333333334
         ],
         "yaxis": "y"
        }
       ],
       "layout": {
        "legend": {
         "tracegroupgap": 0
        },
        "margin": {
         "t": 60
        },
        "template": {
         "data": {
          "bar": [
           {
            "error_x": {
             "color": "#2a3f5f"
            },
            "error_y": {
             "color": "#2a3f5f"
            },
            "marker": {
             "line": {
              "color": "#E5ECF6",
              "width": 0.5
             },
             "pattern": {
              "fillmode": "overlay",
              "size": 10,
              "solidity": 0.2
             }
            },
            "type": "bar"
           }
          ],
          "barpolar": [
           {
            "marker": {
             "line": {
              "color": "#E5ECF6",
              "width": 0.5
             },
             "pattern": {
              "fillmode": "overlay",
              "size": 10,
              "solidity": 0.2
             }
            },
            "type": "barpolar"
           }
          ],
          "carpet": [
           {
            "aaxis": {
             "endlinecolor": "#2a3f5f",
             "gridcolor": "white",
             "linecolor": "white",
             "minorgridcolor": "white",
             "startlinecolor": "#2a3f5f"
            },
            "baxis": {
             "endlinecolor": "#2a3f5f",
             "gridcolor": "white",
             "linecolor": "white",
             "minorgridcolor": "white",
             "startlinecolor": "#2a3f5f"
            },
            "type": "carpet"
           }
          ],
          "choropleth": [
           {
            "colorbar": {
             "outlinewidth": 0,
             "ticks": ""
            },
            "type": "choropleth"
           }
          ],
          "contour": [
           {
            "colorbar": {
             "outlinewidth": 0,
             "ticks": ""
            },
            "colorscale": [
             [
              0,
              "#0d0887"
             ],
             [
              0.1111111111111111,
              "#46039f"
             ],
             [
              0.2222222222222222,
              "#7201a8"
             ],
             [
              0.3333333333333333,
              "#9c179e"
             ],
             [
              0.4444444444444444,
              "#bd3786"
             ],
             [
              0.5555555555555556,
              "#d8576b"
             ],
             [
              0.6666666666666666,
              "#ed7953"
             ],
             [
              0.7777777777777778,
              "#fb9f3a"
             ],
             [
              0.8888888888888888,
              "#fdca26"
             ],
             [
              1,
              "#f0f921"
             ]
            ],
            "type": "contour"
           }
          ],
          "contourcarpet": [
           {
            "colorbar": {
             "outlinewidth": 0,
             "ticks": ""
            },
            "type": "contourcarpet"
           }
          ],
          "heatmap": [
           {
            "colorbar": {
             "outlinewidth": 0,
             "ticks": ""
            },
            "colorscale": [
             [
              0,
              "#0d0887"
             ],
             [
              0.1111111111111111,
              "#46039f"
             ],
             [
              0.2222222222222222,
              "#7201a8"
             ],
             [
              0.3333333333333333,
              "#9c179e"
             ],
             [
              0.4444444444444444,
              "#bd3786"
             ],
             [
              0.5555555555555556,
              "#d8576b"
             ],
             [
              0.6666666666666666,
              "#ed7953"
             ],
             [
              0.7777777777777778,
              "#fb9f3a"
             ],
             [
              0.8888888888888888,
              "#fdca26"
             ],
             [
              1,
              "#f0f921"
             ]
            ],
            "type": "heatmap"
           }
          ],
          "heatmapgl": [
           {
            "colorbar": {
             "outlinewidth": 0,
             "ticks": ""
            },
            "colorscale": [
             [
              0,
              "#0d0887"
             ],
             [
              0.1111111111111111,
              "#46039f"
             ],
             [
              0.2222222222222222,
              "#7201a8"
             ],
             [
              0.3333333333333333,
              "#9c179e"
             ],
             [
              0.4444444444444444,
              "#bd3786"
             ],
             [
              0.5555555555555556,
              "#d8576b"
             ],
             [
              0.6666666666666666,
              "#ed7953"
             ],
             [
              0.7777777777777778,
              "#fb9f3a"
             ],
             [
              0.8888888888888888,
              "#fdca26"
             ],
             [
              1,
              "#f0f921"
             ]
            ],
            "type": "heatmapgl"
           }
          ],
          "histogram": [
           {
            "marker": {
             "pattern": {
              "fillmode": "overlay",
              "size": 10,
              "solidity": 0.2
             }
            },
            "type": "histogram"
           }
          ],
          "histogram2d": [
           {
            "colorbar": {
             "outlinewidth": 0,
             "ticks": ""
            },
            "colorscale": [
             [
              0,
              "#0d0887"
             ],
             [
              0.1111111111111111,
              "#46039f"
             ],
             [
              0.2222222222222222,
              "#7201a8"
             ],
             [
              0.3333333333333333,
              "#9c179e"
             ],
             [
              0.4444444444444444,
              "#bd3786"
             ],
             [
              0.5555555555555556,
              "#d8576b"
             ],
             [
              0.6666666666666666,
              "#ed7953"
             ],
             [
              0.7777777777777778,
              "#fb9f3a"
             ],
             [
              0.8888888888888888,
              "#fdca26"
             ],
             [
              1,
              "#f0f921"
             ]
            ],
            "type": "histogram2d"
           }
          ],
          "histogram2dcontour": [
           {
            "colorbar": {
             "outlinewidth": 0,
             "ticks": ""
            },
            "colorscale": [
             [
              0,
              "#0d0887"
             ],
             [
              0.1111111111111111,
              "#46039f"
             ],
             [
              0.2222222222222222,
              "#7201a8"
             ],
             [
              0.3333333333333333,
              "#9c179e"
             ],
             [
              0.4444444444444444,
              "#bd3786"
             ],
             [
              0.5555555555555556,
              "#d8576b"
             ],
             [
              0.6666666666666666,
              "#ed7953"
             ],
             [
              0.7777777777777778,
              "#fb9f3a"
             ],
             [
              0.8888888888888888,
              "#fdca26"
             ],
             [
              1,
              "#f0f921"
             ]
            ],
            "type": "histogram2dcontour"
           }
          ],
          "mesh3d": [
           {
            "colorbar": {
             "outlinewidth": 0,
             "ticks": ""
            },
            "type": "mesh3d"
           }
          ],
          "parcoords": [
           {
            "line": {
             "colorbar": {
              "outlinewidth": 0,
              "ticks": ""
             }
            },
            "type": "parcoords"
           }
          ],
          "pie": [
           {
            "automargin": true,
            "type": "pie"
           }
          ],
          "scatter": [
           {
            "fillpattern": {
             "fillmode": "overlay",
             "size": 10,
             "solidity": 0.2
            },
            "type": "scatter"
           }
          ],
          "scatter3d": [
           {
            "line": {
             "colorbar": {
              "outlinewidth": 0,
              "ticks": ""
             }
            },
            "marker": {
             "colorbar": {
              "outlinewidth": 0,
              "ticks": ""
             }
            },
            "type": "scatter3d"
           }
          ],
          "scattercarpet": [
           {
            "marker": {
             "colorbar": {
              "outlinewidth": 0,
              "ticks": ""
             }
            },
            "type": "scattercarpet"
           }
          ],
          "scattergeo": [
           {
            "marker": {
             "colorbar": {
              "outlinewidth": 0,
              "ticks": ""
             }
            },
            "type": "scattergeo"
           }
          ],
          "scattergl": [
           {
            "marker": {
             "colorbar": {
              "outlinewidth": 0,
              "ticks": ""
             }
            },
            "type": "scattergl"
           }
          ],
          "scattermapbox": [
           {
            "marker": {
             "colorbar": {
              "outlinewidth": 0,
              "ticks": ""
             }
            },
            "type": "scattermapbox"
           }
          ],
          "scatterpolar": [
           {
            "marker": {
             "colorbar": {
              "outlinewidth": 0,
              "ticks": ""
             }
            },
            "type": "scatterpolar"
           }
          ],
          "scatterpolargl": [
           {
            "marker": {
             "colorbar": {
              "outlinewidth": 0,
              "ticks": ""
             }
            },
            "type": "scatterpolargl"
           }
          ],
          "scatterternary": [
           {
            "marker": {
             "colorbar": {
              "outlinewidth": 0,
              "ticks": ""
             }
            },
            "type": "scatterternary"
           }
          ],
          "surface": [
           {
            "colorbar": {
             "outlinewidth": 0,
             "ticks": ""
            },
            "colorscale": [
             [
              0,
              "#0d0887"
             ],
             [
              0.1111111111111111,
              "#46039f"
             ],
             [
              0.2222222222222222,
              "#7201a8"
             ],
             [
              0.3333333333333333,
              "#9c179e"
             ],
             [
              0.4444444444444444,
              "#bd3786"
             ],
             [
              0.5555555555555556,
              "#d8576b"
             ],
             [
              0.6666666666666666,
              "#ed7953"
             ],
             [
              0.7777777777777778,
              "#fb9f3a"
             ],
             [
              0.8888888888888888,
              "#fdca26"
             ],
             [
              1,
              "#f0f921"
             ]
            ],
            "type": "surface"
           }
          ],
          "table": [
           {
            "cells": {
             "fill": {
              "color": "#EBF0F8"
             },
             "line": {
              "color": "white"
             }
            },
            "header": {
             "fill": {
              "color": "#C8D4E3"
             },
             "line": {
              "color": "white"
             }
            },
            "type": "table"
           }
          ]
         },
         "layout": {
          "annotationdefaults": {
           "arrowcolor": "#2a3f5f",
           "arrowhead": 0,
           "arrowwidth": 1
          },
          "autotypenumbers": "strict",
          "coloraxis": {
           "colorbar": {
            "outlinewidth": 0,
            "ticks": ""
           }
          },
          "colorscale": {
           "diverging": [
            [
             0,
             "#8e0152"
            ],
            [
             0.1,
             "#c51b7d"
            ],
            [
             0.2,
             "#de77ae"
            ],
            [
             0.3,
             "#f1b6da"
            ],
            [
             0.4,
             "#fde0ef"
            ],
            [
             0.5,
             "#f7f7f7"
            ],
            [
             0.6,
             "#e6f5d0"
            ],
            [
             0.7,
             "#b8e186"
            ],
            [
             0.8,
             "#7fbc41"
            ],
            [
             0.9,
             "#4d9221"
            ],
            [
             1,
             "#276419"
            ]
           ],
           "sequential": [
            [
             0,
             "#0d0887"
            ],
            [
             0.1111111111111111,
             "#46039f"
            ],
            [
             0.2222222222222222,
             "#7201a8"
            ],
            [
             0.3333333333333333,
             "#9c179e"
            ],
            [
             0.4444444444444444,
             "#bd3786"
            ],
            [
             0.5555555555555556,
             "#d8576b"
            ],
            [
             0.6666666666666666,
             "#ed7953"
            ],
            [
             0.7777777777777778,
             "#fb9f3a"
            ],
            [
             0.8888888888888888,
             "#fdca26"
            ],
            [
             1,
             "#f0f921"
            ]
           ],
           "sequentialminus": [
            [
             0,
             "#0d0887"
            ],
            [
             0.1111111111111111,
             "#46039f"
            ],
            [
             0.2222222222222222,
             "#7201a8"
            ],
            [
             0.3333333333333333,
             "#9c179e"
            ],
            [
             0.4444444444444444,
             "#bd3786"
            ],
            [
             0.5555555555555556,
             "#d8576b"
            ],
            [
             0.6666666666666666,
             "#ed7953"
            ],
            [
             0.7777777777777778,
             "#fb9f3a"
            ],
            [
             0.8888888888888888,
             "#fdca26"
            ],
            [
             1,
             "#f0f921"
            ]
           ]
          },
          "colorway": [
           "#636efa",
           "#EF553B",
           "#00cc96",
           "#ab63fa",
           "#FFA15A",
           "#19d3f3",
           "#FF6692",
           "#B6E880",
           "#FF97FF",
           "#FECB52"
          ],
          "font": {
           "color": "#2a3f5f"
          },
          "geo": {
           "bgcolor": "white",
           "lakecolor": "white",
           "landcolor": "#E5ECF6",
           "showlakes": true,
           "showland": true,
           "subunitcolor": "white"
          },
          "hoverlabel": {
           "align": "left"
          },
          "hovermode": "closest",
          "mapbox": {
           "style": "light"
          },
          "paper_bgcolor": "white",
          "plot_bgcolor": "#E5ECF6",
          "polar": {
           "angularaxis": {
            "gridcolor": "white",
            "linecolor": "white",
            "ticks": ""
           },
           "bgcolor": "#E5ECF6",
           "radialaxis": {
            "gridcolor": "white",
            "linecolor": "white",
            "ticks": ""
           }
          },
          "scene": {
           "xaxis": {
            "backgroundcolor": "#E5ECF6",
            "gridcolor": "white",
            "gridwidth": 2,
            "linecolor": "white",
            "showbackground": true,
            "ticks": "",
            "zerolinecolor": "white"
           },
           "yaxis": {
            "backgroundcolor": "#E5ECF6",
            "gridcolor": "white",
            "gridwidth": 2,
            "linecolor": "white",
            "showbackground": true,
            "ticks": "",
            "zerolinecolor": "white"
           },
           "zaxis": {
            "backgroundcolor": "#E5ECF6",
            "gridcolor": "white",
            "gridwidth": 2,
            "linecolor": "white",
            "showbackground": true,
            "ticks": "",
            "zerolinecolor": "white"
           }
          },
          "shapedefaults": {
           "line": {
            "color": "#2a3f5f"
           }
          },
          "ternary": {
           "aaxis": {
            "gridcolor": "white",
            "linecolor": "white",
            "ticks": ""
           },
           "baxis": {
            "gridcolor": "white",
            "linecolor": "white",
            "ticks": ""
           },
           "bgcolor": "#E5ECF6",
           "caxis": {
            "gridcolor": "white",
            "linecolor": "white",
            "ticks": ""
           }
          },
          "title": {
           "x": 0.05
          },
          "xaxis": {
           "automargin": true,
           "gridcolor": "white",
           "linecolor": "white",
           "ticks": "",
           "title": {
            "standoff": 15
           },
           "zerolinecolor": "white",
           "zerolinewidth": 2
          },
          "yaxis": {
           "automargin": true,
           "gridcolor": "white",
           "linecolor": "white",
           "ticks": "",
           "title": {
            "standoff": 15
           },
           "zerolinecolor": "white",
           "zerolinewidth": 2
          }
         }
        },
        "xaxis": {
         "anchor": "y",
         "domain": [
          0,
          1
         ],
         "title": {
          "text": "x"
         }
        },
        "yaxis": {
         "anchor": "x",
         "domain": [
          0,
          1
         ],
         "title": {
          "text": "y"
         }
        }
       }
      }
     },
     "metadata": {},
     "output_type": "display_data"
    }
   ],
   "source": [
    "import plotly.express as px\n",
    "px.line(x=[str(k) for k in metricDf[\"feature_names\"]], y=metricDf[\"avg_score\"])"
   ]
  },
  {
   "cell_type": "markdown",
   "metadata": {},
   "source": [
    "### Regression Example"
   ]
  },
  {
   "cell_type": "code",
   "execution_count": 10,
   "metadata": {},
   "outputs": [
    {
     "data": {
      "text/html": [
       "<div>\n",
       "<style scoped>\n",
       "    .dataframe tbody tr th:only-of-type {\n",
       "        vertical-align: middle;\n",
       "    }\n",
       "\n",
       "    .dataframe tbody tr th {\n",
       "        vertical-align: top;\n",
       "    }\n",
       "\n",
       "    .dataframe thead th {\n",
       "        text-align: right;\n",
       "    }\n",
       "</style>\n",
       "<table border=\"1\" class=\"dataframe\">\n",
       "  <thead>\n",
       "    <tr style=\"text-align: right;\">\n",
       "      <th></th>\n",
       "      <th>crim</th>\n",
       "      <th>zn</th>\n",
       "      <th>indus</th>\n",
       "      <th>chas</th>\n",
       "      <th>nox</th>\n",
       "      <th>rm</th>\n",
       "      <th>age</th>\n",
       "      <th>dis</th>\n",
       "      <th>rad</th>\n",
       "      <th>tax</th>\n",
       "      <th>ptratio</th>\n",
       "      <th>b</th>\n",
       "      <th>lstat</th>\n",
       "      <th>medv</th>\n",
       "    </tr>\n",
       "  </thead>\n",
       "  <tbody>\n",
       "    <tr>\n",
       "      <th>0</th>\n",
       "      <td>0.00632</td>\n",
       "      <td>18.0</td>\n",
       "      <td>2.31</td>\n",
       "      <td>0</td>\n",
       "      <td>0.538</td>\n",
       "      <td>6.575</td>\n",
       "      <td>65.2</td>\n",
       "      <td>4.0900</td>\n",
       "      <td>1</td>\n",
       "      <td>296</td>\n",
       "      <td>15.3</td>\n",
       "      <td>396.90</td>\n",
       "      <td>4.98</td>\n",
       "      <td>24.0</td>\n",
       "    </tr>\n",
       "    <tr>\n",
       "      <th>1</th>\n",
       "      <td>0.02731</td>\n",
       "      <td>0.0</td>\n",
       "      <td>7.07</td>\n",
       "      <td>0</td>\n",
       "      <td>0.469</td>\n",
       "      <td>6.421</td>\n",
       "      <td>78.9</td>\n",
       "      <td>4.9671</td>\n",
       "      <td>2</td>\n",
       "      <td>242</td>\n",
       "      <td>17.8</td>\n",
       "      <td>396.90</td>\n",
       "      <td>9.14</td>\n",
       "      <td>21.6</td>\n",
       "    </tr>\n",
       "    <tr>\n",
       "      <th>2</th>\n",
       "      <td>0.02729</td>\n",
       "      <td>0.0</td>\n",
       "      <td>7.07</td>\n",
       "      <td>0</td>\n",
       "      <td>0.469</td>\n",
       "      <td>7.185</td>\n",
       "      <td>61.1</td>\n",
       "      <td>4.9671</td>\n",
       "      <td>2</td>\n",
       "      <td>242</td>\n",
       "      <td>17.8</td>\n",
       "      <td>392.83</td>\n",
       "      <td>4.03</td>\n",
       "      <td>34.7</td>\n",
       "    </tr>\n",
       "    <tr>\n",
       "      <th>3</th>\n",
       "      <td>0.03237</td>\n",
       "      <td>0.0</td>\n",
       "      <td>2.18</td>\n",
       "      <td>0</td>\n",
       "      <td>0.458</td>\n",
       "      <td>6.998</td>\n",
       "      <td>45.8</td>\n",
       "      <td>6.0622</td>\n",
       "      <td>3</td>\n",
       "      <td>222</td>\n",
       "      <td>18.7</td>\n",
       "      <td>394.63</td>\n",
       "      <td>2.94</td>\n",
       "      <td>33.4</td>\n",
       "    </tr>\n",
       "    <tr>\n",
       "      <th>4</th>\n",
       "      <td>0.06905</td>\n",
       "      <td>0.0</td>\n",
       "      <td>2.18</td>\n",
       "      <td>0</td>\n",
       "      <td>0.458</td>\n",
       "      <td>7.147</td>\n",
       "      <td>54.2</td>\n",
       "      <td>6.0622</td>\n",
       "      <td>3</td>\n",
       "      <td>222</td>\n",
       "      <td>18.7</td>\n",
       "      <td>396.90</td>\n",
       "      <td>5.33</td>\n",
       "      <td>36.2</td>\n",
       "    </tr>\n",
       "    <tr>\n",
       "      <th>...</th>\n",
       "      <td>...</td>\n",
       "      <td>...</td>\n",
       "      <td>...</td>\n",
       "      <td>...</td>\n",
       "      <td>...</td>\n",
       "      <td>...</td>\n",
       "      <td>...</td>\n",
       "      <td>...</td>\n",
       "      <td>...</td>\n",
       "      <td>...</td>\n",
       "      <td>...</td>\n",
       "      <td>...</td>\n",
       "      <td>...</td>\n",
       "      <td>...</td>\n",
       "    </tr>\n",
       "    <tr>\n",
       "      <th>501</th>\n",
       "      <td>0.06263</td>\n",
       "      <td>0.0</td>\n",
       "      <td>11.93</td>\n",
       "      <td>0</td>\n",
       "      <td>0.573</td>\n",
       "      <td>6.593</td>\n",
       "      <td>69.1</td>\n",
       "      <td>2.4786</td>\n",
       "      <td>1</td>\n",
       "      <td>273</td>\n",
       "      <td>21.0</td>\n",
       "      <td>391.99</td>\n",
       "      <td>9.67</td>\n",
       "      <td>22.4</td>\n",
       "    </tr>\n",
       "    <tr>\n",
       "      <th>502</th>\n",
       "      <td>0.04527</td>\n",
       "      <td>0.0</td>\n",
       "      <td>11.93</td>\n",
       "      <td>0</td>\n",
       "      <td>0.573</td>\n",
       "      <td>6.120</td>\n",
       "      <td>76.7</td>\n",
       "      <td>2.2875</td>\n",
       "      <td>1</td>\n",
       "      <td>273</td>\n",
       "      <td>21.0</td>\n",
       "      <td>396.90</td>\n",
       "      <td>9.08</td>\n",
       "      <td>20.6</td>\n",
       "    </tr>\n",
       "    <tr>\n",
       "      <th>503</th>\n",
       "      <td>0.06076</td>\n",
       "      <td>0.0</td>\n",
       "      <td>11.93</td>\n",
       "      <td>0</td>\n",
       "      <td>0.573</td>\n",
       "      <td>6.976</td>\n",
       "      <td>91.0</td>\n",
       "      <td>2.1675</td>\n",
       "      <td>1</td>\n",
       "      <td>273</td>\n",
       "      <td>21.0</td>\n",
       "      <td>396.90</td>\n",
       "      <td>5.64</td>\n",
       "      <td>23.9</td>\n",
       "    </tr>\n",
       "    <tr>\n",
       "      <th>504</th>\n",
       "      <td>0.10959</td>\n",
       "      <td>0.0</td>\n",
       "      <td>11.93</td>\n",
       "      <td>0</td>\n",
       "      <td>0.573</td>\n",
       "      <td>6.794</td>\n",
       "      <td>89.3</td>\n",
       "      <td>2.3889</td>\n",
       "      <td>1</td>\n",
       "      <td>273</td>\n",
       "      <td>21.0</td>\n",
       "      <td>393.45</td>\n",
       "      <td>6.48</td>\n",
       "      <td>22.0</td>\n",
       "    </tr>\n",
       "    <tr>\n",
       "      <th>505</th>\n",
       "      <td>0.04741</td>\n",
       "      <td>0.0</td>\n",
       "      <td>11.93</td>\n",
       "      <td>0</td>\n",
       "      <td>0.573</td>\n",
       "      <td>6.030</td>\n",
       "      <td>80.8</td>\n",
       "      <td>2.5050</td>\n",
       "      <td>1</td>\n",
       "      <td>273</td>\n",
       "      <td>21.0</td>\n",
       "      <td>396.90</td>\n",
       "      <td>7.88</td>\n",
       "      <td>11.9</td>\n",
       "    </tr>\n",
       "  </tbody>\n",
       "</table>\n",
       "<p>506 rows × 14 columns</p>\n",
       "</div>"
      ],
      "text/plain": [
       "        crim    zn  indus  chas    nox     rm   age     dis  rad  tax  \\\n",
       "0    0.00632  18.0   2.31     0  0.538  6.575  65.2  4.0900    1  296   \n",
       "1    0.02731   0.0   7.07     0  0.469  6.421  78.9  4.9671    2  242   \n",
       "2    0.02729   0.0   7.07     0  0.469  7.185  61.1  4.9671    2  242   \n",
       "3    0.03237   0.0   2.18     0  0.458  6.998  45.8  6.0622    3  222   \n",
       "4    0.06905   0.0   2.18     0  0.458  7.147  54.2  6.0622    3  222   \n",
       "..       ...   ...    ...   ...    ...    ...   ...     ...  ...  ...   \n",
       "501  0.06263   0.0  11.93     0  0.573  6.593  69.1  2.4786    1  273   \n",
       "502  0.04527   0.0  11.93     0  0.573  6.120  76.7  2.2875    1  273   \n",
       "503  0.06076   0.0  11.93     0  0.573  6.976  91.0  2.1675    1  273   \n",
       "504  0.10959   0.0  11.93     0  0.573  6.794  89.3  2.3889    1  273   \n",
       "505  0.04741   0.0  11.93     0  0.573  6.030  80.8  2.5050    1  273   \n",
       "\n",
       "     ptratio       b  lstat  medv   \n",
       "0       15.3  396.90   4.98   24.0  \n",
       "1       17.8  396.90   9.14   21.6  \n",
       "2       17.8  392.83   4.03   34.7  \n",
       "3       18.7  394.63   2.94   33.4  \n",
       "4       18.7  396.90   5.33   36.2  \n",
       "..       ...     ...    ...    ...  \n",
       "501     21.0  391.99   9.67   22.4  \n",
       "502     21.0  396.90   9.08   20.6  \n",
       "503     21.0  396.90   5.64   23.9  \n",
       "504     21.0  393.45   6.48   22.0  \n",
       "505     21.0  396.90   7.88   11.9  \n",
       "\n",
       "[506 rows x 14 columns]"
      ]
     },
     "execution_count": 10,
     "metadata": {},
     "output_type": "execute_result"
    }
   ],
   "source": [
    "df = pd.read_csv(r\"The Data\\BostonHousing.csv\")\n",
    "df"
   ]
  },
  {
   "cell_type": "code",
   "execution_count": 11,
   "metadata": {},
   "outputs": [],
   "source": [
    "from sklearn.model_selection import train_test_split\n",
    "\n",
    "xTrain, xTest, yTrain, yTest = train_test_split(\n",
    "    df.iloc[:, :-1], df.iloc[:, -1], test_size=0.2, random_state=1)"
   ]
  },
  {
   "cell_type": "code",
   "execution_count": 12,
   "metadata": {},
   "outputs": [
    {
     "data": {
      "text/plain": [
       "((404, 13), (102, 13))"
      ]
     },
     "execution_count": 12,
     "metadata": {},
     "output_type": "execute_result"
    }
   ],
   "source": [
    "xTrain.shape, xTest.shape"
   ]
  },
  {
   "cell_type": "code",
   "execution_count": 13,
   "metadata": {},
   "outputs": [
    {
     "data": {
      "text/html": [
       "<div>\n",
       "<style scoped>\n",
       "    .dataframe tbody tr th:only-of-type {\n",
       "        vertical-align: middle;\n",
       "    }\n",
       "\n",
       "    .dataframe tbody tr th {\n",
       "        vertical-align: top;\n",
       "    }\n",
       "\n",
       "    .dataframe thead th {\n",
       "        text-align: right;\n",
       "    }\n",
       "</style>\n",
       "<table border=\"1\" class=\"dataframe\">\n",
       "  <thead>\n",
       "    <tr style=\"text-align: right;\">\n",
       "      <th></th>\n",
       "      <th>crim</th>\n",
       "      <th>zn</th>\n",
       "      <th>indus</th>\n",
       "      <th>chas</th>\n",
       "      <th>nox</th>\n",
       "      <th>rm</th>\n",
       "      <th>age</th>\n",
       "      <th>dis</th>\n",
       "      <th>rad</th>\n",
       "      <th>tax</th>\n",
       "      <th>ptratio</th>\n",
       "      <th>b</th>\n",
       "      <th>lstat</th>\n",
       "    </tr>\n",
       "  </thead>\n",
       "  <tbody>\n",
       "    <tr>\n",
       "      <th>42</th>\n",
       "      <td>0.14150</td>\n",
       "      <td>0.0</td>\n",
       "      <td>6.91</td>\n",
       "      <td>0</td>\n",
       "      <td>0.448</td>\n",
       "      <td>6.169</td>\n",
       "      <td>6.6</td>\n",
       "      <td>5.7209</td>\n",
       "      <td>3</td>\n",
       "      <td>233</td>\n",
       "      <td>17.9</td>\n",
       "      <td>383.37</td>\n",
       "      <td>5.81</td>\n",
       "    </tr>\n",
       "    <tr>\n",
       "      <th>58</th>\n",
       "      <td>0.15445</td>\n",
       "      <td>25.0</td>\n",
       "      <td>5.13</td>\n",
       "      <td>0</td>\n",
       "      <td>0.453</td>\n",
       "      <td>6.145</td>\n",
       "      <td>29.2</td>\n",
       "      <td>7.8148</td>\n",
       "      <td>8</td>\n",
       "      <td>284</td>\n",
       "      <td>19.7</td>\n",
       "      <td>390.68</td>\n",
       "      <td>6.86</td>\n",
       "    </tr>\n",
       "    <tr>\n",
       "      <th>385</th>\n",
       "      <td>16.81180</td>\n",
       "      <td>0.0</td>\n",
       "      <td>18.10</td>\n",
       "      <td>0</td>\n",
       "      <td>0.700</td>\n",
       "      <td>5.277</td>\n",
       "      <td>98.1</td>\n",
       "      <td>1.4261</td>\n",
       "      <td>24</td>\n",
       "      <td>666</td>\n",
       "      <td>20.2</td>\n",
       "      <td>396.90</td>\n",
       "      <td>30.81</td>\n",
       "    </tr>\n",
       "    <tr>\n",
       "      <th>78</th>\n",
       "      <td>0.05646</td>\n",
       "      <td>0.0</td>\n",
       "      <td>12.83</td>\n",
       "      <td>0</td>\n",
       "      <td>0.437</td>\n",
       "      <td>6.232</td>\n",
       "      <td>53.7</td>\n",
       "      <td>5.0141</td>\n",
       "      <td>5</td>\n",
       "      <td>398</td>\n",
       "      <td>18.7</td>\n",
       "      <td>386.40</td>\n",
       "      <td>12.34</td>\n",
       "    </tr>\n",
       "    <tr>\n",
       "      <th>424</th>\n",
       "      <td>8.79212</td>\n",
       "      <td>0.0</td>\n",
       "      <td>18.10</td>\n",
       "      <td>0</td>\n",
       "      <td>0.584</td>\n",
       "      <td>5.565</td>\n",
       "      <td>70.6</td>\n",
       "      <td>2.0635</td>\n",
       "      <td>24</td>\n",
       "      <td>666</td>\n",
       "      <td>20.2</td>\n",
       "      <td>3.65</td>\n",
       "      <td>17.16</td>\n",
       "    </tr>\n",
       "    <tr>\n",
       "      <th>...</th>\n",
       "      <td>...</td>\n",
       "      <td>...</td>\n",
       "      <td>...</td>\n",
       "      <td>...</td>\n",
       "      <td>...</td>\n",
       "      <td>...</td>\n",
       "      <td>...</td>\n",
       "      <td>...</td>\n",
       "      <td>...</td>\n",
       "      <td>...</td>\n",
       "      <td>...</td>\n",
       "      <td>...</td>\n",
       "      <td>...</td>\n",
       "    </tr>\n",
       "    <tr>\n",
       "      <th>255</th>\n",
       "      <td>0.03548</td>\n",
       "      <td>80.0</td>\n",
       "      <td>3.64</td>\n",
       "      <td>0</td>\n",
       "      <td>0.392</td>\n",
       "      <td>5.876</td>\n",
       "      <td>19.1</td>\n",
       "      <td>9.2203</td>\n",
       "      <td>1</td>\n",
       "      <td>315</td>\n",
       "      <td>16.4</td>\n",
       "      <td>395.18</td>\n",
       "      <td>9.25</td>\n",
       "    </tr>\n",
       "    <tr>\n",
       "      <th>72</th>\n",
       "      <td>0.09164</td>\n",
       "      <td>0.0</td>\n",
       "      <td>10.81</td>\n",
       "      <td>0</td>\n",
       "      <td>0.413</td>\n",
       "      <td>6.065</td>\n",
       "      <td>7.8</td>\n",
       "      <td>5.2873</td>\n",
       "      <td>4</td>\n",
       "      <td>305</td>\n",
       "      <td>19.2</td>\n",
       "      <td>390.91</td>\n",
       "      <td>5.52</td>\n",
       "    </tr>\n",
       "    <tr>\n",
       "      <th>396</th>\n",
       "      <td>5.87205</td>\n",
       "      <td>0.0</td>\n",
       "      <td>18.10</td>\n",
       "      <td>0</td>\n",
       "      <td>0.693</td>\n",
       "      <td>6.405</td>\n",
       "      <td>96.0</td>\n",
       "      <td>1.6768</td>\n",
       "      <td>24</td>\n",
       "      <td>666</td>\n",
       "      <td>20.2</td>\n",
       "      <td>396.90</td>\n",
       "      <td>19.37</td>\n",
       "    </tr>\n",
       "    <tr>\n",
       "      <th>235</th>\n",
       "      <td>0.33045</td>\n",
       "      <td>0.0</td>\n",
       "      <td>6.20</td>\n",
       "      <td>0</td>\n",
       "      <td>0.507</td>\n",
       "      <td>6.086</td>\n",
       "      <td>61.5</td>\n",
       "      <td>3.6519</td>\n",
       "      <td>8</td>\n",
       "      <td>307</td>\n",
       "      <td>17.4</td>\n",
       "      <td>376.75</td>\n",
       "      <td>10.88</td>\n",
       "    </tr>\n",
       "    <tr>\n",
       "      <th>37</th>\n",
       "      <td>0.08014</td>\n",
       "      <td>0.0</td>\n",
       "      <td>5.96</td>\n",
       "      <td>0</td>\n",
       "      <td>0.499</td>\n",
       "      <td>5.850</td>\n",
       "      <td>41.5</td>\n",
       "      <td>3.9342</td>\n",
       "      <td>5</td>\n",
       "      <td>279</td>\n",
       "      <td>19.2</td>\n",
       "      <td>396.90</td>\n",
       "      <td>8.77</td>\n",
       "    </tr>\n",
       "  </tbody>\n",
       "</table>\n",
       "<p>404 rows × 13 columns</p>\n",
       "</div>"
      ],
      "text/plain": [
       "         crim    zn  indus  chas    nox     rm   age     dis  rad  tax  \\\n",
       "42    0.14150   0.0   6.91     0  0.448  6.169   6.6  5.7209    3  233   \n",
       "58    0.15445  25.0   5.13     0  0.453  6.145  29.2  7.8148    8  284   \n",
       "385  16.81180   0.0  18.10     0  0.700  5.277  98.1  1.4261   24  666   \n",
       "78    0.05646   0.0  12.83     0  0.437  6.232  53.7  5.0141    5  398   \n",
       "424   8.79212   0.0  18.10     0  0.584  5.565  70.6  2.0635   24  666   \n",
       "..        ...   ...    ...   ...    ...    ...   ...     ...  ...  ...   \n",
       "255   0.03548  80.0   3.64     0  0.392  5.876  19.1  9.2203    1  315   \n",
       "72    0.09164   0.0  10.81     0  0.413  6.065   7.8  5.2873    4  305   \n",
       "396   5.87205   0.0  18.10     0  0.693  6.405  96.0  1.6768   24  666   \n",
       "235   0.33045   0.0   6.20     0  0.507  6.086  61.5  3.6519    8  307   \n",
       "37    0.08014   0.0   5.96     0  0.499  5.850  41.5  3.9342    5  279   \n",
       "\n",
       "     ptratio       b  lstat  \n",
       "42      17.9  383.37   5.81  \n",
       "58      19.7  390.68   6.86  \n",
       "385     20.2  396.90  30.81  \n",
       "78      18.7  386.40  12.34  \n",
       "424     20.2    3.65  17.16  \n",
       "..       ...     ...    ...  \n",
       "255     16.4  395.18   9.25  \n",
       "72      19.2  390.91   5.52  \n",
       "396     20.2  396.90  19.37  \n",
       "235     17.4  376.75  10.88  \n",
       "37      19.2  396.90   8.77  \n",
       "\n",
       "[404 rows x 13 columns]"
      ]
     },
     "execution_count": 13,
     "metadata": {},
     "output_type": "execute_result"
    }
   ],
   "source": [
    "xTrain"
   ]
  },
  {
   "cell_type": "code",
   "execution_count": 14,
   "metadata": {},
   "outputs": [],
   "source": [
    "from sklearn.preprocessing import StandardScaler\n",
    "\n",
    "sc = StandardScaler()\n",
    "xTrain = sc.fit_transform(xTrain)\n",
    "xTest = sc.transform(xTest)"
   ]
  },
  {
   "cell_type": "code",
   "execution_count": 15,
   "metadata": {},
   "outputs": [
    {
     "name": "stdout",
     "output_type": "stream",
     "text": [
      "Training 0.7025123301096213\n",
      "Testing 0.6514899901155404\n"
     ]
    }
   ],
   "source": [
    "import numpy as np\n",
    "from sklearn.metrics import r2_score\n",
    "model = LinearRegression()\n",
    "\n",
    "print(\"Training\", np.mean(cross_val_score(\n",
    "    model, xTrain, yTrain, cv=5, scoring=\"r2\")))\n",
    "print(\"Testing\", np.mean(cross_val_score(model, xTest, yTest, cv=5, scoring=\"r2\")))"
   ]
  },
  {
   "cell_type": "code",
   "execution_count": 16,
   "metadata": {},
   "outputs": [
    {
     "name": "stderr",
     "output_type": "stream",
     "text": [
      "Features: 8191/8191"
     ]
    }
   ],
   "source": [
    "lr = LinearRegression()\n",
    "exh = EFS(lr, max_features=13, scoring=\"r2\",\n",
    "          cv=10, print_progress=True, n_jobs=-1)\n",
    "sel = exh.fit(xTrain, yTrain)"
   ]
  },
  {
   "cell_type": "code",
   "execution_count": 17,
   "metadata": {},
   "outputs": [
    {
     "data": {
      "text/plain": [
       "0.6827988156800063"
      ]
     },
     "execution_count": 17,
     "metadata": {},
     "output_type": "execute_result"
    }
   ],
   "source": [
    "sel.best_score_"
   ]
  },
  {
   "cell_type": "code",
   "execution_count": 18,
   "metadata": {},
   "outputs": [
    {
     "data": {
      "text/plain": [
       "('0', '1', '4', '5', '7', '8', '9', '10', '11', '12')"
      ]
     },
     "execution_count": 18,
     "metadata": {},
     "output_type": "execute_result"
    }
   ],
   "source": [
    "sel.best_feature_names_"
   ]
  },
  {
   "cell_type": "code",
   "execution_count": 19,
   "metadata": {},
   "outputs": [
    {
     "data": {
      "text/html": [
       "<div>\n",
       "<style scoped>\n",
       "    .dataframe tbody tr th:only-of-type {\n",
       "        vertical-align: middle;\n",
       "    }\n",
       "\n",
       "    .dataframe tbody tr th {\n",
       "        vertical-align: top;\n",
       "    }\n",
       "\n",
       "    .dataframe thead th {\n",
       "        text-align: right;\n",
       "    }\n",
       "</style>\n",
       "<table border=\"1\" class=\"dataframe\">\n",
       "  <thead>\n",
       "    <tr style=\"text-align: right;\">\n",
       "      <th></th>\n",
       "      <th>feature_idx</th>\n",
       "      <th>cv_scores</th>\n",
       "      <th>avg_score</th>\n",
       "      <th>feature_names</th>\n",
       "      <th>ci_bound</th>\n",
       "      <th>std_dev</th>\n",
       "      <th>std_err</th>\n",
       "    </tr>\n",
       "  </thead>\n",
       "  <tbody>\n",
       "    <tr>\n",
       "      <th>0</th>\n",
       "      <td>(0,)</td>\n",
       "      <td>[0.03941987916919132, 0.12695789031653215, -0....</td>\n",
       "      <td>0.129009</td>\n",
       "      <td>(0,)</td>\n",
       "      <td>0.064226</td>\n",
       "      <td>0.086475</td>\n",
       "      <td>0.028825</td>\n",
       "    </tr>\n",
       "    <tr>\n",
       "      <th>1</th>\n",
       "      <td>(1,)</td>\n",
       "      <td>[0.14236716209182754, -0.10598329567838705, 0....</td>\n",
       "      <td>0.100963</td>\n",
       "      <td>(1,)</td>\n",
       "      <td>0.076751</td>\n",
       "      <td>0.103339</td>\n",
       "      <td>0.034446</td>\n",
       "    </tr>\n",
       "    <tr>\n",
       "      <th>2</th>\n",
       "      <td>(2,)</td>\n",
       "      <td>[0.4055276765549376, 0.0029283993633670846, -0...</td>\n",
       "      <td>0.210465</td>\n",
       "      <td>(2,)</td>\n",
       "      <td>0.139709</td>\n",
       "      <td>0.188107</td>\n",
       "      <td>0.062702</td>\n",
       "    </tr>\n",
       "    <tr>\n",
       "      <th>3</th>\n",
       "      <td>(3,)</td>\n",
       "      <td>[-0.07110886674980432, -0.08269807310551558, 0...</td>\n",
       "      <td>-0.025663</td>\n",
       "      <td>(3,)</td>\n",
       "      <td>0.055426</td>\n",
       "      <td>0.074627</td>\n",
       "      <td>0.024876</td>\n",
       "    </tr>\n",
       "    <tr>\n",
       "      <th>4</th>\n",
       "      <td>(4,)</td>\n",
       "      <td>[0.18869831316675, 0.03113193162308736, 0.0348...</td>\n",
       "      <td>0.17746</td>\n",
       "      <td>(4,)</td>\n",
       "      <td>0.114827</td>\n",
       "      <td>0.154605</td>\n",
       "      <td>0.051535</td>\n",
       "    </tr>\n",
       "    <tr>\n",
       "      <th>...</th>\n",
       "      <td>...</td>\n",
       "      <td>...</td>\n",
       "      <td>...</td>\n",
       "      <td>...</td>\n",
       "      <td>...</td>\n",
       "      <td>...</td>\n",
       "      <td>...</td>\n",
       "    </tr>\n",
       "    <tr>\n",
       "      <th>8186</th>\n",
       "      <td>(0, 1, 2, 4, 5, 6, 7, 8, 9, 10, 11, 12)</td>\n",
       "      <td>[0.8791441026861514, 0.576226384714265, 0.4354...</td>\n",
       "      <td>0.679213</td>\n",
       "      <td>(0, 1, 2, 4, 5, 6, 7, 8, 9, 10, 11, 12)</td>\n",
       "      <td>0.096133</td>\n",
       "      <td>0.129436</td>\n",
       "      <td>0.043145</td>\n",
       "    </tr>\n",
       "    <tr>\n",
       "      <th>8187</th>\n",
       "      <td>(0, 1, 3, 4, 5, 6, 7, 8, 9, 10, 11, 12)</td>\n",
       "      <td>[0.8731761731752511, 0.5384374917854684, 0.458...</td>\n",
       "      <td>0.679018</td>\n",
       "      <td>(0, 1, 3, 4, 5, 6, 7, 8, 9, 10, 11, 12)</td>\n",
       "      <td>0.098986</td>\n",
       "      <td>0.133276</td>\n",
       "      <td>0.044425</td>\n",
       "    </tr>\n",
       "    <tr>\n",
       "      <th>8188</th>\n",
       "      <td>(0, 2, 3, 4, 5, 6, 7, 8, 9, 10, 11, 12)</td>\n",
       "      <td>[0.8494627278072393, 0.5454006150975994, 0.444...</td>\n",
       "      <td>0.66547</td>\n",
       "      <td>(0, 2, 3, 4, 5, 6, 7, 8, 9, 10, 11, 12)</td>\n",
       "      <td>0.099036</td>\n",
       "      <td>0.133343</td>\n",
       "      <td>0.044448</td>\n",
       "    </tr>\n",
       "    <tr>\n",
       "      <th>8189</th>\n",
       "      <td>(1, 2, 3, 4, 5, 6, 7, 8, 9, 10, 11, 12)</td>\n",
       "      <td>[0.8358451877451422, 0.5448662375728606, 0.449...</td>\n",
       "      <td>0.670075</td>\n",
       "      <td>(1, 2, 3, 4, 5, 6, 7, 8, 9, 10, 11, 12)</td>\n",
       "      <td>0.094633</td>\n",
       "      <td>0.127415</td>\n",
       "      <td>0.042472</td>\n",
       "    </tr>\n",
       "    <tr>\n",
       "      <th>8190</th>\n",
       "      <td>(0, 1, 2, 3, 4, 5, 6, 7, 8, 9, 10, 11, 12)</td>\n",
       "      <td>[0.8674059553865395, 0.5385295808629285, 0.458...</td>\n",
       "      <td>0.677417</td>\n",
       "      <td>(0, 1, 2, 3, 4, 5, 6, 7, 8, 9, 10, 11, 12)</td>\n",
       "      <td>0.098114</td>\n",
       "      <td>0.132102</td>\n",
       "      <td>0.044034</td>\n",
       "    </tr>\n",
       "  </tbody>\n",
       "</table>\n",
       "<p>8191 rows × 7 columns</p>\n",
       "</div>"
      ],
      "text/plain": [
       "                                     feature_idx  \\\n",
       "0                                           (0,)   \n",
       "1                                           (1,)   \n",
       "2                                           (2,)   \n",
       "3                                           (3,)   \n",
       "4                                           (4,)   \n",
       "...                                          ...   \n",
       "8186     (0, 1, 2, 4, 5, 6, 7, 8, 9, 10, 11, 12)   \n",
       "8187     (0, 1, 3, 4, 5, 6, 7, 8, 9, 10, 11, 12)   \n",
       "8188     (0, 2, 3, 4, 5, 6, 7, 8, 9, 10, 11, 12)   \n",
       "8189     (1, 2, 3, 4, 5, 6, 7, 8, 9, 10, 11, 12)   \n",
       "8190  (0, 1, 2, 3, 4, 5, 6, 7, 8, 9, 10, 11, 12)   \n",
       "\n",
       "                                              cv_scores avg_score  \\\n",
       "0     [0.03941987916919132, 0.12695789031653215, -0....  0.129009   \n",
       "1     [0.14236716209182754, -0.10598329567838705, 0....  0.100963   \n",
       "2     [0.4055276765549376, 0.0029283993633670846, -0...  0.210465   \n",
       "3     [-0.07110886674980432, -0.08269807310551558, 0... -0.025663   \n",
       "4     [0.18869831316675, 0.03113193162308736, 0.0348...   0.17746   \n",
       "...                                                 ...       ...   \n",
       "8186  [0.8791441026861514, 0.576226384714265, 0.4354...  0.679213   \n",
       "8187  [0.8731761731752511, 0.5384374917854684, 0.458...  0.679018   \n",
       "8188  [0.8494627278072393, 0.5454006150975994, 0.444...   0.66547   \n",
       "8189  [0.8358451877451422, 0.5448662375728606, 0.449...  0.670075   \n",
       "8190  [0.8674059553865395, 0.5385295808629285, 0.458...  0.677417   \n",
       "\n",
       "                                   feature_names  ci_bound   std_dev   std_err  \n",
       "0                                           (0,)  0.064226  0.086475  0.028825  \n",
       "1                                           (1,)  0.076751  0.103339  0.034446  \n",
       "2                                           (2,)  0.139709  0.188107  0.062702  \n",
       "3                                           (3,)  0.055426  0.074627  0.024876  \n",
       "4                                           (4,)  0.114827  0.154605  0.051535  \n",
       "...                                          ...       ...       ...       ...  \n",
       "8186     (0, 1, 2, 4, 5, 6, 7, 8, 9, 10, 11, 12)  0.096133  0.129436  0.043145  \n",
       "8187     (0, 1, 3, 4, 5, 6, 7, 8, 9, 10, 11, 12)  0.098986  0.133276  0.044425  \n",
       "8188     (0, 2, 3, 4, 5, 6, 7, 8, 9, 10, 11, 12)  0.099036  0.133343  0.044448  \n",
       "8189     (1, 2, 3, 4, 5, 6, 7, 8, 9, 10, 11, 12)  0.094633  0.127415  0.042472  \n",
       "8190  (0, 1, 2, 3, 4, 5, 6, 7, 8, 9, 10, 11, 12)  0.098114  0.132102  0.044034  \n",
       "\n",
       "[8191 rows x 7 columns]"
      ]
     },
     "execution_count": 19,
     "metadata": {},
     "output_type": "execute_result"
    }
   ],
   "source": [
    "metricDf = pd.DataFrame(sel.get_metric_dict()).T\n",
    "metricDf"
   ]
  },
  {
   "cell_type": "code",
   "execution_count": 20,
   "metadata": {},
   "outputs": [],
   "source": [
    "def adjusterR2(n, k, r2):\n",
    "    return 1 - ((1-r2)*(n-1))/(n-1-k)"
   ]
  },
  {
   "cell_type": "code",
   "execution_count": 21,
   "metadata": {},
   "outputs": [],
   "source": [
    "metricDf[\"k\"] = metricDf[\"feature_names\"].apply(lambda x: len(x))"
   ]
  },
  {
   "cell_type": "code",
   "execution_count": 22,
   "metadata": {},
   "outputs": [
    {
     "data": {
      "text/html": [
       "<div>\n",
       "<style scoped>\n",
       "    .dataframe tbody tr th:only-of-type {\n",
       "        vertical-align: middle;\n",
       "    }\n",
       "\n",
       "    .dataframe tbody tr th {\n",
       "        vertical-align: top;\n",
       "    }\n",
       "\n",
       "    .dataframe thead th {\n",
       "        text-align: right;\n",
       "    }\n",
       "</style>\n",
       "<table border=\"1\" class=\"dataframe\">\n",
       "  <thead>\n",
       "    <tr style=\"text-align: right;\">\n",
       "      <th></th>\n",
       "      <th>feature_idx</th>\n",
       "      <th>cv_scores</th>\n",
       "      <th>avg_score</th>\n",
       "      <th>feature_names</th>\n",
       "      <th>ci_bound</th>\n",
       "      <th>std_dev</th>\n",
       "      <th>std_err</th>\n",
       "      <th>k</th>\n",
       "    </tr>\n",
       "  </thead>\n",
       "  <tbody>\n",
       "    <tr>\n",
       "      <th>0</th>\n",
       "      <td>(0,)</td>\n",
       "      <td>[0.03941987916919132, 0.12695789031653215, -0....</td>\n",
       "      <td>0.129009</td>\n",
       "      <td>(0,)</td>\n",
       "      <td>0.064226</td>\n",
       "      <td>0.086475</td>\n",
       "      <td>0.028825</td>\n",
       "      <td>1</td>\n",
       "    </tr>\n",
       "    <tr>\n",
       "      <th>1</th>\n",
       "      <td>(1,)</td>\n",
       "      <td>[0.14236716209182754, -0.10598329567838705, 0....</td>\n",
       "      <td>0.100963</td>\n",
       "      <td>(1,)</td>\n",
       "      <td>0.076751</td>\n",
       "      <td>0.103339</td>\n",
       "      <td>0.034446</td>\n",
       "      <td>1</td>\n",
       "    </tr>\n",
       "    <tr>\n",
       "      <th>2</th>\n",
       "      <td>(2,)</td>\n",
       "      <td>[0.4055276765549376, 0.0029283993633670846, -0...</td>\n",
       "      <td>0.210465</td>\n",
       "      <td>(2,)</td>\n",
       "      <td>0.139709</td>\n",
       "      <td>0.188107</td>\n",
       "      <td>0.062702</td>\n",
       "      <td>1</td>\n",
       "    </tr>\n",
       "    <tr>\n",
       "      <th>3</th>\n",
       "      <td>(3,)</td>\n",
       "      <td>[-0.07110886674980432, -0.08269807310551558, 0...</td>\n",
       "      <td>-0.025663</td>\n",
       "      <td>(3,)</td>\n",
       "      <td>0.055426</td>\n",
       "      <td>0.074627</td>\n",
       "      <td>0.024876</td>\n",
       "      <td>1</td>\n",
       "    </tr>\n",
       "    <tr>\n",
       "      <th>4</th>\n",
       "      <td>(4,)</td>\n",
       "      <td>[0.18869831316675, 0.03113193162308736, 0.0348...</td>\n",
       "      <td>0.17746</td>\n",
       "      <td>(4,)</td>\n",
       "      <td>0.114827</td>\n",
       "      <td>0.154605</td>\n",
       "      <td>0.051535</td>\n",
       "      <td>1</td>\n",
       "    </tr>\n",
       "    <tr>\n",
       "      <th>...</th>\n",
       "      <td>...</td>\n",
       "      <td>...</td>\n",
       "      <td>...</td>\n",
       "      <td>...</td>\n",
       "      <td>...</td>\n",
       "      <td>...</td>\n",
       "      <td>...</td>\n",
       "      <td>...</td>\n",
       "    </tr>\n",
       "    <tr>\n",
       "      <th>8186</th>\n",
       "      <td>(0, 1, 2, 4, 5, 6, 7, 8, 9, 10, 11, 12)</td>\n",
       "      <td>[0.8791441026861514, 0.576226384714265, 0.4354...</td>\n",
       "      <td>0.679213</td>\n",
       "      <td>(0, 1, 2, 4, 5, 6, 7, 8, 9, 10, 11, 12)</td>\n",
       "      <td>0.096133</td>\n",
       "      <td>0.129436</td>\n",
       "      <td>0.043145</td>\n",
       "      <td>12</td>\n",
       "    </tr>\n",
       "    <tr>\n",
       "      <th>8187</th>\n",
       "      <td>(0, 1, 3, 4, 5, 6, 7, 8, 9, 10, 11, 12)</td>\n",
       "      <td>[0.8731761731752511, 0.5384374917854684, 0.458...</td>\n",
       "      <td>0.679018</td>\n",
       "      <td>(0, 1, 3, 4, 5, 6, 7, 8, 9, 10, 11, 12)</td>\n",
       "      <td>0.098986</td>\n",
       "      <td>0.133276</td>\n",
       "      <td>0.044425</td>\n",
       "      <td>12</td>\n",
       "    </tr>\n",
       "    <tr>\n",
       "      <th>8188</th>\n",
       "      <td>(0, 2, 3, 4, 5, 6, 7, 8, 9, 10, 11, 12)</td>\n",
       "      <td>[0.8494627278072393, 0.5454006150975994, 0.444...</td>\n",
       "      <td>0.66547</td>\n",
       "      <td>(0, 2, 3, 4, 5, 6, 7, 8, 9, 10, 11, 12)</td>\n",
       "      <td>0.099036</td>\n",
       "      <td>0.133343</td>\n",
       "      <td>0.044448</td>\n",
       "      <td>12</td>\n",
       "    </tr>\n",
       "    <tr>\n",
       "      <th>8189</th>\n",
       "      <td>(1, 2, 3, 4, 5, 6, 7, 8, 9, 10, 11, 12)</td>\n",
       "      <td>[0.8358451877451422, 0.5448662375728606, 0.449...</td>\n",
       "      <td>0.670075</td>\n",
       "      <td>(1, 2, 3, 4, 5, 6, 7, 8, 9, 10, 11, 12)</td>\n",
       "      <td>0.094633</td>\n",
       "      <td>0.127415</td>\n",
       "      <td>0.042472</td>\n",
       "      <td>12</td>\n",
       "    </tr>\n",
       "    <tr>\n",
       "      <th>8190</th>\n",
       "      <td>(0, 1, 2, 3, 4, 5, 6, 7, 8, 9, 10, 11, 12)</td>\n",
       "      <td>[0.8674059553865395, 0.5385295808629285, 0.458...</td>\n",
       "      <td>0.677417</td>\n",
       "      <td>(0, 1, 2, 3, 4, 5, 6, 7, 8, 9, 10, 11, 12)</td>\n",
       "      <td>0.098114</td>\n",
       "      <td>0.132102</td>\n",
       "      <td>0.044034</td>\n",
       "      <td>13</td>\n",
       "    </tr>\n",
       "  </tbody>\n",
       "</table>\n",
       "<p>8191 rows × 8 columns</p>\n",
       "</div>"
      ],
      "text/plain": [
       "                                     feature_idx  \\\n",
       "0                                           (0,)   \n",
       "1                                           (1,)   \n",
       "2                                           (2,)   \n",
       "3                                           (3,)   \n",
       "4                                           (4,)   \n",
       "...                                          ...   \n",
       "8186     (0, 1, 2, 4, 5, 6, 7, 8, 9, 10, 11, 12)   \n",
       "8187     (0, 1, 3, 4, 5, 6, 7, 8, 9, 10, 11, 12)   \n",
       "8188     (0, 2, 3, 4, 5, 6, 7, 8, 9, 10, 11, 12)   \n",
       "8189     (1, 2, 3, 4, 5, 6, 7, 8, 9, 10, 11, 12)   \n",
       "8190  (0, 1, 2, 3, 4, 5, 6, 7, 8, 9, 10, 11, 12)   \n",
       "\n",
       "                                              cv_scores avg_score  \\\n",
       "0     [0.03941987916919132, 0.12695789031653215, -0....  0.129009   \n",
       "1     [0.14236716209182754, -0.10598329567838705, 0....  0.100963   \n",
       "2     [0.4055276765549376, 0.0029283993633670846, -0...  0.210465   \n",
       "3     [-0.07110886674980432, -0.08269807310551558, 0... -0.025663   \n",
       "4     [0.18869831316675, 0.03113193162308736, 0.0348...   0.17746   \n",
       "...                                                 ...       ...   \n",
       "8186  [0.8791441026861514, 0.576226384714265, 0.4354...  0.679213   \n",
       "8187  [0.8731761731752511, 0.5384374917854684, 0.458...  0.679018   \n",
       "8188  [0.8494627278072393, 0.5454006150975994, 0.444...   0.66547   \n",
       "8189  [0.8358451877451422, 0.5448662375728606, 0.449...  0.670075   \n",
       "8190  [0.8674059553865395, 0.5385295808629285, 0.458...  0.677417   \n",
       "\n",
       "                                   feature_names  ci_bound   std_dev  \\\n",
       "0                                           (0,)  0.064226  0.086475   \n",
       "1                                           (1,)  0.076751  0.103339   \n",
       "2                                           (2,)  0.139709  0.188107   \n",
       "3                                           (3,)  0.055426  0.074627   \n",
       "4                                           (4,)  0.114827  0.154605   \n",
       "...                                          ...       ...       ...   \n",
       "8186     (0, 1, 2, 4, 5, 6, 7, 8, 9, 10, 11, 12)  0.096133  0.129436   \n",
       "8187     (0, 1, 3, 4, 5, 6, 7, 8, 9, 10, 11, 12)  0.098986  0.133276   \n",
       "8188     (0, 2, 3, 4, 5, 6, 7, 8, 9, 10, 11, 12)  0.099036  0.133343   \n",
       "8189     (1, 2, 3, 4, 5, 6, 7, 8, 9, 10, 11, 12)  0.094633  0.127415   \n",
       "8190  (0, 1, 2, 3, 4, 5, 6, 7, 8, 9, 10, 11, 12)  0.098114  0.132102   \n",
       "\n",
       "       std_err   k  \n",
       "0     0.028825   1  \n",
       "1     0.034446   1  \n",
       "2     0.062702   1  \n",
       "3     0.024876   1  \n",
       "4     0.051535   1  \n",
       "...        ...  ..  \n",
       "8186  0.043145  12  \n",
       "8187  0.044425  12  \n",
       "8188  0.044448  12  \n",
       "8189  0.042472  12  \n",
       "8190  0.044034  13  \n",
       "\n",
       "[8191 rows x 8 columns]"
      ]
     },
     "execution_count": 22,
     "metadata": {},
     "output_type": "execute_result"
    }
   ],
   "source": [
    "metricDf"
   ]
  },
  {
   "cell_type": "code",
   "execution_count": 23,
   "metadata": {},
   "outputs": [],
   "source": [
    "metricDf[\"adjusterR2\"] = adjusterR2(\n",
    "    r2=metricDf[\"avg_score\"], n=xTrain.shape[0], k=metricDf[\"k\"])"
   ]
  },
  {
   "cell_type": "code",
   "execution_count": 24,
   "metadata": {},
   "outputs": [
    {
     "data": {
      "text/html": [
       "<div>\n",
       "<style scoped>\n",
       "    .dataframe tbody tr th:only-of-type {\n",
       "        vertical-align: middle;\n",
       "    }\n",
       "\n",
       "    .dataframe tbody tr th {\n",
       "        vertical-align: top;\n",
       "    }\n",
       "\n",
       "    .dataframe thead th {\n",
       "        text-align: right;\n",
       "    }\n",
       "</style>\n",
       "<table border=\"1\" class=\"dataframe\">\n",
       "  <thead>\n",
       "    <tr style=\"text-align: right;\">\n",
       "      <th></th>\n",
       "      <th>feature_idx</th>\n",
       "      <th>cv_scores</th>\n",
       "      <th>avg_score</th>\n",
       "      <th>feature_names</th>\n",
       "      <th>ci_bound</th>\n",
       "      <th>std_dev</th>\n",
       "      <th>std_err</th>\n",
       "      <th>k</th>\n",
       "      <th>adjusterR2</th>\n",
       "    </tr>\n",
       "  </thead>\n",
       "  <tbody>\n",
       "    <tr>\n",
       "      <th>0</th>\n",
       "      <td>(0,)</td>\n",
       "      <td>[0.03941987916919132, 0.12695789031653215, -0....</td>\n",
       "      <td>0.129009</td>\n",
       "      <td>(0,)</td>\n",
       "      <td>0.064226</td>\n",
       "      <td>0.086475</td>\n",
       "      <td>0.028825</td>\n",
       "      <td>1</td>\n",
       "      <td>0.126843</td>\n",
       "    </tr>\n",
       "    <tr>\n",
       "      <th>1</th>\n",
       "      <td>(1,)</td>\n",
       "      <td>[0.14236716209182754, -0.10598329567838705, 0....</td>\n",
       "      <td>0.100963</td>\n",
       "      <td>(1,)</td>\n",
       "      <td>0.076751</td>\n",
       "      <td>0.103339</td>\n",
       "      <td>0.034446</td>\n",
       "      <td>1</td>\n",
       "      <td>0.098726</td>\n",
       "    </tr>\n",
       "    <tr>\n",
       "      <th>2</th>\n",
       "      <td>(2,)</td>\n",
       "      <td>[0.4055276765549376, 0.0029283993633670846, -0...</td>\n",
       "      <td>0.210465</td>\n",
       "      <td>(2,)</td>\n",
       "      <td>0.139709</td>\n",
       "      <td>0.188107</td>\n",
       "      <td>0.062702</td>\n",
       "      <td>1</td>\n",
       "      <td>0.208501</td>\n",
       "    </tr>\n",
       "    <tr>\n",
       "      <th>3</th>\n",
       "      <td>(3,)</td>\n",
       "      <td>[-0.07110886674980432, -0.08269807310551558, 0...</td>\n",
       "      <td>-0.025663</td>\n",
       "      <td>(3,)</td>\n",
       "      <td>0.055426</td>\n",
       "      <td>0.074627</td>\n",
       "      <td>0.024876</td>\n",
       "      <td>1</td>\n",
       "      <td>-0.028215</td>\n",
       "    </tr>\n",
       "    <tr>\n",
       "      <th>4</th>\n",
       "      <td>(4,)</td>\n",
       "      <td>[0.18869831316675, 0.03113193162308736, 0.0348...</td>\n",
       "      <td>0.17746</td>\n",
       "      <td>(4,)</td>\n",
       "      <td>0.114827</td>\n",
       "      <td>0.154605</td>\n",
       "      <td>0.051535</td>\n",
       "      <td>1</td>\n",
       "      <td>0.175414</td>\n",
       "    </tr>\n",
       "    <tr>\n",
       "      <th>...</th>\n",
       "      <td>...</td>\n",
       "      <td>...</td>\n",
       "      <td>...</td>\n",
       "      <td>...</td>\n",
       "      <td>...</td>\n",
       "      <td>...</td>\n",
       "      <td>...</td>\n",
       "      <td>...</td>\n",
       "      <td>...</td>\n",
       "    </tr>\n",
       "    <tr>\n",
       "      <th>8186</th>\n",
       "      <td>(0, 1, 2, 4, 5, 6, 7, 8, 9, 10, 11, 12)</td>\n",
       "      <td>[0.8791441026861514, 0.576226384714265, 0.4354...</td>\n",
       "      <td>0.679213</td>\n",
       "      <td>(0, 1, 2, 4, 5, 6, 7, 8, 9, 10, 11, 12)</td>\n",
       "      <td>0.096133</td>\n",
       "      <td>0.129436</td>\n",
       "      <td>0.043145</td>\n",
       "      <td>12</td>\n",
       "      <td>0.669368</td>\n",
       "    </tr>\n",
       "    <tr>\n",
       "      <th>8187</th>\n",
       "      <td>(0, 1, 3, 4, 5, 6, 7, 8, 9, 10, 11, 12)</td>\n",
       "      <td>[0.8731761731752511, 0.5384374917854684, 0.458...</td>\n",
       "      <td>0.679018</td>\n",
       "      <td>(0, 1, 3, 4, 5, 6, 7, 8, 9, 10, 11, 12)</td>\n",
       "      <td>0.098986</td>\n",
       "      <td>0.133276</td>\n",
       "      <td>0.044425</td>\n",
       "      <td>12</td>\n",
       "      <td>0.669167</td>\n",
       "    </tr>\n",
       "    <tr>\n",
       "      <th>8188</th>\n",
       "      <td>(0, 2, 3, 4, 5, 6, 7, 8, 9, 10, 11, 12)</td>\n",
       "      <td>[0.8494627278072393, 0.5454006150975994, 0.444...</td>\n",
       "      <td>0.66547</td>\n",
       "      <td>(0, 2, 3, 4, 5, 6, 7, 8, 9, 10, 11, 12)</td>\n",
       "      <td>0.099036</td>\n",
       "      <td>0.133343</td>\n",
       "      <td>0.044448</td>\n",
       "      <td>12</td>\n",
       "      <td>0.655203</td>\n",
       "    </tr>\n",
       "    <tr>\n",
       "      <th>8189</th>\n",
       "      <td>(1, 2, 3, 4, 5, 6, 7, 8, 9, 10, 11, 12)</td>\n",
       "      <td>[0.8358451877451422, 0.5448662375728606, 0.449...</td>\n",
       "      <td>0.670075</td>\n",
       "      <td>(1, 2, 3, 4, 5, 6, 7, 8, 9, 10, 11, 12)</td>\n",
       "      <td>0.094633</td>\n",
       "      <td>0.127415</td>\n",
       "      <td>0.042472</td>\n",
       "      <td>12</td>\n",
       "      <td>0.659949</td>\n",
       "    </tr>\n",
       "    <tr>\n",
       "      <th>8190</th>\n",
       "      <td>(0, 1, 2, 3, 4, 5, 6, 7, 8, 9, 10, 11, 12)</td>\n",
       "      <td>[0.8674059553865395, 0.5385295808629285, 0.458...</td>\n",
       "      <td>0.677417</td>\n",
       "      <td>(0, 1, 2, 3, 4, 5, 6, 7, 8, 9, 10, 11, 12)</td>\n",
       "      <td>0.098114</td>\n",
       "      <td>0.132102</td>\n",
       "      <td>0.044034</td>\n",
       "      <td>13</td>\n",
       "      <td>0.666664</td>\n",
       "    </tr>\n",
       "  </tbody>\n",
       "</table>\n",
       "<p>8191 rows × 9 columns</p>\n",
       "</div>"
      ],
      "text/plain": [
       "                                     feature_idx  \\\n",
       "0                                           (0,)   \n",
       "1                                           (1,)   \n",
       "2                                           (2,)   \n",
       "3                                           (3,)   \n",
       "4                                           (4,)   \n",
       "...                                          ...   \n",
       "8186     (0, 1, 2, 4, 5, 6, 7, 8, 9, 10, 11, 12)   \n",
       "8187     (0, 1, 3, 4, 5, 6, 7, 8, 9, 10, 11, 12)   \n",
       "8188     (0, 2, 3, 4, 5, 6, 7, 8, 9, 10, 11, 12)   \n",
       "8189     (1, 2, 3, 4, 5, 6, 7, 8, 9, 10, 11, 12)   \n",
       "8190  (0, 1, 2, 3, 4, 5, 6, 7, 8, 9, 10, 11, 12)   \n",
       "\n",
       "                                              cv_scores avg_score  \\\n",
       "0     [0.03941987916919132, 0.12695789031653215, -0....  0.129009   \n",
       "1     [0.14236716209182754, -0.10598329567838705, 0....  0.100963   \n",
       "2     [0.4055276765549376, 0.0029283993633670846, -0...  0.210465   \n",
       "3     [-0.07110886674980432, -0.08269807310551558, 0... -0.025663   \n",
       "4     [0.18869831316675, 0.03113193162308736, 0.0348...   0.17746   \n",
       "...                                                 ...       ...   \n",
       "8186  [0.8791441026861514, 0.576226384714265, 0.4354...  0.679213   \n",
       "8187  [0.8731761731752511, 0.5384374917854684, 0.458...  0.679018   \n",
       "8188  [0.8494627278072393, 0.5454006150975994, 0.444...   0.66547   \n",
       "8189  [0.8358451877451422, 0.5448662375728606, 0.449...  0.670075   \n",
       "8190  [0.8674059553865395, 0.5385295808629285, 0.458...  0.677417   \n",
       "\n",
       "                                   feature_names  ci_bound   std_dev  \\\n",
       "0                                           (0,)  0.064226  0.086475   \n",
       "1                                           (1,)  0.076751  0.103339   \n",
       "2                                           (2,)  0.139709  0.188107   \n",
       "3                                           (3,)  0.055426  0.074627   \n",
       "4                                           (4,)  0.114827  0.154605   \n",
       "...                                          ...       ...       ...   \n",
       "8186     (0, 1, 2, 4, 5, 6, 7, 8, 9, 10, 11, 12)  0.096133  0.129436   \n",
       "8187     (0, 1, 3, 4, 5, 6, 7, 8, 9, 10, 11, 12)  0.098986  0.133276   \n",
       "8188     (0, 2, 3, 4, 5, 6, 7, 8, 9, 10, 11, 12)  0.099036  0.133343   \n",
       "8189     (1, 2, 3, 4, 5, 6, 7, 8, 9, 10, 11, 12)  0.094633  0.127415   \n",
       "8190  (0, 1, 2, 3, 4, 5, 6, 7, 8, 9, 10, 11, 12)  0.098114  0.132102   \n",
       "\n",
       "       std_err   k adjusterR2  \n",
       "0     0.028825   1   0.126843  \n",
       "1     0.034446   1   0.098726  \n",
       "2     0.062702   1   0.208501  \n",
       "3     0.024876   1  -0.028215  \n",
       "4     0.051535   1   0.175414  \n",
       "...        ...  ..        ...  \n",
       "8186  0.043145  12   0.669368  \n",
       "8187  0.044425  12   0.669167  \n",
       "8188  0.044448  12   0.655203  \n",
       "8189  0.042472  12   0.659949  \n",
       "8190  0.044034  13   0.666664  \n",
       "\n",
       "[8191 rows x 9 columns]"
      ]
     },
     "execution_count": 24,
     "metadata": {},
     "output_type": "execute_result"
    }
   ],
   "source": [
    "metricDf"
   ]
  },
  {
   "cell_type": "code",
   "execution_count": 25,
   "metadata": {},
   "outputs": [
    {
     "data": {
      "text/html": [
       "<div>\n",
       "<style scoped>\n",
       "    .dataframe tbody tr th:only-of-type {\n",
       "        vertical-align: middle;\n",
       "    }\n",
       "\n",
       "    .dataframe tbody tr th {\n",
       "        vertical-align: top;\n",
       "    }\n",
       "\n",
       "    .dataframe thead th {\n",
       "        text-align: right;\n",
       "    }\n",
       "</style>\n",
       "<table border=\"1\" class=\"dataframe\">\n",
       "  <thead>\n",
       "    <tr style=\"text-align: right;\">\n",
       "      <th></th>\n",
       "      <th>feature_idx</th>\n",
       "      <th>cv_scores</th>\n",
       "      <th>avg_score</th>\n",
       "      <th>feature_names</th>\n",
       "      <th>ci_bound</th>\n",
       "      <th>std_dev</th>\n",
       "      <th>std_err</th>\n",
       "      <th>k</th>\n",
       "      <th>adjusterR2</th>\n",
       "    </tr>\n",
       "  </thead>\n",
       "  <tbody>\n",
       "    <tr>\n",
       "      <th>7975</th>\n",
       "      <td>(0, 1, 4, 5, 7, 8, 9, 10, 11, 12)</td>\n",
       "      <td>[0.8855189158291968, 0.5742220049707852, 0.437...</td>\n",
       "      <td>0.682799</td>\n",
       "      <td>(0, 1, 4, 5, 7, 8, 9, 10, 11, 12)</td>\n",
       "      <td>0.096995</td>\n",
       "      <td>0.130595</td>\n",
       "      <td>0.043532</td>\n",
       "      <td>10</td>\n",
       "      <td>0.674728</td>\n",
       "    </tr>\n",
       "    <tr>\n",
       "      <th>7408</th>\n",
       "      <td>(0, 1, 4, 5, 7, 8, 9, 10, 12)</td>\n",
       "      <td>[0.8717831363927702, 0.5819307800982585, 0.462...</td>\n",
       "      <td>0.680483</td>\n",
       "      <td>(0, 1, 4, 5, 7, 8, 9, 10, 12)</td>\n",
       "      <td>0.090811</td>\n",
       "      <td>0.122269</td>\n",
       "      <td>0.040756</td>\n",
       "      <td>9</td>\n",
       "      <td>0.673185</td>\n",
       "    </tr>\n",
       "    <tr>\n",
       "      <th>8141</th>\n",
       "      <td>(0, 1, 2, 4, 5, 7, 8, 9, 10, 11, 12)</td>\n",
       "      <td>[0.8792702841985806, 0.5752245789381261, 0.438...</td>\n",
       "      <td>0.681125</td>\n",
       "      <td>(0, 1, 2, 4, 5, 7, 8, 9, 10, 11, 12)</td>\n",
       "      <td>0.096068</td>\n",
       "      <td>0.129348</td>\n",
       "      <td>0.043116</td>\n",
       "      <td>11</td>\n",
       "      <td>0.672177</td>\n",
       "    </tr>\n",
       "    <tr>\n",
       "      <th>8150</th>\n",
       "      <td>(0, 1, 3, 4, 5, 7, 8, 9, 10, 11, 12)</td>\n",
       "      <td>[0.8734082301119797, 0.538138251576179, 0.4610...</td>\n",
       "      <td>0.680994</td>\n",
       "      <td>(0, 1, 3, 4, 5, 7, 8, 9, 10, 11, 12)</td>\n",
       "      <td>0.098795</td>\n",
       "      <td>0.133019</td>\n",
       "      <td>0.04434</td>\n",
       "      <td>11</td>\n",
       "      <td>0.672043</td>\n",
       "    </tr>\n",
       "    <tr>\n",
       "      <th>8153</th>\n",
       "      <td>(0, 1, 4, 5, 6, 7, 8, 9, 10, 11, 12)</td>\n",
       "      <td>[0.8853169531726776, 0.5751761822045902, 0.434...</td>\n",
       "      <td>0.680914</td>\n",
       "      <td>(0, 1, 4, 5, 6, 7, 8, 9, 10, 11, 12)</td>\n",
       "      <td>0.097075</td>\n",
       "      <td>0.130703</td>\n",
       "      <td>0.043568</td>\n",
       "      <td>11</td>\n",
       "      <td>0.67196</td>\n",
       "    </tr>\n",
       "    <tr>\n",
       "      <th>...</th>\n",
       "      <td>...</td>\n",
       "      <td>...</td>\n",
       "      <td>...</td>\n",
       "      <td>...</td>\n",
       "      <td>...</td>\n",
       "      <td>...</td>\n",
       "      <td>...</td>\n",
       "      <td>...</td>\n",
       "      <td>...</td>\n",
       "    </tr>\n",
       "    <tr>\n",
       "      <th>53</th>\n",
       "      <td>(3, 11)</td>\n",
       "      <td>[0.07227421305699011, -0.026141441832760126, 0...</td>\n",
       "      <td>0.073485</td>\n",
       "      <td>(3, 11)</td>\n",
       "      <td>0.069934</td>\n",
       "      <td>0.09416</td>\n",
       "      <td>0.031387</td>\n",
       "      <td>2</td>\n",
       "      <td>0.068864</td>\n",
       "    </tr>\n",
       "    <tr>\n",
       "      <th>11</th>\n",
       "      <td>(11,)</td>\n",
       "      <td>[0.1200629474726852, 0.03143835749752166, -0.0...</td>\n",
       "      <td>0.068712</td>\n",
       "      <td>(11,)</td>\n",
       "      <td>0.071116</td>\n",
       "      <td>0.095752</td>\n",
       "      <td>0.031917</td>\n",
       "      <td>1</td>\n",
       "      <td>0.066396</td>\n",
       "    </tr>\n",
       "    <tr>\n",
       "      <th>49</th>\n",
       "      <td>(3, 7)</td>\n",
       "      <td>[-0.0371219722713414, -0.1671760395427997, 0.0...</td>\n",
       "      <td>0.057453</td>\n",
       "      <td>(3, 7)</td>\n",
       "      <td>0.09446</td>\n",
       "      <td>0.127183</td>\n",
       "      <td>0.042394</td>\n",
       "      <td>2</td>\n",
       "      <td>0.052752</td>\n",
       "    </tr>\n",
       "    <tr>\n",
       "      <th>7</th>\n",
       "      <td>(7,)</td>\n",
       "      <td>[0.004822573124353857, -0.09518844023749029, -...</td>\n",
       "      <td>0.038815</td>\n",
       "      <td>(7,)</td>\n",
       "      <td>0.066813</td>\n",
       "      <td>0.089958</td>\n",
       "      <td>0.029986</td>\n",
       "      <td>1</td>\n",
       "      <td>0.036424</td>\n",
       "    </tr>\n",
       "    <tr>\n",
       "      <th>3</th>\n",
       "      <td>(3,)</td>\n",
       "      <td>[-0.07110886674980432, -0.08269807310551558, 0...</td>\n",
       "      <td>-0.025663</td>\n",
       "      <td>(3,)</td>\n",
       "      <td>0.055426</td>\n",
       "      <td>0.074627</td>\n",
       "      <td>0.024876</td>\n",
       "      <td>1</td>\n",
       "      <td>-0.028215</td>\n",
       "    </tr>\n",
       "  </tbody>\n",
       "</table>\n",
       "<p>8191 rows × 9 columns</p>\n",
       "</div>"
      ],
      "text/plain": [
       "                               feature_idx  \\\n",
       "7975     (0, 1, 4, 5, 7, 8, 9, 10, 11, 12)   \n",
       "7408         (0, 1, 4, 5, 7, 8, 9, 10, 12)   \n",
       "8141  (0, 1, 2, 4, 5, 7, 8, 9, 10, 11, 12)   \n",
       "8150  (0, 1, 3, 4, 5, 7, 8, 9, 10, 11, 12)   \n",
       "8153  (0, 1, 4, 5, 6, 7, 8, 9, 10, 11, 12)   \n",
       "...                                    ...   \n",
       "53                                 (3, 11)   \n",
       "11                                   (11,)   \n",
       "49                                  (3, 7)   \n",
       "7                                     (7,)   \n",
       "3                                     (3,)   \n",
       "\n",
       "                                              cv_scores avg_score  \\\n",
       "7975  [0.8855189158291968, 0.5742220049707852, 0.437...  0.682799   \n",
       "7408  [0.8717831363927702, 0.5819307800982585, 0.462...  0.680483   \n",
       "8141  [0.8792702841985806, 0.5752245789381261, 0.438...  0.681125   \n",
       "8150  [0.8734082301119797, 0.538138251576179, 0.4610...  0.680994   \n",
       "8153  [0.8853169531726776, 0.5751761822045902, 0.434...  0.680914   \n",
       "...                                                 ...       ...   \n",
       "53    [0.07227421305699011, -0.026141441832760126, 0...  0.073485   \n",
       "11    [0.1200629474726852, 0.03143835749752166, -0.0...  0.068712   \n",
       "49    [-0.0371219722713414, -0.1671760395427997, 0.0...  0.057453   \n",
       "7     [0.004822573124353857, -0.09518844023749029, -...  0.038815   \n",
       "3     [-0.07110886674980432, -0.08269807310551558, 0... -0.025663   \n",
       "\n",
       "                             feature_names  ci_bound   std_dev   std_err   k  \\\n",
       "7975     (0, 1, 4, 5, 7, 8, 9, 10, 11, 12)  0.096995  0.130595  0.043532  10   \n",
       "7408         (0, 1, 4, 5, 7, 8, 9, 10, 12)  0.090811  0.122269  0.040756   9   \n",
       "8141  (0, 1, 2, 4, 5, 7, 8, 9, 10, 11, 12)  0.096068  0.129348  0.043116  11   \n",
       "8150  (0, 1, 3, 4, 5, 7, 8, 9, 10, 11, 12)  0.098795  0.133019   0.04434  11   \n",
       "8153  (0, 1, 4, 5, 6, 7, 8, 9, 10, 11, 12)  0.097075  0.130703  0.043568  11   \n",
       "...                                    ...       ...       ...       ...  ..   \n",
       "53                                 (3, 11)  0.069934   0.09416  0.031387   2   \n",
       "11                                   (11,)  0.071116  0.095752  0.031917   1   \n",
       "49                                  (3, 7)   0.09446  0.127183  0.042394   2   \n",
       "7                                     (7,)  0.066813  0.089958  0.029986   1   \n",
       "3                                     (3,)  0.055426  0.074627  0.024876   1   \n",
       "\n",
       "     adjusterR2  \n",
       "7975   0.674728  \n",
       "7408   0.673185  \n",
       "8141   0.672177  \n",
       "8150   0.672043  \n",
       "8153    0.67196  \n",
       "...         ...  \n",
       "53     0.068864  \n",
       "11     0.066396  \n",
       "49     0.052752  \n",
       "7      0.036424  \n",
       "3     -0.028215  \n",
       "\n",
       "[8191 rows x 9 columns]"
      ]
     },
     "execution_count": 25,
     "metadata": {},
     "output_type": "execute_result"
    }
   ],
   "source": [
    "metricDf.sort_values(\"adjusterR2\", ascending=False)"
   ]
  },
  {
   "cell_type": "code",
   "execution_count": 26,
   "metadata": {},
   "outputs": [],
   "source": [
    "xTrainSel = sel.transform(xTrain)\n",
    "xTestSel = sel.transform(xTest)"
   ]
  },
  {
   "cell_type": "code",
   "execution_count": 27,
   "metadata": {},
   "outputs": [
    {
     "name": "stdout",
     "output_type": "stream",
     "text": [
      "Training 0.7100327839218562\n",
      "Testing 0.7205819296124483\n"
     ]
    }
   ],
   "source": [
    "model = LinearRegression()\n",
    "\n",
    "print(\"Training\", np.mean(cross_val_score(\n",
    "    model, xTrainSel, yTrain, cv=5, scoring=\"r2\")))\n",
    "print(\"Testing\", np.mean(cross_val_score(\n",
    "    model, xTestSel, yTest, cv=5, scoring=\"r2\")))"
   ]
  },
  {
   "cell_type": "markdown",
   "metadata": {},
   "source": [
    "### Sequential Backward Elimination"
   ]
  },
  {
   "cell_type": "code",
   "execution_count": 28,
   "metadata": {},
   "outputs": [
    {
     "data": {
      "text/html": [
       "<div>\n",
       "<style scoped>\n",
       "    .dataframe tbody tr th:only-of-type {\n",
       "        vertical-align: middle;\n",
       "    }\n",
       "\n",
       "    .dataframe tbody tr th {\n",
       "        vertical-align: top;\n",
       "    }\n",
       "\n",
       "    .dataframe thead th {\n",
       "        text-align: right;\n",
       "    }\n",
       "</style>\n",
       "<table border=\"1\" class=\"dataframe\">\n",
       "  <thead>\n",
       "    <tr style=\"text-align: right;\">\n",
       "      <th></th>\n",
       "      <th>crim</th>\n",
       "      <th>zn</th>\n",
       "      <th>indus</th>\n",
       "      <th>chas</th>\n",
       "      <th>nox</th>\n",
       "      <th>rm</th>\n",
       "      <th>age</th>\n",
       "      <th>dis</th>\n",
       "      <th>rad</th>\n",
       "      <th>tax</th>\n",
       "      <th>ptratio</th>\n",
       "      <th>b</th>\n",
       "      <th>lstat</th>\n",
       "      <th>medv</th>\n",
       "    </tr>\n",
       "  </thead>\n",
       "  <tbody>\n",
       "    <tr>\n",
       "      <th>0</th>\n",
       "      <td>0.00632</td>\n",
       "      <td>18.0</td>\n",
       "      <td>2.31</td>\n",
       "      <td>0</td>\n",
       "      <td>0.538</td>\n",
       "      <td>6.575</td>\n",
       "      <td>65.2</td>\n",
       "      <td>4.0900</td>\n",
       "      <td>1</td>\n",
       "      <td>296</td>\n",
       "      <td>15.3</td>\n",
       "      <td>396.90</td>\n",
       "      <td>4.98</td>\n",
       "      <td>24.0</td>\n",
       "    </tr>\n",
       "    <tr>\n",
       "      <th>1</th>\n",
       "      <td>0.02731</td>\n",
       "      <td>0.0</td>\n",
       "      <td>7.07</td>\n",
       "      <td>0</td>\n",
       "      <td>0.469</td>\n",
       "      <td>6.421</td>\n",
       "      <td>78.9</td>\n",
       "      <td>4.9671</td>\n",
       "      <td>2</td>\n",
       "      <td>242</td>\n",
       "      <td>17.8</td>\n",
       "      <td>396.90</td>\n",
       "      <td>9.14</td>\n",
       "      <td>21.6</td>\n",
       "    </tr>\n",
       "    <tr>\n",
       "      <th>2</th>\n",
       "      <td>0.02729</td>\n",
       "      <td>0.0</td>\n",
       "      <td>7.07</td>\n",
       "      <td>0</td>\n",
       "      <td>0.469</td>\n",
       "      <td>7.185</td>\n",
       "      <td>61.1</td>\n",
       "      <td>4.9671</td>\n",
       "      <td>2</td>\n",
       "      <td>242</td>\n",
       "      <td>17.8</td>\n",
       "      <td>392.83</td>\n",
       "      <td>4.03</td>\n",
       "      <td>34.7</td>\n",
       "    </tr>\n",
       "    <tr>\n",
       "      <th>3</th>\n",
       "      <td>0.03237</td>\n",
       "      <td>0.0</td>\n",
       "      <td>2.18</td>\n",
       "      <td>0</td>\n",
       "      <td>0.458</td>\n",
       "      <td>6.998</td>\n",
       "      <td>45.8</td>\n",
       "      <td>6.0622</td>\n",
       "      <td>3</td>\n",
       "      <td>222</td>\n",
       "      <td>18.7</td>\n",
       "      <td>394.63</td>\n",
       "      <td>2.94</td>\n",
       "      <td>33.4</td>\n",
       "    </tr>\n",
       "    <tr>\n",
       "      <th>4</th>\n",
       "      <td>0.06905</td>\n",
       "      <td>0.0</td>\n",
       "      <td>2.18</td>\n",
       "      <td>0</td>\n",
       "      <td>0.458</td>\n",
       "      <td>7.147</td>\n",
       "      <td>54.2</td>\n",
       "      <td>6.0622</td>\n",
       "      <td>3</td>\n",
       "      <td>222</td>\n",
       "      <td>18.7</td>\n",
       "      <td>396.90</td>\n",
       "      <td>5.33</td>\n",
       "      <td>36.2</td>\n",
       "    </tr>\n",
       "    <tr>\n",
       "      <th>...</th>\n",
       "      <td>...</td>\n",
       "      <td>...</td>\n",
       "      <td>...</td>\n",
       "      <td>...</td>\n",
       "      <td>...</td>\n",
       "      <td>...</td>\n",
       "      <td>...</td>\n",
       "      <td>...</td>\n",
       "      <td>...</td>\n",
       "      <td>...</td>\n",
       "      <td>...</td>\n",
       "      <td>...</td>\n",
       "      <td>...</td>\n",
       "      <td>...</td>\n",
       "    </tr>\n",
       "    <tr>\n",
       "      <th>501</th>\n",
       "      <td>0.06263</td>\n",
       "      <td>0.0</td>\n",
       "      <td>11.93</td>\n",
       "      <td>0</td>\n",
       "      <td>0.573</td>\n",
       "      <td>6.593</td>\n",
       "      <td>69.1</td>\n",
       "      <td>2.4786</td>\n",
       "      <td>1</td>\n",
       "      <td>273</td>\n",
       "      <td>21.0</td>\n",
       "      <td>391.99</td>\n",
       "      <td>9.67</td>\n",
       "      <td>22.4</td>\n",
       "    </tr>\n",
       "    <tr>\n",
       "      <th>502</th>\n",
       "      <td>0.04527</td>\n",
       "      <td>0.0</td>\n",
       "      <td>11.93</td>\n",
       "      <td>0</td>\n",
       "      <td>0.573</td>\n",
       "      <td>6.120</td>\n",
       "      <td>76.7</td>\n",
       "      <td>2.2875</td>\n",
       "      <td>1</td>\n",
       "      <td>273</td>\n",
       "      <td>21.0</td>\n",
       "      <td>396.90</td>\n",
       "      <td>9.08</td>\n",
       "      <td>20.6</td>\n",
       "    </tr>\n",
       "    <tr>\n",
       "      <th>503</th>\n",
       "      <td>0.06076</td>\n",
       "      <td>0.0</td>\n",
       "      <td>11.93</td>\n",
       "      <td>0</td>\n",
       "      <td>0.573</td>\n",
       "      <td>6.976</td>\n",
       "      <td>91.0</td>\n",
       "      <td>2.1675</td>\n",
       "      <td>1</td>\n",
       "      <td>273</td>\n",
       "      <td>21.0</td>\n",
       "      <td>396.90</td>\n",
       "      <td>5.64</td>\n",
       "      <td>23.9</td>\n",
       "    </tr>\n",
       "    <tr>\n",
       "      <th>504</th>\n",
       "      <td>0.10959</td>\n",
       "      <td>0.0</td>\n",
       "      <td>11.93</td>\n",
       "      <td>0</td>\n",
       "      <td>0.573</td>\n",
       "      <td>6.794</td>\n",
       "      <td>89.3</td>\n",
       "      <td>2.3889</td>\n",
       "      <td>1</td>\n",
       "      <td>273</td>\n",
       "      <td>21.0</td>\n",
       "      <td>393.45</td>\n",
       "      <td>6.48</td>\n",
       "      <td>22.0</td>\n",
       "    </tr>\n",
       "    <tr>\n",
       "      <th>505</th>\n",
       "      <td>0.04741</td>\n",
       "      <td>0.0</td>\n",
       "      <td>11.93</td>\n",
       "      <td>0</td>\n",
       "      <td>0.573</td>\n",
       "      <td>6.030</td>\n",
       "      <td>80.8</td>\n",
       "      <td>2.5050</td>\n",
       "      <td>1</td>\n",
       "      <td>273</td>\n",
       "      <td>21.0</td>\n",
       "      <td>396.90</td>\n",
       "      <td>7.88</td>\n",
       "      <td>11.9</td>\n",
       "    </tr>\n",
       "  </tbody>\n",
       "</table>\n",
       "<p>506 rows × 14 columns</p>\n",
       "</div>"
      ],
      "text/plain": [
       "        crim    zn  indus  chas    nox     rm   age     dis  rad  tax  \\\n",
       "0    0.00632  18.0   2.31     0  0.538  6.575  65.2  4.0900    1  296   \n",
       "1    0.02731   0.0   7.07     0  0.469  6.421  78.9  4.9671    2  242   \n",
       "2    0.02729   0.0   7.07     0  0.469  7.185  61.1  4.9671    2  242   \n",
       "3    0.03237   0.0   2.18     0  0.458  6.998  45.8  6.0622    3  222   \n",
       "4    0.06905   0.0   2.18     0  0.458  7.147  54.2  6.0622    3  222   \n",
       "..       ...   ...    ...   ...    ...    ...   ...     ...  ...  ...   \n",
       "501  0.06263   0.0  11.93     0  0.573  6.593  69.1  2.4786    1  273   \n",
       "502  0.04527   0.0  11.93     0  0.573  6.120  76.7  2.2875    1  273   \n",
       "503  0.06076   0.0  11.93     0  0.573  6.976  91.0  2.1675    1  273   \n",
       "504  0.10959   0.0  11.93     0  0.573  6.794  89.3  2.3889    1  273   \n",
       "505  0.04741   0.0  11.93     0  0.573  6.030  80.8  2.5050    1  273   \n",
       "\n",
       "     ptratio       b  lstat  medv   \n",
       "0       15.3  396.90   4.98   24.0  \n",
       "1       17.8  396.90   9.14   21.6  \n",
       "2       17.8  392.83   4.03   34.7  \n",
       "3       18.7  394.63   2.94   33.4  \n",
       "4       18.7  396.90   5.33   36.2  \n",
       "..       ...     ...    ...    ...  \n",
       "501     21.0  391.99   9.67   22.4  \n",
       "502     21.0  396.90   9.08   20.6  \n",
       "503     21.0  396.90   5.64   23.9  \n",
       "504     21.0  393.45   6.48   22.0  \n",
       "505     21.0  396.90   7.88   11.9  \n",
       "\n",
       "[506 rows x 14 columns]"
      ]
     },
     "execution_count": 28,
     "metadata": {},
     "output_type": "execute_result"
    }
   ],
   "source": [
    "from mlxtend.feature_selection import SequentialFeatureSelector as SFS\n",
    "from sklearn.metrics import mean_squared_error\n",
    "\n",
    "data = pd.read_csv(r\"The Data\\BostonHousing.csv\")\n",
    "data"
   ]
  },
  {
   "cell_type": "code",
   "execution_count": 29,
   "metadata": {},
   "outputs": [
    {
     "data": {
      "text/html": [
       "<div>\n",
       "<style scoped>\n",
       "    .dataframe tbody tr th:only-of-type {\n",
       "        vertical-align: middle;\n",
       "    }\n",
       "\n",
       "    .dataframe tbody tr th {\n",
       "        vertical-align: top;\n",
       "    }\n",
       "\n",
       "    .dataframe thead th {\n",
       "        text-align: right;\n",
       "    }\n",
       "</style>\n",
       "<table border=\"1\" class=\"dataframe\">\n",
       "  <thead>\n",
       "    <tr style=\"text-align: right;\">\n",
       "      <th></th>\n",
       "      <th>crim</th>\n",
       "      <th>zn</th>\n",
       "      <th>indus</th>\n",
       "      <th>chas</th>\n",
       "      <th>nox</th>\n",
       "      <th>rm</th>\n",
       "      <th>age</th>\n",
       "      <th>dis</th>\n",
       "      <th>rad</th>\n",
       "      <th>tax</th>\n",
       "      <th>ptratio</th>\n",
       "      <th>b</th>\n",
       "      <th>lstat</th>\n",
       "    </tr>\n",
       "  </thead>\n",
       "  <tbody>\n",
       "    <tr>\n",
       "      <th>0</th>\n",
       "      <td>0.00632</td>\n",
       "      <td>18.0</td>\n",
       "      <td>2.31</td>\n",
       "      <td>0</td>\n",
       "      <td>0.538</td>\n",
       "      <td>6.575</td>\n",
       "      <td>65.2</td>\n",
       "      <td>4.0900</td>\n",
       "      <td>1</td>\n",
       "      <td>296</td>\n",
       "      <td>15.3</td>\n",
       "      <td>396.90</td>\n",
       "      <td>4.98</td>\n",
       "    </tr>\n",
       "    <tr>\n",
       "      <th>1</th>\n",
       "      <td>0.02731</td>\n",
       "      <td>0.0</td>\n",
       "      <td>7.07</td>\n",
       "      <td>0</td>\n",
       "      <td>0.469</td>\n",
       "      <td>6.421</td>\n",
       "      <td>78.9</td>\n",
       "      <td>4.9671</td>\n",
       "      <td>2</td>\n",
       "      <td>242</td>\n",
       "      <td>17.8</td>\n",
       "      <td>396.90</td>\n",
       "      <td>9.14</td>\n",
       "    </tr>\n",
       "    <tr>\n",
       "      <th>2</th>\n",
       "      <td>0.02729</td>\n",
       "      <td>0.0</td>\n",
       "      <td>7.07</td>\n",
       "      <td>0</td>\n",
       "      <td>0.469</td>\n",
       "      <td>7.185</td>\n",
       "      <td>61.1</td>\n",
       "      <td>4.9671</td>\n",
       "      <td>2</td>\n",
       "      <td>242</td>\n",
       "      <td>17.8</td>\n",
       "      <td>392.83</td>\n",
       "      <td>4.03</td>\n",
       "    </tr>\n",
       "    <tr>\n",
       "      <th>3</th>\n",
       "      <td>0.03237</td>\n",
       "      <td>0.0</td>\n",
       "      <td>2.18</td>\n",
       "      <td>0</td>\n",
       "      <td>0.458</td>\n",
       "      <td>6.998</td>\n",
       "      <td>45.8</td>\n",
       "      <td>6.0622</td>\n",
       "      <td>3</td>\n",
       "      <td>222</td>\n",
       "      <td>18.7</td>\n",
       "      <td>394.63</td>\n",
       "      <td>2.94</td>\n",
       "    </tr>\n",
       "    <tr>\n",
       "      <th>4</th>\n",
       "      <td>0.06905</td>\n",
       "      <td>0.0</td>\n",
       "      <td>2.18</td>\n",
       "      <td>0</td>\n",
       "      <td>0.458</td>\n",
       "      <td>7.147</td>\n",
       "      <td>54.2</td>\n",
       "      <td>6.0622</td>\n",
       "      <td>3</td>\n",
       "      <td>222</td>\n",
       "      <td>18.7</td>\n",
       "      <td>396.90</td>\n",
       "      <td>5.33</td>\n",
       "    </tr>\n",
       "    <tr>\n",
       "      <th>...</th>\n",
       "      <td>...</td>\n",
       "      <td>...</td>\n",
       "      <td>...</td>\n",
       "      <td>...</td>\n",
       "      <td>...</td>\n",
       "      <td>...</td>\n",
       "      <td>...</td>\n",
       "      <td>...</td>\n",
       "      <td>...</td>\n",
       "      <td>...</td>\n",
       "      <td>...</td>\n",
       "      <td>...</td>\n",
       "      <td>...</td>\n",
       "    </tr>\n",
       "    <tr>\n",
       "      <th>501</th>\n",
       "      <td>0.06263</td>\n",
       "      <td>0.0</td>\n",
       "      <td>11.93</td>\n",
       "      <td>0</td>\n",
       "      <td>0.573</td>\n",
       "      <td>6.593</td>\n",
       "      <td>69.1</td>\n",
       "      <td>2.4786</td>\n",
       "      <td>1</td>\n",
       "      <td>273</td>\n",
       "      <td>21.0</td>\n",
       "      <td>391.99</td>\n",
       "      <td>9.67</td>\n",
       "    </tr>\n",
       "    <tr>\n",
       "      <th>502</th>\n",
       "      <td>0.04527</td>\n",
       "      <td>0.0</td>\n",
       "      <td>11.93</td>\n",
       "      <td>0</td>\n",
       "      <td>0.573</td>\n",
       "      <td>6.120</td>\n",
       "      <td>76.7</td>\n",
       "      <td>2.2875</td>\n",
       "      <td>1</td>\n",
       "      <td>273</td>\n",
       "      <td>21.0</td>\n",
       "      <td>396.90</td>\n",
       "      <td>9.08</td>\n",
       "    </tr>\n",
       "    <tr>\n",
       "      <th>503</th>\n",
       "      <td>0.06076</td>\n",
       "      <td>0.0</td>\n",
       "      <td>11.93</td>\n",
       "      <td>0</td>\n",
       "      <td>0.573</td>\n",
       "      <td>6.976</td>\n",
       "      <td>91.0</td>\n",
       "      <td>2.1675</td>\n",
       "      <td>1</td>\n",
       "      <td>273</td>\n",
       "      <td>21.0</td>\n",
       "      <td>396.90</td>\n",
       "      <td>5.64</td>\n",
       "    </tr>\n",
       "    <tr>\n",
       "      <th>504</th>\n",
       "      <td>0.10959</td>\n",
       "      <td>0.0</td>\n",
       "      <td>11.93</td>\n",
       "      <td>0</td>\n",
       "      <td>0.573</td>\n",
       "      <td>6.794</td>\n",
       "      <td>89.3</td>\n",
       "      <td>2.3889</td>\n",
       "      <td>1</td>\n",
       "      <td>273</td>\n",
       "      <td>21.0</td>\n",
       "      <td>393.45</td>\n",
       "      <td>6.48</td>\n",
       "    </tr>\n",
       "    <tr>\n",
       "      <th>505</th>\n",
       "      <td>0.04741</td>\n",
       "      <td>0.0</td>\n",
       "      <td>11.93</td>\n",
       "      <td>0</td>\n",
       "      <td>0.573</td>\n",
       "      <td>6.030</td>\n",
       "      <td>80.8</td>\n",
       "      <td>2.5050</td>\n",
       "      <td>1</td>\n",
       "      <td>273</td>\n",
       "      <td>21.0</td>\n",
       "      <td>396.90</td>\n",
       "      <td>7.88</td>\n",
       "    </tr>\n",
       "  </tbody>\n",
       "</table>\n",
       "<p>506 rows × 13 columns</p>\n",
       "</div>"
      ],
      "text/plain": [
       "        crim    zn  indus  chas    nox     rm   age     dis  rad  tax  \\\n",
       "0    0.00632  18.0   2.31     0  0.538  6.575  65.2  4.0900    1  296   \n",
       "1    0.02731   0.0   7.07     0  0.469  6.421  78.9  4.9671    2  242   \n",
       "2    0.02729   0.0   7.07     0  0.469  7.185  61.1  4.9671    2  242   \n",
       "3    0.03237   0.0   2.18     0  0.458  6.998  45.8  6.0622    3  222   \n",
       "4    0.06905   0.0   2.18     0  0.458  7.147  54.2  6.0622    3  222   \n",
       "..       ...   ...    ...   ...    ...    ...   ...     ...  ...  ...   \n",
       "501  0.06263   0.0  11.93     0  0.573  6.593  69.1  2.4786    1  273   \n",
       "502  0.04527   0.0  11.93     0  0.573  6.120  76.7  2.2875    1  273   \n",
       "503  0.06076   0.0  11.93     0  0.573  6.976  91.0  2.1675    1  273   \n",
       "504  0.10959   0.0  11.93     0  0.573  6.794  89.3  2.3889    1  273   \n",
       "505  0.04741   0.0  11.93     0  0.573  6.030  80.8  2.5050    1  273   \n",
       "\n",
       "     ptratio       b  lstat  \n",
       "0       15.3  396.90   4.98  \n",
       "1       17.8  396.90   9.14  \n",
       "2       17.8  392.83   4.03  \n",
       "3       18.7  394.63   2.94  \n",
       "4       18.7  396.90   5.33  \n",
       "..       ...     ...    ...  \n",
       "501     21.0  391.99   9.67  \n",
       "502     21.0  396.90   9.08  \n",
       "503     21.0  396.90   5.64  \n",
       "504     21.0  393.45   6.48  \n",
       "505     21.0  396.90   7.88  \n",
       "\n",
       "[506 rows x 13 columns]"
      ]
     },
     "execution_count": 29,
     "metadata": {},
     "output_type": "execute_result"
    }
   ],
   "source": [
    "x = data.iloc[:, :-1]\n",
    "y = data.iloc[:, -1]\n",
    "x"
   ]
  },
  {
   "cell_type": "code",
   "execution_count": 30,
   "metadata": {},
   "outputs": [],
   "source": [
    "xTrain, xTest, yTrain, yTest = train_test_split(\n",
    "    df.iloc[:, :-1], df.iloc[:, -1], test_size=0.2, random_state=1)"
   ]
  },
  {
   "cell_type": "code",
   "execution_count": 31,
   "metadata": {},
   "outputs": [
    {
     "data": {
      "text/plain": [
       "((404, 13), (102, 13))"
      ]
     },
     "execution_count": 31,
     "metadata": {},
     "output_type": "execute_result"
    }
   ],
   "source": [
    "xTrain.shape, xTest.shape"
   ]
  },
  {
   "cell_type": "code",
   "execution_count": 32,
   "metadata": {},
   "outputs": [],
   "source": [
    "sc = StandardScaler()\n",
    "xTrain = sc.fit_transform(xTrain)\n",
    "xTest = sc.transform(xTest)"
   ]
  },
  {
   "cell_type": "code",
   "execution_count": 33,
   "metadata": {},
   "outputs": [],
   "source": [
    "model = LinearRegression()"
   ]
  },
  {
   "cell_type": "code",
   "execution_count": 34,
   "metadata": {},
   "outputs": [
    {
     "name": "stdout",
     "output_type": "stream",
     "text": [
      "Training 0.7025123301096213\n",
      "Testing 0.6514899901155404\n"
     ]
    }
   ],
   "source": [
    "print(\"Training\", np.mean(cross_val_score(\n",
    "    model, xTrain, yTrain, cv=5, scoring=\"r2\")))\n",
    "print(\"Testing\", np.mean(cross_val_score(model, xTest, yTest, cv=5, scoring=\"r2\")))"
   ]
  },
  {
   "cell_type": "code",
   "execution_count": 35,
   "metadata": {},
   "outputs": [
    {
     "data": {
      "text/html": [
       "<style>#sk-container-id-1 {color: black;}#sk-container-id-1 pre{padding: 0;}#sk-container-id-1 div.sk-toggleable {background-color: white;}#sk-container-id-1 label.sk-toggleable__label {cursor: pointer;display: block;width: 100%;margin-bottom: 0;padding: 0.3em;box-sizing: border-box;text-align: center;}#sk-container-id-1 label.sk-toggleable__label-arrow:before {content: \"▸\";float: left;margin-right: 0.25em;color: #696969;}#sk-container-id-1 label.sk-toggleable__label-arrow:hover:before {color: black;}#sk-container-id-1 div.sk-estimator:hover label.sk-toggleable__label-arrow:before {color: black;}#sk-container-id-1 div.sk-toggleable__content {max-height: 0;max-width: 0;overflow: hidden;text-align: left;background-color: #f0f8ff;}#sk-container-id-1 div.sk-toggleable__content pre {margin: 0.2em;color: black;border-radius: 0.25em;background-color: #f0f8ff;}#sk-container-id-1 input.sk-toggleable__control:checked~div.sk-toggleable__content {max-height: 200px;max-width: 100%;overflow: auto;}#sk-container-id-1 input.sk-toggleable__control:checked~label.sk-toggleable__label-arrow:before {content: \"▾\";}#sk-container-id-1 div.sk-estimator input.sk-toggleable__control:checked~label.sk-toggleable__label {background-color: #d4ebff;}#sk-container-id-1 div.sk-label input.sk-toggleable__control:checked~label.sk-toggleable__label {background-color: #d4ebff;}#sk-container-id-1 input.sk-hidden--visually {border: 0;clip: rect(1px 1px 1px 1px);clip: rect(1px, 1px, 1px, 1px);height: 1px;margin: -1px;overflow: hidden;padding: 0;position: absolute;width: 1px;}#sk-container-id-1 div.sk-estimator {font-family: monospace;background-color: #f0f8ff;border: 1px dotted black;border-radius: 0.25em;box-sizing: border-box;margin-bottom: 0.5em;}#sk-container-id-1 div.sk-estimator:hover {background-color: #d4ebff;}#sk-container-id-1 div.sk-parallel-item::after {content: \"\";width: 100%;border-bottom: 1px solid gray;flex-grow: 1;}#sk-container-id-1 div.sk-label:hover label.sk-toggleable__label {background-color: #d4ebff;}#sk-container-id-1 div.sk-serial::before {content: \"\";position: absolute;border-left: 1px solid gray;box-sizing: border-box;top: 0;bottom: 0;left: 50%;z-index: 0;}#sk-container-id-1 div.sk-serial {display: flex;flex-direction: column;align-items: center;background-color: white;padding-right: 0.2em;padding-left: 0.2em;position: relative;}#sk-container-id-1 div.sk-item {position: relative;z-index: 1;}#sk-container-id-1 div.sk-parallel {display: flex;align-items: stretch;justify-content: center;background-color: white;position: relative;}#sk-container-id-1 div.sk-item::before, #sk-container-id-1 div.sk-parallel-item::before {content: \"\";position: absolute;border-left: 1px solid gray;box-sizing: border-box;top: 0;bottom: 0;left: 50%;z-index: -1;}#sk-container-id-1 div.sk-parallel-item {display: flex;flex-direction: column;z-index: 1;position: relative;background-color: white;}#sk-container-id-1 div.sk-parallel-item:first-child::after {align-self: flex-end;width: 50%;}#sk-container-id-1 div.sk-parallel-item:last-child::after {align-self: flex-start;width: 50%;}#sk-container-id-1 div.sk-parallel-item:only-child::after {width: 0;}#sk-container-id-1 div.sk-dashed-wrapped {border: 1px dashed gray;margin: 0 0.4em 0.5em 0.4em;box-sizing: border-box;padding-bottom: 0.4em;background-color: white;}#sk-container-id-1 div.sk-label label {font-family: monospace;font-weight: bold;display: inline-block;line-height: 1.2em;}#sk-container-id-1 div.sk-label-container {text-align: center;}#sk-container-id-1 div.sk-container {/* jupyter's `normalize.less` sets `[hidden] { display: none; }` but bootstrap.min.css set `[hidden] { display: none !important; }` so we also need the `!important` here to be able to override the default hidden behavior on the sphinx rendered scikit-learn.org. See: https://github.com/scikit-learn/scikit-learn/issues/21755 */display: inline-block !important;position: relative;}#sk-container-id-1 div.sk-text-repr-fallback {display: none;}</style><div id=\"sk-container-id-1\" class=\"sk-top-container\"><div class=\"sk-text-repr-fallback\"><pre>SequentialFeatureSelector(estimator=LinearRegression(), forward=False,\n",
       "                          k_features=(1, 13), n_jobs=-1, scoring=&#x27;r2&#x27;)</pre><b>In a Jupyter environment, please rerun this cell to show the HTML representation or trust the notebook. <br />On GitHub, the HTML representation is unable to render, please try loading this page with nbviewer.org.</b></div><div class=\"sk-container\" hidden><div class=\"sk-item sk-dashed-wrapped\"><div class=\"sk-label-container\"><div class=\"sk-label sk-toggleable\"><input class=\"sk-toggleable__control sk-hidden--visually\" id=\"sk-estimator-id-1\" type=\"checkbox\" ><label for=\"sk-estimator-id-1\" class=\"sk-toggleable__label sk-toggleable__label-arrow\">SequentialFeatureSelector</label><div class=\"sk-toggleable__content\"><pre>SequentialFeatureSelector(estimator=LinearRegression(), forward=False,\n",
       "                          k_features=(1, 13), n_jobs=-1, scoring=&#x27;r2&#x27;)</pre></div></div></div><div class=\"sk-parallel\"><div class=\"sk-parallel-item\"><div class=\"sk-item\"><div class=\"sk-label-container\"><div class=\"sk-label sk-toggleable\"><input class=\"sk-toggleable__control sk-hidden--visually\" id=\"sk-estimator-id-2\" type=\"checkbox\" ><label for=\"sk-estimator-id-2\" class=\"sk-toggleable__label sk-toggleable__label-arrow\">estimator: LinearRegression</label><div class=\"sk-toggleable__content\"><pre>LinearRegression()</pre></div></div></div><div class=\"sk-serial\"><div class=\"sk-item\"><div class=\"sk-estimator sk-toggleable\"><input class=\"sk-toggleable__control sk-hidden--visually\" id=\"sk-estimator-id-3\" type=\"checkbox\" ><label for=\"sk-estimator-id-3\" class=\"sk-toggleable__label sk-toggleable__label-arrow\">LinearRegression</label><div class=\"sk-toggleable__content\"><pre>LinearRegression()</pre></div></div></div></div></div></div></div></div></div></div>"
      ],
      "text/plain": [
       "SequentialFeatureSelector(estimator=LinearRegression(), forward=False,\n",
       "                          k_features=(1, 13), n_jobs=-1, scoring='r2')"
      ]
     },
     "execution_count": 35,
     "metadata": {},
     "output_type": "execute_result"
    }
   ],
   "source": [
    "sfs = SFS(LinearRegression(), k_features=\"best\", forward=False,\n",
    "          floating=False, scoring=\"r2\", n_jobs=-1)\n",
    "sfs.fit(xTrain, yTrain)"
   ]
  },
  {
   "cell_type": "code",
   "execution_count": 36,
   "metadata": {},
   "outputs": [
    {
     "data": {
      "text/plain": [
       "(0, 1, 4, 5, 7, 8, 9, 10, 11, 12)"
      ]
     },
     "execution_count": 36,
     "metadata": {},
     "output_type": "execute_result"
    }
   ],
   "source": [
    "sfs.k_feature_idx_"
   ]
  },
  {
   "cell_type": "code",
   "execution_count": 37,
   "metadata": {},
   "outputs": [
    {
     "data": {
      "text/html": [
       "<div>\n",
       "<style scoped>\n",
       "    .dataframe tbody tr th:only-of-type {\n",
       "        vertical-align: middle;\n",
       "    }\n",
       "\n",
       "    .dataframe tbody tr th {\n",
       "        vertical-align: top;\n",
       "    }\n",
       "\n",
       "    .dataframe thead th {\n",
       "        text-align: right;\n",
       "    }\n",
       "</style>\n",
       "<table border=\"1\" class=\"dataframe\">\n",
       "  <thead>\n",
       "    <tr style=\"text-align: right;\">\n",
       "      <th></th>\n",
       "      <th>feature_idx</th>\n",
       "      <th>cv_scores</th>\n",
       "      <th>avg_score</th>\n",
       "      <th>feature_names</th>\n",
       "      <th>ci_bound</th>\n",
       "      <th>std_dev</th>\n",
       "      <th>std_err</th>\n",
       "    </tr>\n",
       "  </thead>\n",
       "  <tbody>\n",
       "    <tr>\n",
       "      <th>13</th>\n",
       "      <td>(0, 1, 2, 3, 4, 5, 6, 7, 8, 9, 10, 11, 12)</td>\n",
       "      <td>[0.7535027170817178, 0.6920238509138777, 0.682...</td>\n",
       "      <td>0.702512</td>\n",
       "      <td>(0, 1, 2, 3, 4, 5, 6, 7, 8, 9, 10, 11, 12)</td>\n",
       "      <td>0.038207</td>\n",
       "      <td>0.029727</td>\n",
       "      <td>0.014863</td>\n",
       "    </tr>\n",
       "    <tr>\n",
       "      <th>12</th>\n",
       "      <td>(0, 1, 2, 3, 4, 5, 7, 8, 9, 10, 11, 12)</td>\n",
       "      <td>[0.7532855958710695, 0.6944570477695307, 0.693...</td>\n",
       "      <td>0.70581</td>\n",
       "      <td>(0, 1, 2, 3, 4, 5, 7, 8, 9, 10, 11, 12)</td>\n",
       "      <td>0.035641</td>\n",
       "      <td>0.02773</td>\n",
       "      <td>0.013865</td>\n",
       "    </tr>\n",
       "    <tr>\n",
       "      <th>11</th>\n",
       "      <td>(0, 1, 3, 4, 5, 7, 8, 9, 10, 11, 12)</td>\n",
       "      <td>[0.754710892556849, 0.6959627893665097, 0.7017...</td>\n",
       "      <td>0.708109</td>\n",
       "      <td>(0, 1, 3, 4, 5, 7, 8, 9, 10, 11, 12)</td>\n",
       "      <td>0.035367</td>\n",
       "      <td>0.027516</td>\n",
       "      <td>0.013758</td>\n",
       "    </tr>\n",
       "    <tr>\n",
       "      <th>10</th>\n",
       "      <td>(0, 1, 4, 5, 7, 8, 9, 10, 11, 12)</td>\n",
       "      <td>[0.7769593921905563, 0.6884741223718953, 0.702...</td>\n",
       "      <td>0.710033</td>\n",
       "      <td>(0, 1, 4, 5, 7, 8, 9, 10, 11, 12)</td>\n",
       "      <td>0.046075</td>\n",
       "      <td>0.035848</td>\n",
       "      <td>0.017924</td>\n",
       "    </tr>\n",
       "    <tr>\n",
       "      <th>9</th>\n",
       "      <td>(0, 1, 4, 5, 7, 8, 9, 10, 12)</td>\n",
       "      <td>[0.7706104220711025, 0.6854023389684323, 0.690...</td>\n",
       "      <td>0.704324</td>\n",
       "      <td>(0, 1, 4, 5, 7, 8, 9, 10, 12)</td>\n",
       "      <td>0.046449</td>\n",
       "      <td>0.036139</td>\n",
       "      <td>0.018069</td>\n",
       "    </tr>\n",
       "    <tr>\n",
       "      <th>8</th>\n",
       "      <td>(0, 1, 4, 5, 7, 8, 10, 12)</td>\n",
       "      <td>[0.7681719744800458, 0.6822126526818693, 0.670...</td>\n",
       "      <td>0.697727</td>\n",
       "      <td>(0, 1, 4, 5, 7, 8, 10, 12)</td>\n",
       "      <td>0.04882</td>\n",
       "      <td>0.037984</td>\n",
       "      <td>0.018992</td>\n",
       "    </tr>\n",
       "    <tr>\n",
       "      <th>7</th>\n",
       "      <td>(0, 1, 4, 5, 7, 10, 12)</td>\n",
       "      <td>[0.7671638009750725, 0.6812300799626649, 0.661...</td>\n",
       "      <td>0.692234</td>\n",
       "      <td>(0, 1, 4, 5, 7, 10, 12)</td>\n",
       "      <td>0.051644</td>\n",
       "      <td>0.040181</td>\n",
       "      <td>0.02009</td>\n",
       "    </tr>\n",
       "    <tr>\n",
       "      <th>6</th>\n",
       "      <td>(1, 4, 5, 7, 10, 12)</td>\n",
       "      <td>[0.7519120213497091, 0.6756087674652564, 0.646...</td>\n",
       "      <td>0.686004</td>\n",
       "      <td>(1, 4, 5, 7, 10, 12)</td>\n",
       "      <td>0.046845</td>\n",
       "      <td>0.036447</td>\n",
       "      <td>0.018224</td>\n",
       "    </tr>\n",
       "    <tr>\n",
       "      <th>5</th>\n",
       "      <td>(4, 5, 7, 10, 12)</td>\n",
       "      <td>[0.7525552802357769, 0.6665033988504306, 0.639...</td>\n",
       "      <td>0.681065</td>\n",
       "      <td>(4, 5, 7, 10, 12)</td>\n",
       "      <td>0.051233</td>\n",
       "      <td>0.039861</td>\n",
       "      <td>0.019931</td>\n",
       "    </tr>\n",
       "    <tr>\n",
       "      <th>4</th>\n",
       "      <td>(5, 7, 10, 12)</td>\n",
       "      <td>[0.7384743962575444, 0.640118850766883, 0.5873...</td>\n",
       "      <td>0.662544</td>\n",
       "      <td>(5, 7, 10, 12)</td>\n",
       "      <td>0.063384</td>\n",
       "      <td>0.049315</td>\n",
       "      <td>0.024658</td>\n",
       "    </tr>\n",
       "    <tr>\n",
       "      <th>3</th>\n",
       "      <td>(5, 10, 12)</td>\n",
       "      <td>[0.7215896884753017, 0.6288372046797153, 0.633...</td>\n",
       "      <td>0.661012</td>\n",
       "      <td>(5, 10, 12)</td>\n",
       "      <td>0.04259</td>\n",
       "      <td>0.033136</td>\n",
       "      <td>0.016568</td>\n",
       "    </tr>\n",
       "    <tr>\n",
       "      <th>2</th>\n",
       "      <td>(5, 12)</td>\n",
       "      <td>[0.6330856272904802, 0.5779812120755249, 0.586...</td>\n",
       "      <td>0.613259</td>\n",
       "      <td>(5, 12)</td>\n",
       "      <td>0.034066</td>\n",
       "      <td>0.026505</td>\n",
       "      <td>0.013252</td>\n",
       "    </tr>\n",
       "    <tr>\n",
       "      <th>1</th>\n",
       "      <td>(12,)</td>\n",
       "      <td>[0.5472998394577442, 0.49002001493399727, 0.53...</td>\n",
       "      <td>0.538451</td>\n",
       "      <td>(12,)</td>\n",
       "      <td>0.032755</td>\n",
       "      <td>0.025485</td>\n",
       "      <td>0.012742</td>\n",
       "    </tr>\n",
       "  </tbody>\n",
       "</table>\n",
       "</div>"
      ],
      "text/plain": [
       "                                   feature_idx  \\\n",
       "13  (0, 1, 2, 3, 4, 5, 6, 7, 8, 9, 10, 11, 12)   \n",
       "12     (0, 1, 2, 3, 4, 5, 7, 8, 9, 10, 11, 12)   \n",
       "11        (0, 1, 3, 4, 5, 7, 8, 9, 10, 11, 12)   \n",
       "10           (0, 1, 4, 5, 7, 8, 9, 10, 11, 12)   \n",
       "9                (0, 1, 4, 5, 7, 8, 9, 10, 12)   \n",
       "8                   (0, 1, 4, 5, 7, 8, 10, 12)   \n",
       "7                      (0, 1, 4, 5, 7, 10, 12)   \n",
       "6                         (1, 4, 5, 7, 10, 12)   \n",
       "5                            (4, 5, 7, 10, 12)   \n",
       "4                               (5, 7, 10, 12)   \n",
       "3                                  (5, 10, 12)   \n",
       "2                                      (5, 12)   \n",
       "1                                        (12,)   \n",
       "\n",
       "                                            cv_scores avg_score  \\\n",
       "13  [0.7535027170817178, 0.6920238509138777, 0.682...  0.702512   \n",
       "12  [0.7532855958710695, 0.6944570477695307, 0.693...   0.70581   \n",
       "11  [0.754710892556849, 0.6959627893665097, 0.7017...  0.708109   \n",
       "10  [0.7769593921905563, 0.6884741223718953, 0.702...  0.710033   \n",
       "9   [0.7706104220711025, 0.6854023389684323, 0.690...  0.704324   \n",
       "8   [0.7681719744800458, 0.6822126526818693, 0.670...  0.697727   \n",
       "7   [0.7671638009750725, 0.6812300799626649, 0.661...  0.692234   \n",
       "6   [0.7519120213497091, 0.6756087674652564, 0.646...  0.686004   \n",
       "5   [0.7525552802357769, 0.6665033988504306, 0.639...  0.681065   \n",
       "4   [0.7384743962575444, 0.640118850766883, 0.5873...  0.662544   \n",
       "3   [0.7215896884753017, 0.6288372046797153, 0.633...  0.661012   \n",
       "2   [0.6330856272904802, 0.5779812120755249, 0.586...  0.613259   \n",
       "1   [0.5472998394577442, 0.49002001493399727, 0.53...  0.538451   \n",
       "\n",
       "                                 feature_names  ci_bound   std_dev   std_err  \n",
       "13  (0, 1, 2, 3, 4, 5, 6, 7, 8, 9, 10, 11, 12)  0.038207  0.029727  0.014863  \n",
       "12     (0, 1, 2, 3, 4, 5, 7, 8, 9, 10, 11, 12)  0.035641   0.02773  0.013865  \n",
       "11        (0, 1, 3, 4, 5, 7, 8, 9, 10, 11, 12)  0.035367  0.027516  0.013758  \n",
       "10           (0, 1, 4, 5, 7, 8, 9, 10, 11, 12)  0.046075  0.035848  0.017924  \n",
       "9                (0, 1, 4, 5, 7, 8, 9, 10, 12)  0.046449  0.036139  0.018069  \n",
       "8                   (0, 1, 4, 5, 7, 8, 10, 12)   0.04882  0.037984  0.018992  \n",
       "7                      (0, 1, 4, 5, 7, 10, 12)  0.051644  0.040181   0.02009  \n",
       "6                         (1, 4, 5, 7, 10, 12)  0.046845  0.036447  0.018224  \n",
       "5                            (4, 5, 7, 10, 12)  0.051233  0.039861  0.019931  \n",
       "4                               (5, 7, 10, 12)  0.063384  0.049315  0.024658  \n",
       "3                                  (5, 10, 12)   0.04259  0.033136  0.016568  \n",
       "2                                      (5, 12)  0.034066  0.026505  0.013252  \n",
       "1                                        (12,)  0.032755  0.025485  0.012742  "
      ]
     },
     "execution_count": 37,
     "metadata": {},
     "output_type": "execute_result"
    }
   ],
   "source": [
    "metricDf = pd.DataFrame(sfs.get_metric_dict()).T\n",
    "metricDf"
   ]
  },
  {
   "cell_type": "code",
   "execution_count": 38,
   "metadata": {},
   "outputs": [
    {
     "data": {
      "text/html": [
       "<div>\n",
       "<style scoped>\n",
       "    .dataframe tbody tr th:only-of-type {\n",
       "        vertical-align: middle;\n",
       "    }\n",
       "\n",
       "    .dataframe tbody tr th {\n",
       "        vertical-align: top;\n",
       "    }\n",
       "\n",
       "    .dataframe thead th {\n",
       "        text-align: right;\n",
       "    }\n",
       "</style>\n",
       "<table border=\"1\" class=\"dataframe\">\n",
       "  <thead>\n",
       "    <tr style=\"text-align: right;\">\n",
       "      <th></th>\n",
       "      <th>feature_idx</th>\n",
       "      <th>cv_scores</th>\n",
       "      <th>avg_score</th>\n",
       "      <th>feature_names</th>\n",
       "      <th>ci_bound</th>\n",
       "      <th>std_dev</th>\n",
       "      <th>std_err</th>\n",
       "      <th>k</th>\n",
       "    </tr>\n",
       "  </thead>\n",
       "  <tbody>\n",
       "    <tr>\n",
       "      <th>13</th>\n",
       "      <td>(0, 1, 2, 3, 4, 5, 6, 7, 8, 9, 10, 11, 12)</td>\n",
       "      <td>[0.7535027170817178, 0.6920238509138777, 0.682...</td>\n",
       "      <td>0.702512</td>\n",
       "      <td>(0, 1, 2, 3, 4, 5, 6, 7, 8, 9, 10, 11, 12)</td>\n",
       "      <td>0.038207</td>\n",
       "      <td>0.029727</td>\n",
       "      <td>0.014863</td>\n",
       "      <td>13</td>\n",
       "    </tr>\n",
       "    <tr>\n",
       "      <th>12</th>\n",
       "      <td>(0, 1, 2, 3, 4, 5, 7, 8, 9, 10, 11, 12)</td>\n",
       "      <td>[0.7532855958710695, 0.6944570477695307, 0.693...</td>\n",
       "      <td>0.70581</td>\n",
       "      <td>(0, 1, 2, 3, 4, 5, 7, 8, 9, 10, 11, 12)</td>\n",
       "      <td>0.035641</td>\n",
       "      <td>0.02773</td>\n",
       "      <td>0.013865</td>\n",
       "      <td>12</td>\n",
       "    </tr>\n",
       "    <tr>\n",
       "      <th>11</th>\n",
       "      <td>(0, 1, 3, 4, 5, 7, 8, 9, 10, 11, 12)</td>\n",
       "      <td>[0.754710892556849, 0.6959627893665097, 0.7017...</td>\n",
       "      <td>0.708109</td>\n",
       "      <td>(0, 1, 3, 4, 5, 7, 8, 9, 10, 11, 12)</td>\n",
       "      <td>0.035367</td>\n",
       "      <td>0.027516</td>\n",
       "      <td>0.013758</td>\n",
       "      <td>11</td>\n",
       "    </tr>\n",
       "    <tr>\n",
       "      <th>10</th>\n",
       "      <td>(0, 1, 4, 5, 7, 8, 9, 10, 11, 12)</td>\n",
       "      <td>[0.7769593921905563, 0.6884741223718953, 0.702...</td>\n",
       "      <td>0.710033</td>\n",
       "      <td>(0, 1, 4, 5, 7, 8, 9, 10, 11, 12)</td>\n",
       "      <td>0.046075</td>\n",
       "      <td>0.035848</td>\n",
       "      <td>0.017924</td>\n",
       "      <td>10</td>\n",
       "    </tr>\n",
       "    <tr>\n",
       "      <th>9</th>\n",
       "      <td>(0, 1, 4, 5, 7, 8, 9, 10, 12)</td>\n",
       "      <td>[0.7706104220711025, 0.6854023389684323, 0.690...</td>\n",
       "      <td>0.704324</td>\n",
       "      <td>(0, 1, 4, 5, 7, 8, 9, 10, 12)</td>\n",
       "      <td>0.046449</td>\n",
       "      <td>0.036139</td>\n",
       "      <td>0.018069</td>\n",
       "      <td>9</td>\n",
       "    </tr>\n",
       "    <tr>\n",
       "      <th>8</th>\n",
       "      <td>(0, 1, 4, 5, 7, 8, 10, 12)</td>\n",
       "      <td>[0.7681719744800458, 0.6822126526818693, 0.670...</td>\n",
       "      <td>0.697727</td>\n",
       "      <td>(0, 1, 4, 5, 7, 8, 10, 12)</td>\n",
       "      <td>0.04882</td>\n",
       "      <td>0.037984</td>\n",
       "      <td>0.018992</td>\n",
       "      <td>8</td>\n",
       "    </tr>\n",
       "    <tr>\n",
       "      <th>7</th>\n",
       "      <td>(0, 1, 4, 5, 7, 10, 12)</td>\n",
       "      <td>[0.7671638009750725, 0.6812300799626649, 0.661...</td>\n",
       "      <td>0.692234</td>\n",
       "      <td>(0, 1, 4, 5, 7, 10, 12)</td>\n",
       "      <td>0.051644</td>\n",
       "      <td>0.040181</td>\n",
       "      <td>0.02009</td>\n",
       "      <td>7</td>\n",
       "    </tr>\n",
       "    <tr>\n",
       "      <th>6</th>\n",
       "      <td>(1, 4, 5, 7, 10, 12)</td>\n",
       "      <td>[0.7519120213497091, 0.6756087674652564, 0.646...</td>\n",
       "      <td>0.686004</td>\n",
       "      <td>(1, 4, 5, 7, 10, 12)</td>\n",
       "      <td>0.046845</td>\n",
       "      <td>0.036447</td>\n",
       "      <td>0.018224</td>\n",
       "      <td>6</td>\n",
       "    </tr>\n",
       "    <tr>\n",
       "      <th>5</th>\n",
       "      <td>(4, 5, 7, 10, 12)</td>\n",
       "      <td>[0.7525552802357769, 0.6665033988504306, 0.639...</td>\n",
       "      <td>0.681065</td>\n",
       "      <td>(4, 5, 7, 10, 12)</td>\n",
       "      <td>0.051233</td>\n",
       "      <td>0.039861</td>\n",
       "      <td>0.019931</td>\n",
       "      <td>5</td>\n",
       "    </tr>\n",
       "    <tr>\n",
       "      <th>4</th>\n",
       "      <td>(5, 7, 10, 12)</td>\n",
       "      <td>[0.7384743962575444, 0.640118850766883, 0.5873...</td>\n",
       "      <td>0.662544</td>\n",
       "      <td>(5, 7, 10, 12)</td>\n",
       "      <td>0.063384</td>\n",
       "      <td>0.049315</td>\n",
       "      <td>0.024658</td>\n",
       "      <td>4</td>\n",
       "    </tr>\n",
       "    <tr>\n",
       "      <th>3</th>\n",
       "      <td>(5, 10, 12)</td>\n",
       "      <td>[0.7215896884753017, 0.6288372046797153, 0.633...</td>\n",
       "      <td>0.661012</td>\n",
       "      <td>(5, 10, 12)</td>\n",
       "      <td>0.04259</td>\n",
       "      <td>0.033136</td>\n",
       "      <td>0.016568</td>\n",
       "      <td>3</td>\n",
       "    </tr>\n",
       "    <tr>\n",
       "      <th>2</th>\n",
       "      <td>(5, 12)</td>\n",
       "      <td>[0.6330856272904802, 0.5779812120755249, 0.586...</td>\n",
       "      <td>0.613259</td>\n",
       "      <td>(5, 12)</td>\n",
       "      <td>0.034066</td>\n",
       "      <td>0.026505</td>\n",
       "      <td>0.013252</td>\n",
       "      <td>2</td>\n",
       "    </tr>\n",
       "    <tr>\n",
       "      <th>1</th>\n",
       "      <td>(12,)</td>\n",
       "      <td>[0.5472998394577442, 0.49002001493399727, 0.53...</td>\n",
       "      <td>0.538451</td>\n",
       "      <td>(12,)</td>\n",
       "      <td>0.032755</td>\n",
       "      <td>0.025485</td>\n",
       "      <td>0.012742</td>\n",
       "      <td>1</td>\n",
       "    </tr>\n",
       "  </tbody>\n",
       "</table>\n",
       "</div>"
      ],
      "text/plain": [
       "                                   feature_idx  \\\n",
       "13  (0, 1, 2, 3, 4, 5, 6, 7, 8, 9, 10, 11, 12)   \n",
       "12     (0, 1, 2, 3, 4, 5, 7, 8, 9, 10, 11, 12)   \n",
       "11        (0, 1, 3, 4, 5, 7, 8, 9, 10, 11, 12)   \n",
       "10           (0, 1, 4, 5, 7, 8, 9, 10, 11, 12)   \n",
       "9                (0, 1, 4, 5, 7, 8, 9, 10, 12)   \n",
       "8                   (0, 1, 4, 5, 7, 8, 10, 12)   \n",
       "7                      (0, 1, 4, 5, 7, 10, 12)   \n",
       "6                         (1, 4, 5, 7, 10, 12)   \n",
       "5                            (4, 5, 7, 10, 12)   \n",
       "4                               (5, 7, 10, 12)   \n",
       "3                                  (5, 10, 12)   \n",
       "2                                      (5, 12)   \n",
       "1                                        (12,)   \n",
       "\n",
       "                                            cv_scores avg_score  \\\n",
       "13  [0.7535027170817178, 0.6920238509138777, 0.682...  0.702512   \n",
       "12  [0.7532855958710695, 0.6944570477695307, 0.693...   0.70581   \n",
       "11  [0.754710892556849, 0.6959627893665097, 0.7017...  0.708109   \n",
       "10  [0.7769593921905563, 0.6884741223718953, 0.702...  0.710033   \n",
       "9   [0.7706104220711025, 0.6854023389684323, 0.690...  0.704324   \n",
       "8   [0.7681719744800458, 0.6822126526818693, 0.670...  0.697727   \n",
       "7   [0.7671638009750725, 0.6812300799626649, 0.661...  0.692234   \n",
       "6   [0.7519120213497091, 0.6756087674652564, 0.646...  0.686004   \n",
       "5   [0.7525552802357769, 0.6665033988504306, 0.639...  0.681065   \n",
       "4   [0.7384743962575444, 0.640118850766883, 0.5873...  0.662544   \n",
       "3   [0.7215896884753017, 0.6288372046797153, 0.633...  0.661012   \n",
       "2   [0.6330856272904802, 0.5779812120755249, 0.586...  0.613259   \n",
       "1   [0.5472998394577442, 0.49002001493399727, 0.53...  0.538451   \n",
       "\n",
       "                                 feature_names  ci_bound   std_dev   std_err  \\\n",
       "13  (0, 1, 2, 3, 4, 5, 6, 7, 8, 9, 10, 11, 12)  0.038207  0.029727  0.014863   \n",
       "12     (0, 1, 2, 3, 4, 5, 7, 8, 9, 10, 11, 12)  0.035641   0.02773  0.013865   \n",
       "11        (0, 1, 3, 4, 5, 7, 8, 9, 10, 11, 12)  0.035367  0.027516  0.013758   \n",
       "10           (0, 1, 4, 5, 7, 8, 9, 10, 11, 12)  0.046075  0.035848  0.017924   \n",
       "9                (0, 1, 4, 5, 7, 8, 9, 10, 12)  0.046449  0.036139  0.018069   \n",
       "8                   (0, 1, 4, 5, 7, 8, 10, 12)   0.04882  0.037984  0.018992   \n",
       "7                      (0, 1, 4, 5, 7, 10, 12)  0.051644  0.040181   0.02009   \n",
       "6                         (1, 4, 5, 7, 10, 12)  0.046845  0.036447  0.018224   \n",
       "5                            (4, 5, 7, 10, 12)  0.051233  0.039861  0.019931   \n",
       "4                               (5, 7, 10, 12)  0.063384  0.049315  0.024658   \n",
       "3                                  (5, 10, 12)   0.04259  0.033136  0.016568   \n",
       "2                                      (5, 12)  0.034066  0.026505  0.013252   \n",
       "1                                        (12,)  0.032755  0.025485  0.012742   \n",
       "\n",
       "     k  \n",
       "13  13  \n",
       "12  12  \n",
       "11  11  \n",
       "10  10  \n",
       "9    9  \n",
       "8    8  \n",
       "7    7  \n",
       "6    6  \n",
       "5    5  \n",
       "4    4  \n",
       "3    3  \n",
       "2    2  \n",
       "1    1  "
      ]
     },
     "execution_count": 38,
     "metadata": {},
     "output_type": "execute_result"
    }
   ],
   "source": [
    "metricDf[\"k\"] = metricDf[\"feature_names\"].apply(lambda x: len(x))\n",
    "metricDf"
   ]
  },
  {
   "cell_type": "code",
   "execution_count": 39,
   "metadata": {},
   "outputs": [
    {
     "data": {
      "text/html": [
       "<div>\n",
       "<style scoped>\n",
       "    .dataframe tbody tr th:only-of-type {\n",
       "        vertical-align: middle;\n",
       "    }\n",
       "\n",
       "    .dataframe tbody tr th {\n",
       "        vertical-align: top;\n",
       "    }\n",
       "\n",
       "    .dataframe thead th {\n",
       "        text-align: right;\n",
       "    }\n",
       "</style>\n",
       "<table border=\"1\" class=\"dataframe\">\n",
       "  <thead>\n",
       "    <tr style=\"text-align: right;\">\n",
       "      <th></th>\n",
       "      <th>feature_idx</th>\n",
       "      <th>cv_scores</th>\n",
       "      <th>avg_score</th>\n",
       "      <th>feature_names</th>\n",
       "      <th>ci_bound</th>\n",
       "      <th>std_dev</th>\n",
       "      <th>std_err</th>\n",
       "      <th>k</th>\n",
       "      <th>AdjustedR2</th>\n",
       "    </tr>\n",
       "  </thead>\n",
       "  <tbody>\n",
       "    <tr>\n",
       "      <th>10</th>\n",
       "      <td>(0, 1, 4, 5, 7, 8, 9, 10, 11, 12)</td>\n",
       "      <td>[0.7769593921905563, 0.6884741223718953, 0.702...</td>\n",
       "      <td>0.710033</td>\n",
       "      <td>(0, 1, 4, 5, 7, 8, 9, 10, 11, 12)</td>\n",
       "      <td>0.046075</td>\n",
       "      <td>0.035848</td>\n",
       "      <td>0.017924</td>\n",
       "      <td>10</td>\n",
       "      <td>0.702654</td>\n",
       "    </tr>\n",
       "    <tr>\n",
       "      <th>11</th>\n",
       "      <td>(0, 1, 3, 4, 5, 7, 8, 9, 10, 11, 12)</td>\n",
       "      <td>[0.754710892556849, 0.6959627893665097, 0.7017...</td>\n",
       "      <td>0.708109</td>\n",
       "      <td>(0, 1, 3, 4, 5, 7, 8, 9, 10, 11, 12)</td>\n",
       "      <td>0.035367</td>\n",
       "      <td>0.027516</td>\n",
       "      <td>0.013758</td>\n",
       "      <td>11</td>\n",
       "      <td>0.699918</td>\n",
       "    </tr>\n",
       "    <tr>\n",
       "      <th>9</th>\n",
       "      <td>(0, 1, 4, 5, 7, 8, 9, 10, 12)</td>\n",
       "      <td>[0.7706104220711025, 0.6854023389684323, 0.690...</td>\n",
       "      <td>0.704324</td>\n",
       "      <td>(0, 1, 4, 5, 7, 8, 9, 10, 12)</td>\n",
       "      <td>0.046449</td>\n",
       "      <td>0.036139</td>\n",
       "      <td>0.018069</td>\n",
       "      <td>9</td>\n",
       "      <td>0.69757</td>\n",
       "    </tr>\n",
       "    <tr>\n",
       "      <th>12</th>\n",
       "      <td>(0, 1, 2, 3, 4, 5, 7, 8, 9, 10, 11, 12)</td>\n",
       "      <td>[0.7532855958710695, 0.6944570477695307, 0.693...</td>\n",
       "      <td>0.70581</td>\n",
       "      <td>(0, 1, 2, 3, 4, 5, 7, 8, 9, 10, 11, 12)</td>\n",
       "      <td>0.035641</td>\n",
       "      <td>0.02773</td>\n",
       "      <td>0.013865</td>\n",
       "      <td>12</td>\n",
       "      <td>0.696781</td>\n",
       "    </tr>\n",
       "    <tr>\n",
       "      <th>13</th>\n",
       "      <td>(0, 1, 2, 3, 4, 5, 6, 7, 8, 9, 10, 11, 12)</td>\n",
       "      <td>[0.7535027170817178, 0.6920238509138777, 0.682...</td>\n",
       "      <td>0.702512</td>\n",
       "      <td>(0, 1, 2, 3, 4, 5, 6, 7, 8, 9, 10, 11, 12)</td>\n",
       "      <td>0.038207</td>\n",
       "      <td>0.029727</td>\n",
       "      <td>0.014863</td>\n",
       "      <td>13</td>\n",
       "      <td>0.692596</td>\n",
       "    </tr>\n",
       "    <tr>\n",
       "      <th>8</th>\n",
       "      <td>(0, 1, 4, 5, 7, 8, 10, 12)</td>\n",
       "      <td>[0.7681719744800458, 0.6822126526818693, 0.670...</td>\n",
       "      <td>0.697727</td>\n",
       "      <td>(0, 1, 4, 5, 7, 8, 10, 12)</td>\n",
       "      <td>0.04882</td>\n",
       "      <td>0.037984</td>\n",
       "      <td>0.018992</td>\n",
       "      <td>8</td>\n",
       "      <td>0.691605</td>\n",
       "    </tr>\n",
       "    <tr>\n",
       "      <th>7</th>\n",
       "      <td>(0, 1, 4, 5, 7, 10, 12)</td>\n",
       "      <td>[0.7671638009750725, 0.6812300799626649, 0.661...</td>\n",
       "      <td>0.692234</td>\n",
       "      <td>(0, 1, 4, 5, 7, 10, 12)</td>\n",
       "      <td>0.051644</td>\n",
       "      <td>0.040181</td>\n",
       "      <td>0.02009</td>\n",
       "      <td>7</td>\n",
       "      <td>0.686794</td>\n",
       "    </tr>\n",
       "    <tr>\n",
       "      <th>6</th>\n",
       "      <td>(1, 4, 5, 7, 10, 12)</td>\n",
       "      <td>[0.7519120213497091, 0.6756087674652564, 0.646...</td>\n",
       "      <td>0.686004</td>\n",
       "      <td>(1, 4, 5, 7, 10, 12)</td>\n",
       "      <td>0.046845</td>\n",
       "      <td>0.036447</td>\n",
       "      <td>0.018224</td>\n",
       "      <td>6</td>\n",
       "      <td>0.681258</td>\n",
       "    </tr>\n",
       "    <tr>\n",
       "      <th>5</th>\n",
       "      <td>(4, 5, 7, 10, 12)</td>\n",
       "      <td>[0.7525552802357769, 0.6665033988504306, 0.639...</td>\n",
       "      <td>0.681065</td>\n",
       "      <td>(4, 5, 7, 10, 12)</td>\n",
       "      <td>0.051233</td>\n",
       "      <td>0.039861</td>\n",
       "      <td>0.019931</td>\n",
       "      <td>5</td>\n",
       "      <td>0.677058</td>\n",
       "    </tr>\n",
       "    <tr>\n",
       "      <th>4</th>\n",
       "      <td>(5, 7, 10, 12)</td>\n",
       "      <td>[0.7384743962575444, 0.640118850766883, 0.5873...</td>\n",
       "      <td>0.662544</td>\n",
       "      <td>(5, 7, 10, 12)</td>\n",
       "      <td>0.063384</td>\n",
       "      <td>0.049315</td>\n",
       "      <td>0.024658</td>\n",
       "      <td>4</td>\n",
       "      <td>0.659161</td>\n",
       "    </tr>\n",
       "    <tr>\n",
       "      <th>3</th>\n",
       "      <td>(5, 10, 12)</td>\n",
       "      <td>[0.7215896884753017, 0.6288372046797153, 0.633...</td>\n",
       "      <td>0.661012</td>\n",
       "      <td>(5, 10, 12)</td>\n",
       "      <td>0.04259</td>\n",
       "      <td>0.033136</td>\n",
       "      <td>0.016568</td>\n",
       "      <td>3</td>\n",
       "      <td>0.65847</td>\n",
       "    </tr>\n",
       "    <tr>\n",
       "      <th>2</th>\n",
       "      <td>(5, 12)</td>\n",
       "      <td>[0.6330856272904802, 0.5779812120755249, 0.586...</td>\n",
       "      <td>0.613259</td>\n",
       "      <td>(5, 12)</td>\n",
       "      <td>0.034066</td>\n",
       "      <td>0.026505</td>\n",
       "      <td>0.013252</td>\n",
       "      <td>2</td>\n",
       "      <td>0.61133</td>\n",
       "    </tr>\n",
       "    <tr>\n",
       "      <th>1</th>\n",
       "      <td>(12,)</td>\n",
       "      <td>[0.5472998394577442, 0.49002001493399727, 0.53...</td>\n",
       "      <td>0.538451</td>\n",
       "      <td>(12,)</td>\n",
       "      <td>0.032755</td>\n",
       "      <td>0.025485</td>\n",
       "      <td>0.012742</td>\n",
       "      <td>1</td>\n",
       "      <td>0.537303</td>\n",
       "    </tr>\n",
       "  </tbody>\n",
       "</table>\n",
       "</div>"
      ],
      "text/plain": [
       "                                   feature_idx  \\\n",
       "10           (0, 1, 4, 5, 7, 8, 9, 10, 11, 12)   \n",
       "11        (0, 1, 3, 4, 5, 7, 8, 9, 10, 11, 12)   \n",
       "9                (0, 1, 4, 5, 7, 8, 9, 10, 12)   \n",
       "12     (0, 1, 2, 3, 4, 5, 7, 8, 9, 10, 11, 12)   \n",
       "13  (0, 1, 2, 3, 4, 5, 6, 7, 8, 9, 10, 11, 12)   \n",
       "8                   (0, 1, 4, 5, 7, 8, 10, 12)   \n",
       "7                      (0, 1, 4, 5, 7, 10, 12)   \n",
       "6                         (1, 4, 5, 7, 10, 12)   \n",
       "5                            (4, 5, 7, 10, 12)   \n",
       "4                               (5, 7, 10, 12)   \n",
       "3                                  (5, 10, 12)   \n",
       "2                                      (5, 12)   \n",
       "1                                        (12,)   \n",
       "\n",
       "                                            cv_scores avg_score  \\\n",
       "10  [0.7769593921905563, 0.6884741223718953, 0.702...  0.710033   \n",
       "11  [0.754710892556849, 0.6959627893665097, 0.7017...  0.708109   \n",
       "9   [0.7706104220711025, 0.6854023389684323, 0.690...  0.704324   \n",
       "12  [0.7532855958710695, 0.6944570477695307, 0.693...   0.70581   \n",
       "13  [0.7535027170817178, 0.6920238509138777, 0.682...  0.702512   \n",
       "8   [0.7681719744800458, 0.6822126526818693, 0.670...  0.697727   \n",
       "7   [0.7671638009750725, 0.6812300799626649, 0.661...  0.692234   \n",
       "6   [0.7519120213497091, 0.6756087674652564, 0.646...  0.686004   \n",
       "5   [0.7525552802357769, 0.6665033988504306, 0.639...  0.681065   \n",
       "4   [0.7384743962575444, 0.640118850766883, 0.5873...  0.662544   \n",
       "3   [0.7215896884753017, 0.6288372046797153, 0.633...  0.661012   \n",
       "2   [0.6330856272904802, 0.5779812120755249, 0.586...  0.613259   \n",
       "1   [0.5472998394577442, 0.49002001493399727, 0.53...  0.538451   \n",
       "\n",
       "                                 feature_names  ci_bound   std_dev   std_err  \\\n",
       "10           (0, 1, 4, 5, 7, 8, 9, 10, 11, 12)  0.046075  0.035848  0.017924   \n",
       "11        (0, 1, 3, 4, 5, 7, 8, 9, 10, 11, 12)  0.035367  0.027516  0.013758   \n",
       "9                (0, 1, 4, 5, 7, 8, 9, 10, 12)  0.046449  0.036139  0.018069   \n",
       "12     (0, 1, 2, 3, 4, 5, 7, 8, 9, 10, 11, 12)  0.035641   0.02773  0.013865   \n",
       "13  (0, 1, 2, 3, 4, 5, 6, 7, 8, 9, 10, 11, 12)  0.038207  0.029727  0.014863   \n",
       "8                   (0, 1, 4, 5, 7, 8, 10, 12)   0.04882  0.037984  0.018992   \n",
       "7                      (0, 1, 4, 5, 7, 10, 12)  0.051644  0.040181   0.02009   \n",
       "6                         (1, 4, 5, 7, 10, 12)  0.046845  0.036447  0.018224   \n",
       "5                            (4, 5, 7, 10, 12)  0.051233  0.039861  0.019931   \n",
       "4                               (5, 7, 10, 12)  0.063384  0.049315  0.024658   \n",
       "3                                  (5, 10, 12)   0.04259  0.033136  0.016568   \n",
       "2                                      (5, 12)  0.034066  0.026505  0.013252   \n",
       "1                                        (12,)  0.032755  0.025485  0.012742   \n",
       "\n",
       "     k AdjustedR2  \n",
       "10  10   0.702654  \n",
       "11  11   0.699918  \n",
       "9    9    0.69757  \n",
       "12  12   0.696781  \n",
       "13  13   0.692596  \n",
       "8    8   0.691605  \n",
       "7    7   0.686794  \n",
       "6    6   0.681258  \n",
       "5    5   0.677058  \n",
       "4    4   0.659161  \n",
       "3    3    0.65847  \n",
       "2    2    0.61133  \n",
       "1    1   0.537303  "
      ]
     },
     "execution_count": 39,
     "metadata": {},
     "output_type": "execute_result"
    }
   ],
   "source": [
    "metricDf[\"AdjustedR2\"] = adjusterR2(\n",
    "    r2=metricDf[\"avg_score\"], n=xTrain.shape[0], k=metricDf[\"k\"])\n",
    "metricDf.sort_values(\"AdjustedR2\", ascending=False)"
   ]
  },
  {
   "cell_type": "code",
   "execution_count": 58,
   "metadata": {},
   "outputs": [
    {
     "data": {
      "text/plain": [
       "(<Figure size 640x480 with 1 Axes>,\n",
       " <Axes: xlabel='Number of Features', ylabel='Performance'>)"
      ]
     },
     "execution_count": 58,
     "metadata": {},
     "output_type": "execute_result"
    },
    {
     "data": {
      "image/png": "[encoded data removed]",
      "text/plain": [
       "<Figure size 640x480 with 1 Axes>"
      ]
     },
     "metadata": {},
     "output_type": "display_data"
    }
   ],
   "source": [
    "from mlxtend.plotting import plot_sequential_feature_selection as plot_sfs\n",
    "plot_sfs(sfs.get_metric_dict(), kind=\"std_err\")"
   ]
  },
  {
   "cell_type": "code",
   "execution_count": 41,
   "metadata": {},
   "outputs": [
    {
     "data": {
      "application/vnd.plotly.v1+json": {
       "config": {
        "plotlyServerURL": "https://plot.ly"
       },
       "data": [
        {
         "hovertemplate": "x=%{x}<br>y=%{y}<extra></extra>",
         "legendgroup": "",
         "line": {
          "color": "#636efa",
          "dash": "solid"
         },
         "marker": {
          "symbol": "circle"
         },
         "mode": "lines",
         "name": "",
         "orientation": "h",
         "showlegend": false,
         "type": "scatter",
         "x": [
          13,
          12,
          11,
          10,
          9,
          8,
          7,
          6,
          5,
          4,
          3,
          2,
          1
         ],
         "xaxis": "x",
         "y": [
          0.6925960744466086,
          0.6967809669137381,
          0.6999178837601852,
          0.7026544832582902,
          0.6975701748795015,
          0.6916046489038338,
          0.6867940463220739,
          0.6812584288810459,
          0.6770584894347795,
          0.6591608764278309,
          0.6584695237938161,
          0.6113301376084423,
          0.5373025141025625
         ],
         "yaxis": "y"
        },
        {
         "type": "scatter",
         "x": [
          13,
          12,
          11,
          10,
          9,
          8,
          7,
          6,
          5,
          4,
          3,
          2,
          1
         ],
         "y": [
          0.6925960744466086,
          0.6967809669137381,
          0.6999178837601852,
          0.7026544832582902,
          0.6975701748795015,
          0.6916046489038338,
          0.6867940463220739,
          0.6812584288810459,
          0.6770584894347795,
          0.6591608764278309,
          0.6584695237938161,
          0.6113301376084423,
          0.5373025141025625
         ]
        }
       ],
       "layout": {
        "legend": {
         "tracegroupgap": 0
        },
        "margin": {
         "t": 60
        },
        "template": {
         "data": {
          "bar": [
           {
            "error_x": {
             "color": "#2a3f5f"
            },
            "error_y": {
             "color": "#2a3f5f"
            },
            "marker": {
             "line": {
              "color": "#E5ECF6",
              "width": 0.5
             },
             "pattern": {
              "fillmode": "overlay",
              "size": 10,
              "solidity": 0.2
             }
            },
            "type": "bar"
           }
          ],
          "barpolar": [
           {
            "marker": {
             "line": {
              "color": "#E5ECF6",
              "width": 0.5
             },
             "pattern": {
              "fillmode": "overlay",
              "size": 10,
              "solidity": 0.2
             }
            },
            "type": "barpolar"
           }
          ],
          "carpet": [
           {
            "aaxis": {
             "endlinecolor": "#2a3f5f",
             "gridcolor": "white",
             "linecolor": "white",
             "minorgridcolor": "white",
             "startlinecolor": "#2a3f5f"
            },
            "baxis": {
             "endlinecolor": "#2a3f5f",
             "gridcolor": "white",
             "linecolor": "white",
             "minorgridcolor": "white",
             "startlinecolor": "#2a3f5f"
            },
            "type": "carpet"
           }
          ],
          "choropleth": [
           {
            "colorbar": {
             "outlinewidth": 0,
             "ticks": ""
            },
            "type": "choropleth"
           }
          ],
          "contour": [
           {
            "colorbar": {
             "outlinewidth": 0,
             "ticks": ""
            },
            "colorscale": [
             [
              0,
              "#0d0887"
             ],
             [
              0.1111111111111111,
              "#46039f"
             ],
             [
              0.2222222222222222,
              "#7201a8"
             ],
             [
              0.3333333333333333,
              "#9c179e"
             ],
             [
              0.4444444444444444,
              "#bd3786"
             ],
             [
              0.5555555555555556,
              "#d8576b"
             ],
             [
              0.6666666666666666,
              "#ed7953"
             ],
             [
              0.7777777777777778,
              "#fb9f3a"
             ],
             [
              0.8888888888888888,
              "#fdca26"
             ],
             [
              1,
              "#f0f921"
             ]
            ],
            "type": "contour"
           }
          ],
          "contourcarpet": [
           {
            "colorbar": {
             "outlinewidth": 0,
             "ticks": ""
            },
            "type": "contourcarpet"
           }
          ],
          "heatmap": [
           {
            "colorbar": {
             "outlinewidth": 0,
             "ticks": ""
            },
            "colorscale": [
             [
              0,
              "#0d0887"
             ],
             [
              0.1111111111111111,
              "#46039f"
             ],
             [
              0.2222222222222222,
              "#7201a8"
             ],
             [
              0.3333333333333333,
              "#9c179e"
             ],
             [
              0.4444444444444444,
              "#bd3786"
             ],
             [
              0.5555555555555556,
              "#d8576b"
             ],
             [
              0.6666666666666666,
              "#ed7953"
             ],
             [
              0.7777777777777778,
              "#fb9f3a"
             ],
             [
              0.8888888888888888,
              "#fdca26"
             ],
             [
              1,
              "#f0f921"
             ]
            ],
            "type": "heatmap"
           }
          ],
          "heatmapgl": [
           {
            "colorbar": {
             "outlinewidth": 0,
             "ticks": ""
            },
            "colorscale": [
             [
              0,
              "#0d0887"
             ],
             [
              0.1111111111111111,
              "#46039f"
             ],
             [
              0.2222222222222222,
              "#7201a8"
             ],
             [
              0.3333333333333333,
              "#9c179e"
             ],
             [
              0.4444444444444444,
              "#bd3786"
             ],
             [
              0.5555555555555556,
              "#d8576b"
             ],
             [
              0.6666666666666666,
              "#ed7953"
             ],
             [
              0.7777777777777778,
              "#fb9f3a"
             ],
             [
              0.8888888888888888,
              "#fdca26"
             ],
             [
              1,
              "#f0f921"
             ]
            ],
            "type": "heatmapgl"
           }
          ],
          "histogram": [
           {
            "marker": {
             "pattern": {
              "fillmode": "overlay",
              "size": 10,
              "solidity": 0.2
             }
            },
            "type": "histogram"
           }
          ],
          "histogram2d": [
           {
            "colorbar": {
             "outlinewidth": 0,
             "ticks": ""
            },
            "colorscale": [
             [
              0,
              "#0d0887"
             ],
             [
              0.1111111111111111,
              "#46039f"
             ],
             [
              0.2222222222222222,
              "#7201a8"
             ],
             [
              0.3333333333333333,
              "#9c179e"
             ],
             [
              0.4444444444444444,
              "#bd3786"
             ],
             [
              0.5555555555555556,
              "#d8576b"
             ],
             [
              0.6666666666666666,
              "#ed7953"
             ],
             [
              0.7777777777777778,
              "#fb9f3a"
             ],
             [
              0.8888888888888888,
              "#fdca26"
             ],
             [
              1,
              "#f0f921"
             ]
            ],
            "type": "histogram2d"
           }
          ],
          "histogram2dcontour": [
           {
            "colorbar": {
             "outlinewidth": 0,
             "ticks": ""
            },
            "colorscale": [
             [
              0,
              "#0d0887"
             ],
             [
              0.1111111111111111,
              "#46039f"
             ],
             [
              0.2222222222222222,
              "#7201a8"
             ],
             [
              0.3333333333333333,
              "#9c179e"
             ],
             [
              0.4444444444444444,
              "#bd3786"
             ],
             [
              0.5555555555555556,
              "#d8576b"
             ],
             [
              0.6666666666666666,
              "#ed7953"
             ],
             [
              0.7777777777777778,
              "#fb9f3a"
             ],
             [
              0.8888888888888888,
              "#fdca26"
             ],
             [
              1,
              "#f0f921"
             ]
            ],
            "type": "histogram2dcontour"
           }
          ],
          "mesh3d": [
           {
            "colorbar": {
             "outlinewidth": 0,
             "ticks": ""
            },
            "type": "mesh3d"
           }
          ],
          "parcoords": [
           {
            "line": {
             "colorbar": {
              "outlinewidth": 0,
              "ticks": ""
             }
            },
            "type": "parcoords"
           }
          ],
          "pie": [
           {
            "automargin": true,
            "type": "pie"
           }
          ],
          "scatter": [
           {
            "fillpattern": {
             "fillmode": "overlay",
             "size": 10,
             "solidity": 0.2
            },
            "type": "scatter"
           }
          ],
          "scatter3d": [
           {
            "line": {
             "colorbar": {
              "outlinewidth": 0,
              "ticks": ""
             }
            },
            "marker": {
             "colorbar": {
              "outlinewidth": 0,
              "ticks": ""
             }
            },
            "type": "scatter3d"
           }
          ],
          "scattercarpet": [
           {
            "marker": {
             "colorbar": {
              "outlinewidth": 0,
              "ticks": ""
             }
            },
            "type": "scattercarpet"
           }
          ],
          "scattergeo": [
           {
            "marker": {
             "colorbar": {
              "outlinewidth": 0,
              "ticks": ""
             }
            },
            "type": "scattergeo"
           }
          ],
          "scattergl": [
           {
            "marker": {
             "colorbar": {
              "outlinewidth": 0,
              "ticks": ""
             }
            },
            "type": "scattergl"
           }
          ],
          "scattermapbox": [
           {
            "marker": {
             "colorbar": {
              "outlinewidth": 0,
              "ticks": ""
             }
            },
            "type": "scattermapbox"
           }
          ],
          "scatterpolar": [
           {
            "marker": {
             "colorbar": {
              "outlinewidth": 0,
              "ticks": ""
             }
            },
            "type": "scatterpolar"
           }
          ],
          "scatterpolargl": [
           {
            "marker": {
             "colorbar": {
              "outlinewidth": 0,
              "ticks": ""
             }
            },
            "type": "scatterpolargl"
           }
          ],
          "scatterternary": [
           {
            "marker": {
             "colorbar": {
              "outlinewidth": 0,
              "ticks": ""
             }
            },
            "type": "scatterternary"
           }
          ],
          "surface": [
           {
            "colorbar": {
             "outlinewidth": 0,
             "ticks": ""
            },
            "colorscale": [
             [
              0,
              "#0d0887"
             ],
             [
              0.1111111111111111,
              "#46039f"
             ],
             [
              0.2222222222222222,
              "#7201a8"
             ],
             [
              0.3333333333333333,
              "#9c179e"
             ],
             [
              0.4444444444444444,
              "#bd3786"
             ],
             [
              0.5555555555555556,
              "#d8576b"
             ],
             [
              0.6666666666666666,
              "#ed7953"
             ],
             [
              0.7777777777777778,
              "#fb9f3a"
             ],
             [
              0.8888888888888888,
              "#fdca26"
             ],
             [
              1,
              "#f0f921"
             ]
            ],
            "type": "surface"
           }
          ],
          "table": [
           {
            "cells": {
             "fill": {
              "color": "#EBF0F8"
             },
             "line": {
              "color": "white"
             }
            },
            "header": {
             "fill": {
              "color": "#C8D4E3"
             },
             "line": {
              "color": "white"
             }
            },
            "type": "table"
           }
          ]
         },
         "layout": {
          "annotationdefaults": {
           "arrowcolor": "#2a3f5f",
           "arrowhead": 0,
           "arrowwidth": 1
          },
          "autotypenumbers": "strict",
          "coloraxis": {
           "colorbar": {
            "outlinewidth": 0,
            "ticks": ""
           }
          },
          "colorscale": {
           "diverging": [
            [
             0,
             "#8e0152"
            ],
            [
             0.1,
             "#c51b7d"
            ],
            [
             0.2,
             "#de77ae"
            ],
            [
             0.3,
             "#f1b6da"
            ],
            [
             0.4,
             "#fde0ef"
            ],
            [
             0.5,
             "#f7f7f7"
            ],
            [
             0.6,
             "#e6f5d0"
            ],
            [
             0.7,
             "#b8e186"
            ],
            [
             0.8,
             "#7fbc41"
            ],
            [
             0.9,
             "#4d9221"
            ],
            [
             1,
             "#276419"
            ]
           ],
           "sequential": [
            [
             0,
             "#0d0887"
            ],
            [
             0.1111111111111111,
             "#46039f"
            ],
            [
             0.2222222222222222,
             "#7201a8"
            ],
            [
             0.3333333333333333,
             "#9c179e"
            ],
            [
             0.4444444444444444,
             "#bd3786"
            ],
            [
             0.5555555555555556,
             "#d8576b"
            ],
            [
             0.6666666666666666,
             "#ed7953"
            ],
            [
             0.7777777777777778,
             "#fb9f3a"
            ],
            [
             0.8888888888888888,
             "#fdca26"
            ],
            [
             1,
             "#f0f921"
            ]
           ],
           "sequentialminus": [
            [
             0,
             "#0d0887"
            ],
            [
             0.1111111111111111,
             "#46039f"
            ],
            [
             0.2222222222222222,
             "#7201a8"
            ],
            [
             0.3333333333333333,
             "#9c179e"
            ],
            [
             0.4444444444444444,
             "#bd3786"
            ],
            [
             0.5555555555555556,
             "#d8576b"
            ],
            [
             0.6666666666666666,
             "#ed7953"
            ],
            [
             0.7777777777777778,
             "#fb9f3a"
            ],
            [
             0.8888888888888888,
             "#fdca26"
            ],
            [
             1,
             "#f0f921"
            ]
           ]
          },
          "colorway": [
           "#636efa",
           "#EF553B",
           "#00cc96",
           "#ab63fa",
           "#FFA15A",
           "#19d3f3",
           "#FF6692",
           "#B6E880",
           "#FF97FF",
           "#FECB52"
          ],
          "font": {
           "color": "#2a3f5f"
          },
          "geo": {
           "bgcolor": "white",
           "lakecolor": "white",
           "landcolor": "#E5ECF6",
           "showlakes": true,
           "showland": true,
           "subunitcolor": "white"
          },
          "hoverlabel": {
           "align": "left"
          },
          "hovermode": "closest",
          "mapbox": {
           "style": "light"
          },
          "paper_bgcolor": "white",
          "plot_bgcolor": "#E5ECF6",
          "polar": {
           "angularaxis": {
            "gridcolor": "white",
            "linecolor": "white",
            "ticks": ""
           },
           "bgcolor": "#E5ECF6",
           "radialaxis": {
            "gridcolor": "white",
            "linecolor": "white",
            "ticks": ""
           }
          },
          "scene": {
           "xaxis": {
            "backgroundcolor": "#E5ECF6",
            "gridcolor": "white",
            "gridwidth": 2,
            "linecolor": "white",
            "showbackground": true,
            "ticks": "",
            "zerolinecolor": "white"
           },
           "yaxis": {
            "backgroundcolor": "#E5ECF6",
            "gridcolor": "white",
            "gridwidth": 2,
            "linecolor": "white",
            "showbackground": true,
            "ticks": "",
            "zerolinecolor": "white"
           },
           "zaxis": {
            "backgroundcolor": "#E5ECF6",
            "gridcolor": "white",
            "gridwidth": 2,
            "linecolor": "white",
            "showbackground": true,
            "ticks": "",
            "zerolinecolor": "white"
           }
          },
          "shapedefaults": {
           "line": {
            "color": "#2a3f5f"
           }
          },
          "ternary": {
           "aaxis": {
            "gridcolor": "white",
            "linecolor": "white",
            "ticks": ""
           },
           "baxis": {
            "gridcolor": "white",
            "linecolor": "white",
            "ticks": ""
           },
           "bgcolor": "#E5ECF6",
           "caxis": {
            "gridcolor": "white",
            "linecolor": "white",
            "ticks": ""
           }
          },
          "title": {
           "x": 0.05
          },
          "xaxis": {
           "automargin": true,
           "gridcolor": "white",
           "linecolor": "white",
           "ticks": "",
           "title": {
            "standoff": 15
           },
           "zerolinecolor": "white",
           "zerolinewidth": 2
          },
          "yaxis": {
           "automargin": true,
           "gridcolor": "white",
           "linecolor": "white",
           "ticks": "",
           "title": {
            "standoff": 15
           },
           "zerolinecolor": "white",
           "zerolinewidth": 2
          }
         }
        },
        "xaxis": {
         "anchor": "y",
         "domain": [
          0,
          1
         ],
         "title": {
          "text": "x"
         }
        },
        "yaxis": {
         "anchor": "x",
         "domain": [
          0,
          1
         ],
         "title": {
          "text": "y"
         }
        }
       }
      }
     },
     "metadata": {},
     "output_type": "display_data"
    }
   ],
   "source": [
    "import plotly.graph_objects as go\n",
    "px.line(x=metricDf[\"k\"], y=metricDf[\"AdjustedR2\"]).add_traces(\n",
    "    go.Scatter(x=metricDf[\"k\"], y=metricDf[\"AdjustedR2\"]))"
   ]
  },
  {
   "cell_type": "code",
   "execution_count": 42,
   "metadata": {},
   "outputs": [],
   "source": [
    "xTrainSel = sfs.transform(xTrain)\n",
    "xTestSel = sfs.transform(xTest)"
   ]
  },
  {
   "cell_type": "code",
   "execution_count": 43,
   "metadata": {},
   "outputs": [
    {
     "data": {
      "text/plain": [
       "((404, 10), (102, 10))"
      ]
     },
     "execution_count": 43,
     "metadata": {},
     "output_type": "execute_result"
    }
   ],
   "source": [
    "xTrainSel.shape, xTestSel.shape"
   ]
  },
  {
   "cell_type": "code",
   "execution_count": 44,
   "metadata": {},
   "outputs": [
    {
     "name": "stdout",
     "output_type": "stream",
     "text": [
      "Training 0.7100327839218562\n",
      "Testing 0.7205819296124483\n"
     ]
    }
   ],
   "source": [
    "print(\"Training\", np.mean(cross_val_score(\n",
    "    LinearRegression(), xTrainSel, yTrain, cv=5, scoring=\"r2\")))\n",
    "print(\"Testing\", np.mean(cross_val_score(\n",
    "    LinearRegression(), xTestSel, yTest, cv=5, scoring=\"r2\")))"
   ]
  },
  {
   "cell_type": "markdown",
   "metadata": {},
   "source": [
    "### Sequential Forward Selection"
   ]
  },
  {
   "cell_type": "code",
   "execution_count": 45,
   "metadata": {},
   "outputs": [],
   "source": [
    "xTrain, xTest, yTrain, yTest = train_test_split(\n",
    "    df.iloc[:, :-1], df.iloc[:, -1], test_size=0.2, random_state=1)"
   ]
  },
  {
   "cell_type": "code",
   "execution_count": 46,
   "metadata": {},
   "outputs": [
    {
     "data": {
      "text/plain": [
       "((404, 13), (102, 13))"
      ]
     },
     "execution_count": 46,
     "metadata": {},
     "output_type": "execute_result"
    }
   ],
   "source": [
    "xTrain.shape, xTest.shape"
   ]
  },
  {
   "cell_type": "code",
   "execution_count": 47,
   "metadata": {},
   "outputs": [],
   "source": [
    "sc = StandardScaler()\n",
    "xTrain = sc.fit_transform(xTrain)\n",
    "xTest = sc.transform(xTest)"
   ]
  },
  {
   "cell_type": "code",
   "execution_count": 48,
   "metadata": {},
   "outputs": [
    {
     "name": "stdout",
     "output_type": "stream",
     "text": [
      "Training 0.7025123301096213\n",
      "Testing 0.6514899901155404\n"
     ]
    }
   ],
   "source": [
    "\n",
    "print(\"Training\", np.mean(cross_val_score(\n",
    "    LinearRegression(), xTrain, yTrain, cv=5, scoring=\"r2\")))\n",
    "print(\"Testing\", np.mean(cross_val_score(\n",
    "    LinearRegression(), xTest, yTest, cv=5, scoring=\"r2\")))"
   ]
  },
  {
   "cell_type": "code",
   "execution_count": 49,
   "metadata": {},
   "outputs": [
    {
     "data": {
      "text/html": [
       "<style>#sk-container-id-2 {color: black;}#sk-container-id-2 pre{padding: 0;}#sk-container-id-2 div.sk-toggleable {background-color: white;}#sk-container-id-2 label.sk-toggleable__label {cursor: pointer;display: block;width: 100%;margin-bottom: 0;padding: 0.3em;box-sizing: border-box;text-align: center;}#sk-container-id-2 label.sk-toggleable__label-arrow:before {content: \"▸\";float: left;margin-right: 0.25em;color: #696969;}#sk-container-id-2 label.sk-toggleable__label-arrow:hover:before {color: black;}#sk-container-id-2 div.sk-estimator:hover label.sk-toggleable__label-arrow:before {color: black;}#sk-container-id-2 div.sk-toggleable__content {max-height: 0;max-width: 0;overflow: hidden;text-align: left;background-color: #f0f8ff;}#sk-container-id-2 div.sk-toggleable__content pre {margin: 0.2em;color: black;border-radius: 0.25em;background-color: #f0f8ff;}#sk-container-id-2 input.sk-toggleable__control:checked~div.sk-toggleable__content {max-height: 200px;max-width: 100%;overflow: auto;}#sk-container-id-2 input.sk-toggleable__control:checked~label.sk-toggleable__label-arrow:before {content: \"▾\";}#sk-container-id-2 div.sk-estimator input.sk-toggleable__control:checked~label.sk-toggleable__label {background-color: #d4ebff;}#sk-container-id-2 div.sk-label input.sk-toggleable__control:checked~label.sk-toggleable__label {background-color: #d4ebff;}#sk-container-id-2 input.sk-hidden--visually {border: 0;clip: rect(1px 1px 1px 1px);clip: rect(1px, 1px, 1px, 1px);height: 1px;margin: -1px;overflow: hidden;padding: 0;position: absolute;width: 1px;}#sk-container-id-2 div.sk-estimator {font-family: monospace;background-color: #f0f8ff;border: 1px dotted black;border-radius: 0.25em;box-sizing: border-box;margin-bottom: 0.5em;}#sk-container-id-2 div.sk-estimator:hover {background-color: #d4ebff;}#sk-container-id-2 div.sk-parallel-item::after {content: \"\";width: 100%;border-bottom: 1px solid gray;flex-grow: 1;}#sk-container-id-2 div.sk-label:hover label.sk-toggleable__label {background-color: #d4ebff;}#sk-container-id-2 div.sk-serial::before {content: \"\";position: absolute;border-left: 1px solid gray;box-sizing: border-box;top: 0;bottom: 0;left: 50%;z-index: 0;}#sk-container-id-2 div.sk-serial {display: flex;flex-direction: column;align-items: center;background-color: white;padding-right: 0.2em;padding-left: 0.2em;position: relative;}#sk-container-id-2 div.sk-item {position: relative;z-index: 1;}#sk-container-id-2 div.sk-parallel {display: flex;align-items: stretch;justify-content: center;background-color: white;position: relative;}#sk-container-id-2 div.sk-item::before, #sk-container-id-2 div.sk-parallel-item::before {content: \"\";position: absolute;border-left: 1px solid gray;box-sizing: border-box;top: 0;bottom: 0;left: 50%;z-index: -1;}#sk-container-id-2 div.sk-parallel-item {display: flex;flex-direction: column;z-index: 1;position: relative;background-color: white;}#sk-container-id-2 div.sk-parallel-item:first-child::after {align-self: flex-end;width: 50%;}#sk-container-id-2 div.sk-parallel-item:last-child::after {align-self: flex-start;width: 50%;}#sk-container-id-2 div.sk-parallel-item:only-child::after {width: 0;}#sk-container-id-2 div.sk-dashed-wrapped {border: 1px dashed gray;margin: 0 0.4em 0.5em 0.4em;box-sizing: border-box;padding-bottom: 0.4em;background-color: white;}#sk-container-id-2 div.sk-label label {font-family: monospace;font-weight: bold;display: inline-block;line-height: 1.2em;}#sk-container-id-2 div.sk-label-container {text-align: center;}#sk-container-id-2 div.sk-container {/* jupyter's `normalize.less` sets `[hidden] { display: none; }` but bootstrap.min.css set `[hidden] { display: none !important; }` so we also need the `!important` here to be able to override the default hidden behavior on the sphinx rendered scikit-learn.org. See: https://github.com/scikit-learn/scikit-learn/issues/21755 */display: inline-block !important;position: relative;}#sk-container-id-2 div.sk-text-repr-fallback {display: none;}</style><div id=\"sk-container-id-2\" class=\"sk-top-container\"><div class=\"sk-text-repr-fallback\"><pre>SequentialFeatureSelector(estimator=LinearRegression(), k_features=(1, 13),\n",
       "                          n_jobs=-1, scoring=&#x27;r2&#x27;)</pre><b>In a Jupyter environment, please rerun this cell to show the HTML representation or trust the notebook. <br />On GitHub, the HTML representation is unable to render, please try loading this page with nbviewer.org.</b></div><div class=\"sk-container\" hidden><div class=\"sk-item sk-dashed-wrapped\"><div class=\"sk-label-container\"><div class=\"sk-label sk-toggleable\"><input class=\"sk-toggleable__control sk-hidden--visually\" id=\"sk-estimator-id-4\" type=\"checkbox\" ><label for=\"sk-estimator-id-4\" class=\"sk-toggleable__label sk-toggleable__label-arrow\">SequentialFeatureSelector</label><div class=\"sk-toggleable__content\"><pre>SequentialFeatureSelector(estimator=LinearRegression(), k_features=(1, 13),\n",
       "                          n_jobs=-1, scoring=&#x27;r2&#x27;)</pre></div></div></div><div class=\"sk-parallel\"><div class=\"sk-parallel-item\"><div class=\"sk-item\"><div class=\"sk-label-container\"><div class=\"sk-label sk-toggleable\"><input class=\"sk-toggleable__control sk-hidden--visually\" id=\"sk-estimator-id-5\" type=\"checkbox\" ><label for=\"sk-estimator-id-5\" class=\"sk-toggleable__label sk-toggleable__label-arrow\">estimator: LinearRegression</label><div class=\"sk-toggleable__content\"><pre>LinearRegression()</pre></div></div></div><div class=\"sk-serial\"><div class=\"sk-item\"><div class=\"sk-estimator sk-toggleable\"><input class=\"sk-toggleable__control sk-hidden--visually\" id=\"sk-estimator-id-6\" type=\"checkbox\" ><label for=\"sk-estimator-id-6\" class=\"sk-toggleable__label sk-toggleable__label-arrow\">LinearRegression</label><div class=\"sk-toggleable__content\"><pre>LinearRegression()</pre></div></div></div></div></div></div></div></div></div></div>"
      ],
      "text/plain": [
       "SequentialFeatureSelector(estimator=LinearRegression(), k_features=(1, 13),\n",
       "                          n_jobs=-1, scoring='r2')"
      ]
     },
     "execution_count": 49,
     "metadata": {},
     "output_type": "execute_result"
    }
   ],
   "source": [
    "sfs = SFS(LinearRegression(), k_features=\"best\", forward=True,\n",
    "          floating=False, scoring=\"r2\", n_jobs=-1)\n",
    "sfs.fit(xTrain, yTrain)"
   ]
  },
  {
   "cell_type": "code",
   "execution_count": 50,
   "metadata": {},
   "outputs": [
    {
     "data": {
      "text/plain": [
       "(0, 1, 4, 5, 7, 8, 9, 10, 11, 12)"
      ]
     },
     "execution_count": 50,
     "metadata": {},
     "output_type": "execute_result"
    }
   ],
   "source": [
    "sfs.k_feature_idx_"
   ]
  },
  {
   "cell_type": "code",
   "execution_count": 51,
   "metadata": {},
   "outputs": [
    {
     "data": {
      "text/html": [
       "<div>\n",
       "<style scoped>\n",
       "    .dataframe tbody tr th:only-of-type {\n",
       "        vertical-align: middle;\n",
       "    }\n",
       "\n",
       "    .dataframe tbody tr th {\n",
       "        vertical-align: top;\n",
       "    }\n",
       "\n",
       "    .dataframe thead th {\n",
       "        text-align: right;\n",
       "    }\n",
       "</style>\n",
       "<table border=\"1\" class=\"dataframe\">\n",
       "  <thead>\n",
       "    <tr style=\"text-align: right;\">\n",
       "      <th></th>\n",
       "      <th>feature_idx</th>\n",
       "      <th>cv_scores</th>\n",
       "      <th>avg_score</th>\n",
       "      <th>feature_names</th>\n",
       "      <th>ci_bound</th>\n",
       "      <th>std_dev</th>\n",
       "      <th>std_err</th>\n",
       "    </tr>\n",
       "  </thead>\n",
       "  <tbody>\n",
       "    <tr>\n",
       "      <th>1</th>\n",
       "      <td>(12,)</td>\n",
       "      <td>[0.5472998394577442, 0.49002001493399727, 0.53...</td>\n",
       "      <td>0.538451</td>\n",
       "      <td>(12,)</td>\n",
       "      <td>0.032755</td>\n",
       "      <td>0.025485</td>\n",
       "      <td>0.012742</td>\n",
       "    </tr>\n",
       "    <tr>\n",
       "      <th>2</th>\n",
       "      <td>(5, 12)</td>\n",
       "      <td>[0.6330856272904802, 0.5779812120755249, 0.586...</td>\n",
       "      <td>0.613259</td>\n",
       "      <td>(5, 12)</td>\n",
       "      <td>0.034066</td>\n",
       "      <td>0.026505</td>\n",
       "      <td>0.013252</td>\n",
       "    </tr>\n",
       "    <tr>\n",
       "      <th>3</th>\n",
       "      <td>(5, 10, 12)</td>\n",
       "      <td>[0.7215896884753017, 0.6288372046797153, 0.633...</td>\n",
       "      <td>0.661012</td>\n",
       "      <td>(5, 10, 12)</td>\n",
       "      <td>0.04259</td>\n",
       "      <td>0.033136</td>\n",
       "      <td>0.016568</td>\n",
       "    </tr>\n",
       "    <tr>\n",
       "      <th>4</th>\n",
       "      <td>(5, 10, 11, 12)</td>\n",
       "      <td>[0.725877216548624, 0.6342604286872173, 0.6558...</td>\n",
       "      <td>0.667383</td>\n",
       "      <td>(5, 10, 11, 12)</td>\n",
       "      <td>0.039611</td>\n",
       "      <td>0.030819</td>\n",
       "      <td>0.01541</td>\n",
       "    </tr>\n",
       "    <tr>\n",
       "      <th>5</th>\n",
       "      <td>(5, 7, 10, 11, 12)</td>\n",
       "      <td>[0.7440756174774326, 0.6473449858158777, 0.614...</td>\n",
       "      <td>0.671496</td>\n",
       "      <td>(5, 7, 10, 11, 12)</td>\n",
       "      <td>0.055057</td>\n",
       "      <td>0.042836</td>\n",
       "      <td>0.021418</td>\n",
       "    </tr>\n",
       "    <tr>\n",
       "      <th>6</th>\n",
       "      <td>(4, 5, 7, 10, 11, 12)</td>\n",
       "      <td>[0.7554472741494642, 0.6695521143038103, 0.653...</td>\n",
       "      <td>0.68562</td>\n",
       "      <td>(4, 5, 7, 10, 11, 12)</td>\n",
       "      <td>0.047626</td>\n",
       "      <td>0.037054</td>\n",
       "      <td>0.018527</td>\n",
       "    </tr>\n",
       "    <tr>\n",
       "      <th>7</th>\n",
       "      <td>(1, 4, 5, 7, 10, 11, 12)</td>\n",
       "      <td>[0.7548843433907461, 0.6798073590310516, 0.662...</td>\n",
       "      <td>0.6913</td>\n",
       "      <td>(1, 4, 5, 7, 10, 11, 12)</td>\n",
       "      <td>0.042762</td>\n",
       "      <td>0.03327</td>\n",
       "      <td>0.016635</td>\n",
       "    </tr>\n",
       "    <tr>\n",
       "      <th>8</th>\n",
       "      <td>(0, 1, 4, 5, 7, 10, 11, 12)</td>\n",
       "      <td>[0.7678201537729974, 0.6827004362205138, 0.671...</td>\n",
       "      <td>0.695442</td>\n",
       "      <td>(0, 1, 4, 5, 7, 10, 11, 12)</td>\n",
       "      <td>0.048774</td>\n",
       "      <td>0.037948</td>\n",
       "      <td>0.018974</td>\n",
       "    </tr>\n",
       "    <tr>\n",
       "      <th>9</th>\n",
       "      <td>(0, 1, 4, 5, 7, 8, 10, 11, 12)</td>\n",
       "      <td>[0.7746648196407366, 0.6850585456872307, 0.683...</td>\n",
       "      <td>0.703763</td>\n",
       "      <td>(0, 1, 4, 5, 7, 8, 10, 11, 12)</td>\n",
       "      <td>0.04762</td>\n",
       "      <td>0.03705</td>\n",
       "      <td>0.018525</td>\n",
       "    </tr>\n",
       "    <tr>\n",
       "      <th>10</th>\n",
       "      <td>(0, 1, 4, 5, 7, 8, 9, 10, 11, 12)</td>\n",
       "      <td>[0.7769593921905563, 0.6884741223718953, 0.702...</td>\n",
       "      <td>0.710033</td>\n",
       "      <td>(0, 1, 4, 5, 7, 8, 9, 10, 11, 12)</td>\n",
       "      <td>0.046075</td>\n",
       "      <td>0.035848</td>\n",
       "      <td>0.017924</td>\n",
       "    </tr>\n",
       "    <tr>\n",
       "      <th>11</th>\n",
       "      <td>(0, 1, 3, 4, 5, 7, 8, 9, 10, 11, 12)</td>\n",
       "      <td>[0.754710892556849, 0.6959627893665097, 0.7017...</td>\n",
       "      <td>0.708109</td>\n",
       "      <td>(0, 1, 3, 4, 5, 7, 8, 9, 10, 11, 12)</td>\n",
       "      <td>0.035367</td>\n",
       "      <td>0.027516</td>\n",
       "      <td>0.013758</td>\n",
       "    </tr>\n",
       "    <tr>\n",
       "      <th>12</th>\n",
       "      <td>(0, 1, 2, 3, 4, 5, 7, 8, 9, 10, 11, 12)</td>\n",
       "      <td>[0.7532855958710695, 0.6944570477695307, 0.693...</td>\n",
       "      <td>0.70581</td>\n",
       "      <td>(0, 1, 2, 3, 4, 5, 7, 8, 9, 10, 11, 12)</td>\n",
       "      <td>0.035641</td>\n",
       "      <td>0.02773</td>\n",
       "      <td>0.013865</td>\n",
       "    </tr>\n",
       "    <tr>\n",
       "      <th>13</th>\n",
       "      <td>(0, 1, 2, 3, 4, 5, 6, 7, 8, 9, 10, 11, 12)</td>\n",
       "      <td>[0.7535027170817178, 0.6920238509138777, 0.682...</td>\n",
       "      <td>0.702512</td>\n",
       "      <td>(0, 1, 2, 3, 4, 5, 6, 7, 8, 9, 10, 11, 12)</td>\n",
       "      <td>0.038207</td>\n",
       "      <td>0.029727</td>\n",
       "      <td>0.014863</td>\n",
       "    </tr>\n",
       "  </tbody>\n",
       "</table>\n",
       "</div>"
      ],
      "text/plain": [
       "                                   feature_idx  \\\n",
       "1                                        (12,)   \n",
       "2                                      (5, 12)   \n",
       "3                                  (5, 10, 12)   \n",
       "4                              (5, 10, 11, 12)   \n",
       "5                           (5, 7, 10, 11, 12)   \n",
       "6                        (4, 5, 7, 10, 11, 12)   \n",
       "7                     (1, 4, 5, 7, 10, 11, 12)   \n",
       "8                  (0, 1, 4, 5, 7, 10, 11, 12)   \n",
       "9               (0, 1, 4, 5, 7, 8, 10, 11, 12)   \n",
       "10           (0, 1, 4, 5, 7, 8, 9, 10, 11, 12)   \n",
       "11        (0, 1, 3, 4, 5, 7, 8, 9, 10, 11, 12)   \n",
       "12     (0, 1, 2, 3, 4, 5, 7, 8, 9, 10, 11, 12)   \n",
       "13  (0, 1, 2, 3, 4, 5, 6, 7, 8, 9, 10, 11, 12)   \n",
       "\n",
       "                                            cv_scores avg_score  \\\n",
       "1   [0.5472998394577442, 0.49002001493399727, 0.53...  0.538451   \n",
       "2   [0.6330856272904802, 0.5779812120755249, 0.586...  0.613259   \n",
       "3   [0.7215896884753017, 0.6288372046797153, 0.633...  0.661012   \n",
       "4   [0.725877216548624, 0.6342604286872173, 0.6558...  0.667383   \n",
       "5   [0.7440756174774326, 0.6473449858158777, 0.614...  0.671496   \n",
       "6   [0.7554472741494642, 0.6695521143038103, 0.653...   0.68562   \n",
       "7   [0.7548843433907461, 0.6798073590310516, 0.662...    0.6913   \n",
       "8   [0.7678201537729974, 0.6827004362205138, 0.671...  0.695442   \n",
       "9   [0.7746648196407366, 0.6850585456872307, 0.683...  0.703763   \n",
       "10  [0.7769593921905563, 0.6884741223718953, 0.702...  0.710033   \n",
       "11  [0.754710892556849, 0.6959627893665097, 0.7017...  0.708109   \n",
       "12  [0.7532855958710695, 0.6944570477695307, 0.693...   0.70581   \n",
       "13  [0.7535027170817178, 0.6920238509138777, 0.682...  0.702512   \n",
       "\n",
       "                                 feature_names  ci_bound   std_dev   std_err  \n",
       "1                                        (12,)  0.032755  0.025485  0.012742  \n",
       "2                                      (5, 12)  0.034066  0.026505  0.013252  \n",
       "3                                  (5, 10, 12)   0.04259  0.033136  0.016568  \n",
       "4                              (5, 10, 11, 12)  0.039611  0.030819   0.01541  \n",
       "5                           (5, 7, 10, 11, 12)  0.055057  0.042836  0.021418  \n",
       "6                        (4, 5, 7, 10, 11, 12)  0.047626  0.037054  0.018527  \n",
       "7                     (1, 4, 5, 7, 10, 11, 12)  0.042762   0.03327  0.016635  \n",
       "8                  (0, 1, 4, 5, 7, 10, 11, 12)  0.048774  0.037948  0.018974  \n",
       "9               (0, 1, 4, 5, 7, 8, 10, 11, 12)   0.04762   0.03705  0.018525  \n",
       "10           (0, 1, 4, 5, 7, 8, 9, 10, 11, 12)  0.046075  0.035848  0.017924  \n",
       "11        (0, 1, 3, 4, 5, 7, 8, 9, 10, 11, 12)  0.035367  0.027516  0.013758  \n",
       "12     (0, 1, 2, 3, 4, 5, 7, 8, 9, 10, 11, 12)  0.035641   0.02773  0.013865  \n",
       "13  (0, 1, 2, 3, 4, 5, 6, 7, 8, 9, 10, 11, 12)  0.038207  0.029727  0.014863  "
      ]
     },
     "execution_count": 51,
     "metadata": {},
     "output_type": "execute_result"
    }
   ],
   "source": [
    "metricDf = pd.DataFrame(sfs.get_metric_dict()).T\n",
    "metricDf"
   ]
  },
  {
   "cell_type": "code",
   "execution_count": 52,
   "metadata": {},
   "outputs": [
    {
     "data": {
      "text/html": [
       "<div>\n",
       "<style scoped>\n",
       "    .dataframe tbody tr th:only-of-type {\n",
       "        vertical-align: middle;\n",
       "    }\n",
       "\n",
       "    .dataframe tbody tr th {\n",
       "        vertical-align: top;\n",
       "    }\n",
       "\n",
       "    .dataframe thead th {\n",
       "        text-align: right;\n",
       "    }\n",
       "</style>\n",
       "<table border=\"1\" class=\"dataframe\">\n",
       "  <thead>\n",
       "    <tr style=\"text-align: right;\">\n",
       "      <th></th>\n",
       "      <th>feature_idx</th>\n",
       "      <th>cv_scores</th>\n",
       "      <th>avg_score</th>\n",
       "      <th>feature_names</th>\n",
       "      <th>ci_bound</th>\n",
       "      <th>std_dev</th>\n",
       "      <th>std_err</th>\n",
       "      <th>k</th>\n",
       "    </tr>\n",
       "  </thead>\n",
       "  <tbody>\n",
       "    <tr>\n",
       "      <th>1</th>\n",
       "      <td>(12,)</td>\n",
       "      <td>[0.5472998394577442, 0.49002001493399727, 0.53...</td>\n",
       "      <td>0.538451</td>\n",
       "      <td>(12,)</td>\n",
       "      <td>0.032755</td>\n",
       "      <td>0.025485</td>\n",
       "      <td>0.012742</td>\n",
       "      <td>1</td>\n",
       "    </tr>\n",
       "    <tr>\n",
       "      <th>2</th>\n",
       "      <td>(5, 12)</td>\n",
       "      <td>[0.6330856272904802, 0.5779812120755249, 0.586...</td>\n",
       "      <td>0.613259</td>\n",
       "      <td>(5, 12)</td>\n",
       "      <td>0.034066</td>\n",
       "      <td>0.026505</td>\n",
       "      <td>0.013252</td>\n",
       "      <td>2</td>\n",
       "    </tr>\n",
       "    <tr>\n",
       "      <th>3</th>\n",
       "      <td>(5, 10, 12)</td>\n",
       "      <td>[0.7215896884753017, 0.6288372046797153, 0.633...</td>\n",
       "      <td>0.661012</td>\n",
       "      <td>(5, 10, 12)</td>\n",
       "      <td>0.04259</td>\n",
       "      <td>0.033136</td>\n",
       "      <td>0.016568</td>\n",
       "      <td>3</td>\n",
       "    </tr>\n",
       "    <tr>\n",
       "      <th>4</th>\n",
       "      <td>(5, 10, 11, 12)</td>\n",
       "      <td>[0.725877216548624, 0.6342604286872173, 0.6558...</td>\n",
       "      <td>0.667383</td>\n",
       "      <td>(5, 10, 11, 12)</td>\n",
       "      <td>0.039611</td>\n",
       "      <td>0.030819</td>\n",
       "      <td>0.01541</td>\n",
       "      <td>4</td>\n",
       "    </tr>\n",
       "    <tr>\n",
       "      <th>5</th>\n",
       "      <td>(5, 7, 10, 11, 12)</td>\n",
       "      <td>[0.7440756174774326, 0.6473449858158777, 0.614...</td>\n",
       "      <td>0.671496</td>\n",
       "      <td>(5, 7, 10, 11, 12)</td>\n",
       "      <td>0.055057</td>\n",
       "      <td>0.042836</td>\n",
       "      <td>0.021418</td>\n",
       "      <td>5</td>\n",
       "    </tr>\n",
       "    <tr>\n",
       "      <th>6</th>\n",
       "      <td>(4, 5, 7, 10, 11, 12)</td>\n",
       "      <td>[0.7554472741494642, 0.6695521143038103, 0.653...</td>\n",
       "      <td>0.68562</td>\n",
       "      <td>(4, 5, 7, 10, 11, 12)</td>\n",
       "      <td>0.047626</td>\n",
       "      <td>0.037054</td>\n",
       "      <td>0.018527</td>\n",
       "      <td>6</td>\n",
       "    </tr>\n",
       "    <tr>\n",
       "      <th>7</th>\n",
       "      <td>(1, 4, 5, 7, 10, 11, 12)</td>\n",
       "      <td>[0.7548843433907461, 0.6798073590310516, 0.662...</td>\n",
       "      <td>0.6913</td>\n",
       "      <td>(1, 4, 5, 7, 10, 11, 12)</td>\n",
       "      <td>0.042762</td>\n",
       "      <td>0.03327</td>\n",
       "      <td>0.016635</td>\n",
       "      <td>7</td>\n",
       "    </tr>\n",
       "    <tr>\n",
       "      <th>8</th>\n",
       "      <td>(0, 1, 4, 5, 7, 10, 11, 12)</td>\n",
       "      <td>[0.7678201537729974, 0.6827004362205138, 0.671...</td>\n",
       "      <td>0.695442</td>\n",
       "      <td>(0, 1, 4, 5, 7, 10, 11, 12)</td>\n",
       "      <td>0.048774</td>\n",
       "      <td>0.037948</td>\n",
       "      <td>0.018974</td>\n",
       "      <td>8</td>\n",
       "    </tr>\n",
       "    <tr>\n",
       "      <th>9</th>\n",
       "      <td>(0, 1, 4, 5, 7, 8, 10, 11, 12)</td>\n",
       "      <td>[0.7746648196407366, 0.6850585456872307, 0.683...</td>\n",
       "      <td>0.703763</td>\n",
       "      <td>(0, 1, 4, 5, 7, 8, 10, 11, 12)</td>\n",
       "      <td>0.04762</td>\n",
       "      <td>0.03705</td>\n",
       "      <td>0.018525</td>\n",
       "      <td>9</td>\n",
       "    </tr>\n",
       "    <tr>\n",
       "      <th>10</th>\n",
       "      <td>(0, 1, 4, 5, 7, 8, 9, 10, 11, 12)</td>\n",
       "      <td>[0.7769593921905563, 0.6884741223718953, 0.702...</td>\n",
       "      <td>0.710033</td>\n",
       "      <td>(0, 1, 4, 5, 7, 8, 9, 10, 11, 12)</td>\n",
       "      <td>0.046075</td>\n",
       "      <td>0.035848</td>\n",
       "      <td>0.017924</td>\n",
       "      <td>10</td>\n",
       "    </tr>\n",
       "    <tr>\n",
       "      <th>11</th>\n",
       "      <td>(0, 1, 3, 4, 5, 7, 8, 9, 10, 11, 12)</td>\n",
       "      <td>[0.754710892556849, 0.6959627893665097, 0.7017...</td>\n",
       "      <td>0.708109</td>\n",
       "      <td>(0, 1, 3, 4, 5, 7, 8, 9, 10, 11, 12)</td>\n",
       "      <td>0.035367</td>\n",
       "      <td>0.027516</td>\n",
       "      <td>0.013758</td>\n",
       "      <td>11</td>\n",
       "    </tr>\n",
       "    <tr>\n",
       "      <th>12</th>\n",
       "      <td>(0, 1, 2, 3, 4, 5, 7, 8, 9, 10, 11, 12)</td>\n",
       "      <td>[0.7532855958710695, 0.6944570477695307, 0.693...</td>\n",
       "      <td>0.70581</td>\n",
       "      <td>(0, 1, 2, 3, 4, 5, 7, 8, 9, 10, 11, 12)</td>\n",
       "      <td>0.035641</td>\n",
       "      <td>0.02773</td>\n",
       "      <td>0.013865</td>\n",
       "      <td>12</td>\n",
       "    </tr>\n",
       "    <tr>\n",
       "      <th>13</th>\n",
       "      <td>(0, 1, 2, 3, 4, 5, 6, 7, 8, 9, 10, 11, 12)</td>\n",
       "      <td>[0.7535027170817178, 0.6920238509138777, 0.682...</td>\n",
       "      <td>0.702512</td>\n",
       "      <td>(0, 1, 2, 3, 4, 5, 6, 7, 8, 9, 10, 11, 12)</td>\n",
       "      <td>0.038207</td>\n",
       "      <td>0.029727</td>\n",
       "      <td>0.014863</td>\n",
       "      <td>13</td>\n",
       "    </tr>\n",
       "  </tbody>\n",
       "</table>\n",
       "</div>"
      ],
      "text/plain": [
       "                                   feature_idx  \\\n",
       "1                                        (12,)   \n",
       "2                                      (5, 12)   \n",
       "3                                  (5, 10, 12)   \n",
       "4                              (5, 10, 11, 12)   \n",
       "5                           (5, 7, 10, 11, 12)   \n",
       "6                        (4, 5, 7, 10, 11, 12)   \n",
       "7                     (1, 4, 5, 7, 10, 11, 12)   \n",
       "8                  (0, 1, 4, 5, 7, 10, 11, 12)   \n",
       "9               (0, 1, 4, 5, 7, 8, 10, 11, 12)   \n",
       "10           (0, 1, 4, 5, 7, 8, 9, 10, 11, 12)   \n",
       "11        (0, 1, 3, 4, 5, 7, 8, 9, 10, 11, 12)   \n",
       "12     (0, 1, 2, 3, 4, 5, 7, 8, 9, 10, 11, 12)   \n",
       "13  (0, 1, 2, 3, 4, 5, 6, 7, 8, 9, 10, 11, 12)   \n",
       "\n",
       "                                            cv_scores avg_score  \\\n",
       "1   [0.5472998394577442, 0.49002001493399727, 0.53...  0.538451   \n",
       "2   [0.6330856272904802, 0.5779812120755249, 0.586...  0.613259   \n",
       "3   [0.7215896884753017, 0.6288372046797153, 0.633...  0.661012   \n",
       "4   [0.725877216548624, 0.6342604286872173, 0.6558...  0.667383   \n",
       "5   [0.7440756174774326, 0.6473449858158777, 0.614...  0.671496   \n",
       "6   [0.7554472741494642, 0.6695521143038103, 0.653...   0.68562   \n",
       "7   [0.7548843433907461, 0.6798073590310516, 0.662...    0.6913   \n",
       "8   [0.7678201537729974, 0.6827004362205138, 0.671...  0.695442   \n",
       "9   [0.7746648196407366, 0.6850585456872307, 0.683...  0.703763   \n",
       "10  [0.7769593921905563, 0.6884741223718953, 0.702...  0.710033   \n",
       "11  [0.754710892556849, 0.6959627893665097, 0.7017...  0.708109   \n",
       "12  [0.7532855958710695, 0.6944570477695307, 0.693...   0.70581   \n",
       "13  [0.7535027170817178, 0.6920238509138777, 0.682...  0.702512   \n",
       "\n",
       "                                 feature_names  ci_bound   std_dev   std_err  \\\n",
       "1                                        (12,)  0.032755  0.025485  0.012742   \n",
       "2                                      (5, 12)  0.034066  0.026505  0.013252   \n",
       "3                                  (5, 10, 12)   0.04259  0.033136  0.016568   \n",
       "4                              (5, 10, 11, 12)  0.039611  0.030819   0.01541   \n",
       "5                           (5, 7, 10, 11, 12)  0.055057  0.042836  0.021418   \n",
       "6                        (4, 5, 7, 10, 11, 12)  0.047626  0.037054  0.018527   \n",
       "7                     (1, 4, 5, 7, 10, 11, 12)  0.042762   0.03327  0.016635   \n",
       "8                  (0, 1, 4, 5, 7, 10, 11, 12)  0.048774  0.037948  0.018974   \n",
       "9               (0, 1, 4, 5, 7, 8, 10, 11, 12)   0.04762   0.03705  0.018525   \n",
       "10           (0, 1, 4, 5, 7, 8, 9, 10, 11, 12)  0.046075  0.035848  0.017924   \n",
       "11        (0, 1, 3, 4, 5, 7, 8, 9, 10, 11, 12)  0.035367  0.027516  0.013758   \n",
       "12     (0, 1, 2, 3, 4, 5, 7, 8, 9, 10, 11, 12)  0.035641   0.02773  0.013865   \n",
       "13  (0, 1, 2, 3, 4, 5, 6, 7, 8, 9, 10, 11, 12)  0.038207  0.029727  0.014863   \n",
       "\n",
       "     k  \n",
       "1    1  \n",
       "2    2  \n",
       "3    3  \n",
       "4    4  \n",
       "5    5  \n",
       "6    6  \n",
       "7    7  \n",
       "8    8  \n",
       "9    9  \n",
       "10  10  \n",
       "11  11  \n",
       "12  12  \n",
       "13  13  "
      ]
     },
     "execution_count": 52,
     "metadata": {},
     "output_type": "execute_result"
    }
   ],
   "source": [
    "metricDf[\"k\"] = metricDf[\"feature_names\"].apply(lambda x: len(x))\n",
    "metricDf"
   ]
  },
  {
   "cell_type": "code",
   "execution_count": 53,
   "metadata": {},
   "outputs": [
    {
     "data": {
      "text/html": [
       "<div>\n",
       "<style scoped>\n",
       "    .dataframe tbody tr th:only-of-type {\n",
       "        vertical-align: middle;\n",
       "    }\n",
       "\n",
       "    .dataframe tbody tr th {\n",
       "        vertical-align: top;\n",
       "    }\n",
       "\n",
       "    .dataframe thead th {\n",
       "        text-align: right;\n",
       "    }\n",
       "</style>\n",
       "<table border=\"1\" class=\"dataframe\">\n",
       "  <thead>\n",
       "    <tr style=\"text-align: right;\">\n",
       "      <th></th>\n",
       "      <th>feature_idx</th>\n",
       "      <th>cv_scores</th>\n",
       "      <th>avg_score</th>\n",
       "      <th>feature_names</th>\n",
       "      <th>ci_bound</th>\n",
       "      <th>std_dev</th>\n",
       "      <th>std_err</th>\n",
       "      <th>k</th>\n",
       "      <th>AdjustedR2</th>\n",
       "    </tr>\n",
       "  </thead>\n",
       "  <tbody>\n",
       "    <tr>\n",
       "      <th>10</th>\n",
       "      <td>(0, 1, 4, 5, 7, 8, 9, 10, 11, 12)</td>\n",
       "      <td>[0.7769593921905563, 0.6884741223718953, 0.702...</td>\n",
       "      <td>0.710033</td>\n",
       "      <td>(0, 1, 4, 5, 7, 8, 9, 10, 11, 12)</td>\n",
       "      <td>0.046075</td>\n",
       "      <td>0.035848</td>\n",
       "      <td>0.017924</td>\n",
       "      <td>10</td>\n",
       "      <td>0.702654</td>\n",
       "    </tr>\n",
       "    <tr>\n",
       "      <th>11</th>\n",
       "      <td>(0, 1, 3, 4, 5, 7, 8, 9, 10, 11, 12)</td>\n",
       "      <td>[0.754710892556849, 0.6959627893665097, 0.7017...</td>\n",
       "      <td>0.708109</td>\n",
       "      <td>(0, 1, 3, 4, 5, 7, 8, 9, 10, 11, 12)</td>\n",
       "      <td>0.035367</td>\n",
       "      <td>0.027516</td>\n",
       "      <td>0.013758</td>\n",
       "      <td>11</td>\n",
       "      <td>0.699918</td>\n",
       "    </tr>\n",
       "    <tr>\n",
       "      <th>9</th>\n",
       "      <td>(0, 1, 4, 5, 7, 8, 10, 11, 12)</td>\n",
       "      <td>[0.7746648196407366, 0.6850585456872307, 0.683...</td>\n",
       "      <td>0.703763</td>\n",
       "      <td>(0, 1, 4, 5, 7, 8, 10, 11, 12)</td>\n",
       "      <td>0.04762</td>\n",
       "      <td>0.03705</td>\n",
       "      <td>0.018525</td>\n",
       "      <td>9</td>\n",
       "      <td>0.696996</td>\n",
       "    </tr>\n",
       "    <tr>\n",
       "      <th>12</th>\n",
       "      <td>(0, 1, 2, 3, 4, 5, 7, 8, 9, 10, 11, 12)</td>\n",
       "      <td>[0.7532855958710695, 0.6944570477695307, 0.693...</td>\n",
       "      <td>0.70581</td>\n",
       "      <td>(0, 1, 2, 3, 4, 5, 7, 8, 9, 10, 11, 12)</td>\n",
       "      <td>0.035641</td>\n",
       "      <td>0.02773</td>\n",
       "      <td>0.013865</td>\n",
       "      <td>12</td>\n",
       "      <td>0.696781</td>\n",
       "    </tr>\n",
       "    <tr>\n",
       "      <th>13</th>\n",
       "      <td>(0, 1, 2, 3, 4, 5, 6, 7, 8, 9, 10, 11, 12)</td>\n",
       "      <td>[0.7535027170817178, 0.6920238509138777, 0.682...</td>\n",
       "      <td>0.702512</td>\n",
       "      <td>(0, 1, 2, 3, 4, 5, 6, 7, 8, 9, 10, 11, 12)</td>\n",
       "      <td>0.038207</td>\n",
       "      <td>0.029727</td>\n",
       "      <td>0.014863</td>\n",
       "      <td>13</td>\n",
       "      <td>0.692596</td>\n",
       "    </tr>\n",
       "    <tr>\n",
       "      <th>8</th>\n",
       "      <td>(0, 1, 4, 5, 7, 10, 11, 12)</td>\n",
       "      <td>[0.7678201537729974, 0.6827004362205138, 0.671...</td>\n",
       "      <td>0.695442</td>\n",
       "      <td>(0, 1, 4, 5, 7, 10, 11, 12)</td>\n",
       "      <td>0.048774</td>\n",
       "      <td>0.037948</td>\n",
       "      <td>0.018974</td>\n",
       "      <td>8</td>\n",
       "      <td>0.689274</td>\n",
       "    </tr>\n",
       "    <tr>\n",
       "      <th>7</th>\n",
       "      <td>(1, 4, 5, 7, 10, 11, 12)</td>\n",
       "      <td>[0.7548843433907461, 0.6798073590310516, 0.662...</td>\n",
       "      <td>0.6913</td>\n",
       "      <td>(1, 4, 5, 7, 10, 11, 12)</td>\n",
       "      <td>0.042762</td>\n",
       "      <td>0.03327</td>\n",
       "      <td>0.016635</td>\n",
       "      <td>7</td>\n",
       "      <td>0.685844</td>\n",
       "    </tr>\n",
       "    <tr>\n",
       "      <th>6</th>\n",
       "      <td>(4, 5, 7, 10, 11, 12)</td>\n",
       "      <td>[0.7554472741494642, 0.6695521143038103, 0.653...</td>\n",
       "      <td>0.68562</td>\n",
       "      <td>(4, 5, 7, 10, 11, 12)</td>\n",
       "      <td>0.047626</td>\n",
       "      <td>0.037054</td>\n",
       "      <td>0.018527</td>\n",
       "      <td>6</td>\n",
       "      <td>0.680869</td>\n",
       "    </tr>\n",
       "    <tr>\n",
       "      <th>5</th>\n",
       "      <td>(5, 7, 10, 11, 12)</td>\n",
       "      <td>[0.7440756174774326, 0.6473449858158777, 0.614...</td>\n",
       "      <td>0.671496</td>\n",
       "      <td>(5, 7, 10, 11, 12)</td>\n",
       "      <td>0.055057</td>\n",
       "      <td>0.042836</td>\n",
       "      <td>0.021418</td>\n",
       "      <td>5</td>\n",
       "      <td>0.667369</td>\n",
       "    </tr>\n",
       "    <tr>\n",
       "      <th>4</th>\n",
       "      <td>(5, 10, 11, 12)</td>\n",
       "      <td>[0.725877216548624, 0.6342604286872173, 0.6558...</td>\n",
       "      <td>0.667383</td>\n",
       "      <td>(5, 10, 11, 12)</td>\n",
       "      <td>0.039611</td>\n",
       "      <td>0.030819</td>\n",
       "      <td>0.01541</td>\n",
       "      <td>4</td>\n",
       "      <td>0.664048</td>\n",
       "    </tr>\n",
       "    <tr>\n",
       "      <th>3</th>\n",
       "      <td>(5, 10, 12)</td>\n",
       "      <td>[0.7215896884753017, 0.6288372046797153, 0.633...</td>\n",
       "      <td>0.661012</td>\n",
       "      <td>(5, 10, 12)</td>\n",
       "      <td>0.04259</td>\n",
       "      <td>0.033136</td>\n",
       "      <td>0.016568</td>\n",
       "      <td>3</td>\n",
       "      <td>0.65847</td>\n",
       "    </tr>\n",
       "    <tr>\n",
       "      <th>2</th>\n",
       "      <td>(5, 12)</td>\n",
       "      <td>[0.6330856272904802, 0.5779812120755249, 0.586...</td>\n",
       "      <td>0.613259</td>\n",
       "      <td>(5, 12)</td>\n",
       "      <td>0.034066</td>\n",
       "      <td>0.026505</td>\n",
       "      <td>0.013252</td>\n",
       "      <td>2</td>\n",
       "      <td>0.61133</td>\n",
       "    </tr>\n",
       "    <tr>\n",
       "      <th>1</th>\n",
       "      <td>(12,)</td>\n",
       "      <td>[0.5472998394577442, 0.49002001493399727, 0.53...</td>\n",
       "      <td>0.538451</td>\n",
       "      <td>(12,)</td>\n",
       "      <td>0.032755</td>\n",
       "      <td>0.025485</td>\n",
       "      <td>0.012742</td>\n",
       "      <td>1</td>\n",
       "      <td>0.537303</td>\n",
       "    </tr>\n",
       "  </tbody>\n",
       "</table>\n",
       "</div>"
      ],
      "text/plain": [
       "                                   feature_idx  \\\n",
       "10           (0, 1, 4, 5, 7, 8, 9, 10, 11, 12)   \n",
       "11        (0, 1, 3, 4, 5, 7, 8, 9, 10, 11, 12)   \n",
       "9               (0, 1, 4, 5, 7, 8, 10, 11, 12)   \n",
       "12     (0, 1, 2, 3, 4, 5, 7, 8, 9, 10, 11, 12)   \n",
       "13  (0, 1, 2, 3, 4, 5, 6, 7, 8, 9, 10, 11, 12)   \n",
       "8                  (0, 1, 4, 5, 7, 10, 11, 12)   \n",
       "7                     (1, 4, 5, 7, 10, 11, 12)   \n",
       "6                        (4, 5, 7, 10, 11, 12)   \n",
       "5                           (5, 7, 10, 11, 12)   \n",
       "4                              (5, 10, 11, 12)   \n",
       "3                                  (5, 10, 12)   \n",
       "2                                      (5, 12)   \n",
       "1                                        (12,)   \n",
       "\n",
       "                                            cv_scores avg_score  \\\n",
       "10  [0.7769593921905563, 0.6884741223718953, 0.702...  0.710033   \n",
       "11  [0.754710892556849, 0.6959627893665097, 0.7017...  0.708109   \n",
       "9   [0.7746648196407366, 0.6850585456872307, 0.683...  0.703763   \n",
       "12  [0.7532855958710695, 0.6944570477695307, 0.693...   0.70581   \n",
       "13  [0.7535027170817178, 0.6920238509138777, 0.682...  0.702512   \n",
       "8   [0.7678201537729974, 0.6827004362205138, 0.671...  0.695442   \n",
       "7   [0.7548843433907461, 0.6798073590310516, 0.662...    0.6913   \n",
       "6   [0.7554472741494642, 0.6695521143038103, 0.653...   0.68562   \n",
       "5   [0.7440756174774326, 0.6473449858158777, 0.614...  0.671496   \n",
       "4   [0.725877216548624, 0.6342604286872173, 0.6558...  0.667383   \n",
       "3   [0.7215896884753017, 0.6288372046797153, 0.633...  0.661012   \n",
       "2   [0.6330856272904802, 0.5779812120755249, 0.586...  0.613259   \n",
       "1   [0.5472998394577442, 0.49002001493399727, 0.53...  0.538451   \n",
       "\n",
       "                                 feature_names  ci_bound   std_dev   std_err  \\\n",
       "10           (0, 1, 4, 5, 7, 8, 9, 10, 11, 12)  0.046075  0.035848  0.017924   \n",
       "11        (0, 1, 3, 4, 5, 7, 8, 9, 10, 11, 12)  0.035367  0.027516  0.013758   \n",
       "9               (0, 1, 4, 5, 7, 8, 10, 11, 12)   0.04762   0.03705  0.018525   \n",
       "12     (0, 1, 2, 3, 4, 5, 7, 8, 9, 10, 11, 12)  0.035641   0.02773  0.013865   \n",
       "13  (0, 1, 2, 3, 4, 5, 6, 7, 8, 9, 10, 11, 12)  0.038207  0.029727  0.014863   \n",
       "8                  (0, 1, 4, 5, 7, 10, 11, 12)  0.048774  0.037948  0.018974   \n",
       "7                     (1, 4, 5, 7, 10, 11, 12)  0.042762   0.03327  0.016635   \n",
       "6                        (4, 5, 7, 10, 11, 12)  0.047626  0.037054  0.018527   \n",
       "5                           (5, 7, 10, 11, 12)  0.055057  0.042836  0.021418   \n",
       "4                              (5, 10, 11, 12)  0.039611  0.030819   0.01541   \n",
       "3                                  (5, 10, 12)   0.04259  0.033136  0.016568   \n",
       "2                                      (5, 12)  0.034066  0.026505  0.013252   \n",
       "1                                        (12,)  0.032755  0.025485  0.012742   \n",
       "\n",
       "     k AdjustedR2  \n",
       "10  10   0.702654  \n",
       "11  11   0.699918  \n",
       "9    9   0.696996  \n",
       "12  12   0.696781  \n",
       "13  13   0.692596  \n",
       "8    8   0.689274  \n",
       "7    7   0.685844  \n",
       "6    6   0.680869  \n",
       "5    5   0.667369  \n",
       "4    4   0.664048  \n",
       "3    3    0.65847  \n",
       "2    2    0.61133  \n",
       "1    1   0.537303  "
      ]
     },
     "execution_count": 53,
     "metadata": {},
     "output_type": "execute_result"
    }
   ],
   "source": [
    "metricDf[\"AdjustedR2\"] = adjusterR2(\n",
    "    r2=metricDf[\"avg_score\"], n=xTrain.shape[0], k=metricDf[\"k\"])\n",
    "metricDf.sort_values(\"AdjustedR2\", ascending=False)"
   ]
  },
  {
   "cell_type": "code",
   "execution_count": 54,
   "metadata": {},
   "outputs": [],
   "source": [
    "xTrainSel = sfs.transform(xTrain)\n",
    "xTestSel = sfs.transform(xTest)"
   ]
  },
  {
   "cell_type": "code",
   "execution_count": 55,
   "metadata": {},
   "outputs": [
    {
     "name": "stdout",
     "output_type": "stream",
     "text": [
      "Training 0.7100327839218562\n",
      "Testing 0.7205819296124483\n"
     ]
    }
   ],
   "source": [
    "print(\"Training\", cross_val_score(LinearRegression(),\n",
    "      xTrainSel, yTrain, cv=5, scoring=\"r2\").mean())\n",
    "print(\"Testing\", cross_val_score(LinearRegression(),\n",
    "      xTestSel, yTest, cv=5, scoring=\"r2\").mean())"
   ]
  },
  {
   "cell_type": "markdown",
   "metadata": {},
   "source": [
    "# End"
   ]
  }
 ],
 "metadata": {
  "kernelspec": {
   "display_name": "Python 3",
   "language": "python",
   "name": "python3"
  },
  "language_info": {
   "codemirror_mode": {
    "name": "ipython",
    "version": 3
   },
   "file_extension": ".py",
   "mimetype": "text/x-python",
   "name": "python",
   "nbconvert_exporter": "python",
   "pygments_lexer": "ipython3",
   "version": "3.11.4"
  },
  "orig_nbformat": 4
 },
 "nbformat": 4,
 "nbformat_minor": 2
}
