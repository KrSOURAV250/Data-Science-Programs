{
 "cells": [
  {
   "cell_type": "code",
   "execution_count": 72,
   "metadata": {},
   "outputs": [],
   "source": [
    "import numpy as np\n",
    "from sklearn.datasets import make_regression\n",
    "import plotly.express as px\n",
    "import plotly.graph_objects as go"
   ]
  },
  {
   "cell_type": "code",
   "execution_count": 73,
   "metadata": {},
   "outputs": [],
   "source": [
    "x, y = make_regression(n_samples=100, n_features=1,\n",
    "                       n_informative=1, n_targets=1, noise=20, random_state=13)"
   ]
  },
  {
   "cell_type": "code",
   "execution_count": 74,
   "metadata": {},
   "outputs": [
    {
     "data": {
      "text/plain": [
       "(100, 1)"
      ]
     },
     "execution_count": 74,
     "metadata": {},
     "output_type": "execute_result"
    }
   ],
   "source": [
    "x.shape"
   ]
  },
  {
   "cell_type": "code",
   "execution_count": 75,
   "metadata": {},
   "outputs": [
    {
     "data": {
      "text/plain": [
       "(100,)"
      ]
     },
     "execution_count": 75,
     "metadata": {},
     "output_type": "execute_result"
    }
   ],
   "source": [
    "y.shape"
   ]
  },
  {
   "cell_type": "code",
   "execution_count": 76,
   "metadata": {},
   "outputs": [
    {
     "data": {
      "application/vnd.plotly.v1+json": {
       "config": {
        "plotlyServerURL": "https://plot.ly"
       },
       "data": [
        {
         "hovertemplate": "x=%{x}<br>y=%{y}<extra></extra>",
         "legendgroup": "",
         "marker": {
          "color": "#636efa",
          "symbol": "circle"
         },
         "mode": "markers",
         "name": "",
         "orientation": "v",
         "showlegend": false,
         "type": "scatter",
         "x": [
          -0.712390662050588,
          -0.4371456556814915,
          -0.4537523812416193,
          0.9528306110451948,
          0.23785783828501061,
          0.8612113741693206,
          -0.24332625188556253,
          0.18494595039221876,
          -0.7209996734353815,
          -0.42989708186880404,
          2.0152208250443837,
          0.3972413264075336,
          0.20780005335113885,
          -0.2324258720274623,
          -0.7686270207784495,
          0.4531586132388156,
          0.6398839732802036,
          0.35953229551797367,
          -1.6151079632521659,
          1.749241790081012,
          -0.7889890249515489,
          -0.511965094194221,
          -0.928335225810039,
          2.1503829673811126,
          -0.20734969827652708,
          -1.639093411201915,
          -0.3386182541020083,
          -0.3221236569774085,
          -0.48137141579474935,
          -0.5231642148972904,
          0.7219650574076287,
          0.7659110492252689,
          0.45348104026746144,
          -1.261605945319069,
          -2.187115273247333,
          -1.185418809153406,
          0.21745165945019368,
          1.3303169236725105,
          -1.0871815907509188,
          0.5622617060581323,
          -1.5128451152607716,
          -0.002389025600514556,
          -0.27813451650877447,
          0.45181233874578974,
          1.190705272505982,
          0.9223441482568703,
          0.8149954430712237,
          -0.6209797023155086,
          0.9137407048596775,
          1.1383330474921514,
          1.4786857374358966,
          -0.6510564789536804,
          -0.37591996120915105,
          -0.7746600331288077,
          0.5011372949374676,
          1.3501878997225267,
          0.7291654706806434,
          -0.08165155616424355,
          -0.8541429534648363,
          0.46565797200403236,
          -0.044503078338053455,
          -0.057532387873538586,
          1.8927422187767202,
          -1.0453771305385342,
          0.5646542880869975,
          -1.9241594490929896,
          -0.7640339696578627,
          0.12730328020698067,
          -0.026771649986440726,
          -0.1452113325860197,
          0.5628467852810314,
          0.31735092273633597,
          0.7109747948581455,
          0.753766378659703,
          -0.37011607810475444,
          1.3451017084510097,
          0.5323378882945463,
          -0.9841607817725814,
          1.3503059959308692,
          -0.3466067875476209,
          0.5143288551447859,
          0.1012697856437548,
          -0.6575172676978901,
          0.8309056578021413,
          -0.31726597100271015,
          -0.9802743185258672,
          1.3992384201681904,
          0.5479183096073379,
          -0.530327407582726,
          0.49087183250951594,
          0.3487505938690223,
          2.0536932362953815,
          0.6062886568962988,
          -0.38445768500357647,
          -1.9453906815188249,
          -0.3148580761325759,
          1.8496125662057936,
          -1.1205068713840005,
          -0.33267577528589565,
          -0.757453225587536
         ],
         "xaxis": "x",
         "y": [
          -34.31988063081638,
          -9.42120961239921,
          -19.08818774565816,
          20.437212162837618,
          27.755965901983803,
          -2.907500458765842,
          -14.198782823874307,
          5.400258909615711,
          -26.426430241182402,
          -34.90678722713892,
          37.336204301851694,
          12.853281581453212,
          25.028988781212128,
          -18.960873557222328,
          -23.465585176023875,
          37.78393244269782,
          6.696707918178907,
          -5.572013520473915,
          -49.21587780060539,
          15.94743988166281,
          -42.96673238210259,
          6.090154657122669,
          -25.31947690981174,
          62.82167059557334,
          12.48703995017722,
          -32.713652974324106,
          -18.825547632993782,
          -29.39129263521983,
          -28.688673082068902,
          4.389240686044754,
          46.35423956473224,
          24.39195191027521,
          37.98485171512923,
          -34.57677176602421,
          -61.87362964153242,
          -46.4421596644352,
          -6.888084164727646,
          39.69880836164066,
          -35.237329788013064,
          8.36850884071089,
          -39.681441205454234,
          8.273183075953428,
          -4.407221609258824,
          -3.0135060664427673,
          57.82136286763696,
          24.652560271010255,
          18.113170696123113,
          -52.28490353366432,
          35.918718200086225,
          15.841178809369493,
          24.008054578022303,
          -25.12459942134023,
          -43.92843134919616,
          17.392504946146826,
          15.032279920284017,
          37.833907283500956,
          6.330150593894848,
          5.072661397183754,
          -5.570471890216485,
          19.84111372326433,
          7.041497003915664,
          -18.935330994030277,
          34.80473723730849,
          -57.13912421993564,
          31.05248370162285,
          -75.7291461443336,
          -44.30628825537301,
          21.240410313399202,
          -0.18628862161606075,
          -28.565716532356845,
          -7.391693228518166,
          25.22397748035855,
          32.54321359847095,
          0.29337912869204175,
          -18.63814231042117,
          39.35016824159919,
          2.540050981591735,
          -48.63206990083934,
          54.281805068263225,
          -10.217091039005162,
          -5.66921619738557,
          23.462861952927838,
          -0.06922996701865358,
          5.630794590835777,
          -9.68771367749279,
          -44.66386562968767,
          32.70830971025881,
          18.11747901170934,
          -16.143226187508308,
          45.041441318159386,
          22.7466323999307,
          37.10854707226821,
          12.476026424489888,
          -35.84520019603448,
          -28.638666126195115,
          -27.979066226835464,
          64.17947047969268,
          -60.71543942099409,
          22.233364570202106,
          -2.4022215114722627
         ],
         "yaxis": "y"
        },
        {
         "hovertemplate": "<b>OLS trendline</b><br>y = 27.8281 * x + -2.29474<br>R<sup>2</sup>=0.703518<br><br>x=%{x}<br>y=%{y} <b>(trend)</b><extra></extra>",
         "legendgroup": "",
         "line": {
          "color": "red"
         },
         "marker": {
          "color": "#636efa",
          "symbol": "circle"
         },
         "mode": "lines",
         "name": "",
         "showlegend": false,
         "type": "scatter",
         "x": [
          -2.187115273247333,
          -1.9453906815188249,
          -1.9241594490929896,
          -1.639093411201915,
          -1.6151079632521659,
          -1.5128451152607716,
          -1.261605945319069,
          -1.185418809153406,
          -1.1205068713840005,
          -1.0871815907509188,
          -1.0453771305385342,
          -0.9841607817725814,
          -0.9802743185258672,
          -0.928335225810039,
          -0.8541429534648363,
          -0.7889890249515489,
          -0.7746600331288077,
          -0.7686270207784495,
          -0.7640339696578627,
          -0.757453225587536,
          -0.7209996734353815,
          -0.712390662050588,
          -0.6575172676978901,
          -0.6510564789536804,
          -0.6209797023155086,
          -0.530327407582726,
          -0.5231642148972904,
          -0.511965094194221,
          -0.48137141579474935,
          -0.4537523812416193,
          -0.4371456556814915,
          -0.42989708186880404,
          -0.38445768500357647,
          -0.37591996120915105,
          -0.37011607810475444,
          -0.3466067875476209,
          -0.3386182541020083,
          -0.33267577528589565,
          -0.3221236569774085,
          -0.31726597100271015,
          -0.3148580761325759,
          -0.27813451650877447,
          -0.24332625188556253,
          -0.2324258720274623,
          -0.20734969827652708,
          -0.1452113325860197,
          -0.08165155616424355,
          -0.057532387873538586,
          -0.044503078338053455,
          -0.026771649986440726,
          -0.002389025600514556,
          0.1012697856437548,
          0.12730328020698067,
          0.18494595039221876,
          0.20780005335113885,
          0.21745165945019368,
          0.23785783828501061,
          0.31735092273633597,
          0.3487505938690223,
          0.35953229551797367,
          0.3972413264075336,
          0.45181233874578974,
          0.4531586132388156,
          0.45348104026746144,
          0.46565797200403236,
          0.49087183250951594,
          0.5011372949374676,
          0.5143288551447859,
          0.5323378882945463,
          0.5479183096073379,
          0.5622617060581323,
          0.5628467852810314,
          0.5646542880869975,
          0.6062886568962988,
          0.6398839732802036,
          0.7109747948581455,
          0.7219650574076287,
          0.7291654706806434,
          0.753766378659703,
          0.7659110492252689,
          0.8149954430712237,
          0.8309056578021413,
          0.8612113741693206,
          0.9137407048596775,
          0.9223441482568703,
          0.9528306110451948,
          1.1383330474921514,
          1.190705272505982,
          1.3303169236725105,
          1.3451017084510097,
          1.3501878997225267,
          1.3503059959308692,
          1.3992384201681904,
          1.4786857374358966,
          1.749241790081012,
          1.8496125662057936,
          1.8927422187767202,
          2.0152208250443837,
          2.0536932362953815,
          2.1503829673811126
         ],
         "xaxis": "x",
         "y": [
          -63.1579874812189,
          -56.431253537799215,
          -55.84042886912047,
          -47.907585216407824,
          -47.240115987406426,
          -44.39433614425714,
          -37.40282965218465,
          -35.282687091459564,
          -33.47631177811527,
          -32.54893283497359,
          -31.385594510617985,
          -29.68206038448055,
          -29.57390753145644,
          -28.128541731213872,
          -26.063912422482048,
          -24.250802968687978,
          -23.852054479840497,
          -23.68416726295441,
          -23.556351418253705,
          -23.373221873202937,
          -22.358789105454058,
          -22.119216752938023,
          -20.592194939627774,
          -20.41240352231202,
          -19.5754242440602,
          -17.052743933929484,
          -16.8534059557957,
          -16.5417558053865,
          -15.690392137866361,
          -14.92180713009154,
          -14.459673659452225,
          -14.257959687536816,
          -12.993468015108455,
          -12.755879460146671,
          -12.594368472775416,
          -11.940149795041538,
          -11.717844159100698,
          -11.552476317647093,
          -11.258831008772592,
          -11.12365088126129,
          -11.056643763618455,
          -10.034697203369127,
          -9.066049646750336,
          -8.762712883770075,
          -8.064890837881757,
          -6.335698740834292,
          -4.56695149656248,
          -3.8957610857400686,
          -3.533180273895706,
          -3.0397484715904186,
          -2.36122658056712,
          0.5234002550612287,
          1.2478627116612961,
          2.8519481849336348,
          3.4879342425410513,
          3.7565200156755756,
          4.324385017916747,
          6.53652580848404,
          7.410318715155629,
          7.710352890128119,
          8.759723234470908,
          10.278330333556678,
          10.315794582703361,
          10.324767111407862,
          10.663627876269942,
          11.365281481697803,
          11.650949704633756,
          12.01804564294398,
          12.519202656843186,
          12.952776039460566,
          13.3519253816088,
          13.36820701948487,
          13.418506372110832,
          14.577111377417586,
          15.512004900015205,
          17.490326754462814,
          17.79616478116113,
          17.996538537194354,
          18.681134843918272,
          19.01909784197681,
          20.38502282219811,
          20.827773726077027,
          21.671123959948623,
          23.132914956277233,
          23.372332362327448,
          24.22071242406048,
          29.382891112260666,
          30.840310157521166,
          34.725435895383775,
          35.13686823209606,
          35.27840722580865,
          35.281693617845,
          36.64338957396307,
          38.854256751178305,
          46.38331521358588,
          49.17644230859101,
          50.376658206535716,
          53.78500401128844,
          54.85561777382176,
          57.54630841238538
         ],
         "yaxis": "y"
        }
       ],
       "layout": {
        "legend": {
         "tracegroupgap": 0
        },
        "margin": {
         "t": 60
        },
        "template": {
         "data": {
          "bar": [
           {
            "error_x": {
             "color": "#2a3f5f"
            },
            "error_y": {
             "color": "#2a3f5f"
            },
            "marker": {
             "line": {
              "color": "#E5ECF6",
              "width": 0.5
             },
             "pattern": {
              "fillmode": "overlay",
              "size": 10,
              "solidity": 0.2
             }
            },
            "type": "bar"
           }
          ],
          "barpolar": [
           {
            "marker": {
             "line": {
              "color": "#E5ECF6",
              "width": 0.5
             },
             "pattern": {
              "fillmode": "overlay",
              "size": 10,
              "solidity": 0.2
             }
            },
            "type": "barpolar"
           }
          ],
          "carpet": [
           {
            "aaxis": {
             "endlinecolor": "#2a3f5f",
             "gridcolor": "white",
             "linecolor": "white",
             "minorgridcolor": "white",
             "startlinecolor": "#2a3f5f"
            },
            "baxis": {
             "endlinecolor": "#2a3f5f",
             "gridcolor": "white",
             "linecolor": "white",
             "minorgridcolor": "white",
             "startlinecolor": "#2a3f5f"
            },
            "type": "carpet"
           }
          ],
          "choropleth": [
           {
            "colorbar": {
             "outlinewidth": 0,
             "ticks": ""
            },
            "type": "choropleth"
           }
          ],
          "contour": [
           {
            "colorbar": {
             "outlinewidth": 0,
             "ticks": ""
            },
            "colorscale": [
             [
              0,
              "#0d0887"
             ],
             [
              0.1111111111111111,
              "#46039f"
             ],
             [
              0.2222222222222222,
              "#7201a8"
             ],
             [
              0.3333333333333333,
              "#9c179e"
             ],
             [
              0.4444444444444444,
              "#bd3786"
             ],
             [
              0.5555555555555556,
              "#d8576b"
             ],
             [
              0.6666666666666666,
              "#ed7953"
             ],
             [
              0.7777777777777778,
              "#fb9f3a"
             ],
             [
              0.8888888888888888,
              "#fdca26"
             ],
             [
              1,
              "#f0f921"
             ]
            ],
            "type": "contour"
           }
          ],
          "contourcarpet": [
           {
            "colorbar": {
             "outlinewidth": 0,
             "ticks": ""
            },
            "type": "contourcarpet"
           }
          ],
          "heatmap": [
           {
            "colorbar": {
             "outlinewidth": 0,
             "ticks": ""
            },
            "colorscale": [
             [
              0,
              "#0d0887"
             ],
             [
              0.1111111111111111,
              "#46039f"
             ],
             [
              0.2222222222222222,
              "#7201a8"
             ],
             [
              0.3333333333333333,
              "#9c179e"
             ],
             [
              0.4444444444444444,
              "#bd3786"
             ],
             [
              0.5555555555555556,
              "#d8576b"
             ],
             [
              0.6666666666666666,
              "#ed7953"
             ],
             [
              0.7777777777777778,
              "#fb9f3a"
             ],
             [
              0.8888888888888888,
              "#fdca26"
             ],
             [
              1,
              "#f0f921"
             ]
            ],
            "type": "heatmap"
           }
          ],
          "heatmapgl": [
           {
            "colorbar": {
             "outlinewidth": 0,
             "ticks": ""
            },
            "colorscale": [
             [
              0,
              "#0d0887"
             ],
             [
              0.1111111111111111,
              "#46039f"
             ],
             [
              0.2222222222222222,
              "#7201a8"
             ],
             [
              0.3333333333333333,
              "#9c179e"
             ],
             [
              0.4444444444444444,
              "#bd3786"
             ],
             [
              0.5555555555555556,
              "#d8576b"
             ],
             [
              0.6666666666666666,
              "#ed7953"
             ],
             [
              0.7777777777777778,
              "#fb9f3a"
             ],
             [
              0.8888888888888888,
              "#fdca26"
             ],
             [
              1,
              "#f0f921"
             ]
            ],
            "type": "heatmapgl"
           }
          ],
          "histogram": [
           {
            "marker": {
             "pattern": {
              "fillmode": "overlay",
              "size": 10,
              "solidity": 0.2
             }
            },
            "type": "histogram"
           }
          ],
          "histogram2d": [
           {
            "colorbar": {
             "outlinewidth": 0,
             "ticks": ""
            },
            "colorscale": [
             [
              0,
              "#0d0887"
             ],
             [
              0.1111111111111111,
              "#46039f"
             ],
             [
              0.2222222222222222,
              "#7201a8"
             ],
             [
              0.3333333333333333,
              "#9c179e"
             ],
             [
              0.4444444444444444,
              "#bd3786"
             ],
             [
              0.5555555555555556,
              "#d8576b"
             ],
             [
              0.6666666666666666,
              "#ed7953"
             ],
             [
              0.7777777777777778,
              "#fb9f3a"
             ],
             [
              0.8888888888888888,
              "#fdca26"
             ],
             [
              1,
              "#f0f921"
             ]
            ],
            "type": "histogram2d"
           }
          ],
          "histogram2dcontour": [
           {
            "colorbar": {
             "outlinewidth": 0,
             "ticks": ""
            },
            "colorscale": [
             [
              0,
              "#0d0887"
             ],
             [
              0.1111111111111111,
              "#46039f"
             ],
             [
              0.2222222222222222,
              "#7201a8"
             ],
             [
              0.3333333333333333,
              "#9c179e"
             ],
             [
              0.4444444444444444,
              "#bd3786"
             ],
             [
              0.5555555555555556,
              "#d8576b"
             ],
             [
              0.6666666666666666,
              "#ed7953"
             ],
             [
              0.7777777777777778,
              "#fb9f3a"
             ],
             [
              0.8888888888888888,
              "#fdca26"
             ],
             [
              1,
              "#f0f921"
             ]
            ],
            "type": "histogram2dcontour"
           }
          ],
          "mesh3d": [
           {
            "colorbar": {
             "outlinewidth": 0,
             "ticks": ""
            },
            "type": "mesh3d"
           }
          ],
          "parcoords": [
           {
            "line": {
             "colorbar": {
              "outlinewidth": 0,
              "ticks": ""
             }
            },
            "type": "parcoords"
           }
          ],
          "pie": [
           {
            "automargin": true,
            "type": "pie"
           }
          ],
          "scatter": [
           {
            "fillpattern": {
             "fillmode": "overlay",
             "size": 10,
             "solidity": 0.2
            },
            "type": "scatter"
           }
          ],
          "scatter3d": [
           {
            "line": {
             "colorbar": {
              "outlinewidth": 0,
              "ticks": ""
             }
            },
            "marker": {
             "colorbar": {
              "outlinewidth": 0,
              "ticks": ""
             }
            },
            "type": "scatter3d"
           }
          ],
          "scattercarpet": [
           {
            "marker": {
             "colorbar": {
              "outlinewidth": 0,
              "ticks": ""
             }
            },
            "type": "scattercarpet"
           }
          ],
          "scattergeo": [
           {
            "marker": {
             "colorbar": {
              "outlinewidth": 0,
              "ticks": ""
             }
            },
            "type": "scattergeo"
           }
          ],
          "scattergl": [
           {
            "marker": {
             "colorbar": {
              "outlinewidth": 0,
              "ticks": ""
             }
            },
            "type": "scattergl"
           }
          ],
          "scattermapbox": [
           {
            "marker": {
             "colorbar": {
              "outlinewidth": 0,
              "ticks": ""
             }
            },
            "type": "scattermapbox"
           }
          ],
          "scatterpolar": [
           {
            "marker": {
             "colorbar": {
              "outlinewidth": 0,
              "ticks": ""
             }
            },
            "type": "scatterpolar"
           }
          ],
          "scatterpolargl": [
           {
            "marker": {
             "colorbar": {
              "outlinewidth": 0,
              "ticks": ""
             }
            },
            "type": "scatterpolargl"
           }
          ],
          "scatterternary": [
           {
            "marker": {
             "colorbar": {
              "outlinewidth": 0,
              "ticks": ""
             }
            },
            "type": "scatterternary"
           }
          ],
          "surface": [
           {
            "colorbar": {
             "outlinewidth": 0,
             "ticks": ""
            },
            "colorscale": [
             [
              0,
              "#0d0887"
             ],
             [
              0.1111111111111111,
              "#46039f"
             ],
             [
              0.2222222222222222,
              "#7201a8"
             ],
             [
              0.3333333333333333,
              "#9c179e"
             ],
             [
              0.4444444444444444,
              "#bd3786"
             ],
             [
              0.5555555555555556,
              "#d8576b"
             ],
             [
              0.6666666666666666,
              "#ed7953"
             ],
             [
              0.7777777777777778,
              "#fb9f3a"
             ],
             [
              0.8888888888888888,
              "#fdca26"
             ],
             [
              1,
              "#f0f921"
             ]
            ],
            "type": "surface"
           }
          ],
          "table": [
           {
            "cells": {
             "fill": {
              "color": "#EBF0F8"
             },
             "line": {
              "color": "white"
             }
            },
            "header": {
             "fill": {
              "color": "#C8D4E3"
             },
             "line": {
              "color": "white"
             }
            },
            "type": "table"
           }
          ]
         },
         "layout": {
          "annotationdefaults": {
           "arrowcolor": "#2a3f5f",
           "arrowhead": 0,
           "arrowwidth": 1
          },
          "autotypenumbers": "strict",
          "coloraxis": {
           "colorbar": {
            "outlinewidth": 0,
            "ticks": ""
           }
          },
          "colorscale": {
           "diverging": [
            [
             0,
             "#8e0152"
            ],
            [
             0.1,
             "#c51b7d"
            ],
            [
             0.2,
             "#de77ae"
            ],
            [
             0.3,
             "#f1b6da"
            ],
            [
             0.4,
             "#fde0ef"
            ],
            [
             0.5,
             "#f7f7f7"
            ],
            [
             0.6,
             "#e6f5d0"
            ],
            [
             0.7,
             "#b8e186"
            ],
            [
             0.8,
             "#7fbc41"
            ],
            [
             0.9,
             "#4d9221"
            ],
            [
             1,
             "#276419"
            ]
           ],
           "sequential": [
            [
             0,
             "#0d0887"
            ],
            [
             0.1111111111111111,
             "#46039f"
            ],
            [
             0.2222222222222222,
             "#7201a8"
            ],
            [
             0.3333333333333333,
             "#9c179e"
            ],
            [
             0.4444444444444444,
             "#bd3786"
            ],
            [
             0.5555555555555556,
             "#d8576b"
            ],
            [
             0.6666666666666666,
             "#ed7953"
            ],
            [
             0.7777777777777778,
             "#fb9f3a"
            ],
            [
             0.8888888888888888,
             "#fdca26"
            ],
            [
             1,
             "#f0f921"
            ]
           ],
           "sequentialminus": [
            [
             0,
             "#0d0887"
            ],
            [
             0.1111111111111111,
             "#46039f"
            ],
            [
             0.2222222222222222,
             "#7201a8"
            ],
            [
             0.3333333333333333,
             "#9c179e"
            ],
            [
             0.4444444444444444,
             "#bd3786"
            ],
            [
             0.5555555555555556,
             "#d8576b"
            ],
            [
             0.6666666666666666,
             "#ed7953"
            ],
            [
             0.7777777777777778,
             "#fb9f3a"
            ],
            [
             0.8888888888888888,
             "#fdca26"
            ],
            [
             1,
             "#f0f921"
            ]
           ]
          },
          "colorway": [
           "#636efa",
           "#EF553B",
           "#00cc96",
           "#ab63fa",
           "#FFA15A",
           "#19d3f3",
           "#FF6692",
           "#B6E880",
           "#FF97FF",
           "#FECB52"
          ],
          "font": {
           "color": "#2a3f5f"
          },
          "geo": {
           "bgcolor": "white",
           "lakecolor": "white",
           "landcolor": "#E5ECF6",
           "showlakes": true,
           "showland": true,
           "subunitcolor": "white"
          },
          "hoverlabel": {
           "align": "left"
          },
          "hovermode": "closest",
          "mapbox": {
           "style": "light"
          },
          "paper_bgcolor": "white",
          "plot_bgcolor": "#E5ECF6",
          "polar": {
           "angularaxis": {
            "gridcolor": "white",
            "linecolor": "white",
            "ticks": ""
           },
           "bgcolor": "#E5ECF6",
           "radialaxis": {
            "gridcolor": "white",
            "linecolor": "white",
            "ticks": ""
           }
          },
          "scene": {
           "xaxis": {
            "backgroundcolor": "#E5ECF6",
            "gridcolor": "white",
            "gridwidth": 2,
            "linecolor": "white",
            "showbackground": true,
            "ticks": "",
            "zerolinecolor": "white"
           },
           "yaxis": {
            "backgroundcolor": "#E5ECF6",
            "gridcolor": "white",
            "gridwidth": 2,
            "linecolor": "white",
            "showbackground": true,
            "ticks": "",
            "zerolinecolor": "white"
           },
           "zaxis": {
            "backgroundcolor": "#E5ECF6",
            "gridcolor": "white",
            "gridwidth": 2,
            "linecolor": "white",
            "showbackground": true,
            "ticks": "",
            "zerolinecolor": "white"
           }
          },
          "shapedefaults": {
           "line": {
            "color": "#2a3f5f"
           }
          },
          "ternary": {
           "aaxis": {
            "gridcolor": "white",
            "linecolor": "white",
            "ticks": ""
           },
           "baxis": {
            "gridcolor": "white",
            "linecolor": "white",
            "ticks": ""
           },
           "bgcolor": "#E5ECF6",
           "caxis": {
            "gridcolor": "white",
            "linecolor": "white",
            "ticks": ""
           }
          },
          "title": {
           "x": 0.05
          },
          "xaxis": {
           "automargin": true,
           "gridcolor": "white",
           "linecolor": "white",
           "ticks": "",
           "title": {
            "standoff": 15
           },
           "zerolinecolor": "white",
           "zerolinewidth": 2
          },
          "yaxis": {
           "automargin": true,
           "gridcolor": "white",
           "linecolor": "white",
           "ticks": "",
           "title": {
            "standoff": 15
           },
           "zerolinecolor": "white",
           "zerolinewidth": 2
          }
         }
        },
        "xaxis": {
         "anchor": "y",
         "domain": [
          0,
          1
         ],
         "title": {
          "text": "x"
         }
        },
        "yaxis": {
         "anchor": "x",
         "domain": [
          0,
          1
         ],
         "title": {
          "text": "y"
         }
        }
       }
      }
     },
     "metadata": {},
     "output_type": "display_data"
    }
   ],
   "source": [
    "px.scatter(x=x.flatten(), y=y, trendline=\"ols\", trendline_color_override=\"red\")"
   ]
  },
  {
   "cell_type": "code",
   "execution_count": 77,
   "metadata": {},
   "outputs": [],
   "source": [
    "from sklearn.model_selection import train_test_split\n",
    "xTrain, xTest, yTrain, yTest = train_test_split(\n",
    "    x, y, test_size=0.2, random_state=2)"
   ]
  },
  {
   "cell_type": "code",
   "execution_count": 78,
   "metadata": {},
   "outputs": [],
   "source": [
    "from sklearn.linear_model import LinearRegression"
   ]
  },
  {
   "cell_type": "code",
   "execution_count": 79,
   "metadata": {},
   "outputs": [],
   "source": [
    "lr = LinearRegression()"
   ]
  },
  {
   "cell_type": "code",
   "execution_count": 80,
   "metadata": {},
   "outputs": [
    {
     "data": {
      "text/html": [
       "<style>#sk-container-id-4 {color: black;}#sk-container-id-4 pre{padding: 0;}#sk-container-id-4 div.sk-toggleable {background-color: white;}#sk-container-id-4 label.sk-toggleable__label {cursor: pointer;display: block;width: 100%;margin-bottom: 0;padding: 0.3em;box-sizing: border-box;text-align: center;}#sk-container-id-4 label.sk-toggleable__label-arrow:before {content: \"▸\";float: left;margin-right: 0.25em;color: #696969;}#sk-container-id-4 label.sk-toggleable__label-arrow:hover:before {color: black;}#sk-container-id-4 div.sk-estimator:hover label.sk-toggleable__label-arrow:before {color: black;}#sk-container-id-4 div.sk-toggleable__content {max-height: 0;max-width: 0;overflow: hidden;text-align: left;background-color: #f0f8ff;}#sk-container-id-4 div.sk-toggleable__content pre {margin: 0.2em;color: black;border-radius: 0.25em;background-color: #f0f8ff;}#sk-container-id-4 input.sk-toggleable__control:checked~div.sk-toggleable__content {max-height: 200px;max-width: 100%;overflow: auto;}#sk-container-id-4 input.sk-toggleable__control:checked~label.sk-toggleable__label-arrow:before {content: \"▾\";}#sk-container-id-4 div.sk-estimator input.sk-toggleable__control:checked~label.sk-toggleable__label {background-color: #d4ebff;}#sk-container-id-4 div.sk-label input.sk-toggleable__control:checked~label.sk-toggleable__label {background-color: #d4ebff;}#sk-container-id-4 input.sk-hidden--visually {border: 0;clip: rect(1px 1px 1px 1px);clip: rect(1px, 1px, 1px, 1px);height: 1px;margin: -1px;overflow: hidden;padding: 0;position: absolute;width: 1px;}#sk-container-id-4 div.sk-estimator {font-family: monospace;background-color: #f0f8ff;border: 1px dotted black;border-radius: 0.25em;box-sizing: border-box;margin-bottom: 0.5em;}#sk-container-id-4 div.sk-estimator:hover {background-color: #d4ebff;}#sk-container-id-4 div.sk-parallel-item::after {content: \"\";width: 100%;border-bottom: 1px solid gray;flex-grow: 1;}#sk-container-id-4 div.sk-label:hover label.sk-toggleable__label {background-color: #d4ebff;}#sk-container-id-4 div.sk-serial::before {content: \"\";position: absolute;border-left: 1px solid gray;box-sizing: border-box;top: 0;bottom: 0;left: 50%;z-index: 0;}#sk-container-id-4 div.sk-serial {display: flex;flex-direction: column;align-items: center;background-color: white;padding-right: 0.2em;padding-left: 0.2em;position: relative;}#sk-container-id-4 div.sk-item {position: relative;z-index: 1;}#sk-container-id-4 div.sk-parallel {display: flex;align-items: stretch;justify-content: center;background-color: white;position: relative;}#sk-container-id-4 div.sk-item::before, #sk-container-id-4 div.sk-parallel-item::before {content: \"\";position: absolute;border-left: 1px solid gray;box-sizing: border-box;top: 0;bottom: 0;left: 50%;z-index: -1;}#sk-container-id-4 div.sk-parallel-item {display: flex;flex-direction: column;z-index: 1;position: relative;background-color: white;}#sk-container-id-4 div.sk-parallel-item:first-child::after {align-self: flex-end;width: 50%;}#sk-container-id-4 div.sk-parallel-item:last-child::after {align-self: flex-start;width: 50%;}#sk-container-id-4 div.sk-parallel-item:only-child::after {width: 0;}#sk-container-id-4 div.sk-dashed-wrapped {border: 1px dashed gray;margin: 0 0.4em 0.5em 0.4em;box-sizing: border-box;padding-bottom: 0.4em;background-color: white;}#sk-container-id-4 div.sk-label label {font-family: monospace;font-weight: bold;display: inline-block;line-height: 1.2em;}#sk-container-id-4 div.sk-label-container {text-align: center;}#sk-container-id-4 div.sk-container {/* jupyter's `normalize.less` sets `[hidden] { display: none; }` but bootstrap.min.css set `[hidden] { display: none !important; }` so we also need the `!important` here to be able to override the default hidden behavior on the sphinx rendered scikit-learn.org. See: https://github.com/scikit-learn/scikit-learn/issues/21755 */display: inline-block !important;position: relative;}#sk-container-id-4 div.sk-text-repr-fallback {display: none;}</style><div id=\"sk-container-id-4\" class=\"sk-top-container\"><div class=\"sk-text-repr-fallback\"><pre>LinearRegression()</pre><b>In a Jupyter environment, please rerun this cell to show the HTML representation or trust the notebook. <br />On GitHub, the HTML representation is unable to render, please try loading this page with nbviewer.org.</b></div><div class=\"sk-container\" hidden><div class=\"sk-item\"><div class=\"sk-estimator sk-toggleable\"><input class=\"sk-toggleable__control sk-hidden--visually\" id=\"sk-estimator-id-4\" type=\"checkbox\" checked><label for=\"sk-estimator-id-4\" class=\"sk-toggleable__label sk-toggleable__label-arrow\">LinearRegression</label><div class=\"sk-toggleable__content\"><pre>LinearRegression()</pre></div></div></div></div></div>"
      ],
      "text/plain": [
       "LinearRegression()"
      ]
     },
     "execution_count": 80,
     "metadata": {},
     "output_type": "execute_result"
    }
   ],
   "source": [
    "lr.fit(xTrain, yTrain)"
   ]
  },
  {
   "cell_type": "code",
   "execution_count": 81,
   "metadata": {},
   "outputs": [
    {
     "data": {
      "text/plain": [
       "array([28.12597332])"
      ]
     },
     "execution_count": 81,
     "metadata": {},
     "output_type": "execute_result"
    }
   ],
   "source": [
    "lr.coef_"
   ]
  },
  {
   "cell_type": "code",
   "execution_count": 82,
   "metadata": {},
   "outputs": [
    {
     "data": {
      "text/plain": [
       "-2.2710144261783825"
      ]
     },
     "execution_count": 82,
     "metadata": {},
     "output_type": "execute_result"
    }
   ],
   "source": [
    "lr.intercept_"
   ]
  },
  {
   "cell_type": "code",
   "execution_count": 83,
   "metadata": {},
   "outputs": [
    {
     "data": {
      "text/plain": [
       "0.6345158782661012"
      ]
     },
     "execution_count": 83,
     "metadata": {},
     "output_type": "execute_result"
    }
   ],
   "source": [
    "from sklearn.metrics import r2_score\n",
    "r2_score(yTest, lr.predict(xTest))"
   ]
  },
  {
   "cell_type": "code",
   "execution_count": 84,
   "metadata": {},
   "outputs": [],
   "source": [
    "class GDRegressor:\n",
    "    def __init__(self, learning_rate, epoches) -> None:\n",
    "        self.m = 100\n",
    "        self.b = -120\n",
    "        self.lr = learning_rate\n",
    "        self.epoches = epoches\n",
    "\n",
    "    def fit(self, x, y):\n",
    "        loss_slope_b = 25\n",
    "        loss_slope_m = 25\n",
    "        # for i in range(self.epoches):\n",
    "        while (abs((self.b - (self.lr * loss_slope_b)) - self.b) >= 0.00001) and abs((self.m - (self.lr * loss_slope_m)) - self.m) >= 0.00001:\n",
    "            loss_slope_b = -2 * np.sum(y - self.m * x.flatten() - self.b)\n",
    "            loss_slope_m = -2 * np.sum((y - self.m * x.flatten() - self.b) * x.flatten())\n",
    "            self.b = self.b - (self.lr * loss_slope_b)\n",
    "            self.epoches += 1\n",
    "            self.m = self.m - (self.lr * loss_slope_m)\n",
    "\n",
    "            print(self.b, self.m)\n",
    "        print(self.epoches)\n",
    "        return self.b, self.m\n",
    "\n",
    "    def predict(self, x):\n",
    "        return ((self.m * x) + self.b).flatten()"
   ]
  },
  {
   "cell_type": "code",
   "execution_count": 85,
   "metadata": {},
   "outputs": [],
   "source": [
    "gdr = GDRegressor(0.001, 100)"
   ]
  },
  {
   "cell_type": "code",
   "execution_count": 86,
   "metadata": {},
   "outputs": [
    {
     "name": "stdout",
     "output_type": "stream",
     "text": [
      "-97.30202349511147 88.7901778060777\n",
      "-79.01269499728718 79.26989400677363\n",
      "-64.2700212110887 71.19603915550572\n",
      "-52.381567622457695 64.357826042914\n",
      "-42.79092431395032 58.573134285938856\n",
      "-35.05083591632167 53.685100591058074\n",
      "-28.80166573902754 49.55898969983806\n",
      "-23.754130522644466 46.07935938462746\n",
      "-19.6754551237646 43.14751810732243\n",
      "-16.378266564607884 40.679264258689464\n",
      "-13.711682863685132 38.602889878179504\n",
      "-11.55416078082497 36.85742837440565\n",
      "-9.807753543980294 35.391124246007365\n",
      "-8.393499154751025 34.160102562818395\n",
      "-7.2477154903755485 33.12721658147269\n",
      "-6.3190229237706514 32.2610530264308\n",
      "-5.5659507997754325 31.53507604240516\n",
      "-4.955012616245335 30.926892458014258\n",
      "-4.459157586120731 30.417622682493505\n",
      "-4.056524538225423 29.991363212652477\n",
      "-3.7294387591921634 29.63472830753753\n",
      "-3.4636041130856206 29.33645986404345\n",
      "-3.2474521798712006 29.087095882238803\n",
      "-3.071617693375023 28.87868913818444\n",
      "-2.928515605334555 28.70456878480573\n",
      "-2.811999951784896 28.559138582490913\n",
      "-2.717088589202935 28.437706327772243\n",
      "-2.6397409908975256 28.33633980945949\n",
      "-2.57667880147634 28.251745286390655\n",
      "-2.525240860859839 28.181165059127647\n",
      "-2.483266026978441 28.122291208793854\n",
      "-2.4489984262723685 28.073193008679045\n",
      "-2.421010806151768 28.03225588644732\n",
      "-2.3981425039531645 27.998130134298673\n",
      "-2.3794492229634963 27.96968783805175\n",
      "-2.3641623501073594 27.945986729918296\n",
      "-2.351655987843777 27.926239869128796\n",
      "-2.3414202255085 27.90979022430597\n",
      "-2.3330394594724 27.89608937574215\n",
      "-2.3261748004792975 27.884679678160477\n",
      "-2.3205497911509116 27.875179328291022\n",
      "-2.3159388055580314 27.86726986940981\n",
      "-2.312157622912 27.86068573923202\n",
      "-2.309055764421844 27.855205530251553\n",
      "-2.3065102606878214 27.85064468451989\n",
      "-2.304420580280481 27.846849389448323\n",
      "-2.302704501297856 27.843691478772474\n",
      "-2.301294749046946 27.841064174421877\n",
      "-2.300136256447645 27.83887853161342\n",
      "-2.2991839308293196 27.837060471820052\n",
      "-2.2984008327087633 27.835548307020932\n",
      "-2.297756689892138 27.83429067437963\n",
      "-2.2972266846305183 27.83324481370007\n",
      "-2.296790463222463 27.83237513107891\n",
      "-2.2964313269174133 27.831652001448113\n",
      "-2.296135570650334 27.831050770469645\n",
      "-2.295891942370085 27.83055092274772\n",
      "-2.2956912007856043 27.830135388766063\n",
      "-2.295525753466859 27.82978996751007\n",
      "-2.2953893605809816 27.82950284554023\n",
      "-2.2952768922632396 27.829264196465108\n",
      "-2.2951841298350706 27.82906584742096\n",
      "-2.295107602882494 27.828901001386015\n",
      "-2.295044455675064 27.828764006012378\n",
      "-2.294992337600646 27.82865016120682\n",
      "-2.2949493132654935 27.82855555898433\n",
      "-2.2949137887035693 27.828476950196606\n",
      "-2.2948844507871877 27.828411633637465\n",
      "-2.2948602174601187 27.828357363777428\n",
      "-2.2948401968462746 27.828312274005505\n",
      "-2.2948236536400106 27.82827481277783\n",
      "-2.2948099814724836 27.828243690507616\n",
      "-2.2947986801843405 27.828217835393204\n",
      "-2.29478933712787 27.82819635668304\n",
      "174\n"
     ]
    },
    {
     "data": {
      "text/plain": [
       "(-2.29478933712787, 27.82819635668304)"
      ]
     },
     "execution_count": 86,
     "metadata": {},
     "output_type": "execute_result"
    }
   ],
   "source": [
    "gdr.fit(x, y)"
   ]
  },
  {
   "cell_type": "code",
   "execution_count": 87,
   "metadata": {},
   "outputs": [
    {
     "data": {
      "text/plain": [
       "array([-22.11933656, -14.45976448, -14.9218997 ,  24.220768  ,\n",
       "         4.32436529,  21.67116989,  -9.06612005,   2.85192289,\n",
       "       -22.35890982, -14.25804974,  53.78517148,   8.7597203 ,\n",
       "         3.48791135,  -8.76278214, -23.684293  ,  10.31579753,\n",
       "        15.51202752,   7.71034598, -47.24033088,  46.38345467,\n",
       "       -24.25093085, -16.54185451, -28.12868429,  57.54649012,\n",
       "        -8.06495746, -47.90780263, -11.7179246 , -11.25890971,\n",
       "       -15.69048762, -16.85350584,  17.79619604,  19.01913373,\n",
       "        10.3247701 , -37.40300731, -63.15826262, -35.28285672,\n",
       "         3.75649814,  34.72553123, -32.54909212,  13.35193982,\n",
       "       -44.39454026,  -2.36127161, -10.03477128,  10.27833314,\n",
       "        30.84039079,  23.37238473,  20.38506388, -19.57553443,\n",
       "        23.13296642,  29.38296623,  38.85436771, -20.41251687,\n",
       "       -12.75596383, -23.85218085,  11.65095771,  35.27850465,\n",
       "        17.99657056,  -4.56700487, -26.06404716,  10.66363214,\n",
       "        -3.53322974,  -3.89581192,  50.37681278, -31.38574939,\n",
       "        13.41852107, -55.84067631, -23.55647667,   1.24783134,\n",
       "        -3.03979607,  -6.33575881,  13.36822152,   6.53651445,\n",
       "        17.49035686,  18.68116946, -12.59445223,  35.13696513,\n",
       "        12.51921395, -29.68220882,  35.28179106, -11.94023108,\n",
       "        12.01805504,   0.52336614, -20.59230897,  20.82781646,\n",
       "       -11.12372908, -29.57405556,  36.64349217,  12.95278897,\n",
       "       -17.05284457,  11.3652884 ,   7.41031067,  54.8557893 ,\n",
       "        14.57713046, -12.99355329, -56.43150321, -11.0567217 ,\n",
       "        49.17659234, -33.47647457, -11.55255613, -23.37334643])"
      ]
     },
     "execution_count": 87,
     "metadata": {},
     "output_type": "execute_result"
    }
   ],
   "source": [
    "gdr.predict(x)"
   ]
  },
  {
   "cell_type": "code",
   "execution_count": 88,
   "metadata": {},
   "outputs": [
    {
     "data": {
      "text/plain": [
       "0.6357823627825564"
      ]
     },
     "execution_count": 88,
     "metadata": {},
     "output_type": "execute_result"
    }
   ],
   "source": [
    "r2_score(yTest, gdr.predict(xTest))"
   ]
  },
  {
   "cell_type": "markdown",
   "metadata": {},
   "source": [
    "# End"
   ]
  }
 ],
 "metadata": {
  "kernelspec": {
   "display_name": "Python 3",
   "language": "python",
   "name": "python3"
  },
  "language_info": {
   "codemirror_mode": {
    "name": "ipython",
    "version": 3
   },
   "file_extension": ".py",
   "mimetype": "text/x-python",
   "name": "python",
   "nbconvert_exporter": "python",
   "pygments_lexer": "ipython3",
   "version": "3.11.4"
  },
  "orig_nbformat": 4
 },
 "nbformat": 4,
 "nbformat_minor": 2
}
