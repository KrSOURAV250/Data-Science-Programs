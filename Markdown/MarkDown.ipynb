{
  "cells": [
    {
      "cell_type": "markdown",
      "metadata": {
        "id": "RJP_Y2TxxKFO"
      },
      "source": [
        "## What is **Markdown**?\n",
        "\n",
        "Markdown is a lightweight markup language that is used for creating simple formatted text documents. It was originally created by John Gruber in 2004 as a way to write content for the web that could be easily converted to HTML. Markdown is a simple way to add formatting, such as bold or italic text, headings, lists, links, and images, to plain text documents.\n",
        "\n",
        "Markdown uses a syntax that is designed to be easy to read and write, and it can be used in any text editor. The syntax is based on using special characters and symbols to indicate formatting, such as using asterisks (*) to indicate bold text or underscores (_) to indicate italicized text.\n",
        "\n",
        "Markdown has become a popular format for creating content for the web, particularly for technical documentation, blogs, and online forums. It is supported by many websites and content management systems, including GitHub, Reddit, and WordPress."
      ]
    },
    {
      "cell_type": "markdown",
      "metadata": {
        "id": "Nj857CGkxWzl"
      },
      "source": [
        "Markdown is used in a variety of settings, but it is most commonly used in the following contexts:\n",
        "\n",
        "1. `Software development`: Markdown is popular among software developers for writing documentation, README files, and commenting in code repositories. Many code hosting platforms, such as GitHub, GitLab, and Bitbucket, support Markdown for formatting these types of documents.\n",
        "\n",
        "2. `Blogging`: Markdown is often used by bloggers who prefer to write content in plain text and then convert it to HTML for publishing on their blog. Platforms such as WordPress, Ghost, and Jekyll allow bloggers to write in Markdown and then convert it to HTML automatically.\n",
        "\n",
        "3. `Academic writing`: Markdown is also popular among academics who prefer to write their papers in plain text rather than using a word processor like Microsoft Word. Markdown can be converted to PDF using tools like Pandoc or LaTeX, making it a convenient option for writing research papers, theses, and dissertations.\n",
        "\n",
        "4. `Note-taking`: Markdown is also used by many people as a way to take notes and organize information. Applications like Notion, Obsidian, and Evernote support Markdown for formatting notes and documents."
      ]
    },
    {
      "cell_type": "code",
      "execution_count": null,
      "metadata": {
        "id": "tFz0V-0sxVxr"
      },
      "outputs": [],
      "source": [
        "# Headings"
      ]
    },
    {
      "cell_type": "markdown",
      "metadata": {
        "id": "-F8yN3DHx4xP"
      },
      "source": [
        "# Heading 1\n",
        "## Heading 2\n",
        "### Heading 3\n",
        "#### Heading 4\n",
        "##### Heading 5\n",
        "###### Heading 6"
      ]
    },
    {
      "cell_type": "code",
      "execution_count": null,
      "metadata": {
        "id": "-xQVYqbSx5OU"
      },
      "outputs": [],
      "source": [
        "# Paragraphs"
      ]
    },
    {
      "cell_type": "markdown",
      "metadata": {
        "id": "FNbLlqumx5kY"
      },
      "source": [
        "This is a paragraph<br>\n",
        "This the second line"
      ]
    },
    {
      "cell_type": "code",
      "execution_count": null,
      "metadata": {
        "id": "W4V6xDMFx6Iu"
      },
      "outputs": [],
      "source": [
        "# Text formatting"
      ]
    },
    {
      "cell_type": "markdown",
      "metadata": {
        "id": "dSHlnW5kx6lf"
      },
      "source": [
        "This is in **bold**\n",
        "This is in *italics*\n",
        "This is ~~deleted~~\n",
        "\n",
        "This is \\*something* this"
      ]
    },
    {
      "cell_type": "code",
      "execution_count": null,
      "metadata": {
        "id": "hG-2K50MylgG"
      },
      "outputs": [],
      "source": [
        "# Horizontal Rule\n",
        "# line change"
      ]
    },
    {
      "cell_type": "markdown",
      "metadata": {
        "id": "gD8BZXyIyndb"
      },
      "source": [
        "This is section 1\n",
        "\n",
        "---\n",
        "\n",
        "This is section 2"
      ]
    },
    {
      "cell_type": "code",
      "execution_count": null,
      "metadata": {
        "id": "MMlRbMmyyNmh"
      },
      "outputs": [],
      "source": [
        "# Blockquote"
      ]
    },
    {
      "cell_type": "markdown",
      "metadata": {
        "id": "TK_M7ofiyN2x"
      },
      "source": [
        "> This is a blockquote"
      ]
    },
    {
      "cell_type": "code",
      "execution_count": null,
      "metadata": {
        "id": "xxRbj7Y6yP8s"
      },
      "outputs": [],
      "source": [
        "# Code"
      ]
    },
    {
      "cell_type": "markdown",
      "metadata": {
        "id": "if9lcwJ3yQOI"
      },
      "source": [
        "```sql\n",
        "\n",
        "def hello(name):\n",
        "  print('hello',name)\n",
        "\n",
        "```"
      ]
    },
    {
      "cell_type": "code",
      "execution_count": null,
      "metadata": {
        "id": "4pzWhtKIx68C"
      },
      "outputs": [],
      "source": [
        "# Lists"
      ]
    },
    {
      "cell_type": "markdown",
      "metadata": {
        "id": "pfh_Rq-Fx7VK"
      },
      "source": [
        "### Topics to be covered\n",
        "\n",
        "- Python\n",
        "- SQL\n",
        "- Statitics\n",
        "\n",
        "### Topics to be covered\n",
        "\n",
        "1. Python\n",
        "  - Variables\n",
        "    - Item 1\n",
        "    - Item 2\n",
        "  - Data Types\n",
        "  - Loops\n",
        "2. SQL\n",
        "3. Statistics"
      ]
    },
    {
      "cell_type": "code",
      "execution_count": null,
      "metadata": {
        "id": "uzrRNY7Px7qv"
      },
      "outputs": [],
      "source": [
        "# Images"
      ]
    },
    {
      "cell_type": "markdown",
      "metadata": {
        "id": "2hKPL2gryF3Q"
      },
      "source": [
        "![Campusx Logo](https://yt3.googleusercontent.com/ytc/AL5GRJX92tJbOWMXHc_mICG5nHp4ov6ymGkFOaauwTATaw=s900-c-k-c0x00ffffff-no-rj)"
      ]
    },
    {
      "cell_type": "code",
      "execution_count": null,
      "metadata": {
        "id": "_GcdLShVyGK-"
      },
      "outputs": [],
      "source": [
        "# Links"
      ]
    },
    {
      "cell_type": "markdown",
      "metadata": {
        "id": "Kqb7zkrLyHcm"
      },
      "source": [
        "[Register for DSMP](http://learnwith.campusx.in)"
      ]
    },
    {
      "cell_type": "code",
      "execution_count": null,
      "metadata": {
        "id": "GjYEPpL9yIVH"
      },
      "outputs": [],
      "source": [
        "# Tables"
      ]
    },
    {
      "cell_type": "markdown",
      "metadata": {
        "id": "iNfx9gNvyKlc"
      },
      "source": [
        "| Name             | Branch               | Marks          |\n",
        "|------------------|----------------------|----------------|\n",
        "| Nitish           | EEE                  | 6.65           |\n",
        "| Ankit            | ECE                  | 8.91           |\n",
        "| Rahul            | CSE                  | 7.43           |"
      ]
    },
    {
      "cell_type": "code",
      "execution_count": null,
      "metadata": {
        "id": "PJwYh_8p2sKz"
      },
      "outputs": [],
      "source": [
        "# Tasklist"
      ]
    },
    {
      "cell_type": "markdown",
      "metadata": {
        "id": "YBrIF9tL2vA9"
      },
      "source": [
        "* [ ] Task 1\n",
        "* [x] Task 2\n",
        "* [ ] Task 3\n",
        "* [x] Task 4"
      ]
    },
    {
      "cell_type": "code",
      "execution_count": null,
      "metadata": {
        "id": "SPP9Cd2xBxE9"
      },
      "outputs": [],
      "source": []
    },
    {
      "cell_type": "markdown",
      "metadata": {
        "id": "i_8YniT3B_D2"
      },
      "source": [
        "[Markdown Docs](https://www.markdownguide.org/basic-syntax/)"
      ]
    },
    {
      "cell_type": "markdown",
      "metadata": {},
      "source": [
        "# End"
      ]
    }
  ],
  "metadata": {
    "colab": {
      "provenance": []
    },
    "kernelspec": {
      "display_name": "Python 3",
      "name": "python3"
    },
    "language_info": {
      "name": "python"
    }
  },
  "nbformat": 4,
  "nbformat_minor": 0
}
