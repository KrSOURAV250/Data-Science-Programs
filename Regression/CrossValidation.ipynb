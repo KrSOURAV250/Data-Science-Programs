{
 "cells": [
  {
   "cell_type": "code",
   "execution_count": 62,
   "metadata": {},
   "outputs": [],
   "source": [
    "from sklearn.model_selection import cross_val_score\n",
    "from sklearn.linear_model import LinearRegression\n",
    "import pandas as pd\n",
    "import numpy as np"
   ]
  },
  {
   "cell_type": "code",
   "execution_count": 63,
   "metadata": {},
   "outputs": [],
   "source": [
    "df = pd.read_csv(r\"The Data\\BostonHousing.csv\")\n",
    "x = df.iloc[:, :-1]\n",
    "y = df.iloc[:, -1]"
   ]
  },
  {
   "cell_type": "markdown",
   "metadata": {},
   "source": [
    "### Leave One Out Cross-Validation (LOOCV)"
   ]
  },
  {
   "cell_type": "code",
   "execution_count": 64,
   "metadata": {},
   "outputs": [
    {
     "name": "stdout",
     "output_type": "stream",
     "text": [
      "Mean MSE : 23.725745519476153\n"
     ]
    }
   ],
   "source": [
    "from sklearn.model_selection import LeaveOneOut\n",
    "model = LinearRegression(n_jobs=-1)\n",
    "loo = LeaveOneOut()\n",
    "scores = cross_val_score(\n",
    "    model, x, y, cv=loo, scoring=\"neg_mean_squared_error\", n_jobs=-1)  # it gives -ve MSE\n",
    "mseScores = -scores\n",
    "print(f\"Mean MSE : {mseScores.mean()}\")"
   ]
  },
  {
   "cell_type": "markdown",
   "metadata": {},
   "source": [
    "### K-Fold Cross Validation"
   ]
  },
  {
   "cell_type": "code",
   "execution_count": 65,
   "metadata": {},
   "outputs": [
    {
     "name": "stdout",
     "output_type": "stream",
     "text": [
      "The K Scores Are : [0.75981355 0.60908125 0.76975858 0.71639463 0.61663293 0.79789535\n",
      " 0.76682601 0.79453027 0.74066667 0.59908146]\n",
      "The Mean Score is : 0.7170680714871457\n"
     ]
    }
   ],
   "source": [
    "from sklearn.model_selection import KFold\n",
    "model = LinearRegression(n_jobs=-1)\n",
    "kFold = KFold(n_splits=10,\n",
    "              shuffle=True, random_state=42)\n",
    "scores = cross_val_score(model, x, y, cv=kFold, scoring=\"r2\")\n",
    "print(f\"The K Scores Are : {scores}\")\n",
    "print(f\"The Mean Score is : {scores.mean()}\")"
   ]
  },
  {
   "cell_type": "markdown",
   "metadata": {},
   "source": [
    "### Stratified K-Fold Cross-Validation"
   ]
  },
  {
   "cell_type": "code",
   "execution_count": 70,
   "metadata": {},
   "outputs": [
    {
     "name": "stdout",
     "output_type": "stream",
     "text": [
      "The K Scores Are : [1.         0.96666667 0.93333333 1.         0.93333333]\n",
      "The Mean Score is : 0.9666666666666668\n"
     ]
    }
   ],
   "source": [
    "from sklearn.model_selection import StratifiedKFold\n",
    "from sklearn.linear_model import LogisticRegression\n",
    "from sklearn.datasets import load_iris\n",
    "x, y = load_iris(return_X_y=True)\n",
    "model = LogisticRegression(max_iter=1000, random_state=42, n_jobs=-1)\n",
    "skf = StratifiedKFold(n_splits=5, shuffle=True, random_state=42)\n",
    "scores = cross_val_score(model, x, y, cv=skf, scoring=\"accuracy\", n_jobs=-1)\n",
    "print(f\"The K Scores Are : {scores}\")\n",
    "print(f\"The Mean Score is : {scores.mean()}\")"
   ]
  },
  {
   "cell_type": "markdown",
   "metadata": {},
   "source": [
    "# End"
   ]
  }
 ],
 "metadata": {
  "kernelspec": {
   "display_name": "Python 3",
   "language": "python",
   "name": "python3"
  },
  "language_info": {
   "codemirror_mode": {
    "name": "ipython",
    "version": 3
   },
   "file_extension": ".py",
   "mimetype": "text/x-python",
   "name": "python",
   "nbconvert_exporter": "python",
   "pygments_lexer": "ipython3",
   "version": "3.11.7"
  }
 },
 "nbformat": 4,
 "nbformat_minor": 2
}
