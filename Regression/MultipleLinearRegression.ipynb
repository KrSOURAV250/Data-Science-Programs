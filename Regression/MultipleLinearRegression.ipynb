{
 "cells": [
  {
   "cell_type": "code",
   "execution_count": 1,
   "metadata": {},
   "outputs": [],
   "source": [
    "from sklearn.datasets import make_regression\n",
    "import pandas as pd\n",
    "import numpy as np\n",
    "import plotly.express as px\n",
    "import plotly.graph_objects as go\n",
    "from sklearn.metrics import mean_squared_error, mean_absolute_error, r2_score"
   ]
  },
  {
   "cell_type": "code",
   "execution_count": 2,
   "metadata": {},
   "outputs": [],
   "source": [
    "x, y = make_regression(n_samples=100, n_features=2,\n",
    "                       n_informative=2, n_targets=1, noise=50)"
   ]
  },
  {
   "cell_type": "code",
   "execution_count": 3,
   "metadata": {},
   "outputs": [
    {
     "data": {
      "text/html": [
       "<div>\n",
       "<style scoped>\n",
       "    .dataframe tbody tr th:only-of-type {\n",
       "        vertical-align: middle;\n",
       "    }\n",
       "\n",
       "    .dataframe tbody tr th {\n",
       "        vertical-align: top;\n",
       "    }\n",
       "\n",
       "    .dataframe thead th {\n",
       "        text-align: right;\n",
       "    }\n",
       "</style>\n",
       "<table border=\"1\" class=\"dataframe\">\n",
       "  <thead>\n",
       "    <tr style=\"text-align: right;\">\n",
       "      <th></th>\n",
       "      <th>feature1</th>\n",
       "      <th>feature2</th>\n",
       "      <th>target</th>\n",
       "    </tr>\n",
       "  </thead>\n",
       "  <tbody>\n",
       "    <tr>\n",
       "      <th>0</th>\n",
       "      <td>0.846186</td>\n",
       "      <td>1.222213</td>\n",
       "      <td>3.950598</td>\n",
       "    </tr>\n",
       "    <tr>\n",
       "      <th>1</th>\n",
       "      <td>0.089760</td>\n",
       "      <td>-0.399286</td>\n",
       "      <td>68.349729</td>\n",
       "    </tr>\n",
       "    <tr>\n",
       "      <th>2</th>\n",
       "      <td>-0.383686</td>\n",
       "      <td>0.157053</td>\n",
       "      <td>-33.621329</td>\n",
       "    </tr>\n",
       "    <tr>\n",
       "      <th>3</th>\n",
       "      <td>-0.306552</td>\n",
       "      <td>2.020096</td>\n",
       "      <td>108.669425</td>\n",
       "    </tr>\n",
       "    <tr>\n",
       "      <th>4</th>\n",
       "      <td>-0.348145</td>\n",
       "      <td>1.293060</td>\n",
       "      <td>77.270471</td>\n",
       "    </tr>\n",
       "    <tr>\n",
       "      <th>...</th>\n",
       "      <td>...</td>\n",
       "      <td>...</td>\n",
       "      <td>...</td>\n",
       "    </tr>\n",
       "    <tr>\n",
       "      <th>95</th>\n",
       "      <td>0.011439</td>\n",
       "      <td>0.109753</td>\n",
       "      <td>-62.422408</td>\n",
       "    </tr>\n",
       "    <tr>\n",
       "      <th>96</th>\n",
       "      <td>-0.905264</td>\n",
       "      <td>0.641863</td>\n",
       "      <td>-35.404084</td>\n",
       "    </tr>\n",
       "    <tr>\n",
       "      <th>97</th>\n",
       "      <td>1.553197</td>\n",
       "      <td>-0.465378</td>\n",
       "      <td>-34.650241</td>\n",
       "    </tr>\n",
       "    <tr>\n",
       "      <th>98</th>\n",
       "      <td>-1.038444</td>\n",
       "      <td>0.689899</td>\n",
       "      <td>-54.720202</td>\n",
       "    </tr>\n",
       "    <tr>\n",
       "      <th>99</th>\n",
       "      <td>0.563882</td>\n",
       "      <td>-0.067679</td>\n",
       "      <td>-77.779541</td>\n",
       "    </tr>\n",
       "  </tbody>\n",
       "</table>\n",
       "<p>100 rows × 3 columns</p>\n",
       "</div>"
      ],
      "text/plain": [
       "    feature1  feature2      target\n",
       "0   0.846186  1.222213    3.950598\n",
       "1   0.089760 -0.399286   68.349729\n",
       "2  -0.383686  0.157053  -33.621329\n",
       "3  -0.306552  2.020096  108.669425\n",
       "4  -0.348145  1.293060   77.270471\n",
       "..       ...       ...         ...\n",
       "95  0.011439  0.109753  -62.422408\n",
       "96 -0.905264  0.641863  -35.404084\n",
       "97  1.553197 -0.465378  -34.650241\n",
       "98 -1.038444  0.689899  -54.720202\n",
       "99  0.563882 -0.067679  -77.779541\n",
       "\n",
       "[100 rows x 3 columns]"
      ]
     },
     "execution_count": 3,
     "metadata": {},
     "output_type": "execute_result"
    }
   ],
   "source": [
    "df = pd.DataFrame({\"feature1\": x[:, 0], \"feature2\": x[:, 1], \"target\": y})\n",
    "df"
   ]
  },
  {
   "cell_type": "code",
   "execution_count": 4,
   "metadata": {},
   "outputs": [
    {
     "data": {
      "text/plain": [
       "(100, 3)"
      ]
     },
     "execution_count": 4,
     "metadata": {},
     "output_type": "execute_result"
    }
   ],
   "source": [
    "df.shape"
   ]
  },
  {
   "cell_type": "code",
   "execution_count": 5,
   "metadata": {},
   "outputs": [
    {
     "data": {
      "application/vnd.plotly.v1+json": {
       "config": {
        "plotlyServerURL": "https://plot.ly"
       },
       "data": [
        {
         "hovertemplate": "x=%{x}<br>y=%{y}<br>z=%{z}<extra></extra>",
         "legendgroup": "",
         "marker": {
          "color": "#636efa",
          "symbol": "circle"
         },
         "mode": "markers",
         "name": "",
         "scene": "scene",
         "showlegend": false,
         "type": "scatter3d",
         "x": [
          0.8461860298105175,
          0.08975976835853317,
          -0.3836861128865867,
          -0.3065523751907122,
          -0.3481452025889426,
          0.324889863012314,
          1.1343817933360283,
          0.3257479444204295,
          0.2338089462283218,
          0.5061754952679789,
          0.14261728430351744,
          0.22098871761442584,
          1.2956499324500417,
          -0.8837082543265864,
          1.068012435140901,
          -2.1708998644573407,
          -0.6992031663306835,
          0.6745864190229719,
          0.08880346430480814,
          0.22733475749548868,
          -0.8482119087606348,
          -1.476701163999477,
          0.8611464310867188,
          1.542243696666099,
          0.031542215097626426,
          -0.12913144636268542,
          -0.5869128261653297,
          -1.1895343423109788,
          0.9122086167905701,
          -0.9196293105982553,
          1.197712759802561,
          -1.2679702803838624,
          1.7165928598089595,
          -0.8142829387004277,
          -1.6946042388285738,
          0.24600942387171845,
          1.008774296252913,
          -0.007256685755774762,
          -2.210991535048853,
          0.3420263400374738,
          0.9977838355719651,
          0.2643205595385495,
          -0.6064240160275371,
          -2.2643850559878445,
          -1.4606433765070335,
          -0.2752917600613157,
          -0.2603269327308035,
          1.8439533264767085,
          0.8028843969721096,
          -0.8382409094743386,
          1.3547743466545643,
          -0.5214214280401035,
          -1.2221953061172555,
          -2.301732460405241,
          0.26455656083623114,
          -0.9384149634057969,
          -0.8144171505631806,
          -1.0105805753383514,
          0.6928845256261369,
          -1.5189242406068546,
          1.7939963270199117,
          -0.11386457414731065,
          1.1217661491216377,
          -0.7123025710441375,
          1.7017765215734144,
          0.04033290689491238,
          -0.8224017002481134,
          0.5652920146473384,
          -0.16614091297744832,
          0.3819576086930594,
          1.8385492501573166,
          -0.9375929694360986,
          1.6155512529391551,
          2.553626715936909,
          1.1798232368089938,
          0.04744181468760434,
          -0.22340778123256463,
          -0.5478814126836105,
          1.5899466514516398,
          0.7189094301017362,
          0.5996544777301884,
          0.08018930687082976,
          1.0151313271948645,
          -1.4450591464446128,
          0.22953828590969957,
          -0.5603741989623561,
          -0.054868624456269395,
          0.7012246341736558,
          -0.45807182016447684,
          0.017764605044845796,
          0.9123722819676459,
          -1.1601585046042064,
          0.08600439632970208,
          0.30529729414069057,
          -1.116527411878396,
          0.011438511339063047,
          -0.9052641348889462,
          1.5531973701564978,
          -1.038443739667202,
          0.5638824111124724
         ],
         "y": [
          1.2222134746294329,
          -0.39928612451425205,
          0.15705286601584678,
          2.020095510746626,
          1.293059875008204,
          1.171554238767888,
          -0.32500080734404807,
          -1.3283546578098986,
          0.7875854076001785,
          0.6008639311513952,
          -0.46498227903751044,
          2.3748240891107786,
          1.712340883343015,
          0.8221771184379284,
          0.18968720490386218,
          0.7394333346592199,
          -1.1970511837669975,
          1.1150754559294491,
          0.7829248639982406,
          0.9868551276505118,
          1.2923822907082119,
          0.572755647550445,
          -0.5116185234805075,
          0.8935048721087584,
          1.0469253985297133,
          -1.3745419392447749,
          0.357741000229881,
          0.30097265582000565,
          -2.052997919822079,
          -0.48013475903395875,
          -1.5568348830994774,
          -0.6787753305222162,
          -1.1888089430966227,
          0.5387326115638392,
          1.816380261196057,
          -0.5760243575039258,
          0.7511696084279645,
          0.04955190788551654,
          1.8999648541687104,
          -0.6177100751711583,
          -1.0610409886229142,
          0.5541360920731395,
          0.42842748689624605,
          -2.1174069294422355,
          0.4542306308406168,
          -1.9587407528548122,
          -0.7460963565835022,
          0.6459416632057249,
          1.278906110246368,
          -1.486628492713456,
          0.1809560516633962,
          -1.0941091865844115,
          0.25456654956957353,
          0.16862777024630976,
          -0.9717878827092387,
          -0.3366548573393949,
          -0.25461993785522397,
          -1.0927120287638799,
          -1.367063524075088,
          -1.6537325858344,
          -0.19292196007526285,
          -0.22045554192984662,
          -0.12349878354107668,
          0.3767252727799495,
          0.2161990257669323,
          -0.942062220492317,
          1.24039581665807,
          -1.4525073674613336,
          0.5423152352601409,
          0.4021036467548727,
          -0.40982959902034194,
          0.9530280694096607,
          -1.1186478762933858,
          0.041046008602219825,
          -1.0793787812566011,
          0.41851060126896134,
          -0.1939671841553324,
          -0.24367650361271162,
          -0.648044166357403,
          -0.3652437786050975,
          1.5814057217746171,
          -0.678982461321492,
          -0.36638543017463215,
          -0.9485736095326145,
          -0.35678331308443023,
          0.07650627722851579,
          -0.43414511451038007,
          0.5604319643139506,
          -0.30019896199264695,
          -1.4696412161771264,
          1.505901788498167,
          -0.7437306728140375,
          0.15090375805523457,
          0.3900354731305092,
          1.191246672844535,
          0.10975276092946222,
          0.641862884784831,
          -0.4653775673795983,
          0.6898989802855778,
          -0.06767904945447553
         ],
         "z": [
          3.950597824719104,
          68.3497290020368,
          -33.62132891533608,
          108.66942499920522,
          77.270470653936,
          37.7544583609409,
          4.949373660078212,
          -53.97749552016702,
          60.92888427841618,
          17.24571529627886,
          25.09123129679392,
          24.902207029097685,
          40.310970263438904,
          -119.05656708620012,
          -56.179622257219954,
          -139.21314623516895,
          -49.296744328608085,
          -92.27509473988715,
          -11.708887690677312,
          42.97919287364619,
          26.152241977850622,
          -52.73990769523576,
          14.88340686026358,
          58.17142640834942,
          -19.304878657462822,
          46.95639207288252,
          -9.09535871242227,
          28.34788579678973,
          -2.8933056066570124,
          -23.974572248423357,
          17.826107263202847,
          8.115871510003839,
          91.08072741600031,
          -42.433962601722286,
          34.87934259481681,
          41.72575252926085,
          -9.012854284778566,
          36.38301153906389,
          -71.00363990650905,
          -29.290441471104792,
          25.33335004176046,
          -54.157713465229605,
          -15.004791147257475,
          -42.174797352913075,
          6.6259344171390495,
          62.391390133138756,
          -7.4708895984450425,
          -75.16477207192747,
          28.632859986886547,
          -84.52443606481201,
          -35.20213724104827,
          -100.95364479593442,
          -62.303239823423525,
          7.420973487950597,
          -28.43908013841266,
          -6.018587417405659,
          -58.7030224244469,
          -81.42254553124542,
          65.96502783065995,
          -46.64436162614046,
          66.11308728527409,
          14.58551313923474,
          90.38920292835537,
          -74.14275568560114,
          36.923302488938305,
          -45.51749632191802,
          -27.415938309956736,
          -71.08676173994795,
          -15.385559594664908,
          22.143694015881923,
          60.82748184493683,
          -36.22497319329613,
          -28.59136882144575,
          159.98453387554252,
          14.463448932925512,
          8.304376842368926,
          -12.384627816381105,
          -56.07679250059206,
          110.14579817709728,
          75.52488052364468,
          0.6803892516331693,
          23.271509063491603,
          -14.385424495550996,
          -126.46691968306428,
          66.47965603332128,
          -40.650348056521636,
          -22.683441727650937,
          -83.50573501155351,
          -127.41611002760263,
          -21.475515610370195,
          -3.198296872692172,
          33.87279934599525,
          -53.522492501400286,
          71.2025837678045,
          9.698605086071666,
          -62.4224080865691,
          -35.40408391531039,
          -34.65024135762554,
          -54.72020235771119,
          -77.7795412398177
         ]
        }
       ],
       "layout": {
        "legend": {
         "tracegroupgap": 0
        },
        "margin": {
         "t": 60
        },
        "scene": {
         "domain": {
          "x": [
           0,
           1
          ],
          "y": [
           0,
           1
          ]
         },
         "xaxis": {
          "title": {
           "text": "x"
          }
         },
         "yaxis": {
          "title": {
           "text": "y"
          }
         },
         "zaxis": {
          "title": {
           "text": "z"
          }
         }
        },
        "template": {
         "data": {
          "bar": [
           {
            "error_x": {
             "color": "#2a3f5f"
            },
            "error_y": {
             "color": "#2a3f5f"
            },
            "marker": {
             "line": {
              "color": "#E5ECF6",
              "width": 0.5
             },
             "pattern": {
              "fillmode": "overlay",
              "size": 10,
              "solidity": 0.2
             }
            },
            "type": "bar"
           }
          ],
          "barpolar": [
           {
            "marker": {
             "line": {
              "color": "#E5ECF6",
              "width": 0.5
             },
             "pattern": {
              "fillmode": "overlay",
              "size": 10,
              "solidity": 0.2
             }
            },
            "type": "barpolar"
           }
          ],
          "carpet": [
           {
            "aaxis": {
             "endlinecolor": "#2a3f5f",
             "gridcolor": "white",
             "linecolor": "white",
             "minorgridcolor": "white",
             "startlinecolor": "#2a3f5f"
            },
            "baxis": {
             "endlinecolor": "#2a3f5f",
             "gridcolor": "white",
             "linecolor": "white",
             "minorgridcolor": "white",
             "startlinecolor": "#2a3f5f"
            },
            "type": "carpet"
           }
          ],
          "choropleth": [
           {
            "colorbar": {
             "outlinewidth": 0,
             "ticks": ""
            },
            "type": "choropleth"
           }
          ],
          "contour": [
           {
            "colorbar": {
             "outlinewidth": 0,
             "ticks": ""
            },
            "colorscale": [
             [
              0,
              "#0d0887"
             ],
             [
              0.1111111111111111,
              "#46039f"
             ],
             [
              0.2222222222222222,
              "#7201a8"
             ],
             [
              0.3333333333333333,
              "#9c179e"
             ],
             [
              0.4444444444444444,
              "#bd3786"
             ],
             [
              0.5555555555555556,
              "#d8576b"
             ],
             [
              0.6666666666666666,
              "#ed7953"
             ],
             [
              0.7777777777777778,
              "#fb9f3a"
             ],
             [
              0.8888888888888888,
              "#fdca26"
             ],
             [
              1,
              "#f0f921"
             ]
            ],
            "type": "contour"
           }
          ],
          "contourcarpet": [
           {
            "colorbar": {
             "outlinewidth": 0,
             "ticks": ""
            },
            "type": "contourcarpet"
           }
          ],
          "heatmap": [
           {
            "colorbar": {
             "outlinewidth": 0,
             "ticks": ""
            },
            "colorscale": [
             [
              0,
              "#0d0887"
             ],
             [
              0.1111111111111111,
              "#46039f"
             ],
             [
              0.2222222222222222,
              "#7201a8"
             ],
             [
              0.3333333333333333,
              "#9c179e"
             ],
             [
              0.4444444444444444,
              "#bd3786"
             ],
             [
              0.5555555555555556,
              "#d8576b"
             ],
             [
              0.6666666666666666,
              "#ed7953"
             ],
             [
              0.7777777777777778,
              "#fb9f3a"
             ],
             [
              0.8888888888888888,
              "#fdca26"
             ],
             [
              1,
              "#f0f921"
             ]
            ],
            "type": "heatmap"
           }
          ],
          "heatmapgl": [
           {
            "colorbar": {
             "outlinewidth": 0,
             "ticks": ""
            },
            "colorscale": [
             [
              0,
              "#0d0887"
             ],
             [
              0.1111111111111111,
              "#46039f"
             ],
             [
              0.2222222222222222,
              "#7201a8"
             ],
             [
              0.3333333333333333,
              "#9c179e"
             ],
             [
              0.4444444444444444,
              "#bd3786"
             ],
             [
              0.5555555555555556,
              "#d8576b"
             ],
             [
              0.6666666666666666,
              "#ed7953"
             ],
             [
              0.7777777777777778,
              "#fb9f3a"
             ],
             [
              0.8888888888888888,
              "#fdca26"
             ],
             [
              1,
              "#f0f921"
             ]
            ],
            "type": "heatmapgl"
           }
          ],
          "histogram": [
           {
            "marker": {
             "pattern": {
              "fillmode": "overlay",
              "size": 10,
              "solidity": 0.2
             }
            },
            "type": "histogram"
           }
          ],
          "histogram2d": [
           {
            "colorbar": {
             "outlinewidth": 0,
             "ticks": ""
            },
            "colorscale": [
             [
              0,
              "#0d0887"
             ],
             [
              0.1111111111111111,
              "#46039f"
             ],
             [
              0.2222222222222222,
              "#7201a8"
             ],
             [
              0.3333333333333333,
              "#9c179e"
             ],
             [
              0.4444444444444444,
              "#bd3786"
             ],
             [
              0.5555555555555556,
              "#d8576b"
             ],
             [
              0.6666666666666666,
              "#ed7953"
             ],
             [
              0.7777777777777778,
              "#fb9f3a"
             ],
             [
              0.8888888888888888,
              "#fdca26"
             ],
             [
              1,
              "#f0f921"
             ]
            ],
            "type": "histogram2d"
           }
          ],
          "histogram2dcontour": [
           {
            "colorbar": {
             "outlinewidth": 0,
             "ticks": ""
            },
            "colorscale": [
             [
              0,
              "#0d0887"
             ],
             [
              0.1111111111111111,
              "#46039f"
             ],
             [
              0.2222222222222222,
              "#7201a8"
             ],
             [
              0.3333333333333333,
              "#9c179e"
             ],
             [
              0.4444444444444444,
              "#bd3786"
             ],
             [
              0.5555555555555556,
              "#d8576b"
             ],
             [
              0.6666666666666666,
              "#ed7953"
             ],
             [
              0.7777777777777778,
              "#fb9f3a"
             ],
             [
              0.8888888888888888,
              "#fdca26"
             ],
             [
              1,
              "#f0f921"
             ]
            ],
            "type": "histogram2dcontour"
           }
          ],
          "mesh3d": [
           {
            "colorbar": {
             "outlinewidth": 0,
             "ticks": ""
            },
            "type": "mesh3d"
           }
          ],
          "parcoords": [
           {
            "line": {
             "colorbar": {
              "outlinewidth": 0,
              "ticks": ""
             }
            },
            "type": "parcoords"
           }
          ],
          "pie": [
           {
            "automargin": true,
            "type": "pie"
           }
          ],
          "scatter": [
           {
            "fillpattern": {
             "fillmode": "overlay",
             "size": 10,
             "solidity": 0.2
            },
            "type": "scatter"
           }
          ],
          "scatter3d": [
           {
            "line": {
             "colorbar": {
              "outlinewidth": 0,
              "ticks": ""
             }
            },
            "marker": {
             "colorbar": {
              "outlinewidth": 0,
              "ticks": ""
             }
            },
            "type": "scatter3d"
           }
          ],
          "scattercarpet": [
           {
            "marker": {
             "colorbar": {
              "outlinewidth": 0,
              "ticks": ""
             }
            },
            "type": "scattercarpet"
           }
          ],
          "scattergeo": [
           {
            "marker": {
             "colorbar": {
              "outlinewidth": 0,
              "ticks": ""
             }
            },
            "type": "scattergeo"
           }
          ],
          "scattergl": [
           {
            "marker": {
             "colorbar": {
              "outlinewidth": 0,
              "ticks": ""
             }
            },
            "type": "scattergl"
           }
          ],
          "scattermapbox": [
           {
            "marker": {
             "colorbar": {
              "outlinewidth": 0,
              "ticks": ""
             }
            },
            "type": "scattermapbox"
           }
          ],
          "scatterpolar": [
           {
            "marker": {
             "colorbar": {
              "outlinewidth": 0,
              "ticks": ""
             }
            },
            "type": "scatterpolar"
           }
          ],
          "scatterpolargl": [
           {
            "marker": {
             "colorbar": {
              "outlinewidth": 0,
              "ticks": ""
             }
            },
            "type": "scatterpolargl"
           }
          ],
          "scatterternary": [
           {
            "marker": {
             "colorbar": {
              "outlinewidth": 0,
              "ticks": ""
             }
            },
            "type": "scatterternary"
           }
          ],
          "surface": [
           {
            "colorbar": {
             "outlinewidth": 0,
             "ticks": ""
            },
            "colorscale": [
             [
              0,
              "#0d0887"
             ],
             [
              0.1111111111111111,
              "#46039f"
             ],
             [
              0.2222222222222222,
              "#7201a8"
             ],
             [
              0.3333333333333333,
              "#9c179e"
             ],
             [
              0.4444444444444444,
              "#bd3786"
             ],
             [
              0.5555555555555556,
              "#d8576b"
             ],
             [
              0.6666666666666666,
              "#ed7953"
             ],
             [
              0.7777777777777778,
              "#fb9f3a"
             ],
             [
              0.8888888888888888,
              "#fdca26"
             ],
             [
              1,
              "#f0f921"
             ]
            ],
            "type": "surface"
           }
          ],
          "table": [
           {
            "cells": {
             "fill": {
              "color": "#EBF0F8"
             },
             "line": {
              "color": "white"
             }
            },
            "header": {
             "fill": {
              "color": "#C8D4E3"
             },
             "line": {
              "color": "white"
             }
            },
            "type": "table"
           }
          ]
         },
         "layout": {
          "annotationdefaults": {
           "arrowcolor": "#2a3f5f",
           "arrowhead": 0,
           "arrowwidth": 1
          },
          "autotypenumbers": "strict",
          "coloraxis": {
           "colorbar": {
            "outlinewidth": 0,
            "ticks": ""
           }
          },
          "colorscale": {
           "diverging": [
            [
             0,
             "#8e0152"
            ],
            [
             0.1,
             "#c51b7d"
            ],
            [
             0.2,
             "#de77ae"
            ],
            [
             0.3,
             "#f1b6da"
            ],
            [
             0.4,
             "#fde0ef"
            ],
            [
             0.5,
             "#f7f7f7"
            ],
            [
             0.6,
             "#e6f5d0"
            ],
            [
             0.7,
             "#b8e186"
            ],
            [
             0.8,
             "#7fbc41"
            ],
            [
             0.9,
             "#4d9221"
            ],
            [
             1,
             "#276419"
            ]
           ],
           "sequential": [
            [
             0,
             "#0d0887"
            ],
            [
             0.1111111111111111,
             "#46039f"
            ],
            [
             0.2222222222222222,
             "#7201a8"
            ],
            [
             0.3333333333333333,
             "#9c179e"
            ],
            [
             0.4444444444444444,
             "#bd3786"
            ],
            [
             0.5555555555555556,
             "#d8576b"
            ],
            [
             0.6666666666666666,
             "#ed7953"
            ],
            [
             0.7777777777777778,
             "#fb9f3a"
            ],
            [
             0.8888888888888888,
             "#fdca26"
            ],
            [
             1,
             "#f0f921"
            ]
           ],
           "sequentialminus": [
            [
             0,
             "#0d0887"
            ],
            [
             0.1111111111111111,
             "#46039f"
            ],
            [
             0.2222222222222222,
             "#7201a8"
            ],
            [
             0.3333333333333333,
             "#9c179e"
            ],
            [
             0.4444444444444444,
             "#bd3786"
            ],
            [
             0.5555555555555556,
             "#d8576b"
            ],
            [
             0.6666666666666666,
             "#ed7953"
            ],
            [
             0.7777777777777778,
             "#fb9f3a"
            ],
            [
             0.8888888888888888,
             "#fdca26"
            ],
            [
             1,
             "#f0f921"
            ]
           ]
          },
          "colorway": [
           "#636efa",
           "#EF553B",
           "#00cc96",
           "#ab63fa",
           "#FFA15A",
           "#19d3f3",
           "#FF6692",
           "#B6E880",
           "#FF97FF",
           "#FECB52"
          ],
          "font": {
           "color": "#2a3f5f"
          },
          "geo": {
           "bgcolor": "white",
           "lakecolor": "white",
           "landcolor": "#E5ECF6",
           "showlakes": true,
           "showland": true,
           "subunitcolor": "white"
          },
          "hoverlabel": {
           "align": "left"
          },
          "hovermode": "closest",
          "mapbox": {
           "style": "light"
          },
          "paper_bgcolor": "white",
          "plot_bgcolor": "#E5ECF6",
          "polar": {
           "angularaxis": {
            "gridcolor": "white",
            "linecolor": "white",
            "ticks": ""
           },
           "bgcolor": "#E5ECF6",
           "radialaxis": {
            "gridcolor": "white",
            "linecolor": "white",
            "ticks": ""
           }
          },
          "scene": {
           "xaxis": {
            "backgroundcolor": "#E5ECF6",
            "gridcolor": "white",
            "gridwidth": 2,
            "linecolor": "white",
            "showbackground": true,
            "ticks": "",
            "zerolinecolor": "white"
           },
           "yaxis": {
            "backgroundcolor": "#E5ECF6",
            "gridcolor": "white",
            "gridwidth": 2,
            "linecolor": "white",
            "showbackground": true,
            "ticks": "",
            "zerolinecolor": "white"
           },
           "zaxis": {
            "backgroundcolor": "#E5ECF6",
            "gridcolor": "white",
            "gridwidth": 2,
            "linecolor": "white",
            "showbackground": true,
            "ticks": "",
            "zerolinecolor": "white"
           }
          },
          "shapedefaults": {
           "line": {
            "color": "#2a3f5f"
           }
          },
          "ternary": {
           "aaxis": {
            "gridcolor": "white",
            "linecolor": "white",
            "ticks": ""
           },
           "baxis": {
            "gridcolor": "white",
            "linecolor": "white",
            "ticks": ""
           },
           "bgcolor": "#E5ECF6",
           "caxis": {
            "gridcolor": "white",
            "linecolor": "white",
            "ticks": ""
           }
          },
          "title": {
           "x": 0.05
          },
          "xaxis": {
           "automargin": true,
           "gridcolor": "white",
           "linecolor": "white",
           "ticks": "",
           "title": {
            "standoff": 15
           },
           "zerolinecolor": "white",
           "zerolinewidth": 2
          },
          "yaxis": {
           "automargin": true,
           "gridcolor": "white",
           "linecolor": "white",
           "ticks": "",
           "title": {
            "standoff": 15
           },
           "zerolinecolor": "white",
           "zerolinewidth": 2
          }
         }
        }
       }
      }
     },
     "metadata": {},
     "output_type": "display_data"
    }
   ],
   "source": [
    "px.scatter_3d(x=df[\"feature1\"], y=df[\"feature2\"], z=df[\"target\"])"
   ]
  },
  {
   "cell_type": "code",
   "execution_count": 6,
   "metadata": {},
   "outputs": [],
   "source": [
    "from sklearn.model_selection import train_test_split\n",
    "xTrain, xTest, yTrain, yTest = train_test_split(\n",
    "    x, y, test_size=0.2, random_state=3)"
   ]
  },
  {
   "cell_type": "code",
   "execution_count": 7,
   "metadata": {},
   "outputs": [],
   "source": [
    "from sklearn.linear_model import LinearRegression"
   ]
  },
  {
   "cell_type": "code",
   "execution_count": 8,
   "metadata": {},
   "outputs": [
    {
     "ename": "SyntaxError",
     "evalue": "invalid syntax (3643026875.py, line 1)",
     "output_type": "error",
     "traceback": [
      "\u001b[1;36m  Cell \u001b[1;32mIn[8], line 1\u001b[1;36m\u001b[0m\n\u001b[1;33m    lr = LinearRegression(, n_jobs=-1)\u001b[0m\n\u001b[1;37m                          ^\u001b[0m\n\u001b[1;31mSyntaxError\u001b[0m\u001b[1;31m:\u001b[0m invalid syntax\n"
     ]
    }
   ],
   "source": [
    "lr = LinearRegression(, n_jobs=-1)"
   ]
  },
  {
   "cell_type": "code",
   "execution_count": null,
   "metadata": {},
   "outputs": [
    {
     "data": {
      "text/html": [
       "<style>#sk-container-id-1 {color: black;}#sk-container-id-1 pre{padding: 0;}#sk-container-id-1 div.sk-toggleable {background-color: white;}#sk-container-id-1 label.sk-toggleable__label {cursor: pointer;display: block;width: 100%;margin-bottom: 0;padding: 0.3em;box-sizing: border-box;text-align: center;}#sk-container-id-1 label.sk-toggleable__label-arrow:before {content: \"▸\";float: left;margin-right: 0.25em;color: #696969;}#sk-container-id-1 label.sk-toggleable__label-arrow:hover:before {color: black;}#sk-container-id-1 div.sk-estimator:hover label.sk-toggleable__label-arrow:before {color: black;}#sk-container-id-1 div.sk-toggleable__content {max-height: 0;max-width: 0;overflow: hidden;text-align: left;background-color: #f0f8ff;}#sk-container-id-1 div.sk-toggleable__content pre {margin: 0.2em;color: black;border-radius: 0.25em;background-color: #f0f8ff;}#sk-container-id-1 input.sk-toggleable__control:checked~div.sk-toggleable__content {max-height: 200px;max-width: 100%;overflow: auto;}#sk-container-id-1 input.sk-toggleable__control:checked~label.sk-toggleable__label-arrow:before {content: \"▾\";}#sk-container-id-1 div.sk-estimator input.sk-toggleable__control:checked~label.sk-toggleable__label {background-color: #d4ebff;}#sk-container-id-1 div.sk-label input.sk-toggleable__control:checked~label.sk-toggleable__label {background-color: #d4ebff;}#sk-container-id-1 input.sk-hidden--visually {border: 0;clip: rect(1px 1px 1px 1px);clip: rect(1px, 1px, 1px, 1px);height: 1px;margin: -1px;overflow: hidden;padding: 0;position: absolute;width: 1px;}#sk-container-id-1 div.sk-estimator {font-family: monospace;background-color: #f0f8ff;border: 1px dotted black;border-radius: 0.25em;box-sizing: border-box;margin-bottom: 0.5em;}#sk-container-id-1 div.sk-estimator:hover {background-color: #d4ebff;}#sk-container-id-1 div.sk-parallel-item::after {content: \"\";width: 100%;border-bottom: 1px solid gray;flex-grow: 1;}#sk-container-id-1 div.sk-label:hover label.sk-toggleable__label {background-color: #d4ebff;}#sk-container-id-1 div.sk-serial::before {content: \"\";position: absolute;border-left: 1px solid gray;box-sizing: border-box;top: 0;bottom: 0;left: 50%;z-index: 0;}#sk-container-id-1 div.sk-serial {display: flex;flex-direction: column;align-items: center;background-color: white;padding-right: 0.2em;padding-left: 0.2em;position: relative;}#sk-container-id-1 div.sk-item {position: relative;z-index: 1;}#sk-container-id-1 div.sk-parallel {display: flex;align-items: stretch;justify-content: center;background-color: white;position: relative;}#sk-container-id-1 div.sk-item::before, #sk-container-id-1 div.sk-parallel-item::before {content: \"\";position: absolute;border-left: 1px solid gray;box-sizing: border-box;top: 0;bottom: 0;left: 50%;z-index: -1;}#sk-container-id-1 div.sk-parallel-item {display: flex;flex-direction: column;z-index: 1;position: relative;background-color: white;}#sk-container-id-1 div.sk-parallel-item:first-child::after {align-self: flex-end;width: 50%;}#sk-container-id-1 div.sk-parallel-item:last-child::after {align-self: flex-start;width: 50%;}#sk-container-id-1 div.sk-parallel-item:only-child::after {width: 0;}#sk-container-id-1 div.sk-dashed-wrapped {border: 1px dashed gray;margin: 0 0.4em 0.5em 0.4em;box-sizing: border-box;padding-bottom: 0.4em;background-color: white;}#sk-container-id-1 div.sk-label label {font-family: monospace;font-weight: bold;display: inline-block;line-height: 1.2em;}#sk-container-id-1 div.sk-label-container {text-align: center;}#sk-container-id-1 div.sk-container {/* jupyter's `normalize.less` sets `[hidden] { display: none; }` but bootstrap.min.css set `[hidden] { display: none !important; }` so we also need the `!important` here to be able to override the default hidden behavior on the sphinx rendered scikit-learn.org. See: https://github.com/scikit-learn/scikit-learn/issues/21755 */display: inline-block !important;position: relative;}#sk-container-id-1 div.sk-text-repr-fallback {display: none;}</style><div id=\"sk-container-id-1\" class=\"sk-top-container\"><div class=\"sk-text-repr-fallback\"><pre>LinearRegression()</pre><b>In a Jupyter environment, please rerun this cell to show the HTML representation or trust the notebook. <br />On GitHub, the HTML representation is unable to render, please try loading this page with nbviewer.org.</b></div><div class=\"sk-container\" hidden><div class=\"sk-item\"><div class=\"sk-estimator sk-toggleable\"><input class=\"sk-toggleable__control sk-hidden--visually\" id=\"sk-estimator-id-1\" type=\"checkbox\" checked><label for=\"sk-estimator-id-1\" class=\"sk-toggleable__label sk-toggleable__label-arrow\">LinearRegression</label><div class=\"sk-toggleable__content\"><pre>LinearRegression()</pre></div></div></div></div></div>"
      ],
      "text/plain": [
       "LinearRegression()"
      ]
     },
     "execution_count": 9,
     "metadata": {},
     "output_type": "execute_result"
    }
   ],
   "source": [
    "lr.fit(xTrain,yTrain)"
   ]
  },
  {
   "cell_type": "code",
   "execution_count": null,
   "metadata": {},
   "outputs": [
    {
     "data": {
      "text/plain": [
       "array([ 129.57742036,  122.04091064, -108.9076185 ,   -5.53628119,\n",
       "          5.60926969, -109.96422795,   99.20702131,   10.48672729,\n",
       "         76.58969923,  -33.95319071,   13.53096881,  -81.59866327,\n",
       "        104.99301173,   43.06852634,  123.83162613,  -15.19809944,\n",
       "        -86.84665806,  -76.99417107,   43.93179687,  108.4884059 ])"
      ]
     },
     "execution_count": 10,
     "metadata": {},
     "output_type": "execute_result"
    }
   ],
   "source": [
    "lr.predict(xTest)"
   ]
  },
  {
   "cell_type": "code",
   "execution_count": null,
   "metadata": {},
   "outputs": [
    {
     "name": "stdout",
     "output_type": "stream",
     "text": [
      "MAE: 35.74879088530922\n",
      "MSE: 1718.6962582175124\n",
      "RMSE: 41.457161724091925\n",
      "R2 Score: 0.7859928638393074\n"
     ]
    }
   ],
   "source": [
    "print(f\"MAE: {mean_absolute_error(yTest, lr.predict(xTest))}\")\n",
    "print(f\"MSE: {mean_squared_error(yTest, lr.predict(xTest))}\")\n",
    "print(f\"RMSE: {np.sqrt(mean_squared_error(yTest, lr.predict(xTest)))}\")\n",
    "print(f\"R2 Score: {r2_score(yTest, lr.predict(xTest))}\")"
   ]
  },
  {
   "cell_type": "code",
   "execution_count": null,
   "metadata": {},
   "outputs": [],
   "source": [
    "x = np.linspace(-5, 5, 10)\n",
    "y = np.linspace(-5, 5, 10)\n",
    "xGrid, yGrid = np.meshgrid(y, x)\n",
    "\n",
    "final = np.vstack((xGrid.ravel().reshape(1,100),yGrid.ravel().reshape(1,100))).T\n",
    "z_final = lr.predict(final).reshape(10,10)\n",
    "\n",
    "z = z_final"
   ]
  },
  {
   "cell_type": "code",
   "execution_count": null,
   "metadata": {},
   "outputs": [
    {
     "data": {
      "application/vnd.plotly.v1+json": {
       "config": {
        "plotlyServerURL": "https://plot.ly"
       },
       "data": [
        {
         "hovertemplate": "feature1=%{x}<br>feature2=%{y}<br>target=%{z}<extra></extra>",
         "legendgroup": "",
         "marker": {
          "color": "#636efa",
          "symbol": "circle"
         },
         "mode": "markers",
         "name": "",
         "scene": "scene",
         "showlegend": false,
         "type": "scatter3d",
         "x": [
          -0.6147741938419792,
          0.17823991607948675,
          1.6892878520720065,
          0.13511516710037025,
          0.09773948377695017,
          0.3161899910479354,
          -0.5138951726470232,
          1.332293417011583,
          -0.42706087840644896,
          -0.27273862812567423,
          0.4397744113318065,
          0.5193465548083213,
          -0.6338649538192438,
          0.5386518244154708,
          -1.160721366514315,
          0.39736819124982775,
          0.1835709772762295,
          0.4334968621154045,
          0.8586028673704824,
          1.1873582687852982,
          -0.7193174629551127,
          -1.7774825231551403,
          0.4420141504560145,
          -1.136797954888746,
          0.2757839161788711,
          1.6732124653414415,
          -0.2513217090940314,
          -0.4190608344407114,
          -0.11343141719854588,
          -0.35532434025797616,
          -0.9265917241085453,
          1.7226609137636935,
          0.72684659915389,
          0.944666813227771,
          1.5423073333240624,
          -0.4237883478979398,
          0.0692351106139752,
          -1.0152610384616043,
          -0.39728314927997516,
          0.8123035520914804,
          0.8377865596923767,
          -1.3174205292640182,
          -0.3647709465043115,
          -0.7959584726329778,
          2.136444247788848,
          -0.22961647555033496,
          1.3457943861853292,
          -0.9705727628191821,
          -2.117054485137742,
          -0.1868686352957944,
          -0.2922544211035641,
          0.4780728742469958,
          0.07232381562430697,
          0.1529022466365631,
          -0.318584603702634,
          -0.7524863551176935,
          -1.7730727026683617,
          1.1225248321603312,
          -0.6251851564411088,
          1.3241147957604686,
          -1.9369756514421625,
          -0.3418918905066075,
          -0.1578717281128491,
          -0.8381920861127413,
          0.3026201036566139,
          0.11022958335773028,
          -1.125555003320462,
          0.8087825299163665,
          0.41618778867026257,
          -1.8871229211605067,
          0.26623148331417,
          1.5034955899702622,
          0.9503393882672974,
          -0.638428657307584,
          0.6810259729568586,
          -0.6229972050327868,
          -1.618752837235901,
          0.30728740849174385,
          1.051085518451095,
          -0.6227407833196887,
          0.45061043800389694,
          -1.4057981300554538,
          -1.6105907514193283,
          -0.3236381534430772,
          0.7171653249126648,
          0.7140428737325559,
          -0.8030204107206464,
          0.7761537366178651,
          1.8464781962674888,
          -1.1596474484857517,
          0.4954050349854896,
          0.6321565155010226,
          -0.2618267256755167,
          0.9258367313778539,
          1.6169115745315001,
          -1.2207496514310228,
          -1.157613592357536,
          -0.9576106663152704,
          0.4814664561907487,
          -0.0015756910979095986
         ],
         "y": [
          -1.5424718242214872,
          -1.4624514306856924,
          0.5349526279884568,
          -0.9040423001144295,
          -0.48904658400306394,
          -1.1856825589416373,
          -1.0157413170274614,
          0.4806180969676203,
          -1.1185756056239458,
          -0.7977891345239196,
          -0.31085955490421563,
          -0.47660381755857545,
          -0.014468761653183044,
          0.4034112869653191,
          1.0738403962194771,
          -0.5219565860489778,
          -2.4183552418798637,
          1.077757818452269,
          -0.6100395328186592,
          0.7160015841559217,
          0.29923254255182885,
          -0.823348726916138,
          -1.2487531358961257,
          -0.3821772057121987,
          -1.1240634583229239,
          0.23479061055027092,
          -1.2769842912358063,
          -1.474684391791857,
          -0.10474533137282135,
          0.04867397088178617,
          -2.4731958413680903,
          -0.6466427287752983,
          -0.9688253347906418,
          0.7587657683328702,
          0.841344579444766,
          -0.0718289692876245,
          -0.06924348092802851,
          1.416207310669884,
          0.5814533389740988,
          -1.4451087994300948,
          1.422627868611779,
          -1.475032492839083,
          0.3162105186195527,
          -0.10286174987383849,
          -0.6937223201603345,
          1.4041686648778071,
          0.053612322998027206,
          1.7377023052592575,
          -1.38070019336309,
          0.7266434999738853,
          -1.790022574235934,
          0.22678048586009675,
          1.7698705801415795,
          -1.1665640589296513,
          -0.6162828744600332,
          -1.066006405267911,
          -0.4720324362785776,
          -1.4780489808355626,
          -0.5818649963550547,
          -0.0004298314145488655,
          0.3364550882234645,
          1.9412862906106267,
          2.768194043233632,
          0.8898360871234019,
          -0.1504001385451112,
          0.6735383677007111,
          -0.5690233418693229,
          1.1276041837302389,
          0.5867238833876953,
          0.4347961633874362,
          0.3144893338110088,
          0.63758243616732,
          -0.7568034394035287,
          -0.06966712720468751,
          -0.9542848687783538,
          0.12437460757213975,
          0.2238743556955899,
          0.07033066414958229,
          -0.05751866874190252,
          0.5369980052955803,
          0.09149439593208705,
          1.524628942223526,
          -0.29883679154222265,
          -1.1077540539196717,
          -0.5552347736514754,
          -1.1019836814602613,
          1.3330734063509104,
          2.6747532791325197,
          0.4601454208289644,
          0.9316559407447909,
          -0.10632370040940052,
          -1.2650898531657415,
          0.05086014517535759,
          1.166604636942117,
          0.7767482200785354,
          1.4809326448177993,
          0.5912603774432367,
          0.944990962264254,
          0.9979964828880825,
          -0.5160768190382365
         ],
         "z": [
          -146.93800947495433,
          -169.30814061088222,
          27.093657381316675,
          -161.61778558202204,
          75.20544101583272,
          -192.9821337880173,
          -175.6218786393781,
          18.62970941260312,
          -15.995010179122204,
          -51.54528257090855,
          -63.56862754377966,
          -39.452964860605185,
          -73.07661303630232,
          -38.15078655631062,
          27.14134820162752,
          10.683422048744752,
          -173.8321370626092,
          78.89705275403878,
          4.692265575176002,
          141.77721869978876,
          -75.23551307629806,
          -130.36108050280856,
          -156.81629578214478,
          -60.476607562701304,
          -86.42861040496571,
          114.16241084872405,
          -124.36720876902892,
          -124.0634029504017,
          26.849106550092877,
          4.147784596816447,
          -191.59463414926995,
          52.361427397383125,
          -33.332112143438884,
          180.6919878395579,
          83.93340253703437,
          -41.19220731072397,
          -90.7000094260096,
          93.241838417999,
          54.83931187549688,
          -65.04188385614805,
          140.74931905627903,
          -218.66851802699472,
          98.13600909474025,
          -64.60225876600171,
          -41.654671096675486,
          129.1153161212489,
          30.527411148819635,
          147.86973371569573,
          -142.89375435450285,
          139.83661524215384,
          -142.6504160755047,
          20.482145788407436,
          148.24650198832316,
          -97.69363553860018,
          -119.14416456253714,
          -162.10546564299133,
          -82.15329970264958,
          -22.254103401912573,
          -65.05751886257184,
          67.70213558701192,
          -130.7792456813095,
          134.9851238709933,
          263.42949239704274,
          26.724242523025534,
          31.659081400485906,
          13.706630029272922,
          -168.78636788112456,
          116.3792887061976,
          56.04854067429,
          -30.68618474483312,
          82.23079453202743,
          81.53049129692552,
          -113.3970200665229,
          -10.691787879400028,
          16.239025949662086,
          -27.344134095003486,
          -34.630806356270966,
          -5.50246117572879,
          113.24147897653592,
          -15.058407055577828,
          79.71769227345003,
          124.96113508289204,
          -70.66087603184346,
          -173.60525730454435,
          -14.822172912954699,
          46.16248265865184,
          68.02350660804932,
          267.32816438021433,
          63.25316583073002,
          61.59765356594464,
          24.724057325831875,
          -177.06123550465287,
          -39.15573360262864,
          105.56284666562141,
          177.2067174886256,
          107.98379533686852,
          -52.34203034199759,
          -16.245506529440547,
          70.27617424688052,
          -85.243946592778
         ]
        },
        {
         "type": "surface",
         "x": [
          -5,
          -3.888888888888889,
          -2.7777777777777777,
          -1.6666666666666665,
          -0.5555555555555554,
          0.5555555555555554,
          1.666666666666667,
          2.7777777777777786,
          3.8888888888888893,
          5
         ],
         "y": [
          -5,
          -3.888888888888889,
          -2.7777777777777777,
          -1.6666666666666665,
          -0.5555555555555554,
          0.5555555555555554,
          1.666666666666667,
          2.7777777777777786,
          3.8888888888888893,
          5
         ],
         "z": [
          [
           -610.9115629619548,
           -571.0712614619795,
           -531.230959962004,
           -491.3906584620285,
           -451.5503569620531,
           -411.71005546207766,
           -371.8697539621022,
           -332.0294524621268,
           -292.18915096215136,
           -252.348849462176
          ],
          [
           -515.7735657089465,
           -475.933264208971,
           -436.09296270899557,
           -396.2526612090201,
           -356.4123597090447,
           -316.57205820906927,
           -276.7317567090938,
           -236.89145520911842,
           -197.051153709143,
           -157.2108522091676
          ],
          [
           -420.63556845593797,
           -380.7952669559625,
           -340.9549654559871,
           -301.11466395601167,
           -261.2743624560363,
           -221.43406095606088,
           -181.59375945608542,
           -141.75345795610997,
           -101.91315645613454,
           -62.07285495615915
          ],
          [
           -325.4975712029295,
           -285.6572697029541,
           -245.8169682029787,
           -205.97666670300327,
           -166.13636520302782,
           -126.29606370305241,
           -86.45576220307697,
           -46.61546070310152,
           -6.775159203126092,
           33.0651422968493
          ],
          [
           -230.3595739499211,
           -190.51927244994567,
           -150.67897094997025,
           -110.83866944999482,
           -70.99836795001939,
           -31.158066450043968,
           8.68223504993148,
           48.522536549906924,
           88.36283804988236,
           128.20313954985775
          ],
          [
           -135.2215766969127,
           -95.38127519693728,
           -55.54097369696185,
           -15.700672196986416,
           24.13962930298902,
           63.97993080296443,
           103.82023230293989,
           143.66053380291532,
           183.50083530289075,
           223.34113680286615
          ],
          [
           -40.08357944390423,
           -0.24327794392880087,
           39.59702355604662,
           79.43732505602205,
           119.27762655599749,
           159.1179280559729,
           198.95822955594835,
           238.7985310559238,
           278.6388325558992,
           318.4791340558747
          ],
          [
           55.05441780910425,
           94.89471930907968,
           134.7350208090551,
           174.57532230903053,
           214.41562380900598,
           254.2559253089814,
           294.0962268089569,
           333.9365283089323,
           373.77682980890773,
           413.61713130888313
          ],
          [
           150.19241506211264,
           190.03271656208807,
           229.8730180620635,
           269.713319562039,
           309.5536210620144,
           349.3939225619898,
           389.2342240619653,
           429.0745255619407,
           468.9148270619161,
           508.7551285618916
          ],
          [
           245.33041231512104,
           285.17071381509646,
           325.0110153150719,
           364.85131681504737,
           404.69161831502277,
           444.5319198149982,
           484.3722213149737,
           524.212522814949,
           564.0528243149245,
           603.8931258148998
          ]
         ]
        }
       ],
       "layout": {
        "legend": {
         "tracegroupgap": 0
        },
        "margin": {
         "t": 60
        },
        "scene": {
         "domain": {
          "x": [
           0,
           1
          ],
          "y": [
           0,
           1
          ]
         },
         "xaxis": {
          "title": {
           "text": "feature1"
          }
         },
         "yaxis": {
          "title": {
           "text": "feature2"
          }
         },
         "zaxis": {
          "title": {
           "text": "target"
          }
         }
        },
        "template": {
         "data": {
          "bar": [
           {
            "error_x": {
             "color": "#2a3f5f"
            },
            "error_y": {
             "color": "#2a3f5f"
            },
            "marker": {
             "line": {
              "color": "#E5ECF6",
              "width": 0.5
             },
             "pattern": {
              "fillmode": "overlay",
              "size": 10,
              "solidity": 0.2
             }
            },
            "type": "bar"
           }
          ],
          "barpolar": [
           {
            "marker": {
             "line": {
              "color": "#E5ECF6",
              "width": 0.5
             },
             "pattern": {
              "fillmode": "overlay",
              "size": 10,
              "solidity": 0.2
             }
            },
            "type": "barpolar"
           }
          ],
          "carpet": [
           {
            "aaxis": {
             "endlinecolor": "#2a3f5f",
             "gridcolor": "white",
             "linecolor": "white",
             "minorgridcolor": "white",
             "startlinecolor": "#2a3f5f"
            },
            "baxis": {
             "endlinecolor": "#2a3f5f",
             "gridcolor": "white",
             "linecolor": "white",
             "minorgridcolor": "white",
             "startlinecolor": "#2a3f5f"
            },
            "type": "carpet"
           }
          ],
          "choropleth": [
           {
            "colorbar": {
             "outlinewidth": 0,
             "ticks": ""
            },
            "type": "choropleth"
           }
          ],
          "contour": [
           {
            "colorbar": {
             "outlinewidth": 0,
             "ticks": ""
            },
            "colorscale": [
             [
              0,
              "#0d0887"
             ],
             [
              0.1111111111111111,
              "#46039f"
             ],
             [
              0.2222222222222222,
              "#7201a8"
             ],
             [
              0.3333333333333333,
              "#9c179e"
             ],
             [
              0.4444444444444444,
              "#bd3786"
             ],
             [
              0.5555555555555556,
              "#d8576b"
             ],
             [
              0.6666666666666666,
              "#ed7953"
             ],
             [
              0.7777777777777778,
              "#fb9f3a"
             ],
             [
              0.8888888888888888,
              "#fdca26"
             ],
             [
              1,
              "#f0f921"
             ]
            ],
            "type": "contour"
           }
          ],
          "contourcarpet": [
           {
            "colorbar": {
             "outlinewidth": 0,
             "ticks": ""
            },
            "type": "contourcarpet"
           }
          ],
          "heatmap": [
           {
            "colorbar": {
             "outlinewidth": 0,
             "ticks": ""
            },
            "colorscale": [
             [
              0,
              "#0d0887"
             ],
             [
              0.1111111111111111,
              "#46039f"
             ],
             [
              0.2222222222222222,
              "#7201a8"
             ],
             [
              0.3333333333333333,
              "#9c179e"
             ],
             [
              0.4444444444444444,
              "#bd3786"
             ],
             [
              0.5555555555555556,
              "#d8576b"
             ],
             [
              0.6666666666666666,
              "#ed7953"
             ],
             [
              0.7777777777777778,
              "#fb9f3a"
             ],
             [
              0.8888888888888888,
              "#fdca26"
             ],
             [
              1,
              "#f0f921"
             ]
            ],
            "type": "heatmap"
           }
          ],
          "heatmapgl": [
           {
            "colorbar": {
             "outlinewidth": 0,
             "ticks": ""
            },
            "colorscale": [
             [
              0,
              "#0d0887"
             ],
             [
              0.1111111111111111,
              "#46039f"
             ],
             [
              0.2222222222222222,
              "#7201a8"
             ],
             [
              0.3333333333333333,
              "#9c179e"
             ],
             [
              0.4444444444444444,
              "#bd3786"
             ],
             [
              0.5555555555555556,
              "#d8576b"
             ],
             [
              0.6666666666666666,
              "#ed7953"
             ],
             [
              0.7777777777777778,
              "#fb9f3a"
             ],
             [
              0.8888888888888888,
              "#fdca26"
             ],
             [
              1,
              "#f0f921"
             ]
            ],
            "type": "heatmapgl"
           }
          ],
          "histogram": [
           {
            "marker": {
             "pattern": {
              "fillmode": "overlay",
              "size": 10,
              "solidity": 0.2
             }
            },
            "type": "histogram"
           }
          ],
          "histogram2d": [
           {
            "colorbar": {
             "outlinewidth": 0,
             "ticks": ""
            },
            "colorscale": [
             [
              0,
              "#0d0887"
             ],
             [
              0.1111111111111111,
              "#46039f"
             ],
             [
              0.2222222222222222,
              "#7201a8"
             ],
             [
              0.3333333333333333,
              "#9c179e"
             ],
             [
              0.4444444444444444,
              "#bd3786"
             ],
             [
              0.5555555555555556,
              "#d8576b"
             ],
             [
              0.6666666666666666,
              "#ed7953"
             ],
             [
              0.7777777777777778,
              "#fb9f3a"
             ],
             [
              0.8888888888888888,
              "#fdca26"
             ],
             [
              1,
              "#f0f921"
             ]
            ],
            "type": "histogram2d"
           }
          ],
          "histogram2dcontour": [
           {
            "colorbar": {
             "outlinewidth": 0,
             "ticks": ""
            },
            "colorscale": [
             [
              0,
              "#0d0887"
             ],
             [
              0.1111111111111111,
              "#46039f"
             ],
             [
              0.2222222222222222,
              "#7201a8"
             ],
             [
              0.3333333333333333,
              "#9c179e"
             ],
             [
              0.4444444444444444,
              "#bd3786"
             ],
             [
              0.5555555555555556,
              "#d8576b"
             ],
             [
              0.6666666666666666,
              "#ed7953"
             ],
             [
              0.7777777777777778,
              "#fb9f3a"
             ],
             [
              0.8888888888888888,
              "#fdca26"
             ],
             [
              1,
              "#f0f921"
             ]
            ],
            "type": "histogram2dcontour"
           }
          ],
          "mesh3d": [
           {
            "colorbar": {
             "outlinewidth": 0,
             "ticks": ""
            },
            "type": "mesh3d"
           }
          ],
          "parcoords": [
           {
            "line": {
             "colorbar": {
              "outlinewidth": 0,
              "ticks": ""
             }
            },
            "type": "parcoords"
           }
          ],
          "pie": [
           {
            "automargin": true,
            "type": "pie"
           }
          ],
          "scatter": [
           {
            "fillpattern": {
             "fillmode": "overlay",
             "size": 10,
             "solidity": 0.2
            },
            "type": "scatter"
           }
          ],
          "scatter3d": [
           {
            "line": {
             "colorbar": {
              "outlinewidth": 0,
              "ticks": ""
             }
            },
            "marker": {
             "colorbar": {
              "outlinewidth": 0,
              "ticks": ""
             }
            },
            "type": "scatter3d"
           }
          ],
          "scattercarpet": [
           {
            "marker": {
             "colorbar": {
              "outlinewidth": 0,
              "ticks": ""
             }
            },
            "type": "scattercarpet"
           }
          ],
          "scattergeo": [
           {
            "marker": {
             "colorbar": {
              "outlinewidth": 0,
              "ticks": ""
             }
            },
            "type": "scattergeo"
           }
          ],
          "scattergl": [
           {
            "marker": {
             "colorbar": {
              "outlinewidth": 0,
              "ticks": ""
             }
            },
            "type": "scattergl"
           }
          ],
          "scattermapbox": [
           {
            "marker": {
             "colorbar": {
              "outlinewidth": 0,
              "ticks": ""
             }
            },
            "type": "scattermapbox"
           }
          ],
          "scatterpolar": [
           {
            "marker": {
             "colorbar": {
              "outlinewidth": 0,
              "ticks": ""
             }
            },
            "type": "scatterpolar"
           }
          ],
          "scatterpolargl": [
           {
            "marker": {
             "colorbar": {
              "outlinewidth": 0,
              "ticks": ""
             }
            },
            "type": "scatterpolargl"
           }
          ],
          "scatterternary": [
           {
            "marker": {
             "colorbar": {
              "outlinewidth": 0,
              "ticks": ""
             }
            },
            "type": "scatterternary"
           }
          ],
          "surface": [
           {
            "colorbar": {
             "outlinewidth": 0,
             "ticks": ""
            },
            "colorscale": [
             [
              0,
              "#0d0887"
             ],
             [
              0.1111111111111111,
              "#46039f"
             ],
             [
              0.2222222222222222,
              "#7201a8"
             ],
             [
              0.3333333333333333,
              "#9c179e"
             ],
             [
              0.4444444444444444,
              "#bd3786"
             ],
             [
              0.5555555555555556,
              "#d8576b"
             ],
             [
              0.6666666666666666,
              "#ed7953"
             ],
             [
              0.7777777777777778,
              "#fb9f3a"
             ],
             [
              0.8888888888888888,
              "#fdca26"
             ],
             [
              1,
              "#f0f921"
             ]
            ],
            "type": "surface"
           }
          ],
          "table": [
           {
            "cells": {
             "fill": {
              "color": "#EBF0F8"
             },
             "line": {
              "color": "white"
             }
            },
            "header": {
             "fill": {
              "color": "#C8D4E3"
             },
             "line": {
              "color": "white"
             }
            },
            "type": "table"
           }
          ]
         },
         "layout": {
          "annotationdefaults": {
           "arrowcolor": "#2a3f5f",
           "arrowhead": 0,
           "arrowwidth": 1
          },
          "autotypenumbers": "strict",
          "coloraxis": {
           "colorbar": {
            "outlinewidth": 0,
            "ticks": ""
           }
          },
          "colorscale": {
           "diverging": [
            [
             0,
             "#8e0152"
            ],
            [
             0.1,
             "#c51b7d"
            ],
            [
             0.2,
             "#de77ae"
            ],
            [
             0.3,
             "#f1b6da"
            ],
            [
             0.4,
             "#fde0ef"
            ],
            [
             0.5,
             "#f7f7f7"
            ],
            [
             0.6,
             "#e6f5d0"
            ],
            [
             0.7,
             "#b8e186"
            ],
            [
             0.8,
             "#7fbc41"
            ],
            [
             0.9,
             "#4d9221"
            ],
            [
             1,
             "#276419"
            ]
           ],
           "sequential": [
            [
             0,
             "#0d0887"
            ],
            [
             0.1111111111111111,
             "#46039f"
            ],
            [
             0.2222222222222222,
             "#7201a8"
            ],
            [
             0.3333333333333333,
             "#9c179e"
            ],
            [
             0.4444444444444444,
             "#bd3786"
            ],
            [
             0.5555555555555556,
             "#d8576b"
            ],
            [
             0.6666666666666666,
             "#ed7953"
            ],
            [
             0.7777777777777778,
             "#fb9f3a"
            ],
            [
             0.8888888888888888,
             "#fdca26"
            ],
            [
             1,
             "#f0f921"
            ]
           ],
           "sequentialminus": [
            [
             0,
             "#0d0887"
            ],
            [
             0.1111111111111111,
             "#46039f"
            ],
            [
             0.2222222222222222,
             "#7201a8"
            ],
            [
             0.3333333333333333,
             "#9c179e"
            ],
            [
             0.4444444444444444,
             "#bd3786"
            ],
            [
             0.5555555555555556,
             "#d8576b"
            ],
            [
             0.6666666666666666,
             "#ed7953"
            ],
            [
             0.7777777777777778,
             "#fb9f3a"
            ],
            [
             0.8888888888888888,
             "#fdca26"
            ],
            [
             1,
             "#f0f921"
            ]
           ]
          },
          "colorway": [
           "#636efa",
           "#EF553B",
           "#00cc96",
           "#ab63fa",
           "#FFA15A",
           "#19d3f3",
           "#FF6692",
           "#B6E880",
           "#FF97FF",
           "#FECB52"
          ],
          "font": {
           "color": "#2a3f5f"
          },
          "geo": {
           "bgcolor": "white",
           "lakecolor": "white",
           "landcolor": "#E5ECF6",
           "showlakes": true,
           "showland": true,
           "subunitcolor": "white"
          },
          "hoverlabel": {
           "align": "left"
          },
          "hovermode": "closest",
          "mapbox": {
           "style": "light"
          },
          "paper_bgcolor": "white",
          "plot_bgcolor": "#E5ECF6",
          "polar": {
           "angularaxis": {
            "gridcolor": "white",
            "linecolor": "white",
            "ticks": ""
           },
           "bgcolor": "#E5ECF6",
           "radialaxis": {
            "gridcolor": "white",
            "linecolor": "white",
            "ticks": ""
           }
          },
          "scene": {
           "xaxis": {
            "backgroundcolor": "#E5ECF6",
            "gridcolor": "white",
            "gridwidth": 2,
            "linecolor": "white",
            "showbackground": true,
            "ticks": "",
            "zerolinecolor": "white"
           },
           "yaxis": {
            "backgroundcolor": "#E5ECF6",
            "gridcolor": "white",
            "gridwidth": 2,
            "linecolor": "white",
            "showbackground": true,
            "ticks": "",
            "zerolinecolor": "white"
           },
           "zaxis": {
            "backgroundcolor": "#E5ECF6",
            "gridcolor": "white",
            "gridwidth": 2,
            "linecolor": "white",
            "showbackground": true,
            "ticks": "",
            "zerolinecolor": "white"
           }
          },
          "shapedefaults": {
           "line": {
            "color": "#2a3f5f"
           }
          },
          "ternary": {
           "aaxis": {
            "gridcolor": "white",
            "linecolor": "white",
            "ticks": ""
           },
           "baxis": {
            "gridcolor": "white",
            "linecolor": "white",
            "ticks": ""
           },
           "bgcolor": "#E5ECF6",
           "caxis": {
            "gridcolor": "white",
            "linecolor": "white",
            "ticks": ""
           }
          },
          "title": {
           "x": 0.05
          },
          "xaxis": {
           "automargin": true,
           "gridcolor": "white",
           "linecolor": "white",
           "ticks": "",
           "title": {
            "standoff": 15
           },
           "zerolinecolor": "white",
           "zerolinewidth": 2
          },
          "yaxis": {
           "automargin": true,
           "gridcolor": "white",
           "linecolor": "white",
           "ticks": "",
           "title": {
            "standoff": 15
           },
           "zerolinecolor": "white",
           "zerolinewidth": 2
          }
         }
        }
       }
      }
     },
     "metadata": {},
     "output_type": "display_data"
    }
   ],
   "source": [
    "fig = px.scatter_3d(df, x=\"feature1\", y=\"feature2\", z=\"target\")\n",
    "fig.add_trace(go.Surface(x=x, y=y, z=z))\n",
    "fig.show()"
   ]
  },
  {
   "cell_type": "code",
   "execution_count": null,
   "metadata": {},
   "outputs": [
    {
     "data": {
      "text/plain": [
       "array([35.85627135, 85.62419753])"
      ]
     },
     "execution_count": 14,
     "metadata": {},
     "output_type": "execute_result"
    }
   ],
   "source": [
    "lr.coef_"
   ]
  },
  {
   "cell_type": "code",
   "execution_count": null,
   "metadata": {},
   "outputs": [
    {
     "data": {
      "text/plain": [
       "-3.509218573527475"
      ]
     },
     "execution_count": 15,
     "metadata": {},
     "output_type": "execute_result"
    }
   ],
   "source": [
    "lr.intercept_"
   ]
  },
  {
   "cell_type": "markdown",
   "metadata": {},
   "source": [
    "# End"
   ]
  }
 ],
 "metadata": {
  "kernelspec": {
   "display_name": "Python 3",
   "language": "python",
   "name": "python3"
  },
  "language_info": {
   "codemirror_mode": {
    "name": "ipython",
    "version": 3
   },
   "file_extension": ".py",
   "mimetype": "text/x-python",
   "name": "python",
   "nbconvert_exporter": "python",
   "pygments_lexer": "ipython3",
   "version": "3.11.7"
  },
  "orig_nbformat": 4
 },
 "nbformat": 4,
 "nbformat_minor": 2
}
