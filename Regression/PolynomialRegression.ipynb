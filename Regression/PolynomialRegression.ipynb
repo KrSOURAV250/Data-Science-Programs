{
 "cells": [
  {
   "cell_type": "code",
   "execution_count": 82,
   "metadata": {},
   "outputs": [],
   "source": [
    "from sklearn.preprocessing import PolynomialFeatures, StandardScaler\n",
    "from sklearn.linear_model import LinearRegression, SGDRegressor\n",
    "from sklearn.model_selection import train_test_split\n",
    "from sklearn.pipeline import Pipeline\n",
    "from sklearn.metrics import r2_score\n",
    "import plotly.graph_objects as go \n",
    "import plotly.express as px\n",
    "import numpy as np"
   ]
  },
  {
   "cell_type": "code",
   "execution_count": 83,
   "metadata": {},
   "outputs": [
    {
     "data": {
      "text/plain": [
       "(200, 1)"
      ]
     },
     "execution_count": 83,
     "metadata": {},
     "output_type": "execute_result"
    }
   ],
   "source": [
    "x = 6*np.random.rand(200, 1) - 3\n",
    "x.shape"
   ]
  },
  {
   "cell_type": "code",
   "execution_count": 84,
   "metadata": {},
   "outputs": [
    {
     "data": {
      "text/plain": [
       "(200, 1)"
      ]
     },
     "execution_count": 84,
     "metadata": {},
     "output_type": "execute_result"
    }
   ],
   "source": [
    "y = 0.8*x**2 + 0.9*x + 2 + np.random.rand(200, 1)\n",
    "y.shape"
   ]
  },
  {
   "cell_type": "code",
   "execution_count": 85,
   "metadata": {},
   "outputs": [
    {
     "data": {
      "application/vnd.plotly.v1+json": {
       "config": {
        "plotlyServerURL": "https://plot.ly"
       },
       "data": [
        {
         "hovertemplate": "x=%{x}<br>y=%{y}<extra></extra>",
         "legendgroup": "",
         "marker": {
          "color": "#636efa",
          "symbol": "circle"
         },
         "mode": "markers",
         "name": "",
         "orientation": "v",
         "showlegend": false,
         "type": "scatter",
         "x": [
          -1.8970409565726776,
          -2.2376263818371758,
          -2.442578489604527,
          -0.30200745295242815,
          0.854401563560355,
          -2.3235847735326156,
          -2.238948354230897,
          -2.342919762329636,
          -0.406682780186884,
          -2.453407824591771,
          0.4280971813031851,
          1.7835530349339965,
          -1.1120074079381237,
          2.1789864754721835,
          -1.9398520144783986,
          -0.8508345508220443,
          2.7406608192169877,
          2.7804396315880844,
          1.5040343973683648,
          -1.7920031640189713,
          -2.458903670528457,
          2.312141774581306,
          -2.690174003985426,
          1.6638244409864908,
          0.821288096106767,
          -0.7674264756286036,
          -0.9982830800330564,
          -1.7130233841882883,
          -1.2029377289652001,
          -0.07900532632773505,
          2.6566724861201276,
          2.998741792461466,
          -2.5928616068207417,
          -2.397017414280138,
          -2.0959602706424336,
          2.286014232941982,
          1.3357758217630114,
          2.810124252690903,
          2.97869023202004,
          1.04585376701184,
          -0.3113333204831088,
          2.9769441308048945,
          -0.25418053472467683,
          2.7199089139290606,
          0.9134835711783089,
          -2.6340385900871084,
          2.163273310512757,
          2.008368152763661,
          2.8469376637369077,
          -0.13059422609624116,
          0.9740414119262466,
          -1.2871722095631744,
          2.1683970471301324,
          -0.006978659578721569,
          -1.8526259580958913,
          1.777542782283886,
          0.4970115305702336,
          -0.9306130044440524,
          2.2605769201787123,
          2.1840305123638943,
          1.2699917492440678,
          -1.6182672641157336,
          2.786782475742415,
          -0.233918876105343,
          0.35133955461725197,
          1.0598203444220022,
          1.0504644991757086,
          1.1654007700480582,
          1.5650871580022452,
          -2.54417911213325,
          2.865315743819872,
          -1.3591950044277177,
          1.082963187274581,
          0.46441088065129055,
          1.563787974891273,
          2.3138655373422514,
          -1.1686412941358066,
          -0.6652158764733915,
          -2.0050198577089464,
          -2.2339632222759764,
          2.9540353970750166,
          1.904385530149061,
          2.5659493751075413,
          0.7817377595941801,
          0.023777172631804788,
          -0.9423041396935279,
          -0.35773433834585777,
          -2.880834385809401,
          -0.6774353197257525,
          2.308117481052573,
          0.07334344619322053,
          2.036834661657754,
          0.44440481089135364,
          1.9358676244347457,
          -1.0308491797049442,
          -1.5651038279682132,
          -0.43460646514446744,
          2.3763431375714523,
          -1.9685199887104552,
          0.4372419486774568,
          -2.183068804149171,
          1.3328880592581989,
          1.5726536702288172,
          -2.631432965992988,
          0.0006753741470890695,
          0.8727861271582844,
          -2.2545038594248945,
          -2.624934030387556,
          0.12187022660342617,
          1.2733101081893006,
          -0.7522992521664613,
          -0.5549367215030836,
          -2.4701916393382115,
          -0.2656569932609312,
          -2.0918616471449205,
          -0.8963733149012278,
          -1.933006173765573,
          -1.519064668755585,
          1.401309562752016,
          0.9425424365712161,
          -2.5217795079491436,
          -0.9028327113556953,
          -1.5864362801675593,
          -0.4469317086861082,
          0.7326014620523509,
          -2.1307199639814005,
          -1.4450049391636262,
          2.896351813015653,
          -2.7848549515576932,
          -1.681039046702514,
          -2.655355420186897,
          0.14337478874020526,
          0.7019535461268349,
          -1.1612335706749106,
          0.27324076507303907,
          -1.935912199073181,
          1.246736129355246,
          2.5867040531947163,
          -1.0806418901668042,
          -0.4929011713031084,
          2.3624203249180953,
          0.32475489324212736,
          1.3722020811962334,
          -0.6743882391510003,
          -0.8597297155020236,
          -1.7581060630238372,
          0.6142567382954729,
          -0.5819637401724895,
          -2.870176647629438,
          -1.6732780672805503,
          -2.0016995618342324,
          1.3332583164090153,
          -2.2036705999945183,
          -0.38671493543601443,
          0.8273856340035284,
          2.2499778538444355,
          -1.4925291979764874,
          -2.682780142910035,
          -0.8213364666446461,
          -1.2530374593818356,
          1.1665366843987082,
          -2.224178865482645,
          0.982368665438659,
          1.995441838976011,
          2.279280687614685,
          2.689073263177594,
          -1.8145535263430346,
          2.8386593954304296,
          2.8238397324160216,
          -0.4535171523559103,
          1.265938906374723,
          2.066245248566771,
          -1.8648550525852083,
          -0.7672233138160331,
          2.699309003710855,
          -0.46356730864515416,
          -2.3847418593591874,
          0.6661882053809358,
          -1.4543283586793392,
          -1.1680111629014078,
          2.6368516204761363,
          1.7733370014079552,
          1.6198422036266464,
          2.2792259290189474,
          -0.8185753811970735,
          -2.681246206503423,
          -2.9582751968754564,
          -1.4680765718458468,
          -2.4259689231311983,
          -1.5258444522991415,
          -0.8617279526820507,
          -2.342177423611422,
          2.7674413200045436,
          1.3805855429388423,
          2.3054798996979873,
          2.1066574738909694,
          -0.6011639598431562,
          -0.9225596400678278,
          0.7207574014030333,
          -1.93849938706866
         ],
         "xaxis": "x",
         "y": [
          3.354200383779834,
          4.114104908605192,
          5.093161759882066,
          2.433476608144968,
          4.248846267969783,
          4.352493154722158,
          4.945623786255351,
          4.849925695744529,
          2.031035575053691,
          5.104726808215436,
          2.6876386375121353,
          6.272756568901052,
          2.511652222941875,
          8.603101214403061,
          3.5070859457272157,
          2.45125361566014,
          11.151416220445105,
          11.687010360570227,
          5.389960580175359,
          3.7706299283609237,
          5.345443920130354,
          9.058064154755485,
          6.278927575124346,
          6.569646444969611,
          3.9193258705769036,
          2.105285053545833,
          2.0492990422228834,
          3.14696227532121,
          2.800872605467703,
          2.1737894079573894,
          10.46124976949322,
          12.332591164411507,
          5.595076567773241,
          5.412595547005633,
          3.849815875417651,
          8.543483141868347,
          4.961012237518956,
          11.211542152821131,
          12.675273534930541,
          4.242225300949851,
          2.455634499848031,
          11.92192272965688,
          2.1550963987056315,
          10.504995399915094,
          3.4922440644402775,
          5.616309471632232,
          8.105621962604456,
          7.65888687552977,
          12.006186352186514,
          2.502948941592808,
          4.064215513048122,
          3.1531640765312794,
          7.957988870596746,
          2.385281906256192,
          3.2869584047825033,
          6.917159601474804,
          2.8273048999130035,
          1.8618365424938998,
          8.284918452014558,
          8.299308642432807,
          4.852214934850757,
          3.073034674925825,
          10.862354363606729,
          1.9769685644800288,
          2.787880584979748,
          3.9083814266365335,
          4.437485538046636,
          4.581177050247479,
          5.456188818251374,
          5.154513149813974,
          11.169939895630796,
          3.2286091398302577,
          4.064349723420156,
          3.326424686317388,
          5.537879697724808,
          9.319543423971272,
          2.795874770960194,
          2.381264583824249,
          3.7790659125032118,
          4.228152689374249,
          12.553447456943532,
          7.48648689223698,
          10.488478475225246,
          3.9338061442980377,
          2.3033802141942137,
          2.747711167880392,
          1.9963387692454169,
          6.4328416064607605,
          2.4766801899364013,
          8.594639696131429,
          2.6103907016752657,
          7.4313854433610365,
          3.2799428867424303,
          7.603603849848415,
          2.6754327418603707,
          3.4244800376495617,
          2.3652787717700714,
          9.310711976450527,
          3.8458673744031264,
          3.4522545264471796,
          4.0770022094288105,
          4.718783934102716,
          5.690804160649518,
          5.961503018216006,
          2.7786500985302487,
          3.81011489630688,
          4.5937452696588394,
          5.515736077547588,
          2.576883518064842,
          5.073950384641463,
          2.684248433117133,
          1.7750982379692406,
          5.444225059009323,
          2.0071303652148216,
          4.404036766775754,
          1.9947939833615198,
          3.873761900337662,
          3.399469127967332,
          5.1483423719557,
          3.9459205967379356,
          5.356611218188236,
          2.650089323751426,
          2.7152272170989056,
          2.437475545954656,
          3.098341871628816,
          4.4882568361701685,
          2.9647375949268806,
          11.780398285688296,
          6.523501933012714,
          3.569763950905811,
          5.5323061035210666,
          2.333124582008991,
          3.7772142450123494,
          2.5927570739442682,
          3.2926729555092895,
          3.574449189070026,
          5.2976314216038105,
          10.471671693999097,
          2.613471982189023,
          2.1138238287026856,
          9.189643739798505,
          2.955451269467079,
          5.328102038534814,
          2.731722638466371,
          2.3631589496485415,
          3.7101991080769494,
          3.444821805718395,
          2.645134232823369,
          6.567325772894263,
          3.419146033135232,
          3.9938103361904105,
          5.579001993721273,
          4.8116849486066675,
          2.232939823342516,
          3.7062324593665235,
          8.117782990099101,
          3.135751648566683,
          6.31135640210839,
          1.860176775139113,
          2.2507866883392946,
          4.450887152722725,
          4.241557678410764,
          4.071116501323772,
          7.535501137731239,
          8.887756195388423,
          11.028780979066688,
          3.9046170685304835,
          11.02478865027822,
          11.226269898612445,
          2.7285364898157014,
          4.821192004806522,
          7.53271018555951,
          3.2515753132613248,
          2.650077898041784,
          10.532599150513228,
          2.748302233245262,
          5.096791915871205,
          3.5330652074121636,
          3.0572297532233605,
          2.7168879167050846,
          9.971610368533753,
          6.375216924454609,
          6.260513644179275,
          8.275425095174574,
          1.8141453576201134,
          6.191119683121323,
          7.154295560688732,
          2.4335758502056155,
          4.873040340487325,
          2.8118269398040936,
          2.316373508372204,
          5.0623470067323035,
          11.20726484841414,
          5.369369682292353,
          8.431918009993668,
          7.573950369257583,
          1.8838218851518096,
          1.9416909888073661,
          3.8628325937283776,
          3.2852992165148858
         ],
         "yaxis": "y"
        }
       ],
       "layout": {
        "legend": {
         "tracegroupgap": 0
        },
        "margin": {
         "t": 60
        },
        "template": {
         "data": {
          "bar": [
           {
            "error_x": {
             "color": "#2a3f5f"
            },
            "error_y": {
             "color": "#2a3f5f"
            },
            "marker": {
             "line": {
              "color": "#E5ECF6",
              "width": 0.5
             },
             "pattern": {
              "fillmode": "overlay",
              "size": 10,
              "solidity": 0.2
             }
            },
            "type": "bar"
           }
          ],
          "barpolar": [
           {
            "marker": {
             "line": {
              "color": "#E5ECF6",
              "width": 0.5
             },
             "pattern": {
              "fillmode": "overlay",
              "size": 10,
              "solidity": 0.2
             }
            },
            "type": "barpolar"
           }
          ],
          "carpet": [
           {
            "aaxis": {
             "endlinecolor": "#2a3f5f",
             "gridcolor": "white",
             "linecolor": "white",
             "minorgridcolor": "white",
             "startlinecolor": "#2a3f5f"
            },
            "baxis": {
             "endlinecolor": "#2a3f5f",
             "gridcolor": "white",
             "linecolor": "white",
             "minorgridcolor": "white",
             "startlinecolor": "#2a3f5f"
            },
            "type": "carpet"
           }
          ],
          "choropleth": [
           {
            "colorbar": {
             "outlinewidth": 0,
             "ticks": ""
            },
            "type": "choropleth"
           }
          ],
          "contour": [
           {
            "colorbar": {
             "outlinewidth": 0,
             "ticks": ""
            },
            "colorscale": [
             [
              0,
              "#0d0887"
             ],
             [
              0.1111111111111111,
              "#46039f"
             ],
             [
              0.2222222222222222,
              "#7201a8"
             ],
             [
              0.3333333333333333,
              "#9c179e"
             ],
             [
              0.4444444444444444,
              "#bd3786"
             ],
             [
              0.5555555555555556,
              "#d8576b"
             ],
             [
              0.6666666666666666,
              "#ed7953"
             ],
             [
              0.7777777777777778,
              "#fb9f3a"
             ],
             [
              0.8888888888888888,
              "#fdca26"
             ],
             [
              1,
              "#f0f921"
             ]
            ],
            "type": "contour"
           }
          ],
          "contourcarpet": [
           {
            "colorbar": {
             "outlinewidth": 0,
             "ticks": ""
            },
            "type": "contourcarpet"
           }
          ],
          "heatmap": [
           {
            "colorbar": {
             "outlinewidth": 0,
             "ticks": ""
            },
            "colorscale": [
             [
              0,
              "#0d0887"
             ],
             [
              0.1111111111111111,
              "#46039f"
             ],
             [
              0.2222222222222222,
              "#7201a8"
             ],
             [
              0.3333333333333333,
              "#9c179e"
             ],
             [
              0.4444444444444444,
              "#bd3786"
             ],
             [
              0.5555555555555556,
              "#d8576b"
             ],
             [
              0.6666666666666666,
              "#ed7953"
             ],
             [
              0.7777777777777778,
              "#fb9f3a"
             ],
             [
              0.8888888888888888,
              "#fdca26"
             ],
             [
              1,
              "#f0f921"
             ]
            ],
            "type": "heatmap"
           }
          ],
          "heatmapgl": [
           {
            "colorbar": {
             "outlinewidth": 0,
             "ticks": ""
            },
            "colorscale": [
             [
              0,
              "#0d0887"
             ],
             [
              0.1111111111111111,
              "#46039f"
             ],
             [
              0.2222222222222222,
              "#7201a8"
             ],
             [
              0.3333333333333333,
              "#9c179e"
             ],
             [
              0.4444444444444444,
              "#bd3786"
             ],
             [
              0.5555555555555556,
              "#d8576b"
             ],
             [
              0.6666666666666666,
              "#ed7953"
             ],
             [
              0.7777777777777778,
              "#fb9f3a"
             ],
             [
              0.8888888888888888,
              "#fdca26"
             ],
             [
              1,
              "#f0f921"
             ]
            ],
            "type": "heatmapgl"
           }
          ],
          "histogram": [
           {
            "marker": {
             "pattern": {
              "fillmode": "overlay",
              "size": 10,
              "solidity": 0.2
             }
            },
            "type": "histogram"
           }
          ],
          "histogram2d": [
           {
            "colorbar": {
             "outlinewidth": 0,
             "ticks": ""
            },
            "colorscale": [
             [
              0,
              "#0d0887"
             ],
             [
              0.1111111111111111,
              "#46039f"
             ],
             [
              0.2222222222222222,
              "#7201a8"
             ],
             [
              0.3333333333333333,
              "#9c179e"
             ],
             [
              0.4444444444444444,
              "#bd3786"
             ],
             [
              0.5555555555555556,
              "#d8576b"
             ],
             [
              0.6666666666666666,
              "#ed7953"
             ],
             [
              0.7777777777777778,
              "#fb9f3a"
             ],
             [
              0.8888888888888888,
              "#fdca26"
             ],
             [
              1,
              "#f0f921"
             ]
            ],
            "type": "histogram2d"
           }
          ],
          "histogram2dcontour": [
           {
            "colorbar": {
             "outlinewidth": 0,
             "ticks": ""
            },
            "colorscale": [
             [
              0,
              "#0d0887"
             ],
             [
              0.1111111111111111,
              "#46039f"
             ],
             [
              0.2222222222222222,
              "#7201a8"
             ],
             [
              0.3333333333333333,
              "#9c179e"
             ],
             [
              0.4444444444444444,
              "#bd3786"
             ],
             [
              0.5555555555555556,
              "#d8576b"
             ],
             [
              0.6666666666666666,
              "#ed7953"
             ],
             [
              0.7777777777777778,
              "#fb9f3a"
             ],
             [
              0.8888888888888888,
              "#fdca26"
             ],
             [
              1,
              "#f0f921"
             ]
            ],
            "type": "histogram2dcontour"
           }
          ],
          "mesh3d": [
           {
            "colorbar": {
             "outlinewidth": 0,
             "ticks": ""
            },
            "type": "mesh3d"
           }
          ],
          "parcoords": [
           {
            "line": {
             "colorbar": {
              "outlinewidth": 0,
              "ticks": ""
             }
            },
            "type": "parcoords"
           }
          ],
          "pie": [
           {
            "automargin": true,
            "type": "pie"
           }
          ],
          "scatter": [
           {
            "fillpattern": {
             "fillmode": "overlay",
             "size": 10,
             "solidity": 0.2
            },
            "type": "scatter"
           }
          ],
          "scatter3d": [
           {
            "line": {
             "colorbar": {
              "outlinewidth": 0,
              "ticks": ""
             }
            },
            "marker": {
             "colorbar": {
              "outlinewidth": 0,
              "ticks": ""
             }
            },
            "type": "scatter3d"
           }
          ],
          "scattercarpet": [
           {
            "marker": {
             "colorbar": {
              "outlinewidth": 0,
              "ticks": ""
             }
            },
            "type": "scattercarpet"
           }
          ],
          "scattergeo": [
           {
            "marker": {
             "colorbar": {
              "outlinewidth": 0,
              "ticks": ""
             }
            },
            "type": "scattergeo"
           }
          ],
          "scattergl": [
           {
            "marker": {
             "colorbar": {
              "outlinewidth": 0,
              "ticks": ""
             }
            },
            "type": "scattergl"
           }
          ],
          "scattermapbox": [
           {
            "marker": {
             "colorbar": {
              "outlinewidth": 0,
              "ticks": ""
             }
            },
            "type": "scattermapbox"
           }
          ],
          "scatterpolar": [
           {
            "marker": {
             "colorbar": {
              "outlinewidth": 0,
              "ticks": ""
             }
            },
            "type": "scatterpolar"
           }
          ],
          "scatterpolargl": [
           {
            "marker": {
             "colorbar": {
              "outlinewidth": 0,
              "ticks": ""
             }
            },
            "type": "scatterpolargl"
           }
          ],
          "scatterternary": [
           {
            "marker": {
             "colorbar": {
              "outlinewidth": 0,
              "ticks": ""
             }
            },
            "type": "scatterternary"
           }
          ],
          "surface": [
           {
            "colorbar": {
             "outlinewidth": 0,
             "ticks": ""
            },
            "colorscale": [
             [
              0,
              "#0d0887"
             ],
             [
              0.1111111111111111,
              "#46039f"
             ],
             [
              0.2222222222222222,
              "#7201a8"
             ],
             [
              0.3333333333333333,
              "#9c179e"
             ],
             [
              0.4444444444444444,
              "#bd3786"
             ],
             [
              0.5555555555555556,
              "#d8576b"
             ],
             [
              0.6666666666666666,
              "#ed7953"
             ],
             [
              0.7777777777777778,
              "#fb9f3a"
             ],
             [
              0.8888888888888888,
              "#fdca26"
             ],
             [
              1,
              "#f0f921"
             ]
            ],
            "type": "surface"
           }
          ],
          "table": [
           {
            "cells": {
             "fill": {
              "color": "#EBF0F8"
             },
             "line": {
              "color": "white"
             }
            },
            "header": {
             "fill": {
              "color": "#C8D4E3"
             },
             "line": {
              "color": "white"
             }
            },
            "type": "table"
           }
          ]
         },
         "layout": {
          "annotationdefaults": {
           "arrowcolor": "#2a3f5f",
           "arrowhead": 0,
           "arrowwidth": 1
          },
          "autotypenumbers": "strict",
          "coloraxis": {
           "colorbar": {
            "outlinewidth": 0,
            "ticks": ""
           }
          },
          "colorscale": {
           "diverging": [
            [
             0,
             "#8e0152"
            ],
            [
             0.1,
             "#c51b7d"
            ],
            [
             0.2,
             "#de77ae"
            ],
            [
             0.3,
             "#f1b6da"
            ],
            [
             0.4,
             "#fde0ef"
            ],
            [
             0.5,
             "#f7f7f7"
            ],
            [
             0.6,
             "#e6f5d0"
            ],
            [
             0.7,
             "#b8e186"
            ],
            [
             0.8,
             "#7fbc41"
            ],
            [
             0.9,
             "#4d9221"
            ],
            [
             1,
             "#276419"
            ]
           ],
           "sequential": [
            [
             0,
             "#0d0887"
            ],
            [
             0.1111111111111111,
             "#46039f"
            ],
            [
             0.2222222222222222,
             "#7201a8"
            ],
            [
             0.3333333333333333,
             "#9c179e"
            ],
            [
             0.4444444444444444,
             "#bd3786"
            ],
            [
             0.5555555555555556,
             "#d8576b"
            ],
            [
             0.6666666666666666,
             "#ed7953"
            ],
            [
             0.7777777777777778,
             "#fb9f3a"
            ],
            [
             0.8888888888888888,
             "#fdca26"
            ],
            [
             1,
             "#f0f921"
            ]
           ],
           "sequentialminus": [
            [
             0,
             "#0d0887"
            ],
            [
             0.1111111111111111,
             "#46039f"
            ],
            [
             0.2222222222222222,
             "#7201a8"
            ],
            [
             0.3333333333333333,
             "#9c179e"
            ],
            [
             0.4444444444444444,
             "#bd3786"
            ],
            [
             0.5555555555555556,
             "#d8576b"
            ],
            [
             0.6666666666666666,
             "#ed7953"
            ],
            [
             0.7777777777777778,
             "#fb9f3a"
            ],
            [
             0.8888888888888888,
             "#fdca26"
            ],
            [
             1,
             "#f0f921"
            ]
           ]
          },
          "colorway": [
           "#636efa",
           "#EF553B",
           "#00cc96",
           "#ab63fa",
           "#FFA15A",
           "#19d3f3",
           "#FF6692",
           "#B6E880",
           "#FF97FF",
           "#FECB52"
          ],
          "font": {
           "color": "#2a3f5f"
          },
          "geo": {
           "bgcolor": "white",
           "lakecolor": "white",
           "landcolor": "#E5ECF6",
           "showlakes": true,
           "showland": true,
           "subunitcolor": "white"
          },
          "hoverlabel": {
           "align": "left"
          },
          "hovermode": "closest",
          "mapbox": {
           "style": "light"
          },
          "paper_bgcolor": "white",
          "plot_bgcolor": "#E5ECF6",
          "polar": {
           "angularaxis": {
            "gridcolor": "white",
            "linecolor": "white",
            "ticks": ""
           },
           "bgcolor": "#E5ECF6",
           "radialaxis": {
            "gridcolor": "white",
            "linecolor": "white",
            "ticks": ""
           }
          },
          "scene": {
           "xaxis": {
            "backgroundcolor": "#E5ECF6",
            "gridcolor": "white",
            "gridwidth": 2,
            "linecolor": "white",
            "showbackground": true,
            "ticks": "",
            "zerolinecolor": "white"
           },
           "yaxis": {
            "backgroundcolor": "#E5ECF6",
            "gridcolor": "white",
            "gridwidth": 2,
            "linecolor": "white",
            "showbackground": true,
            "ticks": "",
            "zerolinecolor": "white"
           },
           "zaxis": {
            "backgroundcolor": "#E5ECF6",
            "gridcolor": "white",
            "gridwidth": 2,
            "linecolor": "white",
            "showbackground": true,
            "ticks": "",
            "zerolinecolor": "white"
           }
          },
          "shapedefaults": {
           "line": {
            "color": "#2a3f5f"
           }
          },
          "ternary": {
           "aaxis": {
            "gridcolor": "white",
            "linecolor": "white",
            "ticks": ""
           },
           "baxis": {
            "gridcolor": "white",
            "linecolor": "white",
            "ticks": ""
           },
           "bgcolor": "#E5ECF6",
           "caxis": {
            "gridcolor": "white",
            "linecolor": "white",
            "ticks": ""
           }
          },
          "title": {
           "x": 0.05
          },
          "xaxis": {
           "automargin": true,
           "gridcolor": "white",
           "linecolor": "white",
           "ticks": "",
           "title": {
            "standoff": 15
           },
           "zerolinecolor": "white",
           "zerolinewidth": 2
          },
          "yaxis": {
           "automargin": true,
           "gridcolor": "white",
           "linecolor": "white",
           "ticks": "",
           "title": {
            "standoff": 15
           },
           "zerolinecolor": "white",
           "zerolinewidth": 2
          }
         }
        },
        "xaxis": {
         "anchor": "y",
         "domain": [
          0,
          1
         ],
         "title": {
          "text": "x"
         }
        },
        "yaxis": {
         "anchor": "x",
         "domain": [
          0,
          1
         ],
         "title": {
          "text": "y"
         }
        }
       }
      }
     },
     "metadata": {},
     "output_type": "display_data"
    }
   ],
   "source": [
    "px.scatter(x=x.ravel(),y=y.ravel())"
   ]
  },
  {
   "cell_type": "code",
   "execution_count": 86,
   "metadata": {},
   "outputs": [],
   "source": [
    "xTrain, xTest, yTrain, yTest = train_test_split(x, y, test_size=0.2, random_state=2)"
   ]
  },
  {
   "cell_type": "code",
   "execution_count": 87,
   "metadata": {},
   "outputs": [
    {
     "data": {
      "text/plain": [
       "((160, 1), (40, 1), (160, 1), (40, 1))"
      ]
     },
     "execution_count": 87,
     "metadata": {},
     "output_type": "execute_result"
    }
   ],
   "source": [
    "xTrain.shape, xTest.shape, yTrain.shape, yTest.shape"
   ]
  },
  {
   "cell_type": "code",
   "execution_count": 88,
   "metadata": {},
   "outputs": [
    {
     "data": {
      "text/html": [
       "<style>#sk-container-id-9 {color: black;}#sk-container-id-9 pre{padding: 0;}#sk-container-id-9 div.sk-toggleable {background-color: white;}#sk-container-id-9 label.sk-toggleable__label {cursor: pointer;display: block;width: 100%;margin-bottom: 0;padding: 0.3em;box-sizing: border-box;text-align: center;}#sk-container-id-9 label.sk-toggleable__label-arrow:before {content: \"▸\";float: left;margin-right: 0.25em;color: #696969;}#sk-container-id-9 label.sk-toggleable__label-arrow:hover:before {color: black;}#sk-container-id-9 div.sk-estimator:hover label.sk-toggleable__label-arrow:before {color: black;}#sk-container-id-9 div.sk-toggleable__content {max-height: 0;max-width: 0;overflow: hidden;text-align: left;background-color: #f0f8ff;}#sk-container-id-9 div.sk-toggleable__content pre {margin: 0.2em;color: black;border-radius: 0.25em;background-color: #f0f8ff;}#sk-container-id-9 input.sk-toggleable__control:checked~div.sk-toggleable__content {max-height: 200px;max-width: 100%;overflow: auto;}#sk-container-id-9 input.sk-toggleable__control:checked~label.sk-toggleable__label-arrow:before {content: \"▾\";}#sk-container-id-9 div.sk-estimator input.sk-toggleable__control:checked~label.sk-toggleable__label {background-color: #d4ebff;}#sk-container-id-9 div.sk-label input.sk-toggleable__control:checked~label.sk-toggleable__label {background-color: #d4ebff;}#sk-container-id-9 input.sk-hidden--visually {border: 0;clip: rect(1px 1px 1px 1px);clip: rect(1px, 1px, 1px, 1px);height: 1px;margin: -1px;overflow: hidden;padding: 0;position: absolute;width: 1px;}#sk-container-id-9 div.sk-estimator {font-family: monospace;background-color: #f0f8ff;border: 1px dotted black;border-radius: 0.25em;box-sizing: border-box;margin-bottom: 0.5em;}#sk-container-id-9 div.sk-estimator:hover {background-color: #d4ebff;}#sk-container-id-9 div.sk-parallel-item::after {content: \"\";width: 100%;border-bottom: 1px solid gray;flex-grow: 1;}#sk-container-id-9 div.sk-label:hover label.sk-toggleable__label {background-color: #d4ebff;}#sk-container-id-9 div.sk-serial::before {content: \"\";position: absolute;border-left: 1px solid gray;box-sizing: border-box;top: 0;bottom: 0;left: 50%;z-index: 0;}#sk-container-id-9 div.sk-serial {display: flex;flex-direction: column;align-items: center;background-color: white;padding-right: 0.2em;padding-left: 0.2em;position: relative;}#sk-container-id-9 div.sk-item {position: relative;z-index: 1;}#sk-container-id-9 div.sk-parallel {display: flex;align-items: stretch;justify-content: center;background-color: white;position: relative;}#sk-container-id-9 div.sk-item::before, #sk-container-id-9 div.sk-parallel-item::before {content: \"\";position: absolute;border-left: 1px solid gray;box-sizing: border-box;top: 0;bottom: 0;left: 50%;z-index: -1;}#sk-container-id-9 div.sk-parallel-item {display: flex;flex-direction: column;z-index: 1;position: relative;background-color: white;}#sk-container-id-9 div.sk-parallel-item:first-child::after {align-self: flex-end;width: 50%;}#sk-container-id-9 div.sk-parallel-item:last-child::after {align-self: flex-start;width: 50%;}#sk-container-id-9 div.sk-parallel-item:only-child::after {width: 0;}#sk-container-id-9 div.sk-dashed-wrapped {border: 1px dashed gray;margin: 0 0.4em 0.5em 0.4em;box-sizing: border-box;padding-bottom: 0.4em;background-color: white;}#sk-container-id-9 div.sk-label label {font-family: monospace;font-weight: bold;display: inline-block;line-height: 1.2em;}#sk-container-id-9 div.sk-label-container {text-align: center;}#sk-container-id-9 div.sk-container {/* jupyter's `normalize.less` sets `[hidden] { display: none; }` but bootstrap.min.css set `[hidden] { display: none !important; }` so we also need the `!important` here to be able to override the default hidden behavior on the sphinx rendered scikit-learn.org. See: https://github.com/scikit-learn/scikit-learn/issues/21755 */display: inline-block !important;position: relative;}#sk-container-id-9 div.sk-text-repr-fallback {display: none;}</style><div id=\"sk-container-id-9\" class=\"sk-top-container\"><div class=\"sk-text-repr-fallback\"><pre>LinearRegression()</pre><b>In a Jupyter environment, please rerun this cell to show the HTML representation or trust the notebook. <br />On GitHub, the HTML representation is unable to render, please try loading this page with nbviewer.org.</b></div><div class=\"sk-container\" hidden><div class=\"sk-item\"><div class=\"sk-estimator sk-toggleable\"><input class=\"sk-toggleable__control sk-hidden--visually\" id=\"sk-estimator-id-9\" type=\"checkbox\" checked><label for=\"sk-estimator-id-9\" class=\"sk-toggleable__label sk-toggleable__label-arrow\">LinearRegression</label><div class=\"sk-toggleable__content\"><pre>LinearRegression()</pre></div></div></div></div></div>"
      ],
      "text/plain": [
       "LinearRegression()"
      ]
     },
     "execution_count": 88,
     "metadata": {},
     "output_type": "execute_result"
    }
   ],
   "source": [
    "lr = LinearRegression()\n",
    "lr.fit(xTrain,yTrain)"
   ]
  },
  {
   "cell_type": "code",
   "execution_count": 89,
   "metadata": {},
   "outputs": [
    {
     "data": {
      "text/plain": [
       "(40, 1)"
      ]
     },
     "execution_count": 89,
     "metadata": {},
     "output_type": "execute_result"
    }
   ],
   "source": [
    "yPred = lr.predict(xTest)\n",
    "yPred.shape"
   ]
  },
  {
   "cell_type": "code",
   "execution_count": 90,
   "metadata": {},
   "outputs": [
    {
     "data": {
      "text/plain": [
       "(array([5.13553077]), array([[1.03062455]]))"
      ]
     },
     "execution_count": 90,
     "metadata": {},
     "output_type": "execute_result"
    }
   ],
   "source": [
    "lr.intercept_, lr.coef_"
   ]
  },
  {
   "cell_type": "code",
   "execution_count": 91,
   "metadata": {},
   "outputs": [
    {
     "data": {
      "text/plain": [
       "0.2525369483794351"
      ]
     },
     "execution_count": 91,
     "metadata": {},
     "output_type": "execute_result"
    }
   ],
   "source": [
    "r2_score(yTest, yPred)"
   ]
  },
  {
   "cell_type": "code",
   "execution_count": 92,
   "metadata": {},
   "outputs": [
    {
     "data": {
      "application/vnd.plotly.v1+json": {
       "config": {
        "plotlyServerURL": "https://plot.ly"
       },
       "data": [
        {
         "hovertemplate": "x=%{x}<br>y=%{y}<extra></extra>",
         "legendgroup": "",
         "marker": {
          "color": "#636efa",
          "symbol": "circle"
         },
         "mode": "markers",
         "name": "",
         "orientation": "v",
         "showlegend": false,
         "type": "scatter",
         "x": [
          2.5867040531947163,
          1.995441838976011,
          -0.5549367215030836,
          -0.4469317086861082,
          1.2733101081893006,
          0.32475489324212736,
          2.9769441308048945,
          -2.655355420186897,
          2.3624203249180953,
          -2.3235847735326156,
          -1.2530374593818356,
          -2.183068804149171,
          1.7835530349339965,
          -1.4680765718458468,
          0.821288096106767,
          2.308117481052573,
          1.0504644991757086,
          -0.406682780186884,
          -1.8648550525852083,
          -0.46356730864515416,
          -1.2029377289652001,
          -1.1612335706749106,
          -1.0308491797049442,
          -0.25418053472467683,
          -0.4535171523559103,
          2.5659493751075413,
          -0.8185753811970735,
          -2.2545038594248945,
          0.12187022660342617,
          -0.6743882391510003,
          2.6368516204761363,
          -1.8145535263430346,
          0.6142567382954729,
          -2.2339632222759764,
          -2.2376263818371758,
          0.9425424365712161,
          2.7674413200045436,
          -1.6732780672805503,
          1.1665366843987082,
          -2.4259689231311983,
          -0.5819637401724895,
          1.3357758217630114,
          2.066245248566771,
          -1.1680111629014078,
          2.786782475742415,
          -1.8970409565726776,
          -1.7130233841882883,
          -2.682780142910035,
          -1.9685199887104552,
          1.401309562752016,
          -2.458903670528457,
          -0.8213364666446461,
          -1.4925291979764874,
          1.3722020811962334,
          -0.6652158764733915,
          2.6566724861201276,
          0.8273856340035284,
          2.7804396315880844,
          2.1840305123638943,
          1.7733370014079552,
          -2.0918616471449205,
          2.896351813015653,
          -0.4929011713031084,
          -2.342177423611422,
          1.9358676244347457,
          1.3332583164090153,
          2.312141774581306,
          1.777542782283886,
          2.7406608192169877,
          -2.2036705999945183,
          2.036834661657754,
          0.4372419486774568,
          -2.5217795079491436,
          -0.9225596400678278,
          1.563787974891273,
          -0.8617279526820507,
          -2.224178865482645,
          -0.8597297155020236,
          -0.6011639598431562,
          -2.880834385809401,
          0.07334344619322053,
          0.023777172631804788,
          1.5040343973683648,
          2.3763431375714523,
          1.3328880592581989,
          -2.1307199639814005,
          2.279280687614685,
          -1.935912199073181,
          -1.6182672641157336,
          1.904385530149061,
          1.5650871580022452,
          -1.681039046702514,
          0.4970115305702336,
          -1.7920031640189713,
          -0.35773433834585777,
          2.865315743819872,
          1.2699917492440678,
          -2.0959602706424336,
          -0.3113333204831088,
          -1.0806418901668042,
          -1.1686412941358066,
          -0.38671493543601443,
          -0.9982830800330564,
          -2.5928616068207417,
          2.1066574738909694,
          -0.43460646514446744,
          0.7817377595941801,
          -0.7522992521664613,
          0.8727861271582844,
          0.46441088065129055,
          -1.519064668755585,
          -2.0016995618342324,
          -1.7581060630238372,
          2.2499778538444355,
          0.7207574014030333,
          1.246736129355246,
          1.04585376701184,
          -0.13059422609624116,
          -2.9582751968754564,
          0.7019535461268349,
          0.9740414119262466,
          2.1683970471301324,
          2.9540353970750166,
          -2.681246206503423,
          -0.9028327113556953,
          -1.5258444522991415,
          2.163273310512757,
          -0.6774353197257525,
          -2.54417911213325,
          1.1654007700480582,
          2.2792259290189474,
          2.2605769201787123,
          -2.397017414280138,
          2.97869023202004,
          -2.631432965992988,
          -1.2871722095631744,
          -2.624934030387556,
          1.265938906374723,
          0.854401563560355,
          1.5726536702288172,
          2.8386593954304296,
          2.810124252690903,
          -1.933006173765573,
          0.7326014620523509,
          -2.870176647629438,
          2.998741792461466,
          -0.233918876105343,
          2.008368152763661,
          2.3054798996979873,
          -1.5651038279682132,
          0.6661882053809358,
          0.982368665438659,
          -2.342919762329636,
          0.0006753741470890695,
          2.3138655373422514,
          2.7199089139290606,
          -2.690174003985426,
          1.082963187274581,
          -0.8508345508220443,
          2.8238397324160216
         ],
         "xaxis": "x",
         "y": [
          10.471671693999097,
          7.535501137731239,
          1.7750982379692406,
          2.437475545954656,
          5.073950384641463,
          2.955451269467079,
          11.92192272965688,
          5.5323061035210666,
          9.189643739798505,
          4.352493154722158,
          2.2507866883392946,
          4.0770022094288105,
          6.272756568901052,
          2.4335758502056155,
          3.9193258705769036,
          8.594639696131429,
          4.437485538046636,
          2.031035575053691,
          3.2515753132613248,
          2.748302233245262,
          2.800872605467703,
          2.5927570739442682,
          2.6754327418603707,
          2.1550963987056315,
          2.7285364898157014,
          10.488478475225246,
          1.8141453576201134,
          4.5937452696588394,
          2.576883518064842,
          2.731722638466371,
          9.971610368533753,
          3.9046170685304835,
          3.444821805718395,
          4.228152689374249,
          4.114104908605192,
          3.9459205967379356,
          11.20726484841414,
          3.419146033135232,
          4.450887152722725,
          4.873040340487325,
          2.645134232823369,
          4.961012237518956,
          7.53271018555951,
          2.7168879167050846,
          10.862354363606729,
          3.354200383779834,
          3.14696227532121,
          6.31135640210839,
          3.8458673744031264,
          5.1483423719557,
          5.345443920130354,
          1.860176775139113,
          3.135751648566683,
          5.328102038534814,
          2.381264583824249,
          10.46124976949322,
          3.7062324593665235,
          11.687010360570227,
          8.299308642432807,
          6.375216924454609,
          4.404036766775754,
          11.780398285688296,
          2.1138238287026856,
          5.0623470067323035,
          7.603603849848415,
          5.579001993721273,
          9.058064154755485,
          6.917159601474804,
          11.151416220445105,
          4.8116849486066675,
          7.4313854433610365,
          3.4522545264471796,
          5.356611218188236,
          1.9416909888073661,
          5.537879697724808,
          2.316373508372204,
          4.241557678410764,
          2.3631589496485415,
          1.8838218851518096,
          6.4328416064607605,
          2.6103907016752657,
          2.3033802141942137,
          5.389960580175359,
          9.310711976450527,
          4.718783934102716,
          4.4882568361701685,
          8.887756195388423,
          3.574449189070026,
          3.073034674925825,
          7.48648689223698,
          5.456188818251374,
          3.569763950905811,
          2.8273048999130035,
          3.7706299283609237,
          1.9963387692454169,
          11.169939895630796,
          4.852214934850757,
          3.849815875417651,
          2.455634499848031,
          2.613471982189023,
          2.795874770960194,
          2.232939823342516,
          2.0492990422228834,
          5.595076567773241,
          7.573950369257583,
          2.3652787717700714,
          3.9338061442980377,
          2.684248433117133,
          3.81011489630688,
          3.326424686317388,
          3.399469127967332,
          3.9938103361904105,
          3.7101991080769494,
          8.117782990099101,
          3.8628325937283776,
          5.2976314216038105,
          4.242225300949851,
          2.502948941592808,
          7.154295560688732,
          3.7772142450123494,
          4.064215513048122,
          7.957988870596746,
          12.553447456943532,
          6.191119683121323,
          2.650089323751426,
          2.8118269398040936,
          8.105621962604456,
          2.4766801899364013,
          5.154513149813974,
          4.581177050247479,
          8.275425095174574,
          8.284918452014558,
          5.412595547005633,
          12.675273534930541,
          5.961503018216006,
          3.1531640765312794,
          5.515736077547588,
          4.821192004806522,
          4.248846267969783,
          5.690804160649518,
          11.02478865027822,
          11.211542152821131,
          3.873761900337662,
          3.098341871628816,
          6.567325772894263,
          12.332591164411507,
          1.9769685644800288,
          7.65888687552977,
          8.431918009993668,
          3.4244800376495617,
          3.5330652074121636,
          4.071116501323772,
          4.849925695744529,
          2.7786500985302487,
          9.319543423971272,
          10.504995399915094,
          6.278927575124346,
          4.064349723420156,
          2.45125361566014,
          11.226269898612445
         ],
         "yaxis": "y"
        },
        {
         "hovertemplate": "<b>OLS trendline</b><br>y = 1.03062 * x + 5.13553<br>R<sup>2</sup>=0.428249<br><br>x=%{x}<br>y=%{y} <b>(trend)</b><extra></extra>",
         "legendgroup": "",
         "line": {
          "color": "red"
         },
         "marker": {
          "color": "#636efa",
          "symbol": "circle"
         },
         "mode": "lines",
         "name": "",
         "showlegend": false,
         "type": "scatter",
         "x": [
          -2.9582751968754564,
          -2.880834385809401,
          -2.870176647629438,
          -2.690174003985426,
          -2.682780142910035,
          -2.681246206503423,
          -2.655355420186897,
          -2.631432965992988,
          -2.624934030387556,
          -2.5928616068207417,
          -2.54417911213325,
          -2.5217795079491436,
          -2.458903670528457,
          -2.4259689231311983,
          -2.397017414280138,
          -2.342919762329636,
          -2.342177423611422,
          -2.3235847735326156,
          -2.2545038594248945,
          -2.2376263818371758,
          -2.2339632222759764,
          -2.224178865482645,
          -2.2036705999945183,
          -2.183068804149171,
          -2.1307199639814005,
          -2.0959602706424336,
          -2.0918616471449205,
          -2.0016995618342324,
          -1.9685199887104552,
          -1.935912199073181,
          -1.933006173765573,
          -1.8970409565726776,
          -1.8648550525852083,
          -1.8145535263430346,
          -1.7920031640189713,
          -1.7581060630238372,
          -1.7130233841882883,
          -1.681039046702514,
          -1.6732780672805503,
          -1.6182672641157336,
          -1.5651038279682132,
          -1.5258444522991415,
          -1.519064668755585,
          -1.4925291979764874,
          -1.4680765718458468,
          -1.2871722095631744,
          -1.2530374593818356,
          -1.2029377289652001,
          -1.1686412941358066,
          -1.1680111629014078,
          -1.1612335706749106,
          -1.0806418901668042,
          -1.0308491797049442,
          -0.9982830800330564,
          -0.9225596400678278,
          -0.9028327113556953,
          -0.8617279526820507,
          -0.8597297155020236,
          -0.8508345508220443,
          -0.8213364666446461,
          -0.8185753811970735,
          -0.7522992521664613,
          -0.6774353197257525,
          -0.6743882391510003,
          -0.6652158764733915,
          -0.6011639598431562,
          -0.5819637401724895,
          -0.5549367215030836,
          -0.4929011713031084,
          -0.46356730864515416,
          -0.4535171523559103,
          -0.4469317086861082,
          -0.43460646514446744,
          -0.406682780186884,
          -0.38671493543601443,
          -0.35773433834585777,
          -0.3113333204831088,
          -0.25418053472467683,
          -0.233918876105343,
          -0.13059422609624116,
          0.0006753741470890695,
          0.023777172631804788,
          0.07334344619322053,
          0.12187022660342617,
          0.32475489324212736,
          0.4372419486774568,
          0.46441088065129055,
          0.4970115305702336,
          0.6142567382954729,
          0.6661882053809358,
          0.7019535461268349,
          0.7207574014030333,
          0.7326014620523509,
          0.7817377595941801,
          0.821288096106767,
          0.8273856340035284,
          0.854401563560355,
          0.8727861271582844,
          0.9425424365712161,
          0.9740414119262466,
          0.982368665438659,
          1.04585376701184,
          1.0504644991757086,
          1.082963187274581,
          1.1654007700480582,
          1.1665366843987082,
          1.246736129355246,
          1.265938906374723,
          1.2699917492440678,
          1.2733101081893006,
          1.3328880592581989,
          1.3332583164090153,
          1.3357758217630114,
          1.3722020811962334,
          1.401309562752016,
          1.5040343973683648,
          1.563787974891273,
          1.5650871580022452,
          1.5726536702288172,
          1.7733370014079552,
          1.777542782283886,
          1.7835530349339965,
          1.904385530149061,
          1.9358676244347457,
          1.995441838976011,
          2.008368152763661,
          2.036834661657754,
          2.066245248566771,
          2.1066574738909694,
          2.163273310512757,
          2.1683970471301324,
          2.1840305123638943,
          2.2499778538444355,
          2.2605769201787123,
          2.2792259290189474,
          2.279280687614685,
          2.3054798996979873,
          2.308117481052573,
          2.312141774581306,
          2.3138655373422514,
          2.3624203249180953,
          2.3763431375714523,
          2.5659493751075413,
          2.5867040531947163,
          2.6368516204761363,
          2.6566724861201276,
          2.7199089139290606,
          2.7406608192169877,
          2.7674413200045436,
          2.7804396315880844,
          2.786782475742415,
          2.810124252690903,
          2.8238397324160216,
          2.8386593954304296,
          2.865315743819872,
          2.896351813015653,
          2.9540353970750166,
          2.9769441308048945,
          2.97869023202004,
          2.998741792461466
         ],
         "xaxis": "x",
         "y": [
          2.0866597254989734,
          2.1664721265270366,
          2.1774562531388533,
          2.3629713966769703,
          2.370591691417834,
          2.372172603936062,
          2.3988562839231413,
          2.4235113525028225,
          2.430209315084256,
          2.4632639421783997,
          2.5134373163406414,
          2.5365228983148134,
          2.6013242799392216,
          2.6352676391427536,
          2.6651057749135343,
          2.7208601430911505,
          2.721625215598284,
          2.740787257212213,
          2.811983743202626,
          2.829378085940387,
          2.833153428113377,
          2.8432374264269398,
          2.8643737483093665,
          2.885606464874081,
          2.939558464695729,
          2.975382657988536,
          2.97960679998477,
          3.072530058551949,
          3.1067257411596123,
          3.140332129669012,
          3.1433271506928833,
          3.180393786464716,
          3.213565369266289,
          3.2654073570954143,
          3.2886483141096825,
          3.3235834985566113,
          3.370046814127688,
          3.4030106575442307,
          3.4110093134656925,
          3.467704797702307,
          3.5224963401387166,
          3.5629580165064736,
          3.5699454278676517,
          3.5972935354886233,
          3.622495012281826,
          3.808939489185807,
          3.844119600718238,
          3.8957536128155503,
          3.9311003605155657,
          3.9317497892352264,
          3.9387349421712474,
          4.021794706598973,
          4.073112296393667,
          4.106675718201266,
          4.184718154411989,
          4.205049211431546,
          4.247412784827289,
          4.249472217121012,
          4.258639792213215,
          4.289041241933543,
          4.2918868843794415,
          4.360192690012946,
          4.437349296668305,
          4.440489692713351,
          4.44994295486702,
          4.5159564325971004,
          4.53574465034801,
          4.563599359292053,
          4.627534720278055,
          4.657766919268865,
          4.668124857068195,
          4.674911976984509,
          4.687614675558713,
          4.716393510792179,
          4.736972861795659,
          4.766840976619758,
          4.814663004757004,
          4.873566068839482,
          4.894448231628823,
          5.000937152510303,
          5.136226825141412,
          5.160036105800404,
          5.211120324166557,
          5.261133215371899,
          5.470231133553579,
          5.586163054401006,
          5.614164022680512,
          5.647763052820922,
          5.768598842229217,
          5.822120687105883,
          5.858981325304548,
          5.878361040179919,
          5.890567819852432,
          5.941208894377047,
          5.981970442133112,
          5.988254714381823,
          6.016097994614208,
          6.0350455771924985,
          6.106938142165168,
          6.139401759454305,
          6.147984031355203,
          6.213413335572383,
          6.218165269332242,
          6.251659215117762,
          6.336621411736399,
          6.337792112952458,
          6.420447629791498,
          6.440238483208875,
          6.444415442565821,
          6.447835424759267,
          6.509237923747627,
          6.509619519856935,
          6.512214122678593,
          6.549755919901723,
          6.5797548049710635,
          6.685625541383524,
          6.747209045306952,
          6.748548015315587,
          6.756346248571379,
          6.963175416386459,
          6.967509997407564,
          6.973704311338257,
          7.098237247300152,
          7.130683466544797,
          7.192082114576047,
          7.205404290901843,
          7.2347425738104025,
          7.265053846697911,
          7.306703678222275,
          7.365053349342625,
          7.3703339980863385,
          7.386446231152067,
          7.454413180264854,
          7.465336838232134,
          7.484556964569178,
          7.4846134001222495,
          7.511614951276306,
          7.514333307371993,
          7.518480843077629,
          7.520257395296801,
          7.570299151374615,
          7.584648343895087,
          7.780061187063072,
          7.801451467819416,
          7.853134781763953,
          7.873562652491601,
          7.938735667422497,
          7.960123090463865,
          7.98772373202695,
          8.00112011104871,
          8.00765720194865,
          8.031713810303788,
          8.045849320418471,
          8.061122828938387,
          8.08859551599208,
          8.12058205082932,
          8.18003216867164,
          8.203642472054629,
          8.205442046833099,
          8.226107677282455
         ],
         "yaxis": "y"
        }
       ],
       "layout": {
        "legend": {
         "tracegroupgap": 0
        },
        "margin": {
         "t": 60
        },
        "template": {
         "data": {
          "bar": [
           {
            "error_x": {
             "color": "#2a3f5f"
            },
            "error_y": {
             "color": "#2a3f5f"
            },
            "marker": {
             "line": {
              "color": "#E5ECF6",
              "width": 0.5
             },
             "pattern": {
              "fillmode": "overlay",
              "size": 10,
              "solidity": 0.2
             }
            },
            "type": "bar"
           }
          ],
          "barpolar": [
           {
            "marker": {
             "line": {
              "color": "#E5ECF6",
              "width": 0.5
             },
             "pattern": {
              "fillmode": "overlay",
              "size": 10,
              "solidity": 0.2
             }
            },
            "type": "barpolar"
           }
          ],
          "carpet": [
           {
            "aaxis": {
             "endlinecolor": "#2a3f5f",
             "gridcolor": "white",
             "linecolor": "white",
             "minorgridcolor": "white",
             "startlinecolor": "#2a3f5f"
            },
            "baxis": {
             "endlinecolor": "#2a3f5f",
             "gridcolor": "white",
             "linecolor": "white",
             "minorgridcolor": "white",
             "startlinecolor": "#2a3f5f"
            },
            "type": "carpet"
           }
          ],
          "choropleth": [
           {
            "colorbar": {
             "outlinewidth": 0,
             "ticks": ""
            },
            "type": "choropleth"
           }
          ],
          "contour": [
           {
            "colorbar": {
             "outlinewidth": 0,
             "ticks": ""
            },
            "colorscale": [
             [
              0,
              "#0d0887"
             ],
             [
              0.1111111111111111,
              "#46039f"
             ],
             [
              0.2222222222222222,
              "#7201a8"
             ],
             [
              0.3333333333333333,
              "#9c179e"
             ],
             [
              0.4444444444444444,
              "#bd3786"
             ],
             [
              0.5555555555555556,
              "#d8576b"
             ],
             [
              0.6666666666666666,
              "#ed7953"
             ],
             [
              0.7777777777777778,
              "#fb9f3a"
             ],
             [
              0.8888888888888888,
              "#fdca26"
             ],
             [
              1,
              "#f0f921"
             ]
            ],
            "type": "contour"
           }
          ],
          "contourcarpet": [
           {
            "colorbar": {
             "outlinewidth": 0,
             "ticks": ""
            },
            "type": "contourcarpet"
           }
          ],
          "heatmap": [
           {
            "colorbar": {
             "outlinewidth": 0,
             "ticks": ""
            },
            "colorscale": [
             [
              0,
              "#0d0887"
             ],
             [
              0.1111111111111111,
              "#46039f"
             ],
             [
              0.2222222222222222,
              "#7201a8"
             ],
             [
              0.3333333333333333,
              "#9c179e"
             ],
             [
              0.4444444444444444,
              "#bd3786"
             ],
             [
              0.5555555555555556,
              "#d8576b"
             ],
             [
              0.6666666666666666,
              "#ed7953"
             ],
             [
              0.7777777777777778,
              "#fb9f3a"
             ],
             [
              0.8888888888888888,
              "#fdca26"
             ],
             [
              1,
              "#f0f921"
             ]
            ],
            "type": "heatmap"
           }
          ],
          "heatmapgl": [
           {
            "colorbar": {
             "outlinewidth": 0,
             "ticks": ""
            },
            "colorscale": [
             [
              0,
              "#0d0887"
             ],
             [
              0.1111111111111111,
              "#46039f"
             ],
             [
              0.2222222222222222,
              "#7201a8"
             ],
             [
              0.3333333333333333,
              "#9c179e"
             ],
             [
              0.4444444444444444,
              "#bd3786"
             ],
             [
              0.5555555555555556,
              "#d8576b"
             ],
             [
              0.6666666666666666,
              "#ed7953"
             ],
             [
              0.7777777777777778,
              "#fb9f3a"
             ],
             [
              0.8888888888888888,
              "#fdca26"
             ],
             [
              1,
              "#f0f921"
             ]
            ],
            "type": "heatmapgl"
           }
          ],
          "histogram": [
           {
            "marker": {
             "pattern": {
              "fillmode": "overlay",
              "size": 10,
              "solidity": 0.2
             }
            },
            "type": "histogram"
           }
          ],
          "histogram2d": [
           {
            "colorbar": {
             "outlinewidth": 0,
             "ticks": ""
            },
            "colorscale": [
             [
              0,
              "#0d0887"
             ],
             [
              0.1111111111111111,
              "#46039f"
             ],
             [
              0.2222222222222222,
              "#7201a8"
             ],
             [
              0.3333333333333333,
              "#9c179e"
             ],
             [
              0.4444444444444444,
              "#bd3786"
             ],
             [
              0.5555555555555556,
              "#d8576b"
             ],
             [
              0.6666666666666666,
              "#ed7953"
             ],
             [
              0.7777777777777778,
              "#fb9f3a"
             ],
             [
              0.8888888888888888,
              "#fdca26"
             ],
             [
              1,
              "#f0f921"
             ]
            ],
            "type": "histogram2d"
           }
          ],
          "histogram2dcontour": [
           {
            "colorbar": {
             "outlinewidth": 0,
             "ticks": ""
            },
            "colorscale": [
             [
              0,
              "#0d0887"
             ],
             [
              0.1111111111111111,
              "#46039f"
             ],
             [
              0.2222222222222222,
              "#7201a8"
             ],
             [
              0.3333333333333333,
              "#9c179e"
             ],
             [
              0.4444444444444444,
              "#bd3786"
             ],
             [
              0.5555555555555556,
              "#d8576b"
             ],
             [
              0.6666666666666666,
              "#ed7953"
             ],
             [
              0.7777777777777778,
              "#fb9f3a"
             ],
             [
              0.8888888888888888,
              "#fdca26"
             ],
             [
              1,
              "#f0f921"
             ]
            ],
            "type": "histogram2dcontour"
           }
          ],
          "mesh3d": [
           {
            "colorbar": {
             "outlinewidth": 0,
             "ticks": ""
            },
            "type": "mesh3d"
           }
          ],
          "parcoords": [
           {
            "line": {
             "colorbar": {
              "outlinewidth": 0,
              "ticks": ""
             }
            },
            "type": "parcoords"
           }
          ],
          "pie": [
           {
            "automargin": true,
            "type": "pie"
           }
          ],
          "scatter": [
           {
            "fillpattern": {
             "fillmode": "overlay",
             "size": 10,
             "solidity": 0.2
            },
            "type": "scatter"
           }
          ],
          "scatter3d": [
           {
            "line": {
             "colorbar": {
              "outlinewidth": 0,
              "ticks": ""
             }
            },
            "marker": {
             "colorbar": {
              "outlinewidth": 0,
              "ticks": ""
             }
            },
            "type": "scatter3d"
           }
          ],
          "scattercarpet": [
           {
            "marker": {
             "colorbar": {
              "outlinewidth": 0,
              "ticks": ""
             }
            },
            "type": "scattercarpet"
           }
          ],
          "scattergeo": [
           {
            "marker": {
             "colorbar": {
              "outlinewidth": 0,
              "ticks": ""
             }
            },
            "type": "scattergeo"
           }
          ],
          "scattergl": [
           {
            "marker": {
             "colorbar": {
              "outlinewidth": 0,
              "ticks": ""
             }
            },
            "type": "scattergl"
           }
          ],
          "scattermapbox": [
           {
            "marker": {
             "colorbar": {
              "outlinewidth": 0,
              "ticks": ""
             }
            },
            "type": "scattermapbox"
           }
          ],
          "scatterpolar": [
           {
            "marker": {
             "colorbar": {
              "outlinewidth": 0,
              "ticks": ""
             }
            },
            "type": "scatterpolar"
           }
          ],
          "scatterpolargl": [
           {
            "marker": {
             "colorbar": {
              "outlinewidth": 0,
              "ticks": ""
             }
            },
            "type": "scatterpolargl"
           }
          ],
          "scatterternary": [
           {
            "marker": {
             "colorbar": {
              "outlinewidth": 0,
              "ticks": ""
             }
            },
            "type": "scatterternary"
           }
          ],
          "surface": [
           {
            "colorbar": {
             "outlinewidth": 0,
             "ticks": ""
            },
            "colorscale": [
             [
              0,
              "#0d0887"
             ],
             [
              0.1111111111111111,
              "#46039f"
             ],
             [
              0.2222222222222222,
              "#7201a8"
             ],
             [
              0.3333333333333333,
              "#9c179e"
             ],
             [
              0.4444444444444444,
              "#bd3786"
             ],
             [
              0.5555555555555556,
              "#d8576b"
             ],
             [
              0.6666666666666666,
              "#ed7953"
             ],
             [
              0.7777777777777778,
              "#fb9f3a"
             ],
             [
              0.8888888888888888,
              "#fdca26"
             ],
             [
              1,
              "#f0f921"
             ]
            ],
            "type": "surface"
           }
          ],
          "table": [
           {
            "cells": {
             "fill": {
              "color": "#EBF0F8"
             },
             "line": {
              "color": "white"
             }
            },
            "header": {
             "fill": {
              "color": "#C8D4E3"
             },
             "line": {
              "color": "white"
             }
            },
            "type": "table"
           }
          ]
         },
         "layout": {
          "annotationdefaults": {
           "arrowcolor": "#2a3f5f",
           "arrowhead": 0,
           "arrowwidth": 1
          },
          "autotypenumbers": "strict",
          "coloraxis": {
           "colorbar": {
            "outlinewidth": 0,
            "ticks": ""
           }
          },
          "colorscale": {
           "diverging": [
            [
             0,
             "#8e0152"
            ],
            [
             0.1,
             "#c51b7d"
            ],
            [
             0.2,
             "#de77ae"
            ],
            [
             0.3,
             "#f1b6da"
            ],
            [
             0.4,
             "#fde0ef"
            ],
            [
             0.5,
             "#f7f7f7"
            ],
            [
             0.6,
             "#e6f5d0"
            ],
            [
             0.7,
             "#b8e186"
            ],
            [
             0.8,
             "#7fbc41"
            ],
            [
             0.9,
             "#4d9221"
            ],
            [
             1,
             "#276419"
            ]
           ],
           "sequential": [
            [
             0,
             "#0d0887"
            ],
            [
             0.1111111111111111,
             "#46039f"
            ],
            [
             0.2222222222222222,
             "#7201a8"
            ],
            [
             0.3333333333333333,
             "#9c179e"
            ],
            [
             0.4444444444444444,
             "#bd3786"
            ],
            [
             0.5555555555555556,
             "#d8576b"
            ],
            [
             0.6666666666666666,
             "#ed7953"
            ],
            [
             0.7777777777777778,
             "#fb9f3a"
            ],
            [
             0.8888888888888888,
             "#fdca26"
            ],
            [
             1,
             "#f0f921"
            ]
           ],
           "sequentialminus": [
            [
             0,
             "#0d0887"
            ],
            [
             0.1111111111111111,
             "#46039f"
            ],
            [
             0.2222222222222222,
             "#7201a8"
            ],
            [
             0.3333333333333333,
             "#9c179e"
            ],
            [
             0.4444444444444444,
             "#bd3786"
            ],
            [
             0.5555555555555556,
             "#d8576b"
            ],
            [
             0.6666666666666666,
             "#ed7953"
            ],
            [
             0.7777777777777778,
             "#fb9f3a"
            ],
            [
             0.8888888888888888,
             "#fdca26"
            ],
            [
             1,
             "#f0f921"
            ]
           ]
          },
          "colorway": [
           "#636efa",
           "#EF553B",
           "#00cc96",
           "#ab63fa",
           "#FFA15A",
           "#19d3f3",
           "#FF6692",
           "#B6E880",
           "#FF97FF",
           "#FECB52"
          ],
          "font": {
           "color": "#2a3f5f"
          },
          "geo": {
           "bgcolor": "white",
           "lakecolor": "white",
           "landcolor": "#E5ECF6",
           "showlakes": true,
           "showland": true,
           "subunitcolor": "white"
          },
          "hoverlabel": {
           "align": "left"
          },
          "hovermode": "closest",
          "mapbox": {
           "style": "light"
          },
          "paper_bgcolor": "white",
          "plot_bgcolor": "#E5ECF6",
          "polar": {
           "angularaxis": {
            "gridcolor": "white",
            "linecolor": "white",
            "ticks": ""
           },
           "bgcolor": "#E5ECF6",
           "radialaxis": {
            "gridcolor": "white",
            "linecolor": "white",
            "ticks": ""
           }
          },
          "scene": {
           "xaxis": {
            "backgroundcolor": "#E5ECF6",
            "gridcolor": "white",
            "gridwidth": 2,
            "linecolor": "white",
            "showbackground": true,
            "ticks": "",
            "zerolinecolor": "white"
           },
           "yaxis": {
            "backgroundcolor": "#E5ECF6",
            "gridcolor": "white",
            "gridwidth": 2,
            "linecolor": "white",
            "showbackground": true,
            "ticks": "",
            "zerolinecolor": "white"
           },
           "zaxis": {
            "backgroundcolor": "#E5ECF6",
            "gridcolor": "white",
            "gridwidth": 2,
            "linecolor": "white",
            "showbackground": true,
            "ticks": "",
            "zerolinecolor": "white"
           }
          },
          "shapedefaults": {
           "line": {
            "color": "#2a3f5f"
           }
          },
          "ternary": {
           "aaxis": {
            "gridcolor": "white",
            "linecolor": "white",
            "ticks": ""
           },
           "baxis": {
            "gridcolor": "white",
            "linecolor": "white",
            "ticks": ""
           },
           "bgcolor": "#E5ECF6",
           "caxis": {
            "gridcolor": "white",
            "linecolor": "white",
            "ticks": ""
           }
          },
          "title": {
           "x": 0.05
          },
          "xaxis": {
           "automargin": true,
           "gridcolor": "white",
           "linecolor": "white",
           "ticks": "",
           "title": {
            "standoff": 15
           },
           "zerolinecolor": "white",
           "zerolinewidth": 2
          },
          "yaxis": {
           "automargin": true,
           "gridcolor": "white",
           "linecolor": "white",
           "ticks": "",
           "title": {
            "standoff": 15
           },
           "zerolinecolor": "white",
           "zerolinewidth": 2
          }
         }
        },
        "xaxis": {
         "anchor": "y",
         "domain": [
          0,
          1
         ],
         "title": {
          "text": "x"
         }
        },
        "yaxis": {
         "anchor": "x",
         "domain": [
          0,
          1
         ],
         "title": {
          "text": "y"
         }
        }
       }
      }
     },
     "metadata": {},
     "output_type": "display_data"
    }
   ],
   "source": [
    "px.scatter(x=xTrain.ravel(), y=yTrain.ravel(), trendline=\"ols\", trendline_color_override=\"red\")"
   ]
  },
  {
   "cell_type": "code",
   "execution_count": 93,
   "metadata": {},
   "outputs": [],
   "source": [
    "# Applying Polynomial Regression \n",
    "# For degree = 2\n",
    "poly =PolynomialFeatures(degree=2, include_bias=True)"
   ]
  },
  {
   "cell_type": "code",
   "execution_count": 94,
   "metadata": {},
   "outputs": [],
   "source": [
    "xTrainTrans = poly.fit_transform(xTrain)\n",
    "xTestTrans = poly.transform(np.sort(xTest, axis=0))"
   ]
  },
  {
   "cell_type": "code",
   "execution_count": 95,
   "metadata": {},
   "outputs": [
    {
     "name": "stdout",
     "output_type": "stream",
     "text": [
      "[2.58670405]\n",
      "[1.         2.58670405 6.69103786]\n"
     ]
    }
   ],
   "source": [
    "print(xTrain[0])\n",
    "print(xTrainTrans[0])"
   ]
  },
  {
   "cell_type": "code",
   "execution_count": 96,
   "metadata": {},
   "outputs": [],
   "source": [
    "lr = LinearRegression()"
   ]
  },
  {
   "cell_type": "code",
   "execution_count": 97,
   "metadata": {},
   "outputs": [
    {
     "data": {
      "text/html": [
       "<style>#sk-container-id-10 {color: black;}#sk-container-id-10 pre{padding: 0;}#sk-container-id-10 div.sk-toggleable {background-color: white;}#sk-container-id-10 label.sk-toggleable__label {cursor: pointer;display: block;width: 100%;margin-bottom: 0;padding: 0.3em;box-sizing: border-box;text-align: center;}#sk-container-id-10 label.sk-toggleable__label-arrow:before {content: \"▸\";float: left;margin-right: 0.25em;color: #696969;}#sk-container-id-10 label.sk-toggleable__label-arrow:hover:before {color: black;}#sk-container-id-10 div.sk-estimator:hover label.sk-toggleable__label-arrow:before {color: black;}#sk-container-id-10 div.sk-toggleable__content {max-height: 0;max-width: 0;overflow: hidden;text-align: left;background-color: #f0f8ff;}#sk-container-id-10 div.sk-toggleable__content pre {margin: 0.2em;color: black;border-radius: 0.25em;background-color: #f0f8ff;}#sk-container-id-10 input.sk-toggleable__control:checked~div.sk-toggleable__content {max-height: 200px;max-width: 100%;overflow: auto;}#sk-container-id-10 input.sk-toggleable__control:checked~label.sk-toggleable__label-arrow:before {content: \"▾\";}#sk-container-id-10 div.sk-estimator input.sk-toggleable__control:checked~label.sk-toggleable__label {background-color: #d4ebff;}#sk-container-id-10 div.sk-label input.sk-toggleable__control:checked~label.sk-toggleable__label {background-color: #d4ebff;}#sk-container-id-10 input.sk-hidden--visually {border: 0;clip: rect(1px 1px 1px 1px);clip: rect(1px, 1px, 1px, 1px);height: 1px;margin: -1px;overflow: hidden;padding: 0;position: absolute;width: 1px;}#sk-container-id-10 div.sk-estimator {font-family: monospace;background-color: #f0f8ff;border: 1px dotted black;border-radius: 0.25em;box-sizing: border-box;margin-bottom: 0.5em;}#sk-container-id-10 div.sk-estimator:hover {background-color: #d4ebff;}#sk-container-id-10 div.sk-parallel-item::after {content: \"\";width: 100%;border-bottom: 1px solid gray;flex-grow: 1;}#sk-container-id-10 div.sk-label:hover label.sk-toggleable__label {background-color: #d4ebff;}#sk-container-id-10 div.sk-serial::before {content: \"\";position: absolute;border-left: 1px solid gray;box-sizing: border-box;top: 0;bottom: 0;left: 50%;z-index: 0;}#sk-container-id-10 div.sk-serial {display: flex;flex-direction: column;align-items: center;background-color: white;padding-right: 0.2em;padding-left: 0.2em;position: relative;}#sk-container-id-10 div.sk-item {position: relative;z-index: 1;}#sk-container-id-10 div.sk-parallel {display: flex;align-items: stretch;justify-content: center;background-color: white;position: relative;}#sk-container-id-10 div.sk-item::before, #sk-container-id-10 div.sk-parallel-item::before {content: \"\";position: absolute;border-left: 1px solid gray;box-sizing: border-box;top: 0;bottom: 0;left: 50%;z-index: -1;}#sk-container-id-10 div.sk-parallel-item {display: flex;flex-direction: column;z-index: 1;position: relative;background-color: white;}#sk-container-id-10 div.sk-parallel-item:first-child::after {align-self: flex-end;width: 50%;}#sk-container-id-10 div.sk-parallel-item:last-child::after {align-self: flex-start;width: 50%;}#sk-container-id-10 div.sk-parallel-item:only-child::after {width: 0;}#sk-container-id-10 div.sk-dashed-wrapped {border: 1px dashed gray;margin: 0 0.4em 0.5em 0.4em;box-sizing: border-box;padding-bottom: 0.4em;background-color: white;}#sk-container-id-10 div.sk-label label {font-family: monospace;font-weight: bold;display: inline-block;line-height: 1.2em;}#sk-container-id-10 div.sk-label-container {text-align: center;}#sk-container-id-10 div.sk-container {/* jupyter's `normalize.less` sets `[hidden] { display: none; }` but bootstrap.min.css set `[hidden] { display: none !important; }` so we also need the `!important` here to be able to override the default hidden behavior on the sphinx rendered scikit-learn.org. See: https://github.com/scikit-learn/scikit-learn/issues/21755 */display: inline-block !important;position: relative;}#sk-container-id-10 div.sk-text-repr-fallback {display: none;}</style><div id=\"sk-container-id-10\" class=\"sk-top-container\"><div class=\"sk-text-repr-fallback\"><pre>LinearRegression()</pre><b>In a Jupyter environment, please rerun this cell to show the HTML representation or trust the notebook. <br />On GitHub, the HTML representation is unable to render, please try loading this page with nbviewer.org.</b></div><div class=\"sk-container\" hidden><div class=\"sk-item\"><div class=\"sk-estimator sk-toggleable\"><input class=\"sk-toggleable__control sk-hidden--visually\" id=\"sk-estimator-id-10\" type=\"checkbox\" checked><label for=\"sk-estimator-id-10\" class=\"sk-toggleable__label sk-toggleable__label-arrow\">LinearRegression</label><div class=\"sk-toggleable__content\"><pre>LinearRegression()</pre></div></div></div></div></div>"
      ],
      "text/plain": [
       "LinearRegression()"
      ]
     },
     "execution_count": 97,
     "metadata": {},
     "output_type": "execute_result"
    }
   ],
   "source": [
    "lr.fit(xTrainTrans,yTrain)"
   ]
  },
  {
   "cell_type": "code",
   "execution_count": 98,
   "metadata": {},
   "outputs": [],
   "source": [
    "yPred = lr.predict(xTestTrans)"
   ]
  },
  {
   "cell_type": "code",
   "execution_count": 99,
   "metadata": {},
   "outputs": [
    {
     "data": {
      "text/plain": [
       "-1.2168516410819783"
      ]
     },
     "execution_count": 99,
     "metadata": {},
     "output_type": "execute_result"
    }
   ],
   "source": [
    "r2_score(yTest,yPred)"
   ]
  },
  {
   "cell_type": "code",
   "execution_count": 100,
   "metadata": {},
   "outputs": [
    {
     "data": {
      "text/plain": [
       "(array([2.51092067]), array([[0.        , 0.87400417, 0.79915018]]))"
      ]
     },
     "execution_count": 100,
     "metadata": {},
     "output_type": "execute_result"
    }
   ],
   "source": [
    "lr.intercept_, lr.coef_"
   ]
  },
  {
   "cell_type": "code",
   "execution_count": 101,
   "metadata": {},
   "outputs": [
    {
     "data": {
      "application/vnd.plotly.v1+json": {
       "config": {
        "plotlyServerURL": "https://plot.ly"
       },
       "data": [
        {
         "hovertemplate": "x=%{x}<br>y=%{y}<extra></extra>",
         "legendgroup": "",
         "marker": {
          "color": "#636efa",
          "symbol": "circle"
         },
         "mode": "markers",
         "name": "",
         "orientation": "v",
         "showlegend": false,
         "type": "scatter",
         "x": [
          2.5867040531947163,
          1.995441838976011,
          -0.5549367215030836,
          -0.4469317086861082,
          1.2733101081893006,
          0.32475489324212736,
          2.9769441308048945,
          -2.655355420186897,
          2.3624203249180953,
          -2.3235847735326156,
          -1.2530374593818356,
          -2.183068804149171,
          1.7835530349339965,
          -1.4680765718458468,
          0.821288096106767,
          2.308117481052573,
          1.0504644991757086,
          -0.406682780186884,
          -1.8648550525852083,
          -0.46356730864515416,
          -1.2029377289652001,
          -1.1612335706749106,
          -1.0308491797049442,
          -0.25418053472467683,
          -0.4535171523559103,
          2.5659493751075413,
          -0.8185753811970735,
          -2.2545038594248945,
          0.12187022660342617,
          -0.6743882391510003,
          2.6368516204761363,
          -1.8145535263430346,
          0.6142567382954729,
          -2.2339632222759764,
          -2.2376263818371758,
          0.9425424365712161,
          2.7674413200045436,
          -1.6732780672805503,
          1.1665366843987082,
          -2.4259689231311983,
          -0.5819637401724895,
          1.3357758217630114,
          2.066245248566771,
          -1.1680111629014078,
          2.786782475742415,
          -1.8970409565726776,
          -1.7130233841882883,
          -2.682780142910035,
          -1.9685199887104552,
          1.401309562752016,
          -2.458903670528457,
          -0.8213364666446461,
          -1.4925291979764874,
          1.3722020811962334,
          -0.6652158764733915,
          2.6566724861201276,
          0.8273856340035284,
          2.7804396315880844,
          2.1840305123638943,
          1.7733370014079552,
          -2.0918616471449205,
          2.896351813015653,
          -0.4929011713031084,
          -2.342177423611422,
          1.9358676244347457,
          1.3332583164090153,
          2.312141774581306,
          1.777542782283886,
          2.7406608192169877,
          -2.2036705999945183,
          2.036834661657754,
          0.4372419486774568,
          -2.5217795079491436,
          -0.9225596400678278,
          1.563787974891273,
          -0.8617279526820507,
          -2.224178865482645,
          -0.8597297155020236,
          -0.6011639598431562,
          -2.880834385809401,
          0.07334344619322053,
          0.023777172631804788,
          1.5040343973683648,
          2.3763431375714523,
          1.3328880592581989,
          -2.1307199639814005,
          2.279280687614685,
          -1.935912199073181,
          -1.6182672641157336,
          1.904385530149061,
          1.5650871580022452,
          -1.681039046702514,
          0.4970115305702336,
          -1.7920031640189713,
          -0.35773433834585777,
          2.865315743819872,
          1.2699917492440678,
          -2.0959602706424336,
          -0.3113333204831088,
          -1.0806418901668042,
          -1.1686412941358066,
          -0.38671493543601443,
          -0.9982830800330564,
          -2.5928616068207417,
          2.1066574738909694,
          -0.43460646514446744,
          0.7817377595941801,
          -0.7522992521664613,
          0.8727861271582844,
          0.46441088065129055,
          -1.519064668755585,
          -2.0016995618342324,
          -1.7581060630238372,
          2.2499778538444355,
          0.7207574014030333,
          1.246736129355246,
          1.04585376701184,
          -0.13059422609624116,
          -2.9582751968754564,
          0.7019535461268349,
          0.9740414119262466,
          2.1683970471301324,
          2.9540353970750166,
          -2.681246206503423,
          -0.9028327113556953,
          -1.5258444522991415,
          2.163273310512757,
          -0.6774353197257525,
          -2.54417911213325,
          1.1654007700480582,
          2.2792259290189474,
          2.2605769201787123,
          -2.397017414280138,
          2.97869023202004,
          -2.631432965992988,
          -1.2871722095631744,
          -2.624934030387556,
          1.265938906374723,
          0.854401563560355,
          1.5726536702288172,
          2.8386593954304296,
          2.810124252690903,
          -1.933006173765573,
          0.7326014620523509,
          -2.870176647629438,
          2.998741792461466,
          -0.233918876105343,
          2.008368152763661,
          2.3054798996979873,
          -1.5651038279682132,
          0.6661882053809358,
          0.982368665438659,
          -2.342919762329636,
          0.0006753741470890695,
          2.3138655373422514,
          2.7199089139290606,
          -2.690174003985426,
          1.082963187274581,
          -0.8508345508220443,
          2.8238397324160216
         ],
         "xaxis": "x",
         "y": [
          10.471671693999097,
          7.535501137731239,
          1.7750982379692406,
          2.437475545954656,
          5.073950384641463,
          2.955451269467079,
          11.92192272965688,
          5.5323061035210666,
          9.189643739798505,
          4.352493154722158,
          2.2507866883392946,
          4.0770022094288105,
          6.272756568901052,
          2.4335758502056155,
          3.9193258705769036,
          8.594639696131429,
          4.437485538046636,
          2.031035575053691,
          3.2515753132613248,
          2.748302233245262,
          2.800872605467703,
          2.5927570739442682,
          2.6754327418603707,
          2.1550963987056315,
          2.7285364898157014,
          10.488478475225246,
          1.8141453576201134,
          4.5937452696588394,
          2.576883518064842,
          2.731722638466371,
          9.971610368533753,
          3.9046170685304835,
          3.444821805718395,
          4.228152689374249,
          4.114104908605192,
          3.9459205967379356,
          11.20726484841414,
          3.419146033135232,
          4.450887152722725,
          4.873040340487325,
          2.645134232823369,
          4.961012237518956,
          7.53271018555951,
          2.7168879167050846,
          10.862354363606729,
          3.354200383779834,
          3.14696227532121,
          6.31135640210839,
          3.8458673744031264,
          5.1483423719557,
          5.345443920130354,
          1.860176775139113,
          3.135751648566683,
          5.328102038534814,
          2.381264583824249,
          10.46124976949322,
          3.7062324593665235,
          11.687010360570227,
          8.299308642432807,
          6.375216924454609,
          4.404036766775754,
          11.780398285688296,
          2.1138238287026856,
          5.0623470067323035,
          7.603603849848415,
          5.579001993721273,
          9.058064154755485,
          6.917159601474804,
          11.151416220445105,
          4.8116849486066675,
          7.4313854433610365,
          3.4522545264471796,
          5.356611218188236,
          1.9416909888073661,
          5.537879697724808,
          2.316373508372204,
          4.241557678410764,
          2.3631589496485415,
          1.8838218851518096,
          6.4328416064607605,
          2.6103907016752657,
          2.3033802141942137,
          5.389960580175359,
          9.310711976450527,
          4.718783934102716,
          4.4882568361701685,
          8.887756195388423,
          3.574449189070026,
          3.073034674925825,
          7.48648689223698,
          5.456188818251374,
          3.569763950905811,
          2.8273048999130035,
          3.7706299283609237,
          1.9963387692454169,
          11.169939895630796,
          4.852214934850757,
          3.849815875417651,
          2.455634499848031,
          2.613471982189023,
          2.795874770960194,
          2.232939823342516,
          2.0492990422228834,
          5.595076567773241,
          7.573950369257583,
          2.3652787717700714,
          3.9338061442980377,
          2.684248433117133,
          3.81011489630688,
          3.326424686317388,
          3.399469127967332,
          3.9938103361904105,
          3.7101991080769494,
          8.117782990099101,
          3.8628325937283776,
          5.2976314216038105,
          4.242225300949851,
          2.502948941592808,
          7.154295560688732,
          3.7772142450123494,
          4.064215513048122,
          7.957988870596746,
          12.553447456943532,
          6.191119683121323,
          2.650089323751426,
          2.8118269398040936,
          8.105621962604456,
          2.4766801899364013,
          5.154513149813974,
          4.581177050247479,
          8.275425095174574,
          8.284918452014558,
          5.412595547005633,
          12.675273534930541,
          5.961503018216006,
          3.1531640765312794,
          5.515736077547588,
          4.821192004806522,
          4.248846267969783,
          5.690804160649518,
          11.02478865027822,
          11.211542152821131,
          3.873761900337662,
          3.098341871628816,
          6.567325772894263,
          12.332591164411507,
          1.9769685644800288,
          7.65888687552977,
          8.431918009993668,
          3.4244800376495617,
          3.5330652074121636,
          4.071116501323772,
          4.849925695744529,
          2.7786500985302487,
          9.319543423971272,
          10.504995399915094,
          6.278927575124346,
          4.064349723420156,
          2.45125361566014,
          11.226269898612445
         ],
         "yaxis": "y"
        },
        {
         "mode": "markers",
         "type": "scatter",
         "x": [
          -2.4701916393382115,
          -0.07900532632773505,
          1.6198422036266464,
          -1.93849938706866,
          1.3805855429388423,
          -0.9423041396935279,
          0.4280971813031851,
          -1.8526259580958913,
          -0.8963733149012278,
          2.286014232941982,
          -1.1120074079381237,
          0.44440481089135364,
          2.1789864754721835,
          -1.4450049391636262,
          2.699309003710855,
          -2.442578489604527,
          0.9134835711783089,
          -0.30200745295242815,
          -0.2656569932609312,
          -1.9398520144783986,
          1.6638244409864908,
          -0.7674264756286036,
          -2.238948354230897,
          0.27324076507303907,
          2.689073263177594,
          -0.7672233138160331,
          -2.6340385900871084,
          1.0598203444220022,
          2.8469376637369077,
          -1.5864362801675593,
          -1.4543283586793392,
          0.35133955461725197,
          -2.453407824591771,
          -0.9306130044440524,
          -2.0050198577089464,
          -1.3591950044277177,
          -2.7848549515576932,
          -2.3847418593591874,
          0.14337478874020526,
          -0.006978659578721569
         ],
         "y": [
          5.444225059009323,
          2.1737894079573894,
          6.260513644179275,
          3.2852992165148858,
          5.369369682292353,
          2.747711167880392,
          2.6876386375121353,
          3.2869584047825033,
          1.9947939833615198,
          8.543483141868347,
          2.511652222941875,
          3.2799428867424303,
          8.603101214403061,
          2.9647375949268806,
          10.532599150513228,
          5.093161759882066,
          3.4922440644402775,
          2.433476608144968,
          2.0071303652148216,
          3.5070859457272157,
          6.569646444969611,
          2.105285053545833,
          4.945623786255351,
          3.2926729555092895,
          11.028780979066688,
          2.650077898041784,
          5.616309471632232,
          3.9083814266365335,
          12.006186352186514,
          2.7152272170989056,
          3.0572297532233605,
          2.787880584979748,
          5.104726808215436,
          1.8618365424938998,
          3.7790659125032118,
          3.2286091398302577,
          6.523501933012714,
          5.096791915871205,
          2.333124582008991,
          2.385281906256192
         ]
        },
        {
         "mode": "lines",
         "type": "scatter",
         "x": [
          -2.7848549515576932,
          -2.6340385900871084,
          -2.4701916393382115,
          -2.453407824591771,
          -2.442578489604527,
          -2.3847418593591874,
          -2.238948354230897,
          -2.0050198577089464,
          -1.9398520144783986,
          -1.93849938706866,
          -1.8526259580958913,
          -1.5864362801675593,
          -1.4543283586793392,
          -1.4450049391636262,
          -1.3591950044277177,
          -1.1120074079381237,
          -0.9423041396935279,
          -0.9306130044440524,
          -0.8963733149012278,
          -0.7674264756286036,
          -0.7672233138160331,
          -0.30200745295242815,
          -0.2656569932609312,
          -0.07900532632773505,
          -0.006978659578721569,
          0.14337478874020526,
          0.27324076507303907,
          0.35133955461725197,
          0.4280971813031851,
          0.44440481089135364,
          0.9134835711783089,
          1.0598203444220022,
          1.3805855429388423,
          1.6198422036266464,
          1.6638244409864908,
          2.1789864754721835,
          2.286014232941982,
          2.689073263177594,
          2.699309003710855,
          2.8469376637369077
         ],
         "y": [
          6.274688764038373,
          5.753391172273278,
          5.228254761600438,
          5.1768846873547325,
          5.143978408475857,
          4.9714083781859495,
          4.560122177029077,
          3.971192268570274,
          3.8227046736568457,
          3.81969456227192,
          3.634579416964093,
          3.1356539753097303,
          2.9300909548036467,
          2.9166372740160904,
          2.7993374352205422,
          2.527219073382199,
          2.3969379994276347,
          2.38965748649179,
          2.3695919236224383,
          2.3108409425123386,
          2.3107693459579046,
          2.319854182391805,
          2.335134281006867,
          2.4468578504041734,
          2.5048602089177967,
          2.6526584251139567,
          2.8093991999902794,
          2.9166395880760567,
          3.0315374023937154,
          3.05716099850417,
          3.9761617714748545,
          4.334828863367738,
          5.2407515695923195,
          6.023550683771498,
          6.17740701340783,
          8.209714644060954,
          8.685154448511826,
          10.63992876530883,
          10.692951240265202,
          11.476311453870933
         ]
        }
       ],
       "layout": {
        "legend": {
         "tracegroupgap": 0
        },
        "margin": {
         "t": 60
        },
        "template": {
         "data": {
          "bar": [
           {
            "error_x": {
             "color": "#2a3f5f"
            },
            "error_y": {
             "color": "#2a3f5f"
            },
            "marker": {
             "line": {
              "color": "#E5ECF6",
              "width": 0.5
             },
             "pattern": {
              "fillmode": "overlay",
              "size": 10,
              "solidity": 0.2
             }
            },
            "type": "bar"
           }
          ],
          "barpolar": [
           {
            "marker": {
             "line": {
              "color": "#E5ECF6",
              "width": 0.5
             },
             "pattern": {
              "fillmode": "overlay",
              "size": 10,
              "solidity": 0.2
             }
            },
            "type": "barpolar"
           }
          ],
          "carpet": [
           {
            "aaxis": {
             "endlinecolor": "#2a3f5f",
             "gridcolor": "white",
             "linecolor": "white",
             "minorgridcolor": "white",
             "startlinecolor": "#2a3f5f"
            },
            "baxis": {
             "endlinecolor": "#2a3f5f",
             "gridcolor": "white",
             "linecolor": "white",
             "minorgridcolor": "white",
             "startlinecolor": "#2a3f5f"
            },
            "type": "carpet"
           }
          ],
          "choropleth": [
           {
            "colorbar": {
             "outlinewidth": 0,
             "ticks": ""
            },
            "type": "choropleth"
           }
          ],
          "contour": [
           {
            "colorbar": {
             "outlinewidth": 0,
             "ticks": ""
            },
            "colorscale": [
             [
              0,
              "#0d0887"
             ],
             [
              0.1111111111111111,
              "#46039f"
             ],
             [
              0.2222222222222222,
              "#7201a8"
             ],
             [
              0.3333333333333333,
              "#9c179e"
             ],
             [
              0.4444444444444444,
              "#bd3786"
             ],
             [
              0.5555555555555556,
              "#d8576b"
             ],
             [
              0.6666666666666666,
              "#ed7953"
             ],
             [
              0.7777777777777778,
              "#fb9f3a"
             ],
             [
              0.8888888888888888,
              "#fdca26"
             ],
             [
              1,
              "#f0f921"
             ]
            ],
            "type": "contour"
           }
          ],
          "contourcarpet": [
           {
            "colorbar": {
             "outlinewidth": 0,
             "ticks": ""
            },
            "type": "contourcarpet"
           }
          ],
          "heatmap": [
           {
            "colorbar": {
             "outlinewidth": 0,
             "ticks": ""
            },
            "colorscale": [
             [
              0,
              "#0d0887"
             ],
             [
              0.1111111111111111,
              "#46039f"
             ],
             [
              0.2222222222222222,
              "#7201a8"
             ],
             [
              0.3333333333333333,
              "#9c179e"
             ],
             [
              0.4444444444444444,
              "#bd3786"
             ],
             [
              0.5555555555555556,
              "#d8576b"
             ],
             [
              0.6666666666666666,
              "#ed7953"
             ],
             [
              0.7777777777777778,
              "#fb9f3a"
             ],
             [
              0.8888888888888888,
              "#fdca26"
             ],
             [
              1,
              "#f0f921"
             ]
            ],
            "type": "heatmap"
           }
          ],
          "heatmapgl": [
           {
            "colorbar": {
             "outlinewidth": 0,
             "ticks": ""
            },
            "colorscale": [
             [
              0,
              "#0d0887"
             ],
             [
              0.1111111111111111,
              "#46039f"
             ],
             [
              0.2222222222222222,
              "#7201a8"
             ],
             [
              0.3333333333333333,
              "#9c179e"
             ],
             [
              0.4444444444444444,
              "#bd3786"
             ],
             [
              0.5555555555555556,
              "#d8576b"
             ],
             [
              0.6666666666666666,
              "#ed7953"
             ],
             [
              0.7777777777777778,
              "#fb9f3a"
             ],
             [
              0.8888888888888888,
              "#fdca26"
             ],
             [
              1,
              "#f0f921"
             ]
            ],
            "type": "heatmapgl"
           }
          ],
          "histogram": [
           {
            "marker": {
             "pattern": {
              "fillmode": "overlay",
              "size": 10,
              "solidity": 0.2
             }
            },
            "type": "histogram"
           }
          ],
          "histogram2d": [
           {
            "colorbar": {
             "outlinewidth": 0,
             "ticks": ""
            },
            "colorscale": [
             [
              0,
              "#0d0887"
             ],
             [
              0.1111111111111111,
              "#46039f"
             ],
             [
              0.2222222222222222,
              "#7201a8"
             ],
             [
              0.3333333333333333,
              "#9c179e"
             ],
             [
              0.4444444444444444,
              "#bd3786"
             ],
             [
              0.5555555555555556,
              "#d8576b"
             ],
             [
              0.6666666666666666,
              "#ed7953"
             ],
             [
              0.7777777777777778,
              "#fb9f3a"
             ],
             [
              0.8888888888888888,
              "#fdca26"
             ],
             [
              1,
              "#f0f921"
             ]
            ],
            "type": "histogram2d"
           }
          ],
          "histogram2dcontour": [
           {
            "colorbar": {
             "outlinewidth": 0,
             "ticks": ""
            },
            "colorscale": [
             [
              0,
              "#0d0887"
             ],
             [
              0.1111111111111111,
              "#46039f"
             ],
             [
              0.2222222222222222,
              "#7201a8"
             ],
             [
              0.3333333333333333,
              "#9c179e"
             ],
             [
              0.4444444444444444,
              "#bd3786"
             ],
             [
              0.5555555555555556,
              "#d8576b"
             ],
             [
              0.6666666666666666,
              "#ed7953"
             ],
             [
              0.7777777777777778,
              "#fb9f3a"
             ],
             [
              0.8888888888888888,
              "#fdca26"
             ],
             [
              1,
              "#f0f921"
             ]
            ],
            "type": "histogram2dcontour"
           }
          ],
          "mesh3d": [
           {
            "colorbar": {
             "outlinewidth": 0,
             "ticks": ""
            },
            "type": "mesh3d"
           }
          ],
          "parcoords": [
           {
            "line": {
             "colorbar": {
              "outlinewidth": 0,
              "ticks": ""
             }
            },
            "type": "parcoords"
           }
          ],
          "pie": [
           {
            "automargin": true,
            "type": "pie"
           }
          ],
          "scatter": [
           {
            "fillpattern": {
             "fillmode": "overlay",
             "size": 10,
             "solidity": 0.2
            },
            "type": "scatter"
           }
          ],
          "scatter3d": [
           {
            "line": {
             "colorbar": {
              "outlinewidth": 0,
              "ticks": ""
             }
            },
            "marker": {
             "colorbar": {
              "outlinewidth": 0,
              "ticks": ""
             }
            },
            "type": "scatter3d"
           }
          ],
          "scattercarpet": [
           {
            "marker": {
             "colorbar": {
              "outlinewidth": 0,
              "ticks": ""
             }
            },
            "type": "scattercarpet"
           }
          ],
          "scattergeo": [
           {
            "marker": {
             "colorbar": {
              "outlinewidth": 0,
              "ticks": ""
             }
            },
            "type": "scattergeo"
           }
          ],
          "scattergl": [
           {
            "marker": {
             "colorbar": {
              "outlinewidth": 0,
              "ticks": ""
             }
            },
            "type": "scattergl"
           }
          ],
          "scattermapbox": [
           {
            "marker": {
             "colorbar": {
              "outlinewidth": 0,
              "ticks": ""
             }
            },
            "type": "scattermapbox"
           }
          ],
          "scatterpolar": [
           {
            "marker": {
             "colorbar": {
              "outlinewidth": 0,
              "ticks": ""
             }
            },
            "type": "scatterpolar"
           }
          ],
          "scatterpolargl": [
           {
            "marker": {
             "colorbar": {
              "outlinewidth": 0,
              "ticks": ""
             }
            },
            "type": "scatterpolargl"
           }
          ],
          "scatterternary": [
           {
            "marker": {
             "colorbar": {
              "outlinewidth": 0,
              "ticks": ""
             }
            },
            "type": "scatterternary"
           }
          ],
          "surface": [
           {
            "colorbar": {
             "outlinewidth": 0,
             "ticks": ""
            },
            "colorscale": [
             [
              0,
              "#0d0887"
             ],
             [
              0.1111111111111111,
              "#46039f"
             ],
             [
              0.2222222222222222,
              "#7201a8"
             ],
             [
              0.3333333333333333,
              "#9c179e"
             ],
             [
              0.4444444444444444,
              "#bd3786"
             ],
             [
              0.5555555555555556,
              "#d8576b"
             ],
             [
              0.6666666666666666,
              "#ed7953"
             ],
             [
              0.7777777777777778,
              "#fb9f3a"
             ],
             [
              0.8888888888888888,
              "#fdca26"
             ],
             [
              1,
              "#f0f921"
             ]
            ],
            "type": "surface"
           }
          ],
          "table": [
           {
            "cells": {
             "fill": {
              "color": "#EBF0F8"
             },
             "line": {
              "color": "white"
             }
            },
            "header": {
             "fill": {
              "color": "#C8D4E3"
             },
             "line": {
              "color": "white"
             }
            },
            "type": "table"
           }
          ]
         },
         "layout": {
          "annotationdefaults": {
           "arrowcolor": "#2a3f5f",
           "arrowhead": 0,
           "arrowwidth": 1
          },
          "autotypenumbers": "strict",
          "coloraxis": {
           "colorbar": {
            "outlinewidth": 0,
            "ticks": ""
           }
          },
          "colorscale": {
           "diverging": [
            [
             0,
             "#8e0152"
            ],
            [
             0.1,
             "#c51b7d"
            ],
            [
             0.2,
             "#de77ae"
            ],
            [
             0.3,
             "#f1b6da"
            ],
            [
             0.4,
             "#fde0ef"
            ],
            [
             0.5,
             "#f7f7f7"
            ],
            [
             0.6,
             "#e6f5d0"
            ],
            [
             0.7,
             "#b8e186"
            ],
            [
             0.8,
             "#7fbc41"
            ],
            [
             0.9,
             "#4d9221"
            ],
            [
             1,
             "#276419"
            ]
           ],
           "sequential": [
            [
             0,
             "#0d0887"
            ],
            [
             0.1111111111111111,
             "#46039f"
            ],
            [
             0.2222222222222222,
             "#7201a8"
            ],
            [
             0.3333333333333333,
             "#9c179e"
            ],
            [
             0.4444444444444444,
             "#bd3786"
            ],
            [
             0.5555555555555556,
             "#d8576b"
            ],
            [
             0.6666666666666666,
             "#ed7953"
            ],
            [
             0.7777777777777778,
             "#fb9f3a"
            ],
            [
             0.8888888888888888,
             "#fdca26"
            ],
            [
             1,
             "#f0f921"
            ]
           ],
           "sequentialminus": [
            [
             0,
             "#0d0887"
            ],
            [
             0.1111111111111111,
             "#46039f"
            ],
            [
             0.2222222222222222,
             "#7201a8"
            ],
            [
             0.3333333333333333,
             "#9c179e"
            ],
            [
             0.4444444444444444,
             "#bd3786"
            ],
            [
             0.5555555555555556,
             "#d8576b"
            ],
            [
             0.6666666666666666,
             "#ed7953"
            ],
            [
             0.7777777777777778,
             "#fb9f3a"
            ],
            [
             0.8888888888888888,
             "#fdca26"
            ],
            [
             1,
             "#f0f921"
            ]
           ]
          },
          "colorway": [
           "#636efa",
           "#EF553B",
           "#00cc96",
           "#ab63fa",
           "#FFA15A",
           "#19d3f3",
           "#FF6692",
           "#B6E880",
           "#FF97FF",
           "#FECB52"
          ],
          "font": {
           "color": "#2a3f5f"
          },
          "geo": {
           "bgcolor": "white",
           "lakecolor": "white",
           "landcolor": "#E5ECF6",
           "showlakes": true,
           "showland": true,
           "subunitcolor": "white"
          },
          "hoverlabel": {
           "align": "left"
          },
          "hovermode": "closest",
          "mapbox": {
           "style": "light"
          },
          "paper_bgcolor": "white",
          "plot_bgcolor": "#E5ECF6",
          "polar": {
           "angularaxis": {
            "gridcolor": "white",
            "linecolor": "white",
            "ticks": ""
           },
           "bgcolor": "#E5ECF6",
           "radialaxis": {
            "gridcolor": "white",
            "linecolor": "white",
            "ticks": ""
           }
          },
          "scene": {
           "xaxis": {
            "backgroundcolor": "#E5ECF6",
            "gridcolor": "white",
            "gridwidth": 2,
            "linecolor": "white",
            "showbackground": true,
            "ticks": "",
            "zerolinecolor": "white"
           },
           "yaxis": {
            "backgroundcolor": "#E5ECF6",
            "gridcolor": "white",
            "gridwidth": 2,
            "linecolor": "white",
            "showbackground": true,
            "ticks": "",
            "zerolinecolor": "white"
           },
           "zaxis": {
            "backgroundcolor": "#E5ECF6",
            "gridcolor": "white",
            "gridwidth": 2,
            "linecolor": "white",
            "showbackground": true,
            "ticks": "",
            "zerolinecolor": "white"
           }
          },
          "shapedefaults": {
           "line": {
            "color": "#2a3f5f"
           }
          },
          "ternary": {
           "aaxis": {
            "gridcolor": "white",
            "linecolor": "white",
            "ticks": ""
           },
           "baxis": {
            "gridcolor": "white",
            "linecolor": "white",
            "ticks": ""
           },
           "bgcolor": "#E5ECF6",
           "caxis": {
            "gridcolor": "white",
            "linecolor": "white",
            "ticks": ""
           }
          },
          "title": {
           "x": 0.05
          },
          "xaxis": {
           "automargin": true,
           "gridcolor": "white",
           "linecolor": "white",
           "ticks": "",
           "title": {
            "standoff": 15
           },
           "zerolinecolor": "white",
           "zerolinewidth": 2
          },
          "yaxis": {
           "automargin": true,
           "gridcolor": "white",
           "linecolor": "white",
           "ticks": "",
           "title": {
            "standoff": 15
           },
           "zerolinecolor": "white",
           "zerolinewidth": 2
          }
         }
        },
        "xaxis": {
         "anchor": "y",
         "domain": [
          0,
          1
         ],
         "title": {
          "text": "x"
         }
        },
        "yaxis": {
         "anchor": "x",
         "domain": [
          0,
          1
         ],
         "title": {
          "text": "y"
         }
        }
       }
      }
     },
     "metadata": {},
     "output_type": "display_data"
    }
   ],
   "source": [
    "fig = px.scatter(x=xTrain.ravel(), y= yTrain.ravel())\n",
    "fig.add_traces(go.Scatter(x= xTest.ravel(), y= yTest.ravel(), mode=\"markers\"))\n",
    "fig.add_traces(go.Scatter(x= np.sort(xTest.ravel()), y=yPred.ravel(), mode=\"lines\"))\n",
    "fig.show()"
   ]
  },
  {
   "cell_type": "markdown",
   "metadata": {},
   "source": [
    "### 3D Polynomial Regression"
   ]
  },
  {
   "cell_type": "code",
   "execution_count": 102,
   "metadata": {},
   "outputs": [],
   "source": [
    "x = 7 * np.random.rand(100, 1) - 2.8\n",
    "y = 7 * np.random.rand(100, 1) - 2.8\n",
    "z = x**2 + y**2 + 0.2*x + 0.2*y + 0.1*x*y + 2 + np.random.randn(100, 1)"
   ]
  },
  {
   "cell_type": "code",
   "execution_count": 103,
   "metadata": {},
   "outputs": [
    {
     "data": {
      "application/vnd.plotly.v1+json": {
       "config": {
        "plotlyServerURL": "https://plot.ly"
       },
       "data": [
        {
         "hovertemplate": "x=%{x}<br>y=%{y}<br>z=%{z}<extra></extra>",
         "legendgroup": "",
         "marker": {
          "color": "#636efa",
          "symbol": "circle"
         },
         "mode": "markers",
         "name": "",
         "scene": "scene",
         "showlegend": false,
         "type": "scatter3d",
         "x": [
          -2.2612603684023873,
          1.4206922417367371,
          -1.0863337742771206,
          3.5850577813074995,
          -1.3417551990524612,
          -1.7250651893430429,
          -2.4696038652737737,
          -2.446864853194146,
          -2.3651176790128203,
          4.1316575850117605,
          3.6528211902236922,
          3.2061796882653955,
          0.601177438636221,
          0.1010106265777777,
          1.9124421102311704,
          -0.13548670824001885,
          2.694784495950377,
          1.7767996037632985,
          1.6974371494673282,
          -0.7015549350474704,
          -1.7038859440533416,
          -2.4378658022869155,
          1.7832315836891999,
          1.0637606606422985,
          1.0474926430913265,
          -2.490304142096074,
          1.3072400647283517,
          -0.28558102086581405,
          1.692741722027951,
          -2.6545422336223212,
          1.2951983496439379,
          -0.20884394020580332,
          2.528345210832515,
          2.201478865617645,
          -2.7339016042904403,
          1.4135860101593396,
          -0.7012011239179383,
          -2.3802094727351673,
          1.3289742401588738,
          2.0023842973202086,
          0.2923601438010843,
          2.183617875877739,
          3.952220490169047,
          4.196241749293184,
          1.954918174193618,
          0.4678047749271439,
          -1.2901184170143047,
          0.44744641225190573,
          0.7975186268712409,
          2.1714591641781835,
          -1.0810513314585648,
          3.902457155537987,
          0.2778056097303745,
          1.4337400899318764,
          2.4628194883025376,
          3.34877355677766,
          2.63043779891629,
          3.975325572225965,
          3.299559499123954,
          -1.6973917858402694,
          -2.462933941084834,
          -2.0756981117078306,
          -2.2363021115827517,
          0.8792268196498116,
          1.895118455716588,
          -1.3094910899672545,
          2.8519710826109144,
          -1.6829058096826444,
          -0.9129760754840825,
          3.2438505238276942,
          -1.722392037974662,
          -0.3915878142395699,
          1.0607323022272346,
          2.6777661494164393,
          0.5905491687317852,
          -0.8217097883227997,
          3.788169566331444,
          2.6746276600811134,
          -0.041053004771661517,
          3.4125211212110615,
          3.292742387547447,
          -2.290479371356323,
          3.8663686630208085,
          -2.488017573755189,
          2.6015003396921816,
          -1.7990796891802527,
          0.21952699141073717,
          1.9938415611388134,
          3.4194553425829026,
          -0.47341721052237684,
          3.4730299343215965,
          1.2732824131914908,
          -1.554218682036952,
          1.903638585233625,
          -1.4618885710176164,
          1.1524898082511292,
          -0.7058292133178963,
          2.360853641738215,
          0.2883902604911177,
          2.5984635823614646
         ],
         "y": [
          -0.33549488855526866,
          -2.695978960871718,
          3.8837567172157943,
          0.4238786154644112,
          0.9110808726754493,
          3.6346962350199234,
          3.9288268554084285,
          3.9270885109223075,
          3.6505793367910027,
          -0.9958163069619523,
          -0.4116546216122714,
          -2.476278817022781,
          0.8198943550096462,
          0.9169463939455325,
          3.2479008334024826,
          -0.07063239337085836,
          -0.5398007302951284,
          -2.7473214382390663,
          -0.8691526428729759,
          3.1870344963463184,
          0.31835558221051974,
          0.728171886442039,
          -2.7328296394208564,
          -0.9001816395154427,
          -0.8288991864393609,
          -2.0467360378143735,
          -0.9804211314376565,
          0.38135077578360566,
          0.9837350702053822,
          3.4123826738871035,
          3.675009408656085,
          0.8039622508065127,
          3.273753737902835,
          0.23741347219103437,
          3.520848251733682,
          3.0018642835172544,
          -1.632405430353931,
          -0.430865928665499,
          0.08958646678759852,
          0.9793388391395608,
          -2.3454753623662192,
          0.6231758998491586,
          -1.1623313350598186,
          -0.3562122723076646,
          4.04881249539906,
          1.0958276478389712,
          0.7202999860329986,
          2.871065028348429,
          2.210851531283727,
          3.4142561929373407,
          -0.6959312967625215,
          -0.9193776148835182,
          -2.6473198473014725,
          -1.3747042420394004,
          2.039278004043858,
          1.6960131399782972,
          1.7598437833015286,
          -1.1194394000078978,
          1.6315035591215485,
          0.33595357670926873,
          0.5401713276074185,
          -0.799918029852607,
          -1.0334596282886368,
          0.6952514558377692,
          1.1268238906885326,
          -0.6813636959329217,
          -1.3598458372776445,
          2.5015273042195583,
          1.276092288293956,
          -0.09649401199950924,
          -2.3897591780670338,
          3.956162079586714,
          -1.2533395732058952,
          2.203104912009862,
          2.087528815385766,
          3.6092684793036005,
          2.969693621502082,
          2.573599797626989,
          3.0266626190091586,
          1.580523292054596,
          -2.0981868911425496,
          -2.302258485897834,
          2.2791629681192918,
          0.4060916812120352,
          3.1357951684157923,
          2.4709012660472256,
          0.655746128314874,
          0.406291958498616,
          3.6104072044593476,
          0.2815885591027607,
          -2.614094948889669,
          0.5177787823184112,
          0.29073872634109676,
          -2.2520297399908005,
          0.5739491569560764,
          1.7858828849483368,
          -0.23900929417904804,
          -2.544765520062658,
          3.441018630586064,
          1.7639193677855367
         ],
         "z": [
          7.470973043747557,
          9.801970137748913,
          18.36315243714966,
          15.77504087016457,
          3.613924115180793,
          18.452913405971103,
          22.056916768906408,
          23.32230763243098,
          21.810160535829322,
          19.999819012255546,
          14.621307419475526,
          16.462888077305696,
          3.5407550183165597,
          3.2211735952231715,
          17.469607383827938,
          2.1477160805439603,
          9.834388918184535,
          11.474077536934507,
          5.9415764238278275,
          12.870674426548467,
          5.956993676249434,
          7.19169427534917,
          12.953902515224193,
          3.745496367503649,
          3.3028664302031014,
          13.133847658444484,
          5.755534221363063,
          2.1586943396854816,
          5.865889783508159,
          19.115604446982527,
          18.722063112589396,
          4.23696915025751,
          20.154935245569973,
          8.240039175369953,
          21.18566626435038,
          15.317715545317514,
          4.745351832325885,
          6.200108652887386,
          2.9354336004758643,
          7.290805146776729,
          8.562183492619392,
          6.856278259560676,
          18.427694457447288,
          19.27143821884949,
          20.774656759493293,
          4.615612095089414,
          2.1093399277040312,
          11.318803135738825,
          9.279188887404935,
          20.164071991840594,
          4.392066361208164,
          20.001537133793263,
          9.708052458262822,
          3.5946092829058753,
          13.920310689794091,
          18.559921029929402,
          14.680893555244879,
          20.295832952243103,
          18.34777669425539,
          3.0929250810250384,
          6.742215323403364,
          6.726038796108581,
          7.053788090976845,
          3.5266175485675118,
          7.674583051342736,
          5.584282531105335,
          13.044715321205054,
          11.117921915029047,
          3.090705208197904,
          11.411672358121956,
          8.326955237780814,
          18.76619403638996,
          6.037281343543478,
          17.115361842087538,
          6.683121954926749,
          15.432891988505265,
          27.398408493480584,
          17.056092541938536,
          10.370752960773471,
          18.306634462213218,
          18.496560678753617,
          10.493380124985249,
          24.6232294436299,
          7.403715375093694,
          21.717680631582894,
          12.073496861045856,
          1.622461271878488,
          6.000501677504208,
          28.275927579685806,
          0.4349103225526918,
          18.065097848710653,
          4.773986061151455,
          2.596839096102792,
          10.421349109136825,
          3.4942622603081883,
          6.526934102320799,
          1.5108767665193708,
          15.040493044321426,
          13.255539637806834,
          12.11837596934283
         ]
        }
       ],
       "layout": {
        "legend": {
         "tracegroupgap": 0
        },
        "margin": {
         "t": 60
        },
        "scene": {
         "domain": {
          "x": [
           0,
           1
          ],
          "y": [
           0,
           1
          ]
         },
         "xaxis": {
          "title": {
           "text": "x"
          }
         },
         "yaxis": {
          "title": {
           "text": "y"
          }
         },
         "zaxis": {
          "title": {
           "text": "z"
          }
         }
        },
        "template": {
         "data": {
          "bar": [
           {
            "error_x": {
             "color": "#2a3f5f"
            },
            "error_y": {
             "color": "#2a3f5f"
            },
            "marker": {
             "line": {
              "color": "#E5ECF6",
              "width": 0.5
             },
             "pattern": {
              "fillmode": "overlay",
              "size": 10,
              "solidity": 0.2
             }
            },
            "type": "bar"
           }
          ],
          "barpolar": [
           {
            "marker": {
             "line": {
              "color": "#E5ECF6",
              "width": 0.5
             },
             "pattern": {
              "fillmode": "overlay",
              "size": 10,
              "solidity": 0.2
             }
            },
            "type": "barpolar"
           }
          ],
          "carpet": [
           {
            "aaxis": {
             "endlinecolor": "#2a3f5f",
             "gridcolor": "white",
             "linecolor": "white",
             "minorgridcolor": "white",
             "startlinecolor": "#2a3f5f"
            },
            "baxis": {
             "endlinecolor": "#2a3f5f",
             "gridcolor": "white",
             "linecolor": "white",
             "minorgridcolor": "white",
             "startlinecolor": "#2a3f5f"
            },
            "type": "carpet"
           }
          ],
          "choropleth": [
           {
            "colorbar": {
             "outlinewidth": 0,
             "ticks": ""
            },
            "type": "choropleth"
           }
          ],
          "contour": [
           {
            "colorbar": {
             "outlinewidth": 0,
             "ticks": ""
            },
            "colorscale": [
             [
              0,
              "#0d0887"
             ],
             [
              0.1111111111111111,
              "#46039f"
             ],
             [
              0.2222222222222222,
              "#7201a8"
             ],
             [
              0.3333333333333333,
              "#9c179e"
             ],
             [
              0.4444444444444444,
              "#bd3786"
             ],
             [
              0.5555555555555556,
              "#d8576b"
             ],
             [
              0.6666666666666666,
              "#ed7953"
             ],
             [
              0.7777777777777778,
              "#fb9f3a"
             ],
             [
              0.8888888888888888,
              "#fdca26"
             ],
             [
              1,
              "#f0f921"
             ]
            ],
            "type": "contour"
           }
          ],
          "contourcarpet": [
           {
            "colorbar": {
             "outlinewidth": 0,
             "ticks": ""
            },
            "type": "contourcarpet"
           }
          ],
          "heatmap": [
           {
            "colorbar": {
             "outlinewidth": 0,
             "ticks": ""
            },
            "colorscale": [
             [
              0,
              "#0d0887"
             ],
             [
              0.1111111111111111,
              "#46039f"
             ],
             [
              0.2222222222222222,
              "#7201a8"
             ],
             [
              0.3333333333333333,
              "#9c179e"
             ],
             [
              0.4444444444444444,
              "#bd3786"
             ],
             [
              0.5555555555555556,
              "#d8576b"
             ],
             [
              0.6666666666666666,
              "#ed7953"
             ],
             [
              0.7777777777777778,
              "#fb9f3a"
             ],
             [
              0.8888888888888888,
              "#fdca26"
             ],
             [
              1,
              "#f0f921"
             ]
            ],
            "type": "heatmap"
           }
          ],
          "heatmapgl": [
           {
            "colorbar": {
             "outlinewidth": 0,
             "ticks": ""
            },
            "colorscale": [
             [
              0,
              "#0d0887"
             ],
             [
              0.1111111111111111,
              "#46039f"
             ],
             [
              0.2222222222222222,
              "#7201a8"
             ],
             [
              0.3333333333333333,
              "#9c179e"
             ],
             [
              0.4444444444444444,
              "#bd3786"
             ],
             [
              0.5555555555555556,
              "#d8576b"
             ],
             [
              0.6666666666666666,
              "#ed7953"
             ],
             [
              0.7777777777777778,
              "#fb9f3a"
             ],
             [
              0.8888888888888888,
              "#fdca26"
             ],
             [
              1,
              "#f0f921"
             ]
            ],
            "type": "heatmapgl"
           }
          ],
          "histogram": [
           {
            "marker": {
             "pattern": {
              "fillmode": "overlay",
              "size": 10,
              "solidity": 0.2
             }
            },
            "type": "histogram"
           }
          ],
          "histogram2d": [
           {
            "colorbar": {
             "outlinewidth": 0,
             "ticks": ""
            },
            "colorscale": [
             [
              0,
              "#0d0887"
             ],
             [
              0.1111111111111111,
              "#46039f"
             ],
             [
              0.2222222222222222,
              "#7201a8"
             ],
             [
              0.3333333333333333,
              "#9c179e"
             ],
             [
              0.4444444444444444,
              "#bd3786"
             ],
             [
              0.5555555555555556,
              "#d8576b"
             ],
             [
              0.6666666666666666,
              "#ed7953"
             ],
             [
              0.7777777777777778,
              "#fb9f3a"
             ],
             [
              0.8888888888888888,
              "#fdca26"
             ],
             [
              1,
              "#f0f921"
             ]
            ],
            "type": "histogram2d"
           }
          ],
          "histogram2dcontour": [
           {
            "colorbar": {
             "outlinewidth": 0,
             "ticks": ""
            },
            "colorscale": [
             [
              0,
              "#0d0887"
             ],
             [
              0.1111111111111111,
              "#46039f"
             ],
             [
              0.2222222222222222,
              "#7201a8"
             ],
             [
              0.3333333333333333,
              "#9c179e"
             ],
             [
              0.4444444444444444,
              "#bd3786"
             ],
             [
              0.5555555555555556,
              "#d8576b"
             ],
             [
              0.6666666666666666,
              "#ed7953"
             ],
             [
              0.7777777777777778,
              "#fb9f3a"
             ],
             [
              0.8888888888888888,
              "#fdca26"
             ],
             [
              1,
              "#f0f921"
             ]
            ],
            "type": "histogram2dcontour"
           }
          ],
          "mesh3d": [
           {
            "colorbar": {
             "outlinewidth": 0,
             "ticks": ""
            },
            "type": "mesh3d"
           }
          ],
          "parcoords": [
           {
            "line": {
             "colorbar": {
              "outlinewidth": 0,
              "ticks": ""
             }
            },
            "type": "parcoords"
           }
          ],
          "pie": [
           {
            "automargin": true,
            "type": "pie"
           }
          ],
          "scatter": [
           {
            "fillpattern": {
             "fillmode": "overlay",
             "size": 10,
             "solidity": 0.2
            },
            "type": "scatter"
           }
          ],
          "scatter3d": [
           {
            "line": {
             "colorbar": {
              "outlinewidth": 0,
              "ticks": ""
             }
            },
            "marker": {
             "colorbar": {
              "outlinewidth": 0,
              "ticks": ""
             }
            },
            "type": "scatter3d"
           }
          ],
          "scattercarpet": [
           {
            "marker": {
             "colorbar": {
              "outlinewidth": 0,
              "ticks": ""
             }
            },
            "type": "scattercarpet"
           }
          ],
          "scattergeo": [
           {
            "marker": {
             "colorbar": {
              "outlinewidth": 0,
              "ticks": ""
             }
            },
            "type": "scattergeo"
           }
          ],
          "scattergl": [
           {
            "marker": {
             "colorbar": {
              "outlinewidth": 0,
              "ticks": ""
             }
            },
            "type": "scattergl"
           }
          ],
          "scattermapbox": [
           {
            "marker": {
             "colorbar": {
              "outlinewidth": 0,
              "ticks": ""
             }
            },
            "type": "scattermapbox"
           }
          ],
          "scatterpolar": [
           {
            "marker": {
             "colorbar": {
              "outlinewidth": 0,
              "ticks": ""
             }
            },
            "type": "scatterpolar"
           }
          ],
          "scatterpolargl": [
           {
            "marker": {
             "colorbar": {
              "outlinewidth": 0,
              "ticks": ""
             }
            },
            "type": "scatterpolargl"
           }
          ],
          "scatterternary": [
           {
            "marker": {
             "colorbar": {
              "outlinewidth": 0,
              "ticks": ""
             }
            },
            "type": "scatterternary"
           }
          ],
          "surface": [
           {
            "colorbar": {
             "outlinewidth": 0,
             "ticks": ""
            },
            "colorscale": [
             [
              0,
              "#0d0887"
             ],
             [
              0.1111111111111111,
              "#46039f"
             ],
             [
              0.2222222222222222,
              "#7201a8"
             ],
             [
              0.3333333333333333,
              "#9c179e"
             ],
             [
              0.4444444444444444,
              "#bd3786"
             ],
             [
              0.5555555555555556,
              "#d8576b"
             ],
             [
              0.6666666666666666,
              "#ed7953"
             ],
             [
              0.7777777777777778,
              "#fb9f3a"
             ],
             [
              0.8888888888888888,
              "#fdca26"
             ],
             [
              1,
              "#f0f921"
             ]
            ],
            "type": "surface"
           }
          ],
          "table": [
           {
            "cells": {
             "fill": {
              "color": "#EBF0F8"
             },
             "line": {
              "color": "white"
             }
            },
            "header": {
             "fill": {
              "color": "#C8D4E3"
             },
             "line": {
              "color": "white"
             }
            },
            "type": "table"
           }
          ]
         },
         "layout": {
          "annotationdefaults": {
           "arrowcolor": "#2a3f5f",
           "arrowhead": 0,
           "arrowwidth": 1
          },
          "autotypenumbers": "strict",
          "coloraxis": {
           "colorbar": {
            "outlinewidth": 0,
            "ticks": ""
           }
          },
          "colorscale": {
           "diverging": [
            [
             0,
             "#8e0152"
            ],
            [
             0.1,
             "#c51b7d"
            ],
            [
             0.2,
             "#de77ae"
            ],
            [
             0.3,
             "#f1b6da"
            ],
            [
             0.4,
             "#fde0ef"
            ],
            [
             0.5,
             "#f7f7f7"
            ],
            [
             0.6,
             "#e6f5d0"
            ],
            [
             0.7,
             "#b8e186"
            ],
            [
             0.8,
             "#7fbc41"
            ],
            [
             0.9,
             "#4d9221"
            ],
            [
             1,
             "#276419"
            ]
           ],
           "sequential": [
            [
             0,
             "#0d0887"
            ],
            [
             0.1111111111111111,
             "#46039f"
            ],
            [
             0.2222222222222222,
             "#7201a8"
            ],
            [
             0.3333333333333333,
             "#9c179e"
            ],
            [
             0.4444444444444444,
             "#bd3786"
            ],
            [
             0.5555555555555556,
             "#d8576b"
            ],
            [
             0.6666666666666666,
             "#ed7953"
            ],
            [
             0.7777777777777778,
             "#fb9f3a"
            ],
            [
             0.8888888888888888,
             "#fdca26"
            ],
            [
             1,
             "#f0f921"
            ]
           ],
           "sequentialminus": [
            [
             0,
             "#0d0887"
            ],
            [
             0.1111111111111111,
             "#46039f"
            ],
            [
             0.2222222222222222,
             "#7201a8"
            ],
            [
             0.3333333333333333,
             "#9c179e"
            ],
            [
             0.4444444444444444,
             "#bd3786"
            ],
            [
             0.5555555555555556,
             "#d8576b"
            ],
            [
             0.6666666666666666,
             "#ed7953"
            ],
            [
             0.7777777777777778,
             "#fb9f3a"
            ],
            [
             0.8888888888888888,
             "#fdca26"
            ],
            [
             1,
             "#f0f921"
            ]
           ]
          },
          "colorway": [
           "#636efa",
           "#EF553B",
           "#00cc96",
           "#ab63fa",
           "#FFA15A",
           "#19d3f3",
           "#FF6692",
           "#B6E880",
           "#FF97FF",
           "#FECB52"
          ],
          "font": {
           "color": "#2a3f5f"
          },
          "geo": {
           "bgcolor": "white",
           "lakecolor": "white",
           "landcolor": "#E5ECF6",
           "showlakes": true,
           "showland": true,
           "subunitcolor": "white"
          },
          "hoverlabel": {
           "align": "left"
          },
          "hovermode": "closest",
          "mapbox": {
           "style": "light"
          },
          "paper_bgcolor": "white",
          "plot_bgcolor": "#E5ECF6",
          "polar": {
           "angularaxis": {
            "gridcolor": "white",
            "linecolor": "white",
            "ticks": ""
           },
           "bgcolor": "#E5ECF6",
           "radialaxis": {
            "gridcolor": "white",
            "linecolor": "white",
            "ticks": ""
           }
          },
          "scene": {
           "xaxis": {
            "backgroundcolor": "#E5ECF6",
            "gridcolor": "white",
            "gridwidth": 2,
            "linecolor": "white",
            "showbackground": true,
            "ticks": "",
            "zerolinecolor": "white"
           },
           "yaxis": {
            "backgroundcolor": "#E5ECF6",
            "gridcolor": "white",
            "gridwidth": 2,
            "linecolor": "white",
            "showbackground": true,
            "ticks": "",
            "zerolinecolor": "white"
           },
           "zaxis": {
            "backgroundcolor": "#E5ECF6",
            "gridcolor": "white",
            "gridwidth": 2,
            "linecolor": "white",
            "showbackground": true,
            "ticks": "",
            "zerolinecolor": "white"
           }
          },
          "shapedefaults": {
           "line": {
            "color": "#2a3f5f"
           }
          },
          "ternary": {
           "aaxis": {
            "gridcolor": "white",
            "linecolor": "white",
            "ticks": ""
           },
           "baxis": {
            "gridcolor": "white",
            "linecolor": "white",
            "ticks": ""
           },
           "bgcolor": "#E5ECF6",
           "caxis": {
            "gridcolor": "white",
            "linecolor": "white",
            "ticks": ""
           }
          },
          "title": {
           "x": 0.05
          },
          "xaxis": {
           "automargin": true,
           "gridcolor": "white",
           "linecolor": "white",
           "ticks": "",
           "title": {
            "standoff": 15
           },
           "zerolinecolor": "white",
           "zerolinewidth": 2
          },
          "yaxis": {
           "automargin": true,
           "gridcolor": "white",
           "linecolor": "white",
           "ticks": "",
           "title": {
            "standoff": 15
           },
           "zerolinecolor": "white",
           "zerolinewidth": 2
          }
         }
        }
       }
      }
     },
     "metadata": {},
     "output_type": "display_data"
    }
   ],
   "source": [
    "px.scatter_3d(x=x.ravel(),y=y.ravel(),z=z.ravel())"
   ]
  },
  {
   "cell_type": "code",
   "execution_count": 104,
   "metadata": {},
   "outputs": [
    {
     "data": {
      "text/html": [
       "<style>#sk-container-id-11 {color: black;}#sk-container-id-11 pre{padding: 0;}#sk-container-id-11 div.sk-toggleable {background-color: white;}#sk-container-id-11 label.sk-toggleable__label {cursor: pointer;display: block;width: 100%;margin-bottom: 0;padding: 0.3em;box-sizing: border-box;text-align: center;}#sk-container-id-11 label.sk-toggleable__label-arrow:before {content: \"▸\";float: left;margin-right: 0.25em;color: #696969;}#sk-container-id-11 label.sk-toggleable__label-arrow:hover:before {color: black;}#sk-container-id-11 div.sk-estimator:hover label.sk-toggleable__label-arrow:before {color: black;}#sk-container-id-11 div.sk-toggleable__content {max-height: 0;max-width: 0;overflow: hidden;text-align: left;background-color: #f0f8ff;}#sk-container-id-11 div.sk-toggleable__content pre {margin: 0.2em;color: black;border-radius: 0.25em;background-color: #f0f8ff;}#sk-container-id-11 input.sk-toggleable__control:checked~div.sk-toggleable__content {max-height: 200px;max-width: 100%;overflow: auto;}#sk-container-id-11 input.sk-toggleable__control:checked~label.sk-toggleable__label-arrow:before {content: \"▾\";}#sk-container-id-11 div.sk-estimator input.sk-toggleable__control:checked~label.sk-toggleable__label {background-color: #d4ebff;}#sk-container-id-11 div.sk-label input.sk-toggleable__control:checked~label.sk-toggleable__label {background-color: #d4ebff;}#sk-container-id-11 input.sk-hidden--visually {border: 0;clip: rect(1px 1px 1px 1px);clip: rect(1px, 1px, 1px, 1px);height: 1px;margin: -1px;overflow: hidden;padding: 0;position: absolute;width: 1px;}#sk-container-id-11 div.sk-estimator {font-family: monospace;background-color: #f0f8ff;border: 1px dotted black;border-radius: 0.25em;box-sizing: border-box;margin-bottom: 0.5em;}#sk-container-id-11 div.sk-estimator:hover {background-color: #d4ebff;}#sk-container-id-11 div.sk-parallel-item::after {content: \"\";width: 100%;border-bottom: 1px solid gray;flex-grow: 1;}#sk-container-id-11 div.sk-label:hover label.sk-toggleable__label {background-color: #d4ebff;}#sk-container-id-11 div.sk-serial::before {content: \"\";position: absolute;border-left: 1px solid gray;box-sizing: border-box;top: 0;bottom: 0;left: 50%;z-index: 0;}#sk-container-id-11 div.sk-serial {display: flex;flex-direction: column;align-items: center;background-color: white;padding-right: 0.2em;padding-left: 0.2em;position: relative;}#sk-container-id-11 div.sk-item {position: relative;z-index: 1;}#sk-container-id-11 div.sk-parallel {display: flex;align-items: stretch;justify-content: center;background-color: white;position: relative;}#sk-container-id-11 div.sk-item::before, #sk-container-id-11 div.sk-parallel-item::before {content: \"\";position: absolute;border-left: 1px solid gray;box-sizing: border-box;top: 0;bottom: 0;left: 50%;z-index: -1;}#sk-container-id-11 div.sk-parallel-item {display: flex;flex-direction: column;z-index: 1;position: relative;background-color: white;}#sk-container-id-11 div.sk-parallel-item:first-child::after {align-self: flex-end;width: 50%;}#sk-container-id-11 div.sk-parallel-item:last-child::after {align-self: flex-start;width: 50%;}#sk-container-id-11 div.sk-parallel-item:only-child::after {width: 0;}#sk-container-id-11 div.sk-dashed-wrapped {border: 1px dashed gray;margin: 0 0.4em 0.5em 0.4em;box-sizing: border-box;padding-bottom: 0.4em;background-color: white;}#sk-container-id-11 div.sk-label label {font-family: monospace;font-weight: bold;display: inline-block;line-height: 1.2em;}#sk-container-id-11 div.sk-label-container {text-align: center;}#sk-container-id-11 div.sk-container {/* jupyter's `normalize.less` sets `[hidden] { display: none; }` but bootstrap.min.css set `[hidden] { display: none !important; }` so we also need the `!important` here to be able to override the default hidden behavior on the sphinx rendered scikit-learn.org. See: https://github.com/scikit-learn/scikit-learn/issues/21755 */display: inline-block !important;position: relative;}#sk-container-id-11 div.sk-text-repr-fallback {display: none;}</style><div id=\"sk-container-id-11\" class=\"sk-top-container\"><div class=\"sk-text-repr-fallback\"><pre>LinearRegression()</pre><b>In a Jupyter environment, please rerun this cell to show the HTML representation or trust the notebook. <br />On GitHub, the HTML representation is unable to render, please try loading this page with nbviewer.org.</b></div><div class=\"sk-container\" hidden><div class=\"sk-item\"><div class=\"sk-estimator sk-toggleable\"><input class=\"sk-toggleable__control sk-hidden--visually\" id=\"sk-estimator-id-11\" type=\"checkbox\" checked><label for=\"sk-estimator-id-11\" class=\"sk-toggleable__label sk-toggleable__label-arrow\">LinearRegression</label><div class=\"sk-toggleable__content\"><pre>LinearRegression()</pre></div></div></div></div></div>"
      ],
      "text/plain": [
       "LinearRegression()"
      ]
     },
     "execution_count": 104,
     "metadata": {},
     "output_type": "execute_result"
    }
   ],
   "source": [
    "lr = LinearRegression()\n",
    "lr.fit(np.array([x,y]).reshape(100,2), z)"
   ]
  },
  {
   "cell_type": "code",
   "execution_count": 105,
   "metadata": {},
   "outputs": [],
   "source": [
    "xInput = np.linspace(x.min(), x.max(), 10)\n",
    "yInput = np.linspace(y.min(), y.max(), 10)\n",
    "xGrid, yGrid = np.meshgrid(xInput,yInput)"
   ]
  },
  {
   "cell_type": "code",
   "execution_count": 106,
   "metadata": {},
   "outputs": [
    {
     "data": {
      "text/plain": [
       "array([[-2.7339016 , -1.96388568, -1.19386975, -0.42385382,  0.34616211,\n",
       "         1.11617804,  1.88619396,  2.65620989,  3.42622582,  4.19624175],\n",
       "       [-2.7339016 , -1.96388568, -1.19386975, -0.42385382,  0.34616211,\n",
       "         1.11617804,  1.88619396,  2.65620989,  3.42622582,  4.19624175],\n",
       "       [-2.7339016 , -1.96388568, -1.19386975, -0.42385382,  0.34616211,\n",
       "         1.11617804,  1.88619396,  2.65620989,  3.42622582,  4.19624175],\n",
       "       [-2.7339016 , -1.96388568, -1.19386975, -0.42385382,  0.34616211,\n",
       "         1.11617804,  1.88619396,  2.65620989,  3.42622582,  4.19624175],\n",
       "       [-2.7339016 , -1.96388568, -1.19386975, -0.42385382,  0.34616211,\n",
       "         1.11617804,  1.88619396,  2.65620989,  3.42622582,  4.19624175],\n",
       "       [-2.7339016 , -1.96388568, -1.19386975, -0.42385382,  0.34616211,\n",
       "         1.11617804,  1.88619396,  2.65620989,  3.42622582,  4.19624175],\n",
       "       [-2.7339016 , -1.96388568, -1.19386975, -0.42385382,  0.34616211,\n",
       "         1.11617804,  1.88619396,  2.65620989,  3.42622582,  4.19624175],\n",
       "       [-2.7339016 , -1.96388568, -1.19386975, -0.42385382,  0.34616211,\n",
       "         1.11617804,  1.88619396,  2.65620989,  3.42622582,  4.19624175],\n",
       "       [-2.7339016 , -1.96388568, -1.19386975, -0.42385382,  0.34616211,\n",
       "         1.11617804,  1.88619396,  2.65620989,  3.42622582,  4.19624175],\n",
       "       [-2.7339016 , -1.96388568, -1.19386975, -0.42385382,  0.34616211,\n",
       "         1.11617804,  1.88619396,  2.65620989,  3.42622582,  4.19624175]])"
      ]
     },
     "execution_count": 106,
     "metadata": {},
     "output_type": "execute_result"
    }
   ],
   "source": [
    "xGrid"
   ]
  },
  {
   "cell_type": "code",
   "execution_count": 107,
   "metadata": {},
   "outputs": [
    {
     "data": {
      "text/plain": [
       "array([[-2.74732144, -2.74732144, -2.74732144, -2.74732144, -2.74732144,\n",
       "        -2.74732144, -2.74732144, -2.74732144, -2.74732144, -2.74732144],\n",
       "       [-1.99219545, -1.99219545, -1.99219545, -1.99219545, -1.99219545,\n",
       "        -1.99219545, -1.99219545, -1.99219545, -1.99219545, -1.99219545],\n",
       "       [-1.23706945, -1.23706945, -1.23706945, -1.23706945, -1.23706945,\n",
       "        -1.23706945, -1.23706945, -1.23706945, -1.23706945, -1.23706945],\n",
       "       [-0.48194346, -0.48194346, -0.48194346, -0.48194346, -0.48194346,\n",
       "        -0.48194346, -0.48194346, -0.48194346, -0.48194346, -0.48194346],\n",
       "       [ 0.27318253,  0.27318253,  0.27318253,  0.27318253,  0.27318253,\n",
       "         0.27318253,  0.27318253,  0.27318253,  0.27318253,  0.27318253],\n",
       "       [ 1.02830852,  1.02830852,  1.02830852,  1.02830852,  1.02830852,\n",
       "         1.02830852,  1.02830852,  1.02830852,  1.02830852,  1.02830852],\n",
       "       [ 1.78343452,  1.78343452,  1.78343452,  1.78343452,  1.78343452,\n",
       "         1.78343452,  1.78343452,  1.78343452,  1.78343452,  1.78343452],\n",
       "       [ 2.53856051,  2.53856051,  2.53856051,  2.53856051,  2.53856051,\n",
       "         2.53856051,  2.53856051,  2.53856051,  2.53856051,  2.53856051],\n",
       "       [ 3.2936865 ,  3.2936865 ,  3.2936865 ,  3.2936865 ,  3.2936865 ,\n",
       "         3.2936865 ,  3.2936865 ,  3.2936865 ,  3.2936865 ,  3.2936865 ],\n",
       "       [ 4.0488125 ,  4.0488125 ,  4.0488125 ,  4.0488125 ,  4.0488125 ,\n",
       "         4.0488125 ,  4.0488125 ,  4.0488125 ,  4.0488125 ,  4.0488125 ]])"
      ]
     },
     "execution_count": 107,
     "metadata": {},
     "output_type": "execute_result"
    }
   ],
   "source": [
    "yGrid"
   ]
  },
  {
   "cell_type": "code",
   "execution_count": 108,
   "metadata": {},
   "outputs": [
    {
     "data": {
      "text/plain": [
       "((10, 10), (10, 10))"
      ]
     },
     "execution_count": 108,
     "metadata": {},
     "output_type": "execute_result"
    }
   ],
   "source": [
    "\n",
    "xGrid.shape, yGrid.shape"
   ]
  },
  {
   "cell_type": "code",
   "execution_count": 109,
   "metadata": {},
   "outputs": [],
   "source": [
    "final = np.vstack((xGrid.ravel().reshape(1,100), yGrid.ravel().reshape(1,100))).T\n",
    "zFinal = lr.predict(final).reshape(10,10)"
   ]
  },
  {
   "cell_type": "code",
   "execution_count": 110,
   "metadata": {},
   "outputs": [
    {
     "data": {
      "text/plain": [
       "(10, 10)"
      ]
     },
     "execution_count": 110,
     "metadata": {},
     "output_type": "execute_result"
    }
   ],
   "source": [
    "zFinal.shape"
   ]
  },
  {
   "cell_type": "code",
   "execution_count": 111,
   "metadata": {},
   "outputs": [
    {
     "data": {
      "application/vnd.plotly.v1+json": {
       "config": {
        "plotlyServerURL": "https://plot.ly"
       },
       "data": [
        {
         "hovertemplate": "x=%{x}<br>y=%{y}<br>z=%{z}<extra></extra>",
         "legendgroup": "",
         "marker": {
          "color": "#636efa",
          "symbol": "circle"
         },
         "mode": "markers",
         "name": "",
         "scene": "scene",
         "showlegend": false,
         "type": "scatter3d",
         "x": [
          -2.2612603684023873,
          1.4206922417367371,
          -1.0863337742771206,
          3.5850577813074995,
          -1.3417551990524612,
          -1.7250651893430429,
          -2.4696038652737737,
          -2.446864853194146,
          -2.3651176790128203,
          4.1316575850117605,
          3.6528211902236922,
          3.2061796882653955,
          0.601177438636221,
          0.1010106265777777,
          1.9124421102311704,
          -0.13548670824001885,
          2.694784495950377,
          1.7767996037632985,
          1.6974371494673282,
          -0.7015549350474704,
          -1.7038859440533416,
          -2.4378658022869155,
          1.7832315836891999,
          1.0637606606422985,
          1.0474926430913265,
          -2.490304142096074,
          1.3072400647283517,
          -0.28558102086581405,
          1.692741722027951,
          -2.6545422336223212,
          1.2951983496439379,
          -0.20884394020580332,
          2.528345210832515,
          2.201478865617645,
          -2.7339016042904403,
          1.4135860101593396,
          -0.7012011239179383,
          -2.3802094727351673,
          1.3289742401588738,
          2.0023842973202086,
          0.2923601438010843,
          2.183617875877739,
          3.952220490169047,
          4.196241749293184,
          1.954918174193618,
          0.4678047749271439,
          -1.2901184170143047,
          0.44744641225190573,
          0.7975186268712409,
          2.1714591641781835,
          -1.0810513314585648,
          3.902457155537987,
          0.2778056097303745,
          1.4337400899318764,
          2.4628194883025376,
          3.34877355677766,
          2.63043779891629,
          3.975325572225965,
          3.299559499123954,
          -1.6973917858402694,
          -2.462933941084834,
          -2.0756981117078306,
          -2.2363021115827517,
          0.8792268196498116,
          1.895118455716588,
          -1.3094910899672545,
          2.8519710826109144,
          -1.6829058096826444,
          -0.9129760754840825,
          3.2438505238276942,
          -1.722392037974662,
          -0.3915878142395699,
          1.0607323022272346,
          2.6777661494164393,
          0.5905491687317852,
          -0.8217097883227997,
          3.788169566331444,
          2.6746276600811134,
          -0.041053004771661517,
          3.4125211212110615,
          3.292742387547447,
          -2.290479371356323,
          3.8663686630208085,
          -2.488017573755189,
          2.6015003396921816,
          -1.7990796891802527,
          0.21952699141073717,
          1.9938415611388134,
          3.4194553425829026,
          -0.47341721052237684,
          3.4730299343215965,
          1.2732824131914908,
          -1.554218682036952,
          1.903638585233625,
          -1.4618885710176164,
          1.1524898082511292,
          -0.7058292133178963,
          2.360853641738215,
          0.2883902604911177,
          2.5984635823614646
         ],
         "y": [
          -0.33549488855526866,
          -2.695978960871718,
          3.8837567172157943,
          0.4238786154644112,
          0.9110808726754493,
          3.6346962350199234,
          3.9288268554084285,
          3.9270885109223075,
          3.6505793367910027,
          -0.9958163069619523,
          -0.4116546216122714,
          -2.476278817022781,
          0.8198943550096462,
          0.9169463939455325,
          3.2479008334024826,
          -0.07063239337085836,
          -0.5398007302951284,
          -2.7473214382390663,
          -0.8691526428729759,
          3.1870344963463184,
          0.31835558221051974,
          0.728171886442039,
          -2.7328296394208564,
          -0.9001816395154427,
          -0.8288991864393609,
          -2.0467360378143735,
          -0.9804211314376565,
          0.38135077578360566,
          0.9837350702053822,
          3.4123826738871035,
          3.675009408656085,
          0.8039622508065127,
          3.273753737902835,
          0.23741347219103437,
          3.520848251733682,
          3.0018642835172544,
          -1.632405430353931,
          -0.430865928665499,
          0.08958646678759852,
          0.9793388391395608,
          -2.3454753623662192,
          0.6231758998491586,
          -1.1623313350598186,
          -0.3562122723076646,
          4.04881249539906,
          1.0958276478389712,
          0.7202999860329986,
          2.871065028348429,
          2.210851531283727,
          3.4142561929373407,
          -0.6959312967625215,
          -0.9193776148835182,
          -2.6473198473014725,
          -1.3747042420394004,
          2.039278004043858,
          1.6960131399782972,
          1.7598437833015286,
          -1.1194394000078978,
          1.6315035591215485,
          0.33595357670926873,
          0.5401713276074185,
          -0.799918029852607,
          -1.0334596282886368,
          0.6952514558377692,
          1.1268238906885326,
          -0.6813636959329217,
          -1.3598458372776445,
          2.5015273042195583,
          1.276092288293956,
          -0.09649401199950924,
          -2.3897591780670338,
          3.956162079586714,
          -1.2533395732058952,
          2.203104912009862,
          2.087528815385766,
          3.6092684793036005,
          2.969693621502082,
          2.573599797626989,
          3.0266626190091586,
          1.580523292054596,
          -2.0981868911425496,
          -2.302258485897834,
          2.2791629681192918,
          0.4060916812120352,
          3.1357951684157923,
          2.4709012660472256,
          0.655746128314874,
          0.406291958498616,
          3.6104072044593476,
          0.2815885591027607,
          -2.614094948889669,
          0.5177787823184112,
          0.29073872634109676,
          -2.2520297399908005,
          0.5739491569560764,
          1.7858828849483368,
          -0.23900929417904804,
          -2.544765520062658,
          3.441018630586064,
          1.7639193677855367
         ],
         "z": [
          7.470973043747557,
          9.801970137748913,
          18.36315243714966,
          15.77504087016457,
          3.613924115180793,
          18.452913405971103,
          22.056916768906408,
          23.32230763243098,
          21.810160535829322,
          19.999819012255546,
          14.621307419475526,
          16.462888077305696,
          3.5407550183165597,
          3.2211735952231715,
          17.469607383827938,
          2.1477160805439603,
          9.834388918184535,
          11.474077536934507,
          5.9415764238278275,
          12.870674426548467,
          5.956993676249434,
          7.19169427534917,
          12.953902515224193,
          3.745496367503649,
          3.3028664302031014,
          13.133847658444484,
          5.755534221363063,
          2.1586943396854816,
          5.865889783508159,
          19.115604446982527,
          18.722063112589396,
          4.23696915025751,
          20.154935245569973,
          8.240039175369953,
          21.18566626435038,
          15.317715545317514,
          4.745351832325885,
          6.200108652887386,
          2.9354336004758643,
          7.290805146776729,
          8.562183492619392,
          6.856278259560676,
          18.427694457447288,
          19.27143821884949,
          20.774656759493293,
          4.615612095089414,
          2.1093399277040312,
          11.318803135738825,
          9.279188887404935,
          20.164071991840594,
          4.392066361208164,
          20.001537133793263,
          9.708052458262822,
          3.5946092829058753,
          13.920310689794091,
          18.559921029929402,
          14.680893555244879,
          20.295832952243103,
          18.34777669425539,
          3.0929250810250384,
          6.742215323403364,
          6.726038796108581,
          7.053788090976845,
          3.5266175485675118,
          7.674583051342736,
          5.584282531105335,
          13.044715321205054,
          11.117921915029047,
          3.090705208197904,
          11.411672358121956,
          8.326955237780814,
          18.76619403638996,
          6.037281343543478,
          17.115361842087538,
          6.683121954926749,
          15.432891988505265,
          27.398408493480584,
          17.056092541938536,
          10.370752960773471,
          18.306634462213218,
          18.496560678753617,
          10.493380124985249,
          24.6232294436299,
          7.403715375093694,
          21.717680631582894,
          12.073496861045856,
          1.622461271878488,
          6.000501677504208,
          28.275927579685806,
          0.4349103225526918,
          18.065097848710653,
          4.773986061151455,
          2.596839096102792,
          10.421349109136825,
          3.4942622603081883,
          6.526934102320799,
          1.5108767665193708,
          15.040493044321426,
          13.255539637806834,
          12.11837596934283
         ]
        },
        {
         "type": "surface",
         "x": [
          -2.7339016042904403,
          -1.963885676114482,
          -1.1938697479385239,
          -0.42385381976256564,
          0.34616210841339257,
          1.1161780365893508,
          1.886193964765309,
          2.656209892941267,
          3.4262258211172254,
          4.196241749293184
         ],
         "y": [
          -2.7473214382390663,
          -1.9921954456126079,
          -1.2370694529861495,
          -0.48194346035969104,
          0.27318253226676736,
          1.0283085248932258,
          1.7834345175196842,
          2.538560510146142,
          3.293686502772601,
          4.04881249539906
         ],
         "z": [
          [
           13.66754932208734,
           13.797728210024282,
           13.927907097961226,
           14.05808598589817,
           14.188264873835113,
           14.318443761772055,
           14.448622649709,
           14.578801537645942,
           14.708980425582887,
           14.83915931351983
          ],
          [
           13.027049870606062,
           13.157228758543006,
           13.287407646479949,
           13.417586534416891,
           13.547765422353836,
           13.677944310290778,
           13.808123198227722,
           13.938302086164665,
           14.068480974101607,
           14.198659862038552
          ],
          [
           12.386550419124784,
           12.516729307061729,
           12.646908194998671,
           12.777087082935614,
           12.907265970872558,
           13.0374448588095,
           13.167623746746445,
           13.297802634683388,
           13.427981522620332,
           13.558160410557274
          ],
          [
           11.746050967643507,
           11.87622985558045,
           12.006408743517394,
           12.136587631454336,
           12.26676651939128,
           12.396945407328223,
           12.527124295265168,
           12.65730318320211,
           12.787482071139053,
           12.917660959075997
          ],
          [
           11.10555151616223,
           11.235730404099172,
           11.365909292036116,
           11.496088179973059,
           11.626267067910003,
           11.756445955846946,
           11.88662484378389,
           12.016803731720833,
           12.146982619657775,
           12.27716150759472
          ],
          [
           10.465052064680952,
           10.595230952617895,
           10.725409840554839,
           10.855588728491782,
           10.985767616428726,
           11.115946504365668,
           11.246125392302613,
           11.376304280239555,
           11.506483168176498,
           11.636662056113442
          ],
          [
           9.824552613199675,
           9.954731501136617,
           10.084910389073562,
           10.215089277010504,
           10.345268164947448,
           10.475447052884391,
           10.605625940821334,
           10.735804828758278,
           10.86598371669522,
           10.996162604632165
          ],
          [
           9.184053161718397,
           9.314232049655342,
           9.444410937592284,
           9.574589825529227,
           9.704768713466171,
           9.834947601403114,
           9.965126489340058,
           10.095305377277,
           10.225484265213943,
           10.355663153150887
          ],
          [
           8.54355371023712,
           8.673732598174063,
           8.803911486111007,
           8.93409037404795,
           9.064269261984894,
           9.194448149921836,
           9.324627037858779,
           9.454805925795723,
           9.584984813732666,
           9.71516370166961
          ],
          [
           7.903054258755842,
           8.033233146692785,
           8.163412034629728,
           8.293590922566672,
           8.423769810503615,
           8.553948698440557,
           8.684127586377501,
           8.814306474314444,
           8.944485362251388,
           9.07466425018833
          ]
         ]
        }
       ],
       "layout": {
        "legend": {
         "tracegroupgap": 0
        },
        "margin": {
         "t": 60
        },
        "scene": {
         "domain": {
          "x": [
           0,
           1
          ],
          "y": [
           0,
           1
          ]
         },
         "xaxis": {
          "title": {
           "text": "x"
          }
         },
         "yaxis": {
          "title": {
           "text": "y"
          }
         },
         "zaxis": {
          "title": {
           "text": "z"
          }
         }
        },
        "template": {
         "data": {
          "bar": [
           {
            "error_x": {
             "color": "#2a3f5f"
            },
            "error_y": {
             "color": "#2a3f5f"
            },
            "marker": {
             "line": {
              "color": "#E5ECF6",
              "width": 0.5
             },
             "pattern": {
              "fillmode": "overlay",
              "size": 10,
              "solidity": 0.2
             }
            },
            "type": "bar"
           }
          ],
          "barpolar": [
           {
            "marker": {
             "line": {
              "color": "#E5ECF6",
              "width": 0.5
             },
             "pattern": {
              "fillmode": "overlay",
              "size": 10,
              "solidity": 0.2
             }
            },
            "type": "barpolar"
           }
          ],
          "carpet": [
           {
            "aaxis": {
             "endlinecolor": "#2a3f5f",
             "gridcolor": "white",
             "linecolor": "white",
             "minorgridcolor": "white",
             "startlinecolor": "#2a3f5f"
            },
            "baxis": {
             "endlinecolor": "#2a3f5f",
             "gridcolor": "white",
             "linecolor": "white",
             "minorgridcolor": "white",
             "startlinecolor": "#2a3f5f"
            },
            "type": "carpet"
           }
          ],
          "choropleth": [
           {
            "colorbar": {
             "outlinewidth": 0,
             "ticks": ""
            },
            "type": "choropleth"
           }
          ],
          "contour": [
           {
            "colorbar": {
             "outlinewidth": 0,
             "ticks": ""
            },
            "colorscale": [
             [
              0,
              "#0d0887"
             ],
             [
              0.1111111111111111,
              "#46039f"
             ],
             [
              0.2222222222222222,
              "#7201a8"
             ],
             [
              0.3333333333333333,
              "#9c179e"
             ],
             [
              0.4444444444444444,
              "#bd3786"
             ],
             [
              0.5555555555555556,
              "#d8576b"
             ],
             [
              0.6666666666666666,
              "#ed7953"
             ],
             [
              0.7777777777777778,
              "#fb9f3a"
             ],
             [
              0.8888888888888888,
              "#fdca26"
             ],
             [
              1,
              "#f0f921"
             ]
            ],
            "type": "contour"
           }
          ],
          "contourcarpet": [
           {
            "colorbar": {
             "outlinewidth": 0,
             "ticks": ""
            },
            "type": "contourcarpet"
           }
          ],
          "heatmap": [
           {
            "colorbar": {
             "outlinewidth": 0,
             "ticks": ""
            },
            "colorscale": [
             [
              0,
              "#0d0887"
             ],
             [
              0.1111111111111111,
              "#46039f"
             ],
             [
              0.2222222222222222,
              "#7201a8"
             ],
             [
              0.3333333333333333,
              "#9c179e"
             ],
             [
              0.4444444444444444,
              "#bd3786"
             ],
             [
              0.5555555555555556,
              "#d8576b"
             ],
             [
              0.6666666666666666,
              "#ed7953"
             ],
             [
              0.7777777777777778,
              "#fb9f3a"
             ],
             [
              0.8888888888888888,
              "#fdca26"
             ],
             [
              1,
              "#f0f921"
             ]
            ],
            "type": "heatmap"
           }
          ],
          "heatmapgl": [
           {
            "colorbar": {
             "outlinewidth": 0,
             "ticks": ""
            },
            "colorscale": [
             [
              0,
              "#0d0887"
             ],
             [
              0.1111111111111111,
              "#46039f"
             ],
             [
              0.2222222222222222,
              "#7201a8"
             ],
             [
              0.3333333333333333,
              "#9c179e"
             ],
             [
              0.4444444444444444,
              "#bd3786"
             ],
             [
              0.5555555555555556,
              "#d8576b"
             ],
             [
              0.6666666666666666,
              "#ed7953"
             ],
             [
              0.7777777777777778,
              "#fb9f3a"
             ],
             [
              0.8888888888888888,
              "#fdca26"
             ],
             [
              1,
              "#f0f921"
             ]
            ],
            "type": "heatmapgl"
           }
          ],
          "histogram": [
           {
            "marker": {
             "pattern": {
              "fillmode": "overlay",
              "size": 10,
              "solidity": 0.2
             }
            },
            "type": "histogram"
           }
          ],
          "histogram2d": [
           {
            "colorbar": {
             "outlinewidth": 0,
             "ticks": ""
            },
            "colorscale": [
             [
              0,
              "#0d0887"
             ],
             [
              0.1111111111111111,
              "#46039f"
             ],
             [
              0.2222222222222222,
              "#7201a8"
             ],
             [
              0.3333333333333333,
              "#9c179e"
             ],
             [
              0.4444444444444444,
              "#bd3786"
             ],
             [
              0.5555555555555556,
              "#d8576b"
             ],
             [
              0.6666666666666666,
              "#ed7953"
             ],
             [
              0.7777777777777778,
              "#fb9f3a"
             ],
             [
              0.8888888888888888,
              "#fdca26"
             ],
             [
              1,
              "#f0f921"
             ]
            ],
            "type": "histogram2d"
           }
          ],
          "histogram2dcontour": [
           {
            "colorbar": {
             "outlinewidth": 0,
             "ticks": ""
            },
            "colorscale": [
             [
              0,
              "#0d0887"
             ],
             [
              0.1111111111111111,
              "#46039f"
             ],
             [
              0.2222222222222222,
              "#7201a8"
             ],
             [
              0.3333333333333333,
              "#9c179e"
             ],
             [
              0.4444444444444444,
              "#bd3786"
             ],
             [
              0.5555555555555556,
              "#d8576b"
             ],
             [
              0.6666666666666666,
              "#ed7953"
             ],
             [
              0.7777777777777778,
              "#fb9f3a"
             ],
             [
              0.8888888888888888,
              "#fdca26"
             ],
             [
              1,
              "#f0f921"
             ]
            ],
            "type": "histogram2dcontour"
           }
          ],
          "mesh3d": [
           {
            "colorbar": {
             "outlinewidth": 0,
             "ticks": ""
            },
            "type": "mesh3d"
           }
          ],
          "parcoords": [
           {
            "line": {
             "colorbar": {
              "outlinewidth": 0,
              "ticks": ""
             }
            },
            "type": "parcoords"
           }
          ],
          "pie": [
           {
            "automargin": true,
            "type": "pie"
           }
          ],
          "scatter": [
           {
            "fillpattern": {
             "fillmode": "overlay",
             "size": 10,
             "solidity": 0.2
            },
            "type": "scatter"
           }
          ],
          "scatter3d": [
           {
            "line": {
             "colorbar": {
              "outlinewidth": 0,
              "ticks": ""
             }
            },
            "marker": {
             "colorbar": {
              "outlinewidth": 0,
              "ticks": ""
             }
            },
            "type": "scatter3d"
           }
          ],
          "scattercarpet": [
           {
            "marker": {
             "colorbar": {
              "outlinewidth": 0,
              "ticks": ""
             }
            },
            "type": "scattercarpet"
           }
          ],
          "scattergeo": [
           {
            "marker": {
             "colorbar": {
              "outlinewidth": 0,
              "ticks": ""
             }
            },
            "type": "scattergeo"
           }
          ],
          "scattergl": [
           {
            "marker": {
             "colorbar": {
              "outlinewidth": 0,
              "ticks": ""
             }
            },
            "type": "scattergl"
           }
          ],
          "scattermapbox": [
           {
            "marker": {
             "colorbar": {
              "outlinewidth": 0,
              "ticks": ""
             }
            },
            "type": "scattermapbox"
           }
          ],
          "scatterpolar": [
           {
            "marker": {
             "colorbar": {
              "outlinewidth": 0,
              "ticks": ""
             }
            },
            "type": "scatterpolar"
           }
          ],
          "scatterpolargl": [
           {
            "marker": {
             "colorbar": {
              "outlinewidth": 0,
              "ticks": ""
             }
            },
            "type": "scatterpolargl"
           }
          ],
          "scatterternary": [
           {
            "marker": {
             "colorbar": {
              "outlinewidth": 0,
              "ticks": ""
             }
            },
            "type": "scatterternary"
           }
          ],
          "surface": [
           {
            "colorbar": {
             "outlinewidth": 0,
             "ticks": ""
            },
            "colorscale": [
             [
              0,
              "#0d0887"
             ],
             [
              0.1111111111111111,
              "#46039f"
             ],
             [
              0.2222222222222222,
              "#7201a8"
             ],
             [
              0.3333333333333333,
              "#9c179e"
             ],
             [
              0.4444444444444444,
              "#bd3786"
             ],
             [
              0.5555555555555556,
              "#d8576b"
             ],
             [
              0.6666666666666666,
              "#ed7953"
             ],
             [
              0.7777777777777778,
              "#fb9f3a"
             ],
             [
              0.8888888888888888,
              "#fdca26"
             ],
             [
              1,
              "#f0f921"
             ]
            ],
            "type": "surface"
           }
          ],
          "table": [
           {
            "cells": {
             "fill": {
              "color": "#EBF0F8"
             },
             "line": {
              "color": "white"
             }
            },
            "header": {
             "fill": {
              "color": "#C8D4E3"
             },
             "line": {
              "color": "white"
             }
            },
            "type": "table"
           }
          ]
         },
         "layout": {
          "annotationdefaults": {
           "arrowcolor": "#2a3f5f",
           "arrowhead": 0,
           "arrowwidth": 1
          },
          "autotypenumbers": "strict",
          "coloraxis": {
           "colorbar": {
            "outlinewidth": 0,
            "ticks": ""
           }
          },
          "colorscale": {
           "diverging": [
            [
             0,
             "#8e0152"
            ],
            [
             0.1,
             "#c51b7d"
            ],
            [
             0.2,
             "#de77ae"
            ],
            [
             0.3,
             "#f1b6da"
            ],
            [
             0.4,
             "#fde0ef"
            ],
            [
             0.5,
             "#f7f7f7"
            ],
            [
             0.6,
             "#e6f5d0"
            ],
            [
             0.7,
             "#b8e186"
            ],
            [
             0.8,
             "#7fbc41"
            ],
            [
             0.9,
             "#4d9221"
            ],
            [
             1,
             "#276419"
            ]
           ],
           "sequential": [
            [
             0,
             "#0d0887"
            ],
            [
             0.1111111111111111,
             "#46039f"
            ],
            [
             0.2222222222222222,
             "#7201a8"
            ],
            [
             0.3333333333333333,
             "#9c179e"
            ],
            [
             0.4444444444444444,
             "#bd3786"
            ],
            [
             0.5555555555555556,
             "#d8576b"
            ],
            [
             0.6666666666666666,
             "#ed7953"
            ],
            [
             0.7777777777777778,
             "#fb9f3a"
            ],
            [
             0.8888888888888888,
             "#fdca26"
            ],
            [
             1,
             "#f0f921"
            ]
           ],
           "sequentialminus": [
            [
             0,
             "#0d0887"
            ],
            [
             0.1111111111111111,
             "#46039f"
            ],
            [
             0.2222222222222222,
             "#7201a8"
            ],
            [
             0.3333333333333333,
             "#9c179e"
            ],
            [
             0.4444444444444444,
             "#bd3786"
            ],
            [
             0.5555555555555556,
             "#d8576b"
            ],
            [
             0.6666666666666666,
             "#ed7953"
            ],
            [
             0.7777777777777778,
             "#fb9f3a"
            ],
            [
             0.8888888888888888,
             "#fdca26"
            ],
            [
             1,
             "#f0f921"
            ]
           ]
          },
          "colorway": [
           "#636efa",
           "#EF553B",
           "#00cc96",
           "#ab63fa",
           "#FFA15A",
           "#19d3f3",
           "#FF6692",
           "#B6E880",
           "#FF97FF",
           "#FECB52"
          ],
          "font": {
           "color": "#2a3f5f"
          },
          "geo": {
           "bgcolor": "white",
           "lakecolor": "white",
           "landcolor": "#E5ECF6",
           "showlakes": true,
           "showland": true,
           "subunitcolor": "white"
          },
          "hoverlabel": {
           "align": "left"
          },
          "hovermode": "closest",
          "mapbox": {
           "style": "light"
          },
          "paper_bgcolor": "white",
          "plot_bgcolor": "#E5ECF6",
          "polar": {
           "angularaxis": {
            "gridcolor": "white",
            "linecolor": "white",
            "ticks": ""
           },
           "bgcolor": "#E5ECF6",
           "radialaxis": {
            "gridcolor": "white",
            "linecolor": "white",
            "ticks": ""
           }
          },
          "scene": {
           "xaxis": {
            "backgroundcolor": "#E5ECF6",
            "gridcolor": "white",
            "gridwidth": 2,
            "linecolor": "white",
            "showbackground": true,
            "ticks": "",
            "zerolinecolor": "white"
           },
           "yaxis": {
            "backgroundcolor": "#E5ECF6",
            "gridcolor": "white",
            "gridwidth": 2,
            "linecolor": "white",
            "showbackground": true,
            "ticks": "",
            "zerolinecolor": "white"
           },
           "zaxis": {
            "backgroundcolor": "#E5ECF6",
            "gridcolor": "white",
            "gridwidth": 2,
            "linecolor": "white",
            "showbackground": true,
            "ticks": "",
            "zerolinecolor": "white"
           }
          },
          "shapedefaults": {
           "line": {
            "color": "#2a3f5f"
           }
          },
          "ternary": {
           "aaxis": {
            "gridcolor": "white",
            "linecolor": "white",
            "ticks": ""
           },
           "baxis": {
            "gridcolor": "white",
            "linecolor": "white",
            "ticks": ""
           },
           "bgcolor": "#E5ECF6",
           "caxis": {
            "gridcolor": "white",
            "linecolor": "white",
            "ticks": ""
           }
          },
          "title": {
           "x": 0.05
          },
          "xaxis": {
           "automargin": true,
           "gridcolor": "white",
           "linecolor": "white",
           "ticks": "",
           "title": {
            "standoff": 15
           },
           "zerolinecolor": "white",
           "zerolinewidth": 2
          },
          "yaxis": {
           "automargin": true,
           "gridcolor": "white",
           "linecolor": "white",
           "ticks": "",
           "title": {
            "standoff": 15
           },
           "zerolinecolor": "white",
           "zerolinewidth": 2
          }
         }
        }
       }
      }
     },
     "metadata": {},
     "output_type": "display_data"
    }
   ],
   "source": [
    "fig = px.scatter_3d(x= x.ravel(), y= y.ravel(), z=z.ravel())\n",
    "fig.add_trace(go.Surface(x= xInput.ravel(), y= yInput.ravel(), z=zFinal))\n",
    "fig.show()"
   ]
  },
  {
   "cell_type": "code",
   "execution_count": 112,
   "metadata": {},
   "outputs": [
    {
     "data": {
      "text/plain": [
       "(100, 2)"
      ]
     },
     "execution_count": 112,
     "metadata": {},
     "output_type": "execute_result"
    }
   ],
   "source": [
    "xMulti = np.array([x,y]).reshape(100,2)\n",
    "xMulti.shape"
   ]
  },
  {
   "cell_type": "code",
   "execution_count": 113,
   "metadata": {},
   "outputs": [],
   "source": [
    "poly = PolynomialFeatures(degree=3)\n",
    "xMultiTran = poly.fit_transform(xMulti)"
   ]
  },
  {
   "cell_type": "code",
   "execution_count": 114,
   "metadata": {},
   "outputs": [
    {
     "data": {
      "text/plain": [
       "(100, 10)"
      ]
     },
     "execution_count": 114,
     "metadata": {},
     "output_type": "execute_result"
    }
   ],
   "source": [
    "xMultiTran.shape"
   ]
  },
  {
   "cell_type": "code",
   "execution_count": 115,
   "metadata": {},
   "outputs": [
    {
     "data": {
      "text/plain": [
       "2"
      ]
     },
     "execution_count": 115,
     "metadata": {},
     "output_type": "execute_result"
    }
   ],
   "source": [
    "poly.n_features_in_"
   ]
  },
  {
   "cell_type": "code",
   "execution_count": 116,
   "metadata": {},
   "outputs": [
    {
     "data": {
      "text/plain": [
       "10"
      ]
     },
     "execution_count": 116,
     "metadata": {},
     "output_type": "execute_result"
    }
   ],
   "source": [
    "poly.n_output_features_"
   ]
  },
  {
   "cell_type": "code",
   "execution_count": 117,
   "metadata": {},
   "outputs": [
    {
     "data": {
      "text/plain": [
       "array([[0, 0],\n",
       "       [1, 0],\n",
       "       [0, 1],\n",
       "       [2, 0],\n",
       "       [1, 1],\n",
       "       [0, 2],\n",
       "       [3, 0],\n",
       "       [2, 1],\n",
       "       [1, 2],\n",
       "       [0, 3]], dtype=int64)"
      ]
     },
     "execution_count": 117,
     "metadata": {},
     "output_type": "execute_result"
    }
   ],
   "source": [
    "poly.powers_"
   ]
  },
  {
   "cell_type": "code",
   "execution_count": 118,
   "metadata": {},
   "outputs": [
    {
     "data": {
      "text/html": [
       "<style>#sk-container-id-12 {color: black;}#sk-container-id-12 pre{padding: 0;}#sk-container-id-12 div.sk-toggleable {background-color: white;}#sk-container-id-12 label.sk-toggleable__label {cursor: pointer;display: block;width: 100%;margin-bottom: 0;padding: 0.3em;box-sizing: border-box;text-align: center;}#sk-container-id-12 label.sk-toggleable__label-arrow:before {content: \"▸\";float: left;margin-right: 0.25em;color: #696969;}#sk-container-id-12 label.sk-toggleable__label-arrow:hover:before {color: black;}#sk-container-id-12 div.sk-estimator:hover label.sk-toggleable__label-arrow:before {color: black;}#sk-container-id-12 div.sk-toggleable__content {max-height: 0;max-width: 0;overflow: hidden;text-align: left;background-color: #f0f8ff;}#sk-container-id-12 div.sk-toggleable__content pre {margin: 0.2em;color: black;border-radius: 0.25em;background-color: #f0f8ff;}#sk-container-id-12 input.sk-toggleable__control:checked~div.sk-toggleable__content {max-height: 200px;max-width: 100%;overflow: auto;}#sk-container-id-12 input.sk-toggleable__control:checked~label.sk-toggleable__label-arrow:before {content: \"▾\";}#sk-container-id-12 div.sk-estimator input.sk-toggleable__control:checked~label.sk-toggleable__label {background-color: #d4ebff;}#sk-container-id-12 div.sk-label input.sk-toggleable__control:checked~label.sk-toggleable__label {background-color: #d4ebff;}#sk-container-id-12 input.sk-hidden--visually {border: 0;clip: rect(1px 1px 1px 1px);clip: rect(1px, 1px, 1px, 1px);height: 1px;margin: -1px;overflow: hidden;padding: 0;position: absolute;width: 1px;}#sk-container-id-12 div.sk-estimator {font-family: monospace;background-color: #f0f8ff;border: 1px dotted black;border-radius: 0.25em;box-sizing: border-box;margin-bottom: 0.5em;}#sk-container-id-12 div.sk-estimator:hover {background-color: #d4ebff;}#sk-container-id-12 div.sk-parallel-item::after {content: \"\";width: 100%;border-bottom: 1px solid gray;flex-grow: 1;}#sk-container-id-12 div.sk-label:hover label.sk-toggleable__label {background-color: #d4ebff;}#sk-container-id-12 div.sk-serial::before {content: \"\";position: absolute;border-left: 1px solid gray;box-sizing: border-box;top: 0;bottom: 0;left: 50%;z-index: 0;}#sk-container-id-12 div.sk-serial {display: flex;flex-direction: column;align-items: center;background-color: white;padding-right: 0.2em;padding-left: 0.2em;position: relative;}#sk-container-id-12 div.sk-item {position: relative;z-index: 1;}#sk-container-id-12 div.sk-parallel {display: flex;align-items: stretch;justify-content: center;background-color: white;position: relative;}#sk-container-id-12 div.sk-item::before, #sk-container-id-12 div.sk-parallel-item::before {content: \"\";position: absolute;border-left: 1px solid gray;box-sizing: border-box;top: 0;bottom: 0;left: 50%;z-index: -1;}#sk-container-id-12 div.sk-parallel-item {display: flex;flex-direction: column;z-index: 1;position: relative;background-color: white;}#sk-container-id-12 div.sk-parallel-item:first-child::after {align-self: flex-end;width: 50%;}#sk-container-id-12 div.sk-parallel-item:last-child::after {align-self: flex-start;width: 50%;}#sk-container-id-12 div.sk-parallel-item:only-child::after {width: 0;}#sk-container-id-12 div.sk-dashed-wrapped {border: 1px dashed gray;margin: 0 0.4em 0.5em 0.4em;box-sizing: border-box;padding-bottom: 0.4em;background-color: white;}#sk-container-id-12 div.sk-label label {font-family: monospace;font-weight: bold;display: inline-block;line-height: 1.2em;}#sk-container-id-12 div.sk-label-container {text-align: center;}#sk-container-id-12 div.sk-container {/* jupyter's `normalize.less` sets `[hidden] { display: none; }` but bootstrap.min.css set `[hidden] { display: none !important; }` so we also need the `!important` here to be able to override the default hidden behavior on the sphinx rendered scikit-learn.org. See: https://github.com/scikit-learn/scikit-learn/issues/21755 */display: inline-block !important;position: relative;}#sk-container-id-12 div.sk-text-repr-fallback {display: none;}</style><div id=\"sk-container-id-12\" class=\"sk-top-container\"><div class=\"sk-text-repr-fallback\"><pre>LinearRegression()</pre><b>In a Jupyter environment, please rerun this cell to show the HTML representation or trust the notebook. <br />On GitHub, the HTML representation is unable to render, please try loading this page with nbviewer.org.</b></div><div class=\"sk-container\" hidden><div class=\"sk-item\"><div class=\"sk-estimator sk-toggleable\"><input class=\"sk-toggleable__control sk-hidden--visually\" id=\"sk-estimator-id-12\" type=\"checkbox\" checked><label for=\"sk-estimator-id-12\" class=\"sk-toggleable__label sk-toggleable__label-arrow\">LinearRegression</label><div class=\"sk-toggleable__content\"><pre>LinearRegression()</pre></div></div></div></div></div>"
      ],
      "text/plain": [
       "LinearRegression()"
      ]
     },
     "execution_count": 118,
     "metadata": {},
     "output_type": "execute_result"
    }
   ],
   "source": [
    "lr = LinearRegression()\n",
    "lr.fit(xMultiTran, z)"
   ]
  },
  {
   "cell_type": "code",
   "execution_count": 119,
   "metadata": {},
   "outputs": [],
   "source": [
    "xTestMulti = poly.transform(final)"
   ]
  },
  {
   "cell_type": "code",
   "execution_count": 120,
   "metadata": {},
   "outputs": [],
   "source": [
    "zFinal = lr.predict(xMultiTran).reshape(10,10)"
   ]
  },
  {
   "cell_type": "code",
   "execution_count": 121,
   "metadata": {},
   "outputs": [
    {
     "data": {
      "application/vnd.plotly.v1+json": {
       "config": {
        "plotlyServerURL": "https://plot.ly"
       },
       "data": [
        {
         "hovertemplate": "x=%{x}<br>y=%{y}<br>z=%{z}<extra></extra>",
         "legendgroup": "",
         "marker": {
          "color": "#636efa",
          "symbol": "circle"
         },
         "mode": "markers",
         "name": "",
         "scene": "scene",
         "showlegend": false,
         "type": "scatter3d",
         "x": [
          -2.2612603684023873,
          1.4206922417367371,
          -1.0863337742771206,
          3.5850577813074995,
          -1.3417551990524612,
          -1.7250651893430429,
          -2.4696038652737737,
          -2.446864853194146,
          -2.3651176790128203,
          4.1316575850117605,
          3.6528211902236922,
          3.2061796882653955,
          0.601177438636221,
          0.1010106265777777,
          1.9124421102311704,
          -0.13548670824001885,
          2.694784495950377,
          1.7767996037632985,
          1.6974371494673282,
          -0.7015549350474704,
          -1.7038859440533416,
          -2.4378658022869155,
          1.7832315836891999,
          1.0637606606422985,
          1.0474926430913265,
          -2.490304142096074,
          1.3072400647283517,
          -0.28558102086581405,
          1.692741722027951,
          -2.6545422336223212,
          1.2951983496439379,
          -0.20884394020580332,
          2.528345210832515,
          2.201478865617645,
          -2.7339016042904403,
          1.4135860101593396,
          -0.7012011239179383,
          -2.3802094727351673,
          1.3289742401588738,
          2.0023842973202086,
          0.2923601438010843,
          2.183617875877739,
          3.952220490169047,
          4.196241749293184,
          1.954918174193618,
          0.4678047749271439,
          -1.2901184170143047,
          0.44744641225190573,
          0.7975186268712409,
          2.1714591641781835,
          -1.0810513314585648,
          3.902457155537987,
          0.2778056097303745,
          1.4337400899318764,
          2.4628194883025376,
          3.34877355677766,
          2.63043779891629,
          3.975325572225965,
          3.299559499123954,
          -1.6973917858402694,
          -2.462933941084834,
          -2.0756981117078306,
          -2.2363021115827517,
          0.8792268196498116,
          1.895118455716588,
          -1.3094910899672545,
          2.8519710826109144,
          -1.6829058096826444,
          -0.9129760754840825,
          3.2438505238276942,
          -1.722392037974662,
          -0.3915878142395699,
          1.0607323022272346,
          2.6777661494164393,
          0.5905491687317852,
          -0.8217097883227997,
          3.788169566331444,
          2.6746276600811134,
          -0.041053004771661517,
          3.4125211212110615,
          3.292742387547447,
          -2.290479371356323,
          3.8663686630208085,
          -2.488017573755189,
          2.6015003396921816,
          -1.7990796891802527,
          0.21952699141073717,
          1.9938415611388134,
          3.4194553425829026,
          -0.47341721052237684,
          3.4730299343215965,
          1.2732824131914908,
          -1.554218682036952,
          1.903638585233625,
          -1.4618885710176164,
          1.1524898082511292,
          -0.7058292133178963,
          2.360853641738215,
          0.2883902604911177,
          2.5984635823614646
         ],
         "y": [
          -0.33549488855526866,
          -2.695978960871718,
          3.8837567172157943,
          0.4238786154644112,
          0.9110808726754493,
          3.6346962350199234,
          3.9288268554084285,
          3.9270885109223075,
          3.6505793367910027,
          -0.9958163069619523,
          -0.4116546216122714,
          -2.476278817022781,
          0.8198943550096462,
          0.9169463939455325,
          3.2479008334024826,
          -0.07063239337085836,
          -0.5398007302951284,
          -2.7473214382390663,
          -0.8691526428729759,
          3.1870344963463184,
          0.31835558221051974,
          0.728171886442039,
          -2.7328296394208564,
          -0.9001816395154427,
          -0.8288991864393609,
          -2.0467360378143735,
          -0.9804211314376565,
          0.38135077578360566,
          0.9837350702053822,
          3.4123826738871035,
          3.675009408656085,
          0.8039622508065127,
          3.273753737902835,
          0.23741347219103437,
          3.520848251733682,
          3.0018642835172544,
          -1.632405430353931,
          -0.430865928665499,
          0.08958646678759852,
          0.9793388391395608,
          -2.3454753623662192,
          0.6231758998491586,
          -1.1623313350598186,
          -0.3562122723076646,
          4.04881249539906,
          1.0958276478389712,
          0.7202999860329986,
          2.871065028348429,
          2.210851531283727,
          3.4142561929373407,
          -0.6959312967625215,
          -0.9193776148835182,
          -2.6473198473014725,
          -1.3747042420394004,
          2.039278004043858,
          1.6960131399782972,
          1.7598437833015286,
          -1.1194394000078978,
          1.6315035591215485,
          0.33595357670926873,
          0.5401713276074185,
          -0.799918029852607,
          -1.0334596282886368,
          0.6952514558377692,
          1.1268238906885326,
          -0.6813636959329217,
          -1.3598458372776445,
          2.5015273042195583,
          1.276092288293956,
          -0.09649401199950924,
          -2.3897591780670338,
          3.956162079586714,
          -1.2533395732058952,
          2.203104912009862,
          2.087528815385766,
          3.6092684793036005,
          2.969693621502082,
          2.573599797626989,
          3.0266626190091586,
          1.580523292054596,
          -2.0981868911425496,
          -2.302258485897834,
          2.2791629681192918,
          0.4060916812120352,
          3.1357951684157923,
          2.4709012660472256,
          0.655746128314874,
          0.406291958498616,
          3.6104072044593476,
          0.2815885591027607,
          -2.614094948889669,
          0.5177787823184112,
          0.29073872634109676,
          -2.2520297399908005,
          0.5739491569560764,
          1.7858828849483368,
          -0.23900929417904804,
          -2.544765520062658,
          3.441018630586064,
          1.7639193677855367
         ],
         "z": [
          7.470973043747557,
          9.801970137748913,
          18.36315243714966,
          15.77504087016457,
          3.613924115180793,
          18.452913405971103,
          22.056916768906408,
          23.32230763243098,
          21.810160535829322,
          19.999819012255546,
          14.621307419475526,
          16.462888077305696,
          3.5407550183165597,
          3.2211735952231715,
          17.469607383827938,
          2.1477160805439603,
          9.834388918184535,
          11.474077536934507,
          5.9415764238278275,
          12.870674426548467,
          5.956993676249434,
          7.19169427534917,
          12.953902515224193,
          3.745496367503649,
          3.3028664302031014,
          13.133847658444484,
          5.755534221363063,
          2.1586943396854816,
          5.865889783508159,
          19.115604446982527,
          18.722063112589396,
          4.23696915025751,
          20.154935245569973,
          8.240039175369953,
          21.18566626435038,
          15.317715545317514,
          4.745351832325885,
          6.200108652887386,
          2.9354336004758643,
          7.290805146776729,
          8.562183492619392,
          6.856278259560676,
          18.427694457447288,
          19.27143821884949,
          20.774656759493293,
          4.615612095089414,
          2.1093399277040312,
          11.318803135738825,
          9.279188887404935,
          20.164071991840594,
          4.392066361208164,
          20.001537133793263,
          9.708052458262822,
          3.5946092829058753,
          13.920310689794091,
          18.559921029929402,
          14.680893555244879,
          20.295832952243103,
          18.34777669425539,
          3.0929250810250384,
          6.742215323403364,
          6.726038796108581,
          7.053788090976845,
          3.5266175485675118,
          7.674583051342736,
          5.584282531105335,
          13.044715321205054,
          11.117921915029047,
          3.090705208197904,
          11.411672358121956,
          8.326955237780814,
          18.76619403638996,
          6.037281343543478,
          17.115361842087538,
          6.683121954926749,
          15.432891988505265,
          27.398408493480584,
          17.056092541938536,
          10.370752960773471,
          18.306634462213218,
          18.496560678753617,
          10.493380124985249,
          24.6232294436299,
          7.403715375093694,
          21.717680631582894,
          12.073496861045856,
          1.622461271878488,
          6.000501677504208,
          28.275927579685806,
          0.4349103225526918,
          18.065097848710653,
          4.773986061151455,
          2.596839096102792,
          10.421349109136825,
          3.4942622603081883,
          6.526934102320799,
          1.5108767665193708,
          15.040493044321426,
          13.255539637806834,
          12.11837596934283
         ]
        },
        {
         "type": "surface",
         "x": [
          -2.7339016042904403,
          -1.963885676114482,
          -1.1938697479385239,
          -0.42385381976256564,
          0.34616210841339257,
          1.1161780365893508,
          1.886193964765309,
          2.656209892941267,
          3.4262258211172254,
          4.196241749293184
         ],
         "y": [
          -2.7473214382390663,
          -1.9921954456126079,
          -1.2370694529861495,
          -0.48194346035969104,
          0.27318253226676736,
          1.0283085248932258,
          1.7834345175196842,
          2.538560510146142,
          3.293686502772601,
          4.04881249539906
         ],
         "z": [
          [
           6.854667331041178,
           8.762217368453898,
           13.545352684758146,
           17.66480169476032,
           9.507144210316305,
           6.702763389622762,
           12.887665175177974,
           14.825086776461498,
           12.015991885730573,
           14.85138351119982
          ],
          [
           14.54625262533087,
           13.21520760623655,
           11.239185747166799,
           14.298889929867418,
           10.381271785544193,
           14.228719693761196,
           11.452286449144797,
           7.021824082296403,
           12.433869467745252,
           11.49950618340447
          ],
          [
           9.780008584195679,
           3.802700114207486,
           14.219430608854376,
           9.563818145952645,
           10.65213601577325,
           9.882213334601275,
           10.433313087849523,
           10.539906502368503,
           10.458230309646897,
           13.248182030125644
          ],
          [
           17.09859181746406,
           8.153183433413323,
           14.583445294055718,
           13.763531598114826,
           8.206277086063277,
           11.513668553339294,
           10.828887581961986,
           13.62754720188237,
           7.133928118891983,
           10.029591550701813
          ],
          [
           10.988164790315,
           8.710199550663145,
           13.579260894012707,
           9.756335303850975,
           14.53724039007984,
           11.749695508377389,
           6.643596657007884,
           7.888099241356132,
           7.808702023080507,
           9.704549312519486
          ],
          [
           11.261587695038308,
           12.482107024577068,
           11.593956313113821,
           4.140536250003857,
           13.953127186016296,
           11.915291768036518,
           12.136463080980226,
           14.547455385700754,
           11.402384764047108,
           8.175290835931758
          ],
          [
           11.510660416509552,
           14.849320739800499,
           12.94426605396473,
           10.016252236555566,
           11.252502290850533,
           12.302376325584886,
           14.152665117043792,
           7.6574932605945705,
           11.573805227975308,
           10.702485924642094
          ],
          [
           8.927969575058109,
           11.415646340949015,
           10.349029354223639,
           10.463363497820648,
           10.957663242212668,
           12.517635222097589,
           16.124407953492497,
           12.383206304780018,
           14.714935268117134,
           14.089935589204268
          ],
          [
           13.560157433724498,
           9.30814232262746,
           14.250963069320846,
           6.670667072108126,
           14.111222010476109,
           8.636838422462102,
           6.872969138541485,
           11.24717874235687,
           10.1630391226222,
           11.972502441279465
          ],
          [
           15.887591270471926,
           14.4672472769327,
           9.931754541364318,
           12.578346741694576,
           13.455443937971799,
           9.5166367386248,
           12.062089114429712,
           10.591610751451983,
           11.578628669824855,
           10.650628310592365
          ]
         ]
        }
       ],
       "layout": {
        "legend": {
         "tracegroupgap": 0
        },
        "margin": {
         "t": 60
        },
        "scene": {
         "domain": {
          "x": [
           0,
           1
          ],
          "y": [
           0,
           1
          ]
         },
         "xaxis": {
          "title": {
           "text": "x"
          }
         },
         "yaxis": {
          "title": {
           "text": "y"
          }
         },
         "zaxis": {
          "title": {
           "text": "z"
          }
         }
        },
        "template": {
         "data": {
          "bar": [
           {
            "error_x": {
             "color": "#2a3f5f"
            },
            "error_y": {
             "color": "#2a3f5f"
            },
            "marker": {
             "line": {
              "color": "#E5ECF6",
              "width": 0.5
             },
             "pattern": {
              "fillmode": "overlay",
              "size": 10,
              "solidity": 0.2
             }
            },
            "type": "bar"
           }
          ],
          "barpolar": [
           {
            "marker": {
             "line": {
              "color": "#E5ECF6",
              "width": 0.5
             },
             "pattern": {
              "fillmode": "overlay",
              "size": 10,
              "solidity": 0.2
             }
            },
            "type": "barpolar"
           }
          ],
          "carpet": [
           {
            "aaxis": {
             "endlinecolor": "#2a3f5f",
             "gridcolor": "white",
             "linecolor": "white",
             "minorgridcolor": "white",
             "startlinecolor": "#2a3f5f"
            },
            "baxis": {
             "endlinecolor": "#2a3f5f",
             "gridcolor": "white",
             "linecolor": "white",
             "minorgridcolor": "white",
             "startlinecolor": "#2a3f5f"
            },
            "type": "carpet"
           }
          ],
          "choropleth": [
           {
            "colorbar": {
             "outlinewidth": 0,
             "ticks": ""
            },
            "type": "choropleth"
           }
          ],
          "contour": [
           {
            "colorbar": {
             "outlinewidth": 0,
             "ticks": ""
            },
            "colorscale": [
             [
              0,
              "#0d0887"
             ],
             [
              0.1111111111111111,
              "#46039f"
             ],
             [
              0.2222222222222222,
              "#7201a8"
             ],
             [
              0.3333333333333333,
              "#9c179e"
             ],
             [
              0.4444444444444444,
              "#bd3786"
             ],
             [
              0.5555555555555556,
              "#d8576b"
             ],
             [
              0.6666666666666666,
              "#ed7953"
             ],
             [
              0.7777777777777778,
              "#fb9f3a"
             ],
             [
              0.8888888888888888,
              "#fdca26"
             ],
             [
              1,
              "#f0f921"
             ]
            ],
            "type": "contour"
           }
          ],
          "contourcarpet": [
           {
            "colorbar": {
             "outlinewidth": 0,
             "ticks": ""
            },
            "type": "contourcarpet"
           }
          ],
          "heatmap": [
           {
            "colorbar": {
             "outlinewidth": 0,
             "ticks": ""
            },
            "colorscale": [
             [
              0,
              "#0d0887"
             ],
             [
              0.1111111111111111,
              "#46039f"
             ],
             [
              0.2222222222222222,
              "#7201a8"
             ],
             [
              0.3333333333333333,
              "#9c179e"
             ],
             [
              0.4444444444444444,
              "#bd3786"
             ],
             [
              0.5555555555555556,
              "#d8576b"
             ],
             [
              0.6666666666666666,
              "#ed7953"
             ],
             [
              0.7777777777777778,
              "#fb9f3a"
             ],
             [
              0.8888888888888888,
              "#fdca26"
             ],
             [
              1,
              "#f0f921"
             ]
            ],
            "type": "heatmap"
           }
          ],
          "heatmapgl": [
           {
            "colorbar": {
             "outlinewidth": 0,
             "ticks": ""
            },
            "colorscale": [
             [
              0,
              "#0d0887"
             ],
             [
              0.1111111111111111,
              "#46039f"
             ],
             [
              0.2222222222222222,
              "#7201a8"
             ],
             [
              0.3333333333333333,
              "#9c179e"
             ],
             [
              0.4444444444444444,
              "#bd3786"
             ],
             [
              0.5555555555555556,
              "#d8576b"
             ],
             [
              0.6666666666666666,
              "#ed7953"
             ],
             [
              0.7777777777777778,
              "#fb9f3a"
             ],
             [
              0.8888888888888888,
              "#fdca26"
             ],
             [
              1,
              "#f0f921"
             ]
            ],
            "type": "heatmapgl"
           }
          ],
          "histogram": [
           {
            "marker": {
             "pattern": {
              "fillmode": "overlay",
              "size": 10,
              "solidity": 0.2
             }
            },
            "type": "histogram"
           }
          ],
          "histogram2d": [
           {
            "colorbar": {
             "outlinewidth": 0,
             "ticks": ""
            },
            "colorscale": [
             [
              0,
              "#0d0887"
             ],
             [
              0.1111111111111111,
              "#46039f"
             ],
             [
              0.2222222222222222,
              "#7201a8"
             ],
             [
              0.3333333333333333,
              "#9c179e"
             ],
             [
              0.4444444444444444,
              "#bd3786"
             ],
             [
              0.5555555555555556,
              "#d8576b"
             ],
             [
              0.6666666666666666,
              "#ed7953"
             ],
             [
              0.7777777777777778,
              "#fb9f3a"
             ],
             [
              0.8888888888888888,
              "#fdca26"
             ],
             [
              1,
              "#f0f921"
             ]
            ],
            "type": "histogram2d"
           }
          ],
          "histogram2dcontour": [
           {
            "colorbar": {
             "outlinewidth": 0,
             "ticks": ""
            },
            "colorscale": [
             [
              0,
              "#0d0887"
             ],
             [
              0.1111111111111111,
              "#46039f"
             ],
             [
              0.2222222222222222,
              "#7201a8"
             ],
             [
              0.3333333333333333,
              "#9c179e"
             ],
             [
              0.4444444444444444,
              "#bd3786"
             ],
             [
              0.5555555555555556,
              "#d8576b"
             ],
             [
              0.6666666666666666,
              "#ed7953"
             ],
             [
              0.7777777777777778,
              "#fb9f3a"
             ],
             [
              0.8888888888888888,
              "#fdca26"
             ],
             [
              1,
              "#f0f921"
             ]
            ],
            "type": "histogram2dcontour"
           }
          ],
          "mesh3d": [
           {
            "colorbar": {
             "outlinewidth": 0,
             "ticks": ""
            },
            "type": "mesh3d"
           }
          ],
          "parcoords": [
           {
            "line": {
             "colorbar": {
              "outlinewidth": 0,
              "ticks": ""
             }
            },
            "type": "parcoords"
           }
          ],
          "pie": [
           {
            "automargin": true,
            "type": "pie"
           }
          ],
          "scatter": [
           {
            "fillpattern": {
             "fillmode": "overlay",
             "size": 10,
             "solidity": 0.2
            },
            "type": "scatter"
           }
          ],
          "scatter3d": [
           {
            "line": {
             "colorbar": {
              "outlinewidth": 0,
              "ticks": ""
             }
            },
            "marker": {
             "colorbar": {
              "outlinewidth": 0,
              "ticks": ""
             }
            },
            "type": "scatter3d"
           }
          ],
          "scattercarpet": [
           {
            "marker": {
             "colorbar": {
              "outlinewidth": 0,
              "ticks": ""
             }
            },
            "type": "scattercarpet"
           }
          ],
          "scattergeo": [
           {
            "marker": {
             "colorbar": {
              "outlinewidth": 0,
              "ticks": ""
             }
            },
            "type": "scattergeo"
           }
          ],
          "scattergl": [
           {
            "marker": {
             "colorbar": {
              "outlinewidth": 0,
              "ticks": ""
             }
            },
            "type": "scattergl"
           }
          ],
          "scattermapbox": [
           {
            "marker": {
             "colorbar": {
              "outlinewidth": 0,
              "ticks": ""
             }
            },
            "type": "scattermapbox"
           }
          ],
          "scatterpolar": [
           {
            "marker": {
             "colorbar": {
              "outlinewidth": 0,
              "ticks": ""
             }
            },
            "type": "scatterpolar"
           }
          ],
          "scatterpolargl": [
           {
            "marker": {
             "colorbar": {
              "outlinewidth": 0,
              "ticks": ""
             }
            },
            "type": "scatterpolargl"
           }
          ],
          "scatterternary": [
           {
            "marker": {
             "colorbar": {
              "outlinewidth": 0,
              "ticks": ""
             }
            },
            "type": "scatterternary"
           }
          ],
          "surface": [
           {
            "colorbar": {
             "outlinewidth": 0,
             "ticks": ""
            },
            "colorscale": [
             [
              0,
              "#0d0887"
             ],
             [
              0.1111111111111111,
              "#46039f"
             ],
             [
              0.2222222222222222,
              "#7201a8"
             ],
             [
              0.3333333333333333,
              "#9c179e"
             ],
             [
              0.4444444444444444,
              "#bd3786"
             ],
             [
              0.5555555555555556,
              "#d8576b"
             ],
             [
              0.6666666666666666,
              "#ed7953"
             ],
             [
              0.7777777777777778,
              "#fb9f3a"
             ],
             [
              0.8888888888888888,
              "#fdca26"
             ],
             [
              1,
              "#f0f921"
             ]
            ],
            "type": "surface"
           }
          ],
          "table": [
           {
            "cells": {
             "fill": {
              "color": "#EBF0F8"
             },
             "line": {
              "color": "white"
             }
            },
            "header": {
             "fill": {
              "color": "#C8D4E3"
             },
             "line": {
              "color": "white"
             }
            },
            "type": "table"
           }
          ]
         },
         "layout": {
          "annotationdefaults": {
           "arrowcolor": "#2a3f5f",
           "arrowhead": 0,
           "arrowwidth": 1
          },
          "autotypenumbers": "strict",
          "coloraxis": {
           "colorbar": {
            "outlinewidth": 0,
            "ticks": ""
           }
          },
          "colorscale": {
           "diverging": [
            [
             0,
             "#8e0152"
            ],
            [
             0.1,
             "#c51b7d"
            ],
            [
             0.2,
             "#de77ae"
            ],
            [
             0.3,
             "#f1b6da"
            ],
            [
             0.4,
             "#fde0ef"
            ],
            [
             0.5,
             "#f7f7f7"
            ],
            [
             0.6,
             "#e6f5d0"
            ],
            [
             0.7,
             "#b8e186"
            ],
            [
             0.8,
             "#7fbc41"
            ],
            [
             0.9,
             "#4d9221"
            ],
            [
             1,
             "#276419"
            ]
           ],
           "sequential": [
            [
             0,
             "#0d0887"
            ],
            [
             0.1111111111111111,
             "#46039f"
            ],
            [
             0.2222222222222222,
             "#7201a8"
            ],
            [
             0.3333333333333333,
             "#9c179e"
            ],
            [
             0.4444444444444444,
             "#bd3786"
            ],
            [
             0.5555555555555556,
             "#d8576b"
            ],
            [
             0.6666666666666666,
             "#ed7953"
            ],
            [
             0.7777777777777778,
             "#fb9f3a"
            ],
            [
             0.8888888888888888,
             "#fdca26"
            ],
            [
             1,
             "#f0f921"
            ]
           ],
           "sequentialminus": [
            [
             0,
             "#0d0887"
            ],
            [
             0.1111111111111111,
             "#46039f"
            ],
            [
             0.2222222222222222,
             "#7201a8"
            ],
            [
             0.3333333333333333,
             "#9c179e"
            ],
            [
             0.4444444444444444,
             "#bd3786"
            ],
            [
             0.5555555555555556,
             "#d8576b"
            ],
            [
             0.6666666666666666,
             "#ed7953"
            ],
            [
             0.7777777777777778,
             "#fb9f3a"
            ],
            [
             0.8888888888888888,
             "#fdca26"
            ],
            [
             1,
             "#f0f921"
            ]
           ]
          },
          "colorway": [
           "#636efa",
           "#EF553B",
           "#00cc96",
           "#ab63fa",
           "#FFA15A",
           "#19d3f3",
           "#FF6692",
           "#B6E880",
           "#FF97FF",
           "#FECB52"
          ],
          "font": {
           "color": "#2a3f5f"
          },
          "geo": {
           "bgcolor": "white",
           "lakecolor": "white",
           "landcolor": "#E5ECF6",
           "showlakes": true,
           "showland": true,
           "subunitcolor": "white"
          },
          "hoverlabel": {
           "align": "left"
          },
          "hovermode": "closest",
          "mapbox": {
           "style": "light"
          },
          "paper_bgcolor": "white",
          "plot_bgcolor": "#E5ECF6",
          "polar": {
           "angularaxis": {
            "gridcolor": "white",
            "linecolor": "white",
            "ticks": ""
           },
           "bgcolor": "#E5ECF6",
           "radialaxis": {
            "gridcolor": "white",
            "linecolor": "white",
            "ticks": ""
           }
          },
          "scene": {
           "xaxis": {
            "backgroundcolor": "#E5ECF6",
            "gridcolor": "white",
            "gridwidth": 2,
            "linecolor": "white",
            "showbackground": true,
            "ticks": "",
            "zerolinecolor": "white"
           },
           "yaxis": {
            "backgroundcolor": "#E5ECF6",
            "gridcolor": "white",
            "gridwidth": 2,
            "linecolor": "white",
            "showbackground": true,
            "ticks": "",
            "zerolinecolor": "white"
           },
           "zaxis": {
            "backgroundcolor": "#E5ECF6",
            "gridcolor": "white",
            "gridwidth": 2,
            "linecolor": "white",
            "showbackground": true,
            "ticks": "",
            "zerolinecolor": "white"
           }
          },
          "shapedefaults": {
           "line": {
            "color": "#2a3f5f"
           }
          },
          "ternary": {
           "aaxis": {
            "gridcolor": "white",
            "linecolor": "white",
            "ticks": ""
           },
           "baxis": {
            "gridcolor": "white",
            "linecolor": "white",
            "ticks": ""
           },
           "bgcolor": "#E5ECF6",
           "caxis": {
            "gridcolor": "white",
            "linecolor": "white",
            "ticks": ""
           }
          },
          "title": {
           "x": 0.05
          },
          "xaxis": {
           "automargin": true,
           "gridcolor": "white",
           "linecolor": "white",
           "ticks": "",
           "title": {
            "standoff": 15
           },
           "zerolinecolor": "white",
           "zerolinewidth": 2
          },
          "yaxis": {
           "automargin": true,
           "gridcolor": "white",
           "linecolor": "white",
           "ticks": "",
           "title": {
            "standoff": 15
           },
           "zerolinecolor": "white",
           "zerolinewidth": 2
          }
         }
        }
       }
      }
     },
     "metadata": {},
     "output_type": "display_data"
    }
   ],
   "source": [
    "fig = px.scatter_3d(x=x.ravel(),y=y.ravel(),z=z.ravel())\n",
    "fig.add_trace(go.Surface(x= xInput, y= yInput, z= zFinal))"
   ]
  },
  {
   "cell_type": "markdown",
   "metadata": {},
   "source": [
    "# End"
   ]
  }
 ],
 "metadata": {
  "kernelspec": {
   "display_name": "Python 3",
   "language": "python",
   "name": "python3"
  },
  "language_info": {
   "codemirror_mode": {
    "name": "ipython",
    "version": 3
   },
   "file_extension": ".py",
   "mimetype": "text/x-python",
   "name": "python",
   "nbconvert_exporter": "python",
   "pygments_lexer": "ipython3",
   "version": "3.11.4"
  },
  "orig_nbformat": 4
 },
 "nbformat": 4,
 "nbformat_minor": 2
}
