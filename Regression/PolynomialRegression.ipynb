{
 "cells": [
  {
   "cell_type": "code",
   "execution_count": 1,
   "metadata": {},
   "outputs": [],
   "source": [
    "from sklearn.preprocessing import PolynomialFeatures, StandardScaler\n",
    "from sklearn.linear_model import LinearRegression, SGDRegressor\n",
    "from sklearn.model_selection import train_test_split\n",
    "from sklearn.pipeline import Pipeline\n",
    "from sklearn.metrics import r2_score\n",
    "import plotly.graph_objects as go \n",
    "import plotly.express as px\n",
    "import numpy as np"
   ]
  },
  {
   "cell_type": "code",
   "execution_count": 2,
   "metadata": {},
   "outputs": [
    {
     "data": {
      "text/plain": [
       "(200, 1)"
      ]
     },
     "execution_count": 2,
     "metadata": {},
     "output_type": "execute_result"
    }
   ],
   "source": [
    "x = 6*np.random.rand(200, 1) - 3\n",
    "x.shape"
   ]
  },
  {
   "cell_type": "code",
   "execution_count": 3,
   "metadata": {},
   "outputs": [
    {
     "data": {
      "text/plain": [
       "(200, 1)"
      ]
     },
     "execution_count": 3,
     "metadata": {},
     "output_type": "execute_result"
    }
   ],
   "source": [
    "y = 0.8*x**2 + 0.9*x + 2 + np.random.rand(200, 1)\n",
    "y.shape"
   ]
  },
  {
   "cell_type": "code",
   "execution_count": 4,
   "metadata": {},
   "outputs": [
    {
     "data": {
      "application/vnd.plotly.v1+json": {
       "config": {
        "plotlyServerURL": "https://plot.ly"
       },
       "data": [
        {
         "hovertemplate": "x=%{x}<br>y=%{y}<extra></extra>",
         "legendgroup": "",
         "marker": {
          "color": "#636efa",
          "symbol": "circle"
         },
         "mode": "markers",
         "name": "",
         "orientation": "v",
         "showlegend": false,
         "type": "scatter",
         "x": [
          1.9609996138443453,
          1.8653763622541621,
          2.121710142942007,
          2.319523486649725,
          0.11349823172935913,
          -0.2119939192262854,
          -2.561112371471078,
          -1.6231535552653675,
          2.2671923894100097,
          -0.07895054196167184,
          1.7315042631388406,
          -1.1176118326543392,
          -2.790761653550678,
          0.91910775512663,
          -2.848617347010854,
          -2.884731275181669,
          -0.7961228250858152,
          1.1404772624235964,
          1.0721641320787167,
          -2.0718780871346807,
          0.5699456646478591,
          2.924497886800424,
          0.5055183617020718,
          -0.09453439845023315,
          -2.195287309056461,
          -0.5460873769607995,
          -1.6852996884653328,
          -1.5179181173140244,
          1.3575889278414879,
          -0.0802321593967612,
          1.329359344730907,
          0.5251805672037713,
          1.43667018476068,
          -1.8823136918151369,
          1.4796462478498569,
          -1.1143939132888654,
          -1.1553000427486433,
          1.6750769970641848,
          0.8940734491851074,
          -0.8645552033033894,
          -1.5921835137346696,
          1.305083314647451,
          -0.9060028798460884,
          -0.1822413254913009,
          1.4650665078861396,
          2.482791229204614,
          2.505905236095793,
          0.36873383314944785,
          -2.4513467877864734,
          1.2267907914630705,
          0.5685154687677239,
          0.35022598136995065,
          2.933539802497652,
          -1.3856321546650905,
          1.7777811416836773,
          -0.4008283630382672,
          1.7457630978489762,
          -0.3935625220974037,
          -2.1950783433773973,
          -2.071802418430558,
          1.110825201952819,
          0.007404956174217325,
          0.9186481903582346,
          1.0864162440846599,
          -2.720947017535134,
          2.4665138464500975,
          -1.2941498657364914,
          0.1548115740983862,
          2.7008385907921966,
          2.1818424827002287,
          -2.3477224856577203,
          -0.30429781545025003,
          2.340589817277399,
          -1.3124888705953168,
          1.1104417973596838,
          2.984757777857898,
          -1.0408894066270997,
          -0.8144415852577405,
          -2.0492485458966114,
          -1.8868472195549508,
          1.3333140267675256,
          1.2908180932117954,
          0.8849169092627185,
          -0.06353801685563365,
          2.9630254161707006,
          -2.7974586080933825,
          2.5999285246424577,
          -1.4614311560034354,
          -1.7253697362926104,
          -2.3795413140006882,
          1.3434478610591487,
          -0.8009640642878866,
          -0.10154446952612428,
          -1.9957903197146434,
          1.7919677851193265,
          -1.704072772469518,
          -2.997438140561096,
          -1.9259333840625854,
          -2.807580343940501,
          -1.7855485967156435,
          -2.0619855200757753,
          -2.8764790217418144,
          1.4974978334314422,
          1.986129251535166,
          -1.2490940728912445,
          -1.337240099687332,
          -1.4278374404972718,
          -0.7587659013519117,
          -0.9355519265550232,
          2.4802982108642384,
          -0.232323814100027,
          1.8464088278191593,
          -0.6635463633806671,
          -1.931414315774511,
          0.16935882751819076,
          -2.4108120798907215,
          2.3973499961572973,
          -0.6221612256985027,
          1.4607265308887758,
          1.7536716454530517,
          0.9098898394382147,
          -2.1908513956984814,
          1.98577917799214,
          1.8213197492651423,
          -0.39477069847516866,
          1.6500575927783965,
          1.6396419237992719,
          0.954596060413401,
          -2.723500650358241,
          2.8403777127042122,
          2.3691574072639963,
          -2.6168280452196218,
          0.9157751690009155,
          -1.483674025235807,
          -1.6235653911241033,
          2.8176042529378122,
          -2.038508826305714,
          1.2174654891021026,
          -2.402302055704159,
          1.5967778297020416,
          2.0139660453735395,
          -0.7255862670949176,
          -1.5487072835257358,
          -2.2826701392221818,
          -0.8585274089411734,
          -0.7660775633151857,
          2.305280953488828,
          2.560165655585558,
          0.7886857162410124,
          -0.09137468256440462,
          1.7942512468093392,
          -0.7387256526337351,
          -2.480711248581164,
          -1.495303396861005,
          -0.9036042112458986,
          -2.0656491626416162,
          2.611401316988342,
          2.1306858369938,
          0.931193704956196,
          2.196501769439667,
          0.7626137364969416,
          -1.562438382883073,
          2.697397395905787,
          -0.3551258941313673,
          -0.03262427153664316,
          -2.2814934900515267,
          2.684124817905552,
          1.1784932291193932,
          -0.13242366315472243,
          2.619717313293174,
          2.6922486651474937,
          1.6364213466614892,
          1.238092705463064,
          -2.046844559920551,
          -0.5743671869316596,
          0.7149204150723252,
          0.25803194078193314,
          -0.5157708086497532,
          2.0338828156303936,
          1.9027395471270063,
          -0.9193225461744841,
          0.017682658725943767,
          -2.656983540359974,
          2.329795741184478,
          -1.9529676794293516,
          -2.0665685733087606,
          0.36118315026394576,
          -2.4194436394889154,
          -1.1485077937073243,
          1.0747849234285756,
          -0.14537518135830751,
          0.7171406583022932,
          0.33264676491840195,
          1.3989897201435202,
          2.5924671094272878,
          2.8508601806401987,
          0.42042635093810965,
          0.09490060735441963,
          -2.727785165720708,
          0.6057662784729407
         ],
         "xaxis": "x",
         "y": [
          6.870165598650059,
          6.789218446951439,
          7.555407028844882,
          9.297428572431183,
          2.4969643030383253,
          2.4546708878325436,
          5.301562389123509,
          3.0070428308527,
          8.270226768389879,
          2.6237819591202958,
          6.527658901957446,
          2.0418519973659555,
          6.414865543453554,
          4.445699936265662,
          6.776553425766299,
          6.907419101936357,
          2.2595348695241757,
          4.787663577890581,
          4.718133577021399,
          4.516671158049947,
          3.219611725913604,
          12.399181270045704,
          3.1606302532859742,
          1.9242459416598328,
          4.258482108904263,
          1.9694303431209088,
          3.392649766268849,
          2.7776102081225926,
          5.291265184926198,
          1.989756187652442,
          5.258243703927524,
          3.1740016152234714,
          5.279018609794959,
          4.063957685790326,
          5.779959871355909,
          2.3281672645851446,
          2.22025775080226,
          6.529150027389931,
          4.137743602380087,
          2.7299086021883,
          3.1854736179760303,
          4.896978497959125,
          1.9565427708613745,
          2.2677793556102777,
          5.3730201787723635,
          10.016171486298148,
          9.601192503075424,
          3.355748903389595,
          4.942660868842889,
          4.927640234970034,
          3.4863955731017016,
          3.2178267659801043,
          11.554736123314644,
          2.442266542038796,
          7.039211567260444,
          2.468029966870782,
          6.907415983265731,
          2.6065937987003385,
          4.866145016668414,
          4.099735681832431,
          4.937893241836101,
          2.1083399943942176,
          4.345330730590963,
          4.375080950730277,
          6.128807463702688,
          9.61214837754235,
          2.6881759800252274,
          2.465157574351601,
          10.92007058130378,
          7.980029455587843,
          4.461826835901198,
          2.165140467331373,
          8.561795688986203,
          2.810607590734837,
          4.223546559133833,
          12.086170637341743,
          2.6785842215816014,
          2.2583077415375103,
          3.7570191793340215,
          3.8376910252848266,
          5.356374883509067,
          5.2260785748817336,
          4.1740303982323494,
          2.88922417273326,
          11.990448870094715,
          5.953602267815182,
          10.73623129041406,
          2.836588632653549,
          3.1677241727501806,
          4.525571847237115,
          5.472287722578647,
          2.4529836467727373,
          2.0223477275565203,
          3.431094441601468,
          6.855480241905536,
          3.7024250412385786,
          6.7147321666069,
          3.2608630539517125,
          6.652221937657063,
          3.5140501087433513,
          3.8081744992891124,
          6.8148519756712505,
          5.509702888769496,
          7.250395772143107,
          2.2486417330316133,
          2.258416247578825,
          2.9030866753499014,
          2.1138597944003994,
          2.7397170183670454,
          9.972234729323349,
          2.0620048726194113,
          6.731231005376551,
          2.5102848696794813,
          3.485122955468581,
          2.2791619056003514,
          4.518436875758201,
          9.586871176596347,
          2.522000525911426,
          5.705520193162002,
          6.947788186452181,
          4.421757968762489,
          3.9338410362874874,
          7.734815387080255,
          6.484533459835926,
          2.6141625908043964,
          6.140452637403538,
          6.574271955639601,
          3.700855100677827,
          6.349565834900849,
          11.19558540619793,
          8.79029453968606,
          6.0029598855377975,
          4.168022945751889,
          2.973803716435298,
          3.548994786055606,
          11.502310749380095,
          4.02598640723123,
          4.94515225066898,
          4.818132029870473,
          6.386855452094434,
          7.57501762018363,
          1.9540475663778836,
          2.9072227647487217,
          4.79592339884411,
          2.66074431005615,
          1.940066531451004,
          8.380916468003782,
          10.515765232537186,
          4.0104010546927045,
          2.457368824475023,
          6.540624933533286,
          2.193195889864543,
          5.555169829967398,
          3.1269700947935672,
          2.014548067587297,
          4.150493714235128,
          10.375993107231064,
          8.07014687184276,
          4.11995504904603,
          8.505232620083595,
          4.1463779202920925,
          3.2043026014785414,
          10.422565447919181,
          1.8858049055838988,
          2.16378784021463,
          4.919232967549477,
          11.168783891308486,
          4.909860978623572,
          2.501268666171311,
          9.945177009877352,
          10.247100875914153,
          6.22460556778537,
          4.380434797166055,
          4.082938631378447,
          2.3319357690253835,
          3.7775258856362903,
          2.5890348547848694,
          2.694803411876576,
          7.927318339811659,
          6.685511595385291,
          2.067184503265376,
          2.249384167573139,
          5.334226845719442,
          8.66156482329481,
          3.330541224915131,
          3.8765013481419555,
          2.7070693350356394,
          5.261075749446038,
          2.6327819510741706,
          4.414412879840175,
          2.6468996429878526,
          3.422175502340097,
          3.089528350845875,
          5.382297347406624,
          10.046469897149747,
          11.22500326199949,
          3.462724137289312,
          2.5109773917737286,
          5.631141264813006,
          3.415845235346723
         ],
         "yaxis": "y"
        }
       ],
       "layout": {
        "legend": {
         "tracegroupgap": 0
        },
        "margin": {
         "t": 60
        },
        "template": {
         "data": {
          "bar": [
           {
            "error_x": {
             "color": "#2a3f5f"
            },
            "error_y": {
             "color": "#2a3f5f"
            },
            "marker": {
             "line": {
              "color": "#E5ECF6",
              "width": 0.5
             },
             "pattern": {
              "fillmode": "overlay",
              "size": 10,
              "solidity": 0.2
             }
            },
            "type": "bar"
           }
          ],
          "barpolar": [
           {
            "marker": {
             "line": {
              "color": "#E5ECF6",
              "width": 0.5
             },
             "pattern": {
              "fillmode": "overlay",
              "size": 10,
              "solidity": 0.2
             }
            },
            "type": "barpolar"
           }
          ],
          "carpet": [
           {
            "aaxis": {
             "endlinecolor": "#2a3f5f",
             "gridcolor": "white",
             "linecolor": "white",
             "minorgridcolor": "white",
             "startlinecolor": "#2a3f5f"
            },
            "baxis": {
             "endlinecolor": "#2a3f5f",
             "gridcolor": "white",
             "linecolor": "white",
             "minorgridcolor": "white",
             "startlinecolor": "#2a3f5f"
            },
            "type": "carpet"
           }
          ],
          "choropleth": [
           {
            "colorbar": {
             "outlinewidth": 0,
             "ticks": ""
            },
            "type": "choropleth"
           }
          ],
          "contour": [
           {
            "colorbar": {
             "outlinewidth": 0,
             "ticks": ""
            },
            "colorscale": [
             [
              0,
              "#0d0887"
             ],
             [
              0.1111111111111111,
              "#46039f"
             ],
             [
              0.2222222222222222,
              "#7201a8"
             ],
             [
              0.3333333333333333,
              "#9c179e"
             ],
             [
              0.4444444444444444,
              "#bd3786"
             ],
             [
              0.5555555555555556,
              "#d8576b"
             ],
             [
              0.6666666666666666,
              "#ed7953"
             ],
             [
              0.7777777777777778,
              "#fb9f3a"
             ],
             [
              0.8888888888888888,
              "#fdca26"
             ],
             [
              1,
              "#f0f921"
             ]
            ],
            "type": "contour"
           }
          ],
          "contourcarpet": [
           {
            "colorbar": {
             "outlinewidth": 0,
             "ticks": ""
            },
            "type": "contourcarpet"
           }
          ],
          "heatmap": [
           {
            "colorbar": {
             "outlinewidth": 0,
             "ticks": ""
            },
            "colorscale": [
             [
              0,
              "#0d0887"
             ],
             [
              0.1111111111111111,
              "#46039f"
             ],
             [
              0.2222222222222222,
              "#7201a8"
             ],
             [
              0.3333333333333333,
              "#9c179e"
             ],
             [
              0.4444444444444444,
              "#bd3786"
             ],
             [
              0.5555555555555556,
              "#d8576b"
             ],
             [
              0.6666666666666666,
              "#ed7953"
             ],
             [
              0.7777777777777778,
              "#fb9f3a"
             ],
             [
              0.8888888888888888,
              "#fdca26"
             ],
             [
              1,
              "#f0f921"
             ]
            ],
            "type": "heatmap"
           }
          ],
          "heatmapgl": [
           {
            "colorbar": {
             "outlinewidth": 0,
             "ticks": ""
            },
            "colorscale": [
             [
              0,
              "#0d0887"
             ],
             [
              0.1111111111111111,
              "#46039f"
             ],
             [
              0.2222222222222222,
              "#7201a8"
             ],
             [
              0.3333333333333333,
              "#9c179e"
             ],
             [
              0.4444444444444444,
              "#bd3786"
             ],
             [
              0.5555555555555556,
              "#d8576b"
             ],
             [
              0.6666666666666666,
              "#ed7953"
             ],
             [
              0.7777777777777778,
              "#fb9f3a"
             ],
             [
              0.8888888888888888,
              "#fdca26"
             ],
             [
              1,
              "#f0f921"
             ]
            ],
            "type": "heatmapgl"
           }
          ],
          "histogram": [
           {
            "marker": {
             "pattern": {
              "fillmode": "overlay",
              "size": 10,
              "solidity": 0.2
             }
            },
            "type": "histogram"
           }
          ],
          "histogram2d": [
           {
            "colorbar": {
             "outlinewidth": 0,
             "ticks": ""
            },
            "colorscale": [
             [
              0,
              "#0d0887"
             ],
             [
              0.1111111111111111,
              "#46039f"
             ],
             [
              0.2222222222222222,
              "#7201a8"
             ],
             [
              0.3333333333333333,
              "#9c179e"
             ],
             [
              0.4444444444444444,
              "#bd3786"
             ],
             [
              0.5555555555555556,
              "#d8576b"
             ],
             [
              0.6666666666666666,
              "#ed7953"
             ],
             [
              0.7777777777777778,
              "#fb9f3a"
             ],
             [
              0.8888888888888888,
              "#fdca26"
             ],
             [
              1,
              "#f0f921"
             ]
            ],
            "type": "histogram2d"
           }
          ],
          "histogram2dcontour": [
           {
            "colorbar": {
             "outlinewidth": 0,
             "ticks": ""
            },
            "colorscale": [
             [
              0,
              "#0d0887"
             ],
             [
              0.1111111111111111,
              "#46039f"
             ],
             [
              0.2222222222222222,
              "#7201a8"
             ],
             [
              0.3333333333333333,
              "#9c179e"
             ],
             [
              0.4444444444444444,
              "#bd3786"
             ],
             [
              0.5555555555555556,
              "#d8576b"
             ],
             [
              0.6666666666666666,
              "#ed7953"
             ],
             [
              0.7777777777777778,
              "#fb9f3a"
             ],
             [
              0.8888888888888888,
              "#fdca26"
             ],
             [
              1,
              "#f0f921"
             ]
            ],
            "type": "histogram2dcontour"
           }
          ],
          "mesh3d": [
           {
            "colorbar": {
             "outlinewidth": 0,
             "ticks": ""
            },
            "type": "mesh3d"
           }
          ],
          "parcoords": [
           {
            "line": {
             "colorbar": {
              "outlinewidth": 0,
              "ticks": ""
             }
            },
            "type": "parcoords"
           }
          ],
          "pie": [
           {
            "automargin": true,
            "type": "pie"
           }
          ],
          "scatter": [
           {
            "fillpattern": {
             "fillmode": "overlay",
             "size": 10,
             "solidity": 0.2
            },
            "type": "scatter"
           }
          ],
          "scatter3d": [
           {
            "line": {
             "colorbar": {
              "outlinewidth": 0,
              "ticks": ""
             }
            },
            "marker": {
             "colorbar": {
              "outlinewidth": 0,
              "ticks": ""
             }
            },
            "type": "scatter3d"
           }
          ],
          "scattercarpet": [
           {
            "marker": {
             "colorbar": {
              "outlinewidth": 0,
              "ticks": ""
             }
            },
            "type": "scattercarpet"
           }
          ],
          "scattergeo": [
           {
            "marker": {
             "colorbar": {
              "outlinewidth": 0,
              "ticks": ""
             }
            },
            "type": "scattergeo"
           }
          ],
          "scattergl": [
           {
            "marker": {
             "colorbar": {
              "outlinewidth": 0,
              "ticks": ""
             }
            },
            "type": "scattergl"
           }
          ],
          "scattermapbox": [
           {
            "marker": {
             "colorbar": {
              "outlinewidth": 0,
              "ticks": ""
             }
            },
            "type": "scattermapbox"
           }
          ],
          "scatterpolar": [
           {
            "marker": {
             "colorbar": {
              "outlinewidth": 0,
              "ticks": ""
             }
            },
            "type": "scatterpolar"
           }
          ],
          "scatterpolargl": [
           {
            "marker": {
             "colorbar": {
              "outlinewidth": 0,
              "ticks": ""
             }
            },
            "type": "scatterpolargl"
           }
          ],
          "scatterternary": [
           {
            "marker": {
             "colorbar": {
              "outlinewidth": 0,
              "ticks": ""
             }
            },
            "type": "scatterternary"
           }
          ],
          "surface": [
           {
            "colorbar": {
             "outlinewidth": 0,
             "ticks": ""
            },
            "colorscale": [
             [
              0,
              "#0d0887"
             ],
             [
              0.1111111111111111,
              "#46039f"
             ],
             [
              0.2222222222222222,
              "#7201a8"
             ],
             [
              0.3333333333333333,
              "#9c179e"
             ],
             [
              0.4444444444444444,
              "#bd3786"
             ],
             [
              0.5555555555555556,
              "#d8576b"
             ],
             [
              0.6666666666666666,
              "#ed7953"
             ],
             [
              0.7777777777777778,
              "#fb9f3a"
             ],
             [
              0.8888888888888888,
              "#fdca26"
             ],
             [
              1,
              "#f0f921"
             ]
            ],
            "type": "surface"
           }
          ],
          "table": [
           {
            "cells": {
             "fill": {
              "color": "#EBF0F8"
             },
             "line": {
              "color": "white"
             }
            },
            "header": {
             "fill": {
              "color": "#C8D4E3"
             },
             "line": {
              "color": "white"
             }
            },
            "type": "table"
           }
          ]
         },
         "layout": {
          "annotationdefaults": {
           "arrowcolor": "#2a3f5f",
           "arrowhead": 0,
           "arrowwidth": 1
          },
          "autotypenumbers": "strict",
          "coloraxis": {
           "colorbar": {
            "outlinewidth": 0,
            "ticks": ""
           }
          },
          "colorscale": {
           "diverging": [
            [
             0,
             "#8e0152"
            ],
            [
             0.1,
             "#c51b7d"
            ],
            [
             0.2,
             "#de77ae"
            ],
            [
             0.3,
             "#f1b6da"
            ],
            [
             0.4,
             "#fde0ef"
            ],
            [
             0.5,
             "#f7f7f7"
            ],
            [
             0.6,
             "#e6f5d0"
            ],
            [
             0.7,
             "#b8e186"
            ],
            [
             0.8,
             "#7fbc41"
            ],
            [
             0.9,
             "#4d9221"
            ],
            [
             1,
             "#276419"
            ]
           ],
           "sequential": [
            [
             0,
             "#0d0887"
            ],
            [
             0.1111111111111111,
             "#46039f"
            ],
            [
             0.2222222222222222,
             "#7201a8"
            ],
            [
             0.3333333333333333,
             "#9c179e"
            ],
            [
             0.4444444444444444,
             "#bd3786"
            ],
            [
             0.5555555555555556,
             "#d8576b"
            ],
            [
             0.6666666666666666,
             "#ed7953"
            ],
            [
             0.7777777777777778,
             "#fb9f3a"
            ],
            [
             0.8888888888888888,
             "#fdca26"
            ],
            [
             1,
             "#f0f921"
            ]
           ],
           "sequentialminus": [
            [
             0,
             "#0d0887"
            ],
            [
             0.1111111111111111,
             "#46039f"
            ],
            [
             0.2222222222222222,
             "#7201a8"
            ],
            [
             0.3333333333333333,
             "#9c179e"
            ],
            [
             0.4444444444444444,
             "#bd3786"
            ],
            [
             0.5555555555555556,
             "#d8576b"
            ],
            [
             0.6666666666666666,
             "#ed7953"
            ],
            [
             0.7777777777777778,
             "#fb9f3a"
            ],
            [
             0.8888888888888888,
             "#fdca26"
            ],
            [
             1,
             "#f0f921"
            ]
           ]
          },
          "colorway": [
           "#636efa",
           "#EF553B",
           "#00cc96",
           "#ab63fa",
           "#FFA15A",
           "#19d3f3",
           "#FF6692",
           "#B6E880",
           "#FF97FF",
           "#FECB52"
          ],
          "font": {
           "color": "#2a3f5f"
          },
          "geo": {
           "bgcolor": "white",
           "lakecolor": "white",
           "landcolor": "#E5ECF6",
           "showlakes": true,
           "showland": true,
           "subunitcolor": "white"
          },
          "hoverlabel": {
           "align": "left"
          },
          "hovermode": "closest",
          "mapbox": {
           "style": "light"
          },
          "paper_bgcolor": "white",
          "plot_bgcolor": "#E5ECF6",
          "polar": {
           "angularaxis": {
            "gridcolor": "white",
            "linecolor": "white",
            "ticks": ""
           },
           "bgcolor": "#E5ECF6",
           "radialaxis": {
            "gridcolor": "white",
            "linecolor": "white",
            "ticks": ""
           }
          },
          "scene": {
           "xaxis": {
            "backgroundcolor": "#E5ECF6",
            "gridcolor": "white",
            "gridwidth": 2,
            "linecolor": "white",
            "showbackground": true,
            "ticks": "",
            "zerolinecolor": "white"
           },
           "yaxis": {
            "backgroundcolor": "#E5ECF6",
            "gridcolor": "white",
            "gridwidth": 2,
            "linecolor": "white",
            "showbackground": true,
            "ticks": "",
            "zerolinecolor": "white"
           },
           "zaxis": {
            "backgroundcolor": "#E5ECF6",
            "gridcolor": "white",
            "gridwidth": 2,
            "linecolor": "white",
            "showbackground": true,
            "ticks": "",
            "zerolinecolor": "white"
           }
          },
          "shapedefaults": {
           "line": {
            "color": "#2a3f5f"
           }
          },
          "ternary": {
           "aaxis": {
            "gridcolor": "white",
            "linecolor": "white",
            "ticks": ""
           },
           "baxis": {
            "gridcolor": "white",
            "linecolor": "white",
            "ticks": ""
           },
           "bgcolor": "#E5ECF6",
           "caxis": {
            "gridcolor": "white",
            "linecolor": "white",
            "ticks": ""
           }
          },
          "title": {
           "x": 0.05
          },
          "xaxis": {
           "automargin": true,
           "gridcolor": "white",
           "linecolor": "white",
           "ticks": "",
           "title": {
            "standoff": 15
           },
           "zerolinecolor": "white",
           "zerolinewidth": 2
          },
          "yaxis": {
           "automargin": true,
           "gridcolor": "white",
           "linecolor": "white",
           "ticks": "",
           "title": {
            "standoff": 15
           },
           "zerolinecolor": "white",
           "zerolinewidth": 2
          }
         }
        },
        "xaxis": {
         "anchor": "y",
         "domain": [
          0,
          1
         ],
         "title": {
          "text": "x"
         }
        },
        "yaxis": {
         "anchor": "x",
         "domain": [
          0,
          1
         ],
         "title": {
          "text": "y"
         }
        }
       }
      }
     },
     "metadata": {},
     "output_type": "display_data"
    }
   ],
   "source": [
    "px.scatter(x=x.ravel(),y=y.ravel())"
   ]
  },
  {
   "cell_type": "code",
   "execution_count": 5,
   "metadata": {},
   "outputs": [],
   "source": [
    "xTrain, xTest, yTrain, yTest = train_test_split(x, y, test_size=0.2, random_state=2)"
   ]
  },
  {
   "cell_type": "code",
   "execution_count": 6,
   "metadata": {},
   "outputs": [
    {
     "data": {
      "text/plain": [
       "((160, 1), (40, 1), (160, 1), (40, 1))"
      ]
     },
     "execution_count": 6,
     "metadata": {},
     "output_type": "execute_result"
    }
   ],
   "source": [
    "xTrain.shape, xTest.shape, yTrain.shape, yTest.shape"
   ]
  },
  {
   "cell_type": "code",
   "execution_count": 7,
   "metadata": {},
   "outputs": [
    {
     "data": {
      "text/html": [
       "<style>#sk-container-id-1 {color: black;}#sk-container-id-1 pre{padding: 0;}#sk-container-id-1 div.sk-toggleable {background-color: white;}#sk-container-id-1 label.sk-toggleable__label {cursor: pointer;display: block;width: 100%;margin-bottom: 0;padding: 0.3em;box-sizing: border-box;text-align: center;}#sk-container-id-1 label.sk-toggleable__label-arrow:before {content: \"▸\";float: left;margin-right: 0.25em;color: #696969;}#sk-container-id-1 label.sk-toggleable__label-arrow:hover:before {color: black;}#sk-container-id-1 div.sk-estimator:hover label.sk-toggleable__label-arrow:before {color: black;}#sk-container-id-1 div.sk-toggleable__content {max-height: 0;max-width: 0;overflow: hidden;text-align: left;background-color: #f0f8ff;}#sk-container-id-1 div.sk-toggleable__content pre {margin: 0.2em;color: black;border-radius: 0.25em;background-color: #f0f8ff;}#sk-container-id-1 input.sk-toggleable__control:checked~div.sk-toggleable__content {max-height: 200px;max-width: 100%;overflow: auto;}#sk-container-id-1 input.sk-toggleable__control:checked~label.sk-toggleable__label-arrow:before {content: \"▾\";}#sk-container-id-1 div.sk-estimator input.sk-toggleable__control:checked~label.sk-toggleable__label {background-color: #d4ebff;}#sk-container-id-1 div.sk-label input.sk-toggleable__control:checked~label.sk-toggleable__label {background-color: #d4ebff;}#sk-container-id-1 input.sk-hidden--visually {border: 0;clip: rect(1px 1px 1px 1px);clip: rect(1px, 1px, 1px, 1px);height: 1px;margin: -1px;overflow: hidden;padding: 0;position: absolute;width: 1px;}#sk-container-id-1 div.sk-estimator {font-family: monospace;background-color: #f0f8ff;border: 1px dotted black;border-radius: 0.25em;box-sizing: border-box;margin-bottom: 0.5em;}#sk-container-id-1 div.sk-estimator:hover {background-color: #d4ebff;}#sk-container-id-1 div.sk-parallel-item::after {content: \"\";width: 100%;border-bottom: 1px solid gray;flex-grow: 1;}#sk-container-id-1 div.sk-label:hover label.sk-toggleable__label {background-color: #d4ebff;}#sk-container-id-1 div.sk-serial::before {content: \"\";position: absolute;border-left: 1px solid gray;box-sizing: border-box;top: 0;bottom: 0;left: 50%;z-index: 0;}#sk-container-id-1 div.sk-serial {display: flex;flex-direction: column;align-items: center;background-color: white;padding-right: 0.2em;padding-left: 0.2em;position: relative;}#sk-container-id-1 div.sk-item {position: relative;z-index: 1;}#sk-container-id-1 div.sk-parallel {display: flex;align-items: stretch;justify-content: center;background-color: white;position: relative;}#sk-container-id-1 div.sk-item::before, #sk-container-id-1 div.sk-parallel-item::before {content: \"\";position: absolute;border-left: 1px solid gray;box-sizing: border-box;top: 0;bottom: 0;left: 50%;z-index: -1;}#sk-container-id-1 div.sk-parallel-item {display: flex;flex-direction: column;z-index: 1;position: relative;background-color: white;}#sk-container-id-1 div.sk-parallel-item:first-child::after {align-self: flex-end;width: 50%;}#sk-container-id-1 div.sk-parallel-item:last-child::after {align-self: flex-start;width: 50%;}#sk-container-id-1 div.sk-parallel-item:only-child::after {width: 0;}#sk-container-id-1 div.sk-dashed-wrapped {border: 1px dashed gray;margin: 0 0.4em 0.5em 0.4em;box-sizing: border-box;padding-bottom: 0.4em;background-color: white;}#sk-container-id-1 div.sk-label label {font-family: monospace;font-weight: bold;display: inline-block;line-height: 1.2em;}#sk-container-id-1 div.sk-label-container {text-align: center;}#sk-container-id-1 div.sk-container {/* jupyter's `normalize.less` sets `[hidden] { display: none; }` but bootstrap.min.css set `[hidden] { display: none !important; }` so we also need the `!important` here to be able to override the default hidden behavior on the sphinx rendered scikit-learn.org. See: https://github.com/scikit-learn/scikit-learn/issues/21755 */display: inline-block !important;position: relative;}#sk-container-id-1 div.sk-text-repr-fallback {display: none;}</style><div id=\"sk-container-id-1\" class=\"sk-top-container\"><div class=\"sk-text-repr-fallback\"><pre>LinearRegression(n_jobs=-1)</pre><b>In a Jupyter environment, please rerun this cell to show the HTML representation or trust the notebook. <br />On GitHub, the HTML representation is unable to render, please try loading this page with nbviewer.org.</b></div><div class=\"sk-container\" hidden><div class=\"sk-item\"><div class=\"sk-estimator sk-toggleable\"><input class=\"sk-toggleable__control sk-hidden--visually\" id=\"sk-estimator-id-1\" type=\"checkbox\" checked><label for=\"sk-estimator-id-1\" class=\"sk-toggleable__label sk-toggleable__label-arrow\">LinearRegression</label><div class=\"sk-toggleable__content\"><pre>LinearRegression(n_jobs=-1)</pre></div></div></div></div></div>"
      ],
      "text/plain": [
       "LinearRegression(n_jobs=-1)"
      ]
     },
     "execution_count": 7,
     "metadata": {},
     "output_type": "execute_result"
    }
   ],
   "source": [
    "lr = LinearRegression(n_jobs=-1)\n",
    "lr.fit(xTrain,yTrain)"
   ]
  },
  {
   "cell_type": "code",
   "execution_count": 8,
   "metadata": {},
   "outputs": [
    {
     "data": {
      "text/plain": [
       "(40, 1)"
      ]
     },
     "execution_count": 8,
     "metadata": {},
     "output_type": "execute_result"
    }
   ],
   "source": [
    "yPred = lr.predict(xTest)\n",
    "yPred.shape"
   ]
  },
  {
   "cell_type": "code",
   "execution_count": 9,
   "metadata": {},
   "outputs": [
    {
     "data": {
      "text/plain": [
       "(array([4.76401181]), array([[1.11165414]]))"
      ]
     },
     "execution_count": 9,
     "metadata": {},
     "output_type": "execute_result"
    }
   ],
   "source": [
    "lr.intercept_, lr.coef_"
   ]
  },
  {
   "cell_type": "code",
   "execution_count": 10,
   "metadata": {},
   "outputs": [
    {
     "data": {
      "text/plain": [
       "-0.23042181896443892"
      ]
     },
     "execution_count": 10,
     "metadata": {},
     "output_type": "execute_result"
    }
   ],
   "source": [
    "r2_score(yTest, yPred)"
   ]
  },
  {
   "cell_type": "code",
   "execution_count": 11,
   "metadata": {},
   "outputs": [
    {
     "ename": "ModuleNotFoundError",
     "evalue": "No module named 'statsmodels'",
     "output_type": "error",
     "traceback": [
      "\u001b[1;31m---------------------------------------------------------------------------\u001b[0m",
      "\u001b[1;31mModuleNotFoundError\u001b[0m                       Traceback (most recent call last)",
      "Cell \u001b[1;32mIn[11], line 1\u001b[0m\n\u001b[1;32m----> 1\u001b[0m \u001b[43mpx\u001b[49m\u001b[38;5;241;43m.\u001b[39;49m\u001b[43mscatter\u001b[49m\u001b[43m(\u001b[49m\u001b[43mx\u001b[49m\u001b[38;5;241;43m=\u001b[39;49m\u001b[43mxTrain\u001b[49m\u001b[38;5;241;43m.\u001b[39;49m\u001b[43mravel\u001b[49m\u001b[43m(\u001b[49m\u001b[43m)\u001b[49m\u001b[43m,\u001b[49m\u001b[43m \u001b[49m\u001b[43my\u001b[49m\u001b[38;5;241;43m=\u001b[39;49m\u001b[43myTrain\u001b[49m\u001b[38;5;241;43m.\u001b[39;49m\u001b[43mravel\u001b[49m\u001b[43m(\u001b[49m\u001b[43m)\u001b[49m\u001b[43m,\u001b[49m\u001b[43m \u001b[49m\u001b[43mtrendline\u001b[49m\u001b[38;5;241;43m=\u001b[39;49m\u001b[38;5;124;43m\"\u001b[39;49m\u001b[38;5;124;43mols\u001b[39;49m\u001b[38;5;124;43m\"\u001b[39;49m\u001b[43m,\u001b[49m\u001b[43m \u001b[49m\u001b[43mtrendline_color_override\u001b[49m\u001b[38;5;241;43m=\u001b[39;49m\u001b[38;5;124;43m\"\u001b[39;49m\u001b[38;5;124;43mred\u001b[39;49m\u001b[38;5;124;43m\"\u001b[39;49m\u001b[43m)\u001b[49m\n",
      "File \u001b[1;32mc:\\Python\\Python311\\Lib\\site-packages\\plotly\\express\\_chart_types.py:66\u001b[0m, in \u001b[0;36mscatter\u001b[1;34m(data_frame, x, y, color, symbol, size, hover_name, hover_data, custom_data, text, facet_row, facet_col, facet_col_wrap, facet_row_spacing, facet_col_spacing, error_x, error_x_minus, error_y, error_y_minus, animation_frame, animation_group, category_orders, labels, orientation, color_discrete_sequence, color_discrete_map, color_continuous_scale, range_color, color_continuous_midpoint, symbol_sequence, symbol_map, opacity, size_max, marginal_x, marginal_y, trendline, trendline_options, trendline_color_override, trendline_scope, log_x, log_y, range_x, range_y, render_mode, title, template, width, height)\u001b[0m\n\u001b[0;32m     12\u001b[0m \u001b[38;5;28;01mdef\u001b[39;00m \u001b[38;5;21mscatter\u001b[39m(\n\u001b[0;32m     13\u001b[0m     data_frame\u001b[38;5;241m=\u001b[39m\u001b[38;5;28;01mNone\u001b[39;00m,\n\u001b[0;32m     14\u001b[0m     x\u001b[38;5;241m=\u001b[39m\u001b[38;5;28;01mNone\u001b[39;00m,\n\u001b[1;32m   (...)\u001b[0m\n\u001b[0;32m     60\u001b[0m     height\u001b[38;5;241m=\u001b[39m\u001b[38;5;28;01mNone\u001b[39;00m,\n\u001b[0;32m     61\u001b[0m ) \u001b[38;5;241m-\u001b[39m\u001b[38;5;241m>\u001b[39m go\u001b[38;5;241m.\u001b[39mFigure:\n\u001b[0;32m     62\u001b[0m \u001b[38;5;250m    \u001b[39m\u001b[38;5;124;03m\"\"\"\u001b[39;00m\n\u001b[0;32m     63\u001b[0m \u001b[38;5;124;03m    In a scatter plot, each row of `data_frame` is represented by a symbol\u001b[39;00m\n\u001b[0;32m     64\u001b[0m \u001b[38;5;124;03m    mark in 2D space.\u001b[39;00m\n\u001b[0;32m     65\u001b[0m \u001b[38;5;124;03m    \"\"\"\u001b[39;00m\n\u001b[1;32m---> 66\u001b[0m     \u001b[38;5;28;01mreturn\u001b[39;00m \u001b[43mmake_figure\u001b[49m\u001b[43m(\u001b[49m\u001b[43margs\u001b[49m\u001b[38;5;241;43m=\u001b[39;49m\u001b[38;5;28;43mlocals\u001b[39;49m\u001b[43m(\u001b[49m\u001b[43m)\u001b[49m\u001b[43m,\u001b[49m\u001b[43m \u001b[49m\u001b[43mconstructor\u001b[49m\u001b[38;5;241;43m=\u001b[39;49m\u001b[43mgo\u001b[49m\u001b[38;5;241;43m.\u001b[39;49m\u001b[43mScatter\u001b[49m\u001b[43m)\u001b[49m\n",
      "File \u001b[1;32mc:\\Python\\Python311\\Lib\\site-packages\\plotly\\express\\_core.py:2253\u001b[0m, in \u001b[0;36mmake_figure\u001b[1;34m(args, constructor, trace_patch, layout_patch)\u001b[0m\n\u001b[0;32m   2250\u001b[0m     \u001b[38;5;28;01melif\u001b[39;00m args[\u001b[38;5;124m\"\u001b[39m\u001b[38;5;124mecdfnorm\u001b[39m\u001b[38;5;124m\"\u001b[39m] \u001b[38;5;241m==\u001b[39m \u001b[38;5;124m\"\u001b[39m\u001b[38;5;124mpercent\u001b[39m\u001b[38;5;124m\"\u001b[39m:\n\u001b[0;32m   2251\u001b[0m         group[var] \u001b[38;5;241m=\u001b[39m \u001b[38;5;241m100.0\u001b[39m \u001b[38;5;241m*\u001b[39m group[var] \u001b[38;5;241m/\u001b[39m group_sum\n\u001b[1;32m-> 2253\u001b[0m patch, fit_results \u001b[38;5;241m=\u001b[39m \u001b[43mmake_trace_kwargs\u001b[49m\u001b[43m(\u001b[49m\n\u001b[0;32m   2254\u001b[0m \u001b[43m    \u001b[49m\u001b[43margs\u001b[49m\u001b[43m,\u001b[49m\u001b[43m \u001b[49m\u001b[43mtrace_spec\u001b[49m\u001b[43m,\u001b[49m\u001b[43m \u001b[49m\u001b[43mgroup\u001b[49m\u001b[43m,\u001b[49m\u001b[43m \u001b[49m\u001b[43mmapping_labels\u001b[49m\u001b[38;5;241;43m.\u001b[39;49m\u001b[43mcopy\u001b[49m\u001b[43m(\u001b[49m\u001b[43m)\u001b[49m\u001b[43m,\u001b[49m\u001b[43m \u001b[49m\u001b[43msizeref\u001b[49m\n\u001b[0;32m   2255\u001b[0m \u001b[43m\u001b[49m\u001b[43m)\u001b[49m\n\u001b[0;32m   2256\u001b[0m trace\u001b[38;5;241m.\u001b[39mupdate(patch)\n\u001b[0;32m   2257\u001b[0m \u001b[38;5;28;01mif\u001b[39;00m fit_results \u001b[38;5;129;01mis\u001b[39;00m \u001b[38;5;129;01mnot\u001b[39;00m \u001b[38;5;28;01mNone\u001b[39;00m:\n",
      "File \u001b[1;32mc:\\Python\\Python311\\Lib\\site-packages\\plotly\\express\\_core.py:359\u001b[0m, in \u001b[0;36mmake_trace_kwargs\u001b[1;34m(args, trace_spec, trace_data, mapping_labels, sizeref)\u001b[0m\n\u001b[0;32m    357\u001b[0m trace_patch[\u001b[38;5;124m\"\u001b[39m\u001b[38;5;124mx\u001b[39m\u001b[38;5;124m\"\u001b[39m] \u001b[38;5;241m=\u001b[39m sorted_trace_data[args[\u001b[38;5;124m\"\u001b[39m\u001b[38;5;124mx\u001b[39m\u001b[38;5;124m\"\u001b[39m]][non_missing]\n\u001b[0;32m    358\u001b[0m trendline_function \u001b[38;5;241m=\u001b[39m trendline_functions[attr_value]\n\u001b[1;32m--> 359\u001b[0m y_out, hover_header, fit_results \u001b[38;5;241m=\u001b[39m \u001b[43mtrendline_function\u001b[49m\u001b[43m(\u001b[49m\n\u001b[0;32m    360\u001b[0m \u001b[43m    \u001b[49m\u001b[43margs\u001b[49m\u001b[43m[\u001b[49m\u001b[38;5;124;43m\"\u001b[39;49m\u001b[38;5;124;43mtrendline_options\u001b[39;49m\u001b[38;5;124;43m\"\u001b[39;49m\u001b[43m]\u001b[49m\u001b[43m,\u001b[49m\n\u001b[0;32m    361\u001b[0m \u001b[43m    \u001b[49m\u001b[43msorted_trace_data\u001b[49m\u001b[43m[\u001b[49m\u001b[43margs\u001b[49m\u001b[43m[\u001b[49m\u001b[38;5;124;43m\"\u001b[39;49m\u001b[38;5;124;43mx\u001b[39;49m\u001b[38;5;124;43m\"\u001b[39;49m\u001b[43m]\u001b[49m\u001b[43m]\u001b[49m\u001b[43m,\u001b[49m\n\u001b[0;32m    362\u001b[0m \u001b[43m    \u001b[49m\u001b[43mx\u001b[49m\u001b[43m,\u001b[49m\n\u001b[0;32m    363\u001b[0m \u001b[43m    \u001b[49m\u001b[43my\u001b[49m\u001b[43m,\u001b[49m\n\u001b[0;32m    364\u001b[0m \u001b[43m    \u001b[49m\u001b[43margs\u001b[49m\u001b[43m[\u001b[49m\u001b[38;5;124;43m\"\u001b[39;49m\u001b[38;5;124;43mx\u001b[39;49m\u001b[38;5;124;43m\"\u001b[39;49m\u001b[43m]\u001b[49m\u001b[43m,\u001b[49m\n\u001b[0;32m    365\u001b[0m \u001b[43m    \u001b[49m\u001b[43margs\u001b[49m\u001b[43m[\u001b[49m\u001b[38;5;124;43m\"\u001b[39;49m\u001b[38;5;124;43my\u001b[39;49m\u001b[38;5;124;43m\"\u001b[39;49m\u001b[43m]\u001b[49m\u001b[43m,\u001b[49m\n\u001b[0;32m    366\u001b[0m \u001b[43m    \u001b[49m\u001b[43mnon_missing\u001b[49m\u001b[43m,\u001b[49m\n\u001b[0;32m    367\u001b[0m \u001b[43m\u001b[49m\u001b[43m)\u001b[49m\n\u001b[0;32m    368\u001b[0m \u001b[38;5;28;01massert\u001b[39;00m \u001b[38;5;28mlen\u001b[39m(y_out) \u001b[38;5;241m==\u001b[39m \u001b[38;5;28mlen\u001b[39m(\n\u001b[0;32m    369\u001b[0m     trace_patch[\u001b[38;5;124m\"\u001b[39m\u001b[38;5;124mx\u001b[39m\u001b[38;5;124m\"\u001b[39m]\n\u001b[0;32m    370\u001b[0m ), \u001b[38;5;124m\"\u001b[39m\u001b[38;5;124mmissing-data-handling failure in trendline code\u001b[39m\u001b[38;5;124m\"\u001b[39m\n\u001b[0;32m    371\u001b[0m trace_patch[\u001b[38;5;124m\"\u001b[39m\u001b[38;5;124my\u001b[39m\u001b[38;5;124m\"\u001b[39m] \u001b[38;5;241m=\u001b[39m y_out\n",
      "File \u001b[1;32mc:\\Python\\Python311\\Lib\\site-packages\\plotly\\express\\trendline_functions\\__init__.py:43\u001b[0m, in \u001b[0;36mols\u001b[1;34m(trendline_options, x_raw, x, y, x_label, y_label, non_missing)\u001b[0m\n\u001b[0;32m     37\u001b[0m     \u001b[38;5;28;01mif\u001b[39;00m k \u001b[38;5;129;01mnot\u001b[39;00m \u001b[38;5;129;01min\u001b[39;00m valid_options:\n\u001b[0;32m     38\u001b[0m         \u001b[38;5;28;01mraise\u001b[39;00m \u001b[38;5;167;01mValueError\u001b[39;00m(\n\u001b[0;32m     39\u001b[0m             \u001b[38;5;124m\"\u001b[39m\u001b[38;5;124mOLS trendline_options keys must be one of [\u001b[39m\u001b[38;5;132;01m%s\u001b[39;00m\u001b[38;5;124m] but got \u001b[39m\u001b[38;5;124m'\u001b[39m\u001b[38;5;132;01m%s\u001b[39;00m\u001b[38;5;124m'\u001b[39m\u001b[38;5;124m\"\u001b[39m\n\u001b[0;32m     40\u001b[0m             \u001b[38;5;241m%\u001b[39m (\u001b[38;5;124m\"\u001b[39m\u001b[38;5;124m, \u001b[39m\u001b[38;5;124m\"\u001b[39m\u001b[38;5;241m.\u001b[39mjoin(valid_options), k)\n\u001b[0;32m     41\u001b[0m         )\n\u001b[1;32m---> 43\u001b[0m \u001b[38;5;28;01mimport\u001b[39;00m \u001b[38;5;21;01mstatsmodels\u001b[39;00m\u001b[38;5;21;01m.\u001b[39;00m\u001b[38;5;21;01mapi\u001b[39;00m \u001b[38;5;28;01mas\u001b[39;00m \u001b[38;5;21;01msm\u001b[39;00m\n\u001b[0;32m     45\u001b[0m add_constant \u001b[38;5;241m=\u001b[39m trendline_options\u001b[38;5;241m.\u001b[39mget(\u001b[38;5;124m\"\u001b[39m\u001b[38;5;124madd_constant\u001b[39m\u001b[38;5;124m\"\u001b[39m, \u001b[38;5;28;01mTrue\u001b[39;00m)\n\u001b[0;32m     46\u001b[0m log_x \u001b[38;5;241m=\u001b[39m trendline_options\u001b[38;5;241m.\u001b[39mget(\u001b[38;5;124m\"\u001b[39m\u001b[38;5;124mlog_x\u001b[39m\u001b[38;5;124m\"\u001b[39m, \u001b[38;5;28;01mFalse\u001b[39;00m)\n",
      "\u001b[1;31mModuleNotFoundError\u001b[0m: No module named 'statsmodels'"
     ]
    }
   ],
   "source": [
    "px.scatter(x=xTrain.ravel(), y=yTrain.ravel(), trendline=\"ols\", trendline_color_override=\"red\")"
   ]
  },
  {
   "cell_type": "code",
   "execution_count": null,
   "metadata": {},
   "outputs": [],
   "source": [
    "# Applying Polynomial Regression \n",
    "# For degree = 2\n",
    "poly =PolynomialFeatures(degree=2, include_bias=True)"
   ]
  },
  {
   "cell_type": "code",
   "execution_count": null,
   "metadata": {},
   "outputs": [],
   "source": [
    "xTrainTrans = poly.fit_transform(xTrain)\n",
    "xTestTrans = poly.transform(np.sort(xTest, axis=0))"
   ]
  },
  {
   "cell_type": "code",
   "execution_count": null,
   "metadata": {},
   "outputs": [
    {
     "name": "stdout",
     "output_type": "stream",
     "text": [
      "[2.58670405]\n",
      "[1.         2.58670405 6.69103786]\n"
     ]
    }
   ],
   "source": [
    "print(xTrain[0])\n",
    "print(xTrainTrans[0])"
   ]
  },
  {
   "cell_type": "code",
   "execution_count": null,
   "metadata": {},
   "outputs": [],
   "source": [
    "lr = LinearRegression(n_jobs=-1)"
   ]
  },
  {
   "cell_type": "code",
   "execution_count": null,
   "metadata": {},
   "outputs": [
    {
     "data": {
      "text/html": [
       "<style>#sk-container-id-10 {color: black;}#sk-container-id-10 pre{padding: 0;}#sk-container-id-10 div.sk-toggleable {background-color: white;}#sk-container-id-10 label.sk-toggleable__label {cursor: pointer;display: block;width: 100%;margin-bottom: 0;padding: 0.3em;box-sizing: border-box;text-align: center;}#sk-container-id-10 label.sk-toggleable__label-arrow:before {content: \"▸\";float: left;margin-right: 0.25em;color: #696969;}#sk-container-id-10 label.sk-toggleable__label-arrow:hover:before {color: black;}#sk-container-id-10 div.sk-estimator:hover label.sk-toggleable__label-arrow:before {color: black;}#sk-container-id-10 div.sk-toggleable__content {max-height: 0;max-width: 0;overflow: hidden;text-align: left;background-color: #f0f8ff;}#sk-container-id-10 div.sk-toggleable__content pre {margin: 0.2em;color: black;border-radius: 0.25em;background-color: #f0f8ff;}#sk-container-id-10 input.sk-toggleable__control:checked~div.sk-toggleable__content {max-height: 200px;max-width: 100%;overflow: auto;}#sk-container-id-10 input.sk-toggleable__control:checked~label.sk-toggleable__label-arrow:before {content: \"▾\";}#sk-container-id-10 div.sk-estimator input.sk-toggleable__control:checked~label.sk-toggleable__label {background-color: #d4ebff;}#sk-container-id-10 div.sk-label input.sk-toggleable__control:checked~label.sk-toggleable__label {background-color: #d4ebff;}#sk-container-id-10 input.sk-hidden--visually {border: 0;clip: rect(1px 1px 1px 1px);clip: rect(1px, 1px, 1px, 1px);height: 1px;margin: -1px;overflow: hidden;padding: 0;position: absolute;width: 1px;}#sk-container-id-10 div.sk-estimator {font-family: monospace;background-color: #f0f8ff;border: 1px dotted black;border-radius: 0.25em;box-sizing: border-box;margin-bottom: 0.5em;}#sk-container-id-10 div.sk-estimator:hover {background-color: #d4ebff;}#sk-container-id-10 div.sk-parallel-item::after {content: \"\";width: 100%;border-bottom: 1px solid gray;flex-grow: 1;}#sk-container-id-10 div.sk-label:hover label.sk-toggleable__label {background-color: #d4ebff;}#sk-container-id-10 div.sk-serial::before {content: \"\";position: absolute;border-left: 1px solid gray;box-sizing: border-box;top: 0;bottom: 0;left: 50%;z-index: 0;}#sk-container-id-10 div.sk-serial {display: flex;flex-direction: column;align-items: center;background-color: white;padding-right: 0.2em;padding-left: 0.2em;position: relative;}#sk-container-id-10 div.sk-item {position: relative;z-index: 1;}#sk-container-id-10 div.sk-parallel {display: flex;align-items: stretch;justify-content: center;background-color: white;position: relative;}#sk-container-id-10 div.sk-item::before, #sk-container-id-10 div.sk-parallel-item::before {content: \"\";position: absolute;border-left: 1px solid gray;box-sizing: border-box;top: 0;bottom: 0;left: 50%;z-index: -1;}#sk-container-id-10 div.sk-parallel-item {display: flex;flex-direction: column;z-index: 1;position: relative;background-color: white;}#sk-container-id-10 div.sk-parallel-item:first-child::after {align-self: flex-end;width: 50%;}#sk-container-id-10 div.sk-parallel-item:last-child::after {align-self: flex-start;width: 50%;}#sk-container-id-10 div.sk-parallel-item:only-child::after {width: 0;}#sk-container-id-10 div.sk-dashed-wrapped {border: 1px dashed gray;margin: 0 0.4em 0.5em 0.4em;box-sizing: border-box;padding-bottom: 0.4em;background-color: white;}#sk-container-id-10 div.sk-label label {font-family: monospace;font-weight: bold;display: inline-block;line-height: 1.2em;}#sk-container-id-10 div.sk-label-container {text-align: center;}#sk-container-id-10 div.sk-container {/* jupyter's `normalize.less` sets `[hidden] { display: none; }` but bootstrap.min.css set `[hidden] { display: none !important; }` so we also need the `!important` here to be able to override the default hidden behavior on the sphinx rendered scikit-learn.org. See: https://github.com/scikit-learn/scikit-learn/issues/21755 */display: inline-block !important;position: relative;}#sk-container-id-10 div.sk-text-repr-fallback {display: none;}</style><div id=\"sk-container-id-10\" class=\"sk-top-container\"><div class=\"sk-text-repr-fallback\"><pre>LinearRegression()</pre><b>In a Jupyter environment, please rerun this cell to show the HTML representation or trust the notebook. <br />On GitHub, the HTML representation is unable to render, please try loading this page with nbviewer.org.</b></div><div class=\"sk-container\" hidden><div class=\"sk-item\"><div class=\"sk-estimator sk-toggleable\"><input class=\"sk-toggleable__control sk-hidden--visually\" id=\"sk-estimator-id-10\" type=\"checkbox\" checked><label for=\"sk-estimator-id-10\" class=\"sk-toggleable__label sk-toggleable__label-arrow\">LinearRegression</label><div class=\"sk-toggleable__content\"><pre>LinearRegression()</pre></div></div></div></div></div>"
      ],
      "text/plain": [
       "LinearRegression()"
      ]
     },
     "execution_count": 97,
     "metadata": {},
     "output_type": "execute_result"
    }
   ],
   "source": [
    "lr.fit(xTrainTrans,yTrain)"
   ]
  },
  {
   "cell_type": "code",
   "execution_count": null,
   "metadata": {},
   "outputs": [],
   "source": [
    "yPred = lr.predict(xTestTrans)"
   ]
  },
  {
   "cell_type": "code",
   "execution_count": null,
   "metadata": {},
   "outputs": [
    {
     "data": {
      "text/plain": [
       "-1.2168516410819783"
      ]
     },
     "execution_count": 99,
     "metadata": {},
     "output_type": "execute_result"
    }
   ],
   "source": [
    "r2_score(yTest,yPred)"
   ]
  },
  {
   "cell_type": "code",
   "execution_count": null,
   "metadata": {},
   "outputs": [
    {
     "data": {
      "text/plain": [
       "(array([2.51092067]), array([[0.        , 0.87400417, 0.79915018]]))"
      ]
     },
     "execution_count": 100,
     "metadata": {},
     "output_type": "execute_result"
    }
   ],
   "source": [
    "lr.intercept_, lr.coef_"
   ]
  },
  {
   "cell_type": "code",
   "execution_count": null,
   "metadata": {},
   "outputs": [
    {
     "data": {
      "application/vnd.plotly.v1+json": {
       "config": {
        "plotlyServerURL": "https://plot.ly"
       },
       "data": [
        {
         "hovertemplate": "x=%{x}<br>y=%{y}<extra></extra>",
         "legendgroup": "",
         "marker": {
          "color": "#636efa",
          "symbol": "circle"
         },
         "mode": "markers",
         "name": "",
         "orientation": "v",
         "showlegend": false,
         "type": "scatter",
         "x": [
          2.5867040531947163,
          1.995441838976011,
          -0.5549367215030836,
          -0.4469317086861082,
          1.2733101081893006,
          0.32475489324212736,
          2.9769441308048945,
          -2.655355420186897,
          2.3624203249180953,
          -2.3235847735326156,
          -1.2530374593818356,
          -2.183068804149171,
          1.7835530349339965,
          -1.4680765718458468,
          0.821288096106767,
          2.308117481052573,
          1.0504644991757086,
          -0.406682780186884,
          -1.8648550525852083,
          -0.46356730864515416,
          -1.2029377289652001,
          -1.1612335706749106,
          -1.0308491797049442,
          -0.25418053472467683,
          -0.4535171523559103,
          2.5659493751075413,
          -0.8185753811970735,
          -2.2545038594248945,
          0.12187022660342617,
          -0.6743882391510003,
          2.6368516204761363,
          -1.8145535263430346,
          0.6142567382954729,
          -2.2339632222759764,
          -2.2376263818371758,
          0.9425424365712161,
          2.7674413200045436,
          -1.6732780672805503,
          1.1665366843987082,
          -2.4259689231311983,
          -0.5819637401724895,
          1.3357758217630114,
          2.066245248566771,
          -1.1680111629014078,
          2.786782475742415,
          -1.8970409565726776,
          -1.7130233841882883,
          -2.682780142910035,
          -1.9685199887104552,
          1.401309562752016,
          -2.458903670528457,
          -0.8213364666446461,
          -1.4925291979764874,
          1.3722020811962334,
          -0.6652158764733915,
          2.6566724861201276,
          0.8273856340035284,
          2.7804396315880844,
          2.1840305123638943,
          1.7733370014079552,
          -2.0918616471449205,
          2.896351813015653,
          -0.4929011713031084,
          -2.342177423611422,
          1.9358676244347457,
          1.3332583164090153,
          2.312141774581306,
          1.777542782283886,
          2.7406608192169877,
          -2.2036705999945183,
          2.036834661657754,
          0.4372419486774568,
          -2.5217795079491436,
          -0.9225596400678278,
          1.563787974891273,
          -0.8617279526820507,
          -2.224178865482645,
          -0.8597297155020236,
          -0.6011639598431562,
          -2.880834385809401,
          0.07334344619322053,
          0.023777172631804788,
          1.5040343973683648,
          2.3763431375714523,
          1.3328880592581989,
          -2.1307199639814005,
          2.279280687614685,
          -1.935912199073181,
          -1.6182672641157336,
          1.904385530149061,
          1.5650871580022452,
          -1.681039046702514,
          0.4970115305702336,
          -1.7920031640189713,
          -0.35773433834585777,
          2.865315743819872,
          1.2699917492440678,
          -2.0959602706424336,
          -0.3113333204831088,
          -1.0806418901668042,
          -1.1686412941358066,
          -0.38671493543601443,
          -0.9982830800330564,
          -2.5928616068207417,
          2.1066574738909694,
          -0.43460646514446744,
          0.7817377595941801,
          -0.7522992521664613,
          0.8727861271582844,
          0.46441088065129055,
          -1.519064668755585,
          -2.0016995618342324,
          -1.7581060630238372,
          2.2499778538444355,
          0.7207574014030333,
          1.246736129355246,
          1.04585376701184,
          -0.13059422609624116,
          -2.9582751968754564,
          0.7019535461268349,
          0.9740414119262466,
          2.1683970471301324,
          2.9540353970750166,
          -2.681246206503423,
          -0.9028327113556953,
          -1.5258444522991415,
          2.163273310512757,
          -0.6774353197257525,
          -2.54417911213325,
          1.1654007700480582,
          2.2792259290189474,
          2.2605769201787123,
          -2.397017414280138,
          2.97869023202004,
          -2.631432965992988,
          -1.2871722095631744,
          -2.624934030387556,
          1.265938906374723,
          0.854401563560355,
          1.5726536702288172,
          2.8386593954304296,
          2.810124252690903,
          -1.933006173765573,
          0.7326014620523509,
          -2.870176647629438,
          2.998741792461466,
          -0.233918876105343,
          2.008368152763661,
          2.3054798996979873,
          -1.5651038279682132,
          0.6661882053809358,
          0.982368665438659,
          -2.342919762329636,
          0.0006753741470890695,
          2.3138655373422514,
          2.7199089139290606,
          -2.690174003985426,
          1.082963187274581,
          -0.8508345508220443,
          2.8238397324160216
         ],
         "xaxis": "x",
         "y": [
          10.471671693999097,
          7.535501137731239,
          1.7750982379692406,
          2.437475545954656,
          5.073950384641463,
          2.955451269467079,
          11.92192272965688,
          5.5323061035210666,
          9.189643739798505,
          4.352493154722158,
          2.2507866883392946,
          4.0770022094288105,
          6.272756568901052,
          2.4335758502056155,
          3.9193258705769036,
          8.594639696131429,
          4.437485538046636,
          2.031035575053691,
          3.2515753132613248,
          2.748302233245262,
          2.800872605467703,
          2.5927570739442682,
          2.6754327418603707,
          2.1550963987056315,
          2.7285364898157014,
          10.488478475225246,
          1.8141453576201134,
          4.5937452696588394,
          2.576883518064842,
          2.731722638466371,
          9.971610368533753,
          3.9046170685304835,
          3.444821805718395,
          4.228152689374249,
          4.114104908605192,
          3.9459205967379356,
          11.20726484841414,
          3.419146033135232,
          4.450887152722725,
          4.873040340487325,
          2.645134232823369,
          4.961012237518956,
          7.53271018555951,
          2.7168879167050846,
          10.862354363606729,
          3.354200383779834,
          3.14696227532121,
          6.31135640210839,
          3.8458673744031264,
          5.1483423719557,
          5.345443920130354,
          1.860176775139113,
          3.135751648566683,
          5.328102038534814,
          2.381264583824249,
          10.46124976949322,
          3.7062324593665235,
          11.687010360570227,
          8.299308642432807,
          6.375216924454609,
          4.404036766775754,
          11.780398285688296,
          2.1138238287026856,
          5.0623470067323035,
          7.603603849848415,
          5.579001993721273,
          9.058064154755485,
          6.917159601474804,
          11.151416220445105,
          4.8116849486066675,
          7.4313854433610365,
          3.4522545264471796,
          5.356611218188236,
          1.9416909888073661,
          5.537879697724808,
          2.316373508372204,
          4.241557678410764,
          2.3631589496485415,
          1.8838218851518096,
          6.4328416064607605,
          2.6103907016752657,
          2.3033802141942137,
          5.389960580175359,
          9.310711976450527,
          4.718783934102716,
          4.4882568361701685,
          8.887756195388423,
          3.574449189070026,
          3.073034674925825,
          7.48648689223698,
          5.456188818251374,
          3.569763950905811,
          2.8273048999130035,
          3.7706299283609237,
          1.9963387692454169,
          11.169939895630796,
          4.852214934850757,
          3.849815875417651,
          2.455634499848031,
          2.613471982189023,
          2.795874770960194,
          2.232939823342516,
          2.0492990422228834,
          5.595076567773241,
          7.573950369257583,
          2.3652787717700714,
          3.9338061442980377,
          2.684248433117133,
          3.81011489630688,
          3.326424686317388,
          3.399469127967332,
          3.9938103361904105,
          3.7101991080769494,
          8.117782990099101,
          3.8628325937283776,
          5.2976314216038105,
          4.242225300949851,
          2.502948941592808,
          7.154295560688732,
          3.7772142450123494,
          4.064215513048122,
          7.957988870596746,
          12.553447456943532,
          6.191119683121323,
          2.650089323751426,
          2.8118269398040936,
          8.105621962604456,
          2.4766801899364013,
          5.154513149813974,
          4.581177050247479,
          8.275425095174574,
          8.284918452014558,
          5.412595547005633,
          12.675273534930541,
          5.961503018216006,
          3.1531640765312794,
          5.515736077547588,
          4.821192004806522,
          4.248846267969783,
          5.690804160649518,
          11.02478865027822,
          11.211542152821131,
          3.873761900337662,
          3.098341871628816,
          6.567325772894263,
          12.332591164411507,
          1.9769685644800288,
          7.65888687552977,
          8.431918009993668,
          3.4244800376495617,
          3.5330652074121636,
          4.071116501323772,
          4.849925695744529,
          2.7786500985302487,
          9.319543423971272,
          10.504995399915094,
          6.278927575124346,
          4.064349723420156,
          2.45125361566014,
          11.226269898612445
         ],
         "yaxis": "y"
        },
        {
         "mode": "markers",
         "type": "scatter",
         "x": [
          -2.4701916393382115,
          -0.07900532632773505,
          1.6198422036266464,
          -1.93849938706866,
          1.3805855429388423,
          -0.9423041396935279,
          0.4280971813031851,
          -1.8526259580958913,
          -0.8963733149012278,
          2.286014232941982,
          -1.1120074079381237,
          0.44440481089135364,
          2.1789864754721835,
          -1.4450049391636262,
          2.699309003710855,
          -2.442578489604527,
          0.9134835711783089,
          -0.30200745295242815,
          -0.2656569932609312,
          -1.9398520144783986,
          1.6638244409864908,
          -0.7674264756286036,
          -2.238948354230897,
          0.27324076507303907,
          2.689073263177594,
          -0.7672233138160331,
          -2.6340385900871084,
          1.0598203444220022,
          2.8469376637369077,
          -1.5864362801675593,
          -1.4543283586793392,
          0.35133955461725197,
          -2.453407824591771,
          -0.9306130044440524,
          -2.0050198577089464,
          -1.3591950044277177,
          -2.7848549515576932,
          -2.3847418593591874,
          0.14337478874020526,
          -0.006978659578721569
         ],
         "y": [
          5.444225059009323,
          2.1737894079573894,
          6.260513644179275,
          3.2852992165148858,
          5.369369682292353,
          2.747711167880392,
          2.6876386375121353,
          3.2869584047825033,
          1.9947939833615198,
          8.543483141868347,
          2.511652222941875,
          3.2799428867424303,
          8.603101214403061,
          2.9647375949268806,
          10.532599150513228,
          5.093161759882066,
          3.4922440644402775,
          2.433476608144968,
          2.0071303652148216,
          3.5070859457272157,
          6.569646444969611,
          2.105285053545833,
          4.945623786255351,
          3.2926729555092895,
          11.028780979066688,
          2.650077898041784,
          5.616309471632232,
          3.9083814266365335,
          12.006186352186514,
          2.7152272170989056,
          3.0572297532233605,
          2.787880584979748,
          5.104726808215436,
          1.8618365424938998,
          3.7790659125032118,
          3.2286091398302577,
          6.523501933012714,
          5.096791915871205,
          2.333124582008991,
          2.385281906256192
         ]
        },
        {
         "mode": "lines",
         "type": "scatter",
         "x": [
          -2.7848549515576932,
          -2.6340385900871084,
          -2.4701916393382115,
          -2.453407824591771,
          -2.442578489604527,
          -2.3847418593591874,
          -2.238948354230897,
          -2.0050198577089464,
          -1.9398520144783986,
          -1.93849938706866,
          -1.8526259580958913,
          -1.5864362801675593,
          -1.4543283586793392,
          -1.4450049391636262,
          -1.3591950044277177,
          -1.1120074079381237,
          -0.9423041396935279,
          -0.9306130044440524,
          -0.8963733149012278,
          -0.7674264756286036,
          -0.7672233138160331,
          -0.30200745295242815,
          -0.2656569932609312,
          -0.07900532632773505,
          -0.006978659578721569,
          0.14337478874020526,
          0.27324076507303907,
          0.35133955461725197,
          0.4280971813031851,
          0.44440481089135364,
          0.9134835711783089,
          1.0598203444220022,
          1.3805855429388423,
          1.6198422036266464,
          1.6638244409864908,
          2.1789864754721835,
          2.286014232941982,
          2.689073263177594,
          2.699309003710855,
          2.8469376637369077
         ],
         "y": [
          6.274688764038373,
          5.753391172273278,
          5.228254761600438,
          5.1768846873547325,
          5.143978408475857,
          4.9714083781859495,
          4.560122177029077,
          3.971192268570274,
          3.8227046736568457,
          3.81969456227192,
          3.634579416964093,
          3.1356539753097303,
          2.9300909548036467,
          2.9166372740160904,
          2.7993374352205422,
          2.527219073382199,
          2.3969379994276347,
          2.38965748649179,
          2.3695919236224383,
          2.3108409425123386,
          2.3107693459579046,
          2.319854182391805,
          2.335134281006867,
          2.4468578504041734,
          2.5048602089177967,
          2.6526584251139567,
          2.8093991999902794,
          2.9166395880760567,
          3.0315374023937154,
          3.05716099850417,
          3.9761617714748545,
          4.334828863367738,
          5.2407515695923195,
          6.023550683771498,
          6.17740701340783,
          8.209714644060954,
          8.685154448511826,
          10.63992876530883,
          10.692951240265202,
          11.476311453870933
         ]
        }
       ],
       "layout": {
        "legend": {
         "tracegroupgap": 0
        },
        "margin": {
         "t": 60
        },
        "template": {
         "data": {
          "bar": [
           {
            "error_x": {
             "color": "#2a3f5f"
            },
            "error_y": {
             "color": "#2a3f5f"
            },
            "marker": {
             "line": {
              "color": "#E5ECF6",
              "width": 0.5
             },
             "pattern": {
              "fillmode": "overlay",
              "size": 10,
              "solidity": 0.2
             }
            },
            "type": "bar"
           }
          ],
          "barpolar": [
           {
            "marker": {
             "line": {
              "color": "#E5ECF6",
              "width": 0.5
             },
             "pattern": {
              "fillmode": "overlay",
              "size": 10,
              "solidity": 0.2
             }
            },
            "type": "barpolar"
           }
          ],
          "carpet": [
           {
            "aaxis": {
             "endlinecolor": "#2a3f5f",
             "gridcolor": "white",
             "linecolor": "white",
             "minorgridcolor": "white",
             "startlinecolor": "#2a3f5f"
            },
            "baxis": {
             "endlinecolor": "#2a3f5f",
             "gridcolor": "white",
             "linecolor": "white",
             "minorgridcolor": "white",
             "startlinecolor": "#2a3f5f"
            },
            "type": "carpet"
           }
          ],
          "choropleth": [
           {
            "colorbar": {
             "outlinewidth": 0,
             "ticks": ""
            },
            "type": "choropleth"
           }
          ],
          "contour": [
           {
            "colorbar": {
             "outlinewidth": 0,
             "ticks": ""
            },
            "colorscale": [
             [
              0,
              "#0d0887"
             ],
             [
              0.1111111111111111,
              "#46039f"
             ],
             [
              0.2222222222222222,
              "#7201a8"
             ],
             [
              0.3333333333333333,
              "#9c179e"
             ],
             [
              0.4444444444444444,
              "#bd3786"
             ],
             [
              0.5555555555555556,
              "#d8576b"
             ],
             [
              0.6666666666666666,
              "#ed7953"
             ],
             [
              0.7777777777777778,
              "#fb9f3a"
             ],
             [
              0.8888888888888888,
              "#fdca26"
             ],
             [
              1,
              "#f0f921"
             ]
            ],
            "type": "contour"
           }
          ],
          "contourcarpet": [
           {
            "colorbar": {
             "outlinewidth": 0,
             "ticks": ""
            },
            "type": "contourcarpet"
           }
          ],
          "heatmap": [
           {
            "colorbar": {
             "outlinewidth": 0,
             "ticks": ""
            },
            "colorscale": [
             [
              0,
              "#0d0887"
             ],
             [
              0.1111111111111111,
              "#46039f"
             ],
             [
              0.2222222222222222,
              "#7201a8"
             ],
             [
              0.3333333333333333,
              "#9c179e"
             ],
             [
              0.4444444444444444,
              "#bd3786"
             ],
             [
              0.5555555555555556,
              "#d8576b"
             ],
             [
              0.6666666666666666,
              "#ed7953"
             ],
             [
              0.7777777777777778,
              "#fb9f3a"
             ],
             [
              0.8888888888888888,
              "#fdca26"
             ],
             [
              1,
              "#f0f921"
             ]
            ],
            "type": "heatmap"
           }
          ],
          "heatmapgl": [
           {
            "colorbar": {
             "outlinewidth": 0,
             "ticks": ""
            },
            "colorscale": [
             [
              0,
              "#0d0887"
             ],
             [
              0.1111111111111111,
              "#46039f"
             ],
             [
              0.2222222222222222,
              "#7201a8"
             ],
             [
              0.3333333333333333,
              "#9c179e"
             ],
             [
              0.4444444444444444,
              "#bd3786"
             ],
             [
              0.5555555555555556,
              "#d8576b"
             ],
             [
              0.6666666666666666,
              "#ed7953"
             ],
             [
              0.7777777777777778,
              "#fb9f3a"
             ],
             [
              0.8888888888888888,
              "#fdca26"
             ],
             [
              1,
              "#f0f921"
             ]
            ],
            "type": "heatmapgl"
           }
          ],
          "histogram": [
           {
            "marker": {
             "pattern": {
              "fillmode": "overlay",
              "size": 10,
              "solidity": 0.2
             }
            },
            "type": "histogram"
           }
          ],
          "histogram2d": [
           {
            "colorbar": {
             "outlinewidth": 0,
             "ticks": ""
            },
            "colorscale": [
             [
              0,
              "#0d0887"
             ],
             [
              0.1111111111111111,
              "#46039f"
             ],
             [
              0.2222222222222222,
              "#7201a8"
             ],
             [
              0.3333333333333333,
              "#9c179e"
             ],
             [
              0.4444444444444444,
              "#bd3786"
             ],
             [
              0.5555555555555556,
              "#d8576b"
             ],
             [
              0.6666666666666666,
              "#ed7953"
             ],
             [
              0.7777777777777778,
              "#fb9f3a"
             ],
             [
              0.8888888888888888,
              "#fdca26"
             ],
             [
              1,
              "#f0f921"
             ]
            ],
            "type": "histogram2d"
           }
          ],
          "histogram2dcontour": [
           {
            "colorbar": {
             "outlinewidth": 0,
             "ticks": ""
            },
            "colorscale": [
             [
              0,
              "#0d0887"
             ],
             [
              0.1111111111111111,
              "#46039f"
             ],
             [
              0.2222222222222222,
              "#7201a8"
             ],
             [
              0.3333333333333333,
              "#9c179e"
             ],
             [
              0.4444444444444444,
              "#bd3786"
             ],
             [
              0.5555555555555556,
              "#d8576b"
             ],
             [
              0.6666666666666666,
              "#ed7953"
             ],
             [
              0.7777777777777778,
              "#fb9f3a"
             ],
             [
              0.8888888888888888,
              "#fdca26"
             ],
             [
              1,
              "#f0f921"
             ]
            ],
            "type": "histogram2dcontour"
           }
          ],
          "mesh3d": [
           {
            "colorbar": {
             "outlinewidth": 0,
             "ticks": ""
            },
            "type": "mesh3d"
           }
          ],
          "parcoords": [
           {
            "line": {
             "colorbar": {
              "outlinewidth": 0,
              "ticks": ""
             }
            },
            "type": "parcoords"
           }
          ],
          "pie": [
           {
            "automargin": true,
            "type": "pie"
           }
          ],
          "scatter": [
           {
            "fillpattern": {
             "fillmode": "overlay",
             "size": 10,
             "solidity": 0.2
            },
            "type": "scatter"
           }
          ],
          "scatter3d": [
           {
            "line": {
             "colorbar": {
              "outlinewidth": 0,
              "ticks": ""
             }
            },
            "marker": {
             "colorbar": {
              "outlinewidth": 0,
              "ticks": ""
             }
            },
            "type": "scatter3d"
           }
          ],
          "scattercarpet": [
           {
            "marker": {
             "colorbar": {
              "outlinewidth": 0,
              "ticks": ""
             }
            },
            "type": "scattercarpet"
           }
          ],
          "scattergeo": [
           {
            "marker": {
             "colorbar": {
              "outlinewidth": 0,
              "ticks": ""
             }
            },
            "type": "scattergeo"
           }
          ],
          "scattergl": [
           {
            "marker": {
             "colorbar": {
              "outlinewidth": 0,
              "ticks": ""
             }
            },
            "type": "scattergl"
           }
          ],
          "scattermapbox": [
           {
            "marker": {
             "colorbar": {
              "outlinewidth": 0,
              "ticks": ""
             }
            },
            "type": "scattermapbox"
           }
          ],
          "scatterpolar": [
           {
            "marker": {
             "colorbar": {
              "outlinewidth": 0,
              "ticks": ""
             }
            },
            "type": "scatterpolar"
           }
          ],
          "scatterpolargl": [
           {
            "marker": {
             "colorbar": {
              "outlinewidth": 0,
              "ticks": ""
             }
            },
            "type": "scatterpolargl"
           }
          ],
          "scatterternary": [
           {
            "marker": {
             "colorbar": {
              "outlinewidth": 0,
              "ticks": ""
             }
            },
            "type": "scatterternary"
           }
          ],
          "surface": [
           {
            "colorbar": {
             "outlinewidth": 0,
             "ticks": ""
            },
            "colorscale": [
             [
              0,
              "#0d0887"
             ],
             [
              0.1111111111111111,
              "#46039f"
             ],
             [
              0.2222222222222222,
              "#7201a8"
             ],
             [
              0.3333333333333333,
              "#9c179e"
             ],
             [
              0.4444444444444444,
              "#bd3786"
             ],
             [
              0.5555555555555556,
              "#d8576b"
             ],
             [
              0.6666666666666666,
              "#ed7953"
             ],
             [
              0.7777777777777778,
              "#fb9f3a"
             ],
             [
              0.8888888888888888,
              "#fdca26"
             ],
             [
              1,
              "#f0f921"
             ]
            ],
            "type": "surface"
           }
          ],
          "table": [
           {
            "cells": {
             "fill": {
              "color": "#EBF0F8"
             },
             "line": {
              "color": "white"
             }
            },
            "header": {
             "fill": {
              "color": "#C8D4E3"
             },
             "line": {
              "color": "white"
             }
            },
            "type": "table"
           }
          ]
         },
         "layout": {
          "annotationdefaults": {
           "arrowcolor": "#2a3f5f",
           "arrowhead": 0,
           "arrowwidth": 1
          },
          "autotypenumbers": "strict",
          "coloraxis": {
           "colorbar": {
            "outlinewidth": 0,
            "ticks": ""
           }
          },
          "colorscale": {
           "diverging": [
            [
             0,
             "#8e0152"
            ],
            [
             0.1,
             "#c51b7d"
            ],
            [
             0.2,
             "#de77ae"
            ],
            [
             0.3,
             "#f1b6da"
            ],
            [
             0.4,
             "#fde0ef"
            ],
            [
             0.5,
             "#f7f7f7"
            ],
            [
             0.6,
             "#e6f5d0"
            ],
            [
             0.7,
             "#b8e186"
            ],
            [
             0.8,
             "#7fbc41"
            ],
            [
             0.9,
             "#4d9221"
            ],
            [
             1,
             "#276419"
            ]
           ],
           "sequential": [
            [
             0,
             "#0d0887"
            ],
            [
             0.1111111111111111,
             "#46039f"
            ],
            [
             0.2222222222222222,
             "#7201a8"
            ],
            [
             0.3333333333333333,
             "#9c179e"
            ],
            [
             0.4444444444444444,
             "#bd3786"
            ],
            [
             0.5555555555555556,
             "#d8576b"
            ],
            [
             0.6666666666666666,
             "#ed7953"
            ],
            [
             0.7777777777777778,
             "#fb9f3a"
            ],
            [
             0.8888888888888888,
             "#fdca26"
            ],
            [
             1,
             "#f0f921"
            ]
           ],
           "sequentialminus": [
            [
             0,
             "#0d0887"
            ],
            [
             0.1111111111111111,
             "#46039f"
            ],
            [
             0.2222222222222222,
             "#7201a8"
            ],
            [
             0.3333333333333333,
             "#9c179e"
            ],
            [
             0.4444444444444444,
             "#bd3786"
            ],
            [
             0.5555555555555556,
             "#d8576b"
            ],
            [
             0.6666666666666666,
             "#ed7953"
            ],
            [
             0.7777777777777778,
             "#fb9f3a"
            ],
            [
             0.8888888888888888,
             "#fdca26"
            ],
            [
             1,
             "#f0f921"
            ]
           ]
          },
          "colorway": [
           "#636efa",
           "#EF553B",
           "#00cc96",
           "#ab63fa",
           "#FFA15A",
           "#19d3f3",
           "#FF6692",
           "#B6E880",
           "#FF97FF",
           "#FECB52"
          ],
          "font": {
           "color": "#2a3f5f"
          },
          "geo": {
           "bgcolor": "white",
           "lakecolor": "white",
           "landcolor": "#E5ECF6",
           "showlakes": true,
           "showland": true,
           "subunitcolor": "white"
          },
          "hoverlabel": {
           "align": "left"
          },
          "hovermode": "closest",
          "mapbox": {
           "style": "light"
          },
          "paper_bgcolor": "white",
          "plot_bgcolor": "#E5ECF6",
          "polar": {
           "angularaxis": {
            "gridcolor": "white",
            "linecolor": "white",
            "ticks": ""
           },
           "bgcolor": "#E5ECF6",
           "radialaxis": {
            "gridcolor": "white",
            "linecolor": "white",
            "ticks": ""
           }
          },
          "scene": {
           "xaxis": {
            "backgroundcolor": "#E5ECF6",
            "gridcolor": "white",
            "gridwidth": 2,
            "linecolor": "white",
            "showbackground": true,
            "ticks": "",
            "zerolinecolor": "white"
           },
           "yaxis": {
            "backgroundcolor": "#E5ECF6",
            "gridcolor": "white",
            "gridwidth": 2,
            "linecolor": "white",
            "showbackground": true,
            "ticks": "",
            "zerolinecolor": "white"
           },
           "zaxis": {
            "backgroundcolor": "#E5ECF6",
            "gridcolor": "white",
            "gridwidth": 2,
            "linecolor": "white",
            "showbackground": true,
            "ticks": "",
            "zerolinecolor": "white"
           }
          },
          "shapedefaults": {
           "line": {
            "color": "#2a3f5f"
           }
          },
          "ternary": {
           "aaxis": {
            "gridcolor": "white",
            "linecolor": "white",
            "ticks": ""
           },
           "baxis": {
            "gridcolor": "white",
            "linecolor": "white",
            "ticks": ""
           },
           "bgcolor": "#E5ECF6",
           "caxis": {
            "gridcolor": "white",
            "linecolor": "white",
            "ticks": ""
           }
          },
          "title": {
           "x": 0.05
          },
          "xaxis": {
           "automargin": true,
           "gridcolor": "white",
           "linecolor": "white",
           "ticks": "",
           "title": {
            "standoff": 15
           },
           "zerolinecolor": "white",
           "zerolinewidth": 2
          },
          "yaxis": {
           "automargin": true,
           "gridcolor": "white",
           "linecolor": "white",
           "ticks": "",
           "title": {
            "standoff": 15
           },
           "zerolinecolor": "white",
           "zerolinewidth": 2
          }
         }
        },
        "xaxis": {
         "anchor": "y",
         "domain": [
          0,
          1
         ],
         "title": {
          "text": "x"
         }
        },
        "yaxis": {
         "anchor": "x",
         "domain": [
          0,
          1
         ],
         "title": {
          "text": "y"
         }
        }
       }
      }
     },
     "metadata": {},
     "output_type": "display_data"
    }
   ],
   "source": [
    "fig = px.scatter(x=xTrain.ravel(), y= yTrain.ravel())\n",
    "fig.add_traces(go.Scatter(x= xTest.ravel(), y= yTest.ravel(), mode=\"markers\"))\n",
    "fig.add_traces(go.Scatter(x= np.sort(xTest.ravel()), y=yPred.ravel(), mode=\"lines\"))\n",
    "fig.show()"
   ]
  },
  {
   "cell_type": "markdown",
   "metadata": {},
   "source": [
    "### 3D Polynomial Regression"
   ]
  },
  {
   "cell_type": "code",
   "execution_count": null,
   "metadata": {},
   "outputs": [],
   "source": [
    "x = 7 * np.random.rand(100, 1) - 2.8\n",
    "y = 7 * np.random.rand(100, 1) - 2.8\n",
    "z = x**2 + y**2 + 0.2*x + 0.2*y + 0.1*x*y + 2 + np.random.randn(100, 1)"
   ]
  },
  {
   "cell_type": "code",
   "execution_count": null,
   "metadata": {},
   "outputs": [
    {
     "data": {
      "application/vnd.plotly.v1+json": {
       "config": {
        "plotlyServerURL": "https://plot.ly"
       },
       "data": [
        {
         "hovertemplate": "x=%{x}<br>y=%{y}<br>z=%{z}<extra></extra>",
         "legendgroup": "",
         "marker": {
          "color": "#636efa",
          "symbol": "circle"
         },
         "mode": "markers",
         "name": "",
         "scene": "scene",
         "showlegend": false,
         "type": "scatter3d",
         "x": [
          -2.2612603684023873,
          1.4206922417367371,
          -1.0863337742771206,
          3.5850577813074995,
          -1.3417551990524612,
          -1.7250651893430429,
          -2.4696038652737737,
          -2.446864853194146,
          -2.3651176790128203,
          4.1316575850117605,
          3.6528211902236922,
          3.2061796882653955,
          0.601177438636221,
          0.1010106265777777,
          1.9124421102311704,
          -0.13548670824001885,
          2.694784495950377,
          1.7767996037632985,
          1.6974371494673282,
          -0.7015549350474704,
          -1.7038859440533416,
          -2.4378658022869155,
          1.7832315836891999,
          1.0637606606422985,
          1.0474926430913265,
          -2.490304142096074,
          1.3072400647283517,
          -0.28558102086581405,
          1.692741722027951,
          -2.6545422336223212,
          1.2951983496439379,
          -0.20884394020580332,
          2.528345210832515,
          2.201478865617645,
          -2.7339016042904403,
          1.4135860101593396,
          -0.7012011239179383,
          -2.3802094727351673,
          1.3289742401588738,
          2.0023842973202086,
          0.2923601438010843,
          2.183617875877739,
          3.952220490169047,
          4.196241749293184,
          1.954918174193618,
          0.4678047749271439,
          -1.2901184170143047,
          0.44744641225190573,
          0.7975186268712409,
          2.1714591641781835,
          -1.0810513314585648,
          3.902457155537987,
          0.2778056097303745,
          1.4337400899318764,
          2.4628194883025376,
          3.34877355677766,
          2.63043779891629,
          3.975325572225965,
          3.299559499123954,
          -1.6973917858402694,
          -2.462933941084834,
          -2.0756981117078306,
          -2.2363021115827517,
          0.8792268196498116,
          1.895118455716588,
          -1.3094910899672545,
          2.8519710826109144,
          -1.6829058096826444,
          -0.9129760754840825,
          3.2438505238276942,
          -1.722392037974662,
          -0.3915878142395699,
          1.0607323022272346,
          2.6777661494164393,
          0.5905491687317852,
          -0.8217097883227997,
          3.788169566331444,
          2.6746276600811134,
          -0.041053004771661517,
          3.4125211212110615,
          3.292742387547447,
          -2.290479371356323,
          3.8663686630208085,
          -2.488017573755189,
          2.6015003396921816,
          -1.7990796891802527,
          0.21952699141073717,
          1.9938415611388134,
          3.4194553425829026,
          -0.47341721052237684,
          3.4730299343215965,
          1.2732824131914908,
          -1.554218682036952,
          1.903638585233625,
          -1.4618885710176164,
          1.1524898082511292,
          -0.7058292133178963,
          2.360853641738215,
          0.2883902604911177,
          2.5984635823614646
         ],
         "y": [
          -0.33549488855526866,
          -2.695978960871718,
          3.8837567172157943,
          0.4238786154644112,
          0.9110808726754493,
          3.6346962350199234,
          3.9288268554084285,
          3.9270885109223075,
          3.6505793367910027,
          -0.9958163069619523,
          -0.4116546216122714,
          -2.476278817022781,
          0.8198943550096462,
          0.9169463939455325,
          3.2479008334024826,
          -0.07063239337085836,
          -0.5398007302951284,
          -2.7473214382390663,
          -0.8691526428729759,
          3.1870344963463184,
          0.31835558221051974,
          0.728171886442039,
          -2.7328296394208564,
          -0.9001816395154427,
          -0.8288991864393609,
          -2.0467360378143735,
          -0.9804211314376565,
          0.38135077578360566,
          0.9837350702053822,
          3.4123826738871035,
          3.675009408656085,
          0.8039622508065127,
          3.273753737902835,
          0.23741347219103437,
          3.520848251733682,
          3.0018642835172544,
          -1.632405430353931,
          -0.430865928665499,
          0.08958646678759852,
          0.9793388391395608,
          -2.3454753623662192,
          0.6231758998491586,
          -1.1623313350598186,
          -0.3562122723076646,
          4.04881249539906,
          1.0958276478389712,
          0.7202999860329986,
          2.871065028348429,
          2.210851531283727,
          3.4142561929373407,
          -0.6959312967625215,
          -0.9193776148835182,
          -2.6473198473014725,
          -1.3747042420394004,
          2.039278004043858,
          1.6960131399782972,
          1.7598437833015286,
          -1.1194394000078978,
          1.6315035591215485,
          0.33595357670926873,
          0.5401713276074185,
          -0.799918029852607,
          -1.0334596282886368,
          0.6952514558377692,
          1.1268238906885326,
          -0.6813636959329217,
          -1.3598458372776445,
          2.5015273042195583,
          1.276092288293956,
          -0.09649401199950924,
          -2.3897591780670338,
          3.956162079586714,
          -1.2533395732058952,
          2.203104912009862,
          2.087528815385766,
          3.6092684793036005,
          2.969693621502082,
          2.573599797626989,
          3.0266626190091586,
          1.580523292054596,
          -2.0981868911425496,
          -2.302258485897834,
          2.2791629681192918,
          0.4060916812120352,
          3.1357951684157923,
          2.4709012660472256,
          0.655746128314874,
          0.406291958498616,
          3.6104072044593476,
          0.2815885591027607,
          -2.614094948889669,
          0.5177787823184112,
          0.29073872634109676,
          -2.2520297399908005,
          0.5739491569560764,
          1.7858828849483368,
          -0.23900929417904804,
          -2.544765520062658,
          3.441018630586064,
          1.7639193677855367
         ],
         "z": [
          7.470973043747557,
          9.801970137748913,
          18.36315243714966,
          15.77504087016457,
          3.613924115180793,
          18.452913405971103,
          22.056916768906408,
          23.32230763243098,
          21.810160535829322,
          19.999819012255546,
          14.621307419475526,
          16.462888077305696,
          3.5407550183165597,
          3.2211735952231715,
          17.469607383827938,
          2.1477160805439603,
          9.834388918184535,
          11.474077536934507,
          5.9415764238278275,
          12.870674426548467,
          5.956993676249434,
          7.19169427534917,
          12.953902515224193,
          3.745496367503649,
          3.3028664302031014,
          13.133847658444484,
          5.755534221363063,
          2.1586943396854816,
          5.865889783508159,
          19.115604446982527,
          18.722063112589396,
          4.23696915025751,
          20.154935245569973,
          8.240039175369953,
          21.18566626435038,
          15.317715545317514,
          4.745351832325885,
          6.200108652887386,
          2.9354336004758643,
          7.290805146776729,
          8.562183492619392,
          6.856278259560676,
          18.427694457447288,
          19.27143821884949,
          20.774656759493293,
          4.615612095089414,
          2.1093399277040312,
          11.318803135738825,
          9.279188887404935,
          20.164071991840594,
          4.392066361208164,
          20.001537133793263,
          9.708052458262822,
          3.5946092829058753,
          13.920310689794091,
          18.559921029929402,
          14.680893555244879,
          20.295832952243103,
          18.34777669425539,
          3.0929250810250384,
          6.742215323403364,
          6.726038796108581,
          7.053788090976845,
          3.5266175485675118,
          7.674583051342736,
          5.584282531105335,
          13.044715321205054,
          11.117921915029047,
          3.090705208197904,
          11.411672358121956,
          8.326955237780814,
          18.76619403638996,
          6.037281343543478,
          17.115361842087538,
          6.683121954926749,
          15.432891988505265,
          27.398408493480584,
          17.056092541938536,
          10.370752960773471,
          18.306634462213218,
          18.496560678753617,
          10.493380124985249,
          24.6232294436299,
          7.403715375093694,
          21.717680631582894,
          12.073496861045856,
          1.622461271878488,
          6.000501677504208,
          28.275927579685806,
          0.4349103225526918,
          18.065097848710653,
          4.773986061151455,
          2.596839096102792,
          10.421349109136825,
          3.4942622603081883,
          6.526934102320799,
          1.5108767665193708,
          15.040493044321426,
          13.255539637806834,
          12.11837596934283
         ]
        }
       ],
       "layout": {
        "legend": {
         "tracegroupgap": 0
        },
        "margin": {
         "t": 60
        },
        "scene": {
         "domain": {
          "x": [
           0,
           1
          ],
          "y": [
           0,
           1
          ]
         },
         "xaxis": {
          "title": {
           "text": "x"
          }
         },
         "yaxis": {
          "title": {
           "text": "y"
          }
         },
         "zaxis": {
          "title": {
           "text": "z"
          }
         }
        },
        "template": {
         "data": {
          "bar": [
           {
            "error_x": {
             "color": "#2a3f5f"
            },
            "error_y": {
             "color": "#2a3f5f"
            },
            "marker": {
             "line": {
              "color": "#E5ECF6",
              "width": 0.5
             },
             "pattern": {
              "fillmode": "overlay",
              "size": 10,
              "solidity": 0.2
             }
            },
            "type": "bar"
           }
          ],
          "barpolar": [
           {
            "marker": {
             "line": {
              "color": "#E5ECF6",
              "width": 0.5
             },
             "pattern": {
              "fillmode": "overlay",
              "size": 10,
              "solidity": 0.2
             }
            },
            "type": "barpolar"
           }
          ],
          "carpet": [
           {
            "aaxis": {
             "endlinecolor": "#2a3f5f",
             "gridcolor": "white",
             "linecolor": "white",
             "minorgridcolor": "white",
             "startlinecolor": "#2a3f5f"
            },
            "baxis": {
             "endlinecolor": "#2a3f5f",
             "gridcolor": "white",
             "linecolor": "white",
             "minorgridcolor": "white",
             "startlinecolor": "#2a3f5f"
            },
            "type": "carpet"
           }
          ],
          "choropleth": [
           {
            "colorbar": {
             "outlinewidth": 0,
             "ticks": ""
            },
            "type": "choropleth"
           }
          ],
          "contour": [
           {
            "colorbar": {
             "outlinewidth": 0,
             "ticks": ""
            },
            "colorscale": [
             [
              0,
              "#0d0887"
             ],
             [
              0.1111111111111111,
              "#46039f"
             ],
             [
              0.2222222222222222,
              "#7201a8"
             ],
             [
              0.3333333333333333,
              "#9c179e"
             ],
             [
              0.4444444444444444,
              "#bd3786"
             ],
             [
              0.5555555555555556,
              "#d8576b"
             ],
             [
              0.6666666666666666,
              "#ed7953"
             ],
             [
              0.7777777777777778,
              "#fb9f3a"
             ],
             [
              0.8888888888888888,
              "#fdca26"
             ],
             [
              1,
              "#f0f921"
             ]
            ],
            "type": "contour"
           }
          ],
          "contourcarpet": [
           {
            "colorbar": {
             "outlinewidth": 0,
             "ticks": ""
            },
            "type": "contourcarpet"
           }
          ],
          "heatmap": [
           {
            "colorbar": {
             "outlinewidth": 0,
             "ticks": ""
            },
            "colorscale": [
             [
              0,
              "#0d0887"
             ],
             [
              0.1111111111111111,
              "#46039f"
             ],
             [
              0.2222222222222222,
              "#7201a8"
             ],
             [
              0.3333333333333333,
              "#9c179e"
             ],
             [
              0.4444444444444444,
              "#bd3786"
             ],
             [
              0.5555555555555556,
              "#d8576b"
             ],
             [
              0.6666666666666666,
              "#ed7953"
             ],
             [
              0.7777777777777778,
              "#fb9f3a"
             ],
             [
              0.8888888888888888,
              "#fdca26"
             ],
             [
              1,
              "#f0f921"
             ]
            ],
            "type": "heatmap"
           }
          ],
          "heatmapgl": [
           {
            "colorbar": {
             "outlinewidth": 0,
             "ticks": ""
            },
            "colorscale": [
             [
              0,
              "#0d0887"
             ],
             [
              0.1111111111111111,
              "#46039f"
             ],
             [
              0.2222222222222222,
              "#7201a8"
             ],
             [
              0.3333333333333333,
              "#9c179e"
             ],
             [
              0.4444444444444444,
              "#bd3786"
             ],
             [
              0.5555555555555556,
              "#d8576b"
             ],
             [
              0.6666666666666666,
              "#ed7953"
             ],
             [
              0.7777777777777778,
              "#fb9f3a"
             ],
             [
              0.8888888888888888,
              "#fdca26"
             ],
             [
              1,
              "#f0f921"
             ]
            ],
            "type": "heatmapgl"
           }
          ],
          "histogram": [
           {
            "marker": {
             "pattern": {
              "fillmode": "overlay",
              "size": 10,
              "solidity": 0.2
             }
            },
            "type": "histogram"
           }
          ],
          "histogram2d": [
           {
            "colorbar": {
             "outlinewidth": 0,
             "ticks": ""
            },
            "colorscale": [
             [
              0,
              "#0d0887"
             ],
             [
              0.1111111111111111,
              "#46039f"
             ],
             [
              0.2222222222222222,
              "#7201a8"
             ],
             [
              0.3333333333333333,
              "#9c179e"
             ],
             [
              0.4444444444444444,
              "#bd3786"
             ],
             [
              0.5555555555555556,
              "#d8576b"
             ],
             [
              0.6666666666666666,
              "#ed7953"
             ],
             [
              0.7777777777777778,
              "#fb9f3a"
             ],
             [
              0.8888888888888888,
              "#fdca26"
             ],
             [
              1,
              "#f0f921"
             ]
            ],
            "type": "histogram2d"
           }
          ],
          "histogram2dcontour": [
           {
            "colorbar": {
             "outlinewidth": 0,
             "ticks": ""
            },
            "colorscale": [
             [
              0,
              "#0d0887"
             ],
             [
              0.1111111111111111,
              "#46039f"
             ],
             [
              0.2222222222222222,
              "#7201a8"
             ],
             [
              0.3333333333333333,
              "#9c179e"
             ],
             [
              0.4444444444444444,
              "#bd3786"
             ],
             [
              0.5555555555555556,
              "#d8576b"
             ],
             [
              0.6666666666666666,
              "#ed7953"
             ],
             [
              0.7777777777777778,
              "#fb9f3a"
             ],
             [
              0.8888888888888888,
              "#fdca26"
             ],
             [
              1,
              "#f0f921"
             ]
            ],
            "type": "histogram2dcontour"
           }
          ],
          "mesh3d": [
           {
            "colorbar": {
             "outlinewidth": 0,
             "ticks": ""
            },
            "type": "mesh3d"
           }
          ],
          "parcoords": [
           {
            "line": {
             "colorbar": {
              "outlinewidth": 0,
              "ticks": ""
             }
            },
            "type": "parcoords"
           }
          ],
          "pie": [
           {
            "automargin": true,
            "type": "pie"
           }
          ],
          "scatter": [
           {
            "fillpattern": {
             "fillmode": "overlay",
             "size": 10,
             "solidity": 0.2
            },
            "type": "scatter"
           }
          ],
          "scatter3d": [
           {
            "line": {
             "colorbar": {
              "outlinewidth": 0,
              "ticks": ""
             }
            },
            "marker": {
             "colorbar": {
              "outlinewidth": 0,
              "ticks": ""
             }
            },
            "type": "scatter3d"
           }
          ],
          "scattercarpet": [
           {
            "marker": {
             "colorbar": {
              "outlinewidth": 0,
              "ticks": ""
             }
            },
            "type": "scattercarpet"
           }
          ],
          "scattergeo": [
           {
            "marker": {
             "colorbar": {
              "outlinewidth": 0,
              "ticks": ""
             }
            },
            "type": "scattergeo"
           }
          ],
          "scattergl": [
           {
            "marker": {
             "colorbar": {
              "outlinewidth": 0,
              "ticks": ""
             }
            },
            "type": "scattergl"
           }
          ],
          "scattermapbox": [
           {
            "marker": {
             "colorbar": {
              "outlinewidth": 0,
              "ticks": ""
             }
            },
            "type": "scattermapbox"
           }
          ],
          "scatterpolar": [
           {
            "marker": {
             "colorbar": {
              "outlinewidth": 0,
              "ticks": ""
             }
            },
            "type": "scatterpolar"
           }
          ],
          "scatterpolargl": [
           {
            "marker": {
             "colorbar": {
              "outlinewidth": 0,
              "ticks": ""
             }
            },
            "type": "scatterpolargl"
           }
          ],
          "scatterternary": [
           {
            "marker": {
             "colorbar": {
              "outlinewidth": 0,
              "ticks": ""
             }
            },
            "type": "scatterternary"
           }
          ],
          "surface": [
           {
            "colorbar": {
             "outlinewidth": 0,
             "ticks": ""
            },
            "colorscale": [
             [
              0,
              "#0d0887"
             ],
             [
              0.1111111111111111,
              "#46039f"
             ],
             [
              0.2222222222222222,
              "#7201a8"
             ],
             [
              0.3333333333333333,
              "#9c179e"
             ],
             [
              0.4444444444444444,
              "#bd3786"
             ],
             [
              0.5555555555555556,
              "#d8576b"
             ],
             [
              0.6666666666666666,
              "#ed7953"
             ],
             [
              0.7777777777777778,
              "#fb9f3a"
             ],
             [
              0.8888888888888888,
              "#fdca26"
             ],
             [
              1,
              "#f0f921"
             ]
            ],
            "type": "surface"
           }
          ],
          "table": [
           {
            "cells": {
             "fill": {
              "color": "#EBF0F8"
             },
             "line": {
              "color": "white"
             }
            },
            "header": {
             "fill": {
              "color": "#C8D4E3"
             },
             "line": {
              "color": "white"
             }
            },
            "type": "table"
           }
          ]
         },
         "layout": {
          "annotationdefaults": {
           "arrowcolor": "#2a3f5f",
           "arrowhead": 0,
           "arrowwidth": 1
          },
          "autotypenumbers": "strict",
          "coloraxis": {
           "colorbar": {
            "outlinewidth": 0,
            "ticks": ""
           }
          },
          "colorscale": {
           "diverging": [
            [
             0,
             "#8e0152"
            ],
            [
             0.1,
             "#c51b7d"
            ],
            [
             0.2,
             "#de77ae"
            ],
            [
             0.3,
             "#f1b6da"
            ],
            [
             0.4,
             "#fde0ef"
            ],
            [
             0.5,
             "#f7f7f7"
            ],
            [
             0.6,
             "#e6f5d0"
            ],
            [
             0.7,
             "#b8e186"
            ],
            [
             0.8,
             "#7fbc41"
            ],
            [
             0.9,
             "#4d9221"
            ],
            [
             1,
             "#276419"
            ]
           ],
           "sequential": [
            [
             0,
             "#0d0887"
            ],
            [
             0.1111111111111111,
             "#46039f"
            ],
            [
             0.2222222222222222,
             "#7201a8"
            ],
            [
             0.3333333333333333,
             "#9c179e"
            ],
            [
             0.4444444444444444,
             "#bd3786"
            ],
            [
             0.5555555555555556,
             "#d8576b"
            ],
            [
             0.6666666666666666,
             "#ed7953"
            ],
            [
             0.7777777777777778,
             "#fb9f3a"
            ],
            [
             0.8888888888888888,
             "#fdca26"
            ],
            [
             1,
             "#f0f921"
            ]
           ],
           "sequentialminus": [
            [
             0,
             "#0d0887"
            ],
            [
             0.1111111111111111,
             "#46039f"
            ],
            [
             0.2222222222222222,
             "#7201a8"
            ],
            [
             0.3333333333333333,
             "#9c179e"
            ],
            [
             0.4444444444444444,
             "#bd3786"
            ],
            [
             0.5555555555555556,
             "#d8576b"
            ],
            [
             0.6666666666666666,
             "#ed7953"
            ],
            [
             0.7777777777777778,
             "#fb9f3a"
            ],
            [
             0.8888888888888888,
             "#fdca26"
            ],
            [
             1,
             "#f0f921"
            ]
           ]
          },
          "colorway": [
           "#636efa",
           "#EF553B",
           "#00cc96",
           "#ab63fa",
           "#FFA15A",
           "#19d3f3",
           "#FF6692",
           "#B6E880",
           "#FF97FF",
           "#FECB52"
          ],
          "font": {
           "color": "#2a3f5f"
          },
          "geo": {
           "bgcolor": "white",
           "lakecolor": "white",
           "landcolor": "#E5ECF6",
           "showlakes": true,
           "showland": true,
           "subunitcolor": "white"
          },
          "hoverlabel": {
           "align": "left"
          },
          "hovermode": "closest",
          "mapbox": {
           "style": "light"
          },
          "paper_bgcolor": "white",
          "plot_bgcolor": "#E5ECF6",
          "polar": {
           "angularaxis": {
            "gridcolor": "white",
            "linecolor": "white",
            "ticks": ""
           },
           "bgcolor": "#E5ECF6",
           "radialaxis": {
            "gridcolor": "white",
            "linecolor": "white",
            "ticks": ""
           }
          },
          "scene": {
           "xaxis": {
            "backgroundcolor": "#E5ECF6",
            "gridcolor": "white",
            "gridwidth": 2,
            "linecolor": "white",
            "showbackground": true,
            "ticks": "",
            "zerolinecolor": "white"
           },
           "yaxis": {
            "backgroundcolor": "#E5ECF6",
            "gridcolor": "white",
            "gridwidth": 2,
            "linecolor": "white",
            "showbackground": true,
            "ticks": "",
            "zerolinecolor": "white"
           },
           "zaxis": {
            "backgroundcolor": "#E5ECF6",
            "gridcolor": "white",
            "gridwidth": 2,
            "linecolor": "white",
            "showbackground": true,
            "ticks": "",
            "zerolinecolor": "white"
           }
          },
          "shapedefaults": {
           "line": {
            "color": "#2a3f5f"
           }
          },
          "ternary": {
           "aaxis": {
            "gridcolor": "white",
            "linecolor": "white",
            "ticks": ""
           },
           "baxis": {
            "gridcolor": "white",
            "linecolor": "white",
            "ticks": ""
           },
           "bgcolor": "#E5ECF6",
           "caxis": {
            "gridcolor": "white",
            "linecolor": "white",
            "ticks": ""
           }
          },
          "title": {
           "x": 0.05
          },
          "xaxis": {
           "automargin": true,
           "gridcolor": "white",
           "linecolor": "white",
           "ticks": "",
           "title": {
            "standoff": 15
           },
           "zerolinecolor": "white",
           "zerolinewidth": 2
          },
          "yaxis": {
           "automargin": true,
           "gridcolor": "white",
           "linecolor": "white",
           "ticks": "",
           "title": {
            "standoff": 15
           },
           "zerolinecolor": "white",
           "zerolinewidth": 2
          }
         }
        }
       }
      }
     },
     "metadata": {},
     "output_type": "display_data"
    }
   ],
   "source": [
    "px.scatter_3d(x=x.ravel(),y=y.ravel(),z=z.ravel())"
   ]
  },
  {
   "cell_type": "code",
   "execution_count": null,
   "metadata": {},
   "outputs": [
    {
     "data": {
      "text/html": [
       "<style>#sk-container-id-11 {color: black;}#sk-container-id-11 pre{padding: 0;}#sk-container-id-11 div.sk-toggleable {background-color: white;}#sk-container-id-11 label.sk-toggleable__label {cursor: pointer;display: block;width: 100%;margin-bottom: 0;padding: 0.3em;box-sizing: border-box;text-align: center;}#sk-container-id-11 label.sk-toggleable__label-arrow:before {content: \"▸\";float: left;margin-right: 0.25em;color: #696969;}#sk-container-id-11 label.sk-toggleable__label-arrow:hover:before {color: black;}#sk-container-id-11 div.sk-estimator:hover label.sk-toggleable__label-arrow:before {color: black;}#sk-container-id-11 div.sk-toggleable__content {max-height: 0;max-width: 0;overflow: hidden;text-align: left;background-color: #f0f8ff;}#sk-container-id-11 div.sk-toggleable__content pre {margin: 0.2em;color: black;border-radius: 0.25em;background-color: #f0f8ff;}#sk-container-id-11 input.sk-toggleable__control:checked~div.sk-toggleable__content {max-height: 200px;max-width: 100%;overflow: auto;}#sk-container-id-11 input.sk-toggleable__control:checked~label.sk-toggleable__label-arrow:before {content: \"▾\";}#sk-container-id-11 div.sk-estimator input.sk-toggleable__control:checked~label.sk-toggleable__label {background-color: #d4ebff;}#sk-container-id-11 div.sk-label input.sk-toggleable__control:checked~label.sk-toggleable__label {background-color: #d4ebff;}#sk-container-id-11 input.sk-hidden--visually {border: 0;clip: rect(1px 1px 1px 1px);clip: rect(1px, 1px, 1px, 1px);height: 1px;margin: -1px;overflow: hidden;padding: 0;position: absolute;width: 1px;}#sk-container-id-11 div.sk-estimator {font-family: monospace;background-color: #f0f8ff;border: 1px dotted black;border-radius: 0.25em;box-sizing: border-box;margin-bottom: 0.5em;}#sk-container-id-11 div.sk-estimator:hover {background-color: #d4ebff;}#sk-container-id-11 div.sk-parallel-item::after {content: \"\";width: 100%;border-bottom: 1px solid gray;flex-grow: 1;}#sk-container-id-11 div.sk-label:hover label.sk-toggleable__label {background-color: #d4ebff;}#sk-container-id-11 div.sk-serial::before {content: \"\";position: absolute;border-left: 1px solid gray;box-sizing: border-box;top: 0;bottom: 0;left: 50%;z-index: 0;}#sk-container-id-11 div.sk-serial {display: flex;flex-direction: column;align-items: center;background-color: white;padding-right: 0.2em;padding-left: 0.2em;position: relative;}#sk-container-id-11 div.sk-item {position: relative;z-index: 1;}#sk-container-id-11 div.sk-parallel {display: flex;align-items: stretch;justify-content: center;background-color: white;position: relative;}#sk-container-id-11 div.sk-item::before, #sk-container-id-11 div.sk-parallel-item::before {content: \"\";position: absolute;border-left: 1px solid gray;box-sizing: border-box;top: 0;bottom: 0;left: 50%;z-index: -1;}#sk-container-id-11 div.sk-parallel-item {display: flex;flex-direction: column;z-index: 1;position: relative;background-color: white;}#sk-container-id-11 div.sk-parallel-item:first-child::after {align-self: flex-end;width: 50%;}#sk-container-id-11 div.sk-parallel-item:last-child::after {align-self: flex-start;width: 50%;}#sk-container-id-11 div.sk-parallel-item:only-child::after {width: 0;}#sk-container-id-11 div.sk-dashed-wrapped {border: 1px dashed gray;margin: 0 0.4em 0.5em 0.4em;box-sizing: border-box;padding-bottom: 0.4em;background-color: white;}#sk-container-id-11 div.sk-label label {font-family: monospace;font-weight: bold;display: inline-block;line-height: 1.2em;}#sk-container-id-11 div.sk-label-container {text-align: center;}#sk-container-id-11 div.sk-container {/* jupyter's `normalize.less` sets `[hidden] { display: none; }` but bootstrap.min.css set `[hidden] { display: none !important; }` so we also need the `!important` here to be able to override the default hidden behavior on the sphinx rendered scikit-learn.org. See: https://github.com/scikit-learn/scikit-learn/issues/21755 */display: inline-block !important;position: relative;}#sk-container-id-11 div.sk-text-repr-fallback {display: none;}</style><div id=\"sk-container-id-11\" class=\"sk-top-container\"><div class=\"sk-text-repr-fallback\"><pre>LinearRegression()</pre><b>In a Jupyter environment, please rerun this cell to show the HTML representation or trust the notebook. <br />On GitHub, the HTML representation is unable to render, please try loading this page with nbviewer.org.</b></div><div class=\"sk-container\" hidden><div class=\"sk-item\"><div class=\"sk-estimator sk-toggleable\"><input class=\"sk-toggleable__control sk-hidden--visually\" id=\"sk-estimator-id-11\" type=\"checkbox\" checked><label for=\"sk-estimator-id-11\" class=\"sk-toggleable__label sk-toggleable__label-arrow\">LinearRegression</label><div class=\"sk-toggleable__content\"><pre>LinearRegression()</pre></div></div></div></div></div>"
      ],
      "text/plain": [
       "LinearRegression()"
      ]
     },
     "execution_count": 104,
     "metadata": {},
     "output_type": "execute_result"
    }
   ],
   "source": [
    "lr = LinearRegression(n_jobs=-1)\n",
    "lr.fit(np.array([x,y]).reshape(100,2), z)"
   ]
  },
  {
   "cell_type": "code",
   "execution_count": null,
   "metadata": {},
   "outputs": [],
   "source": [
    "xInput = np.linspace(x.min(), x.max(), 10)\n",
    "yInput = np.linspace(y.min(), y.max(), 10)\n",
    "xGrid, yGrid = np.meshgrid(xInput,yInput)"
   ]
  },
  {
   "cell_type": "code",
   "execution_count": null,
   "metadata": {},
   "outputs": [
    {
     "data": {
      "text/plain": [
       "array([[-2.7339016 , -1.96388568, -1.19386975, -0.42385382,  0.34616211,\n",
       "         1.11617804,  1.88619396,  2.65620989,  3.42622582,  4.19624175],\n",
       "       [-2.7339016 , -1.96388568, -1.19386975, -0.42385382,  0.34616211,\n",
       "         1.11617804,  1.88619396,  2.65620989,  3.42622582,  4.19624175],\n",
       "       [-2.7339016 , -1.96388568, -1.19386975, -0.42385382,  0.34616211,\n",
       "         1.11617804,  1.88619396,  2.65620989,  3.42622582,  4.19624175],\n",
       "       [-2.7339016 , -1.96388568, -1.19386975, -0.42385382,  0.34616211,\n",
       "         1.11617804,  1.88619396,  2.65620989,  3.42622582,  4.19624175],\n",
       "       [-2.7339016 , -1.96388568, -1.19386975, -0.42385382,  0.34616211,\n",
       "         1.11617804,  1.88619396,  2.65620989,  3.42622582,  4.19624175],\n",
       "       [-2.7339016 , -1.96388568, -1.19386975, -0.42385382,  0.34616211,\n",
       "         1.11617804,  1.88619396,  2.65620989,  3.42622582,  4.19624175],\n",
       "       [-2.7339016 , -1.96388568, -1.19386975, -0.42385382,  0.34616211,\n",
       "         1.11617804,  1.88619396,  2.65620989,  3.42622582,  4.19624175],\n",
       "       [-2.7339016 , -1.96388568, -1.19386975, -0.42385382,  0.34616211,\n",
       "         1.11617804,  1.88619396,  2.65620989,  3.42622582,  4.19624175],\n",
       "       [-2.7339016 , -1.96388568, -1.19386975, -0.42385382,  0.34616211,\n",
       "         1.11617804,  1.88619396,  2.65620989,  3.42622582,  4.19624175],\n",
       "       [-2.7339016 , -1.96388568, -1.19386975, -0.42385382,  0.34616211,\n",
       "         1.11617804,  1.88619396,  2.65620989,  3.42622582,  4.19624175]])"
      ]
     },
     "execution_count": 106,
     "metadata": {},
     "output_type": "execute_result"
    }
   ],
   "source": [
    "xGrid"
   ]
  },
  {
   "cell_type": "code",
   "execution_count": null,
   "metadata": {},
   "outputs": [
    {
     "data": {
      "text/plain": [
       "array([[-2.74732144, -2.74732144, -2.74732144, -2.74732144, -2.74732144,\n",
       "        -2.74732144, -2.74732144, -2.74732144, -2.74732144, -2.74732144],\n",
       "       [-1.99219545, -1.99219545, -1.99219545, -1.99219545, -1.99219545,\n",
       "        -1.99219545, -1.99219545, -1.99219545, -1.99219545, -1.99219545],\n",
       "       [-1.23706945, -1.23706945, -1.23706945, -1.23706945, -1.23706945,\n",
       "        -1.23706945, -1.23706945, -1.23706945, -1.23706945, -1.23706945],\n",
       "       [-0.48194346, -0.48194346, -0.48194346, -0.48194346, -0.48194346,\n",
       "        -0.48194346, -0.48194346, -0.48194346, -0.48194346, -0.48194346],\n",
       "       [ 0.27318253,  0.27318253,  0.27318253,  0.27318253,  0.27318253,\n",
       "         0.27318253,  0.27318253,  0.27318253,  0.27318253,  0.27318253],\n",
       "       [ 1.02830852,  1.02830852,  1.02830852,  1.02830852,  1.02830852,\n",
       "         1.02830852,  1.02830852,  1.02830852,  1.02830852,  1.02830852],\n",
       "       [ 1.78343452,  1.78343452,  1.78343452,  1.78343452,  1.78343452,\n",
       "         1.78343452,  1.78343452,  1.78343452,  1.78343452,  1.78343452],\n",
       "       [ 2.53856051,  2.53856051,  2.53856051,  2.53856051,  2.53856051,\n",
       "         2.53856051,  2.53856051,  2.53856051,  2.53856051,  2.53856051],\n",
       "       [ 3.2936865 ,  3.2936865 ,  3.2936865 ,  3.2936865 ,  3.2936865 ,\n",
       "         3.2936865 ,  3.2936865 ,  3.2936865 ,  3.2936865 ,  3.2936865 ],\n",
       "       [ 4.0488125 ,  4.0488125 ,  4.0488125 ,  4.0488125 ,  4.0488125 ,\n",
       "         4.0488125 ,  4.0488125 ,  4.0488125 ,  4.0488125 ,  4.0488125 ]])"
      ]
     },
     "execution_count": 107,
     "metadata": {},
     "output_type": "execute_result"
    }
   ],
   "source": [
    "yGrid"
   ]
  },
  {
   "cell_type": "code",
   "execution_count": null,
   "metadata": {},
   "outputs": [
    {
     "data": {
      "text/plain": [
       "((10, 10), (10, 10))"
      ]
     },
     "execution_count": 108,
     "metadata": {},
     "output_type": "execute_result"
    }
   ],
   "source": [
    "\n",
    "xGrid.shape, yGrid.shape"
   ]
  },
  {
   "cell_type": "code",
   "execution_count": null,
   "metadata": {},
   "outputs": [],
   "source": [
    "final = np.vstack((xGrid.ravel().reshape(1,100), yGrid.ravel().reshape(1,100))).T\n",
    "zFinal = lr.predict(final).reshape(10,10)"
   ]
  },
  {
   "cell_type": "code",
   "execution_count": null,
   "metadata": {},
   "outputs": [
    {
     "data": {
      "text/plain": [
       "(10, 10)"
      ]
     },
     "execution_count": 110,
     "metadata": {},
     "output_type": "execute_result"
    }
   ],
   "source": [
    "zFinal.shape"
   ]
  },
  {
   "cell_type": "code",
   "execution_count": null,
   "metadata": {},
   "outputs": [
    {
     "data": {
      "application/vnd.plotly.v1+json": {
       "config": {
        "plotlyServerURL": "https://plot.ly"
       },
       "data": [
        {
         "hovertemplate": "x=%{x}<br>y=%{y}<br>z=%{z}<extra></extra>",
         "legendgroup": "",
         "marker": {
          "color": "#636efa",
          "symbol": "circle"
         },
         "mode": "markers",
         "name": "",
         "scene": "scene",
         "showlegend": false,
         "type": "scatter3d",
         "x": [
          -2.2612603684023873,
          1.4206922417367371,
          -1.0863337742771206,
          3.5850577813074995,
          -1.3417551990524612,
          -1.7250651893430429,
          -2.4696038652737737,
          -2.446864853194146,
          -2.3651176790128203,
          4.1316575850117605,
          3.6528211902236922,
          3.2061796882653955,
          0.601177438636221,
          0.1010106265777777,
          1.9124421102311704,
          -0.13548670824001885,
          2.694784495950377,
          1.7767996037632985,
          1.6974371494673282,
          -0.7015549350474704,
          -1.7038859440533416,
          -2.4378658022869155,
          1.7832315836891999,
          1.0637606606422985,
          1.0474926430913265,
          -2.490304142096074,
          1.3072400647283517,
          -0.28558102086581405,
          1.692741722027951,
          -2.6545422336223212,
          1.2951983496439379,
          -0.20884394020580332,
          2.528345210832515,
          2.201478865617645,
          -2.7339016042904403,
          1.4135860101593396,
          -0.7012011239179383,
          -2.3802094727351673,
          1.3289742401588738,
          2.0023842973202086,
          0.2923601438010843,
          2.183617875877739,
          3.952220490169047,
          4.196241749293184,
          1.954918174193618,
          0.4678047749271439,
          -1.2901184170143047,
          0.44744641225190573,
          0.7975186268712409,
          2.1714591641781835,
          -1.0810513314585648,
          3.902457155537987,
          0.2778056097303745,
          1.4337400899318764,
          2.4628194883025376,
          3.34877355677766,
          2.63043779891629,
          3.975325572225965,
          3.299559499123954,
          -1.6973917858402694,
          -2.462933941084834,
          -2.0756981117078306,
          -2.2363021115827517,
          0.8792268196498116,
          1.895118455716588,
          -1.3094910899672545,
          2.8519710826109144,
          -1.6829058096826444,
          -0.9129760754840825,
          3.2438505238276942,
          -1.722392037974662,
          -0.3915878142395699,
          1.0607323022272346,
          2.6777661494164393,
          0.5905491687317852,
          -0.8217097883227997,
          3.788169566331444,
          2.6746276600811134,
          -0.041053004771661517,
          3.4125211212110615,
          3.292742387547447,
          -2.290479371356323,
          3.8663686630208085,
          -2.488017573755189,
          2.6015003396921816,
          -1.7990796891802527,
          0.21952699141073717,
          1.9938415611388134,
          3.4194553425829026,
          -0.47341721052237684,
          3.4730299343215965,
          1.2732824131914908,
          -1.554218682036952,
          1.903638585233625,
          -1.4618885710176164,
          1.1524898082511292,
          -0.7058292133178963,
          2.360853641738215,
          0.2883902604911177,
          2.5984635823614646
         ],
         "y": [
          -0.33549488855526866,
          -2.695978960871718,
          3.8837567172157943,
          0.4238786154644112,
          0.9110808726754493,
          3.6346962350199234,
          3.9288268554084285,
          3.9270885109223075,
          3.6505793367910027,
          -0.9958163069619523,
          -0.4116546216122714,
          -2.476278817022781,
          0.8198943550096462,
          0.9169463939455325,
          3.2479008334024826,
          -0.07063239337085836,
          -0.5398007302951284,
          -2.7473214382390663,
          -0.8691526428729759,
          3.1870344963463184,
          0.31835558221051974,
          0.728171886442039,
          -2.7328296394208564,
          -0.9001816395154427,
          -0.8288991864393609,
          -2.0467360378143735,
          -0.9804211314376565,
          0.38135077578360566,
          0.9837350702053822,
          3.4123826738871035,
          3.675009408656085,
          0.8039622508065127,
          3.273753737902835,
          0.23741347219103437,
          3.520848251733682,
          3.0018642835172544,
          -1.632405430353931,
          -0.430865928665499,
          0.08958646678759852,
          0.9793388391395608,
          -2.3454753623662192,
          0.6231758998491586,
          -1.1623313350598186,
          -0.3562122723076646,
          4.04881249539906,
          1.0958276478389712,
          0.7202999860329986,
          2.871065028348429,
          2.210851531283727,
          3.4142561929373407,
          -0.6959312967625215,
          -0.9193776148835182,
          -2.6473198473014725,
          -1.3747042420394004,
          2.039278004043858,
          1.6960131399782972,
          1.7598437833015286,
          -1.1194394000078978,
          1.6315035591215485,
          0.33595357670926873,
          0.5401713276074185,
          -0.799918029852607,
          -1.0334596282886368,
          0.6952514558377692,
          1.1268238906885326,
          -0.6813636959329217,
          -1.3598458372776445,
          2.5015273042195583,
          1.276092288293956,
          -0.09649401199950924,
          -2.3897591780670338,
          3.956162079586714,
          -1.2533395732058952,
          2.203104912009862,
          2.087528815385766,
          3.6092684793036005,
          2.969693621502082,
          2.573599797626989,
          3.0266626190091586,
          1.580523292054596,
          -2.0981868911425496,
          -2.302258485897834,
          2.2791629681192918,
          0.4060916812120352,
          3.1357951684157923,
          2.4709012660472256,
          0.655746128314874,
          0.406291958498616,
          3.6104072044593476,
          0.2815885591027607,
          -2.614094948889669,
          0.5177787823184112,
          0.29073872634109676,
          -2.2520297399908005,
          0.5739491569560764,
          1.7858828849483368,
          -0.23900929417904804,
          -2.544765520062658,
          3.441018630586064,
          1.7639193677855367
         ],
         "z": [
          7.470973043747557,
          9.801970137748913,
          18.36315243714966,
          15.77504087016457,
          3.613924115180793,
          18.452913405971103,
          22.056916768906408,
          23.32230763243098,
          21.810160535829322,
          19.999819012255546,
          14.621307419475526,
          16.462888077305696,
          3.5407550183165597,
          3.2211735952231715,
          17.469607383827938,
          2.1477160805439603,
          9.834388918184535,
          11.474077536934507,
          5.9415764238278275,
          12.870674426548467,
          5.956993676249434,
          7.19169427534917,
          12.953902515224193,
          3.745496367503649,
          3.3028664302031014,
          13.133847658444484,
          5.755534221363063,
          2.1586943396854816,
          5.865889783508159,
          19.115604446982527,
          18.722063112589396,
          4.23696915025751,
          20.154935245569973,
          8.240039175369953,
          21.18566626435038,
          15.317715545317514,
          4.745351832325885,
          6.200108652887386,
          2.9354336004758643,
          7.290805146776729,
          8.562183492619392,
          6.856278259560676,
          18.427694457447288,
          19.27143821884949,
          20.774656759493293,
          4.615612095089414,
          2.1093399277040312,
          11.318803135738825,
          9.279188887404935,
          20.164071991840594,
          4.392066361208164,
          20.001537133793263,
          9.708052458262822,
          3.5946092829058753,
          13.920310689794091,
          18.559921029929402,
          14.680893555244879,
          20.295832952243103,
          18.34777669425539,
          3.0929250810250384,
          6.742215323403364,
          6.726038796108581,
          7.053788090976845,
          3.5266175485675118,
          7.674583051342736,
          5.584282531105335,
          13.044715321205054,
          11.117921915029047,
          3.090705208197904,
          11.411672358121956,
          8.326955237780814,
          18.76619403638996,
          6.037281343543478,
          17.115361842087538,
          6.683121954926749,
          15.432891988505265,
          27.398408493480584,
          17.056092541938536,
          10.370752960773471,
          18.306634462213218,
          18.496560678753617,
          10.493380124985249,
          24.6232294436299,
          7.403715375093694,
          21.717680631582894,
          12.073496861045856,
          1.622461271878488,
          6.000501677504208,
          28.275927579685806,
          0.4349103225526918,
          18.065097848710653,
          4.773986061151455,
          2.596839096102792,
          10.421349109136825,
          3.4942622603081883,
          6.526934102320799,
          1.5108767665193708,
          15.040493044321426,
          13.255539637806834,
          12.11837596934283
         ]
        },
        {
         "type": "surface",
         "x": [
          -2.7339016042904403,
          -1.963885676114482,
          -1.1938697479385239,
          -0.42385381976256564,
          0.34616210841339257,
          1.1161780365893508,
          1.886193964765309,
          2.656209892941267,
          3.4262258211172254,
          4.196241749293184
         ],
         "y": [
          -2.7473214382390663,
          -1.9921954456126079,
          -1.2370694529861495,
          -0.48194346035969104,
          0.27318253226676736,
          1.0283085248932258,
          1.7834345175196842,
          2.538560510146142,
          3.293686502772601,
          4.04881249539906
         ],
         "z": [
          [
           13.66754932208734,
           13.797728210024282,
           13.927907097961226,
           14.05808598589817,
           14.188264873835113,
           14.318443761772055,
           14.448622649709,
           14.578801537645942,
           14.708980425582887,
           14.83915931351983
          ],
          [
           13.027049870606062,
           13.157228758543006,
           13.287407646479949,
           13.417586534416891,
           13.547765422353836,
           13.677944310290778,
           13.808123198227722,
           13.938302086164665,
           14.068480974101607,
           14.198659862038552
          ],
          [
           12.386550419124784,
           12.516729307061729,
           12.646908194998671,
           12.777087082935614,
           12.907265970872558,
           13.0374448588095,
           13.167623746746445,
           13.297802634683388,
           13.427981522620332,
           13.558160410557274
          ],
          [
           11.746050967643507,
           11.87622985558045,
           12.006408743517394,
           12.136587631454336,
           12.26676651939128,
           12.396945407328223,
           12.527124295265168,
           12.65730318320211,
           12.787482071139053,
           12.917660959075997
          ],
          [
           11.10555151616223,
           11.235730404099172,
           11.365909292036116,
           11.496088179973059,
           11.626267067910003,
           11.756445955846946,
           11.88662484378389,
           12.016803731720833,
           12.146982619657775,
           12.27716150759472
          ],
          [
           10.465052064680952,
           10.595230952617895,
           10.725409840554839,
           10.855588728491782,
           10.985767616428726,
           11.115946504365668,
           11.246125392302613,
           11.376304280239555,
           11.506483168176498,
           11.636662056113442
          ],
          [
           9.824552613199675,
           9.954731501136617,
           10.084910389073562,
           10.215089277010504,
           10.345268164947448,
           10.475447052884391,
           10.605625940821334,
           10.735804828758278,
           10.86598371669522,
           10.996162604632165
          ],
          [
           9.184053161718397,
           9.314232049655342,
           9.444410937592284,
           9.574589825529227,
           9.704768713466171,
           9.834947601403114,
           9.965126489340058,
           10.095305377277,
           10.225484265213943,
           10.355663153150887
          ],
          [
           8.54355371023712,
           8.673732598174063,
           8.803911486111007,
           8.93409037404795,
           9.064269261984894,
           9.194448149921836,
           9.324627037858779,
           9.454805925795723,
           9.584984813732666,
           9.71516370166961
          ],
          [
           7.903054258755842,
           8.033233146692785,
           8.163412034629728,
           8.293590922566672,
           8.423769810503615,
           8.553948698440557,
           8.684127586377501,
           8.814306474314444,
           8.944485362251388,
           9.07466425018833
          ]
         ]
        }
       ],
       "layout": {
        "legend": {
         "tracegroupgap": 0
        },
        "margin": {
         "t": 60
        },
        "scene": {
         "domain": {
          "x": [
           0,
           1
          ],
          "y": [
           0,
           1
          ]
         },
         "xaxis": {
          "title": {
           "text": "x"
          }
         },
         "yaxis": {
          "title": {
           "text": "y"
          }
         },
         "zaxis": {
          "title": {
           "text": "z"
          }
         }
        },
        "template": {
         "data": {
          "bar": [
           {
            "error_x": {
             "color": "#2a3f5f"
            },
            "error_y": {
             "color": "#2a3f5f"
            },
            "marker": {
             "line": {
              "color": "#E5ECF6",
              "width": 0.5
             },
             "pattern": {
              "fillmode": "overlay",
              "size": 10,
              "solidity": 0.2
             }
            },
            "type": "bar"
           }
          ],
          "barpolar": [
           {
            "marker": {
             "line": {
              "color": "#E5ECF6",
              "width": 0.5
             },
             "pattern": {
              "fillmode": "overlay",
              "size": 10,
              "solidity": 0.2
             }
            },
            "type": "barpolar"
           }
          ],
          "carpet": [
           {
            "aaxis": {
             "endlinecolor": "#2a3f5f",
             "gridcolor": "white",
             "linecolor": "white",
             "minorgridcolor": "white",
             "startlinecolor": "#2a3f5f"
            },
            "baxis": {
             "endlinecolor": "#2a3f5f",
             "gridcolor": "white",
             "linecolor": "white",
             "minorgridcolor": "white",
             "startlinecolor": "#2a3f5f"
            },
            "type": "carpet"
           }
          ],
          "choropleth": [
           {
            "colorbar": {
             "outlinewidth": 0,
             "ticks": ""
            },
            "type": "choropleth"
           }
          ],
          "contour": [
           {
            "colorbar": {
             "outlinewidth": 0,
             "ticks": ""
            },
            "colorscale": [
             [
              0,
              "#0d0887"
             ],
             [
              0.1111111111111111,
              "#46039f"
             ],
             [
              0.2222222222222222,
              "#7201a8"
             ],
             [
              0.3333333333333333,
              "#9c179e"
             ],
             [
              0.4444444444444444,
              "#bd3786"
             ],
             [
              0.5555555555555556,
              "#d8576b"
             ],
             [
              0.6666666666666666,
              "#ed7953"
             ],
             [
              0.7777777777777778,
              "#fb9f3a"
             ],
             [
              0.8888888888888888,
              "#fdca26"
             ],
             [
              1,
              "#f0f921"
             ]
            ],
            "type": "contour"
           }
          ],
          "contourcarpet": [
           {
            "colorbar": {
             "outlinewidth": 0,
             "ticks": ""
            },
            "type": "contourcarpet"
           }
          ],
          "heatmap": [
           {
            "colorbar": {
             "outlinewidth": 0,
             "ticks": ""
            },
            "colorscale": [
             [
              0,
              "#0d0887"
             ],
             [
              0.1111111111111111,
              "#46039f"
             ],
             [
              0.2222222222222222,
              "#7201a8"
             ],
             [
              0.3333333333333333,
              "#9c179e"
             ],
             [
              0.4444444444444444,
              "#bd3786"
             ],
             [
              0.5555555555555556,
              "#d8576b"
             ],
             [
              0.6666666666666666,
              "#ed7953"
             ],
             [
              0.7777777777777778,
              "#fb9f3a"
             ],
             [
              0.8888888888888888,
              "#fdca26"
             ],
             [
              1,
              "#f0f921"
             ]
            ],
            "type": "heatmap"
           }
          ],
          "heatmapgl": [
           {
            "colorbar": {
             "outlinewidth": 0,
             "ticks": ""
            },
            "colorscale": [
             [
              0,
              "#0d0887"
             ],
             [
              0.1111111111111111,
              "#46039f"
             ],
             [
              0.2222222222222222,
              "#7201a8"
             ],
             [
              0.3333333333333333,
              "#9c179e"
             ],
             [
              0.4444444444444444,
              "#bd3786"
             ],
             [
              0.5555555555555556,
              "#d8576b"
             ],
             [
              0.6666666666666666,
              "#ed7953"
             ],
             [
              0.7777777777777778,
              "#fb9f3a"
             ],
             [
              0.8888888888888888,
              "#fdca26"
             ],
             [
              1,
              "#f0f921"
             ]
            ],
            "type": "heatmapgl"
           }
          ],
          "histogram": [
           {
            "marker": {
             "pattern": {
              "fillmode": "overlay",
              "size": 10,
              "solidity": 0.2
             }
            },
            "type": "histogram"
           }
          ],
          "histogram2d": [
           {
            "colorbar": {
             "outlinewidth": 0,
             "ticks": ""
            },
            "colorscale": [
             [
              0,
              "#0d0887"
             ],
             [
              0.1111111111111111,
              "#46039f"
             ],
             [
              0.2222222222222222,
              "#7201a8"
             ],
             [
              0.3333333333333333,
              "#9c179e"
             ],
             [
              0.4444444444444444,
              "#bd3786"
             ],
             [
              0.5555555555555556,
              "#d8576b"
             ],
             [
              0.6666666666666666,
              "#ed7953"
             ],
             [
              0.7777777777777778,
              "#fb9f3a"
             ],
             [
              0.8888888888888888,
              "#fdca26"
             ],
             [
              1,
              "#f0f921"
             ]
            ],
            "type": "histogram2d"
           }
          ],
          "histogram2dcontour": [
           {
            "colorbar": {
             "outlinewidth": 0,
             "ticks": ""
            },
            "colorscale": [
             [
              0,
              "#0d0887"
             ],
             [
              0.1111111111111111,
              "#46039f"
             ],
             [
              0.2222222222222222,
              "#7201a8"
             ],
             [
              0.3333333333333333,
              "#9c179e"
             ],
             [
              0.4444444444444444,
              "#bd3786"
             ],
             [
              0.5555555555555556,
              "#d8576b"
             ],
             [
              0.6666666666666666,
              "#ed7953"
             ],
             [
              0.7777777777777778,
              "#fb9f3a"
             ],
             [
              0.8888888888888888,
              "#fdca26"
             ],
             [
              1,
              "#f0f921"
             ]
            ],
            "type": "histogram2dcontour"
           }
          ],
          "mesh3d": [
           {
            "colorbar": {
             "outlinewidth": 0,
             "ticks": ""
            },
            "type": "mesh3d"
           }
          ],
          "parcoords": [
           {
            "line": {
             "colorbar": {
              "outlinewidth": 0,
              "ticks": ""
             }
            },
            "type": "parcoords"
           }
          ],
          "pie": [
           {
            "automargin": true,
            "type": "pie"
           }
          ],
          "scatter": [
           {
            "fillpattern": {
             "fillmode": "overlay",
             "size": 10,
             "solidity": 0.2
            },
            "type": "scatter"
           }
          ],
          "scatter3d": [
           {
            "line": {
             "colorbar": {
              "outlinewidth": 0,
              "ticks": ""
             }
            },
            "marker": {
             "colorbar": {
              "outlinewidth": 0,
              "ticks": ""
             }
            },
            "type": "scatter3d"
           }
          ],
          "scattercarpet": [
           {
            "marker": {
             "colorbar": {
              "outlinewidth": 0,
              "ticks": ""
             }
            },
            "type": "scattercarpet"
           }
          ],
          "scattergeo": [
           {
            "marker": {
             "colorbar": {
              "outlinewidth": 0,
              "ticks": ""
             }
            },
            "type": "scattergeo"
           }
          ],
          "scattergl": [
           {
            "marker": {
             "colorbar": {
              "outlinewidth": 0,
              "ticks": ""
             }
            },
            "type": "scattergl"
           }
          ],
          "scattermapbox": [
           {
            "marker": {
             "colorbar": {
              "outlinewidth": 0,
              "ticks": ""
             }
            },
            "type": "scattermapbox"
           }
          ],
          "scatterpolar": [
           {
            "marker": {
             "colorbar": {
              "outlinewidth": 0,
              "ticks": ""
             }
            },
            "type": "scatterpolar"
           }
          ],
          "scatterpolargl": [
           {
            "marker": {
             "colorbar": {
              "outlinewidth": 0,
              "ticks": ""
             }
            },
            "type": "scatterpolargl"
           }
          ],
          "scatterternary": [
           {
            "marker": {
             "colorbar": {
              "outlinewidth": 0,
              "ticks": ""
             }
            },
            "type": "scatterternary"
           }
          ],
          "surface": [
           {
            "colorbar": {
             "outlinewidth": 0,
             "ticks": ""
            },
            "colorscale": [
             [
              0,
              "#0d0887"
             ],
             [
              0.1111111111111111,
              "#46039f"
             ],
             [
              0.2222222222222222,
              "#7201a8"
             ],
             [
              0.3333333333333333,
              "#9c179e"
             ],
             [
              0.4444444444444444,
              "#bd3786"
             ],
             [
              0.5555555555555556,
              "#d8576b"
             ],
             [
              0.6666666666666666,
              "#ed7953"
             ],
             [
              0.7777777777777778,
              "#fb9f3a"
             ],
             [
              0.8888888888888888,
              "#fdca26"
             ],
             [
              1,
              "#f0f921"
             ]
            ],
            "type": "surface"
           }
          ],
          "table": [
           {
            "cells": {
             "fill": {
              "color": "#EBF0F8"
             },
             "line": {
              "color": "white"
             }
            },
            "header": {
             "fill": {
              "color": "#C8D4E3"
             },
             "line": {
              "color": "white"
             }
            },
            "type": "table"
           }
          ]
         },
         "layout": {
          "annotationdefaults": {
           "arrowcolor": "#2a3f5f",
           "arrowhead": 0,
           "arrowwidth": 1
          },
          "autotypenumbers": "strict",
          "coloraxis": {
           "colorbar": {
            "outlinewidth": 0,
            "ticks": ""
           }
          },
          "colorscale": {
           "diverging": [
            [
             0,
             "#8e0152"
            ],
            [
             0.1,
             "#c51b7d"
            ],
            [
             0.2,
             "#de77ae"
            ],
            [
             0.3,
             "#f1b6da"
            ],
            [
             0.4,
             "#fde0ef"
            ],
            [
             0.5,
             "#f7f7f7"
            ],
            [
             0.6,
             "#e6f5d0"
            ],
            [
             0.7,
             "#b8e186"
            ],
            [
             0.8,
             "#7fbc41"
            ],
            [
             0.9,
             "#4d9221"
            ],
            [
             1,
             "#276419"
            ]
           ],
           "sequential": [
            [
             0,
             "#0d0887"
            ],
            [
             0.1111111111111111,
             "#46039f"
            ],
            [
             0.2222222222222222,
             "#7201a8"
            ],
            [
             0.3333333333333333,
             "#9c179e"
            ],
            [
             0.4444444444444444,
             "#bd3786"
            ],
            [
             0.5555555555555556,
             "#d8576b"
            ],
            [
             0.6666666666666666,
             "#ed7953"
            ],
            [
             0.7777777777777778,
             "#fb9f3a"
            ],
            [
             0.8888888888888888,
             "#fdca26"
            ],
            [
             1,
             "#f0f921"
            ]
           ],
           "sequentialminus": [
            [
             0,
             "#0d0887"
            ],
            [
             0.1111111111111111,
             "#46039f"
            ],
            [
             0.2222222222222222,
             "#7201a8"
            ],
            [
             0.3333333333333333,
             "#9c179e"
            ],
            [
             0.4444444444444444,
             "#bd3786"
            ],
            [
             0.5555555555555556,
             "#d8576b"
            ],
            [
             0.6666666666666666,
             "#ed7953"
            ],
            [
             0.7777777777777778,
             "#fb9f3a"
            ],
            [
             0.8888888888888888,
             "#fdca26"
            ],
            [
             1,
             "#f0f921"
            ]
           ]
          },
          "colorway": [
           "#636efa",
           "#EF553B",
           "#00cc96",
           "#ab63fa",
           "#FFA15A",
           "#19d3f3",
           "#FF6692",
           "#B6E880",
           "#FF97FF",
           "#FECB52"
          ],
          "font": {
           "color": "#2a3f5f"
          },
          "geo": {
           "bgcolor": "white",
           "lakecolor": "white",
           "landcolor": "#E5ECF6",
           "showlakes": true,
           "showland": true,
           "subunitcolor": "white"
          },
          "hoverlabel": {
           "align": "left"
          },
          "hovermode": "closest",
          "mapbox": {
           "style": "light"
          },
          "paper_bgcolor": "white",
          "plot_bgcolor": "#E5ECF6",
          "polar": {
           "angularaxis": {
            "gridcolor": "white",
            "linecolor": "white",
            "ticks": ""
           },
           "bgcolor": "#E5ECF6",
           "radialaxis": {
            "gridcolor": "white",
            "linecolor": "white",
            "ticks": ""
           }
          },
          "scene": {
           "xaxis": {
            "backgroundcolor": "#E5ECF6",
            "gridcolor": "white",
            "gridwidth": 2,
            "linecolor": "white",
            "showbackground": true,
            "ticks": "",
            "zerolinecolor": "white"
           },
           "yaxis": {
            "backgroundcolor": "#E5ECF6",
            "gridcolor": "white",
            "gridwidth": 2,
            "linecolor": "white",
            "showbackground": true,
            "ticks": "",
            "zerolinecolor": "white"
           },
           "zaxis": {
            "backgroundcolor": "#E5ECF6",
            "gridcolor": "white",
            "gridwidth": 2,
            "linecolor": "white",
            "showbackground": true,
            "ticks": "",
            "zerolinecolor": "white"
           }
          },
          "shapedefaults": {
           "line": {
            "color": "#2a3f5f"
           }
          },
          "ternary": {
           "aaxis": {
            "gridcolor": "white",
            "linecolor": "white",
            "ticks": ""
           },
           "baxis": {
            "gridcolor": "white",
            "linecolor": "white",
            "ticks": ""
           },
           "bgcolor": "#E5ECF6",
           "caxis": {
            "gridcolor": "white",
            "linecolor": "white",
            "ticks": ""
           }
          },
          "title": {
           "x": 0.05
          },
          "xaxis": {
           "automargin": true,
           "gridcolor": "white",
           "linecolor": "white",
           "ticks": "",
           "title": {
            "standoff": 15
           },
           "zerolinecolor": "white",
           "zerolinewidth": 2
          },
          "yaxis": {
           "automargin": true,
           "gridcolor": "white",
           "linecolor": "white",
           "ticks": "",
           "title": {
            "standoff": 15
           },
           "zerolinecolor": "white",
           "zerolinewidth": 2
          }
         }
        }
       }
      }
     },
     "metadata": {},
     "output_type": "display_data"
    }
   ],
   "source": [
    "fig = px.scatter_3d(x= x.ravel(), y= y.ravel(), z=z.ravel())\n",
    "fig.add_trace(go.Surface(x= xInput.ravel(), y= yInput.ravel(), z=zFinal))\n",
    "fig.show()"
   ]
  },
  {
   "cell_type": "code",
   "execution_count": null,
   "metadata": {},
   "outputs": [
    {
     "data": {
      "text/plain": [
       "(100, 2)"
      ]
     },
     "execution_count": 112,
     "metadata": {},
     "output_type": "execute_result"
    }
   ],
   "source": [
    "xMulti = np.array([x,y]).reshape(100,2)\n",
    "xMulti.shape"
   ]
  },
  {
   "cell_type": "code",
   "execution_count": null,
   "metadata": {},
   "outputs": [],
   "source": [
    "poly = PolynomialFeatures(degree=3)\n",
    "xMultiTran = poly.fit_transform(xMulti)"
   ]
  },
  {
   "cell_type": "code",
   "execution_count": null,
   "metadata": {},
   "outputs": [
    {
     "data": {
      "text/plain": [
       "(100, 10)"
      ]
     },
     "execution_count": 114,
     "metadata": {},
     "output_type": "execute_result"
    }
   ],
   "source": [
    "xMultiTran.shape"
   ]
  },
  {
   "cell_type": "code",
   "execution_count": null,
   "metadata": {},
   "outputs": [
    {
     "data": {
      "text/plain": [
       "2"
      ]
     },
     "execution_count": 115,
     "metadata": {},
     "output_type": "execute_result"
    }
   ],
   "source": [
    "poly.n_features_in_"
   ]
  },
  {
   "cell_type": "code",
   "execution_count": null,
   "metadata": {},
   "outputs": [
    {
     "data": {
      "text/plain": [
       "10"
      ]
     },
     "execution_count": 116,
     "metadata": {},
     "output_type": "execute_result"
    }
   ],
   "source": [
    "poly.n_output_features_"
   ]
  },
  {
   "cell_type": "code",
   "execution_count": null,
   "metadata": {},
   "outputs": [
    {
     "data": {
      "text/plain": [
       "array([[0, 0],\n",
       "       [1, 0],\n",
       "       [0, 1],\n",
       "       [2, 0],\n",
       "       [1, 1],\n",
       "       [0, 2],\n",
       "       [3, 0],\n",
       "       [2, 1],\n",
       "       [1, 2],\n",
       "       [0, 3]], dtype=int64)"
      ]
     },
     "execution_count": 117,
     "metadata": {},
     "output_type": "execute_result"
    }
   ],
   "source": [
    "poly.powers_"
   ]
  },
  {
   "cell_type": "code",
   "execution_count": null,
   "metadata": {},
   "outputs": [
    {
     "data": {
      "text/html": [
       "<style>#sk-container-id-12 {color: black;}#sk-container-id-12 pre{padding: 0;}#sk-container-id-12 div.sk-toggleable {background-color: white;}#sk-container-id-12 label.sk-toggleable__label {cursor: pointer;display: block;width: 100%;margin-bottom: 0;padding: 0.3em;box-sizing: border-box;text-align: center;}#sk-container-id-12 label.sk-toggleable__label-arrow:before {content: \"▸\";float: left;margin-right: 0.25em;color: #696969;}#sk-container-id-12 label.sk-toggleable__label-arrow:hover:before {color: black;}#sk-container-id-12 div.sk-estimator:hover label.sk-toggleable__label-arrow:before {color: black;}#sk-container-id-12 div.sk-toggleable__content {max-height: 0;max-width: 0;overflow: hidden;text-align: left;background-color: #f0f8ff;}#sk-container-id-12 div.sk-toggleable__content pre {margin: 0.2em;color: black;border-radius: 0.25em;background-color: #f0f8ff;}#sk-container-id-12 input.sk-toggleable__control:checked~div.sk-toggleable__content {max-height: 200px;max-width: 100%;overflow: auto;}#sk-container-id-12 input.sk-toggleable__control:checked~label.sk-toggleable__label-arrow:before {content: \"▾\";}#sk-container-id-12 div.sk-estimator input.sk-toggleable__control:checked~label.sk-toggleable__label {background-color: #d4ebff;}#sk-container-id-12 div.sk-label input.sk-toggleable__control:checked~label.sk-toggleable__label {background-color: #d4ebff;}#sk-container-id-12 input.sk-hidden--visually {border: 0;clip: rect(1px 1px 1px 1px);clip: rect(1px, 1px, 1px, 1px);height: 1px;margin: -1px;overflow: hidden;padding: 0;position: absolute;width: 1px;}#sk-container-id-12 div.sk-estimator {font-family: monospace;background-color: #f0f8ff;border: 1px dotted black;border-radius: 0.25em;box-sizing: border-box;margin-bottom: 0.5em;}#sk-container-id-12 div.sk-estimator:hover {background-color: #d4ebff;}#sk-container-id-12 div.sk-parallel-item::after {content: \"\";width: 100%;border-bottom: 1px solid gray;flex-grow: 1;}#sk-container-id-12 div.sk-label:hover label.sk-toggleable__label {background-color: #d4ebff;}#sk-container-id-12 div.sk-serial::before {content: \"\";position: absolute;border-left: 1px solid gray;box-sizing: border-box;top: 0;bottom: 0;left: 50%;z-index: 0;}#sk-container-id-12 div.sk-serial {display: flex;flex-direction: column;align-items: center;background-color: white;padding-right: 0.2em;padding-left: 0.2em;position: relative;}#sk-container-id-12 div.sk-item {position: relative;z-index: 1;}#sk-container-id-12 div.sk-parallel {display: flex;align-items: stretch;justify-content: center;background-color: white;position: relative;}#sk-container-id-12 div.sk-item::before, #sk-container-id-12 div.sk-parallel-item::before {content: \"\";position: absolute;border-left: 1px solid gray;box-sizing: border-box;top: 0;bottom: 0;left: 50%;z-index: -1;}#sk-container-id-12 div.sk-parallel-item {display: flex;flex-direction: column;z-index: 1;position: relative;background-color: white;}#sk-container-id-12 div.sk-parallel-item:first-child::after {align-self: flex-end;width: 50%;}#sk-container-id-12 div.sk-parallel-item:last-child::after {align-self: flex-start;width: 50%;}#sk-container-id-12 div.sk-parallel-item:only-child::after {width: 0;}#sk-container-id-12 div.sk-dashed-wrapped {border: 1px dashed gray;margin: 0 0.4em 0.5em 0.4em;box-sizing: border-box;padding-bottom: 0.4em;background-color: white;}#sk-container-id-12 div.sk-label label {font-family: monospace;font-weight: bold;display: inline-block;line-height: 1.2em;}#sk-container-id-12 div.sk-label-container {text-align: center;}#sk-container-id-12 div.sk-container {/* jupyter's `normalize.less` sets `[hidden] { display: none; }` but bootstrap.min.css set `[hidden] { display: none !important; }` so we also need the `!important` here to be able to override the default hidden behavior on the sphinx rendered scikit-learn.org. See: https://github.com/scikit-learn/scikit-learn/issues/21755 */display: inline-block !important;position: relative;}#sk-container-id-12 div.sk-text-repr-fallback {display: none;}</style><div id=\"sk-container-id-12\" class=\"sk-top-container\"><div class=\"sk-text-repr-fallback\"><pre>LinearRegression()</pre><b>In a Jupyter environment, please rerun this cell to show the HTML representation or trust the notebook. <br />On GitHub, the HTML representation is unable to render, please try loading this page with nbviewer.org.</b></div><div class=\"sk-container\" hidden><div class=\"sk-item\"><div class=\"sk-estimator sk-toggleable\"><input class=\"sk-toggleable__control sk-hidden--visually\" id=\"sk-estimator-id-12\" type=\"checkbox\" checked><label for=\"sk-estimator-id-12\" class=\"sk-toggleable__label sk-toggleable__label-arrow\">LinearRegression</label><div class=\"sk-toggleable__content\"><pre>LinearRegression()</pre></div></div></div></div></div>"
      ],
      "text/plain": [
       "LinearRegression()"
      ]
     },
     "execution_count": 118,
     "metadata": {},
     "output_type": "execute_result"
    }
   ],
   "source": [
    "lr = LinearRegression(n_jobs=-1)\n",
    "lr.fit(xMultiTran, z)"
   ]
  },
  {
   "cell_type": "code",
   "execution_count": null,
   "metadata": {},
   "outputs": [],
   "source": [
    "xTestMulti = poly.transform(final)"
   ]
  },
  {
   "cell_type": "code",
   "execution_count": null,
   "metadata": {},
   "outputs": [],
   "source": [
    "zFinal = lr.predict(xMultiTran).reshape(10,10)"
   ]
  },
  {
   "cell_type": "code",
   "execution_count": null,
   "metadata": {},
   "outputs": [
    {
     "data": {
      "application/vnd.plotly.v1+json": {
       "config": {
        "plotlyServerURL": "https://plot.ly"
       },
       "data": [
        {
         "hovertemplate": "x=%{x}<br>y=%{y}<br>z=%{z}<extra></extra>",
         "legendgroup": "",
         "marker": {
          "color": "#636efa",
          "symbol": "circle"
         },
         "mode": "markers",
         "name": "",
         "scene": "scene",
         "showlegend": false,
         "type": "scatter3d",
         "x": [
          -2.2612603684023873,
          1.4206922417367371,
          -1.0863337742771206,
          3.5850577813074995,
          -1.3417551990524612,
          -1.7250651893430429,
          -2.4696038652737737,
          -2.446864853194146,
          -2.3651176790128203,
          4.1316575850117605,
          3.6528211902236922,
          3.2061796882653955,
          0.601177438636221,
          0.1010106265777777,
          1.9124421102311704,
          -0.13548670824001885,
          2.694784495950377,
          1.7767996037632985,
          1.6974371494673282,
          -0.7015549350474704,
          -1.7038859440533416,
          -2.4378658022869155,
          1.7832315836891999,
          1.0637606606422985,
          1.0474926430913265,
          -2.490304142096074,
          1.3072400647283517,
          -0.28558102086581405,
          1.692741722027951,
          -2.6545422336223212,
          1.2951983496439379,
          -0.20884394020580332,
          2.528345210832515,
          2.201478865617645,
          -2.7339016042904403,
          1.4135860101593396,
          -0.7012011239179383,
          -2.3802094727351673,
          1.3289742401588738,
          2.0023842973202086,
          0.2923601438010843,
          2.183617875877739,
          3.952220490169047,
          4.196241749293184,
          1.954918174193618,
          0.4678047749271439,
          -1.2901184170143047,
          0.44744641225190573,
          0.7975186268712409,
          2.1714591641781835,
          -1.0810513314585648,
          3.902457155537987,
          0.2778056097303745,
          1.4337400899318764,
          2.4628194883025376,
          3.34877355677766,
          2.63043779891629,
          3.975325572225965,
          3.299559499123954,
          -1.6973917858402694,
          -2.462933941084834,
          -2.0756981117078306,
          -2.2363021115827517,
          0.8792268196498116,
          1.895118455716588,
          -1.3094910899672545,
          2.8519710826109144,
          -1.6829058096826444,
          -0.9129760754840825,
          3.2438505238276942,
          -1.722392037974662,
          -0.3915878142395699,
          1.0607323022272346,
          2.6777661494164393,
          0.5905491687317852,
          -0.8217097883227997,
          3.788169566331444,
          2.6746276600811134,
          -0.041053004771661517,
          3.4125211212110615,
          3.292742387547447,
          -2.290479371356323,
          3.8663686630208085,
          -2.488017573755189,
          2.6015003396921816,
          -1.7990796891802527,
          0.21952699141073717,
          1.9938415611388134,
          3.4194553425829026,
          -0.47341721052237684,
          3.4730299343215965,
          1.2732824131914908,
          -1.554218682036952,
          1.903638585233625,
          -1.4618885710176164,
          1.1524898082511292,
          -0.7058292133178963,
          2.360853641738215,
          0.2883902604911177,
          2.5984635823614646
         ],
         "y": [
          -0.33549488855526866,
          -2.695978960871718,
          3.8837567172157943,
          0.4238786154644112,
          0.9110808726754493,
          3.6346962350199234,
          3.9288268554084285,
          3.9270885109223075,
          3.6505793367910027,
          -0.9958163069619523,
          -0.4116546216122714,
          -2.476278817022781,
          0.8198943550096462,
          0.9169463939455325,
          3.2479008334024826,
          -0.07063239337085836,
          -0.5398007302951284,
          -2.7473214382390663,
          -0.8691526428729759,
          3.1870344963463184,
          0.31835558221051974,
          0.728171886442039,
          -2.7328296394208564,
          -0.9001816395154427,
          -0.8288991864393609,
          -2.0467360378143735,
          -0.9804211314376565,
          0.38135077578360566,
          0.9837350702053822,
          3.4123826738871035,
          3.675009408656085,
          0.8039622508065127,
          3.273753737902835,
          0.23741347219103437,
          3.520848251733682,
          3.0018642835172544,
          -1.632405430353931,
          -0.430865928665499,
          0.08958646678759852,
          0.9793388391395608,
          -2.3454753623662192,
          0.6231758998491586,
          -1.1623313350598186,
          -0.3562122723076646,
          4.04881249539906,
          1.0958276478389712,
          0.7202999860329986,
          2.871065028348429,
          2.210851531283727,
          3.4142561929373407,
          -0.6959312967625215,
          -0.9193776148835182,
          -2.6473198473014725,
          -1.3747042420394004,
          2.039278004043858,
          1.6960131399782972,
          1.7598437833015286,
          -1.1194394000078978,
          1.6315035591215485,
          0.33595357670926873,
          0.5401713276074185,
          -0.799918029852607,
          -1.0334596282886368,
          0.6952514558377692,
          1.1268238906885326,
          -0.6813636959329217,
          -1.3598458372776445,
          2.5015273042195583,
          1.276092288293956,
          -0.09649401199950924,
          -2.3897591780670338,
          3.956162079586714,
          -1.2533395732058952,
          2.203104912009862,
          2.087528815385766,
          3.6092684793036005,
          2.969693621502082,
          2.573599797626989,
          3.0266626190091586,
          1.580523292054596,
          -2.0981868911425496,
          -2.302258485897834,
          2.2791629681192918,
          0.4060916812120352,
          3.1357951684157923,
          2.4709012660472256,
          0.655746128314874,
          0.406291958498616,
          3.6104072044593476,
          0.2815885591027607,
          -2.614094948889669,
          0.5177787823184112,
          0.29073872634109676,
          -2.2520297399908005,
          0.5739491569560764,
          1.7858828849483368,
          -0.23900929417904804,
          -2.544765520062658,
          3.441018630586064,
          1.7639193677855367
         ],
         "z": [
          7.470973043747557,
          9.801970137748913,
          18.36315243714966,
          15.77504087016457,
          3.613924115180793,
          18.452913405971103,
          22.056916768906408,
          23.32230763243098,
          21.810160535829322,
          19.999819012255546,
          14.621307419475526,
          16.462888077305696,
          3.5407550183165597,
          3.2211735952231715,
          17.469607383827938,
          2.1477160805439603,
          9.834388918184535,
          11.474077536934507,
          5.9415764238278275,
          12.870674426548467,
          5.956993676249434,
          7.19169427534917,
          12.953902515224193,
          3.745496367503649,
          3.3028664302031014,
          13.133847658444484,
          5.755534221363063,
          2.1586943396854816,
          5.865889783508159,
          19.115604446982527,
          18.722063112589396,
          4.23696915025751,
          20.154935245569973,
          8.240039175369953,
          21.18566626435038,
          15.317715545317514,
          4.745351832325885,
          6.200108652887386,
          2.9354336004758643,
          7.290805146776729,
          8.562183492619392,
          6.856278259560676,
          18.427694457447288,
          19.27143821884949,
          20.774656759493293,
          4.615612095089414,
          2.1093399277040312,
          11.318803135738825,
          9.279188887404935,
          20.164071991840594,
          4.392066361208164,
          20.001537133793263,
          9.708052458262822,
          3.5946092829058753,
          13.920310689794091,
          18.559921029929402,
          14.680893555244879,
          20.295832952243103,
          18.34777669425539,
          3.0929250810250384,
          6.742215323403364,
          6.726038796108581,
          7.053788090976845,
          3.5266175485675118,
          7.674583051342736,
          5.584282531105335,
          13.044715321205054,
          11.117921915029047,
          3.090705208197904,
          11.411672358121956,
          8.326955237780814,
          18.76619403638996,
          6.037281343543478,
          17.115361842087538,
          6.683121954926749,
          15.432891988505265,
          27.398408493480584,
          17.056092541938536,
          10.370752960773471,
          18.306634462213218,
          18.496560678753617,
          10.493380124985249,
          24.6232294436299,
          7.403715375093694,
          21.717680631582894,
          12.073496861045856,
          1.622461271878488,
          6.000501677504208,
          28.275927579685806,
          0.4349103225526918,
          18.065097848710653,
          4.773986061151455,
          2.596839096102792,
          10.421349109136825,
          3.4942622603081883,
          6.526934102320799,
          1.5108767665193708,
          15.040493044321426,
          13.255539637806834,
          12.11837596934283
         ]
        },
        {
         "type": "surface",
         "x": [
          -2.7339016042904403,
          -1.963885676114482,
          -1.1938697479385239,
          -0.42385381976256564,
          0.34616210841339257,
          1.1161780365893508,
          1.886193964765309,
          2.656209892941267,
          3.4262258211172254,
          4.196241749293184
         ],
         "y": [
          -2.7473214382390663,
          -1.9921954456126079,
          -1.2370694529861495,
          -0.48194346035969104,
          0.27318253226676736,
          1.0283085248932258,
          1.7834345175196842,
          2.538560510146142,
          3.293686502772601,
          4.04881249539906
         ],
         "z": [
          [
           6.854667331041178,
           8.762217368453898,
           13.545352684758146,
           17.66480169476032,
           9.507144210316305,
           6.702763389622762,
           12.887665175177974,
           14.825086776461498,
           12.015991885730573,
           14.85138351119982
          ],
          [
           14.54625262533087,
           13.21520760623655,
           11.239185747166799,
           14.298889929867418,
           10.381271785544193,
           14.228719693761196,
           11.452286449144797,
           7.021824082296403,
           12.433869467745252,
           11.49950618340447
          ],
          [
           9.780008584195679,
           3.802700114207486,
           14.219430608854376,
           9.563818145952645,
           10.65213601577325,
           9.882213334601275,
           10.433313087849523,
           10.539906502368503,
           10.458230309646897,
           13.248182030125644
          ],
          [
           17.09859181746406,
           8.153183433413323,
           14.583445294055718,
           13.763531598114826,
           8.206277086063277,
           11.513668553339294,
           10.828887581961986,
           13.62754720188237,
           7.133928118891983,
           10.029591550701813
          ],
          [
           10.988164790315,
           8.710199550663145,
           13.579260894012707,
           9.756335303850975,
           14.53724039007984,
           11.749695508377389,
           6.643596657007884,
           7.888099241356132,
           7.808702023080507,
           9.704549312519486
          ],
          [
           11.261587695038308,
           12.482107024577068,
           11.593956313113821,
           4.140536250003857,
           13.953127186016296,
           11.915291768036518,
           12.136463080980226,
           14.547455385700754,
           11.402384764047108,
           8.175290835931758
          ],
          [
           11.510660416509552,
           14.849320739800499,
           12.94426605396473,
           10.016252236555566,
           11.252502290850533,
           12.302376325584886,
           14.152665117043792,
           7.6574932605945705,
           11.573805227975308,
           10.702485924642094
          ],
          [
           8.927969575058109,
           11.415646340949015,
           10.349029354223639,
           10.463363497820648,
           10.957663242212668,
           12.517635222097589,
           16.124407953492497,
           12.383206304780018,
           14.714935268117134,
           14.089935589204268
          ],
          [
           13.560157433724498,
           9.30814232262746,
           14.250963069320846,
           6.670667072108126,
           14.111222010476109,
           8.636838422462102,
           6.872969138541485,
           11.24717874235687,
           10.1630391226222,
           11.972502441279465
          ],
          [
           15.887591270471926,
           14.4672472769327,
           9.931754541364318,
           12.578346741694576,
           13.455443937971799,
           9.5166367386248,
           12.062089114429712,
           10.591610751451983,
           11.578628669824855,
           10.650628310592365
          ]
         ]
        }
       ],
       "layout": {
        "legend": {
         "tracegroupgap": 0
        },
        "margin": {
         "t": 60
        },
        "scene": {
         "domain": {
          "x": [
           0,
           1
          ],
          "y": [
           0,
           1
          ]
         },
         "xaxis": {
          "title": {
           "text": "x"
          }
         },
         "yaxis": {
          "title": {
           "text": "y"
          }
         },
         "zaxis": {
          "title": {
           "text": "z"
          }
         }
        },
        "template": {
         "data": {
          "bar": [
           {
            "error_x": {
             "color": "#2a3f5f"
            },
            "error_y": {
             "color": "#2a3f5f"
            },
            "marker": {
             "line": {
              "color": "#E5ECF6",
              "width": 0.5
             },
             "pattern": {
              "fillmode": "overlay",
              "size": 10,
              "solidity": 0.2
             }
            },
            "type": "bar"
           }
          ],
          "barpolar": [
           {
            "marker": {
             "line": {
              "color": "#E5ECF6",
              "width": 0.5
             },
             "pattern": {
              "fillmode": "overlay",
              "size": 10,
              "solidity": 0.2
             }
            },
            "type": "barpolar"
           }
          ],
          "carpet": [
           {
            "aaxis": {
             "endlinecolor": "#2a3f5f",
             "gridcolor": "white",
             "linecolor": "white",
             "minorgridcolor": "white",
             "startlinecolor": "#2a3f5f"
            },
            "baxis": {
             "endlinecolor": "#2a3f5f",
             "gridcolor": "white",
             "linecolor": "white",
             "minorgridcolor": "white",
             "startlinecolor": "#2a3f5f"
            },
            "type": "carpet"
           }
          ],
          "choropleth": [
           {
            "colorbar": {
             "outlinewidth": 0,
             "ticks": ""
            },
            "type": "choropleth"
           }
          ],
          "contour": [
           {
            "colorbar": {
             "outlinewidth": 0,
             "ticks": ""
            },
            "colorscale": [
             [
              0,
              "#0d0887"
             ],
             [
              0.1111111111111111,
              "#46039f"
             ],
             [
              0.2222222222222222,
              "#7201a8"
             ],
             [
              0.3333333333333333,
              "#9c179e"
             ],
             [
              0.4444444444444444,
              "#bd3786"
             ],
             [
              0.5555555555555556,
              "#d8576b"
             ],
             [
              0.6666666666666666,
              "#ed7953"
             ],
             [
              0.7777777777777778,
              "#fb9f3a"
             ],
             [
              0.8888888888888888,
              "#fdca26"
             ],
             [
              1,
              "#f0f921"
             ]
            ],
            "type": "contour"
           }
          ],
          "contourcarpet": [
           {
            "colorbar": {
             "outlinewidth": 0,
             "ticks": ""
            },
            "type": "contourcarpet"
           }
          ],
          "heatmap": [
           {
            "colorbar": {
             "outlinewidth": 0,
             "ticks": ""
            },
            "colorscale": [
             [
              0,
              "#0d0887"
             ],
             [
              0.1111111111111111,
              "#46039f"
             ],
             [
              0.2222222222222222,
              "#7201a8"
             ],
             [
              0.3333333333333333,
              "#9c179e"
             ],
             [
              0.4444444444444444,
              "#bd3786"
             ],
             [
              0.5555555555555556,
              "#d8576b"
             ],
             [
              0.6666666666666666,
              "#ed7953"
             ],
             [
              0.7777777777777778,
              "#fb9f3a"
             ],
             [
              0.8888888888888888,
              "#fdca26"
             ],
             [
              1,
              "#f0f921"
             ]
            ],
            "type": "heatmap"
           }
          ],
          "heatmapgl": [
           {
            "colorbar": {
             "outlinewidth": 0,
             "ticks": ""
            },
            "colorscale": [
             [
              0,
              "#0d0887"
             ],
             [
              0.1111111111111111,
              "#46039f"
             ],
             [
              0.2222222222222222,
              "#7201a8"
             ],
             [
              0.3333333333333333,
              "#9c179e"
             ],
             [
              0.4444444444444444,
              "#bd3786"
             ],
             [
              0.5555555555555556,
              "#d8576b"
             ],
             [
              0.6666666666666666,
              "#ed7953"
             ],
             [
              0.7777777777777778,
              "#fb9f3a"
             ],
             [
              0.8888888888888888,
              "#fdca26"
             ],
             [
              1,
              "#f0f921"
             ]
            ],
            "type": "heatmapgl"
           }
          ],
          "histogram": [
           {
            "marker": {
             "pattern": {
              "fillmode": "overlay",
              "size": 10,
              "solidity": 0.2
             }
            },
            "type": "histogram"
           }
          ],
          "histogram2d": [
           {
            "colorbar": {
             "outlinewidth": 0,
             "ticks": ""
            },
            "colorscale": [
             [
              0,
              "#0d0887"
             ],
             [
              0.1111111111111111,
              "#46039f"
             ],
             [
              0.2222222222222222,
              "#7201a8"
             ],
             [
              0.3333333333333333,
              "#9c179e"
             ],
             [
              0.4444444444444444,
              "#bd3786"
             ],
             [
              0.5555555555555556,
              "#d8576b"
             ],
             [
              0.6666666666666666,
              "#ed7953"
             ],
             [
              0.7777777777777778,
              "#fb9f3a"
             ],
             [
              0.8888888888888888,
              "#fdca26"
             ],
             [
              1,
              "#f0f921"
             ]
            ],
            "type": "histogram2d"
           }
          ],
          "histogram2dcontour": [
           {
            "colorbar": {
             "outlinewidth": 0,
             "ticks": ""
            },
            "colorscale": [
             [
              0,
              "#0d0887"
             ],
             [
              0.1111111111111111,
              "#46039f"
             ],
             [
              0.2222222222222222,
              "#7201a8"
             ],
             [
              0.3333333333333333,
              "#9c179e"
             ],
             [
              0.4444444444444444,
              "#bd3786"
             ],
             [
              0.5555555555555556,
              "#d8576b"
             ],
             [
              0.6666666666666666,
              "#ed7953"
             ],
             [
              0.7777777777777778,
              "#fb9f3a"
             ],
             [
              0.8888888888888888,
              "#fdca26"
             ],
             [
              1,
              "#f0f921"
             ]
            ],
            "type": "histogram2dcontour"
           }
          ],
          "mesh3d": [
           {
            "colorbar": {
             "outlinewidth": 0,
             "ticks": ""
            },
            "type": "mesh3d"
           }
          ],
          "parcoords": [
           {
            "line": {
             "colorbar": {
              "outlinewidth": 0,
              "ticks": ""
             }
            },
            "type": "parcoords"
           }
          ],
          "pie": [
           {
            "automargin": true,
            "type": "pie"
           }
          ],
          "scatter": [
           {
            "fillpattern": {
             "fillmode": "overlay",
             "size": 10,
             "solidity": 0.2
            },
            "type": "scatter"
           }
          ],
          "scatter3d": [
           {
            "line": {
             "colorbar": {
              "outlinewidth": 0,
              "ticks": ""
             }
            },
            "marker": {
             "colorbar": {
              "outlinewidth": 0,
              "ticks": ""
             }
            },
            "type": "scatter3d"
           }
          ],
          "scattercarpet": [
           {
            "marker": {
             "colorbar": {
              "outlinewidth": 0,
              "ticks": ""
             }
            },
            "type": "scattercarpet"
           }
          ],
          "scattergeo": [
           {
            "marker": {
             "colorbar": {
              "outlinewidth": 0,
              "ticks": ""
             }
            },
            "type": "scattergeo"
           }
          ],
          "scattergl": [
           {
            "marker": {
             "colorbar": {
              "outlinewidth": 0,
              "ticks": ""
             }
            },
            "type": "scattergl"
           }
          ],
          "scattermapbox": [
           {
            "marker": {
             "colorbar": {
              "outlinewidth": 0,
              "ticks": ""
             }
            },
            "type": "scattermapbox"
           }
          ],
          "scatterpolar": [
           {
            "marker": {
             "colorbar": {
              "outlinewidth": 0,
              "ticks": ""
             }
            },
            "type": "scatterpolar"
           }
          ],
          "scatterpolargl": [
           {
            "marker": {
             "colorbar": {
              "outlinewidth": 0,
              "ticks": ""
             }
            },
            "type": "scatterpolargl"
           }
          ],
          "scatterternary": [
           {
            "marker": {
             "colorbar": {
              "outlinewidth": 0,
              "ticks": ""
             }
            },
            "type": "scatterternary"
           }
          ],
          "surface": [
           {
            "colorbar": {
             "outlinewidth": 0,
             "ticks": ""
            },
            "colorscale": [
             [
              0,
              "#0d0887"
             ],
             [
              0.1111111111111111,
              "#46039f"
             ],
             [
              0.2222222222222222,
              "#7201a8"
             ],
             [
              0.3333333333333333,
              "#9c179e"
             ],
             [
              0.4444444444444444,
              "#bd3786"
             ],
             [
              0.5555555555555556,
              "#d8576b"
             ],
             [
              0.6666666666666666,
              "#ed7953"
             ],
             [
              0.7777777777777778,
              "#fb9f3a"
             ],
             [
              0.8888888888888888,
              "#fdca26"
             ],
             [
              1,
              "#f0f921"
             ]
            ],
            "type": "surface"
           }
          ],
          "table": [
           {
            "cells": {
             "fill": {
              "color": "#EBF0F8"
             },
             "line": {
              "color": "white"
             }
            },
            "header": {
             "fill": {
              "color": "#C8D4E3"
             },
             "line": {
              "color": "white"
             }
            },
            "type": "table"
           }
          ]
         },
         "layout": {
          "annotationdefaults": {
           "arrowcolor": "#2a3f5f",
           "arrowhead": 0,
           "arrowwidth": 1
          },
          "autotypenumbers": "strict",
          "coloraxis": {
           "colorbar": {
            "outlinewidth": 0,
            "ticks": ""
           }
          },
          "colorscale": {
           "diverging": [
            [
             0,
             "#8e0152"
            ],
            [
             0.1,
             "#c51b7d"
            ],
            [
             0.2,
             "#de77ae"
            ],
            [
             0.3,
             "#f1b6da"
            ],
            [
             0.4,
             "#fde0ef"
            ],
            [
             0.5,
             "#f7f7f7"
            ],
            [
             0.6,
             "#e6f5d0"
            ],
            [
             0.7,
             "#b8e186"
            ],
            [
             0.8,
             "#7fbc41"
            ],
            [
             0.9,
             "#4d9221"
            ],
            [
             1,
             "#276419"
            ]
           ],
           "sequential": [
            [
             0,
             "#0d0887"
            ],
            [
             0.1111111111111111,
             "#46039f"
            ],
            [
             0.2222222222222222,
             "#7201a8"
            ],
            [
             0.3333333333333333,
             "#9c179e"
            ],
            [
             0.4444444444444444,
             "#bd3786"
            ],
            [
             0.5555555555555556,
             "#d8576b"
            ],
            [
             0.6666666666666666,
             "#ed7953"
            ],
            [
             0.7777777777777778,
             "#fb9f3a"
            ],
            [
             0.8888888888888888,
             "#fdca26"
            ],
            [
             1,
             "#f0f921"
            ]
           ],
           "sequentialminus": [
            [
             0,
             "#0d0887"
            ],
            [
             0.1111111111111111,
             "#46039f"
            ],
            [
             0.2222222222222222,
             "#7201a8"
            ],
            [
             0.3333333333333333,
             "#9c179e"
            ],
            [
             0.4444444444444444,
             "#bd3786"
            ],
            [
             0.5555555555555556,
             "#d8576b"
            ],
            [
             0.6666666666666666,
             "#ed7953"
            ],
            [
             0.7777777777777778,
             "#fb9f3a"
            ],
            [
             0.8888888888888888,
             "#fdca26"
            ],
            [
             1,
             "#f0f921"
            ]
           ]
          },
          "colorway": [
           "#636efa",
           "#EF553B",
           "#00cc96",
           "#ab63fa",
           "#FFA15A",
           "#19d3f3",
           "#FF6692",
           "#B6E880",
           "#FF97FF",
           "#FECB52"
          ],
          "font": {
           "color": "#2a3f5f"
          },
          "geo": {
           "bgcolor": "white",
           "lakecolor": "white",
           "landcolor": "#E5ECF6",
           "showlakes": true,
           "showland": true,
           "subunitcolor": "white"
          },
          "hoverlabel": {
           "align": "left"
          },
          "hovermode": "closest",
          "mapbox": {
           "style": "light"
          },
          "paper_bgcolor": "white",
          "plot_bgcolor": "#E5ECF6",
          "polar": {
           "angularaxis": {
            "gridcolor": "white",
            "linecolor": "white",
            "ticks": ""
           },
           "bgcolor": "#E5ECF6",
           "radialaxis": {
            "gridcolor": "white",
            "linecolor": "white",
            "ticks": ""
           }
          },
          "scene": {
           "xaxis": {
            "backgroundcolor": "#E5ECF6",
            "gridcolor": "white",
            "gridwidth": 2,
            "linecolor": "white",
            "showbackground": true,
            "ticks": "",
            "zerolinecolor": "white"
           },
           "yaxis": {
            "backgroundcolor": "#E5ECF6",
            "gridcolor": "white",
            "gridwidth": 2,
            "linecolor": "white",
            "showbackground": true,
            "ticks": "",
            "zerolinecolor": "white"
           },
           "zaxis": {
            "backgroundcolor": "#E5ECF6",
            "gridcolor": "white",
            "gridwidth": 2,
            "linecolor": "white",
            "showbackground": true,
            "ticks": "",
            "zerolinecolor": "white"
           }
          },
          "shapedefaults": {
           "line": {
            "color": "#2a3f5f"
           }
          },
          "ternary": {
           "aaxis": {
            "gridcolor": "white",
            "linecolor": "white",
            "ticks": ""
           },
           "baxis": {
            "gridcolor": "white",
            "linecolor": "white",
            "ticks": ""
           },
           "bgcolor": "#E5ECF6",
           "caxis": {
            "gridcolor": "white",
            "linecolor": "white",
            "ticks": ""
           }
          },
          "title": {
           "x": 0.05
          },
          "xaxis": {
           "automargin": true,
           "gridcolor": "white",
           "linecolor": "white",
           "ticks": "",
           "title": {
            "standoff": 15
           },
           "zerolinecolor": "white",
           "zerolinewidth": 2
          },
          "yaxis": {
           "automargin": true,
           "gridcolor": "white",
           "linecolor": "white",
           "ticks": "",
           "title": {
            "standoff": 15
           },
           "zerolinecolor": "white",
           "zerolinewidth": 2
          }
         }
        }
       }
      }
     },
     "metadata": {},
     "output_type": "display_data"
    }
   ],
   "source": [
    "fig = px.scatter_3d(x=x.ravel(),y=y.ravel(),z=z.ravel())\n",
    "fig.add_trace(go.Surface(x= xInput, y= yInput, z= zFinal))"
   ]
  },
  {
   "cell_type": "markdown",
   "metadata": {},
   "source": [
    "# End"
   ]
  }
 ],
 "metadata": {
  "kernelspec": {
   "display_name": "Python 3",
   "language": "python",
   "name": "python3"
  },
  "language_info": {
   "codemirror_mode": {
    "name": "ipython",
    "version": 3
   },
   "file_extension": ".py",
   "mimetype": "text/x-python",
   "name": "python",
   "nbconvert_exporter": "python",
   "pygments_lexer": "ipython3",
   "version": "3.11.7"
  },
  "orig_nbformat": 4
 },
 "nbformat": 4,
 "nbformat_minor": 2
}
