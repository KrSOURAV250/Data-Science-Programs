{
 "cells": [
  {
   "cell_type": "code",
   "execution_count": 6,
   "metadata": {},
   "outputs": [
    {
     "data": {
      "text/plain": [
       "3.49724"
      ]
     },
     "execution_count": 6,
     "metadata": {},
     "output_type": "execute_result"
    }
   ],
   "source": [
    "import random\n",
    "import numpy as np\n",
    "\n",
    "outcome = []\n",
    "for i in np.arange(1000000):\n",
    "    outcome.append(random.randint(1,6))\n",
    "np.array(outcome).mean()"
   ]
  },
  {
   "cell_type": "code",
   "execution_count": 7,
   "metadata": {},
   "outputs": [
    {
     "data": {
      "text/plain": [
       "((506, 13), (506,))"
      ]
     },
     "execution_count": 7,
     "metadata": {},
     "output_type": "execute_result"
    }
   ],
   "source": [
    "from mlxtend.evaluate import bias_variance_decomp\n",
    "from sklearn.linear_model import LinearRegression\n",
    "from sklearn.model_selection import train_test_split\n",
    "from mlxtend.data import boston_housing_data\n",
    "\n",
    "x,y = boston_housing_data()\n",
    "x.shape, y.shape"
   ]
  },
  {
   "cell_type": "code",
   "execution_count": 8,
   "metadata": {},
   "outputs": [
    {
     "data": {
      "text/plain": [
       "((354, 13), (152, 13))"
      ]
     },
     "execution_count": 8,
     "metadata": {},
     "output_type": "execute_result"
    }
   ],
   "source": [
    "xTrain, xTest, yTrain, yTest = train_test_split(\n",
    "    x, y, test_size=0.3, random_state=123, shuffle=True)\n",
    "xTrain.shape, xTest.shape"
   ]
  },
  {
   "cell_type": "code",
   "execution_count": 9,
   "metadata": {},
   "outputs": [
    {
     "name": "stdout",
     "output_type": "stream",
     "text": [
      "Avg Expected Loss: 29.891450216347593\n",
      "Avg Bias: 28.609233801954325\n",
      "Avg Variance: 1.2822164143932582\n"
     ]
    }
   ],
   "source": [
    "lr = LinearRegression()\n",
    "avgExpectedLoss, avgBias, avgVar = bias_variance_decomp(\n",
    "    lr, xTrain, yTrain, xTest, yTest, loss=\"mse\", random_seed=123)\n",
    "\n",
    "print(f\"Avg Expected Loss: {avgExpectedLoss}\")\n",
    "print(f\"Avg Bias: {avgBias}\")\n",
    "print(f\"Avg Variance: {avgVar}\")"
   ]
  },
  {
   "cell_type": "code",
   "execution_count": 10,
   "metadata": {},
   "outputs": [
    {
     "name": "stdout",
     "output_type": "stream",
     "text": [
      "Avg Expected Loss: 31.536008881578947\n",
      "Avg Bias: 14.095801179276307\n",
      "Avg Variance: 17.440207702302633\n"
     ]
    }
   ],
   "source": [
    "from sklearn.tree import DecisionTreeRegressor\n",
    "dc = DecisionTreeRegressor(random_state=123)\n",
    "avgExpectedLoss, avgBias, avgVar = bias_variance_decomp(\n",
    "    dc, xTrain, yTrain, xTest, yTest, loss=\"mse\", random_seed=123)\n",
    "\n",
    "print(f\"Avg Expected Loss: {avgExpectedLoss}\")\n",
    "print(f\"Avg Bias: {avgBias}\")\n",
    "print(f\"Avg Variance: {avgVar}\")"
   ]
  },
  {
   "cell_type": "markdown",
   "metadata": {},
   "source": [
    "# End"
   ]
  }
 ],
 "metadata": {
  "kernelspec": {
   "display_name": "Python 3",
   "language": "python",
   "name": "python3"
  },
  "language_info": {
   "codemirror_mode": {
    "name": "ipython",
    "version": 3
   },
   "file_extension": ".py",
   "mimetype": "text/x-python",
   "name": "python",
   "nbconvert_exporter": "python",
   "pygments_lexer": "ipython3",
   "version": "3.11.4"
  },
  "orig_nbformat": 4
 },
 "nbformat": 4,
 "nbformat_minor": 2
}
