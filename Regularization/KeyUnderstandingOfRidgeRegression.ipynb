{
 "cells": [
  {
   "cell_type": "markdown",
   "metadata": {},
   "source": [
    "### 1. How The Coffiecients Get Affected?"
   ]
  },
  {
   "cell_type": "code",
   "execution_count": 327,
   "metadata": {},
   "outputs": [],
   "source": [
    "from sklearn.datasets import load_diabetes\n",
    "import plotly.express as px\n",
    "import pandas as pd\n",
    "import numpy as np"
   ]
  },
  {
   "cell_type": "code",
   "execution_count": 328,
   "metadata": {},
   "outputs": [],
   "source": [
    "data = load_diabetes()"
   ]
  },
  {
   "cell_type": "code",
   "execution_count": 329,
   "metadata": {},
   "outputs": [],
   "source": [
    "df = pd.DataFrame(data.data, columns=data.feature_names)\n",
    "df[\"Target\"] = data.target"
   ]
  },
  {
   "cell_type": "code",
   "execution_count": 330,
   "metadata": {},
   "outputs": [
    {
     "data": {
      "text/html": [
       "<div>\n",
       "<style scoped>\n",
       "    .dataframe tbody tr th:only-of-type {\n",
       "        vertical-align: middle;\n",
       "    }\n",
       "\n",
       "    .dataframe tbody tr th {\n",
       "        vertical-align: top;\n",
       "    }\n",
       "\n",
       "    .dataframe thead th {\n",
       "        text-align: right;\n",
       "    }\n",
       "</style>\n",
       "<table border=\"1\" class=\"dataframe\">\n",
       "  <thead>\n",
       "    <tr style=\"text-align: right;\">\n",
       "      <th></th>\n",
       "      <th>age</th>\n",
       "      <th>sex</th>\n",
       "      <th>bmi</th>\n",
       "      <th>bp</th>\n",
       "      <th>s1</th>\n",
       "      <th>s2</th>\n",
       "      <th>s3</th>\n",
       "      <th>s4</th>\n",
       "      <th>s5</th>\n",
       "      <th>s6</th>\n",
       "      <th>Target</th>\n",
       "    </tr>\n",
       "  </thead>\n",
       "  <tbody>\n",
       "    <tr>\n",
       "      <th>0</th>\n",
       "      <td>0.038076</td>\n",
       "      <td>0.050680</td>\n",
       "      <td>0.061696</td>\n",
       "      <td>0.021872</td>\n",
       "      <td>-0.044223</td>\n",
       "      <td>-0.034821</td>\n",
       "      <td>-0.043401</td>\n",
       "      <td>-0.002592</td>\n",
       "      <td>0.019907</td>\n",
       "      <td>-0.017646</td>\n",
       "      <td>151.0</td>\n",
       "    </tr>\n",
       "    <tr>\n",
       "      <th>1</th>\n",
       "      <td>-0.001882</td>\n",
       "      <td>-0.044642</td>\n",
       "      <td>-0.051474</td>\n",
       "      <td>-0.026328</td>\n",
       "      <td>-0.008449</td>\n",
       "      <td>-0.019163</td>\n",
       "      <td>0.074412</td>\n",
       "      <td>-0.039493</td>\n",
       "      <td>-0.068332</td>\n",
       "      <td>-0.092204</td>\n",
       "      <td>75.0</td>\n",
       "    </tr>\n",
       "    <tr>\n",
       "      <th>2</th>\n",
       "      <td>0.085299</td>\n",
       "      <td>0.050680</td>\n",
       "      <td>0.044451</td>\n",
       "      <td>-0.005670</td>\n",
       "      <td>-0.045599</td>\n",
       "      <td>-0.034194</td>\n",
       "      <td>-0.032356</td>\n",
       "      <td>-0.002592</td>\n",
       "      <td>0.002861</td>\n",
       "      <td>-0.025930</td>\n",
       "      <td>141.0</td>\n",
       "    </tr>\n",
       "    <tr>\n",
       "      <th>3</th>\n",
       "      <td>-0.089063</td>\n",
       "      <td>-0.044642</td>\n",
       "      <td>-0.011595</td>\n",
       "      <td>-0.036656</td>\n",
       "      <td>0.012191</td>\n",
       "      <td>0.024991</td>\n",
       "      <td>-0.036038</td>\n",
       "      <td>0.034309</td>\n",
       "      <td>0.022688</td>\n",
       "      <td>-0.009362</td>\n",
       "      <td>206.0</td>\n",
       "    </tr>\n",
       "    <tr>\n",
       "      <th>4</th>\n",
       "      <td>0.005383</td>\n",
       "      <td>-0.044642</td>\n",
       "      <td>-0.036385</td>\n",
       "      <td>0.021872</td>\n",
       "      <td>0.003935</td>\n",
       "      <td>0.015596</td>\n",
       "      <td>0.008142</td>\n",
       "      <td>-0.002592</td>\n",
       "      <td>-0.031988</td>\n",
       "      <td>-0.046641</td>\n",
       "      <td>135.0</td>\n",
       "    </tr>\n",
       "  </tbody>\n",
       "</table>\n",
       "</div>"
      ],
      "text/plain": [
       "        age       sex       bmi        bp        s1        s2        s3  \\\n",
       "0  0.038076  0.050680  0.061696  0.021872 -0.044223 -0.034821 -0.043401   \n",
       "1 -0.001882 -0.044642 -0.051474 -0.026328 -0.008449 -0.019163  0.074412   \n",
       "2  0.085299  0.050680  0.044451 -0.005670 -0.045599 -0.034194 -0.032356   \n",
       "3 -0.089063 -0.044642 -0.011595 -0.036656  0.012191  0.024991 -0.036038   \n",
       "4  0.005383 -0.044642 -0.036385  0.021872  0.003935  0.015596  0.008142   \n",
       "\n",
       "         s4        s5        s6  Target  \n",
       "0 -0.002592  0.019907 -0.017646   151.0  \n",
       "1 -0.039493 -0.068332 -0.092204    75.0  \n",
       "2 -0.002592  0.002861 -0.025930   141.0  \n",
       "3  0.034309  0.022688 -0.009362   206.0  \n",
       "4 -0.002592 -0.031988 -0.046641   135.0  "
      ]
     },
     "execution_count": 330,
     "metadata": {},
     "output_type": "execute_result"
    }
   ],
   "source": [
    "df.head()"
   ]
  },
  {
   "cell_type": "code",
   "execution_count": 331,
   "metadata": {},
   "outputs": [
    {
     "data": {
      "text/plain": [
       "(442, 11)"
      ]
     },
     "execution_count": 331,
     "metadata": {},
     "output_type": "execute_result"
    }
   ],
   "source": [
    "df.shape"
   ]
  },
  {
   "cell_type": "code",
   "execution_count": 332,
   "metadata": {},
   "outputs": [],
   "source": [
    "from sklearn.model_selection import train_test_split\n",
    "xTrain, xTest, yTrain, yTest = train_test_split(data.data, data.target, test_size=0.2, random_state=2)"
   ]
  },
  {
   "cell_type": "code",
   "execution_count": 333,
   "metadata": {},
   "outputs": [
    {
     "data": {
      "text/plain": [
       "(353, 10)"
      ]
     },
     "execution_count": 333,
     "metadata": {},
     "output_type": "execute_result"
    }
   ],
   "source": [
    "xTrain.shape"
   ]
  },
  {
   "cell_type": "code",
   "execution_count": 334,
   "metadata": {},
   "outputs": [],
   "source": [
    "from sklearn.linear_model import Ridge\n",
    "from sklearn.metrics import r2_score"
   ]
  },
  {
   "cell_type": "code",
   "execution_count": 335,
   "metadata": {},
   "outputs": [],
   "source": [
    "coefs =[]\n",
    "r2_scores = []\n",
    "for i in [0,10,100,500]:\n",
    "    reg = Ridge(alpha=i)\n",
    "    reg.fit(xTrain, yTrain)\n",
    "    coefs.append(np.insert(reg.coef_, 0, reg.intercept_, axis=0))\n",
    "    r2_scores.append(r2_score(yTest, reg.predict(xTest)))"
   ]
  },
  {
   "cell_type": "code",
   "execution_count": 336,
   "metadata": {},
   "outputs": [],
   "source": [
    "import plotly.graph_objects as go\n",
    "from plotly.subplots import make_subplots"
   ]
  },
  {
   "cell_type": "code",
   "execution_count": 337,
   "metadata": {},
   "outputs": [
    {
     "data": {
      "application/vnd.plotly.v1+json": {
       "config": {
        "plotlyServerURL": "https://plot.ly"
       },
       "data": [
        {
         "name": "Alpha : 0, R2 Score : 0.43993386615689667",
         "type": "bar",
         "x": [
          "age",
          "sex",
          "bmi",
          "bp",
          "s1",
          "s2",
          "s3",
          "s4",
          "s5",
          "s6"
         ],
         "xaxis": "x",
         "y": [
          151.88331005254167,
          -9.158653181170363,
          -205.45432163452114,
          516.6937445408271,
          340.61999904554847,
          -895.5520019034768,
          561.2206790413021,
          153.89310953635996,
          126.731396878462,
          861.1270015229967,
          52.42112237904704
         ],
         "yaxis": "y"
        },
        {
         "name": "Alpha : 10, R2 Score : 0.15214327672566985",
         "type": "bar",
         "x": [
          "age",
          "sex",
          "bmi",
          "bp",
          "s1",
          "s2",
          "s3",
          "s4",
          "s5",
          "s6"
         ],
         "xaxis": "x2",
         "y": [
          150.9004816221814,
          21.174024430657028,
          1.6598369427666693,
          63.65982584237654,
          48.49285812895809,
          18.42151032381465,
          12.875465784744849,
          -38.915434727002285,
          38.842475443812965,
          61.61230248383494,
          35.505383019498474
         ],
         "yaxis": "y2"
        },
        {
         "name": "Alpha : 100, R2 Score : 0.010378115936827137",
         "type": "bar",
         "x": [
          "age",
          "sex",
          "bmi",
          "bp",
          "s1",
          "s2",
          "s3",
          "s4",
          "s5",
          "s6"
         ],
         "xaxis": "x3",
         "y": [
          150.51593995113907,
          2.858979751926675,
          0.6294525865756895,
          7.540605233970548,
          5.849949459815251,
          2.710878806908419,
          2.1421346679368316,
          -4.834047020128568,
          5.108223464961738,
          7.4484511161018006,
          4.576129087936827
         ],
         "yaxis": "y3"
        },
        {
         "name": "Alpha : 500, R2 Score : -0.0077767172547131835",
         "type": "bar",
         "x": [
          "age",
          "sex",
          "bmi",
          "bp",
          "s1",
          "s2",
          "s3",
          "s4",
          "s5",
          "s6"
         ],
         "xaxis": "x4",
         "y": [
          150.47062698125146,
          0.5892104192365467,
          0.1371301665899612,
          1.5346124072702145,
          1.1927320049875532,
          0.5630999293151636,
          0.44919052402367887,
          -0.9884372772037173,
          1.0503671048495113,
          1.5192030331405075,
          0.9390026145370924
         ],
         "yaxis": "y4"
        }
       ],
       "layout": {
        "template": {
         "data": {
          "bar": [
           {
            "error_x": {
             "color": "#2a3f5f"
            },
            "error_y": {
             "color": "#2a3f5f"
            },
            "marker": {
             "line": {
              "color": "#E5ECF6",
              "width": 0.5
             },
             "pattern": {
              "fillmode": "overlay",
              "size": 10,
              "solidity": 0.2
             }
            },
            "type": "bar"
           }
          ],
          "barpolar": [
           {
            "marker": {
             "line": {
              "color": "#E5ECF6",
              "width": 0.5
             },
             "pattern": {
              "fillmode": "overlay",
              "size": 10,
              "solidity": 0.2
             }
            },
            "type": "barpolar"
           }
          ],
          "carpet": [
           {
            "aaxis": {
             "endlinecolor": "#2a3f5f",
             "gridcolor": "white",
             "linecolor": "white",
             "minorgridcolor": "white",
             "startlinecolor": "#2a3f5f"
            },
            "baxis": {
             "endlinecolor": "#2a3f5f",
             "gridcolor": "white",
             "linecolor": "white",
             "minorgridcolor": "white",
             "startlinecolor": "#2a3f5f"
            },
            "type": "carpet"
           }
          ],
          "choropleth": [
           {
            "colorbar": {
             "outlinewidth": 0,
             "ticks": ""
            },
            "type": "choropleth"
           }
          ],
          "contour": [
           {
            "colorbar": {
             "outlinewidth": 0,
             "ticks": ""
            },
            "colorscale": [
             [
              0,
              "#0d0887"
             ],
             [
              0.1111111111111111,
              "#46039f"
             ],
             [
              0.2222222222222222,
              "#7201a8"
             ],
             [
              0.3333333333333333,
              "#9c179e"
             ],
             [
              0.4444444444444444,
              "#bd3786"
             ],
             [
              0.5555555555555556,
              "#d8576b"
             ],
             [
              0.6666666666666666,
              "#ed7953"
             ],
             [
              0.7777777777777778,
              "#fb9f3a"
             ],
             [
              0.8888888888888888,
              "#fdca26"
             ],
             [
              1,
              "#f0f921"
             ]
            ],
            "type": "contour"
           }
          ],
          "contourcarpet": [
           {
            "colorbar": {
             "outlinewidth": 0,
             "ticks": ""
            },
            "type": "contourcarpet"
           }
          ],
          "heatmap": [
           {
            "colorbar": {
             "outlinewidth": 0,
             "ticks": ""
            },
            "colorscale": [
             [
              0,
              "#0d0887"
             ],
             [
              0.1111111111111111,
              "#46039f"
             ],
             [
              0.2222222222222222,
              "#7201a8"
             ],
             [
              0.3333333333333333,
              "#9c179e"
             ],
             [
              0.4444444444444444,
              "#bd3786"
             ],
             [
              0.5555555555555556,
              "#d8576b"
             ],
             [
              0.6666666666666666,
              "#ed7953"
             ],
             [
              0.7777777777777778,
              "#fb9f3a"
             ],
             [
              0.8888888888888888,
              "#fdca26"
             ],
             [
              1,
              "#f0f921"
             ]
            ],
            "type": "heatmap"
           }
          ],
          "heatmapgl": [
           {
            "colorbar": {
             "outlinewidth": 0,
             "ticks": ""
            },
            "colorscale": [
             [
              0,
              "#0d0887"
             ],
             [
              0.1111111111111111,
              "#46039f"
             ],
             [
              0.2222222222222222,
              "#7201a8"
             ],
             [
              0.3333333333333333,
              "#9c179e"
             ],
             [
              0.4444444444444444,
              "#bd3786"
             ],
             [
              0.5555555555555556,
              "#d8576b"
             ],
             [
              0.6666666666666666,
              "#ed7953"
             ],
             [
              0.7777777777777778,
              "#fb9f3a"
             ],
             [
              0.8888888888888888,
              "#fdca26"
             ],
             [
              1,
              "#f0f921"
             ]
            ],
            "type": "heatmapgl"
           }
          ],
          "histogram": [
           {
            "marker": {
             "pattern": {
              "fillmode": "overlay",
              "size": 10,
              "solidity": 0.2
             }
            },
            "type": "histogram"
           }
          ],
          "histogram2d": [
           {
            "colorbar": {
             "outlinewidth": 0,
             "ticks": ""
            },
            "colorscale": [
             [
              0,
              "#0d0887"
             ],
             [
              0.1111111111111111,
              "#46039f"
             ],
             [
              0.2222222222222222,
              "#7201a8"
             ],
             [
              0.3333333333333333,
              "#9c179e"
             ],
             [
              0.4444444444444444,
              "#bd3786"
             ],
             [
              0.5555555555555556,
              "#d8576b"
             ],
             [
              0.6666666666666666,
              "#ed7953"
             ],
             [
              0.7777777777777778,
              "#fb9f3a"
             ],
             [
              0.8888888888888888,
              "#fdca26"
             ],
             [
              1,
              "#f0f921"
             ]
            ],
            "type": "histogram2d"
           }
          ],
          "histogram2dcontour": [
           {
            "colorbar": {
             "outlinewidth": 0,
             "ticks": ""
            },
            "colorscale": [
             [
              0,
              "#0d0887"
             ],
             [
              0.1111111111111111,
              "#46039f"
             ],
             [
              0.2222222222222222,
              "#7201a8"
             ],
             [
              0.3333333333333333,
              "#9c179e"
             ],
             [
              0.4444444444444444,
              "#bd3786"
             ],
             [
              0.5555555555555556,
              "#d8576b"
             ],
             [
              0.6666666666666666,
              "#ed7953"
             ],
             [
              0.7777777777777778,
              "#fb9f3a"
             ],
             [
              0.8888888888888888,
              "#fdca26"
             ],
             [
              1,
              "#f0f921"
             ]
            ],
            "type": "histogram2dcontour"
           }
          ],
          "mesh3d": [
           {
            "colorbar": {
             "outlinewidth": 0,
             "ticks": ""
            },
            "type": "mesh3d"
           }
          ],
          "parcoords": [
           {
            "line": {
             "colorbar": {
              "outlinewidth": 0,
              "ticks": ""
             }
            },
            "type": "parcoords"
           }
          ],
          "pie": [
           {
            "automargin": true,
            "type": "pie"
           }
          ],
          "scatter": [
           {
            "fillpattern": {
             "fillmode": "overlay",
             "size": 10,
             "solidity": 0.2
            },
            "type": "scatter"
           }
          ],
          "scatter3d": [
           {
            "line": {
             "colorbar": {
              "outlinewidth": 0,
              "ticks": ""
             }
            },
            "marker": {
             "colorbar": {
              "outlinewidth": 0,
              "ticks": ""
             }
            },
            "type": "scatter3d"
           }
          ],
          "scattercarpet": [
           {
            "marker": {
             "colorbar": {
              "outlinewidth": 0,
              "ticks": ""
             }
            },
            "type": "scattercarpet"
           }
          ],
          "scattergeo": [
           {
            "marker": {
             "colorbar": {
              "outlinewidth": 0,
              "ticks": ""
             }
            },
            "type": "scattergeo"
           }
          ],
          "scattergl": [
           {
            "marker": {
             "colorbar": {
              "outlinewidth": 0,
              "ticks": ""
             }
            },
            "type": "scattergl"
           }
          ],
          "scattermapbox": [
           {
            "marker": {
             "colorbar": {
              "outlinewidth": 0,
              "ticks": ""
             }
            },
            "type": "scattermapbox"
           }
          ],
          "scatterpolar": [
           {
            "marker": {
             "colorbar": {
              "outlinewidth": 0,
              "ticks": ""
             }
            },
            "type": "scatterpolar"
           }
          ],
          "scatterpolargl": [
           {
            "marker": {
             "colorbar": {
              "outlinewidth": 0,
              "ticks": ""
             }
            },
            "type": "scatterpolargl"
           }
          ],
          "scatterternary": [
           {
            "marker": {
             "colorbar": {
              "outlinewidth": 0,
              "ticks": ""
             }
            },
            "type": "scatterternary"
           }
          ],
          "surface": [
           {
            "colorbar": {
             "outlinewidth": 0,
             "ticks": ""
            },
            "colorscale": [
             [
              0,
              "#0d0887"
             ],
             [
              0.1111111111111111,
              "#46039f"
             ],
             [
              0.2222222222222222,
              "#7201a8"
             ],
             [
              0.3333333333333333,
              "#9c179e"
             ],
             [
              0.4444444444444444,
              "#bd3786"
             ],
             [
              0.5555555555555556,
              "#d8576b"
             ],
             [
              0.6666666666666666,
              "#ed7953"
             ],
             [
              0.7777777777777778,
              "#fb9f3a"
             ],
             [
              0.8888888888888888,
              "#fdca26"
             ],
             [
              1,
              "#f0f921"
             ]
            ],
            "type": "surface"
           }
          ],
          "table": [
           {
            "cells": {
             "fill": {
              "color": "#EBF0F8"
             },
             "line": {
              "color": "white"
             }
            },
            "header": {
             "fill": {
              "color": "#C8D4E3"
             },
             "line": {
              "color": "white"
             }
            },
            "type": "table"
           }
          ]
         },
         "layout": {
          "annotationdefaults": {
           "arrowcolor": "#2a3f5f",
           "arrowhead": 0,
           "arrowwidth": 1
          },
          "autotypenumbers": "strict",
          "coloraxis": {
           "colorbar": {
            "outlinewidth": 0,
            "ticks": ""
           }
          },
          "colorscale": {
           "diverging": [
            [
             0,
             "#8e0152"
            ],
            [
             0.1,
             "#c51b7d"
            ],
            [
             0.2,
             "#de77ae"
            ],
            [
             0.3,
             "#f1b6da"
            ],
            [
             0.4,
             "#fde0ef"
            ],
            [
             0.5,
             "#f7f7f7"
            ],
            [
             0.6,
             "#e6f5d0"
            ],
            [
             0.7,
             "#b8e186"
            ],
            [
             0.8,
             "#7fbc41"
            ],
            [
             0.9,
             "#4d9221"
            ],
            [
             1,
             "#276419"
            ]
           ],
           "sequential": [
            [
             0,
             "#0d0887"
            ],
            [
             0.1111111111111111,
             "#46039f"
            ],
            [
             0.2222222222222222,
             "#7201a8"
            ],
            [
             0.3333333333333333,
             "#9c179e"
            ],
            [
             0.4444444444444444,
             "#bd3786"
            ],
            [
             0.5555555555555556,
             "#d8576b"
            ],
            [
             0.6666666666666666,
             "#ed7953"
            ],
            [
             0.7777777777777778,
             "#fb9f3a"
            ],
            [
             0.8888888888888888,
             "#fdca26"
            ],
            [
             1,
             "#f0f921"
            ]
           ],
           "sequentialminus": [
            [
             0,
             "#0d0887"
            ],
            [
             0.1111111111111111,
             "#46039f"
            ],
            [
             0.2222222222222222,
             "#7201a8"
            ],
            [
             0.3333333333333333,
             "#9c179e"
            ],
            [
             0.4444444444444444,
             "#bd3786"
            ],
            [
             0.5555555555555556,
             "#d8576b"
            ],
            [
             0.6666666666666666,
             "#ed7953"
            ],
            [
             0.7777777777777778,
             "#fb9f3a"
            ],
            [
             0.8888888888888888,
             "#fdca26"
            ],
            [
             1,
             "#f0f921"
            ]
           ]
          },
          "colorway": [
           "#636efa",
           "#EF553B",
           "#00cc96",
           "#ab63fa",
           "#FFA15A",
           "#19d3f3",
           "#FF6692",
           "#B6E880",
           "#FF97FF",
           "#FECB52"
          ],
          "font": {
           "color": "#2a3f5f"
          },
          "geo": {
           "bgcolor": "white",
           "lakecolor": "white",
           "landcolor": "#E5ECF6",
           "showlakes": true,
           "showland": true,
           "subunitcolor": "white"
          },
          "hoverlabel": {
           "align": "left"
          },
          "hovermode": "closest",
          "mapbox": {
           "style": "light"
          },
          "paper_bgcolor": "white",
          "plot_bgcolor": "#E5ECF6",
          "polar": {
           "angularaxis": {
            "gridcolor": "white",
            "linecolor": "white",
            "ticks": ""
           },
           "bgcolor": "#E5ECF6",
           "radialaxis": {
            "gridcolor": "white",
            "linecolor": "white",
            "ticks": ""
           }
          },
          "scene": {
           "xaxis": {
            "backgroundcolor": "#E5ECF6",
            "gridcolor": "white",
            "gridwidth": 2,
            "linecolor": "white",
            "showbackground": true,
            "ticks": "",
            "zerolinecolor": "white"
           },
           "yaxis": {
            "backgroundcolor": "#E5ECF6",
            "gridcolor": "white",
            "gridwidth": 2,
            "linecolor": "white",
            "showbackground": true,
            "ticks": "",
            "zerolinecolor": "white"
           },
           "zaxis": {
            "backgroundcolor": "#E5ECF6",
            "gridcolor": "white",
            "gridwidth": 2,
            "linecolor": "white",
            "showbackground": true,
            "ticks": "",
            "zerolinecolor": "white"
           }
          },
          "shapedefaults": {
           "line": {
            "color": "#2a3f5f"
           }
          },
          "ternary": {
           "aaxis": {
            "gridcolor": "white",
            "linecolor": "white",
            "ticks": ""
           },
           "baxis": {
            "gridcolor": "white",
            "linecolor": "white",
            "ticks": ""
           },
           "bgcolor": "#E5ECF6",
           "caxis": {
            "gridcolor": "white",
            "linecolor": "white",
            "ticks": ""
           }
          },
          "title": {
           "x": 0.05
          },
          "xaxis": {
           "automargin": true,
           "gridcolor": "white",
           "linecolor": "white",
           "ticks": "",
           "title": {
            "standoff": 15
           },
           "zerolinecolor": "white",
           "zerolinewidth": 2
          },
          "yaxis": {
           "automargin": true,
           "gridcolor": "white",
           "linecolor": "white",
           "ticks": "",
           "title": {
            "standoff": 15
           },
           "zerolinecolor": "white",
           "zerolinewidth": 2
          }
         }
        },
        "xaxis": {
         "anchor": "y",
         "domain": [
          0,
          0.45
         ]
        },
        "xaxis2": {
         "anchor": "y2",
         "domain": [
          0.55,
          1
         ]
        },
        "xaxis3": {
         "anchor": "y3",
         "domain": [
          0,
          0.45
         ]
        },
        "xaxis4": {
         "anchor": "y4",
         "domain": [
          0.55,
          1
         ]
        },
        "yaxis": {
         "anchor": "x",
         "domain": [
          0.575,
          1
         ]
        },
        "yaxis2": {
         "anchor": "x2",
         "domain": [
          0.575,
          1
         ]
        },
        "yaxis3": {
         "anchor": "x3",
         "domain": [
          0,
          0.425
         ]
        },
        "yaxis4": {
         "anchor": "x4",
         "domain": [
          0,
          0.425
         ]
        }
       }
      }
     },
     "metadata": {},
     "output_type": "display_data"
    }
   ],
   "source": [
    "fig = make_subplots(rows=2, cols=2)\n",
    "fig.add_trace(go.Bar(x=data.feature_names,\n",
    "              y=coefs[0], name=f\"Alpha : {0}, R2 Score : {r2_scores[0]}\"), row=1, col=1)\n",
    "fig.add_trace(go.Bar(x=data.feature_names,\n",
    "              y=coefs[1], name=f\"Alpha : {10}, R2 Score : {r2_scores[1]}\"), row=1, col=2)\n",
    "fig.add_trace(go.Bar(x=data.feature_names,\n",
    "              y=coefs[2], name=f\"Alpha : {100}, R2 Score : {r2_scores[2]}\"), row=2, col=1)\n",
    "fig.add_trace(go.Bar(x=data.feature_names,\n",
    "              y=coefs[3], name=f\"Alpha : {500}, R2 Score : {r2_scores[3]}\"), row=2, col=2)\n",
    "fig.show()"
   ]
  },
  {
   "cell_type": "markdown",
   "metadata": {},
   "source": [
    "### 2. Higher Cofficients are affected More."
   ]
  },
  {
   "cell_type": "code",
   "execution_count": 338,
   "metadata": {},
   "outputs": [
    {
     "data": {
      "text/html": [
       "<div>\n",
       "<style scoped>\n",
       "    .dataframe tbody tr th:only-of-type {\n",
       "        vertical-align: middle;\n",
       "    }\n",
       "\n",
       "    .dataframe tbody tr th {\n",
       "        vertical-align: top;\n",
       "    }\n",
       "\n",
       "    .dataframe thead th {\n",
       "        text-align: right;\n",
       "    }\n",
       "</style>\n",
       "<table border=\"1\" class=\"dataframe\">\n",
       "  <thead>\n",
       "    <tr style=\"text-align: right;\">\n",
       "      <th></th>\n",
       "      <th>0</th>\n",
       "      <th>1</th>\n",
       "      <th>2</th>\n",
       "      <th>3</th>\n",
       "      <th>4</th>\n",
       "      <th>5</th>\n",
       "      <th>6</th>\n",
       "      <th>7</th>\n",
       "      <th>8</th>\n",
       "      <th>9</th>\n",
       "    </tr>\n",
       "  </thead>\n",
       "  <tbody>\n",
       "    <tr>\n",
       "      <th>0</th>\n",
       "      <td>151.883310</td>\n",
       "      <td>151.883529</td>\n",
       "      <td>151.885341</td>\n",
       "      <td>151.896342</td>\n",
       "      <td>151.925469</td>\n",
       "      <td>151.757885</td>\n",
       "      <td>150.900482</td>\n",
       "      <td>150.515940</td>\n",
       "      <td>150.464795</td>\n",
       "      <td>150.459512</td>\n",
       "    </tr>\n",
       "    <tr>\n",
       "      <th>1</th>\n",
       "      <td>-9.158653</td>\n",
       "      <td>-9.116119</td>\n",
       "      <td>-8.761487</td>\n",
       "      <td>-6.399507</td>\n",
       "      <td>6.643733</td>\n",
       "      <td>42.242528</td>\n",
       "      <td>21.174024</td>\n",
       "      <td>2.858980</td>\n",
       "      <td>0.295726</td>\n",
       "      <td>0.029674</td>\n",
       "    </tr>\n",
       "    <tr>\n",
       "      <th>2</th>\n",
       "      <td>-205.454322</td>\n",
       "      <td>-205.329219</td>\n",
       "      <td>-204.313404</td>\n",
       "      <td>-198.662945</td>\n",
       "      <td>-172.237474</td>\n",
       "      <td>-57.304483</td>\n",
       "      <td>1.659837</td>\n",
       "      <td>0.629453</td>\n",
       "      <td>0.069290</td>\n",
       "      <td>0.006995</td>\n",
       "    </tr>\n",
       "    <tr>\n",
       "      <th>3</th>\n",
       "      <td>516.693745</td>\n",
       "      <td>516.889664</td>\n",
       "      <td>518.380608</td>\n",
       "      <td>522.056516</td>\n",
       "      <td>485.529585</td>\n",
       "      <td>282.172125</td>\n",
       "      <td>63.659826</td>\n",
       "      <td>7.540605</td>\n",
       "      <td>0.769004</td>\n",
       "      <td>0.077054</td>\n",
       "    </tr>\n",
       "    <tr>\n",
       "      <th>4</th>\n",
       "      <td>340.619999</td>\n",
       "      <td>340.549436</td>\n",
       "      <td>339.967926</td>\n",
       "      <td>336.340595</td>\n",
       "      <td>314.675846</td>\n",
       "      <td>198.059395</td>\n",
       "      <td>48.492858</td>\n",
       "      <td>5.849949</td>\n",
       "      <td>0.597824</td>\n",
       "      <td>0.059914</td>\n",
       "    </tr>\n",
       "    <tr>\n",
       "      <th>5</th>\n",
       "      <td>-895.552002</td>\n",
       "      <td>-883.423872</td>\n",
       "      <td>-787.700510</td>\n",
       "      <td>-383.717571</td>\n",
       "      <td>-72.940209</td>\n",
       "      <td>14.363734</td>\n",
       "      <td>18.421510</td>\n",
       "      <td>2.710879</td>\n",
       "      <td>0.282900</td>\n",
       "      <td>0.028412</td>\n",
       "    </tr>\n",
       "    <tr>\n",
       "      <th>6</th>\n",
       "      <td>561.220679</td>\n",
       "      <td>551.559582</td>\n",
       "      <td>475.282181</td>\n",
       "      <td>152.670882</td>\n",
       "      <td>-80.588688</td>\n",
       "      <td>-22.551079</td>\n",
       "      <td>12.875466</td>\n",
       "      <td>2.142135</td>\n",
       "      <td>0.225936</td>\n",
       "      <td>0.022715</td>\n",
       "    </tr>\n",
       "    <tr>\n",
       "      <th>7</th>\n",
       "      <td>153.893110</td>\n",
       "      <td>148.587063</td>\n",
       "      <td>106.795253</td>\n",
       "      <td>-66.053243</td>\n",
       "      <td>-174.463527</td>\n",
       "      <td>-136.929684</td>\n",
       "      <td>-38.915435</td>\n",
       "      <td>-4.834047</td>\n",
       "      <td>-0.495607</td>\n",
       "      <td>-0.049686</td>\n",
       "    </tr>\n",
       "    <tr>\n",
       "      <th>8</th>\n",
       "      <td>126.731397</td>\n",
       "      <td>125.353015</td>\n",
       "      <td>114.629265</td>\n",
       "      <td>75.608209</td>\n",
       "      <td>83.614710</td>\n",
       "      <td>102.023069</td>\n",
       "      <td>38.842475</td>\n",
       "      <td>5.108223</td>\n",
       "      <td>0.527031</td>\n",
       "      <td>0.052870</td>\n",
       "    </tr>\n",
       "    <tr>\n",
       "      <th>9</th>\n",
       "      <td>861.127002</td>\n",
       "      <td>856.485935</td>\n",
       "      <td>819.745723</td>\n",
       "      <td>659.875219</td>\n",
       "      <td>484.365316</td>\n",
       "      <td>260.104294</td>\n",
       "      <td>61.612302</td>\n",
       "      <td>7.448451</td>\n",
       "      <td>0.761496</td>\n",
       "      <td>0.076321</td>\n",
       "    </tr>\n",
       "    <tr>\n",
       "      <th>10</th>\n",
       "      <td>52.421122</td>\n",
       "      <td>52.468916</td>\n",
       "      <td>52.873349</td>\n",
       "      <td>55.829221</td>\n",
       "      <td>73.585091</td>\n",
       "      <td>98.552692</td>\n",
       "      <td>35.505383</td>\n",
       "      <td>4.576129</td>\n",
       "      <td>0.471029</td>\n",
       "      <td>0.047241</td>\n",
       "    </tr>\n",
       "  </tbody>\n",
       "</table>\n",
       "</div>"
      ],
      "text/plain": [
       "             0           1           2           3           4           5  \\\n",
       "0   151.883310  151.883529  151.885341  151.896342  151.925469  151.757885   \n",
       "1    -9.158653   -9.116119   -8.761487   -6.399507    6.643733   42.242528   \n",
       "2  -205.454322 -205.329219 -204.313404 -198.662945 -172.237474  -57.304483   \n",
       "3   516.693745  516.889664  518.380608  522.056516  485.529585  282.172125   \n",
       "4   340.619999  340.549436  339.967926  336.340595  314.675846  198.059395   \n",
       "5  -895.552002 -883.423872 -787.700510 -383.717571  -72.940209   14.363734   \n",
       "6   561.220679  551.559582  475.282181  152.670882  -80.588688  -22.551079   \n",
       "7   153.893110  148.587063  106.795253  -66.053243 -174.463527 -136.929684   \n",
       "8   126.731397  125.353015  114.629265   75.608209   83.614710  102.023069   \n",
       "9   861.127002  856.485935  819.745723  659.875219  484.365316  260.104294   \n",
       "10   52.421122   52.468916   52.873349   55.829221   73.585091   98.552692   \n",
       "\n",
       "             6           7           8           9  \n",
       "0   150.900482  150.515940  150.464795  150.459512  \n",
       "1    21.174024    2.858980    0.295726    0.029674  \n",
       "2     1.659837    0.629453    0.069290    0.006995  \n",
       "3    63.659826    7.540605    0.769004    0.077054  \n",
       "4    48.492858    5.849949    0.597824    0.059914  \n",
       "5    18.421510    2.710879    0.282900    0.028412  \n",
       "6    12.875466    2.142135    0.225936    0.022715  \n",
       "7   -38.915435   -4.834047   -0.495607   -0.049686  \n",
       "8    38.842475    5.108223    0.527031    0.052870  \n",
       "9    61.612302    7.448451    0.761496    0.076321  \n",
       "10   35.505383    4.576129    0.471029    0.047241  "
      ]
     },
     "execution_count": 338,
     "metadata": {},
     "output_type": "execute_result"
    }
   ],
   "source": [
    "alphas = [0, 0.0001 , 0.001, 0.01, 0.1, 1, 10, 100, 1000, 10000]\n",
    "coefs = []\n",
    "for i in alphas:\n",
    "    reg = Ridge(alpha=i)\n",
    "    reg.fit(xTrain, yTrain)\n",
    "    coefs.append(np.insert(reg.coef_, 0,reg.intercept_, axis=0))\n",
    "coefs = pd.DataFrame(coefs).T\n",
    "coefs"
   ]
  },
  {
   "cell_type": "code",
   "execution_count": 339,
   "metadata": {},
   "outputs": [
    {
     "name": "stderr",
     "output_type": "stream",
     "text": [
      "c:\\Python\\Python311\\Lib\\site-packages\\plotly\\graph_objs\\_deprecations.py:378: DeprecationWarning:\n",
      "\n",
      "plotly.graph_objs.Line is deprecated.\n",
      "Please replace it with one of the following more specific types\n",
      "  - plotly.graph_objs.scatter.Line\n",
      "  - plotly.graph_objs.layout.shape.Line\n",
      "  - etc.\n",
      "\n",
      "\n"
     ]
    },
    {
     "data": {
      "application/vnd.plotly.v1+json": {
       "config": {
        "plotlyServerURL": "https://plot.ly"
       },
       "data": [
        {
         "hovertemplate": "x=%{x}<br>y=%{y}<extra></extra>",
         "legendgroup": "",
         "line": {
          "color": "#636efa",
          "dash": "solid"
         },
         "marker": {
          "symbol": "circle"
         },
         "mode": "lines",
         "name": "",
         "orientation": "v",
         "showlegend": false,
         "type": "scatter",
         "x": [
          0,
          0.0001,
          0.001,
          0.01,
          0.1,
          1,
          10,
          100,
          1000,
          10000
         ],
         "xaxis": "x",
         "y": [
          -9.116119268098231,
          -205.32921903330973,
          516.8896636137226,
          340.5494364441976,
          -883.423872056778,
          551.5595821653073,
          148.58706323534207,
          125.35301503205586,
          856.4859347042262,
          52.46891635391824
         ],
         "yaxis": "y"
        },
        {
         "type": "scatter",
         "x": [
          0,
          0.0001,
          0.001,
          0.01,
          0.1,
          1,
          10,
          100,
          1000,
          10000
         ],
         "y": [
          -9.158653181170363,
          -205.45432163452114,
          516.6937445408271,
          340.61999904554847,
          -895.5520019034768,
          561.2206790413021,
          153.89310953635996,
          126.731396878462,
          861.1270015229967,
          52.42112237904704
         ]
        },
        {
         "type": "scatter",
         "x": [
          0,
          0.0001,
          0.001,
          0.01,
          0.1,
          1,
          10,
          100,
          1000,
          10000
         ],
         "y": [
          -9.116119268098231,
          -205.32921903330973,
          516.8896636137226,
          340.5494364441976,
          -883.423872056778,
          551.5595821653073,
          148.58706323534207,
          125.35301503205586,
          856.4859347042262,
          52.46891635391824
         ]
        },
        {
         "type": "scatter",
         "x": [
          0,
          0.0001,
          0.001,
          0.01,
          0.1,
          1,
          10,
          100,
          1000,
          10000
         ],
         "y": [
          -8.761487187355904,
          -204.31340445781981,
          518.3806084805801,
          339.967925949571,
          -787.7005103022302,
          475.2821811693708,
          106.79525299294926,
          114.62926497460556,
          819.7457227843905,
          52.873349420878625
         ]
        },
        {
         "type": "scatter",
         "x": [
          0,
          0.0001,
          0.001,
          0.01,
          0.1,
          1,
          10,
          100,
          1000,
          10000
         ],
         "y": [
          -6.399507047742869,
          -198.66294530978016,
          522.0565164244586,
          336.3405946348211,
          -383.7175706909173,
          152.67088165713798,
          -66.05324281926863,
          75.6082087841058,
          659.8752192034885,
          55.82922058983014
         ]
        },
        {
         "type": "scatter",
         "x": [
          0,
          0.0001,
          0.001,
          0.01,
          0.1,
          1,
          10,
          100,
          1000,
          10000
         ],
         "y": [
          6.64373321350467,
          -172.23747374529216,
          485.5295851415748,
          314.6758461205601,
          -72.94020918047393,
          -80.58868817302634,
          -174.46352722415998,
          83.61470986793196,
          484.3653162166268,
          73.58509055769419
         ]
        },
        {
         "type": "scatter",
         "x": [
          0,
          0.0001,
          0.001,
          0.01,
          0.1,
          1,
          10,
          100,
          1000,
          10000
         ],
         "y": [
          42.24252786163896,
          -57.30448272768293,
          282.1721254026498,
          198.0593951048969,
          14.36373444343675,
          -22.551078731167593,
          -136.92968398170044,
          102.02306936667142,
          260.1042938677374,
          98.5526920143465
         ]
        },
        {
         "type": "scatter",
         "x": [
          0,
          0.0001,
          0.001,
          0.01,
          0.1,
          1,
          10,
          100,
          1000,
          10000
         ],
         "y": [
          21.174024430657028,
          1.6598369427666693,
          63.65982584237654,
          48.49285812895809,
          18.42151032381465,
          12.875465784744849,
          -38.915434727002285,
          38.842475443812965,
          61.61230248383494,
          35.505383019498474
         ]
        },
        {
         "type": "scatter",
         "x": [
          0,
          0.0001,
          0.001,
          0.01,
          0.1,
          1,
          10,
          100,
          1000,
          10000
         ],
         "y": [
          2.858979751926675,
          0.6294525865756895,
          7.540605233970548,
          5.849949459815251,
          2.710878806908419,
          2.1421346679368316,
          -4.834047020128568,
          5.108223464961738,
          7.4484511161018006,
          4.576129087936827
         ]
        },
        {
         "type": "scatter",
         "x": [
          0,
          0.0001,
          0.001,
          0.01,
          0.1,
          1,
          10,
          100,
          1000,
          10000
         ],
         "y": [
          0.2957255635919191,
          0.0692902920579852,
          0.7690038138539067,
          0.5978244450322281,
          0.2828995164297864,
          0.22593550890314165,
          -0.4956069094337926,
          0.5270313443400051,
          0.7614958982209438,
          0.47102907018042245
         ]
        }
       ],
       "layout": {
        "legend": {
         "tracegroupgap": 0
        },
        "margin": {
         "t": 60
        },
        "template": {
         "data": {
          "bar": [
           {
            "error_x": {
             "color": "#2a3f5f"
            },
            "error_y": {
             "color": "#2a3f5f"
            },
            "marker": {
             "line": {
              "color": "#E5ECF6",
              "width": 0.5
             },
             "pattern": {
              "fillmode": "overlay",
              "size": 10,
              "solidity": 0.2
             }
            },
            "type": "bar"
           }
          ],
          "barpolar": [
           {
            "marker": {
             "line": {
              "color": "#E5ECF6",
              "width": 0.5
             },
             "pattern": {
              "fillmode": "overlay",
              "size": 10,
              "solidity": 0.2
             }
            },
            "type": "barpolar"
           }
          ],
          "carpet": [
           {
            "aaxis": {
             "endlinecolor": "#2a3f5f",
             "gridcolor": "white",
             "linecolor": "white",
             "minorgridcolor": "white",
             "startlinecolor": "#2a3f5f"
            },
            "baxis": {
             "endlinecolor": "#2a3f5f",
             "gridcolor": "white",
             "linecolor": "white",
             "minorgridcolor": "white",
             "startlinecolor": "#2a3f5f"
            },
            "type": "carpet"
           }
          ],
          "choropleth": [
           {
            "colorbar": {
             "outlinewidth": 0,
             "ticks": ""
            },
            "type": "choropleth"
           }
          ],
          "contour": [
           {
            "colorbar": {
             "outlinewidth": 0,
             "ticks": ""
            },
            "colorscale": [
             [
              0,
              "#0d0887"
             ],
             [
              0.1111111111111111,
              "#46039f"
             ],
             [
              0.2222222222222222,
              "#7201a8"
             ],
             [
              0.3333333333333333,
              "#9c179e"
             ],
             [
              0.4444444444444444,
              "#bd3786"
             ],
             [
              0.5555555555555556,
              "#d8576b"
             ],
             [
              0.6666666666666666,
              "#ed7953"
             ],
             [
              0.7777777777777778,
              "#fb9f3a"
             ],
             [
              0.8888888888888888,
              "#fdca26"
             ],
             [
              1,
              "#f0f921"
             ]
            ],
            "type": "contour"
           }
          ],
          "contourcarpet": [
           {
            "colorbar": {
             "outlinewidth": 0,
             "ticks": ""
            },
            "type": "contourcarpet"
           }
          ],
          "heatmap": [
           {
            "colorbar": {
             "outlinewidth": 0,
             "ticks": ""
            },
            "colorscale": [
             [
              0,
              "#0d0887"
             ],
             [
              0.1111111111111111,
              "#46039f"
             ],
             [
              0.2222222222222222,
              "#7201a8"
             ],
             [
              0.3333333333333333,
              "#9c179e"
             ],
             [
              0.4444444444444444,
              "#bd3786"
             ],
             [
              0.5555555555555556,
              "#d8576b"
             ],
             [
              0.6666666666666666,
              "#ed7953"
             ],
             [
              0.7777777777777778,
              "#fb9f3a"
             ],
             [
              0.8888888888888888,
              "#fdca26"
             ],
             [
              1,
              "#f0f921"
             ]
            ],
            "type": "heatmap"
           }
          ],
          "heatmapgl": [
           {
            "colorbar": {
             "outlinewidth": 0,
             "ticks": ""
            },
            "colorscale": [
             [
              0,
              "#0d0887"
             ],
             [
              0.1111111111111111,
              "#46039f"
             ],
             [
              0.2222222222222222,
              "#7201a8"
             ],
             [
              0.3333333333333333,
              "#9c179e"
             ],
             [
              0.4444444444444444,
              "#bd3786"
             ],
             [
              0.5555555555555556,
              "#d8576b"
             ],
             [
              0.6666666666666666,
              "#ed7953"
             ],
             [
              0.7777777777777778,
              "#fb9f3a"
             ],
             [
              0.8888888888888888,
              "#fdca26"
             ],
             [
              1,
              "#f0f921"
             ]
            ],
            "type": "heatmapgl"
           }
          ],
          "histogram": [
           {
            "marker": {
             "pattern": {
              "fillmode": "overlay",
              "size": 10,
              "solidity": 0.2
             }
            },
            "type": "histogram"
           }
          ],
          "histogram2d": [
           {
            "colorbar": {
             "outlinewidth": 0,
             "ticks": ""
            },
            "colorscale": [
             [
              0,
              "#0d0887"
             ],
             [
              0.1111111111111111,
              "#46039f"
             ],
             [
              0.2222222222222222,
              "#7201a8"
             ],
             [
              0.3333333333333333,
              "#9c179e"
             ],
             [
              0.4444444444444444,
              "#bd3786"
             ],
             [
              0.5555555555555556,
              "#d8576b"
             ],
             [
              0.6666666666666666,
              "#ed7953"
             ],
             [
              0.7777777777777778,
              "#fb9f3a"
             ],
             [
              0.8888888888888888,
              "#fdca26"
             ],
             [
              1,
              "#f0f921"
             ]
            ],
            "type": "histogram2d"
           }
          ],
          "histogram2dcontour": [
           {
            "colorbar": {
             "outlinewidth": 0,
             "ticks": ""
            },
            "colorscale": [
             [
              0,
              "#0d0887"
             ],
             [
              0.1111111111111111,
              "#46039f"
             ],
             [
              0.2222222222222222,
              "#7201a8"
             ],
             [
              0.3333333333333333,
              "#9c179e"
             ],
             [
              0.4444444444444444,
              "#bd3786"
             ],
             [
              0.5555555555555556,
              "#d8576b"
             ],
             [
              0.6666666666666666,
              "#ed7953"
             ],
             [
              0.7777777777777778,
              "#fb9f3a"
             ],
             [
              0.8888888888888888,
              "#fdca26"
             ],
             [
              1,
              "#f0f921"
             ]
            ],
            "type": "histogram2dcontour"
           }
          ],
          "mesh3d": [
           {
            "colorbar": {
             "outlinewidth": 0,
             "ticks": ""
            },
            "type": "mesh3d"
           }
          ],
          "parcoords": [
           {
            "line": {
             "colorbar": {
              "outlinewidth": 0,
              "ticks": ""
             }
            },
            "type": "parcoords"
           }
          ],
          "pie": [
           {
            "automargin": true,
            "type": "pie"
           }
          ],
          "scatter": [
           {
            "fillpattern": {
             "fillmode": "overlay",
             "size": 10,
             "solidity": 0.2
            },
            "type": "scatter"
           }
          ],
          "scatter3d": [
           {
            "line": {
             "colorbar": {
              "outlinewidth": 0,
              "ticks": ""
             }
            },
            "marker": {
             "colorbar": {
              "outlinewidth": 0,
              "ticks": ""
             }
            },
            "type": "scatter3d"
           }
          ],
          "scattercarpet": [
           {
            "marker": {
             "colorbar": {
              "outlinewidth": 0,
              "ticks": ""
             }
            },
            "type": "scattercarpet"
           }
          ],
          "scattergeo": [
           {
            "marker": {
             "colorbar": {
              "outlinewidth": 0,
              "ticks": ""
             }
            },
            "type": "scattergeo"
           }
          ],
          "scattergl": [
           {
            "marker": {
             "colorbar": {
              "outlinewidth": 0,
              "ticks": ""
             }
            },
            "type": "scattergl"
           }
          ],
          "scattermapbox": [
           {
            "marker": {
             "colorbar": {
              "outlinewidth": 0,
              "ticks": ""
             }
            },
            "type": "scattermapbox"
           }
          ],
          "scatterpolar": [
           {
            "marker": {
             "colorbar": {
              "outlinewidth": 0,
              "ticks": ""
             }
            },
            "type": "scatterpolar"
           }
          ],
          "scatterpolargl": [
           {
            "marker": {
             "colorbar": {
              "outlinewidth": 0,
              "ticks": ""
             }
            },
            "type": "scatterpolargl"
           }
          ],
          "scatterternary": [
           {
            "marker": {
             "colorbar": {
              "outlinewidth": 0,
              "ticks": ""
             }
            },
            "type": "scatterternary"
           }
          ],
          "surface": [
           {
            "colorbar": {
             "outlinewidth": 0,
             "ticks": ""
            },
            "colorscale": [
             [
              0,
              "#0d0887"
             ],
             [
              0.1111111111111111,
              "#46039f"
             ],
             [
              0.2222222222222222,
              "#7201a8"
             ],
             [
              0.3333333333333333,
              "#9c179e"
             ],
             [
              0.4444444444444444,
              "#bd3786"
             ],
             [
              0.5555555555555556,
              "#d8576b"
             ],
             [
              0.6666666666666666,
              "#ed7953"
             ],
             [
              0.7777777777777778,
              "#fb9f3a"
             ],
             [
              0.8888888888888888,
              "#fdca26"
             ],
             [
              1,
              "#f0f921"
             ]
            ],
            "type": "surface"
           }
          ],
          "table": [
           {
            "cells": {
             "fill": {
              "color": "#EBF0F8"
             },
             "line": {
              "color": "white"
             }
            },
            "header": {
             "fill": {
              "color": "#C8D4E3"
             },
             "line": {
              "color": "white"
             }
            },
            "type": "table"
           }
          ]
         },
         "layout": {
          "annotationdefaults": {
           "arrowcolor": "#2a3f5f",
           "arrowhead": 0,
           "arrowwidth": 1
          },
          "autotypenumbers": "strict",
          "coloraxis": {
           "colorbar": {
            "outlinewidth": 0,
            "ticks": ""
           }
          },
          "colorscale": {
           "diverging": [
            [
             0,
             "#8e0152"
            ],
            [
             0.1,
             "#c51b7d"
            ],
            [
             0.2,
             "#de77ae"
            ],
            [
             0.3,
             "#f1b6da"
            ],
            [
             0.4,
             "#fde0ef"
            ],
            [
             0.5,
             "#f7f7f7"
            ],
            [
             0.6,
             "#e6f5d0"
            ],
            [
             0.7,
             "#b8e186"
            ],
            [
             0.8,
             "#7fbc41"
            ],
            [
             0.9,
             "#4d9221"
            ],
            [
             1,
             "#276419"
            ]
           ],
           "sequential": [
            [
             0,
             "#0d0887"
            ],
            [
             0.1111111111111111,
             "#46039f"
            ],
            [
             0.2222222222222222,
             "#7201a8"
            ],
            [
             0.3333333333333333,
             "#9c179e"
            ],
            [
             0.4444444444444444,
             "#bd3786"
            ],
            [
             0.5555555555555556,
             "#d8576b"
            ],
            [
             0.6666666666666666,
             "#ed7953"
            ],
            [
             0.7777777777777778,
             "#fb9f3a"
            ],
            [
             0.8888888888888888,
             "#fdca26"
            ],
            [
             1,
             "#f0f921"
            ]
           ],
           "sequentialminus": [
            [
             0,
             "#0d0887"
            ],
            [
             0.1111111111111111,
             "#46039f"
            ],
            [
             0.2222222222222222,
             "#7201a8"
            ],
            [
             0.3333333333333333,
             "#9c179e"
            ],
            [
             0.4444444444444444,
             "#bd3786"
            ],
            [
             0.5555555555555556,
             "#d8576b"
            ],
            [
             0.6666666666666666,
             "#ed7953"
            ],
            [
             0.7777777777777778,
             "#fb9f3a"
            ],
            [
             0.8888888888888888,
             "#fdca26"
            ],
            [
             1,
             "#f0f921"
            ]
           ]
          },
          "colorway": [
           "#636efa",
           "#EF553B",
           "#00cc96",
           "#ab63fa",
           "#FFA15A",
           "#19d3f3",
           "#FF6692",
           "#B6E880",
           "#FF97FF",
           "#FECB52"
          ],
          "font": {
           "color": "#2a3f5f"
          },
          "geo": {
           "bgcolor": "white",
           "lakecolor": "white",
           "landcolor": "#E5ECF6",
           "showlakes": true,
           "showland": true,
           "subunitcolor": "white"
          },
          "hoverlabel": {
           "align": "left"
          },
          "hovermode": "closest",
          "mapbox": {
           "style": "light"
          },
          "paper_bgcolor": "white",
          "plot_bgcolor": "#E5ECF6",
          "polar": {
           "angularaxis": {
            "gridcolor": "white",
            "linecolor": "white",
            "ticks": ""
           },
           "bgcolor": "#E5ECF6",
           "radialaxis": {
            "gridcolor": "white",
            "linecolor": "white",
            "ticks": ""
           }
          },
          "scene": {
           "xaxis": {
            "backgroundcolor": "#E5ECF6",
            "gridcolor": "white",
            "gridwidth": 2,
            "linecolor": "white",
            "showbackground": true,
            "ticks": "",
            "zerolinecolor": "white"
           },
           "yaxis": {
            "backgroundcolor": "#E5ECF6",
            "gridcolor": "white",
            "gridwidth": 2,
            "linecolor": "white",
            "showbackground": true,
            "ticks": "",
            "zerolinecolor": "white"
           },
           "zaxis": {
            "backgroundcolor": "#E5ECF6",
            "gridcolor": "white",
            "gridwidth": 2,
            "linecolor": "white",
            "showbackground": true,
            "ticks": "",
            "zerolinecolor": "white"
           }
          },
          "shapedefaults": {
           "line": {
            "color": "#2a3f5f"
           }
          },
          "ternary": {
           "aaxis": {
            "gridcolor": "white",
            "linecolor": "white",
            "ticks": ""
           },
           "baxis": {
            "gridcolor": "white",
            "linecolor": "white",
            "ticks": ""
           },
           "bgcolor": "#E5ECF6",
           "caxis": {
            "gridcolor": "white",
            "linecolor": "white",
            "ticks": ""
           }
          },
          "title": {
           "x": 0.05
          },
          "xaxis": {
           "automargin": true,
           "gridcolor": "white",
           "linecolor": "white",
           "ticks": "",
           "title": {
            "standoff": 15
           },
           "zerolinecolor": "white",
           "zerolinewidth": 2
          },
          "yaxis": {
           "automargin": true,
           "gridcolor": "white",
           "linecolor": "white",
           "ticks": "",
           "title": {
            "standoff": 15
           },
           "zerolinecolor": "white",
           "zerolinewidth": 2
          }
         }
        },
        "xaxis": {
         "anchor": "y",
         "domain": [
          0,
          1
         ],
         "title": {
          "text": "x"
         }
        },
        "yaxis": {
         "anchor": "x",
         "domain": [
          0,
          1
         ],
         "title": {
          "text": "y"
         }
        }
       }
      }
     },
     "metadata": {},
     "output_type": "display_data"
    }
   ],
   "source": [
    "fig = px.line(x=alphas, y=coefs[1][1:])\n",
    "for i in range(len(alphas)-1):\n",
    "    fig.add_trace(go.Line(x=alphas, y=coefs[i][1:]))\n",
    "fig.show()"
   ]
  },
  {
   "cell_type": "markdown",
   "metadata": {},
   "source": [
    "### 3. Impact on Bias and Variance"
   ]
  },
  {
   "cell_type": "code",
   "execution_count": 340,
   "metadata": {},
   "outputs": [],
   "source": [
    "m = 100\n",
    "x = 5 * np.random.rand(m, 1) - 2\n",
    "y = 0.7 * x ** 2 - 2 - x + 3 + np.random.randn(m, 1)"
   ]
  },
  {
   "cell_type": "code",
   "execution_count": 341,
   "metadata": {},
   "outputs": [
    {
     "data": {
      "application/vnd.plotly.v1+json": {
       "config": {
        "plotlyServerURL": "https://plot.ly"
       },
       "data": [
        {
         "hovertemplate": "x=%{x}<br>y=%{y}<extra></extra>",
         "legendgroup": "",
         "marker": {
          "color": "#636efa",
          "symbol": "circle"
         },
         "mode": "markers",
         "name": "",
         "orientation": "v",
         "showlegend": false,
         "type": "scatter",
         "x": [
          -0.4328973863254342,
          -1.04574997917923,
          2.5096181631465884,
          2.291990670233429,
          0.308196806594184,
          -0.16374293719914768,
          2.695391782735493,
          -0.8881326538359495,
          0.7677097973340081,
          -1.7275092222891868,
          -1.0439890149127549,
          1.0201346667975488,
          1.3109182642208483,
          0.9049790933661983,
          2.3480070799964485,
          2.967026104113735,
          1.819309210764556,
          0.32545892071879434,
          2.169673347270513,
          -1.3980630291699918,
          1.4163534822296486,
          0.5916889372671696,
          -1.1096705687214081,
          2.8646680864010703,
          -0.30781290110626225,
          1.0771170298169173,
          2.3929711876247604,
          0.5334442195741032,
          -1.4243107491178408,
          2.0936954217364496,
          -0.23393116470599762,
          2.915334344459194,
          2.41912723222279,
          2.2672466667447857,
          -0.21873411231050288,
          1.7856488890453281,
          2.9316453150079447,
          0.6316080597566565,
          0.353660774776158,
          -1.926670895139646,
          1.5010188436746814,
          2.29238784300927,
          -0.7627140695908501,
          -0.42487711442671605,
          0.5033851066307822,
          -1.6395992131924157,
          -1.5517876195063152,
          0.10555379444040414,
          -0.6939052364828917,
          0.030186512663842535,
          0.2719314904996901,
          2.8813669836955906,
          2.7212991005141864,
          -1.3013492423011694,
          2.412929868661232,
          -1.5989666883496072,
          0.5381773485887704,
          -1.1804504994511733,
          -0.1705392732153297,
          1.716701128243323,
          0.12252739678424973,
          2.034756437856669,
          1.5940785551877092,
          2.7141972310550813,
          0.6707801029293865,
          2.0107397699389766,
          -0.38546446831474057,
          -0.27127077455067683,
          0.0025523179075270797,
          0.05457867149044526,
          -1.4837338966701275,
          0.5954946966593178,
          -1.5159839036548721,
          2.4488106790988198,
          -1.6907760838835344,
          0.24847215154654378,
          -0.5765296680478476,
          -1.2256529217276046,
          1.9191834542110615,
          1.5746619945976281,
          -1.2702605490924346,
          1.163828205531551,
          1.9627758366522303,
          1.8666611018494343,
          -1.5386020116831922,
          1.4275635952288814,
          1.5801196044178853,
          2.3108313352101364,
          0.5402216943249334,
          0.3054700015167868,
          2.8255816245973495,
          1.9825612786937676,
          0.7936549540324451,
          -0.34691464344360257,
          2.226189980017553,
          0.27718194732202317,
          -1.5365740392091969,
          0.27452136356719903,
          2.3598419807507316,
          0.24141073447222716
         ],
         "xaxis": "x",
         "y": [
          1.5903241071481962,
          2.696929932574205,
          3.642663679718428,
          2.595623559102342,
          0.7523654776889809,
          2.5485712302403023,
          4.945318053030189,
          3.0536046077314314,
          0.35889588422665586,
          6.3134218949759475,
          3.990047716525415,
          1.4272348156122447,
          -0.324040158139248,
          0.8089838215426968,
          1.767516818702092,
          4.036232376076535,
          1.737667921593089,
          0.8488469437246392,
          1.6503892505994608,
          5.039222941562284,
          -0.7082447184243559,
          1.3835616528014913,
          1.1141454368874155,
          4.262356321993731,
          0.48723272228360415,
          1.6133134950607455,
          2.701899109744412,
          0.9134560736706379,
          2.8260942005878267,
          1.3202268065660854,
          1.4794552109914443,
          4.617657620438433,
          5.606492605518399,
          2.5538968698644395,
          2.228262866001213,
          -0.11060345309041852,
          2.7546438007636143,
          0.29214728443958937,
          -0.4635353098840336,
          7.011512665330773,
          0.665902761891524,
          3.7683234613275536,
          3.6567094700427667,
          1.5940212279647838,
          1.1757922430812355,
          4.465299645782345,
          4.775855991098007,
          1.3855871798047046,
          1.9073087446437251,
          1.475421326681761,
          2.50352750003534,
          4.643242232327065,
          3.7883286692479627,
          3.611575658650861,
          1.6499583933244335,
          3.3613559405903413,
          0.9879235838653158,
          1.7864837425621833,
          0.4245702248479155,
          2.6277541467191385,
          2.8022113743524724,
          0.1974511183250245,
          2.811331515190407,
          3.231171104446311,
          0.6291769725794197,
          1.7060006951082631,
          2.5700165947734437,
          -0.28489432130477343,
          1.4536158534762968,
          0.002636313088707487,
          4.5955488193412455,
          2.195531395258295,
          4.1243116145407175,
          3.123016026319879,
          5.101434498204004,
          -0.004848764151116125,
          3.320839538629719,
          4.983678728166183,
          2.3608855095482184,
          1.2343157154711437,
          2.9378600375445796,
          0.1578288357129144,
          3.4448030353565287,
          2.9868505092900106,
          4.1320478281425395,
          -0.5809376520040386,
          -1.6643868993408584,
          1.3437010263779265,
          0.5334455449934582,
          2.1605373782048805,
          3.1115002284284072,
          2.2736386342898407,
          1.950447737858157,
          1.559695799184572,
          2.1005074301849924,
          -0.5321645792157712,
          2.9868405755849303,
          1.1943316561869803,
          2.3374484079278166,
          0.9219159830839684
         ],
         "yaxis": "y"
        }
       ],
       "layout": {
        "legend": {
         "tracegroupgap": 0
        },
        "margin": {
         "t": 60
        },
        "template": {
         "data": {
          "bar": [
           {
            "error_x": {
             "color": "#2a3f5f"
            },
            "error_y": {
             "color": "#2a3f5f"
            },
            "marker": {
             "line": {
              "color": "#E5ECF6",
              "width": 0.5
             },
             "pattern": {
              "fillmode": "overlay",
              "size": 10,
              "solidity": 0.2
             }
            },
            "type": "bar"
           }
          ],
          "barpolar": [
           {
            "marker": {
             "line": {
              "color": "#E5ECF6",
              "width": 0.5
             },
             "pattern": {
              "fillmode": "overlay",
              "size": 10,
              "solidity": 0.2
             }
            },
            "type": "barpolar"
           }
          ],
          "carpet": [
           {
            "aaxis": {
             "endlinecolor": "#2a3f5f",
             "gridcolor": "white",
             "linecolor": "white",
             "minorgridcolor": "white",
             "startlinecolor": "#2a3f5f"
            },
            "baxis": {
             "endlinecolor": "#2a3f5f",
             "gridcolor": "white",
             "linecolor": "white",
             "minorgridcolor": "white",
             "startlinecolor": "#2a3f5f"
            },
            "type": "carpet"
           }
          ],
          "choropleth": [
           {
            "colorbar": {
             "outlinewidth": 0,
             "ticks": ""
            },
            "type": "choropleth"
           }
          ],
          "contour": [
           {
            "colorbar": {
             "outlinewidth": 0,
             "ticks": ""
            },
            "colorscale": [
             [
              0,
              "#0d0887"
             ],
             [
              0.1111111111111111,
              "#46039f"
             ],
             [
              0.2222222222222222,
              "#7201a8"
             ],
             [
              0.3333333333333333,
              "#9c179e"
             ],
             [
              0.4444444444444444,
              "#bd3786"
             ],
             [
              0.5555555555555556,
              "#d8576b"
             ],
             [
              0.6666666666666666,
              "#ed7953"
             ],
             [
              0.7777777777777778,
              "#fb9f3a"
             ],
             [
              0.8888888888888888,
              "#fdca26"
             ],
             [
              1,
              "#f0f921"
             ]
            ],
            "type": "contour"
           }
          ],
          "contourcarpet": [
           {
            "colorbar": {
             "outlinewidth": 0,
             "ticks": ""
            },
            "type": "contourcarpet"
           }
          ],
          "heatmap": [
           {
            "colorbar": {
             "outlinewidth": 0,
             "ticks": ""
            },
            "colorscale": [
             [
              0,
              "#0d0887"
             ],
             [
              0.1111111111111111,
              "#46039f"
             ],
             [
              0.2222222222222222,
              "#7201a8"
             ],
             [
              0.3333333333333333,
              "#9c179e"
             ],
             [
              0.4444444444444444,
              "#bd3786"
             ],
             [
              0.5555555555555556,
              "#d8576b"
             ],
             [
              0.6666666666666666,
              "#ed7953"
             ],
             [
              0.7777777777777778,
              "#fb9f3a"
             ],
             [
              0.8888888888888888,
              "#fdca26"
             ],
             [
              1,
              "#f0f921"
             ]
            ],
            "type": "heatmap"
           }
          ],
          "heatmapgl": [
           {
            "colorbar": {
             "outlinewidth": 0,
             "ticks": ""
            },
            "colorscale": [
             [
              0,
              "#0d0887"
             ],
             [
              0.1111111111111111,
              "#46039f"
             ],
             [
              0.2222222222222222,
              "#7201a8"
             ],
             [
              0.3333333333333333,
              "#9c179e"
             ],
             [
              0.4444444444444444,
              "#bd3786"
             ],
             [
              0.5555555555555556,
              "#d8576b"
             ],
             [
              0.6666666666666666,
              "#ed7953"
             ],
             [
              0.7777777777777778,
              "#fb9f3a"
             ],
             [
              0.8888888888888888,
              "#fdca26"
             ],
             [
              1,
              "#f0f921"
             ]
            ],
            "type": "heatmapgl"
           }
          ],
          "histogram": [
           {
            "marker": {
             "pattern": {
              "fillmode": "overlay",
              "size": 10,
              "solidity": 0.2
             }
            },
            "type": "histogram"
           }
          ],
          "histogram2d": [
           {
            "colorbar": {
             "outlinewidth": 0,
             "ticks": ""
            },
            "colorscale": [
             [
              0,
              "#0d0887"
             ],
             [
              0.1111111111111111,
              "#46039f"
             ],
             [
              0.2222222222222222,
              "#7201a8"
             ],
             [
              0.3333333333333333,
              "#9c179e"
             ],
             [
              0.4444444444444444,
              "#bd3786"
             ],
             [
              0.5555555555555556,
              "#d8576b"
             ],
             [
              0.6666666666666666,
              "#ed7953"
             ],
             [
              0.7777777777777778,
              "#fb9f3a"
             ],
             [
              0.8888888888888888,
              "#fdca26"
             ],
             [
              1,
              "#f0f921"
             ]
            ],
            "type": "histogram2d"
           }
          ],
          "histogram2dcontour": [
           {
            "colorbar": {
             "outlinewidth": 0,
             "ticks": ""
            },
            "colorscale": [
             [
              0,
              "#0d0887"
             ],
             [
              0.1111111111111111,
              "#46039f"
             ],
             [
              0.2222222222222222,
              "#7201a8"
             ],
             [
              0.3333333333333333,
              "#9c179e"
             ],
             [
              0.4444444444444444,
              "#bd3786"
             ],
             [
              0.5555555555555556,
              "#d8576b"
             ],
             [
              0.6666666666666666,
              "#ed7953"
             ],
             [
              0.7777777777777778,
              "#fb9f3a"
             ],
             [
              0.8888888888888888,
              "#fdca26"
             ],
             [
              1,
              "#f0f921"
             ]
            ],
            "type": "histogram2dcontour"
           }
          ],
          "mesh3d": [
           {
            "colorbar": {
             "outlinewidth": 0,
             "ticks": ""
            },
            "type": "mesh3d"
           }
          ],
          "parcoords": [
           {
            "line": {
             "colorbar": {
              "outlinewidth": 0,
              "ticks": ""
             }
            },
            "type": "parcoords"
           }
          ],
          "pie": [
           {
            "automargin": true,
            "type": "pie"
           }
          ],
          "scatter": [
           {
            "fillpattern": {
             "fillmode": "overlay",
             "size": 10,
             "solidity": 0.2
            },
            "type": "scatter"
           }
          ],
          "scatter3d": [
           {
            "line": {
             "colorbar": {
              "outlinewidth": 0,
              "ticks": ""
             }
            },
            "marker": {
             "colorbar": {
              "outlinewidth": 0,
              "ticks": ""
             }
            },
            "type": "scatter3d"
           }
          ],
          "scattercarpet": [
           {
            "marker": {
             "colorbar": {
              "outlinewidth": 0,
              "ticks": ""
             }
            },
            "type": "scattercarpet"
           }
          ],
          "scattergeo": [
           {
            "marker": {
             "colorbar": {
              "outlinewidth": 0,
              "ticks": ""
             }
            },
            "type": "scattergeo"
           }
          ],
          "scattergl": [
           {
            "marker": {
             "colorbar": {
              "outlinewidth": 0,
              "ticks": ""
             }
            },
            "type": "scattergl"
           }
          ],
          "scattermapbox": [
           {
            "marker": {
             "colorbar": {
              "outlinewidth": 0,
              "ticks": ""
             }
            },
            "type": "scattermapbox"
           }
          ],
          "scatterpolar": [
           {
            "marker": {
             "colorbar": {
              "outlinewidth": 0,
              "ticks": ""
             }
            },
            "type": "scatterpolar"
           }
          ],
          "scatterpolargl": [
           {
            "marker": {
             "colorbar": {
              "outlinewidth": 0,
              "ticks": ""
             }
            },
            "type": "scatterpolargl"
           }
          ],
          "scatterternary": [
           {
            "marker": {
             "colorbar": {
              "outlinewidth": 0,
              "ticks": ""
             }
            },
            "type": "scatterternary"
           }
          ],
          "surface": [
           {
            "colorbar": {
             "outlinewidth": 0,
             "ticks": ""
            },
            "colorscale": [
             [
              0,
              "#0d0887"
             ],
             [
              0.1111111111111111,
              "#46039f"
             ],
             [
              0.2222222222222222,
              "#7201a8"
             ],
             [
              0.3333333333333333,
              "#9c179e"
             ],
             [
              0.4444444444444444,
              "#bd3786"
             ],
             [
              0.5555555555555556,
              "#d8576b"
             ],
             [
              0.6666666666666666,
              "#ed7953"
             ],
             [
              0.7777777777777778,
              "#fb9f3a"
             ],
             [
              0.8888888888888888,
              "#fdca26"
             ],
             [
              1,
              "#f0f921"
             ]
            ],
            "type": "surface"
           }
          ],
          "table": [
           {
            "cells": {
             "fill": {
              "color": "#EBF0F8"
             },
             "line": {
              "color": "white"
             }
            },
            "header": {
             "fill": {
              "color": "#C8D4E3"
             },
             "line": {
              "color": "white"
             }
            },
            "type": "table"
           }
          ]
         },
         "layout": {
          "annotationdefaults": {
           "arrowcolor": "#2a3f5f",
           "arrowhead": 0,
           "arrowwidth": 1
          },
          "autotypenumbers": "strict",
          "coloraxis": {
           "colorbar": {
            "outlinewidth": 0,
            "ticks": ""
           }
          },
          "colorscale": {
           "diverging": [
            [
             0,
             "#8e0152"
            ],
            [
             0.1,
             "#c51b7d"
            ],
            [
             0.2,
             "#de77ae"
            ],
            [
             0.3,
             "#f1b6da"
            ],
            [
             0.4,
             "#fde0ef"
            ],
            [
             0.5,
             "#f7f7f7"
            ],
            [
             0.6,
             "#e6f5d0"
            ],
            [
             0.7,
             "#b8e186"
            ],
            [
             0.8,
             "#7fbc41"
            ],
            [
             0.9,
             "#4d9221"
            ],
            [
             1,
             "#276419"
            ]
           ],
           "sequential": [
            [
             0,
             "#0d0887"
            ],
            [
             0.1111111111111111,
             "#46039f"
            ],
            [
             0.2222222222222222,
             "#7201a8"
            ],
            [
             0.3333333333333333,
             "#9c179e"
            ],
            [
             0.4444444444444444,
             "#bd3786"
            ],
            [
             0.5555555555555556,
             "#d8576b"
            ],
            [
             0.6666666666666666,
             "#ed7953"
            ],
            [
             0.7777777777777778,
             "#fb9f3a"
            ],
            [
             0.8888888888888888,
             "#fdca26"
            ],
            [
             1,
             "#f0f921"
            ]
           ],
           "sequentialminus": [
            [
             0,
             "#0d0887"
            ],
            [
             0.1111111111111111,
             "#46039f"
            ],
            [
             0.2222222222222222,
             "#7201a8"
            ],
            [
             0.3333333333333333,
             "#9c179e"
            ],
            [
             0.4444444444444444,
             "#bd3786"
            ],
            [
             0.5555555555555556,
             "#d8576b"
            ],
            [
             0.6666666666666666,
             "#ed7953"
            ],
            [
             0.7777777777777778,
             "#fb9f3a"
            ],
            [
             0.8888888888888888,
             "#fdca26"
            ],
            [
             1,
             "#f0f921"
            ]
           ]
          },
          "colorway": [
           "#636efa",
           "#EF553B",
           "#00cc96",
           "#ab63fa",
           "#FFA15A",
           "#19d3f3",
           "#FF6692",
           "#B6E880",
           "#FF97FF",
           "#FECB52"
          ],
          "font": {
           "color": "#2a3f5f"
          },
          "geo": {
           "bgcolor": "white",
           "lakecolor": "white",
           "landcolor": "#E5ECF6",
           "showlakes": true,
           "showland": true,
           "subunitcolor": "white"
          },
          "hoverlabel": {
           "align": "left"
          },
          "hovermode": "closest",
          "mapbox": {
           "style": "light"
          },
          "paper_bgcolor": "white",
          "plot_bgcolor": "#E5ECF6",
          "polar": {
           "angularaxis": {
            "gridcolor": "white",
            "linecolor": "white",
            "ticks": ""
           },
           "bgcolor": "#E5ECF6",
           "radialaxis": {
            "gridcolor": "white",
            "linecolor": "white",
            "ticks": ""
           }
          },
          "scene": {
           "xaxis": {
            "backgroundcolor": "#E5ECF6",
            "gridcolor": "white",
            "gridwidth": 2,
            "linecolor": "white",
            "showbackground": true,
            "ticks": "",
            "zerolinecolor": "white"
           },
           "yaxis": {
            "backgroundcolor": "#E5ECF6",
            "gridcolor": "white",
            "gridwidth": 2,
            "linecolor": "white",
            "showbackground": true,
            "ticks": "",
            "zerolinecolor": "white"
           },
           "zaxis": {
            "backgroundcolor": "#E5ECF6",
            "gridcolor": "white",
            "gridwidth": 2,
            "linecolor": "white",
            "showbackground": true,
            "ticks": "",
            "zerolinecolor": "white"
           }
          },
          "shapedefaults": {
           "line": {
            "color": "#2a3f5f"
           }
          },
          "ternary": {
           "aaxis": {
            "gridcolor": "white",
            "linecolor": "white",
            "ticks": ""
           },
           "baxis": {
            "gridcolor": "white",
            "linecolor": "white",
            "ticks": ""
           },
           "bgcolor": "#E5ECF6",
           "caxis": {
            "gridcolor": "white",
            "linecolor": "white",
            "ticks": ""
           }
          },
          "title": {
           "x": 0.05
          },
          "xaxis": {
           "automargin": true,
           "gridcolor": "white",
           "linecolor": "white",
           "ticks": "",
           "title": {
            "standoff": 15
           },
           "zerolinecolor": "white",
           "zerolinewidth": 2
          },
          "yaxis": {
           "automargin": true,
           "gridcolor": "white",
           "linecolor": "white",
           "ticks": "",
           "title": {
            "standoff": 15
           },
           "zerolinecolor": "white",
           "zerolinewidth": 2
          }
         }
        },
        "xaxis": {
         "anchor": "y",
         "domain": [
          0,
          1
         ],
         "title": {
          "text": "x"
         }
        },
        "yaxis": {
         "anchor": "x",
         "domain": [
          0,
          1
         ],
         "title": {
          "text": "y"
         }
        }
       }
      }
     },
     "metadata": {},
     "output_type": "display_data"
    }
   ],
   "source": [
    "px.scatter(x=x.ravel(), y=y.ravel())"
   ]
  },
  {
   "cell_type": "code",
   "execution_count": 342,
   "metadata": {},
   "outputs": [],
   "source": [
    "xTrain, xTest, yTrain, yTest = train_test_split(data.data, data.target, test_size=0.2, random_state=2)"
   ]
  },
  {
   "cell_type": "code",
   "execution_count": 343,
   "metadata": {},
   "outputs": [],
   "source": [
    "from sklearn.preprocessing import PolynomialFeatures\n",
    "poly = PolynomialFeatures(degree=3)\n",
    "xTrain = poly.fit_transform(xTrain)\n",
    "xTest = poly.transform(xTest)"
   ]
  },
  {
   "cell_type": "code",
   "execution_count": 344,
   "metadata": {},
   "outputs": [],
   "source": [
    "from mlxtend.evaluate import bias_variance_decomp\n",
    "alphas = np.linspace(0,30,100)\n",
    "loss = []\n",
    "bias =[]\n",
    "variance = []\n",
    "for i in alphas:\n",
    "    reg = Ridge(alpha=i)\n",
    "    avg_expected_loss, avg_bias,avg_var = bias_variance_decomp(reg, xTrain,yTrain, xTest,yTest, loss=\"mse\", random_seed=123)\n",
    "    loss.append(avg_expected_loss)\n",
    "    bias.append(avg_bias)\n",
    "    variance.append(avg_var)"
   ]
  },
  {
   "cell_type": "code",
   "execution_count": 345,
   "metadata": {},
   "outputs": [
    {
     "name": "stderr",
     "output_type": "stream",
     "text": [
      "c:\\Python\\Python311\\Lib\\site-packages\\plotly\\graph_objs\\_deprecations.py:378: DeprecationWarning:\n",
      "\n",
      "plotly.graph_objs.Line is deprecated.\n",
      "Please replace it with one of the following more specific types\n",
      "  - plotly.graph_objs.scatter.Line\n",
      "  - plotly.graph_objs.layout.shape.Line\n",
      "  - etc.\n",
      "\n",
      "\n"
     ]
    },
    {
     "data": {
      "application/vnd.plotly.v1+json": {
       "config": {
        "plotlyServerURL": "https://plot.ly"
       },
       "data": [
        {
         "hovertemplate": "Alphas=%{x}<br>Bias Variance=%{y}<extra></extra>",
         "legendgroup": "",
         "line": {
          "color": "#636efa",
          "dash": "solid"
         },
         "marker": {
          "symbol": "circle"
         },
         "mode": "lines",
         "name": "",
         "orientation": "v",
         "showlegend": false,
         "type": "scatter",
         "x": [
          0,
          0.30303030303030304,
          0.6060606060606061,
          0.9090909090909092,
          1.2121212121212122,
          1.5151515151515151,
          1.8181818181818183,
          2.121212121212121,
          2.4242424242424243,
          2.7272727272727275,
          3.0303030303030303,
          3.3333333333333335,
          3.6363636363636367,
          3.9393939393939394,
          4.242424242424242,
          4.545454545454546,
          4.848484848484849,
          5.151515151515151,
          5.454545454545455,
          5.757575757575758,
          6.0606060606060606,
          6.363636363636364,
          6.666666666666667,
          6.96969696969697,
          7.272727272727273,
          7.575757575757576,
          7.878787878787879,
          8.181818181818182,
          8.484848484848484,
          8.787878787878789,
          9.090909090909092,
          9.393939393939394,
          9.696969696969697,
          10,
          10.303030303030303,
          10.606060606060606,
          10.90909090909091,
          11.212121212121213,
          11.515151515151516,
          11.818181818181818,
          12.121212121212121,
          12.424242424242424,
          12.727272727272728,
          13.030303030303031,
          13.333333333333334,
          13.636363636363637,
          13.93939393939394,
          14.242424242424242,
          14.545454545454547,
          14.84848484848485,
          15.151515151515152,
          15.454545454545455,
          15.757575757575758,
          16.060606060606062,
          16.363636363636363,
          16.666666666666668,
          16.96969696969697,
          17.272727272727273,
          17.575757575757578,
          17.87878787878788,
          18.181818181818183,
          18.484848484848484,
          18.78787878787879,
          19.09090909090909,
          19.393939393939394,
          19.6969696969697,
          20,
          20.303030303030305,
          20.606060606060606,
          20.90909090909091,
          21.21212121212121,
          21.515151515151516,
          21.81818181818182,
          22.12121212121212,
          22.424242424242426,
          22.727272727272727,
          23.03030303030303,
          23.333333333333336,
          23.636363636363637,
          23.93939393939394,
          24.242424242424242,
          24.545454545454547,
          24.848484848484848,
          25.151515151515152,
          25.454545454545457,
          25.757575757575758,
          26.060606060606062,
          26.363636363636363,
          26.666666666666668,
          26.96969696969697,
          27.272727272727273,
          27.575757575757578,
          27.87878787878788,
          28.181818181818183,
          28.484848484848484,
          28.78787878787879,
          29.090909090909093,
          29.393939393939394,
          29.6969696969697,
          30
         ],
         "xaxis": "x",
         "y": [
          984153.2967300538,
          3080.526284092019,
          3166.318586968041,
          3275.0831010020247,
          3383.2722303097,
          3485.2379053213513,
          3579.8313312869363,
          3667.2031427249835,
          3747.8818840054864,
          3822.477737795934,
          3891.5829920920414,
          3955.740326704415,
          4015.43574075153,
          4071.100487217355,
          4123.116046115639,
          4171.819798074834,
          4217.510494463748,
          4260.453205856105,
          4300.883672394105,
          4339.012077016333,
          4375.026298045809,
          4409.094706600622,
          4441.368572195629,
          4471.98413364545,
          4501.064385010613,
          4528.720619157754,
          4555.0537650378965,
          4580.155549167126,
          4604.109507004979,
          4626.99186588759,
          4648.872317786048,
          4669.8146973275325,
          4689.877578148717,
          4709.114798670424,
          4727.575926724288,
          4745.306671071248,
          4762.349246682881,
          4778.742699672111,
          4794.523196928744,
          4809.724284812127,
          4824.377120656713,
          4838.51068033922,
          4852.151944723845,
          4865.32606743275,
          4878.056526072882,
          4890.365258778819,
          4902.272787697939,
          4913.798330842947,
          4924.959903562997,
          4935.774410734069,
          4946.257730638722,
          4956.424791391813,
          4966.289640669843,
          4975.865509415365,
          4985.164870112375,
          4994.199490162522,
          5002.9804808339595,
          5011.518342203696,
          5019.823004469341,
          5027.903865966593,
          5035.769828193767,
          5043.429328113719,
          5050.890367976075,
          5058.160542878285,
          5065.247066262394,
          5072.156793525105,
          5078.896243901551,
          5085.471620767813,
          5091.888830493519,
          5098.153499963582,
          5104.270992877106,
          5110.246424921613,
          5116.084677911885,
          5121.790412974706,
          5127.368082853609,
          5132.821943401213,
          5138.156064320947,
          5143.3743392145625,
          5148.480494987163,
          5153.478100657023,
          5158.37057561363,
          5163.161197363755,
          5167.853108802135,
          5172.449325040396,
          5176.952739825164,
          5181.366131573842,
          5185.692169054345,
          5189.933416732974,
          5194.092339812845,
          5198.171308983485,
          5202.172604900721,
          5206.098422414531,
          5209.950874561212,
          5213.731996335049,
          5217.443748253517,
          5221.088019729081,
          5224.666632259706,
          5228.181342449327,
          5231.633844868742,
          5235.025774766677
         ],
         "yaxis": "y"
        },
        {
         "name": "Bias",
         "type": "scatter",
         "x": [
          0,
          0.30303030303030304,
          0.6060606060606061,
          0.9090909090909092,
          1.2121212121212122,
          1.5151515151515151,
          1.8181818181818183,
          2.121212121212121,
          2.4242424242424243,
          2.7272727272727275,
          3.0303030303030303,
          3.3333333333333335,
          3.6363636363636367,
          3.9393939393939394,
          4.242424242424242,
          4.545454545454546,
          4.848484848484849,
          5.151515151515151,
          5.454545454545455,
          5.757575757575758,
          6.0606060606060606,
          6.363636363636364,
          6.666666666666667,
          6.96969696969697,
          7.272727272727273,
          7.575757575757576,
          7.878787878787879,
          8.181818181818182,
          8.484848484848484,
          8.787878787878789,
          9.090909090909092,
          9.393939393939394,
          9.696969696969697,
          10,
          10.303030303030303,
          10.606060606060606,
          10.90909090909091,
          11.212121212121213,
          11.515151515151516,
          11.818181818181818,
          12.121212121212121,
          12.424242424242424,
          12.727272727272728,
          13.030303030303031,
          13.333333333333334,
          13.636363636363637,
          13.93939393939394,
          14.242424242424242,
          14.545454545454547,
          14.84848484848485,
          15.151515151515152,
          15.454545454545455,
          15.757575757575758,
          16.060606060606062,
          16.363636363636363,
          16.666666666666668,
          16.96969696969697,
          17.272727272727273,
          17.575757575757578,
          17.87878787878788,
          18.181818181818183,
          18.484848484848484,
          18.78787878787879,
          19.09090909090909,
          19.393939393939394,
          19.6969696969697,
          20,
          20.303030303030305,
          20.606060606060606,
          20.90909090909091,
          21.21212121212121,
          21.515151515151516,
          21.81818181818182,
          22.12121212121212,
          22.424242424242426,
          22.727272727272727,
          23.03030303030303,
          23.333333333333336,
          23.636363636363637,
          23.93939393939394,
          24.242424242424242,
          24.545454545454547,
          24.848484848484848,
          25.151515151515152,
          25.454545454545457,
          25.757575757575758,
          26.060606060606062,
          26.363636363636363,
          26.666666666666668,
          26.96969696969697,
          27.272727272727273,
          27.575757575757578,
          27.87878787878788,
          28.181818181818183,
          28.484848484848484,
          28.78787878787879,
          29.090909090909093,
          29.393939393939394,
          29.6969696969697,
          30
         ],
         "y": [
          37552.49605101681,
          3035.645476345412,
          3132.7732199525035,
          3246.992939520608,
          3358.3787721538665,
          3462.425045696732,
          3558.464508470528,
          3646.887532901981,
          3728.3558318632695,
          3803.559553960956,
          3873.1418947861516,
          3937.679451541563,
          3997.68166028643,
          4053.596460313702,
          4105.8175117490755,
          4154.691275833334,
          4200.523397503674,
          4243.584263378073,
          4284.113769769888,
          4322.325388531684,
          4358.409628715618,
          4392.536985988267,
          4424.860460478564,
          4455.517711735466,
          4484.632908418245,
          4512.318320755829,
          4538.675695730749,
          4563.797448226208,
          4587.767695827562,
          4610.663160399642,
          4632.553955796974,
          4653.504277959295,
          4673.573011078752,
          4692.81426139916,
          4711.277828441224,
          4729.009621975596,
          4746.05203183541,
          4762.444256628624,
          4778.222596543441,
          4793.4207147089965,
          4808.069870955305,
          4822.199131292329,
          4835.835555982244,
          4849.004368699206,
          4861.72910894612,
          4874.031769619728,
          4885.932921376496,
          4897.451825245903,
          4908.606534760467,
          4919.4139887181655,
          4929.8900955600275,
          4940.049810230011,
          4949.90720428389,
          4959.475529926036,
          4968.767278576501,
          4977.794234503696,
          4986.567523999125,
          4995.097660519042,
          5003.394586172338,
          5011.4677098939255,
          5019.325942607514,
          5026.977729650205,
          5034.431080703846,
          5041.693597453188,
          5048.772499169224,
          5055.674646396513,
          5062.406562905992,
          5068.974456059235,
          5075.384235716349,
          5081.641531807301,
          5087.751710675262,
          5093.719890290833,
          5099.550954426763,
          5105.249565875017,
          5110.820178780609,
          5116.267050160174,
          5121.594250667309,
          5126.805674661463,
          5131.905049632187,
          5136.895945026407,
          5141.78178052218,
          5146.565833789016,
          5151.2512477714445,
          5155.841037529606,
          5160.338096667931,
          5164.745203380493,
          5169.065026139438,
          5173.300129050708,
          5177.4529768996335,
          5181.525939906984,
          5185.521298214744,
          5189.441246119303,
          5193.287896068442,
          5197.063282437406,
          5200.769365098081,
          5204.408032794418,
          5207.981106336208,
          5211.490341622538,
          5214.937432505363,
          5218.324013503032
         ]
        },
        {
         "name": "Variance",
         "type": "scatter",
         "x": [
          0,
          0.30303030303030304,
          0.6060606060606061,
          0.9090909090909092,
          1.2121212121212122,
          1.5151515151515151,
          1.8181818181818183,
          2.121212121212121,
          2.4242424242424243,
          2.7272727272727275,
          3.0303030303030303,
          3.3333333333333335,
          3.6363636363636367,
          3.9393939393939394,
          4.242424242424242,
          4.545454545454546,
          4.848484848484849,
          5.151515151515151,
          5.454545454545455,
          5.757575757575758,
          6.0606060606060606,
          6.363636363636364,
          6.666666666666667,
          6.96969696969697,
          7.272727272727273,
          7.575757575757576,
          7.878787878787879,
          8.181818181818182,
          8.484848484848484,
          8.787878787878789,
          9.090909090909092,
          9.393939393939394,
          9.696969696969697,
          10,
          10.303030303030303,
          10.606060606060606,
          10.90909090909091,
          11.212121212121213,
          11.515151515151516,
          11.818181818181818,
          12.121212121212121,
          12.424242424242424,
          12.727272727272728,
          13.030303030303031,
          13.333333333333334,
          13.636363636363637,
          13.93939393939394,
          14.242424242424242,
          14.545454545454547,
          14.84848484848485,
          15.151515151515152,
          15.454545454545455,
          15.757575757575758,
          16.060606060606062,
          16.363636363636363,
          16.666666666666668,
          16.96969696969697,
          17.272727272727273,
          17.575757575757578,
          17.87878787878788,
          18.181818181818183,
          18.484848484848484,
          18.78787878787879,
          19.09090909090909,
          19.393939393939394,
          19.6969696969697,
          20,
          20.303030303030305,
          20.606060606060606,
          20.90909090909091,
          21.21212121212121,
          21.515151515151516,
          21.81818181818182,
          22.12121212121212,
          22.424242424242426,
          22.727272727272727,
          23.03030303030303,
          23.333333333333336,
          23.636363636363637,
          23.93939393939394,
          24.242424242424242,
          24.545454545454547,
          24.848484848484848,
          25.151515151515152,
          25.454545454545457,
          25.757575757575758,
          26.060606060606062,
          26.363636363636363,
          26.666666666666668,
          26.96969696969697,
          27.272727272727273,
          27.575757575757578,
          27.87878787878788,
          28.181818181818183,
          28.484848484848484,
          28.78787878787879,
          29.090909090909093,
          29.393939393939394,
          29.6969696969697,
          30
         ],
         "y": [
          946600.8006790369,
          44.880807746606266,
          33.545367015538794,
          28.090161481417496,
          24.89345815583535,
          22.81285962461971,
          21.36682281640858,
          20.315609823001143,
          19.526052142217733,
          18.918183834978645,
          18.441097305889645,
          18.06087516285065,
          17.75408046509997,
          17.504026903652257,
          17.298534366563292,
          17.128522241499162,
          16.987096960074684,
          16.868942478031038,
          16.769902624215597,
          16.686688484647842,
          16.616669330191655,
          16.55772061235461,
          16.5081117170636,
          16.466421909984053,
          16.431476592367805,
          16.402298401924675,
          16.378069307147854,
          16.358100940918494,
          16.341811177416133,
          16.328705487947403,
          16.3183619890733,
          16.310419368238072,
          16.30456706996548,
          16.300537271263842,
          16.298098283063,
          16.29704909565054,
          16.297214847470915,
          16.29844304348661,
          16.300600385302868,
          16.303570103132536,
          16.307249701407383,
          16.31154904689063,
          16.31638874160127,
          16.321698733543926,
          16.3274171267642,
          16.333489159090938,
          16.339866321442738,
          16.346505597043876,
          16.353368802530998,
          16.360422015901957,
          16.367635078696075,
          16.374981161802427,
          16.382436385952314,
          16.38997948932892,
          16.397591535873737,
          16.405255658826075,
          16.412956834834592,
          16.420681684653612,
          16.428418297004942,
          16.436156072666304,
          16.443885586254115,
          16.45159846351431,
          16.45928727222894,
          16.466945425098213,
          16.474567093172404,
          16.48214712859272,
          16.489680995558896,
          16.497164708578126,
          16.50459477716727,
          16.51196815628323,
          16.519282201843982,
          16.52653463077991,
          16.533723485121758,
          16.540847099689703,
          16.547904072998666,
          16.554893241039448,
          16.561813653634307,
          16.568664553099058,
          16.57544535497449,
          16.582155630615453,
          16.588795091449658,
          16.595363574738517,
          16.60186103069001,
          16.608287510790404,
          16.614643157234593,
          16.620928193348636,
          16.62714291490793,
          16.63328768226552,
          16.6393629132127,
          16.64536907650286,
          16.651306685975953,
          16.657176295227192,
          16.662978492769486,
          16.668713897643794,
          16.674383155436125,
          16.67998693466391,
          16.68552592349814,
          16.69100082679064,
          16.696412363379036,
          16.701761263644332
         ]
        }
       ],
       "layout": {
        "legend": {
         "tracegroupgap": 0
        },
        "margin": {
         "t": 60
        },
        "template": {
         "data": {
          "bar": [
           {
            "error_x": {
             "color": "#2a3f5f"
            },
            "error_y": {
             "color": "#2a3f5f"
            },
            "marker": {
             "line": {
              "color": "#E5ECF6",
              "width": 0.5
             },
             "pattern": {
              "fillmode": "overlay",
              "size": 10,
              "solidity": 0.2
             }
            },
            "type": "bar"
           }
          ],
          "barpolar": [
           {
            "marker": {
             "line": {
              "color": "#E5ECF6",
              "width": 0.5
             },
             "pattern": {
              "fillmode": "overlay",
              "size": 10,
              "solidity": 0.2
             }
            },
            "type": "barpolar"
           }
          ],
          "carpet": [
           {
            "aaxis": {
             "endlinecolor": "#2a3f5f",
             "gridcolor": "white",
             "linecolor": "white",
             "minorgridcolor": "white",
             "startlinecolor": "#2a3f5f"
            },
            "baxis": {
             "endlinecolor": "#2a3f5f",
             "gridcolor": "white",
             "linecolor": "white",
             "minorgridcolor": "white",
             "startlinecolor": "#2a3f5f"
            },
            "type": "carpet"
           }
          ],
          "choropleth": [
           {
            "colorbar": {
             "outlinewidth": 0,
             "ticks": ""
            },
            "type": "choropleth"
           }
          ],
          "contour": [
           {
            "colorbar": {
             "outlinewidth": 0,
             "ticks": ""
            },
            "colorscale": [
             [
              0,
              "#0d0887"
             ],
             [
              0.1111111111111111,
              "#46039f"
             ],
             [
              0.2222222222222222,
              "#7201a8"
             ],
             [
              0.3333333333333333,
              "#9c179e"
             ],
             [
              0.4444444444444444,
              "#bd3786"
             ],
             [
              0.5555555555555556,
              "#d8576b"
             ],
             [
              0.6666666666666666,
              "#ed7953"
             ],
             [
              0.7777777777777778,
              "#fb9f3a"
             ],
             [
              0.8888888888888888,
              "#fdca26"
             ],
             [
              1,
              "#f0f921"
             ]
            ],
            "type": "contour"
           }
          ],
          "contourcarpet": [
           {
            "colorbar": {
             "outlinewidth": 0,
             "ticks": ""
            },
            "type": "contourcarpet"
           }
          ],
          "heatmap": [
           {
            "colorbar": {
             "outlinewidth": 0,
             "ticks": ""
            },
            "colorscale": [
             [
              0,
              "#0d0887"
             ],
             [
              0.1111111111111111,
              "#46039f"
             ],
             [
              0.2222222222222222,
              "#7201a8"
             ],
             [
              0.3333333333333333,
              "#9c179e"
             ],
             [
              0.4444444444444444,
              "#bd3786"
             ],
             [
              0.5555555555555556,
              "#d8576b"
             ],
             [
              0.6666666666666666,
              "#ed7953"
             ],
             [
              0.7777777777777778,
              "#fb9f3a"
             ],
             [
              0.8888888888888888,
              "#fdca26"
             ],
             [
              1,
              "#f0f921"
             ]
            ],
            "type": "heatmap"
           }
          ],
          "heatmapgl": [
           {
            "colorbar": {
             "outlinewidth": 0,
             "ticks": ""
            },
            "colorscale": [
             [
              0,
              "#0d0887"
             ],
             [
              0.1111111111111111,
              "#46039f"
             ],
             [
              0.2222222222222222,
              "#7201a8"
             ],
             [
              0.3333333333333333,
              "#9c179e"
             ],
             [
              0.4444444444444444,
              "#bd3786"
             ],
             [
              0.5555555555555556,
              "#d8576b"
             ],
             [
              0.6666666666666666,
              "#ed7953"
             ],
             [
              0.7777777777777778,
              "#fb9f3a"
             ],
             [
              0.8888888888888888,
              "#fdca26"
             ],
             [
              1,
              "#f0f921"
             ]
            ],
            "type": "heatmapgl"
           }
          ],
          "histogram": [
           {
            "marker": {
             "pattern": {
              "fillmode": "overlay",
              "size": 10,
              "solidity": 0.2
             }
            },
            "type": "histogram"
           }
          ],
          "histogram2d": [
           {
            "colorbar": {
             "outlinewidth": 0,
             "ticks": ""
            },
            "colorscale": [
             [
              0,
              "#0d0887"
             ],
             [
              0.1111111111111111,
              "#46039f"
             ],
             [
              0.2222222222222222,
              "#7201a8"
             ],
             [
              0.3333333333333333,
              "#9c179e"
             ],
             [
              0.4444444444444444,
              "#bd3786"
             ],
             [
              0.5555555555555556,
              "#d8576b"
             ],
             [
              0.6666666666666666,
              "#ed7953"
             ],
             [
              0.7777777777777778,
              "#fb9f3a"
             ],
             [
              0.8888888888888888,
              "#fdca26"
             ],
             [
              1,
              "#f0f921"
             ]
            ],
            "type": "histogram2d"
           }
          ],
          "histogram2dcontour": [
           {
            "colorbar": {
             "outlinewidth": 0,
             "ticks": ""
            },
            "colorscale": [
             [
              0,
              "#0d0887"
             ],
             [
              0.1111111111111111,
              "#46039f"
             ],
             [
              0.2222222222222222,
              "#7201a8"
             ],
             [
              0.3333333333333333,
              "#9c179e"
             ],
             [
              0.4444444444444444,
              "#bd3786"
             ],
             [
              0.5555555555555556,
              "#d8576b"
             ],
             [
              0.6666666666666666,
              "#ed7953"
             ],
             [
              0.7777777777777778,
              "#fb9f3a"
             ],
             [
              0.8888888888888888,
              "#fdca26"
             ],
             [
              1,
              "#f0f921"
             ]
            ],
            "type": "histogram2dcontour"
           }
          ],
          "mesh3d": [
           {
            "colorbar": {
             "outlinewidth": 0,
             "ticks": ""
            },
            "type": "mesh3d"
           }
          ],
          "parcoords": [
           {
            "line": {
             "colorbar": {
              "outlinewidth": 0,
              "ticks": ""
             }
            },
            "type": "parcoords"
           }
          ],
          "pie": [
           {
            "automargin": true,
            "type": "pie"
           }
          ],
          "scatter": [
           {
            "fillpattern": {
             "fillmode": "overlay",
             "size": 10,
             "solidity": 0.2
            },
            "type": "scatter"
           }
          ],
          "scatter3d": [
           {
            "line": {
             "colorbar": {
              "outlinewidth": 0,
              "ticks": ""
             }
            },
            "marker": {
             "colorbar": {
              "outlinewidth": 0,
              "ticks": ""
             }
            },
            "type": "scatter3d"
           }
          ],
          "scattercarpet": [
           {
            "marker": {
             "colorbar": {
              "outlinewidth": 0,
              "ticks": ""
             }
            },
            "type": "scattercarpet"
           }
          ],
          "scattergeo": [
           {
            "marker": {
             "colorbar": {
              "outlinewidth": 0,
              "ticks": ""
             }
            },
            "type": "scattergeo"
           }
          ],
          "scattergl": [
           {
            "marker": {
             "colorbar": {
              "outlinewidth": 0,
              "ticks": ""
             }
            },
            "type": "scattergl"
           }
          ],
          "scattermapbox": [
           {
            "marker": {
             "colorbar": {
              "outlinewidth": 0,
              "ticks": ""
             }
            },
            "type": "scattermapbox"
           }
          ],
          "scatterpolar": [
           {
            "marker": {
             "colorbar": {
              "outlinewidth": 0,
              "ticks": ""
             }
            },
            "type": "scatterpolar"
           }
          ],
          "scatterpolargl": [
           {
            "marker": {
             "colorbar": {
              "outlinewidth": 0,
              "ticks": ""
             }
            },
            "type": "scatterpolargl"
           }
          ],
          "scatterternary": [
           {
            "marker": {
             "colorbar": {
              "outlinewidth": 0,
              "ticks": ""
             }
            },
            "type": "scatterternary"
           }
          ],
          "surface": [
           {
            "colorbar": {
             "outlinewidth": 0,
             "ticks": ""
            },
            "colorscale": [
             [
              0,
              "#0d0887"
             ],
             [
              0.1111111111111111,
              "#46039f"
             ],
             [
              0.2222222222222222,
              "#7201a8"
             ],
             [
              0.3333333333333333,
              "#9c179e"
             ],
             [
              0.4444444444444444,
              "#bd3786"
             ],
             [
              0.5555555555555556,
              "#d8576b"
             ],
             [
              0.6666666666666666,
              "#ed7953"
             ],
             [
              0.7777777777777778,
              "#fb9f3a"
             ],
             [
              0.8888888888888888,
              "#fdca26"
             ],
             [
              1,
              "#f0f921"
             ]
            ],
            "type": "surface"
           }
          ],
          "table": [
           {
            "cells": {
             "fill": {
              "color": "#EBF0F8"
             },
             "line": {
              "color": "white"
             }
            },
            "header": {
             "fill": {
              "color": "#C8D4E3"
             },
             "line": {
              "color": "white"
             }
            },
            "type": "table"
           }
          ]
         },
         "layout": {
          "annotationdefaults": {
           "arrowcolor": "#2a3f5f",
           "arrowhead": 0,
           "arrowwidth": 1
          },
          "autotypenumbers": "strict",
          "coloraxis": {
           "colorbar": {
            "outlinewidth": 0,
            "ticks": ""
           }
          },
          "colorscale": {
           "diverging": [
            [
             0,
             "#8e0152"
            ],
            [
             0.1,
             "#c51b7d"
            ],
            [
             0.2,
             "#de77ae"
            ],
            [
             0.3,
             "#f1b6da"
            ],
            [
             0.4,
             "#fde0ef"
            ],
            [
             0.5,
             "#f7f7f7"
            ],
            [
             0.6,
             "#e6f5d0"
            ],
            [
             0.7,
             "#b8e186"
            ],
            [
             0.8,
             "#7fbc41"
            ],
            [
             0.9,
             "#4d9221"
            ],
            [
             1,
             "#276419"
            ]
           ],
           "sequential": [
            [
             0,
             "#0d0887"
            ],
            [
             0.1111111111111111,
             "#46039f"
            ],
            [
             0.2222222222222222,
             "#7201a8"
            ],
            [
             0.3333333333333333,
             "#9c179e"
            ],
            [
             0.4444444444444444,
             "#bd3786"
            ],
            [
             0.5555555555555556,
             "#d8576b"
            ],
            [
             0.6666666666666666,
             "#ed7953"
            ],
            [
             0.7777777777777778,
             "#fb9f3a"
            ],
            [
             0.8888888888888888,
             "#fdca26"
            ],
            [
             1,
             "#f0f921"
            ]
           ],
           "sequentialminus": [
            [
             0,
             "#0d0887"
            ],
            [
             0.1111111111111111,
             "#46039f"
            ],
            [
             0.2222222222222222,
             "#7201a8"
            ],
            [
             0.3333333333333333,
             "#9c179e"
            ],
            [
             0.4444444444444444,
             "#bd3786"
            ],
            [
             0.5555555555555556,
             "#d8576b"
            ],
            [
             0.6666666666666666,
             "#ed7953"
            ],
            [
             0.7777777777777778,
             "#fb9f3a"
            ],
            [
             0.8888888888888888,
             "#fdca26"
            ],
            [
             1,
             "#f0f921"
            ]
           ]
          },
          "colorway": [
           "#636efa",
           "#EF553B",
           "#00cc96",
           "#ab63fa",
           "#FFA15A",
           "#19d3f3",
           "#FF6692",
           "#B6E880",
           "#FF97FF",
           "#FECB52"
          ],
          "font": {
           "color": "#2a3f5f"
          },
          "geo": {
           "bgcolor": "white",
           "lakecolor": "white",
           "landcolor": "#E5ECF6",
           "showlakes": true,
           "showland": true,
           "subunitcolor": "white"
          },
          "hoverlabel": {
           "align": "left"
          },
          "hovermode": "closest",
          "mapbox": {
           "style": "light"
          },
          "paper_bgcolor": "white",
          "plot_bgcolor": "#E5ECF6",
          "polar": {
           "angularaxis": {
            "gridcolor": "white",
            "linecolor": "white",
            "ticks": ""
           },
           "bgcolor": "#E5ECF6",
           "radialaxis": {
            "gridcolor": "white",
            "linecolor": "white",
            "ticks": ""
           }
          },
          "scene": {
           "xaxis": {
            "backgroundcolor": "#E5ECF6",
            "gridcolor": "white",
            "gridwidth": 2,
            "linecolor": "white",
            "showbackground": true,
            "ticks": "",
            "zerolinecolor": "white"
           },
           "yaxis": {
            "backgroundcolor": "#E5ECF6",
            "gridcolor": "white",
            "gridwidth": 2,
            "linecolor": "white",
            "showbackground": true,
            "ticks": "",
            "zerolinecolor": "white"
           },
           "zaxis": {
            "backgroundcolor": "#E5ECF6",
            "gridcolor": "white",
            "gridwidth": 2,
            "linecolor": "white",
            "showbackground": true,
            "ticks": "",
            "zerolinecolor": "white"
           }
          },
          "shapedefaults": {
           "line": {
            "color": "#2a3f5f"
           }
          },
          "ternary": {
           "aaxis": {
            "gridcolor": "white",
            "linecolor": "white",
            "ticks": ""
           },
           "baxis": {
            "gridcolor": "white",
            "linecolor": "white",
            "ticks": ""
           },
           "bgcolor": "#E5ECF6",
           "caxis": {
            "gridcolor": "white",
            "linecolor": "white",
            "ticks": ""
           }
          },
          "title": {
           "x": 0.05
          },
          "xaxis": {
           "automargin": true,
           "gridcolor": "white",
           "linecolor": "white",
           "ticks": "",
           "title": {
            "standoff": 15
           },
           "zerolinecolor": "white",
           "zerolinewidth": 2
          },
          "yaxis": {
           "automargin": true,
           "gridcolor": "white",
           "linecolor": "white",
           "ticks": "",
           "title": {
            "standoff": 15
           },
           "zerolinecolor": "white",
           "zerolinewidth": 2
          }
         }
        },
        "xaxis": {
         "anchor": "y",
         "domain": [
          0,
          1
         ],
         "title": {
          "text": "Alphas"
         }
        },
        "yaxis": {
         "anchor": "x",
         "domain": [
          0,
          1
         ],
         "title": {
          "text": "Bias Variance"
         }
        }
       }
      }
     },
     "metadata": {},
     "output_type": "display_data"
    }
   ],
   "source": [
    "fig = px.line(x=alphas, y=loss, labels={\"x\": \"Alphas\", 'y': \"Bias Variance\"})\n",
    "fig.add_trace(go.Line(x=alphas, y=bias, name=\"Bias\"))\n",
    "fig.add_trace(go.Line(x=alphas, y=variance, name=\"Variance\"))\n",
    "fig.show()"
   ]
  },
  {
   "cell_type": "markdown",
   "metadata": {},
   "source": [
    "### 4. Effect of Regularization on Loss Function"
   ]
  },
  {
   "cell_type": "code",
   "execution_count": 346,
   "metadata": {},
   "outputs": [],
   "source": [
    "from sklearn.datasets import make_regression\n",
    "\n",
    "x, y = make_regression(n_samples=100, n_features=1, n_informative=1, n_targets=1, noise=20, random_state=13)"
   ]
  },
  {
   "cell_type": "code",
   "execution_count": 347,
   "metadata": {},
   "outputs": [
    {
     "data": {
      "application/vnd.plotly.v1+json": {
       "config": {
        "plotlyServerURL": "https://plot.ly"
       },
       "data": [
        {
         "hovertemplate": "x=%{x}<br>y=%{y}<extra></extra>",
         "legendgroup": "",
         "marker": {
          "color": "#636efa",
          "symbol": "circle"
         },
         "mode": "markers",
         "name": "",
         "orientation": "v",
         "showlegend": false,
         "type": "scatter",
         "x": [
          -0.712390662050588,
          -0.4371456556814915,
          -0.4537523812416193,
          0.9528306110451948,
          0.23785783828501061,
          0.8612113741693206,
          -0.24332625188556253,
          0.18494595039221876,
          -0.7209996734353815,
          -0.42989708186880404,
          2.0152208250443837,
          0.3972413264075336,
          0.20780005335113885,
          -0.2324258720274623,
          -0.7686270207784495,
          0.4531586132388156,
          0.6398839732802036,
          0.35953229551797367,
          -1.6151079632521659,
          1.749241790081012,
          -0.7889890249515489,
          -0.511965094194221,
          -0.928335225810039,
          2.1503829673811126,
          -0.20734969827652708,
          -1.639093411201915,
          -0.3386182541020083,
          -0.3221236569774085,
          -0.48137141579474935,
          -0.5231642148972904,
          0.7219650574076287,
          0.7659110492252689,
          0.45348104026746144,
          -1.261605945319069,
          -2.187115273247333,
          -1.185418809153406,
          0.21745165945019368,
          1.3303169236725105,
          -1.0871815907509188,
          0.5622617060581323,
          -1.5128451152607716,
          -0.002389025600514556,
          -0.27813451650877447,
          0.45181233874578974,
          1.190705272505982,
          0.9223441482568703,
          0.8149954430712237,
          -0.6209797023155086,
          0.9137407048596775,
          1.1383330474921514,
          1.4786857374358966,
          -0.6510564789536804,
          -0.37591996120915105,
          -0.7746600331288077,
          0.5011372949374676,
          1.3501878997225267,
          0.7291654706806434,
          -0.08165155616424355,
          -0.8541429534648363,
          0.46565797200403236,
          -0.044503078338053455,
          -0.057532387873538586,
          1.8927422187767202,
          -1.0453771305385342,
          0.5646542880869975,
          -1.9241594490929896,
          -0.7640339696578627,
          0.12730328020698067,
          -0.026771649986440726,
          -0.1452113325860197,
          0.5628467852810314,
          0.31735092273633597,
          0.7109747948581455,
          0.753766378659703,
          -0.37011607810475444,
          1.3451017084510097,
          0.5323378882945463,
          -0.9841607817725814,
          1.3503059959308692,
          -0.3466067875476209,
          0.5143288551447859,
          0.1012697856437548,
          -0.6575172676978901,
          0.8309056578021413,
          -0.31726597100271015,
          -0.9802743185258672,
          1.3992384201681904,
          0.5479183096073379,
          -0.530327407582726,
          0.49087183250951594,
          0.3487505938690223,
          2.0536932362953815,
          0.6062886568962988,
          -0.38445768500357647,
          -1.9453906815188249,
          -0.3148580761325759,
          1.8496125662057936,
          -1.1205068713840005,
          -0.33267577528589565,
          -0.757453225587536
         ],
         "xaxis": "x",
         "y": [
          -34.31988063081638,
          -9.42120961239921,
          -19.08818774565816,
          20.437212162837618,
          27.755965901983803,
          -2.907500458765842,
          -14.198782823874307,
          5.400258909615711,
          -26.426430241182402,
          -34.90678722713892,
          37.336204301851694,
          12.853281581453212,
          25.028988781212128,
          -18.960873557222328,
          -23.465585176023875,
          37.78393244269782,
          6.696707918178907,
          -5.572013520473915,
          -49.21587780060539,
          15.94743988166281,
          -42.96673238210259,
          6.090154657122669,
          -25.31947690981174,
          62.82167059557334,
          12.48703995017722,
          -32.713652974324106,
          -18.825547632993782,
          -29.39129263521983,
          -28.688673082068902,
          4.389240686044754,
          46.35423956473224,
          24.39195191027521,
          37.98485171512923,
          -34.57677176602421,
          -61.87362964153242,
          -46.4421596644352,
          -6.888084164727646,
          39.69880836164066,
          -35.237329788013064,
          8.36850884071089,
          -39.681441205454234,
          8.273183075953428,
          -4.407221609258824,
          -3.0135060664427673,
          57.82136286763696,
          24.652560271010255,
          18.113170696123113,
          -52.28490353366432,
          35.918718200086225,
          15.841178809369493,
          24.008054578022303,
          -25.12459942134023,
          -43.92843134919616,
          17.392504946146826,
          15.032279920284017,
          37.833907283500956,
          6.330150593894848,
          5.072661397183754,
          -5.570471890216485,
          19.84111372326433,
          7.041497003915664,
          -18.935330994030277,
          34.80473723730849,
          -57.13912421993564,
          31.05248370162285,
          -75.7291461443336,
          -44.30628825537301,
          21.240410313399202,
          -0.18628862161606075,
          -28.565716532356845,
          -7.391693228518166,
          25.22397748035855,
          32.54321359847095,
          0.29337912869204175,
          -18.63814231042117,
          39.35016824159919,
          2.540050981591735,
          -48.63206990083934,
          54.281805068263225,
          -10.217091039005162,
          -5.66921619738557,
          23.462861952927838,
          -0.06922996701865358,
          5.630794590835777,
          -9.68771367749279,
          -44.66386562968767,
          32.70830971025881,
          18.11747901170934,
          -16.143226187508308,
          45.041441318159386,
          22.7466323999307,
          37.10854707226821,
          12.476026424489888,
          -35.84520019603448,
          -28.638666126195115,
          -27.979066226835464,
          64.17947047969268,
          -60.71543942099409,
          22.233364570202106,
          -2.4022215114722627
         ],
         "yaxis": "y"
        }
       ],
       "layout": {
        "legend": {
         "tracegroupgap": 0
        },
        "margin": {
         "t": 60
        },
        "template": {
         "data": {
          "bar": [
           {
            "error_x": {
             "color": "#2a3f5f"
            },
            "error_y": {
             "color": "#2a3f5f"
            },
            "marker": {
             "line": {
              "color": "#E5ECF6",
              "width": 0.5
             },
             "pattern": {
              "fillmode": "overlay",
              "size": 10,
              "solidity": 0.2
             }
            },
            "type": "bar"
           }
          ],
          "barpolar": [
           {
            "marker": {
             "line": {
              "color": "#E5ECF6",
              "width": 0.5
             },
             "pattern": {
              "fillmode": "overlay",
              "size": 10,
              "solidity": 0.2
             }
            },
            "type": "barpolar"
           }
          ],
          "carpet": [
           {
            "aaxis": {
             "endlinecolor": "#2a3f5f",
             "gridcolor": "white",
             "linecolor": "white",
             "minorgridcolor": "white",
             "startlinecolor": "#2a3f5f"
            },
            "baxis": {
             "endlinecolor": "#2a3f5f",
             "gridcolor": "white",
             "linecolor": "white",
             "minorgridcolor": "white",
             "startlinecolor": "#2a3f5f"
            },
            "type": "carpet"
           }
          ],
          "choropleth": [
           {
            "colorbar": {
             "outlinewidth": 0,
             "ticks": ""
            },
            "type": "choropleth"
           }
          ],
          "contour": [
           {
            "colorbar": {
             "outlinewidth": 0,
             "ticks": ""
            },
            "colorscale": [
             [
              0,
              "#0d0887"
             ],
             [
              0.1111111111111111,
              "#46039f"
             ],
             [
              0.2222222222222222,
              "#7201a8"
             ],
             [
              0.3333333333333333,
              "#9c179e"
             ],
             [
              0.4444444444444444,
              "#bd3786"
             ],
             [
              0.5555555555555556,
              "#d8576b"
             ],
             [
              0.6666666666666666,
              "#ed7953"
             ],
             [
              0.7777777777777778,
              "#fb9f3a"
             ],
             [
              0.8888888888888888,
              "#fdca26"
             ],
             [
              1,
              "#f0f921"
             ]
            ],
            "type": "contour"
           }
          ],
          "contourcarpet": [
           {
            "colorbar": {
             "outlinewidth": 0,
             "ticks": ""
            },
            "type": "contourcarpet"
           }
          ],
          "heatmap": [
           {
            "colorbar": {
             "outlinewidth": 0,
             "ticks": ""
            },
            "colorscale": [
             [
              0,
              "#0d0887"
             ],
             [
              0.1111111111111111,
              "#46039f"
             ],
             [
              0.2222222222222222,
              "#7201a8"
             ],
             [
              0.3333333333333333,
              "#9c179e"
             ],
             [
              0.4444444444444444,
              "#bd3786"
             ],
             [
              0.5555555555555556,
              "#d8576b"
             ],
             [
              0.6666666666666666,
              "#ed7953"
             ],
             [
              0.7777777777777778,
              "#fb9f3a"
             ],
             [
              0.8888888888888888,
              "#fdca26"
             ],
             [
              1,
              "#f0f921"
             ]
            ],
            "type": "heatmap"
           }
          ],
          "heatmapgl": [
           {
            "colorbar": {
             "outlinewidth": 0,
             "ticks": ""
            },
            "colorscale": [
             [
              0,
              "#0d0887"
             ],
             [
              0.1111111111111111,
              "#46039f"
             ],
             [
              0.2222222222222222,
              "#7201a8"
             ],
             [
              0.3333333333333333,
              "#9c179e"
             ],
             [
              0.4444444444444444,
              "#bd3786"
             ],
             [
              0.5555555555555556,
              "#d8576b"
             ],
             [
              0.6666666666666666,
              "#ed7953"
             ],
             [
              0.7777777777777778,
              "#fb9f3a"
             ],
             [
              0.8888888888888888,
              "#fdca26"
             ],
             [
              1,
              "#f0f921"
             ]
            ],
            "type": "heatmapgl"
           }
          ],
          "histogram": [
           {
            "marker": {
             "pattern": {
              "fillmode": "overlay",
              "size": 10,
              "solidity": 0.2
             }
            },
            "type": "histogram"
           }
          ],
          "histogram2d": [
           {
            "colorbar": {
             "outlinewidth": 0,
             "ticks": ""
            },
            "colorscale": [
             [
              0,
              "#0d0887"
             ],
             [
              0.1111111111111111,
              "#46039f"
             ],
             [
              0.2222222222222222,
              "#7201a8"
             ],
             [
              0.3333333333333333,
              "#9c179e"
             ],
             [
              0.4444444444444444,
              "#bd3786"
             ],
             [
              0.5555555555555556,
              "#d8576b"
             ],
             [
              0.6666666666666666,
              "#ed7953"
             ],
             [
              0.7777777777777778,
              "#fb9f3a"
             ],
             [
              0.8888888888888888,
              "#fdca26"
             ],
             [
              1,
              "#f0f921"
             ]
            ],
            "type": "histogram2d"
           }
          ],
          "histogram2dcontour": [
           {
            "colorbar": {
             "outlinewidth": 0,
             "ticks": ""
            },
            "colorscale": [
             [
              0,
              "#0d0887"
             ],
             [
              0.1111111111111111,
              "#46039f"
             ],
             [
              0.2222222222222222,
              "#7201a8"
             ],
             [
              0.3333333333333333,
              "#9c179e"
             ],
             [
              0.4444444444444444,
              "#bd3786"
             ],
             [
              0.5555555555555556,
              "#d8576b"
             ],
             [
              0.6666666666666666,
              "#ed7953"
             ],
             [
              0.7777777777777778,
              "#fb9f3a"
             ],
             [
              0.8888888888888888,
              "#fdca26"
             ],
             [
              1,
              "#f0f921"
             ]
            ],
            "type": "histogram2dcontour"
           }
          ],
          "mesh3d": [
           {
            "colorbar": {
             "outlinewidth": 0,
             "ticks": ""
            },
            "type": "mesh3d"
           }
          ],
          "parcoords": [
           {
            "line": {
             "colorbar": {
              "outlinewidth": 0,
              "ticks": ""
             }
            },
            "type": "parcoords"
           }
          ],
          "pie": [
           {
            "automargin": true,
            "type": "pie"
           }
          ],
          "scatter": [
           {
            "fillpattern": {
             "fillmode": "overlay",
             "size": 10,
             "solidity": 0.2
            },
            "type": "scatter"
           }
          ],
          "scatter3d": [
           {
            "line": {
             "colorbar": {
              "outlinewidth": 0,
              "ticks": ""
             }
            },
            "marker": {
             "colorbar": {
              "outlinewidth": 0,
              "ticks": ""
             }
            },
            "type": "scatter3d"
           }
          ],
          "scattercarpet": [
           {
            "marker": {
             "colorbar": {
              "outlinewidth": 0,
              "ticks": ""
             }
            },
            "type": "scattercarpet"
           }
          ],
          "scattergeo": [
           {
            "marker": {
             "colorbar": {
              "outlinewidth": 0,
              "ticks": ""
             }
            },
            "type": "scattergeo"
           }
          ],
          "scattergl": [
           {
            "marker": {
             "colorbar": {
              "outlinewidth": 0,
              "ticks": ""
             }
            },
            "type": "scattergl"
           }
          ],
          "scattermapbox": [
           {
            "marker": {
             "colorbar": {
              "outlinewidth": 0,
              "ticks": ""
             }
            },
            "type": "scattermapbox"
           }
          ],
          "scatterpolar": [
           {
            "marker": {
             "colorbar": {
              "outlinewidth": 0,
              "ticks": ""
             }
            },
            "type": "scatterpolar"
           }
          ],
          "scatterpolargl": [
           {
            "marker": {
             "colorbar": {
              "outlinewidth": 0,
              "ticks": ""
             }
            },
            "type": "scatterpolargl"
           }
          ],
          "scatterternary": [
           {
            "marker": {
             "colorbar": {
              "outlinewidth": 0,
              "ticks": ""
             }
            },
            "type": "scatterternary"
           }
          ],
          "surface": [
           {
            "colorbar": {
             "outlinewidth": 0,
             "ticks": ""
            },
            "colorscale": [
             [
              0,
              "#0d0887"
             ],
             [
              0.1111111111111111,
              "#46039f"
             ],
             [
              0.2222222222222222,
              "#7201a8"
             ],
             [
              0.3333333333333333,
              "#9c179e"
             ],
             [
              0.4444444444444444,
              "#bd3786"
             ],
             [
              0.5555555555555556,
              "#d8576b"
             ],
             [
              0.6666666666666666,
              "#ed7953"
             ],
             [
              0.7777777777777778,
              "#fb9f3a"
             ],
             [
              0.8888888888888888,
              "#fdca26"
             ],
             [
              1,
              "#f0f921"
             ]
            ],
            "type": "surface"
           }
          ],
          "table": [
           {
            "cells": {
             "fill": {
              "color": "#EBF0F8"
             },
             "line": {
              "color": "white"
             }
            },
            "header": {
             "fill": {
              "color": "#C8D4E3"
             },
             "line": {
              "color": "white"
             }
            },
            "type": "table"
           }
          ]
         },
         "layout": {
          "annotationdefaults": {
           "arrowcolor": "#2a3f5f",
           "arrowhead": 0,
           "arrowwidth": 1
          },
          "autotypenumbers": "strict",
          "coloraxis": {
           "colorbar": {
            "outlinewidth": 0,
            "ticks": ""
           }
          },
          "colorscale": {
           "diverging": [
            [
             0,
             "#8e0152"
            ],
            [
             0.1,
             "#c51b7d"
            ],
            [
             0.2,
             "#de77ae"
            ],
            [
             0.3,
             "#f1b6da"
            ],
            [
             0.4,
             "#fde0ef"
            ],
            [
             0.5,
             "#f7f7f7"
            ],
            [
             0.6,
             "#e6f5d0"
            ],
            [
             0.7,
             "#b8e186"
            ],
            [
             0.8,
             "#7fbc41"
            ],
            [
             0.9,
             "#4d9221"
            ],
            [
             1,
             "#276419"
            ]
           ],
           "sequential": [
            [
             0,
             "#0d0887"
            ],
            [
             0.1111111111111111,
             "#46039f"
            ],
            [
             0.2222222222222222,
             "#7201a8"
            ],
            [
             0.3333333333333333,
             "#9c179e"
            ],
            [
             0.4444444444444444,
             "#bd3786"
            ],
            [
             0.5555555555555556,
             "#d8576b"
            ],
            [
             0.6666666666666666,
             "#ed7953"
            ],
            [
             0.7777777777777778,
             "#fb9f3a"
            ],
            [
             0.8888888888888888,
             "#fdca26"
            ],
            [
             1,
             "#f0f921"
            ]
           ],
           "sequentialminus": [
            [
             0,
             "#0d0887"
            ],
            [
             0.1111111111111111,
             "#46039f"
            ],
            [
             0.2222222222222222,
             "#7201a8"
            ],
            [
             0.3333333333333333,
             "#9c179e"
            ],
            [
             0.4444444444444444,
             "#bd3786"
            ],
            [
             0.5555555555555556,
             "#d8576b"
            ],
            [
             0.6666666666666666,
             "#ed7953"
            ],
            [
             0.7777777777777778,
             "#fb9f3a"
            ],
            [
             0.8888888888888888,
             "#fdca26"
            ],
            [
             1,
             "#f0f921"
            ]
           ]
          },
          "colorway": [
           "#636efa",
           "#EF553B",
           "#00cc96",
           "#ab63fa",
           "#FFA15A",
           "#19d3f3",
           "#FF6692",
           "#B6E880",
           "#FF97FF",
           "#FECB52"
          ],
          "font": {
           "color": "#2a3f5f"
          },
          "geo": {
           "bgcolor": "white",
           "lakecolor": "white",
           "landcolor": "#E5ECF6",
           "showlakes": true,
           "showland": true,
           "subunitcolor": "white"
          },
          "hoverlabel": {
           "align": "left"
          },
          "hovermode": "closest",
          "mapbox": {
           "style": "light"
          },
          "paper_bgcolor": "white",
          "plot_bgcolor": "#E5ECF6",
          "polar": {
           "angularaxis": {
            "gridcolor": "white",
            "linecolor": "white",
            "ticks": ""
           },
           "bgcolor": "#E5ECF6",
           "radialaxis": {
            "gridcolor": "white",
            "linecolor": "white",
            "ticks": ""
           }
          },
          "scene": {
           "xaxis": {
            "backgroundcolor": "#E5ECF6",
            "gridcolor": "white",
            "gridwidth": 2,
            "linecolor": "white",
            "showbackground": true,
            "ticks": "",
            "zerolinecolor": "white"
           },
           "yaxis": {
            "backgroundcolor": "#E5ECF6",
            "gridcolor": "white",
            "gridwidth": 2,
            "linecolor": "white",
            "showbackground": true,
            "ticks": "",
            "zerolinecolor": "white"
           },
           "zaxis": {
            "backgroundcolor": "#E5ECF6",
            "gridcolor": "white",
            "gridwidth": 2,
            "linecolor": "white",
            "showbackground": true,
            "ticks": "",
            "zerolinecolor": "white"
           }
          },
          "shapedefaults": {
           "line": {
            "color": "#2a3f5f"
           }
          },
          "ternary": {
           "aaxis": {
            "gridcolor": "white",
            "linecolor": "white",
            "ticks": ""
           },
           "baxis": {
            "gridcolor": "white",
            "linecolor": "white",
            "ticks": ""
           },
           "bgcolor": "#E5ECF6",
           "caxis": {
            "gridcolor": "white",
            "linecolor": "white",
            "ticks": ""
           }
          },
          "title": {
           "x": 0.05
          },
          "xaxis": {
           "automargin": true,
           "gridcolor": "white",
           "linecolor": "white",
           "ticks": "",
           "title": {
            "standoff": 15
           },
           "zerolinecolor": "white",
           "zerolinewidth": 2
          },
          "yaxis": {
           "automargin": true,
           "gridcolor": "white",
           "linecolor": "white",
           "ticks": "",
           "title": {
            "standoff": 15
           },
           "zerolinecolor": "white",
           "zerolinewidth": 2
          }
         }
        },
        "xaxis": {
         "anchor": "y",
         "domain": [
          0,
          1
         ],
         "title": {
          "text": "x"
         }
        },
        "yaxis": {
         "anchor": "x",
         "domain": [
          0,
          1
         ],
         "title": {
          "text": "y"
         }
        }
       }
      }
     },
     "metadata": {},
     "output_type": "display_data"
    }
   ],
   "source": [
    "px.scatter(x=x.ravel(), y=y.ravel())"
   ]
  },
  {
   "cell_type": "code",
   "execution_count": 348,
   "metadata": {},
   "outputs": [
    {
     "data": {
      "text/html": [
       "<style>#sk-container-id-5 {color: black;}#sk-container-id-5 pre{padding: 0;}#sk-container-id-5 div.sk-toggleable {background-color: white;}#sk-container-id-5 label.sk-toggleable__label {cursor: pointer;display: block;width: 100%;margin-bottom: 0;padding: 0.3em;box-sizing: border-box;text-align: center;}#sk-container-id-5 label.sk-toggleable__label-arrow:before {content: \"▸\";float: left;margin-right: 0.25em;color: #696969;}#sk-container-id-5 label.sk-toggleable__label-arrow:hover:before {color: black;}#sk-container-id-5 div.sk-estimator:hover label.sk-toggleable__label-arrow:before {color: black;}#sk-container-id-5 div.sk-toggleable__content {max-height: 0;max-width: 0;overflow: hidden;text-align: left;background-color: #f0f8ff;}#sk-container-id-5 div.sk-toggleable__content pre {margin: 0.2em;color: black;border-radius: 0.25em;background-color: #f0f8ff;}#sk-container-id-5 input.sk-toggleable__control:checked~div.sk-toggleable__content {max-height: 200px;max-width: 100%;overflow: auto;}#sk-container-id-5 input.sk-toggleable__control:checked~label.sk-toggleable__label-arrow:before {content: \"▾\";}#sk-container-id-5 div.sk-estimator input.sk-toggleable__control:checked~label.sk-toggleable__label {background-color: #d4ebff;}#sk-container-id-5 div.sk-label input.sk-toggleable__control:checked~label.sk-toggleable__label {background-color: #d4ebff;}#sk-container-id-5 input.sk-hidden--visually {border: 0;clip: rect(1px 1px 1px 1px);clip: rect(1px, 1px, 1px, 1px);height: 1px;margin: -1px;overflow: hidden;padding: 0;position: absolute;width: 1px;}#sk-container-id-5 div.sk-estimator {font-family: monospace;background-color: #f0f8ff;border: 1px dotted black;border-radius: 0.25em;box-sizing: border-box;margin-bottom: 0.5em;}#sk-container-id-5 div.sk-estimator:hover {background-color: #d4ebff;}#sk-container-id-5 div.sk-parallel-item::after {content: \"\";width: 100%;border-bottom: 1px solid gray;flex-grow: 1;}#sk-container-id-5 div.sk-label:hover label.sk-toggleable__label {background-color: #d4ebff;}#sk-container-id-5 div.sk-serial::before {content: \"\";position: absolute;border-left: 1px solid gray;box-sizing: border-box;top: 0;bottom: 0;left: 50%;z-index: 0;}#sk-container-id-5 div.sk-serial {display: flex;flex-direction: column;align-items: center;background-color: white;padding-right: 0.2em;padding-left: 0.2em;position: relative;}#sk-container-id-5 div.sk-item {position: relative;z-index: 1;}#sk-container-id-5 div.sk-parallel {display: flex;align-items: stretch;justify-content: center;background-color: white;position: relative;}#sk-container-id-5 div.sk-item::before, #sk-container-id-5 div.sk-parallel-item::before {content: \"\";position: absolute;border-left: 1px solid gray;box-sizing: border-box;top: 0;bottom: 0;left: 50%;z-index: -1;}#sk-container-id-5 div.sk-parallel-item {display: flex;flex-direction: column;z-index: 1;position: relative;background-color: white;}#sk-container-id-5 div.sk-parallel-item:first-child::after {align-self: flex-end;width: 50%;}#sk-container-id-5 div.sk-parallel-item:last-child::after {align-self: flex-start;width: 50%;}#sk-container-id-5 div.sk-parallel-item:only-child::after {width: 0;}#sk-container-id-5 div.sk-dashed-wrapped {border: 1px dashed gray;margin: 0 0.4em 0.5em 0.4em;box-sizing: border-box;padding-bottom: 0.4em;background-color: white;}#sk-container-id-5 div.sk-label label {font-family: monospace;font-weight: bold;display: inline-block;line-height: 1.2em;}#sk-container-id-5 div.sk-label-container {text-align: center;}#sk-container-id-5 div.sk-container {/* jupyter's `normalize.less` sets `[hidden] { display: none; }` but bootstrap.min.css set `[hidden] { display: none !important; }` so we also need the `!important` here to be able to override the default hidden behavior on the sphinx rendered scikit-learn.org. See: https://github.com/scikit-learn/scikit-learn/issues/21755 */display: inline-block !important;position: relative;}#sk-container-id-5 div.sk-text-repr-fallback {display: none;}</style><div id=\"sk-container-id-5\" class=\"sk-top-container\"><div class=\"sk-text-repr-fallback\"><pre>LinearRegression()</pre><b>In a Jupyter environment, please rerun this cell to show the HTML representation or trust the notebook. <br />On GitHub, the HTML representation is unable to render, please try loading this page with nbviewer.org.</b></div><div class=\"sk-container\" hidden><div class=\"sk-item\"><div class=\"sk-estimator sk-toggleable\"><input class=\"sk-toggleable__control sk-hidden--visually\" id=\"sk-estimator-id-5\" type=\"checkbox\" checked><label for=\"sk-estimator-id-5\" class=\"sk-toggleable__label sk-toggleable__label-arrow\">LinearRegression</label><div class=\"sk-toggleable__content\"><pre>LinearRegression()</pre></div></div></div></div></div>"
      ],
      "text/plain": [
       "LinearRegression()"
      ]
     },
     "execution_count": 348,
     "metadata": {},
     "output_type": "execute_result"
    }
   ],
   "source": [
    "from sklearn.linear_model import LinearRegression\n",
    "reg = LinearRegression()\n",
    "reg.fit(x,y)"
   ]
  },
  {
   "cell_type": "code",
   "execution_count": 349,
   "metadata": {},
   "outputs": [
    {
     "data": {
      "text/plain": [
       "(-2.29474455867698, array([27.82809103]))"
      ]
     },
     "execution_count": 349,
     "metadata": {},
     "output_type": "execute_result"
    }
   ],
   "source": [
    "reg.intercept_,reg.coef_"
   ]
  },
  {
   "cell_type": "code",
   "execution_count": 350,
   "metadata": {},
   "outputs": [],
   "source": [
    "def calLoss(m, alpha):\n",
    "    return np.sum(y - m * x.ravel() + 2.29) ** 2 + alpha * m * m"
   ]
  },
  {
   "cell_type": "code",
   "execution_count": 351,
   "metadata": {},
   "outputs": [],
   "source": [
    "def predict(m):\n",
    "    return m * x - 2.29"
   ]
  },
  {
   "cell_type": "code",
   "execution_count": 359,
   "metadata": {},
   "outputs": [
    {
     "name": "stderr",
     "output_type": "stream",
     "text": [
      "c:\\Python\\Python311\\Lib\\site-packages\\plotly\\graph_objs\\_deprecations.py:378: DeprecationWarning:\n",
      "\n",
      "plotly.graph_objs.Line is deprecated.\n",
      "Please replace it with one of the following more specific types\n",
      "  - plotly.graph_objs.scatter.Line\n",
      "  - plotly.graph_objs.layout.shape.Line\n",
      "  - etc.\n",
      "\n",
      "\n"
     ]
    },
    {
     "data": {
      "application/vnd.plotly.v1+json": {
       "config": {
        "plotlyServerURL": "https://plot.ly"
       },
       "data": [
        {
         "hovertemplate": "<extra></extra>",
         "legendgroup": "",
         "marker": {
          "color": "#636efa",
          "symbol": "circle"
         },
         "mode": "markers",
         "name": "",
         "orientation": "v",
         "showlegend": false,
         "type": "scatter",
         "xaxis": "x",
         "yaxis": "y"
        },
        {
         "name": "Alpha : 0",
         "type": "scatter",
         "x": [
          -45,
          -43.535353535353536,
          -42.07070707070707,
          -40.60606060606061,
          -39.14141414141414,
          -37.676767676767675,
          -36.21212121212121,
          -34.74747474747475,
          -33.282828282828284,
          -31.818181818181817,
          -30.353535353535353,
          -28.88888888888889,
          -27.424242424242422,
          -25.95959595959596,
          -24.494949494949495,
          -23.030303030303028,
          -21.565656565656564,
          -20.1010101010101,
          -18.636363636363633,
          -17.17171717171717,
          -15.707070707070706,
          -14.242424242424239,
          -12.777777777777779,
          -11.313131313131308,
          -9.848484848484844,
          -8.38383838383838,
          -6.919191919191917,
          -5.454545454545453,
          -3.9898989898989896,
          -2.525252525252519,
          -1.0606060606060552,
          0.4040404040404084,
          1.868686868686872,
          3.3333333333333357,
          4.797979797979799,
          6.262626262626263,
          7.727272727272734,
          9.191919191919197,
          10.656565656565661,
          12.121212121212125,
          13.585858585858588,
          15.050505050505052,
          16.515151515151523,
          17.979797979797986,
          19.444444444444443,
          20.90909090909092,
          22.373737373737384,
          23.838383838383848,
          25.30303030303031,
          26.767676767676775,
          28.23232323232324,
          29.696969696969703,
          31.161616161616166,
          32.62626262626263,
          34.09090909090909,
          35.55555555555556,
          37.02020202020202,
          38.484848484848484,
          39.94949494949496,
          41.414141414141426,
          42.87878787878789,
          44.34343434343435,
          45.80808080808082,
          47.27272727272728,
          48.737373737373744,
          50.20202020202021,
          51.66666666666667,
          53.131313131313135,
          54.5959595959596,
          56.06060606060606,
          57.525252525252526,
          58.989898989899004,
          60.45454545454547,
          61.91919191919193,
          63.383838383838395,
          64.84848484848486,
          66.31313131313132,
          67.77777777777779,
          69.24242424242425,
          70.70707070707071,
          72.17171717171718,
          73.63636363636364,
          75.1010101010101,
          76.56565656565657,
          78.03030303030305,
          79.49494949494951,
          80.95959595959597,
          82.42424242424244,
          83.88888888888889,
          85.35353535353536,
          86.81818181818184,
          88.28282828282829,
          89.74747474747477,
          91.21212121212122,
          92.6767676767677,
          94.14141414141415,
          95.60606060606062,
          97.07070707070707,
          98.53535353535355,
          100
         ],
         "y": [
          180536.1213990059,
          173339.66688955383,
          166289.57535476895,
          159385.84679465176,
          152628.48120920197,
          146017.4785984196,
          139552.83896230476,
          133234.56230085727,
          127062.64861407728,
          121037.09790196462,
          115157.91016451956,
          109425.08540174199,
          103838.62361363169,
          98398.52480018896,
          93104.78896141362,
          87957.41609730592,
          82956.40620786537,
          78101.75929309247,
          73393.47535298702,
          68831.55438754895,
          64415.99639677829,
          60146.80138067519,
          56023.969339239535,
          52047.50027247121,
          48217.394180370444,
          44533.65106293712,
          40996.27092017122,
          37605.253752072815,
          34360.59955864182,
          31262.308339878284,
          28310.38009578222,
          25504.814826353588,
          22845.612531592396,
          20332.7732114987,
          17966.2968660724,
          15746.183495313566,
          13672.433099222186,
          11745.045677798269,
          9964.021231041825,
          8329.359758952805,
          6841.061261531235,
          5499.125738777118,
          4303.553190690445,
          3254.3436172712304,
          2351.4970185194775,
          1595.0133944351585,
          984.8927450182972,
          521.135070268889,
          203.7403701869293,
          32.70864477242327,
          8.039894025366937,
          129.73411794576222,
          397.7913165336049,
          812.2114897889023,
          1372.9946377116478,
          2080.140760301852,
          2933.6498575594956,
          3933.5219294845974,
          5079.756976077158,
          6372.354997337161,
          7811.315993264625,
          9396.639963859529,
          11128.326909121877,
          13006.37682905169,
          15030.78972364894,
          17201.565592913652,
          19518.7044368458,
          21982.20625544544,
          24592.071048712474,
          27348.29881664699,
          30250.88955924895,
          33299.84327651835,
          36495.1599684552,
          39836.83963505956,
          43324.88227633131,
          46959.28789227058,
          50740.05648287717,
          54667.188048151285,
          58740.6825880929,
          62960.54010270189,
          67326.76059197838,
          71839.34405592231,
          76498.2904945337,
          81303.59990781253,
          86255.27229575887,
          91353.30765837249,
          96597.7059956537,
          101988.46730760232,
          107525.59159421842,
          113209.07885550203,
          119038.929091453,
          125015.14230207147,
          131137.7184873573,
          137406.65764731067,
          143821.95978193145,
          150383.6248912196,
          157091.65297517538,
          163946.04403379833,
          170946.79806708894,
          178093.91507504706
         ]
        },
        {
         "name": "Alpha : 10",
         "type": "scatter",
         "x": [
          -45,
          -43.535353535353536,
          -42.07070707070707,
          -40.60606060606061,
          -39.14141414141414,
          -37.676767676767675,
          -36.21212121212121,
          -34.74747474747475,
          -33.282828282828284,
          -31.818181818181817,
          -30.353535353535353,
          -28.88888888888889,
          -27.424242424242422,
          -25.95959595959596,
          -24.494949494949495,
          -23.030303030303028,
          -21.565656565656564,
          -20.1010101010101,
          -18.636363636363633,
          -17.17171717171717,
          -15.707070707070706,
          -14.242424242424239,
          -12.777777777777779,
          -11.313131313131308,
          -9.848484848484844,
          -8.38383838383838,
          -6.919191919191917,
          -5.454545454545453,
          -3.9898989898989896,
          -2.525252525252519,
          -1.0606060606060552,
          0.4040404040404084,
          1.868686868686872,
          3.3333333333333357,
          4.797979797979799,
          6.262626262626263,
          7.727272727272734,
          9.191919191919197,
          10.656565656565661,
          12.121212121212125,
          13.585858585858588,
          15.050505050505052,
          16.515151515151523,
          17.979797979797986,
          19.444444444444443,
          20.90909090909092,
          22.373737373737384,
          23.838383838383848,
          25.30303030303031,
          26.767676767676775,
          28.23232323232324,
          29.696969696969703,
          31.161616161616166,
          32.62626262626263,
          34.09090909090909,
          35.55555555555556,
          37.02020202020202,
          38.484848484848484,
          39.94949494949496,
          41.414141414141426,
          42.87878787878789,
          44.34343434343435,
          45.80808080808082,
          47.27272727272728,
          48.737373737373744,
          50.20202020202021,
          51.66666666666667,
          53.131313131313135,
          54.5959595959596,
          56.06060606060606,
          57.525252525252526,
          58.989898989899004,
          60.45454545454547,
          61.91919191919193,
          63.383838383838395,
          64.84848484848486,
          66.31313131313132,
          67.77777777777779,
          69.24242424242425,
          70.70707070707071,
          72.17171717171718,
          73.63636363636364,
          75.1010101010101,
          76.56565656565657,
          78.03030303030305,
          79.49494949494951,
          80.95959595959597,
          82.42424242424244,
          83.88888888888889,
          85.35353535353536,
          86.81818181818184,
          88.28282828282829,
          89.74747474747477,
          91.21212121212122,
          92.6767676767677,
          94.14141414141415,
          95.60606060606062,
          97.07070707070707,
          98.53535353535355,
          100
         ],
         "y": [
          200786.1213990059,
          192292.93696403602,
          183989.01928906137,
          175874.36837408243,
          167948.98421909893,
          160212.86682411085,
          152666.01618911835,
          145308.43231412122,
          138140.1151991196,
          131161.06484411337,
          124371.28124910277,
          117770.76441408767,
          111359.51433906787,
          105137.53102404367,
          99104.81446901489,
          93261.36467398176,
          87607.18163894383,
          82142.26536390158,
          76866.6158488548,
          71780.23309380341,
          66883.11709874748,
          62175.26786368713,
          57656.68538862225,
          53327.369673552734,
          49187.3207184788,
          45236.53852340033,
          41475.02308831733,
          37902.77441322984,
          34519.79249813779,
          31326.077343041226,
          28321.628947940164,
          25506.44731283456,
          22880.532437724425,
          20443.88432260981,
          18196.50296749062,
          16138.388372366928,
          14269.540537238716,
          12589.959462105993,
          11099.64514696877,
          9798.597591827003,
          8686.81679668071,
          7764.3027615299,
          7031.055486374562,
          6487.074971214708,
          6132.361216050342,
          5966.914220881444,
          5990.733985708028,
          6203.820510530091,
          6606.173795347631,
          7197.793840160653,
          7978.680644969152,
          8948.83420977313,
          10108.254534572583,
          11456.94161936752,
          12994.895464157931,
          14722.116068943827,
          16638.60343372519,
          18744.357558502044,
          21039.378443274392,
          23523.6660880422,
          26197.220492805493,
          29060.04165756426,
          32112.1295823185,
          35353.48426706823,
          38784.10571181342,
          42403.9939165541,
          46213.14888129025,
          50211.570606021916,
          54399.259090749,
          58776.2143354716,
          63342.43634018967,
          68097.92510490323,
          73042.68062961224,
          78176.70291431679,
          83499.99195901677,
          89012.54776371228,
          94714.37032840314,
          100605.45965308957,
          106685.81573777151,
          112955.43858244887,
          119414.32818712175,
          126062.48455179008,
          132899.90767645393,
          139926.59756111322,
          147142.55420576807,
          154547.7776104182,
          162142.26777506399,
          169926.0246997052,
          177899.04838434188,
          186061.3388289741,
          194412.8960336018,
          202953.71999822493,
          211683.8107228435,
          220603.1682074576,
          229711.7924520672,
          239009.68345667212,
          248496.84122127277,
          258173.26574586853,
          268038.95703046006,
          278093.91507504706
         ]
        },
        {
         "name": "Alpha : 20",
         "type": "scatter",
         "x": [
          -45,
          -43.535353535353536,
          -42.07070707070707,
          -40.60606060606061,
          -39.14141414141414,
          -37.676767676767675,
          -36.21212121212121,
          -34.74747474747475,
          -33.282828282828284,
          -31.818181818181817,
          -30.353535353535353,
          -28.88888888888889,
          -27.424242424242422,
          -25.95959595959596,
          -24.494949494949495,
          -23.030303030303028,
          -21.565656565656564,
          -20.1010101010101,
          -18.636363636363633,
          -17.17171717171717,
          -15.707070707070706,
          -14.242424242424239,
          -12.777777777777779,
          -11.313131313131308,
          -9.848484848484844,
          -8.38383838383838,
          -6.919191919191917,
          -5.454545454545453,
          -3.9898989898989896,
          -2.525252525252519,
          -1.0606060606060552,
          0.4040404040404084,
          1.868686868686872,
          3.3333333333333357,
          4.797979797979799,
          6.262626262626263,
          7.727272727272734,
          9.191919191919197,
          10.656565656565661,
          12.121212121212125,
          13.585858585858588,
          15.050505050505052,
          16.515151515151523,
          17.979797979797986,
          19.444444444444443,
          20.90909090909092,
          22.373737373737384,
          23.838383838383848,
          25.30303030303031,
          26.767676767676775,
          28.23232323232324,
          29.696969696969703,
          31.161616161616166,
          32.62626262626263,
          34.09090909090909,
          35.55555555555556,
          37.02020202020202,
          38.484848484848484,
          39.94949494949496,
          41.414141414141426,
          42.87878787878789,
          44.34343434343435,
          45.80808080808082,
          47.27272727272728,
          48.737373737373744,
          50.20202020202021,
          51.66666666666667,
          53.131313131313135,
          54.5959595959596,
          56.06060606060606,
          57.525252525252526,
          58.989898989899004,
          60.45454545454547,
          61.91919191919193,
          63.383838383838395,
          64.84848484848486,
          66.31313131313132,
          67.77777777777779,
          69.24242424242425,
          70.70707070707071,
          72.17171717171718,
          73.63636363636364,
          75.1010101010101,
          76.56565656565657,
          78.03030303030305,
          79.49494949494951,
          80.95959595959597,
          82.42424242424244,
          83.88888888888889,
          85.35353535353536,
          86.81818181818184,
          88.28282828282829,
          89.74747474747477,
          91.21212121212122,
          92.6767676767677,
          94.14141414141415,
          95.60606060606062,
          97.07070707070707,
          98.53535353535355,
          100
         ],
         "y": [
          221036.1213990059,
          211246.20703851822,
          201688.46322335378,
          192362.8899535131,
          183269.48722899586,
          174408.25504980213,
          165779.19341593195,
          157382.30232738517,
          149217.58178416197,
          141285.03178626215,
          133584.65233368598,
          126116.44342643335,
          118880.40506450404,
          111876.53724789838,
          105104.83997661615,
          98565.31325065761,
          92257.95707002228,
          86182.77143471068,
          80339.75634472255,
          74728.91180005787,
          69350.23780071666,
          64203.734346699064,
          59289.40143800497,
          54607.23907463425,
          50157.24725658716,
          45939.425983863555,
          41953.775256463436,
          38200.295074386864,
          34678.98543763376,
          31389.84634620417,
          28332.877800098107,
          25508.079799315532,
          22915.45234385645,
          20554.995433720924,
          18426.709068908847,
          16530.59324942029,
          14866.647975255246,
          13434.873246413717,
          12235.269062895719,
          11267.8354247012,
          10532.572331830186,
          10029.479784282681,
          9758.557782058679,
          9719.806325158184,
          9913.225413581205,
          10338.81504732773,
          10996.575226397757,
          11886.505950791294,
          13008.607220508335,
          14362.879035548884,
          15949.321395912937,
          17767.934301600497,
          19818.717752611563,
          22101.671748946137,
          24616.796290604212,
          27364.091377585803,
          30343.55700989089,
          33555.19318751949,
          36998.999910471626,
          40674.97717874724,
          44583.12499234636,
          48723.44335126899,
          53095.932255515116,
          57700.591705084764,
          62537.4216999779,
          67606.42224019456,
          72907.5933257347,
          78440.93495659839,
          84206.44713278553,
          90204.12985429622,
          96433.98312113038,
          102896.00693328811,
          109590.2012907693,
          116516.56619357402,
          123675.10164170222,
          131065.807635154,
          138688.68417392913,
          146543.73125802784,
          154630.94888745013,
          162950.33706219585,
          171501.8957822651,
          180285.62504765787,
          189301.52485837415,
          198549.59521441392,
          208029.8361157773,
          217742.24756246398,
          227686.82955447427,
          237863.58209180806,
          248272.50517446533,
          258913.5988024462,
          269786.8629757506,
          280892.2976943784,
          292229.90295832977,
          303799.6787676045,
          315601.6251222029,
          327635.7420221246,
          339902.0294673701,
          352400.4874579387,
          365131.1159938312,
          378093.91507504706
         ]
        },
        {
         "name": "Alpha : 30",
         "type": "scatter",
         "x": [
          -45,
          -43.535353535353536,
          -42.07070707070707,
          -40.60606060606061,
          -39.14141414141414,
          -37.676767676767675,
          -36.21212121212121,
          -34.74747474747475,
          -33.282828282828284,
          -31.818181818181817,
          -30.353535353535353,
          -28.88888888888889,
          -27.424242424242422,
          -25.95959595959596,
          -24.494949494949495,
          -23.030303030303028,
          -21.565656565656564,
          -20.1010101010101,
          -18.636363636363633,
          -17.17171717171717,
          -15.707070707070706,
          -14.242424242424239,
          -12.777777777777779,
          -11.313131313131308,
          -9.848484848484844,
          -8.38383838383838,
          -6.919191919191917,
          -5.454545454545453,
          -3.9898989898989896,
          -2.525252525252519,
          -1.0606060606060552,
          0.4040404040404084,
          1.868686868686872,
          3.3333333333333357,
          4.797979797979799,
          6.262626262626263,
          7.727272727272734,
          9.191919191919197,
          10.656565656565661,
          12.121212121212125,
          13.585858585858588,
          15.050505050505052,
          16.515151515151523,
          17.979797979797986,
          19.444444444444443,
          20.90909090909092,
          22.373737373737384,
          23.838383838383848,
          25.30303030303031,
          26.767676767676775,
          28.23232323232324,
          29.696969696969703,
          31.161616161616166,
          32.62626262626263,
          34.09090909090909,
          35.55555555555556,
          37.02020202020202,
          38.484848484848484,
          39.94949494949496,
          41.414141414141426,
          42.87878787878789,
          44.34343434343435,
          45.80808080808082,
          47.27272727272728,
          48.737373737373744,
          50.20202020202021,
          51.66666666666667,
          53.131313131313135,
          54.5959595959596,
          56.06060606060606,
          57.525252525252526,
          58.989898989899004,
          60.45454545454547,
          61.91919191919193,
          63.383838383838395,
          64.84848484848486,
          66.31313131313132,
          67.77777777777779,
          69.24242424242425,
          70.70707070707071,
          72.17171717171718,
          73.63636363636364,
          75.1010101010101,
          76.56565656565657,
          78.03030303030305,
          79.49494949494951,
          80.95959595959597,
          82.42424242424244,
          83.88888888888889,
          85.35353535353536,
          86.81818181818184,
          88.28282828282829,
          89.74747474747477,
          91.21212121212122,
          92.6767676767677,
          94.14141414141415,
          95.60606060606062,
          97.07070707070707,
          98.53535353535355,
          100
         ],
         "y": [
          241286.1213990059,
          230199.4771130004,
          219387.9071576462,
          208851.41153294378,
          198589.99023889282,
          188603.64327549338,
          178892.37064274552,
          169456.17234064912,
          160295.0483692043,
          151408.9987284109,
          142798.02341826918,
          134462.12243877904,
          126401.29578994022,
          118615.54347175307,
          111104.86548421741,
          103869.26182733347,
          96908.73250110075,
          90223.27750551977,
          83812.89684059033,
          77677.59050631235,
          71817.35850268585,
          66232.200829711,
          60922.11748738768,
          55887.10847571577,
          51127.17379469551,
          46642.31344432677,
          42432.52742460954,
          38497.81573554389,
          34838.178377129734,
          31453.61534936711,
          28344.12665225605,
          25509.7122857965,
          22950.37224998848,
          20666.106544832033,
          18656.91517032707,
          16922.79812647365,
          15463.755413271776,
          14279.787030721443,
          13370.892978822667,
          12737.073257575397,
          12378.32786697966,
          12294.65680703546,
          12486.060077742794,
          12952.537679101662,
          13694.089611112067,
          14710.715873774016,
          16002.416467087485,
          17569.1913910525,
          19411.040645669036,
          21527.964230937112,
          23919.96214685672,
          26587.034393427864,
          29529.180970650537,
          32746.401878524754,
          36238.6971170505,
          40006.06668622778,
          44048.51058605658,
          48366.028816536935,
          52958.62137766887,
          57826.28826945228,
          62969.02949188724,
          68386.84504497373,
          74079.73492871174,
          80047.6991431013,
          86290.73768814237,
          92808.850563835,
          99602.03777017916,
          106670.29930717486,
          114013.63517482206,
          121632.04537312083,
          129525.52990207111,
          137694.088761673,
          146137.7219519263,
          154856.42947283125,
          163850.2113243877,
          173119.0675065957,
          182662.99801945512,
          192482.00286296612,
          202576.08203712874,
          212945.23554194282,
          223589.46337740848,
          234508.76554352563,
          245703.14204029436,
          257172.5928677146,
          268917.1180257865,
          280936.7175145097,
          293231.39133388456,
          305801.13948391087,
          318645.9619645887,
          331765.8587759184,
          345160.82991789945,
          358830.8753905319,
          372775.9951938159,
          386996.18932775146,
          401491.4577923387,
          416261.80058757716,
          431307.21771346754,
          446627.7091700089,
          462223.27495720226,
          478093.91507504706
         ]
        },
        {
         "name": "Alpha : 40",
         "type": "scatter",
         "x": [
          -45,
          -43.535353535353536,
          -42.07070707070707,
          -40.60606060606061,
          -39.14141414141414,
          -37.676767676767675,
          -36.21212121212121,
          -34.74747474747475,
          -33.282828282828284,
          -31.818181818181817,
          -30.353535353535353,
          -28.88888888888889,
          -27.424242424242422,
          -25.95959595959596,
          -24.494949494949495,
          -23.030303030303028,
          -21.565656565656564,
          -20.1010101010101,
          -18.636363636363633,
          -17.17171717171717,
          -15.707070707070706,
          -14.242424242424239,
          -12.777777777777779,
          -11.313131313131308,
          -9.848484848484844,
          -8.38383838383838,
          -6.919191919191917,
          -5.454545454545453,
          -3.9898989898989896,
          -2.525252525252519,
          -1.0606060606060552,
          0.4040404040404084,
          1.868686868686872,
          3.3333333333333357,
          4.797979797979799,
          6.262626262626263,
          7.727272727272734,
          9.191919191919197,
          10.656565656565661,
          12.121212121212125,
          13.585858585858588,
          15.050505050505052,
          16.515151515151523,
          17.979797979797986,
          19.444444444444443,
          20.90909090909092,
          22.373737373737384,
          23.838383838383848,
          25.30303030303031,
          26.767676767676775,
          28.23232323232324,
          29.696969696969703,
          31.161616161616166,
          32.62626262626263,
          34.09090909090909,
          35.55555555555556,
          37.02020202020202,
          38.484848484848484,
          39.94949494949496,
          41.414141414141426,
          42.87878787878789,
          44.34343434343435,
          45.80808080808082,
          47.27272727272728,
          48.737373737373744,
          50.20202020202021,
          51.66666666666667,
          53.131313131313135,
          54.5959595959596,
          56.06060606060606,
          57.525252525252526,
          58.989898989899004,
          60.45454545454547,
          61.91919191919193,
          63.383838383838395,
          64.84848484848486,
          66.31313131313132,
          67.77777777777779,
          69.24242424242425,
          70.70707070707071,
          72.17171717171718,
          73.63636363636364,
          75.1010101010101,
          76.56565656565657,
          78.03030303030305,
          79.49494949494951,
          80.95959595959597,
          82.42424242424244,
          83.88888888888889,
          85.35353535353536,
          86.81818181818184,
          88.28282828282829,
          89.74747474747477,
          91.21212121212122,
          92.6767676767677,
          94.14141414141415,
          95.60606060606062,
          97.07070707070707,
          98.53535353535355,
          100
         ],
         "y": [
          261536.1213990059,
          249152.7471874826,
          237087.35109193862,
          225339.93311237445,
          213910.49324878975,
          202799.03150118463,
          192005.54786955912,
          181530.04235391307,
          171372.51495424664,
          161532.96567055967,
          152011.39450285237,
          142807.80145112472,
          133922.1865153764,
          125354.54969560778,
          117104.89099181868,
          109173.21040400931,
          101559.50793217921,
          94263.78357632887,
          87286.03733645809,
          80626.26921256681,
          74284.47920465503,
          68260.66731272294,
          62554.8335367704,
          57166.9778767973,
          52097.100332803864,
          47345.20090478999,
          42911.27959275565,
          38795.33639670091,
          34997.3713166257,
          31517.384352530054,
          28355.37550441399,
          25511.344772277473,
          22985.292156120508,
          20777.217655943146,
          18887.12127174529,
          17315.003003527014,
          16060.862851288306,
          15124.700815029168,
          14506.516894749613,
          14206.311090449595,
          14224.083402129136,
          14559.833829788242,
          15213.562373426912,
          16185.269033045139,
          17474.95380864293,
          19082.6167002203,
          21008.25770777722,
          23251.8768313137,
          25813.47407082974,
          28693.049426325346,
          31890.602897800505,
          35406.134485255236,
          39239.64418868952,
          43391.13200810338,
          47860.59794349678,
          52648.04199486975,
          57753.464162222284,
          63176.86444555439,
          68918.2428448661,
          74977.59936015731,
          81354.9339914281,
          88050.24673867846,
          95063.53760190836,
          102394.80658111784,
          110044.05367630685,
          118011.27888747546,
          126296.48221462361,
          134899.66365775134,
          143820.82321685858,
          153059.96089194543,
          162617.07668301184,
          172492.17059005785,
          182685.2426130834,
          193196.29275208848,
          204025.32100707313,
          215172.3273780374,
          226637.31186498108,
          238420.2744679044,
          250521.21518680736,
          262940.13402168977,
          275677.03097255185,
          288731.9060393934,
          302104.7592222146,
          315795.5905210153,
          329804.3999357957,
          344131.18746655545,
          358775.95311329485,
          373738.69687601377,
          389019.4187547122,
          404618.1187493904,
          420534.7968600482,
          436769.4530866854,
          453322.08742930216,
          470192.6998878984,
          487381.29046247434,
          504887.8591530296,
          522712.40595956484,
          540854.9308820791,
          559315.4339205734,
          578093.915075047
         ]
        },
        {
         "name": "Alpha : 50",
         "type": "scatter",
         "x": [
          -45,
          -43.535353535353536,
          -42.07070707070707,
          -40.60606060606061,
          -39.14141414141414,
          -37.676767676767675,
          -36.21212121212121,
          -34.74747474747475,
          -33.282828282828284,
          -31.818181818181817,
          -30.353535353535353,
          -28.88888888888889,
          -27.424242424242422,
          -25.95959595959596,
          -24.494949494949495,
          -23.030303030303028,
          -21.565656565656564,
          -20.1010101010101,
          -18.636363636363633,
          -17.17171717171717,
          -15.707070707070706,
          -14.242424242424239,
          -12.777777777777779,
          -11.313131313131308,
          -9.848484848484844,
          -8.38383838383838,
          -6.919191919191917,
          -5.454545454545453,
          -3.9898989898989896,
          -2.525252525252519,
          -1.0606060606060552,
          0.4040404040404084,
          1.868686868686872,
          3.3333333333333357,
          4.797979797979799,
          6.262626262626263,
          7.727272727272734,
          9.191919191919197,
          10.656565656565661,
          12.121212121212125,
          13.585858585858588,
          15.050505050505052,
          16.515151515151523,
          17.979797979797986,
          19.444444444444443,
          20.90909090909092,
          22.373737373737384,
          23.838383838383848,
          25.30303030303031,
          26.767676767676775,
          28.23232323232324,
          29.696969696969703,
          31.161616161616166,
          32.62626262626263,
          34.09090909090909,
          35.55555555555556,
          37.02020202020202,
          38.484848484848484,
          39.94949494949496,
          41.414141414141426,
          42.87878787878789,
          44.34343434343435,
          45.80808080808082,
          47.27272727272728,
          48.737373737373744,
          50.20202020202021,
          51.66666666666667,
          53.131313131313135,
          54.5959595959596,
          56.06060606060606,
          57.525252525252526,
          58.989898989899004,
          60.45454545454547,
          61.91919191919193,
          63.383838383838395,
          64.84848484848486,
          66.31313131313132,
          67.77777777777779,
          69.24242424242425,
          70.70707070707071,
          72.17171717171718,
          73.63636363636364,
          75.1010101010101,
          76.56565656565657,
          78.03030303030305,
          79.49494949494951,
          80.95959595959597,
          82.42424242424244,
          83.88888888888889,
          85.35353535353536,
          86.81818181818184,
          88.28282828282829,
          89.74747474747477,
          91.21212121212122,
          92.6767676767677,
          94.14141414141415,
          95.60606060606062,
          97.07070707070707,
          98.53535353535355,
          100
         ],
         "y": [
          281786.1213990059,
          268106.0172619648,
          254786.79502623106,
          241828.45469180512,
          229230.9962586867,
          216994.4197268759,
          205118.7250963727,
          193603.91236717702,
          182449.981539289,
          171656.93261270842,
          161224.7655874356,
          151153.4804634704,
          141443.0772408126,
          132093.5559194625,
          123104.91649941995,
          114477.15898068516,
          106210.28336325767,
          98304.28964713798,
          90759.17783232586,
          83574.94791882127,
          76751.59990662422,
          70289.13379573487,
          64187.549586153116,
          58446.84727787881,
          53067.02687091222,
          48048.08836525321,
          43390.03176090176,
          39092.85705785794,
          35156.56425612167,
          31581.153355692994,
          28366.624356571934,
          25512.977258758445,
          23020.212062252533,
          20888.328767054256,
          19117.327373163513,
          17707.207880580376,
          16657.970289304834,
          15969.614599336892,
          15642.14081067656,
          15675.548923323793,
          16069.838937278611,
          16825.010852541025,
          17941.064669111027,
          19418.000386988617,
          21255.818006173795,
          23454.517526666586,
          26014.098948466948,
          28934.5622715749,
          32215.90749599044,
          35858.13462171357,
          39861.24364874429,
          44225.23457708261,
          48950.1074067285,
          54035.86213768199,
          59482.498769943064,
          65290.01730351173,
          71458.41773838799,
          77987.70007457184,
          84877.86431206334,
          92128.91045086234,
          99740.83849096898,
          107713.6484323832,
          116047.34027510497,
          124741.91401913436,
          133797.36966447133,
          143213.70721111592,
          152990.92665906803,
          163129.02800832782,
          173628.01125889513,
          184487.87641077006,
          195708.62346395256,
          207290.25241844275,
          219232.76327424042,
          231536.15603134574,
          244200.43068975856,
          257225.58724947908,
          270611.62571050704,
          284358.54607284267,
          298466.348336486,
          312935.03250143677,
          327764.5985676952,
          342955.04653526115,
          358506.3764041348,
          374418.588174316,
          390691.6818458049,
          407325.65741860116,
          424320.51489270513,
          441676.25426811667,
          459392.8755448357,
          477470.37872286263,
          495908.76380219695,
          514708.0307828388,
          533868.1796647883,
          553389.2104480454,
          573271.1231326101,
          593513.9177184822,
          614117.5942056623,
          635082.1525941493,
          656407.5928839445,
          678093.915075047
         ]
        },
        {
         "name": "Alpha : 100",
         "type": "scatter",
         "x": [
          -45,
          -43.535353535353536,
          -42.07070707070707,
          -40.60606060606061,
          -39.14141414141414,
          -37.676767676767675,
          -36.21212121212121,
          -34.74747474747475,
          -33.282828282828284,
          -31.818181818181817,
          -30.353535353535353,
          -28.88888888888889,
          -27.424242424242422,
          -25.95959595959596,
          -24.494949494949495,
          -23.030303030303028,
          -21.565656565656564,
          -20.1010101010101,
          -18.636363636363633,
          -17.17171717171717,
          -15.707070707070706,
          -14.242424242424239,
          -12.777777777777779,
          -11.313131313131308,
          -9.848484848484844,
          -8.38383838383838,
          -6.919191919191917,
          -5.454545454545453,
          -3.9898989898989896,
          -2.525252525252519,
          -1.0606060606060552,
          0.4040404040404084,
          1.868686868686872,
          3.3333333333333357,
          4.797979797979799,
          6.262626262626263,
          7.727272727272734,
          9.191919191919197,
          10.656565656565661,
          12.121212121212125,
          13.585858585858588,
          15.050505050505052,
          16.515151515151523,
          17.979797979797986,
          19.444444444444443,
          20.90909090909092,
          22.373737373737384,
          23.838383838383848,
          25.30303030303031,
          26.767676767676775,
          28.23232323232324,
          29.696969696969703,
          31.161616161616166,
          32.62626262626263,
          34.09090909090909,
          35.55555555555556,
          37.02020202020202,
          38.484848484848484,
          39.94949494949496,
          41.414141414141426,
          42.87878787878789,
          44.34343434343435,
          45.80808080808082,
          47.27272727272728,
          48.737373737373744,
          50.20202020202021,
          51.66666666666667,
          53.131313131313135,
          54.5959595959596,
          56.06060606060606,
          57.525252525252526,
          58.989898989899004,
          60.45454545454547,
          61.91919191919193,
          63.383838383838395,
          64.84848484848486,
          66.31313131313132,
          67.77777777777779,
          69.24242424242425,
          70.70707070707071,
          72.17171717171718,
          73.63636363636364,
          75.1010101010101,
          76.56565656565657,
          78.03030303030305,
          79.49494949494951,
          80.95959595959597,
          82.42424242424244,
          83.88888888888889,
          85.35353535353536,
          86.81818181818184,
          88.28282828282829,
          89.74747474747477,
          91.21212121212122,
          92.6767676767677,
          94.14141414141415,
          95.60606060606062,
          97.07070707070707,
          98.53535353535355,
          100
         ],
         "y": [
          383036.1213990059,
          362872.3676343758,
          343284.0146976932,
          324271.06258895854,
          305833.51130817144,
          287971.36085533217,
          270684.61123044067,
          253973.2624334968,
          237837.3144645007,
          222276.76732345222,
          207291.62101035164,
          192881.8755251988,
          179047.53086799348,
          165788.58703873603,
          153105.04403742627,
          140996.9018640644,
          129464.16051864997,
          118506.82000118349,
          108124.88031166469,
          98318.34145009358,
          89087.20341647015,
          80431.46621079455,
          72351.12983306669,
          64846.19428328642,
          57916.659561454,
          51562.525667569294,
          45783.79260163229,
          40580.46036364306,
          35952.52895360152,
          31899.998371507707,
          28422.86861736165,
          25521.139691163302,
          23194.811592912672,
          21443.884322609814,
          20268.35788025463,
          19668.232265847186,
          19643.507479387485,
          20194.183520875515,
          21320.260390311298,
          23021.73808769478,
          25298.616613025988,
          28150.895966304928,
          31578.57614753161,
          35581.657156706,
          40160.13899382811,
          45314.02165889802,
          51043.3051519156,
          57347.98947288091,
          64228.074621793945,
          71683.56059865473,
          79714.44740346321,
          88320.73503621944,
          97502.4234969234,
          107259.51278557506,
          117592.00290217447,
          128499.8938467216,
          139983.1856192165,
          152041.87821965906,
          164675.9716480495,
          177885.46590438753,
          191670.36098867335,
          206030.65690090685,
          220966.35364108806,
          236477.45120921702,
          252563.94960529375,
          269225.8488293182,
          286463.1488812903,
          304275.8497612102,
          322663.9514690778,
          341627.4540048931,
          361166.35736865614,
          381280.6615603671,
          401970.36658002564,
          423235.47242763196,
          445075.9791031858,
          467491.8866066876,
          490483.19493813696,
          514049.9040975341,
          538192.0140848791,
          562909.5249001717,
          588202.436543412,
          614070.7490146001,
          640514.4623137359,
          667533.5764408194,
          695128.0913958509,
          723298.0071788298,
          752043.3237897565,
          781364.0412286309,
          811260.1594954529,
          841731.6785902233,
          872778.5985129409,
          904400.9192636061,
          936598.6408422193,
          969371.76324878,
          1002720.2864832889,
          1036644.2105457447,
          1071143.535436149,
          1106218.2611545003,
          1141868.3877008,
          1178093.915075047
         ]
        }
       ],
       "layout": {
        "legend": {
         "tracegroupgap": 0
        },
        "margin": {
         "t": 60
        },
        "template": {
         "data": {
          "bar": [
           {
            "error_x": {
             "color": "#2a3f5f"
            },
            "error_y": {
             "color": "#2a3f5f"
            },
            "marker": {
             "line": {
              "color": "#E5ECF6",
              "width": 0.5
             },
             "pattern": {
              "fillmode": "overlay",
              "size": 10,
              "solidity": 0.2
             }
            },
            "type": "bar"
           }
          ],
          "barpolar": [
           {
            "marker": {
             "line": {
              "color": "#E5ECF6",
              "width": 0.5
             },
             "pattern": {
              "fillmode": "overlay",
              "size": 10,
              "solidity": 0.2
             }
            },
            "type": "barpolar"
           }
          ],
          "carpet": [
           {
            "aaxis": {
             "endlinecolor": "#2a3f5f",
             "gridcolor": "white",
             "linecolor": "white",
             "minorgridcolor": "white",
             "startlinecolor": "#2a3f5f"
            },
            "baxis": {
             "endlinecolor": "#2a3f5f",
             "gridcolor": "white",
             "linecolor": "white",
             "minorgridcolor": "white",
             "startlinecolor": "#2a3f5f"
            },
            "type": "carpet"
           }
          ],
          "choropleth": [
           {
            "colorbar": {
             "outlinewidth": 0,
             "ticks": ""
            },
            "type": "choropleth"
           }
          ],
          "contour": [
           {
            "colorbar": {
             "outlinewidth": 0,
             "ticks": ""
            },
            "colorscale": [
             [
              0,
              "#0d0887"
             ],
             [
              0.1111111111111111,
              "#46039f"
             ],
             [
              0.2222222222222222,
              "#7201a8"
             ],
             [
              0.3333333333333333,
              "#9c179e"
             ],
             [
              0.4444444444444444,
              "#bd3786"
             ],
             [
              0.5555555555555556,
              "#d8576b"
             ],
             [
              0.6666666666666666,
              "#ed7953"
             ],
             [
              0.7777777777777778,
              "#fb9f3a"
             ],
             [
              0.8888888888888888,
              "#fdca26"
             ],
             [
              1,
              "#f0f921"
             ]
            ],
            "type": "contour"
           }
          ],
          "contourcarpet": [
           {
            "colorbar": {
             "outlinewidth": 0,
             "ticks": ""
            },
            "type": "contourcarpet"
           }
          ],
          "heatmap": [
           {
            "colorbar": {
             "outlinewidth": 0,
             "ticks": ""
            },
            "colorscale": [
             [
              0,
              "#0d0887"
             ],
             [
              0.1111111111111111,
              "#46039f"
             ],
             [
              0.2222222222222222,
              "#7201a8"
             ],
             [
              0.3333333333333333,
              "#9c179e"
             ],
             [
              0.4444444444444444,
              "#bd3786"
             ],
             [
              0.5555555555555556,
              "#d8576b"
             ],
             [
              0.6666666666666666,
              "#ed7953"
             ],
             [
              0.7777777777777778,
              "#fb9f3a"
             ],
             [
              0.8888888888888888,
              "#fdca26"
             ],
             [
              1,
              "#f0f921"
             ]
            ],
            "type": "heatmap"
           }
          ],
          "heatmapgl": [
           {
            "colorbar": {
             "outlinewidth": 0,
             "ticks": ""
            },
            "colorscale": [
             [
              0,
              "#0d0887"
             ],
             [
              0.1111111111111111,
              "#46039f"
             ],
             [
              0.2222222222222222,
              "#7201a8"
             ],
             [
              0.3333333333333333,
              "#9c179e"
             ],
             [
              0.4444444444444444,
              "#bd3786"
             ],
             [
              0.5555555555555556,
              "#d8576b"
             ],
             [
              0.6666666666666666,
              "#ed7953"
             ],
             [
              0.7777777777777778,
              "#fb9f3a"
             ],
             [
              0.8888888888888888,
              "#fdca26"
             ],
             [
              1,
              "#f0f921"
             ]
            ],
            "type": "heatmapgl"
           }
          ],
          "histogram": [
           {
            "marker": {
             "pattern": {
              "fillmode": "overlay",
              "size": 10,
              "solidity": 0.2
             }
            },
            "type": "histogram"
           }
          ],
          "histogram2d": [
           {
            "colorbar": {
             "outlinewidth": 0,
             "ticks": ""
            },
            "colorscale": [
             [
              0,
              "#0d0887"
             ],
             [
              0.1111111111111111,
              "#46039f"
             ],
             [
              0.2222222222222222,
              "#7201a8"
             ],
             [
              0.3333333333333333,
              "#9c179e"
             ],
             [
              0.4444444444444444,
              "#bd3786"
             ],
             [
              0.5555555555555556,
              "#d8576b"
             ],
             [
              0.6666666666666666,
              "#ed7953"
             ],
             [
              0.7777777777777778,
              "#fb9f3a"
             ],
             [
              0.8888888888888888,
              "#fdca26"
             ],
             [
              1,
              "#f0f921"
             ]
            ],
            "type": "histogram2d"
           }
          ],
          "histogram2dcontour": [
           {
            "colorbar": {
             "outlinewidth": 0,
             "ticks": ""
            },
            "colorscale": [
             [
              0,
              "#0d0887"
             ],
             [
              0.1111111111111111,
              "#46039f"
             ],
             [
              0.2222222222222222,
              "#7201a8"
             ],
             [
              0.3333333333333333,
              "#9c179e"
             ],
             [
              0.4444444444444444,
              "#bd3786"
             ],
             [
              0.5555555555555556,
              "#d8576b"
             ],
             [
              0.6666666666666666,
              "#ed7953"
             ],
             [
              0.7777777777777778,
              "#fb9f3a"
             ],
             [
              0.8888888888888888,
              "#fdca26"
             ],
             [
              1,
              "#f0f921"
             ]
            ],
            "type": "histogram2dcontour"
           }
          ],
          "mesh3d": [
           {
            "colorbar": {
             "outlinewidth": 0,
             "ticks": ""
            },
            "type": "mesh3d"
           }
          ],
          "parcoords": [
           {
            "line": {
             "colorbar": {
              "outlinewidth": 0,
              "ticks": ""
             }
            },
            "type": "parcoords"
           }
          ],
          "pie": [
           {
            "automargin": true,
            "type": "pie"
           }
          ],
          "scatter": [
           {
            "fillpattern": {
             "fillmode": "overlay",
             "size": 10,
             "solidity": 0.2
            },
            "type": "scatter"
           }
          ],
          "scatter3d": [
           {
            "line": {
             "colorbar": {
              "outlinewidth": 0,
              "ticks": ""
             }
            },
            "marker": {
             "colorbar": {
              "outlinewidth": 0,
              "ticks": ""
             }
            },
            "type": "scatter3d"
           }
          ],
          "scattercarpet": [
           {
            "marker": {
             "colorbar": {
              "outlinewidth": 0,
              "ticks": ""
             }
            },
            "type": "scattercarpet"
           }
          ],
          "scattergeo": [
           {
            "marker": {
             "colorbar": {
              "outlinewidth": 0,
              "ticks": ""
             }
            },
            "type": "scattergeo"
           }
          ],
          "scattergl": [
           {
            "marker": {
             "colorbar": {
              "outlinewidth": 0,
              "ticks": ""
             }
            },
            "type": "scattergl"
           }
          ],
          "scattermapbox": [
           {
            "marker": {
             "colorbar": {
              "outlinewidth": 0,
              "ticks": ""
             }
            },
            "type": "scattermapbox"
           }
          ],
          "scatterpolar": [
           {
            "marker": {
             "colorbar": {
              "outlinewidth": 0,
              "ticks": ""
             }
            },
            "type": "scatterpolar"
           }
          ],
          "scatterpolargl": [
           {
            "marker": {
             "colorbar": {
              "outlinewidth": 0,
              "ticks": ""
             }
            },
            "type": "scatterpolargl"
           }
          ],
          "scatterternary": [
           {
            "marker": {
             "colorbar": {
              "outlinewidth": 0,
              "ticks": ""
             }
            },
            "type": "scatterternary"
           }
          ],
          "surface": [
           {
            "colorbar": {
             "outlinewidth": 0,
             "ticks": ""
            },
            "colorscale": [
             [
              0,
              "#0d0887"
             ],
             [
              0.1111111111111111,
              "#46039f"
             ],
             [
              0.2222222222222222,
              "#7201a8"
             ],
             [
              0.3333333333333333,
              "#9c179e"
             ],
             [
              0.4444444444444444,
              "#bd3786"
             ],
             [
              0.5555555555555556,
              "#d8576b"
             ],
             [
              0.6666666666666666,
              "#ed7953"
             ],
             [
              0.7777777777777778,
              "#fb9f3a"
             ],
             [
              0.8888888888888888,
              "#fdca26"
             ],
             [
              1,
              "#f0f921"
             ]
            ],
            "type": "surface"
           }
          ],
          "table": [
           {
            "cells": {
             "fill": {
              "color": "#EBF0F8"
             },
             "line": {
              "color": "white"
             }
            },
            "header": {
             "fill": {
              "color": "#C8D4E3"
             },
             "line": {
              "color": "white"
             }
            },
            "type": "table"
           }
          ]
         },
         "layout": {
          "annotationdefaults": {
           "arrowcolor": "#2a3f5f",
           "arrowhead": 0,
           "arrowwidth": 1
          },
          "autotypenumbers": "strict",
          "coloraxis": {
           "colorbar": {
            "outlinewidth": 0,
            "ticks": ""
           }
          },
          "colorscale": {
           "diverging": [
            [
             0,
             "#8e0152"
            ],
            [
             0.1,
             "#c51b7d"
            ],
            [
             0.2,
             "#de77ae"
            ],
            [
             0.3,
             "#f1b6da"
            ],
            [
             0.4,
             "#fde0ef"
            ],
            [
             0.5,
             "#f7f7f7"
            ],
            [
             0.6,
             "#e6f5d0"
            ],
            [
             0.7,
             "#b8e186"
            ],
            [
             0.8,
             "#7fbc41"
            ],
            [
             0.9,
             "#4d9221"
            ],
            [
             1,
             "#276419"
            ]
           ],
           "sequential": [
            [
             0,
             "#0d0887"
            ],
            [
             0.1111111111111111,
             "#46039f"
            ],
            [
             0.2222222222222222,
             "#7201a8"
            ],
            [
             0.3333333333333333,
             "#9c179e"
            ],
            [
             0.4444444444444444,
             "#bd3786"
            ],
            [
             0.5555555555555556,
             "#d8576b"
            ],
            [
             0.6666666666666666,
             "#ed7953"
            ],
            [
             0.7777777777777778,
             "#fb9f3a"
            ],
            [
             0.8888888888888888,
             "#fdca26"
            ],
            [
             1,
             "#f0f921"
            ]
           ],
           "sequentialminus": [
            [
             0,
             "#0d0887"
            ],
            [
             0.1111111111111111,
             "#46039f"
            ],
            [
             0.2222222222222222,
             "#7201a8"
            ],
            [
             0.3333333333333333,
             "#9c179e"
            ],
            [
             0.4444444444444444,
             "#bd3786"
            ],
            [
             0.5555555555555556,
             "#d8576b"
            ],
            [
             0.6666666666666666,
             "#ed7953"
            ],
            [
             0.7777777777777778,
             "#fb9f3a"
            ],
            [
             0.8888888888888888,
             "#fdca26"
            ],
            [
             1,
             "#f0f921"
            ]
           ]
          },
          "colorway": [
           "#636efa",
           "#EF553B",
           "#00cc96",
           "#ab63fa",
           "#FFA15A",
           "#19d3f3",
           "#FF6692",
           "#B6E880",
           "#FF97FF",
           "#FECB52"
          ],
          "font": {
           "color": "#2a3f5f"
          },
          "geo": {
           "bgcolor": "white",
           "lakecolor": "white",
           "landcolor": "#E5ECF6",
           "showlakes": true,
           "showland": true,
           "subunitcolor": "white"
          },
          "hoverlabel": {
           "align": "left"
          },
          "hovermode": "closest",
          "mapbox": {
           "style": "light"
          },
          "paper_bgcolor": "white",
          "plot_bgcolor": "#E5ECF6",
          "polar": {
           "angularaxis": {
            "gridcolor": "white",
            "linecolor": "white",
            "ticks": ""
           },
           "bgcolor": "#E5ECF6",
           "radialaxis": {
            "gridcolor": "white",
            "linecolor": "white",
            "ticks": ""
           }
          },
          "scene": {
           "xaxis": {
            "backgroundcolor": "#E5ECF6",
            "gridcolor": "white",
            "gridwidth": 2,
            "linecolor": "white",
            "showbackground": true,
            "ticks": "",
            "zerolinecolor": "white"
           },
           "yaxis": {
            "backgroundcolor": "#E5ECF6",
            "gridcolor": "white",
            "gridwidth": 2,
            "linecolor": "white",
            "showbackground": true,
            "ticks": "",
            "zerolinecolor": "white"
           },
           "zaxis": {
            "backgroundcolor": "#E5ECF6",
            "gridcolor": "white",
            "gridwidth": 2,
            "linecolor": "white",
            "showbackground": true,
            "ticks": "",
            "zerolinecolor": "white"
           }
          },
          "shapedefaults": {
           "line": {
            "color": "#2a3f5f"
           }
          },
          "ternary": {
           "aaxis": {
            "gridcolor": "white",
            "linecolor": "white",
            "ticks": ""
           },
           "baxis": {
            "gridcolor": "white",
            "linecolor": "white",
            "ticks": ""
           },
           "bgcolor": "#E5ECF6",
           "caxis": {
            "gridcolor": "white",
            "linecolor": "white",
            "ticks": ""
           }
          },
          "title": {
           "x": 0.05
          },
          "xaxis": {
           "automargin": true,
           "gridcolor": "white",
           "linecolor": "white",
           "ticks": "",
           "title": {
            "standoff": 15
           },
           "zerolinecolor": "white",
           "zerolinewidth": 2
          },
          "yaxis": {
           "automargin": true,
           "gridcolor": "white",
           "linecolor": "white",
           "ticks": "",
           "title": {
            "standoff": 15
           },
           "zerolinecolor": "white",
           "zerolinewidth": 2
          }
         }
        },
        "xaxis": {
         "anchor": "y",
         "domain": [
          0,
          1
         ]
        },
        "yaxis": {
         "anchor": "x",
         "domain": [
          0,
          1
         ]
        }
       }
      }
     },
     "metadata": {},
     "output_type": "display_data"
    }
   ],
   "source": [
    "m = np.linspace(-45,100,100)\n",
    "fig = px.scatter()\n",
    "for i in [0,10,20,30,40,50,100]:\n",
    "    loss= []\n",
    "    for j in range(m.shape[0]):\n",
    "        loss_i = calLoss(m[j], i)\n",
    "        loss.append(loss_i)\n",
    "    fig.add_trace(go.Line(x=m, y=loss, name=f\"Alpha : {i}\"))\n",
    "fig.show()"
   ]
  },
  {
   "cell_type": "markdown",
   "metadata": {},
   "source": [
    "# End"
   ]
  }
 ],
 "metadata": {
  "kernelspec": {
   "display_name": "Python 3",
   "language": "python",
   "name": "python3"
  },
  "language_info": {
   "codemirror_mode": {
    "name": "ipython",
    "version": 3
   },
   "file_extension": ".py",
   "mimetype": "text/x-python",
   "name": "python",
   "nbconvert_exporter": "python",
   "pygments_lexer": "ipython3",
   "version": "3.11.4"
  }
 },
 "nbformat": 4,
 "nbformat_minor": 2
}
