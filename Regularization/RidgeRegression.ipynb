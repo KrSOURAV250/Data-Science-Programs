{
 "cells": [
  {
   "cell_type": "code",
   "execution_count": 138,
   "metadata": {},
   "outputs": [],
   "source": [
    "from sklearn.datasets import load_diabetes\n",
    "import numpy as np\n",
    "import pandas as pd\n",
    "import plotly.express as px"
   ]
  },
  {
   "cell_type": "code",
   "execution_count": 139,
   "metadata": {},
   "outputs": [
    {
     "name": "stdout",
     "output_type": "stream",
     "text": [
      ".. _diabetes_dataset:\n",
      "\n",
      "Diabetes dataset\n",
      "----------------\n",
      "\n",
      "Ten baseline variables, age, sex, body mass index, average blood\n",
      "pressure, and six blood serum measurements were obtained for each of n =\n",
      "442 diabetes patients, as well as the response of interest, a\n",
      "quantitative measure of disease progression one year after baseline.\n",
      "\n",
      "**Data Set Characteristics:**\n",
      "\n",
      "  :Number of Instances: 442\n",
      "\n",
      "  :Number of Attributes: First 10 columns are numeric predictive values\n",
      "\n",
      "  :Target: Column 11 is a quantitative measure of disease progression one year after baseline\n",
      "\n",
      "  :Attribute Information:\n",
      "      - age     age in years\n",
      "      - sex\n",
      "      - bmi     body mass index\n",
      "      - bp      average blood pressure\n",
      "      - s1      tc, total serum cholesterol\n",
      "      - s2      ldl, low-density lipoproteins\n",
      "      - s3      hdl, high-density lipoproteins\n",
      "      - s4      tch, total cholesterol / HDL\n",
      "      - s5      ltg, possibly log of serum triglycerides level\n",
      "      - s6      glu, blood sugar level\n",
      "\n",
      "Note: Each of these 10 feature variables have been mean centered and scaled by the standard deviation times the square root of `n_samples` (i.e. the sum of squares of each column totals 1).\n",
      "\n",
      "Source URL:\n",
      "https://www4.stat.ncsu.edu/~boos/var.select/diabetes.html\n",
      "\n",
      "For more information see:\n",
      "Bradley Efron, Trevor Hastie, Iain Johnstone and Robert Tibshirani (2004) \"Least Angle Regression,\" Annals of Statistics (with discussion), 407-499.\n",
      "(https://web.stanford.edu/~hastie/Papers/LARS/LeastAngle_2002.pdf)\n",
      "\n"
     ]
    }
   ],
   "source": [
    "data = load_diabetes()\n",
    "print(data.DESCR)"
   ]
  },
  {
   "cell_type": "code",
   "execution_count": 140,
   "metadata": {},
   "outputs": [],
   "source": [
    "x = data[\"data\"]\n",
    "y = data[\"target\"]"
   ]
  },
  {
   "cell_type": "code",
   "execution_count": 141,
   "metadata": {},
   "outputs": [],
   "source": [
    "from sklearn.model_selection import train_test_split\n",
    "xTrain, xTest, yTrain, yTest = train_test_split(\n",
    "    x, y, test_size=0.2, random_state=45)"
   ]
  },
  {
   "cell_type": "code",
   "execution_count": 142,
   "metadata": {},
   "outputs": [
    {
     "data": {
      "text/html": [
       "<style>#sk-container-id-19 {color: black;}#sk-container-id-19 pre{padding: 0;}#sk-container-id-19 div.sk-toggleable {background-color: white;}#sk-container-id-19 label.sk-toggleable__label {cursor: pointer;display: block;width: 100%;margin-bottom: 0;padding: 0.3em;box-sizing: border-box;text-align: center;}#sk-container-id-19 label.sk-toggleable__label-arrow:before {content: \"▸\";float: left;margin-right: 0.25em;color: #696969;}#sk-container-id-19 label.sk-toggleable__label-arrow:hover:before {color: black;}#sk-container-id-19 div.sk-estimator:hover label.sk-toggleable__label-arrow:before {color: black;}#sk-container-id-19 div.sk-toggleable__content {max-height: 0;max-width: 0;overflow: hidden;text-align: left;background-color: #f0f8ff;}#sk-container-id-19 div.sk-toggleable__content pre {margin: 0.2em;color: black;border-radius: 0.25em;background-color: #f0f8ff;}#sk-container-id-19 input.sk-toggleable__control:checked~div.sk-toggleable__content {max-height: 200px;max-width: 100%;overflow: auto;}#sk-container-id-19 input.sk-toggleable__control:checked~label.sk-toggleable__label-arrow:before {content: \"▾\";}#sk-container-id-19 div.sk-estimator input.sk-toggleable__control:checked~label.sk-toggleable__label {background-color: #d4ebff;}#sk-container-id-19 div.sk-label input.sk-toggleable__control:checked~label.sk-toggleable__label {background-color: #d4ebff;}#sk-container-id-19 input.sk-hidden--visually {border: 0;clip: rect(1px 1px 1px 1px);clip: rect(1px, 1px, 1px, 1px);height: 1px;margin: -1px;overflow: hidden;padding: 0;position: absolute;width: 1px;}#sk-container-id-19 div.sk-estimator {font-family: monospace;background-color: #f0f8ff;border: 1px dotted black;border-radius: 0.25em;box-sizing: border-box;margin-bottom: 0.5em;}#sk-container-id-19 div.sk-estimator:hover {background-color: #d4ebff;}#sk-container-id-19 div.sk-parallel-item::after {content: \"\";width: 100%;border-bottom: 1px solid gray;flex-grow: 1;}#sk-container-id-19 div.sk-label:hover label.sk-toggleable__label {background-color: #d4ebff;}#sk-container-id-19 div.sk-serial::before {content: \"\";position: absolute;border-left: 1px solid gray;box-sizing: border-box;top: 0;bottom: 0;left: 50%;z-index: 0;}#sk-container-id-19 div.sk-serial {display: flex;flex-direction: column;align-items: center;background-color: white;padding-right: 0.2em;padding-left: 0.2em;position: relative;}#sk-container-id-19 div.sk-item {position: relative;z-index: 1;}#sk-container-id-19 div.sk-parallel {display: flex;align-items: stretch;justify-content: center;background-color: white;position: relative;}#sk-container-id-19 div.sk-item::before, #sk-container-id-19 div.sk-parallel-item::before {content: \"\";position: absolute;border-left: 1px solid gray;box-sizing: border-box;top: 0;bottom: 0;left: 50%;z-index: -1;}#sk-container-id-19 div.sk-parallel-item {display: flex;flex-direction: column;z-index: 1;position: relative;background-color: white;}#sk-container-id-19 div.sk-parallel-item:first-child::after {align-self: flex-end;width: 50%;}#sk-container-id-19 div.sk-parallel-item:last-child::after {align-self: flex-start;width: 50%;}#sk-container-id-19 div.sk-parallel-item:only-child::after {width: 0;}#sk-container-id-19 div.sk-dashed-wrapped {border: 1px dashed gray;margin: 0 0.4em 0.5em 0.4em;box-sizing: border-box;padding-bottom: 0.4em;background-color: white;}#sk-container-id-19 div.sk-label label {font-family: monospace;font-weight: bold;display: inline-block;line-height: 1.2em;}#sk-container-id-19 div.sk-label-container {text-align: center;}#sk-container-id-19 div.sk-container {/* jupyter's `normalize.less` sets `[hidden] { display: none; }` but bootstrap.min.css set `[hidden] { display: none !important; }` so we also need the `!important` here to be able to override the default hidden behavior on the sphinx rendered scikit-learn.org. See: https://github.com/scikit-learn/scikit-learn/issues/21755 */display: inline-block !important;position: relative;}#sk-container-id-19 div.sk-text-repr-fallback {display: none;}</style><div id=\"sk-container-id-19\" class=\"sk-top-container\"><div class=\"sk-text-repr-fallback\"><pre>LinearRegression()</pre><b>In a Jupyter environment, please rerun this cell to show the HTML representation or trust the notebook. <br />On GitHub, the HTML representation is unable to render, please try loading this page with nbviewer.org.</b></div><div class=\"sk-container\" hidden><div class=\"sk-item\"><div class=\"sk-estimator sk-toggleable\"><input class=\"sk-toggleable__control sk-hidden--visually\" id=\"sk-estimator-id-19\" type=\"checkbox\" checked><label for=\"sk-estimator-id-19\" class=\"sk-toggleable__label sk-toggleable__label-arrow\">LinearRegression</label><div class=\"sk-toggleable__content\"><pre>LinearRegression()</pre></div></div></div></div></div>"
      ],
      "text/plain": [
       "LinearRegression()"
      ]
     },
     "execution_count": 142,
     "metadata": {},
     "output_type": "execute_result"
    }
   ],
   "source": [
    "from sklearn.linear_model import LinearRegression\n",
    "L = LinearRegression()\n",
    "L.fit(xTrain, yTrain)"
   ]
  },
  {
   "cell_type": "code",
   "execution_count": 143,
   "metadata": {},
   "outputs": [],
   "source": [
    "yPred = L.predict(xTest)"
   ]
  },
  {
   "cell_type": "code",
   "execution_count": 144,
   "metadata": {},
   "outputs": [
    {
     "name": "stdout",
     "output_type": "stream",
     "text": [
      "RMSE : 48.72713760953253\n",
      "R2 Score : 0.5188113124539249\n"
     ]
    }
   ],
   "source": [
    "from sklearn.metrics import mean_squared_error, r2_score\n",
    "print(f\"RMSE : {np.sqrt(mean_squared_error(yTest, yPred))}\")\n",
    "print(f\"R2 Score : {r2_score(yTest, yPred)}\")"
   ]
  },
  {
   "cell_type": "code",
   "execution_count": 145,
   "metadata": {},
   "outputs": [],
   "source": [
    "from sklearn.linear_model import Ridge\n",
    "R = Ridge(alpha=0.0001)"
   ]
  },
  {
   "cell_type": "code",
   "execution_count": 146,
   "metadata": {},
   "outputs": [
    {
     "data": {
      "text/html": [
       "<style>#sk-container-id-20 {color: black;}#sk-container-id-20 pre{padding: 0;}#sk-container-id-20 div.sk-toggleable {background-color: white;}#sk-container-id-20 label.sk-toggleable__label {cursor: pointer;display: block;width: 100%;margin-bottom: 0;padding: 0.3em;box-sizing: border-box;text-align: center;}#sk-container-id-20 label.sk-toggleable__label-arrow:before {content: \"▸\";float: left;margin-right: 0.25em;color: #696969;}#sk-container-id-20 label.sk-toggleable__label-arrow:hover:before {color: black;}#sk-container-id-20 div.sk-estimator:hover label.sk-toggleable__label-arrow:before {color: black;}#sk-container-id-20 div.sk-toggleable__content {max-height: 0;max-width: 0;overflow: hidden;text-align: left;background-color: #f0f8ff;}#sk-container-id-20 div.sk-toggleable__content pre {margin: 0.2em;color: black;border-radius: 0.25em;background-color: #f0f8ff;}#sk-container-id-20 input.sk-toggleable__control:checked~div.sk-toggleable__content {max-height: 200px;max-width: 100%;overflow: auto;}#sk-container-id-20 input.sk-toggleable__control:checked~label.sk-toggleable__label-arrow:before {content: \"▾\";}#sk-container-id-20 div.sk-estimator input.sk-toggleable__control:checked~label.sk-toggleable__label {background-color: #d4ebff;}#sk-container-id-20 div.sk-label input.sk-toggleable__control:checked~label.sk-toggleable__label {background-color: #d4ebff;}#sk-container-id-20 input.sk-hidden--visually {border: 0;clip: rect(1px 1px 1px 1px);clip: rect(1px, 1px, 1px, 1px);height: 1px;margin: -1px;overflow: hidden;padding: 0;position: absolute;width: 1px;}#sk-container-id-20 div.sk-estimator {font-family: monospace;background-color: #f0f8ff;border: 1px dotted black;border-radius: 0.25em;box-sizing: border-box;margin-bottom: 0.5em;}#sk-container-id-20 div.sk-estimator:hover {background-color: #d4ebff;}#sk-container-id-20 div.sk-parallel-item::after {content: \"\";width: 100%;border-bottom: 1px solid gray;flex-grow: 1;}#sk-container-id-20 div.sk-label:hover label.sk-toggleable__label {background-color: #d4ebff;}#sk-container-id-20 div.sk-serial::before {content: \"\";position: absolute;border-left: 1px solid gray;box-sizing: border-box;top: 0;bottom: 0;left: 50%;z-index: 0;}#sk-container-id-20 div.sk-serial {display: flex;flex-direction: column;align-items: center;background-color: white;padding-right: 0.2em;padding-left: 0.2em;position: relative;}#sk-container-id-20 div.sk-item {position: relative;z-index: 1;}#sk-container-id-20 div.sk-parallel {display: flex;align-items: stretch;justify-content: center;background-color: white;position: relative;}#sk-container-id-20 div.sk-item::before, #sk-container-id-20 div.sk-parallel-item::before {content: \"\";position: absolute;border-left: 1px solid gray;box-sizing: border-box;top: 0;bottom: 0;left: 50%;z-index: -1;}#sk-container-id-20 div.sk-parallel-item {display: flex;flex-direction: column;z-index: 1;position: relative;background-color: white;}#sk-container-id-20 div.sk-parallel-item:first-child::after {align-self: flex-end;width: 50%;}#sk-container-id-20 div.sk-parallel-item:last-child::after {align-self: flex-start;width: 50%;}#sk-container-id-20 div.sk-parallel-item:only-child::after {width: 0;}#sk-container-id-20 div.sk-dashed-wrapped {border: 1px dashed gray;margin: 0 0.4em 0.5em 0.4em;box-sizing: border-box;padding-bottom: 0.4em;background-color: white;}#sk-container-id-20 div.sk-label label {font-family: monospace;font-weight: bold;display: inline-block;line-height: 1.2em;}#sk-container-id-20 div.sk-label-container {text-align: center;}#sk-container-id-20 div.sk-container {/* jupyter's `normalize.less` sets `[hidden] { display: none; }` but bootstrap.min.css set `[hidden] { display: none !important; }` so we also need the `!important` here to be able to override the default hidden behavior on the sphinx rendered scikit-learn.org. See: https://github.com/scikit-learn/scikit-learn/issues/21755 */display: inline-block !important;position: relative;}#sk-container-id-20 div.sk-text-repr-fallback {display: none;}</style><div id=\"sk-container-id-20\" class=\"sk-top-container\"><div class=\"sk-text-repr-fallback\"><pre>Ridge(alpha=0.0001)</pre><b>In a Jupyter environment, please rerun this cell to show the HTML representation or trust the notebook. <br />On GitHub, the HTML representation is unable to render, please try loading this page with nbviewer.org.</b></div><div class=\"sk-container\" hidden><div class=\"sk-item\"><div class=\"sk-estimator sk-toggleable\"><input class=\"sk-toggleable__control sk-hidden--visually\" id=\"sk-estimator-id-20\" type=\"checkbox\" checked><label for=\"sk-estimator-id-20\" class=\"sk-toggleable__label sk-toggleable__label-arrow\">Ridge</label><div class=\"sk-toggleable__content\"><pre>Ridge(alpha=0.0001)</pre></div></div></div></div></div>"
      ],
      "text/plain": [
       "Ridge(alpha=0.0001)"
      ]
     },
     "execution_count": 146,
     "metadata": {},
     "output_type": "execute_result"
    }
   ],
   "source": [
    "R.fit(xTrain, yTrain)"
   ]
  },
  {
   "cell_type": "code",
   "execution_count": 147,
   "metadata": {},
   "outputs": [],
   "source": [
    "yPred1 = R.predict(xTest)"
   ]
  },
  {
   "cell_type": "code",
   "execution_count": 148,
   "metadata": {},
   "outputs": [
    {
     "name": "stdout",
     "output_type": "stream",
     "text": [
      "RMSE : 48.718937001819555\n",
      "R2 Score : 0.518973263588495\n"
     ]
    }
   ],
   "source": [
    "print(f\"RMSE : {np.sqrt(mean_squared_error(yTest, yPred1))}\")\n",
    "print(f\"R2 Score : {r2_score(yTest, yPred1)}\")"
   ]
  },
  {
   "cell_type": "code",
   "execution_count": 149,
   "metadata": {},
   "outputs": [
    {
     "data": {
      "application/vnd.plotly.v1+json": {
       "config": {
        "plotlyServerURL": "https://plot.ly"
       },
       "data": [
        {
         "hovertemplate": "x=%{x}<br>y=%{y}<extra></extra>",
         "legendgroup": "",
         "marker": {
          "color": "#636efa",
          "symbol": "circle"
         },
         "mode": "markers",
         "name": "",
         "orientation": "v",
         "showlegend": false,
         "type": "scatter",
         "x": [
          -1.9158309594525735,
          2.372746406090285,
          2.095406257480498,
          1.941532753889494,
          0.7247320558534938,
          0.34909994782229425,
          1.121111898989926,
          -0.6004664585581969,
          2.8811160474976543,
          -0.4494532566306928,
          1.3536637734570984,
          -0.8683659007493327,
          1.5001287549913087,
          1.3117919967510194,
          -1.197624659179489,
          -1.2052751168273121,
          0.8035476018243344,
          2.1239260607525337,
          -0.3733475692715609,
          -1.4845870681099143,
          1.91828594561352,
          0.8023058651940573,
          -0.30713992953991287,
          2.414997542015681,
          -1.0479305621814436,
          0.26496501334510336,
          1.6825579185944086,
          2.361249745632364,
          -1.116105542573254,
          2.181087662065127,
          -0.45890458711998017,
          1.8824775352086722,
          2.972388091380177,
          2.9036588219294233,
          -0.8670232411051231,
          0.6767636308033769,
          0.04481306862430978,
          2.2892035929933447,
          0.5104235424731103,
          2.2743894095885446,
          -1.0136052226575547,
          1.3017747797045205,
          1.9027882040942323,
          1.785577305421156,
          0.9808600765827671,
          -0.19495188516479445,
          2.898047426480847,
          2.1912575518925745,
          2.400226983522714,
          -0.32127731757619493,
          -0.6002002532739896,
          2.5437396021936713,
          -0.9004036156141657,
          -1.789946581734756,
          0.2631311863640229,
          -0.7887826576714734,
          1.5550490436139408,
          0.08979428992849448,
          0.02504863658874079,
          -0.14005804217089013,
          -0.5508669879618493,
          -0.6853543320331212,
          0.6158830860657041,
          -1.6515142763735162,
          0.061759961936704855,
          -0.8071683395541189,
          -1.5243389038860304,
          0.5376633363292833,
          -1.242125026798051,
          2.8281135985468646,
          1.7434382790296783,
          -0.5884655243738883,
          -1.6560133329470403,
          0.12887536361164376,
          0.08665665648802445,
          -0.44096357663755725,
          0.40918190574172986,
          -0.396231919302235,
          1.6571966056530996,
          1.2961472481725624,
          -1.3357331079671835,
          1.1439635242740733,
          0.9075106666801624,
          -1.2321549969978256,
          0.31466866360018964,
          -1.5157672343276483,
          -1.9613598859476193,
          1.5484687755035607,
          2.5280840370532607,
          -1.1645443347360627,
          1.0239703147302683,
          -0.754147379977254,
          1.4759183658837651,
          -0.5865947234852853,
          0.9689844160775203,
          -1.301011529046645,
          -0.05249969868769666,
          -1.0412165162090012,
          -1.0182377172792787,
          -1.3432283791738087
         ],
         "xaxis": "x",
         "y": [
          9.212204749854942,
          3.181648311115002,
          -0.08857707424889338,
          1.0229195372928448,
          1.7118844155862556,
          1.7346428015224755,
          1.0119534236566932,
          4.244806683863144,
          2.683712848599381,
          3.5147474209449636,
          1.0756873321012468,
          5.404646237886269,
          2.172373351115355,
          1.1259995470158652,
          7.864356971978409,
          6.68979767806678,
          1.219908887588831,
          3.0315691337715918,
          2.6938563749505655,
          6.727949679067142,
          3.0379737608819637,
          3.3832645151506293,
          1.5390733529131984,
          2.4492078151071186,
          6.194856376122422,
          5.5119085167028565,
          2.2125162150393938,
          1.9736697224227306,
          5.881656738227311,
          1.7804820286439165,
          4.052435922985463,
          3.4281979139925864,
          3.5650293710918084,
          3.5944686090730507,
          4.701709048725805,
          3.823755429984432,
          4.110032876956238,
          1.9968497808098242,
          1.2412976835790621,
          3.052248628545013,
          4.637590122125391,
          0.689962900264456,
          0.6836379801394132,
          2.0591377167185843,
          2.2965637308377693,
          4.439844657455064,
          3.2388086817017934,
          0.5979044026378344,
          2.4444082971077816,
          5.989959076827402,
          4.432909962582889,
          2.0636539152897293,
          4.121611790965126,
          10.69002468060098,
          2.5020935187550775,
          4.980088858235029,
          1.3647830382411263,
          2.810884956961986,
          3.1411892694218317,
          3.85264507440723,
          5.017224189571397,
          4.909790521257252,
          1.533133649676262,
          8.583311689465303,
          2.937830548701056,
          5.3716162152252975,
          6.508097623875966,
          2.9459529095112105,
          7.893362717985083,
          5.01879536875161,
          1.603028581327398,
          5.453438177794634,
          7.294058474184323,
          3.74500641653104,
          2.4636418280817565,
          3.1446550670034217,
          2.243500518824489,
          4.2899454526788885,
          2.154424753179253,
          2.9116842612354077,
          5.949753069588021,
          1.3666845352490977,
          0.953259748523923,
          5.798709306839178,
          2.756352084408852,
          6.909135992300266,
          9.86465561357384,
          0.4682765709274126,
          0.9897769523858411,
          6.961445863374633,
          1.8560812250027892,
          4.989339635545907,
          1.0136696930589817,
          4.761768799615909,
          2.0825630085096156,
          6.6154042703897415,
          1.3276184731563108,
          5.178432642352624,
          6.690928582293522,
          5.291902506111379
         ],
         "yaxis": "y"
        }
       ],
       "layout": {
        "legend": {
         "tracegroupgap": 0
        },
        "margin": {
         "t": 60
        },
        "template": {
         "data": {
          "bar": [
           {
            "error_x": {
             "color": "#2a3f5f"
            },
            "error_y": {
             "color": "#2a3f5f"
            },
            "marker": {
             "line": {
              "color": "#E5ECF6",
              "width": 0.5
             },
             "pattern": {
              "fillmode": "overlay",
              "size": 10,
              "solidity": 0.2
             }
            },
            "type": "bar"
           }
          ],
          "barpolar": [
           {
            "marker": {
             "line": {
              "color": "#E5ECF6",
              "width": 0.5
             },
             "pattern": {
              "fillmode": "overlay",
              "size": 10,
              "solidity": 0.2
             }
            },
            "type": "barpolar"
           }
          ],
          "carpet": [
           {
            "aaxis": {
             "endlinecolor": "#2a3f5f",
             "gridcolor": "white",
             "linecolor": "white",
             "minorgridcolor": "white",
             "startlinecolor": "#2a3f5f"
            },
            "baxis": {
             "endlinecolor": "#2a3f5f",
             "gridcolor": "white",
             "linecolor": "white",
             "minorgridcolor": "white",
             "startlinecolor": "#2a3f5f"
            },
            "type": "carpet"
           }
          ],
          "choropleth": [
           {
            "colorbar": {
             "outlinewidth": 0,
             "ticks": ""
            },
            "type": "choropleth"
           }
          ],
          "contour": [
           {
            "colorbar": {
             "outlinewidth": 0,
             "ticks": ""
            },
            "colorscale": [
             [
              0,
              "#0d0887"
             ],
             [
              0.1111111111111111,
              "#46039f"
             ],
             [
              0.2222222222222222,
              "#7201a8"
             ],
             [
              0.3333333333333333,
              "#9c179e"
             ],
             [
              0.4444444444444444,
              "#bd3786"
             ],
             [
              0.5555555555555556,
              "#d8576b"
             ],
             [
              0.6666666666666666,
              "#ed7953"
             ],
             [
              0.7777777777777778,
              "#fb9f3a"
             ],
             [
              0.8888888888888888,
              "#fdca26"
             ],
             [
              1,
              "#f0f921"
             ]
            ],
            "type": "contour"
           }
          ],
          "contourcarpet": [
           {
            "colorbar": {
             "outlinewidth": 0,
             "ticks": ""
            },
            "type": "contourcarpet"
           }
          ],
          "heatmap": [
           {
            "colorbar": {
             "outlinewidth": 0,
             "ticks": ""
            },
            "colorscale": [
             [
              0,
              "#0d0887"
             ],
             [
              0.1111111111111111,
              "#46039f"
             ],
             [
              0.2222222222222222,
              "#7201a8"
             ],
             [
              0.3333333333333333,
              "#9c179e"
             ],
             [
              0.4444444444444444,
              "#bd3786"
             ],
             [
              0.5555555555555556,
              "#d8576b"
             ],
             [
              0.6666666666666666,
              "#ed7953"
             ],
             [
              0.7777777777777778,
              "#fb9f3a"
             ],
             [
              0.8888888888888888,
              "#fdca26"
             ],
             [
              1,
              "#f0f921"
             ]
            ],
            "type": "heatmap"
           }
          ],
          "heatmapgl": [
           {
            "colorbar": {
             "outlinewidth": 0,
             "ticks": ""
            },
            "colorscale": [
             [
              0,
              "#0d0887"
             ],
             [
              0.1111111111111111,
              "#46039f"
             ],
             [
              0.2222222222222222,
              "#7201a8"
             ],
             [
              0.3333333333333333,
              "#9c179e"
             ],
             [
              0.4444444444444444,
              "#bd3786"
             ],
             [
              0.5555555555555556,
              "#d8576b"
             ],
             [
              0.6666666666666666,
              "#ed7953"
             ],
             [
              0.7777777777777778,
              "#fb9f3a"
             ],
             [
              0.8888888888888888,
              "#fdca26"
             ],
             [
              1,
              "#f0f921"
             ]
            ],
            "type": "heatmapgl"
           }
          ],
          "histogram": [
           {
            "marker": {
             "pattern": {
              "fillmode": "overlay",
              "size": 10,
              "solidity": 0.2
             }
            },
            "type": "histogram"
           }
          ],
          "histogram2d": [
           {
            "colorbar": {
             "outlinewidth": 0,
             "ticks": ""
            },
            "colorscale": [
             [
              0,
              "#0d0887"
             ],
             [
              0.1111111111111111,
              "#46039f"
             ],
             [
              0.2222222222222222,
              "#7201a8"
             ],
             [
              0.3333333333333333,
              "#9c179e"
             ],
             [
              0.4444444444444444,
              "#bd3786"
             ],
             [
              0.5555555555555556,
              "#d8576b"
             ],
             [
              0.6666666666666666,
              "#ed7953"
             ],
             [
              0.7777777777777778,
              "#fb9f3a"
             ],
             [
              0.8888888888888888,
              "#fdca26"
             ],
             [
              1,
              "#f0f921"
             ]
            ],
            "type": "histogram2d"
           }
          ],
          "histogram2dcontour": [
           {
            "colorbar": {
             "outlinewidth": 0,
             "ticks": ""
            },
            "colorscale": [
             [
              0,
              "#0d0887"
             ],
             [
              0.1111111111111111,
              "#46039f"
             ],
             [
              0.2222222222222222,
              "#7201a8"
             ],
             [
              0.3333333333333333,
              "#9c179e"
             ],
             [
              0.4444444444444444,
              "#bd3786"
             ],
             [
              0.5555555555555556,
              "#d8576b"
             ],
             [
              0.6666666666666666,
              "#ed7953"
             ],
             [
              0.7777777777777778,
              "#fb9f3a"
             ],
             [
              0.8888888888888888,
              "#fdca26"
             ],
             [
              1,
              "#f0f921"
             ]
            ],
            "type": "histogram2dcontour"
           }
          ],
          "mesh3d": [
           {
            "colorbar": {
             "outlinewidth": 0,
             "ticks": ""
            },
            "type": "mesh3d"
           }
          ],
          "parcoords": [
           {
            "line": {
             "colorbar": {
              "outlinewidth": 0,
              "ticks": ""
             }
            },
            "type": "parcoords"
           }
          ],
          "pie": [
           {
            "automargin": true,
            "type": "pie"
           }
          ],
          "scatter": [
           {
            "fillpattern": {
             "fillmode": "overlay",
             "size": 10,
             "solidity": 0.2
            },
            "type": "scatter"
           }
          ],
          "scatter3d": [
           {
            "line": {
             "colorbar": {
              "outlinewidth": 0,
              "ticks": ""
             }
            },
            "marker": {
             "colorbar": {
              "outlinewidth": 0,
              "ticks": ""
             }
            },
            "type": "scatter3d"
           }
          ],
          "scattercarpet": [
           {
            "marker": {
             "colorbar": {
              "outlinewidth": 0,
              "ticks": ""
             }
            },
            "type": "scattercarpet"
           }
          ],
          "scattergeo": [
           {
            "marker": {
             "colorbar": {
              "outlinewidth": 0,
              "ticks": ""
             }
            },
            "type": "scattergeo"
           }
          ],
          "scattergl": [
           {
            "marker": {
             "colorbar": {
              "outlinewidth": 0,
              "ticks": ""
             }
            },
            "type": "scattergl"
           }
          ],
          "scattermapbox": [
           {
            "marker": {
             "colorbar": {
              "outlinewidth": 0,
              "ticks": ""
             }
            },
            "type": "scattermapbox"
           }
          ],
          "scatterpolar": [
           {
            "marker": {
             "colorbar": {
              "outlinewidth": 0,
              "ticks": ""
             }
            },
            "type": "scatterpolar"
           }
          ],
          "scatterpolargl": [
           {
            "marker": {
             "colorbar": {
              "outlinewidth": 0,
              "ticks": ""
             }
            },
            "type": "scatterpolargl"
           }
          ],
          "scatterternary": [
           {
            "marker": {
             "colorbar": {
              "outlinewidth": 0,
              "ticks": ""
             }
            },
            "type": "scatterternary"
           }
          ],
          "surface": [
           {
            "colorbar": {
             "outlinewidth": 0,
             "ticks": ""
            },
            "colorscale": [
             [
              0,
              "#0d0887"
             ],
             [
              0.1111111111111111,
              "#46039f"
             ],
             [
              0.2222222222222222,
              "#7201a8"
             ],
             [
              0.3333333333333333,
              "#9c179e"
             ],
             [
              0.4444444444444444,
              "#bd3786"
             ],
             [
              0.5555555555555556,
              "#d8576b"
             ],
             [
              0.6666666666666666,
              "#ed7953"
             ],
             [
              0.7777777777777778,
              "#fb9f3a"
             ],
             [
              0.8888888888888888,
              "#fdca26"
             ],
             [
              1,
              "#f0f921"
             ]
            ],
            "type": "surface"
           }
          ],
          "table": [
           {
            "cells": {
             "fill": {
              "color": "#EBF0F8"
             },
             "line": {
              "color": "white"
             }
            },
            "header": {
             "fill": {
              "color": "#C8D4E3"
             },
             "line": {
              "color": "white"
             }
            },
            "type": "table"
           }
          ]
         },
         "layout": {
          "annotationdefaults": {
           "arrowcolor": "#2a3f5f",
           "arrowhead": 0,
           "arrowwidth": 1
          },
          "autotypenumbers": "strict",
          "coloraxis": {
           "colorbar": {
            "outlinewidth": 0,
            "ticks": ""
           }
          },
          "colorscale": {
           "diverging": [
            [
             0,
             "#8e0152"
            ],
            [
             0.1,
             "#c51b7d"
            ],
            [
             0.2,
             "#de77ae"
            ],
            [
             0.3,
             "#f1b6da"
            ],
            [
             0.4,
             "#fde0ef"
            ],
            [
             0.5,
             "#f7f7f7"
            ],
            [
             0.6,
             "#e6f5d0"
            ],
            [
             0.7,
             "#b8e186"
            ],
            [
             0.8,
             "#7fbc41"
            ],
            [
             0.9,
             "#4d9221"
            ],
            [
             1,
             "#276419"
            ]
           ],
           "sequential": [
            [
             0,
             "#0d0887"
            ],
            [
             0.1111111111111111,
             "#46039f"
            ],
            [
             0.2222222222222222,
             "#7201a8"
            ],
            [
             0.3333333333333333,
             "#9c179e"
            ],
            [
             0.4444444444444444,
             "#bd3786"
            ],
            [
             0.5555555555555556,
             "#d8576b"
            ],
            [
             0.6666666666666666,
             "#ed7953"
            ],
            [
             0.7777777777777778,
             "#fb9f3a"
            ],
            [
             0.8888888888888888,
             "#fdca26"
            ],
            [
             1,
             "#f0f921"
            ]
           ],
           "sequentialminus": [
            [
             0,
             "#0d0887"
            ],
            [
             0.1111111111111111,
             "#46039f"
            ],
            [
             0.2222222222222222,
             "#7201a8"
            ],
            [
             0.3333333333333333,
             "#9c179e"
            ],
            [
             0.4444444444444444,
             "#bd3786"
            ],
            [
             0.5555555555555556,
             "#d8576b"
            ],
            [
             0.6666666666666666,
             "#ed7953"
            ],
            [
             0.7777777777777778,
             "#fb9f3a"
            ],
            [
             0.8888888888888888,
             "#fdca26"
            ],
            [
             1,
             "#f0f921"
            ]
           ]
          },
          "colorway": [
           "#636efa",
           "#EF553B",
           "#00cc96",
           "#ab63fa",
           "#FFA15A",
           "#19d3f3",
           "#FF6692",
           "#B6E880",
           "#FF97FF",
           "#FECB52"
          ],
          "font": {
           "color": "#2a3f5f"
          },
          "geo": {
           "bgcolor": "white",
           "lakecolor": "white",
           "landcolor": "#E5ECF6",
           "showlakes": true,
           "showland": true,
           "subunitcolor": "white"
          },
          "hoverlabel": {
           "align": "left"
          },
          "hovermode": "closest",
          "mapbox": {
           "style": "light"
          },
          "paper_bgcolor": "white",
          "plot_bgcolor": "#E5ECF6",
          "polar": {
           "angularaxis": {
            "gridcolor": "white",
            "linecolor": "white",
            "ticks": ""
           },
           "bgcolor": "#E5ECF6",
           "radialaxis": {
            "gridcolor": "white",
            "linecolor": "white",
            "ticks": ""
           }
          },
          "scene": {
           "xaxis": {
            "backgroundcolor": "#E5ECF6",
            "gridcolor": "white",
            "gridwidth": 2,
            "linecolor": "white",
            "showbackground": true,
            "ticks": "",
            "zerolinecolor": "white"
           },
           "yaxis": {
            "backgroundcolor": "#E5ECF6",
            "gridcolor": "white",
            "gridwidth": 2,
            "linecolor": "white",
            "showbackground": true,
            "ticks": "",
            "zerolinecolor": "white"
           },
           "zaxis": {
            "backgroundcolor": "#E5ECF6",
            "gridcolor": "white",
            "gridwidth": 2,
            "linecolor": "white",
            "showbackground": true,
            "ticks": "",
            "zerolinecolor": "white"
           }
          },
          "shapedefaults": {
           "line": {
            "color": "#2a3f5f"
           }
          },
          "ternary": {
           "aaxis": {
            "gridcolor": "white",
            "linecolor": "white",
            "ticks": ""
           },
           "baxis": {
            "gridcolor": "white",
            "linecolor": "white",
            "ticks": ""
           },
           "bgcolor": "#E5ECF6",
           "caxis": {
            "gridcolor": "white",
            "linecolor": "white",
            "ticks": ""
           }
          },
          "title": {
           "x": 0.05
          },
          "xaxis": {
           "automargin": true,
           "gridcolor": "white",
           "linecolor": "white",
           "ticks": "",
           "title": {
            "standoff": 15
           },
           "zerolinecolor": "white",
           "zerolinewidth": 2
          },
          "yaxis": {
           "automargin": true,
           "gridcolor": "white",
           "linecolor": "white",
           "ticks": "",
           "title": {
            "standoff": 15
           },
           "zerolinecolor": "white",
           "zerolinewidth": 2
          }
         }
        },
        "xaxis": {
         "anchor": "y",
         "domain": [
          0,
          1
         ],
         "title": {
          "text": "x"
         }
        },
        "yaxis": {
         "anchor": "x",
         "domain": [
          0,
          1
         ],
         "title": {
          "text": "y"
         }
        }
       }
      }
     },
     "metadata": {},
     "output_type": "display_data"
    }
   ],
   "source": [
    "m = 100\n",
    "x1 = 5 * np.random.rand(m, 1) - 2\n",
    "x2 = 0.7*x1**2-2*x1+3+np.random.randn(m, 1)\n",
    "px.scatter(x= x1.ravel(), y=x2.ravel())"
   ]
  },
  {
   "cell_type": "code",
   "execution_count": 150,
   "metadata": {},
   "outputs": [],
   "source": [
    "from sklearn.preprocessing import PolynomialFeatures\n",
    "from sklearn.pipeline import Pipeline\n",
    "\n",
    "\n",
    "def getPredRidge(x1, x2, alpha):\n",
    "    model = Pipeline([(\"poly_feats\", PolynomialFeatures(\n",
    "        degree=16)), (\"Ridge\", Ridge(alpha=alpha))])\n",
    "    model.fit(x1, x2)\n",
    "    return model.predict(x1)"
   ]
  },
  {
   "cell_type": "code",
   "execution_count": 151,
   "metadata": {},
   "outputs": [
    {
     "data": {
      "application/vnd.plotly.v1+json": {
       "config": {
        "plotlyServerURL": "https://plot.ly"
       },
       "data": [
        {
         "hovertemplate": "x=%{x}<br>y=%{y}<extra></extra>",
         "legendgroup": "",
         "marker": {
          "color": "#636efa",
          "symbol": "circle"
         },
         "mode": "markers",
         "name": "",
         "orientation": "v",
         "showlegend": false,
         "type": "scatter",
         "x": [
          -1.9158309594525735,
          2.372746406090285,
          2.095406257480498,
          1.941532753889494,
          0.7247320558534938,
          0.34909994782229425,
          1.121111898989926,
          -0.6004664585581969,
          2.8811160474976543,
          -0.4494532566306928,
          1.3536637734570984,
          -0.8683659007493327,
          1.5001287549913087,
          1.3117919967510194,
          -1.197624659179489,
          -1.2052751168273121,
          0.8035476018243344,
          2.1239260607525337,
          -0.3733475692715609,
          -1.4845870681099143,
          1.91828594561352,
          0.8023058651940573,
          -0.30713992953991287,
          2.414997542015681,
          -1.0479305621814436,
          0.26496501334510336,
          1.6825579185944086,
          2.361249745632364,
          -1.116105542573254,
          2.181087662065127,
          -0.45890458711998017,
          1.8824775352086722,
          2.972388091380177,
          2.9036588219294233,
          -0.8670232411051231,
          0.6767636308033769,
          0.04481306862430978,
          2.2892035929933447,
          0.5104235424731103,
          2.2743894095885446,
          -1.0136052226575547,
          1.3017747797045205,
          1.9027882040942323,
          1.785577305421156,
          0.9808600765827671,
          -0.19495188516479445,
          2.898047426480847,
          2.1912575518925745,
          2.400226983522714,
          -0.32127731757619493,
          -0.6002002532739896,
          2.5437396021936713,
          -0.9004036156141657,
          -1.789946581734756,
          0.2631311863640229,
          -0.7887826576714734,
          1.5550490436139408,
          0.08979428992849448,
          0.02504863658874079,
          -0.14005804217089013,
          -0.5508669879618493,
          -0.6853543320331212,
          0.6158830860657041,
          -1.6515142763735162,
          0.061759961936704855,
          -0.8071683395541189,
          -1.5243389038860304,
          0.5376633363292833,
          -1.242125026798051,
          2.8281135985468646,
          1.7434382790296783,
          -0.5884655243738883,
          -1.6560133329470403,
          0.12887536361164376,
          0.08665665648802445,
          -0.44096357663755725,
          0.40918190574172986,
          -0.396231919302235,
          1.6571966056530996,
          1.2961472481725624,
          -1.3357331079671835,
          1.1439635242740733,
          0.9075106666801624,
          -1.2321549969978256,
          0.31466866360018964,
          -1.5157672343276483,
          -1.9613598859476193,
          1.5484687755035607,
          2.5280840370532607,
          -1.1645443347360627,
          1.0239703147302683,
          -0.754147379977254,
          1.4759183658837651,
          -0.5865947234852853,
          0.9689844160775203,
          -1.301011529046645,
          -0.05249969868769666,
          -1.0412165162090012,
          -1.0182377172792787,
          -1.3432283791738087
         ],
         "xaxis": "x",
         "y": [
          9.212204749854942,
          3.181648311115002,
          -0.08857707424889338,
          1.0229195372928448,
          1.7118844155862556,
          1.7346428015224755,
          1.0119534236566932,
          4.244806683863144,
          2.683712848599381,
          3.5147474209449636,
          1.0756873321012468,
          5.404646237886269,
          2.172373351115355,
          1.1259995470158652,
          7.864356971978409,
          6.68979767806678,
          1.219908887588831,
          3.0315691337715918,
          2.6938563749505655,
          6.727949679067142,
          3.0379737608819637,
          3.3832645151506293,
          1.5390733529131984,
          2.4492078151071186,
          6.194856376122422,
          5.5119085167028565,
          2.2125162150393938,
          1.9736697224227306,
          5.881656738227311,
          1.7804820286439165,
          4.052435922985463,
          3.4281979139925864,
          3.5650293710918084,
          3.5944686090730507,
          4.701709048725805,
          3.823755429984432,
          4.110032876956238,
          1.9968497808098242,
          1.2412976835790621,
          3.052248628545013,
          4.637590122125391,
          0.689962900264456,
          0.6836379801394132,
          2.0591377167185843,
          2.2965637308377693,
          4.439844657455064,
          3.2388086817017934,
          0.5979044026378344,
          2.4444082971077816,
          5.989959076827402,
          4.432909962582889,
          2.0636539152897293,
          4.121611790965126,
          10.69002468060098,
          2.5020935187550775,
          4.980088858235029,
          1.3647830382411263,
          2.810884956961986,
          3.1411892694218317,
          3.85264507440723,
          5.017224189571397,
          4.909790521257252,
          1.533133649676262,
          8.583311689465303,
          2.937830548701056,
          5.3716162152252975,
          6.508097623875966,
          2.9459529095112105,
          7.893362717985083,
          5.01879536875161,
          1.603028581327398,
          5.453438177794634,
          7.294058474184323,
          3.74500641653104,
          2.4636418280817565,
          3.1446550670034217,
          2.243500518824489,
          4.2899454526788885,
          2.154424753179253,
          2.9116842612354077,
          5.949753069588021,
          1.3666845352490977,
          0.953259748523923,
          5.798709306839178,
          2.756352084408852,
          6.909135992300266,
          9.86465561357384,
          0.4682765709274126,
          0.9897769523858411,
          6.961445863374633,
          1.8560812250027892,
          4.989339635545907,
          1.0136696930589817,
          4.761768799615909,
          2.0825630085096156,
          6.6154042703897415,
          1.3276184731563108,
          5.178432642352624,
          6.690928582293522,
          5.291902506111379
         ],
         "yaxis": "y"
        },
        {
         "mode": "lines",
         "name": "Lambda 0",
         "type": "scatter",
         "x": [
          -1.9613598859476193,
          -1.9158309594525735,
          -1.789946581734756,
          -1.6560133329470403,
          -1.6515142763735162,
          -1.5243389038860304,
          -1.5157672343276483,
          -1.4845870681099143,
          -1.3432283791738087,
          -1.3357331079671835,
          -1.301011529046645,
          -1.242125026798051,
          -1.2321549969978256,
          -1.2052751168273121,
          -1.197624659179489,
          -1.1645443347360627,
          -1.116105542573254,
          -1.0479305621814436,
          -1.0412165162090012,
          -1.0182377172792787,
          -1.0136052226575547,
          -0.9004036156141657,
          -0.8683659007493327,
          -0.8670232411051231,
          -0.8071683395541189,
          -0.7887826576714734,
          -0.754147379977254,
          -0.6853543320331212,
          -0.6004664585581969,
          -0.6002002532739896,
          -0.5884655243738883,
          -0.5865947234852853,
          -0.5508669879618493,
          -0.45890458711998017,
          -0.4494532566306928,
          -0.44096357663755725,
          -0.396231919302235,
          -0.3733475692715609,
          -0.32127731757619493,
          -0.30713992953991287,
          -0.19495188516479445,
          -0.14005804217089013,
          -0.05249969868769666,
          0.02504863658874079,
          0.04481306862430978,
          0.061759961936704855,
          0.08665665648802445,
          0.08979428992849448,
          0.12887536361164376,
          0.2631311863640229,
          0.26496501334510336,
          0.31466866360018964,
          0.34909994782229425,
          0.40918190574172986,
          0.5104235424731103,
          0.5376633363292833,
          0.6158830860657041,
          0.6767636308033769,
          0.7247320558534938,
          0.8023058651940573,
          0.8035476018243344,
          0.9075106666801624,
          0.9689844160775203,
          0.9808600765827671,
          1.0239703147302683,
          1.121111898989926,
          1.1439635242740733,
          1.2961472481725624,
          1.3017747797045205,
          1.3117919967510194,
          1.3536637734570984,
          1.4759183658837651,
          1.5001287549913087,
          1.5484687755035607,
          1.5550490436139408,
          1.6571966056530996,
          1.6825579185944086,
          1.7434382790296783,
          1.785577305421156,
          1.8824775352086722,
          1.9027882040942323,
          1.91828594561352,
          1.941532753889494,
          2.095406257480498,
          2.1239260607525337,
          2.181087662065127,
          2.1912575518925745,
          2.2743894095885446,
          2.2892035929933447,
          2.361249745632364,
          2.372746406090285,
          2.400226983522714,
          2.414997542015681,
          2.5280840370532607,
          2.5437396021936713,
          2.8281135985468646,
          2.8811160474976543,
          2.898047426480847,
          2.9036588219294233,
          2.972388091380177
         ],
         "y": [
          9.63668830315141,
          9.704621354858,
          10.068666988612446,
          8.232965596511345,
          8.162667505189397,
          6.681521722832644,
          6.6258469891937395,
          6.469637573561539,
          6.392261035546343,
          6.402162430838125,
          6.4475697599966235,
          6.494135483507842,
          6.495381223546859,
          6.486671905187579,
          6.480790900812357,
          6.437260069319143,
          6.321054256877202,
          6.0664228636390884,
          6.036827336551799,
          5.931041785669658,
          5.908987435654849,
          5.342160000778282,
          5.187947027621437,
          5.181669315839956,
          4.921211039082698,
          4.849803732343367,
          4.7272169211301955,
          4.528985697385501,
          4.352237870286036,
          4.351768708532384,
          4.331465418165859,
          4.328292879654816,
          4.270344488517365,
          4.128037558627694,
          4.112734215786093,
          4.09875234149677,
          4.020609180635787,
          3.977268161500943,
          3.869370634160357,
          3.8378920354311523,
          3.5635546328447627,
          3.4230949684220184,
          3.212868136380543,
          3.0586338892066416,
          3.0256932966048082,
          2.99966497172425,
          2.965167551266157,
          2.9611343550246705,
          2.916635434403263,
          2.8291281167439375,
          2.82839131900211,
          2.8097251450328855,
          2.7963033111103024,
          2.765585600824764,
          2.6719316763120133,
          2.6346912748584694,
          2.4965881240842487,
          2.359554681610005,
          2.2375763698861624,
          2.026651891653013,
          2.0232388032216755,
          1.7506250360324753,
          1.6153380145782303,
          1.5925017274367659,
          1.519968522750887,
          1.421351805027373,
          1.4113489289746666,
          1.4487580097149129,
          1.452673255144439,
          1.4599089163383714,
          1.49294424710505,
          1.5922537613329706,
          1.6089298236818192,
          1.6372332447325508,
          1.6405515553148198,
          1.6780341801873246,
          1.6846402716114892,
          1.700593048194727,
          1.7145719859727375,
          1.7670607793967936,
          1.7824604808762115,
          1.7952208488902626,
          1.8158620188838412,
          1.9681760781606756,
          1.9910655223245772,
          2.022731225853957,
          2.026069554448168,
          2.0282333003714452,
          2.0250759764082504,
          2.011415962382081,
          2.0118327147622153,
          2.0192912540531127,
          2.0282028365814018,
          2.285625192696733,
          2.3554952729693523,
          3.869682757927628,
          3.5928112329672888,
          3.469324842222451,
          3.429029812095313,
          3.4290254902486574
         ]
        },
        {
         "mode": "lines",
         "name": "Lambda 20",
         "type": "scatter",
         "x": [
          -1.9613598859476193,
          -1.9158309594525735,
          -1.789946581734756,
          -1.6560133329470403,
          -1.6515142763735162,
          -1.5243389038860304,
          -1.5157672343276483,
          -1.4845870681099143,
          -1.3432283791738087,
          -1.3357331079671835,
          -1.301011529046645,
          -1.242125026798051,
          -1.2321549969978256,
          -1.2052751168273121,
          -1.197624659179489,
          -1.1645443347360627,
          -1.116105542573254,
          -1.0479305621814436,
          -1.0412165162090012,
          -1.0182377172792787,
          -1.0136052226575547,
          -0.9004036156141657,
          -0.8683659007493327,
          -0.8670232411051231,
          -0.8071683395541189,
          -0.7887826576714734,
          -0.754147379977254,
          -0.6853543320331212,
          -0.6004664585581969,
          -0.6002002532739896,
          -0.5884655243738883,
          -0.5865947234852853,
          -0.5508669879618493,
          -0.45890458711998017,
          -0.4494532566306928,
          -0.44096357663755725,
          -0.396231919302235,
          -0.3733475692715609,
          -0.32127731757619493,
          -0.30713992953991287,
          -0.19495188516479445,
          -0.14005804217089013,
          -0.05249969868769666,
          0.02504863658874079,
          0.04481306862430978,
          0.061759961936704855,
          0.08665665648802445,
          0.08979428992849448,
          0.12887536361164376,
          0.2631311863640229,
          0.26496501334510336,
          0.31466866360018964,
          0.34909994782229425,
          0.40918190574172986,
          0.5104235424731103,
          0.5376633363292833,
          0.6158830860657041,
          0.6767636308033769,
          0.7247320558534938,
          0.8023058651940573,
          0.8035476018243344,
          0.9075106666801624,
          0.9689844160775203,
          0.9808600765827671,
          1.0239703147302683,
          1.121111898989926,
          1.1439635242740733,
          1.2961472481725624,
          1.3017747797045205,
          1.3117919967510194,
          1.3536637734570984,
          1.4759183658837651,
          1.5001287549913087,
          1.5484687755035607,
          1.5550490436139408,
          1.6571966056530996,
          1.6825579185944086,
          1.7434382790296783,
          1.785577305421156,
          1.8824775352086722,
          1.9027882040942323,
          1.91828594561352,
          1.941532753889494,
          2.095406257480498,
          2.1239260607525337,
          2.181087662065127,
          2.1912575518925745,
          2.2743894095885446,
          2.2892035929933447,
          2.361249745632364,
          2.372746406090285,
          2.400226983522714,
          2.414997542015681,
          2.5280840370532607,
          2.5437396021936713,
          2.8281135985468646,
          2.8811160474976543,
          2.898047426480847,
          2.9036588219294233,
          2.972388091380177
         ],
         "y": [
          9.50263850776096,
          10.109121560031676,
          9.392005455012864,
          8.123412810159493,
          8.088915290832311,
          7.322931774918961,
          7.282174997391037,
          7.140666185157721,
          6.556769565996541,
          6.526133003036572,
          6.383109613394369,
          6.136168759625955,
          6.093903004880903,
          5.979555299195553,
          5.946946917679974,
          5.805994971750733,
          5.601279771532363,
          5.321793650729124,
          5.295073170230426,
          5.204958838845032,
          5.1870566908198,
          4.781969401135833,
          4.679799680694406,
          4.675644491878969,
          4.500791855584518,
          4.451125675248737,
          4.362590795899511,
          4.205272415230679,
          4.041650053010356,
          4.041184383408092,
          4.020929000962934,
          4.017748377875957,
          3.9594596263003163,
          3.8284141035770793,
          3.816292708898299,
          3.805594242857347,
          3.751987094146592,
          3.7262064560587547,
          3.6711388709479005,
          3.6569584664264663,
          3.553687780377324,
          3.5077907314845107,
          3.4386824683355233,
          3.380038769606296,
          3.3652873188840435,
          3.3526654790759234,
          3.3341351217701507,
          3.331798871346122,
          3.302626067988836,
          3.1992537791997258,
          3.197784624764129,
          3.157109576709489,
          3.127816148113809,
          3.07400197632772,
          2.9734873402286865,
          2.943903048759872,
          2.851900984027184,
          2.7723099949758767,
          2.7042932377002478,
          2.5841391840240293,
          2.5821148632801614,
          2.4022325550705776,
          2.2877015108157774,
          2.265068131885451,
          2.1819903290751275,
          1.9939130419091238,
          1.9505819184660746,
          1.691515848517863,
          1.6834034402992004,
          1.6693003092349685,
          1.6153717130669787,
          1.51261838348741,
          1.5031407090238336,
          1.495589815053487,
          1.495733920329398,
          1.532364629027982,
          1.5506496848152487,
          1.6065822732322734,
          1.653021332799522,
          1.7709716775984041,
          1.795711252019381,
          1.8142131874686411,
          1.8410990015780677,
          1.9729818112508997,
          1.9863905648262647,
          2.0035900526163593,
          2.0055404488976465,
          2.0160785337933103,
          2.01825040414139,
          2.0410914534900635,
          2.0477439252557943,
          2.068474837298231,
          2.0828482857063912,
          2.292542118579257,
          2.337853019398519,
          3.5518223259402846,
          3.631923342624442,
          3.6228394094653154,
          3.6154175038474685,
          3.314325179967101
         ]
        },
        {
         "mode": "lines",
         "name": "Lambda 200",
         "type": "scatter",
         "x": [
          -1.9613598859476193,
          -1.9158309594525735,
          -1.789946581734756,
          -1.6560133329470403,
          -1.6515142763735162,
          -1.5243389038860304,
          -1.5157672343276483,
          -1.4845870681099143,
          -1.3432283791738087,
          -1.3357331079671835,
          -1.301011529046645,
          -1.242125026798051,
          -1.2321549969978256,
          -1.2052751168273121,
          -1.197624659179489,
          -1.1645443347360627,
          -1.116105542573254,
          -1.0479305621814436,
          -1.0412165162090012,
          -1.0182377172792787,
          -1.0136052226575547,
          -0.9004036156141657,
          -0.8683659007493327,
          -0.8670232411051231,
          -0.8071683395541189,
          -0.7887826576714734,
          -0.754147379977254,
          -0.6853543320331212,
          -0.6004664585581969,
          -0.6002002532739896,
          -0.5884655243738883,
          -0.5865947234852853,
          -0.5508669879618493,
          -0.45890458711998017,
          -0.4494532566306928,
          -0.44096357663755725,
          -0.396231919302235,
          -0.3733475692715609,
          -0.32127731757619493,
          -0.30713992953991287,
          -0.19495188516479445,
          -0.14005804217089013,
          -0.05249969868769666,
          0.02504863658874079,
          0.04481306862430978,
          0.061759961936704855,
          0.08665665648802445,
          0.08979428992849448,
          0.12887536361164376,
          0.2631311863640229,
          0.26496501334510336,
          0.31466866360018964,
          0.34909994782229425,
          0.40918190574172986,
          0.5104235424731103,
          0.5376633363292833,
          0.6158830860657041,
          0.6767636308033769,
          0.7247320558534938,
          0.8023058651940573,
          0.8035476018243344,
          0.9075106666801624,
          0.9689844160775203,
          0.9808600765827671,
          1.0239703147302683,
          1.121111898989926,
          1.1439635242740733,
          1.2961472481725624,
          1.3017747797045205,
          1.3117919967510194,
          1.3536637734570984,
          1.4759183658837651,
          1.5001287549913087,
          1.5484687755035607,
          1.5550490436139408,
          1.6571966056530996,
          1.6825579185944086,
          1.7434382790296783,
          1.785577305421156,
          1.8824775352086722,
          1.9027882040942323,
          1.91828594561352,
          1.941532753889494,
          2.095406257480498,
          2.1239260607525337,
          2.181087662065127,
          2.1912575518925745,
          2.2743894095885446,
          2.2892035929933447,
          2.361249745632364,
          2.372746406090285,
          2.400226983522714,
          2.414997542015681,
          2.5280840370532607,
          2.5437396021936713,
          2.8281135985468646,
          2.8811160474976543,
          2.898047426480847,
          2.9036588219294233,
          2.972388091380177
         ],
         "y": [
          9.91798134162483,
          9.46574940842899,
          9.187103377734926,
          8.657715678718883,
          8.629031103253862,
          7.6242222503696775,
          7.5483080377965335,
          7.2698594637234395,
          6.064502047616583,
          6.006668401174727,
          5.74966388328796,
          5.357413146681859,
          5.296604844327196,
          5.14075927576561,
          5.098546725004499,
          4.926747271572625,
          4.7054293667648235,
          4.449573775419014,
          4.4275794867063425,
          4.356288679077134,
          4.342639372494346,
          4.07435061479077,
          4.0176172132890935,
          4.015393118390686,
          3.9273518186627503,
          3.904224767728701,
          3.8649207888585173,
          3.8007399715988783,
          3.7408588209336857,
          3.740697414955938,
          3.7337228881446642,
          3.7326358308700693,
          3.7130912743294067,
          3.6715282658430657,
          3.667831899110395,
          3.6645882128179457,
          3.64858456518108,
          3.641025282448523,
          3.6251398769386265,
          3.621100873527479,
          3.5921826422186296,
          3.5795297908717134,
          3.560572848198613,
          3.5444601985637454,
          3.5403884681638433,
          3.5368955258126937,
          3.5317495340420986,
          3.5310990498445145,
          3.5229393738937156,
          3.4932578301964803,
          3.4928248686223715,
          3.4806833059148,
          3.47173608797934,
          3.454787793966588,
          3.4210193196667635,
          3.4104773599823015,
          3.3756906689082142,
          3.3429012668525706,
          3.312693082597601,
          3.2538971199307327,
          3.2528430556844925,
          3.149821644070454,
          3.0734081968062905,
          3.057171791807978,
          2.9940048510052626,
          2.8263850760410305,
          2.781796509129701,
          2.4393701222655,
          2.425432240988044,
          2.400454528541432,
          2.2940937398347874,
          1.9782682622001388,
          1.917703883998377,
          1.8022026362654286,
          1.7871970331496279,
          1.586147793160821,
          1.547913924900031,
          1.4800885354115296,
          1.4551759676464289,
          1.4724687730497736,
          1.4893356735631533,
          1.505156756340782,
          1.5334745971428676,
          1.8247172396741265,
          1.8884480032764719,
          2.0113661729656336,
          2.031698877122177,
          2.1660204739754043,
          2.1823357534550807,
          2.221662447786933,
          2.2216772317089086,
          2.215177744369041,
          2.2081970481276194,
          2.115496712205883,
          2.1052977864861013,
          3.296608471436951,
          3.697617601409183,
          3.7678025974306415,
          3.7805019318243827,
          3.190564529606574
         ]
        }
       ],
       "layout": {
        "legend": {
         "tracegroupgap": 0
        },
        "margin": {
         "t": 60
        },
        "template": {
         "data": {
          "bar": [
           {
            "error_x": {
             "color": "#2a3f5f"
            },
            "error_y": {
             "color": "#2a3f5f"
            },
            "marker": {
             "line": {
              "color": "#E5ECF6",
              "width": 0.5
             },
             "pattern": {
              "fillmode": "overlay",
              "size": 10,
              "solidity": 0.2
             }
            },
            "type": "bar"
           }
          ],
          "barpolar": [
           {
            "marker": {
             "line": {
              "color": "#E5ECF6",
              "width": 0.5
             },
             "pattern": {
              "fillmode": "overlay",
              "size": 10,
              "solidity": 0.2
             }
            },
            "type": "barpolar"
           }
          ],
          "carpet": [
           {
            "aaxis": {
             "endlinecolor": "#2a3f5f",
             "gridcolor": "white",
             "linecolor": "white",
             "minorgridcolor": "white",
             "startlinecolor": "#2a3f5f"
            },
            "baxis": {
             "endlinecolor": "#2a3f5f",
             "gridcolor": "white",
             "linecolor": "white",
             "minorgridcolor": "white",
             "startlinecolor": "#2a3f5f"
            },
            "type": "carpet"
           }
          ],
          "choropleth": [
           {
            "colorbar": {
             "outlinewidth": 0,
             "ticks": ""
            },
            "type": "choropleth"
           }
          ],
          "contour": [
           {
            "colorbar": {
             "outlinewidth": 0,
             "ticks": ""
            },
            "colorscale": [
             [
              0,
              "#0d0887"
             ],
             [
              0.1111111111111111,
              "#46039f"
             ],
             [
              0.2222222222222222,
              "#7201a8"
             ],
             [
              0.3333333333333333,
              "#9c179e"
             ],
             [
              0.4444444444444444,
              "#bd3786"
             ],
             [
              0.5555555555555556,
              "#d8576b"
             ],
             [
              0.6666666666666666,
              "#ed7953"
             ],
             [
              0.7777777777777778,
              "#fb9f3a"
             ],
             [
              0.8888888888888888,
              "#fdca26"
             ],
             [
              1,
              "#f0f921"
             ]
            ],
            "type": "contour"
           }
          ],
          "contourcarpet": [
           {
            "colorbar": {
             "outlinewidth": 0,
             "ticks": ""
            },
            "type": "contourcarpet"
           }
          ],
          "heatmap": [
           {
            "colorbar": {
             "outlinewidth": 0,
             "ticks": ""
            },
            "colorscale": [
             [
              0,
              "#0d0887"
             ],
             [
              0.1111111111111111,
              "#46039f"
             ],
             [
              0.2222222222222222,
              "#7201a8"
             ],
             [
              0.3333333333333333,
              "#9c179e"
             ],
             [
              0.4444444444444444,
              "#bd3786"
             ],
             [
              0.5555555555555556,
              "#d8576b"
             ],
             [
              0.6666666666666666,
              "#ed7953"
             ],
             [
              0.7777777777777778,
              "#fb9f3a"
             ],
             [
              0.8888888888888888,
              "#fdca26"
             ],
             [
              1,
              "#f0f921"
             ]
            ],
            "type": "heatmap"
           }
          ],
          "heatmapgl": [
           {
            "colorbar": {
             "outlinewidth": 0,
             "ticks": ""
            },
            "colorscale": [
             [
              0,
              "#0d0887"
             ],
             [
              0.1111111111111111,
              "#46039f"
             ],
             [
              0.2222222222222222,
              "#7201a8"
             ],
             [
              0.3333333333333333,
              "#9c179e"
             ],
             [
              0.4444444444444444,
              "#bd3786"
             ],
             [
              0.5555555555555556,
              "#d8576b"
             ],
             [
              0.6666666666666666,
              "#ed7953"
             ],
             [
              0.7777777777777778,
              "#fb9f3a"
             ],
             [
              0.8888888888888888,
              "#fdca26"
             ],
             [
              1,
              "#f0f921"
             ]
            ],
            "type": "heatmapgl"
           }
          ],
          "histogram": [
           {
            "marker": {
             "pattern": {
              "fillmode": "overlay",
              "size": 10,
              "solidity": 0.2
             }
            },
            "type": "histogram"
           }
          ],
          "histogram2d": [
           {
            "colorbar": {
             "outlinewidth": 0,
             "ticks": ""
            },
            "colorscale": [
             [
              0,
              "#0d0887"
             ],
             [
              0.1111111111111111,
              "#46039f"
             ],
             [
              0.2222222222222222,
              "#7201a8"
             ],
             [
              0.3333333333333333,
              "#9c179e"
             ],
             [
              0.4444444444444444,
              "#bd3786"
             ],
             [
              0.5555555555555556,
              "#d8576b"
             ],
             [
              0.6666666666666666,
              "#ed7953"
             ],
             [
              0.7777777777777778,
              "#fb9f3a"
             ],
             [
              0.8888888888888888,
              "#fdca26"
             ],
             [
              1,
              "#f0f921"
             ]
            ],
            "type": "histogram2d"
           }
          ],
          "histogram2dcontour": [
           {
            "colorbar": {
             "outlinewidth": 0,
             "ticks": ""
            },
            "colorscale": [
             [
              0,
              "#0d0887"
             ],
             [
              0.1111111111111111,
              "#46039f"
             ],
             [
              0.2222222222222222,
              "#7201a8"
             ],
             [
              0.3333333333333333,
              "#9c179e"
             ],
             [
              0.4444444444444444,
              "#bd3786"
             ],
             [
              0.5555555555555556,
              "#d8576b"
             ],
             [
              0.6666666666666666,
              "#ed7953"
             ],
             [
              0.7777777777777778,
              "#fb9f3a"
             ],
             [
              0.8888888888888888,
              "#fdca26"
             ],
             [
              1,
              "#f0f921"
             ]
            ],
            "type": "histogram2dcontour"
           }
          ],
          "mesh3d": [
           {
            "colorbar": {
             "outlinewidth": 0,
             "ticks": ""
            },
            "type": "mesh3d"
           }
          ],
          "parcoords": [
           {
            "line": {
             "colorbar": {
              "outlinewidth": 0,
              "ticks": ""
             }
            },
            "type": "parcoords"
           }
          ],
          "pie": [
           {
            "automargin": true,
            "type": "pie"
           }
          ],
          "scatter": [
           {
            "fillpattern": {
             "fillmode": "overlay",
             "size": 10,
             "solidity": 0.2
            },
            "type": "scatter"
           }
          ],
          "scatter3d": [
           {
            "line": {
             "colorbar": {
              "outlinewidth": 0,
              "ticks": ""
             }
            },
            "marker": {
             "colorbar": {
              "outlinewidth": 0,
              "ticks": ""
             }
            },
            "type": "scatter3d"
           }
          ],
          "scattercarpet": [
           {
            "marker": {
             "colorbar": {
              "outlinewidth": 0,
              "ticks": ""
             }
            },
            "type": "scattercarpet"
           }
          ],
          "scattergeo": [
           {
            "marker": {
             "colorbar": {
              "outlinewidth": 0,
              "ticks": ""
             }
            },
            "type": "scattergeo"
           }
          ],
          "scattergl": [
           {
            "marker": {
             "colorbar": {
              "outlinewidth": 0,
              "ticks": ""
             }
            },
            "type": "scattergl"
           }
          ],
          "scattermapbox": [
           {
            "marker": {
             "colorbar": {
              "outlinewidth": 0,
              "ticks": ""
             }
            },
            "type": "scattermapbox"
           }
          ],
          "scatterpolar": [
           {
            "marker": {
             "colorbar": {
              "outlinewidth": 0,
              "ticks": ""
             }
            },
            "type": "scatterpolar"
           }
          ],
          "scatterpolargl": [
           {
            "marker": {
             "colorbar": {
              "outlinewidth": 0,
              "ticks": ""
             }
            },
            "type": "scatterpolargl"
           }
          ],
          "scatterternary": [
           {
            "marker": {
             "colorbar": {
              "outlinewidth": 0,
              "ticks": ""
             }
            },
            "type": "scatterternary"
           }
          ],
          "surface": [
           {
            "colorbar": {
             "outlinewidth": 0,
             "ticks": ""
            },
            "colorscale": [
             [
              0,
              "#0d0887"
             ],
             [
              0.1111111111111111,
              "#46039f"
             ],
             [
              0.2222222222222222,
              "#7201a8"
             ],
             [
              0.3333333333333333,
              "#9c179e"
             ],
             [
              0.4444444444444444,
              "#bd3786"
             ],
             [
              0.5555555555555556,
              "#d8576b"
             ],
             [
              0.6666666666666666,
              "#ed7953"
             ],
             [
              0.7777777777777778,
              "#fb9f3a"
             ],
             [
              0.8888888888888888,
              "#fdca26"
             ],
             [
              1,
              "#f0f921"
             ]
            ],
            "type": "surface"
           }
          ],
          "table": [
           {
            "cells": {
             "fill": {
              "color": "#EBF0F8"
             },
             "line": {
              "color": "white"
             }
            },
            "header": {
             "fill": {
              "color": "#C8D4E3"
             },
             "line": {
              "color": "white"
             }
            },
            "type": "table"
           }
          ]
         },
         "layout": {
          "annotationdefaults": {
           "arrowcolor": "#2a3f5f",
           "arrowhead": 0,
           "arrowwidth": 1
          },
          "autotypenumbers": "strict",
          "coloraxis": {
           "colorbar": {
            "outlinewidth": 0,
            "ticks": ""
           }
          },
          "colorscale": {
           "diverging": [
            [
             0,
             "#8e0152"
            ],
            [
             0.1,
             "#c51b7d"
            ],
            [
             0.2,
             "#de77ae"
            ],
            [
             0.3,
             "#f1b6da"
            ],
            [
             0.4,
             "#fde0ef"
            ],
            [
             0.5,
             "#f7f7f7"
            ],
            [
             0.6,
             "#e6f5d0"
            ],
            [
             0.7,
             "#b8e186"
            ],
            [
             0.8,
             "#7fbc41"
            ],
            [
             0.9,
             "#4d9221"
            ],
            [
             1,
             "#276419"
            ]
           ],
           "sequential": [
            [
             0,
             "#0d0887"
            ],
            [
             0.1111111111111111,
             "#46039f"
            ],
            [
             0.2222222222222222,
             "#7201a8"
            ],
            [
             0.3333333333333333,
             "#9c179e"
            ],
            [
             0.4444444444444444,
             "#bd3786"
            ],
            [
             0.5555555555555556,
             "#d8576b"
            ],
            [
             0.6666666666666666,
             "#ed7953"
            ],
            [
             0.7777777777777778,
             "#fb9f3a"
            ],
            [
             0.8888888888888888,
             "#fdca26"
            ],
            [
             1,
             "#f0f921"
            ]
           ],
           "sequentialminus": [
            [
             0,
             "#0d0887"
            ],
            [
             0.1111111111111111,
             "#46039f"
            ],
            [
             0.2222222222222222,
             "#7201a8"
            ],
            [
             0.3333333333333333,
             "#9c179e"
            ],
            [
             0.4444444444444444,
             "#bd3786"
            ],
            [
             0.5555555555555556,
             "#d8576b"
            ],
            [
             0.6666666666666666,
             "#ed7953"
            ],
            [
             0.7777777777777778,
             "#fb9f3a"
            ],
            [
             0.8888888888888888,
             "#fdca26"
            ],
            [
             1,
             "#f0f921"
            ]
           ]
          },
          "colorway": [
           "#636efa",
           "#EF553B",
           "#00cc96",
           "#ab63fa",
           "#FFA15A",
           "#19d3f3",
           "#FF6692",
           "#B6E880",
           "#FF97FF",
           "#FECB52"
          ],
          "font": {
           "color": "#2a3f5f"
          },
          "geo": {
           "bgcolor": "white",
           "lakecolor": "white",
           "landcolor": "#E5ECF6",
           "showlakes": true,
           "showland": true,
           "subunitcolor": "white"
          },
          "hoverlabel": {
           "align": "left"
          },
          "hovermode": "closest",
          "mapbox": {
           "style": "light"
          },
          "paper_bgcolor": "white",
          "plot_bgcolor": "#E5ECF6",
          "polar": {
           "angularaxis": {
            "gridcolor": "white",
            "linecolor": "white",
            "ticks": ""
           },
           "bgcolor": "#E5ECF6",
           "radialaxis": {
            "gridcolor": "white",
            "linecolor": "white",
            "ticks": ""
           }
          },
          "scene": {
           "xaxis": {
            "backgroundcolor": "#E5ECF6",
            "gridcolor": "white",
            "gridwidth": 2,
            "linecolor": "white",
            "showbackground": true,
            "ticks": "",
            "zerolinecolor": "white"
           },
           "yaxis": {
            "backgroundcolor": "#E5ECF6",
            "gridcolor": "white",
            "gridwidth": 2,
            "linecolor": "white",
            "showbackground": true,
            "ticks": "",
            "zerolinecolor": "white"
           },
           "zaxis": {
            "backgroundcolor": "#E5ECF6",
            "gridcolor": "white",
            "gridwidth": 2,
            "linecolor": "white",
            "showbackground": true,
            "ticks": "",
            "zerolinecolor": "white"
           }
          },
          "shapedefaults": {
           "line": {
            "color": "#2a3f5f"
           }
          },
          "ternary": {
           "aaxis": {
            "gridcolor": "white",
            "linecolor": "white",
            "ticks": ""
           },
           "baxis": {
            "gridcolor": "white",
            "linecolor": "white",
            "ticks": ""
           },
           "bgcolor": "#E5ECF6",
           "caxis": {
            "gridcolor": "white",
            "linecolor": "white",
            "ticks": ""
           }
          },
          "title": {
           "x": 0.05
          },
          "xaxis": {
           "automargin": true,
           "gridcolor": "white",
           "linecolor": "white",
           "ticks": "",
           "title": {
            "standoff": 15
           },
           "zerolinecolor": "white",
           "zerolinewidth": 2
          },
          "yaxis": {
           "automargin": true,
           "gridcolor": "white",
           "linecolor": "white",
           "ticks": "",
           "title": {
            "standoff": 15
           },
           "zerolinecolor": "white",
           "zerolinewidth": 2
          }
         }
        },
        "xaxis": {
         "anchor": "y",
         "domain": [
          0,
          1
         ],
         "title": {
          "text": "x"
         }
        },
        "yaxis": {
         "anchor": "x",
         "domain": [
          0,
          1
         ],
         "title": {
          "text": "y"
         }
        }
       }
      }
     },
     "metadata": {},
     "output_type": "display_data"
    }
   ],
   "source": [
    "import plotly.graph_objects as go\n",
    "alphas = [0, 20, 200]\n",
    "cs = [\"r\", \"g\", \"b\"]\n",
    "fig = px.scatter(x=x1.ravel(), y=x2.ravel())\n",
    "for i in alphas:\n",
    "    fig.add_trace(go.Scatter(x=np.sort(x1.ravel()), y=getPredRidge(x1, x2, i).ravel()[\n",
    "                  x1.argsort(axis=0).ravel()], mode=\"lines\", name=f\"Lambda {i}\"))\n",
    "fig.show()"
   ]
  },
  {
   "cell_type": "markdown",
   "metadata": {},
   "source": [
    "# End"
   ]
  }
 ],
 "metadata": {
  "kernelspec": {
   "display_name": "Python 3",
   "language": "python",
   "name": "python3"
  },
  "language_info": {
   "codemirror_mode": {
    "name": "ipython",
    "version": 3
   },
   "file_extension": ".py",
   "mimetype": "text/x-python",
   "name": "python",
   "nbconvert_exporter": "python",
   "pygments_lexer": "ipython3",
   "version": "3.11.4"
  },
  "orig_nbformat": 4
 },
 "nbformat": 4,
 "nbformat_minor": 2
}
