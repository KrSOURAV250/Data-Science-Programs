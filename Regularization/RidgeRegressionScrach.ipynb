{
 "cells": [
  {
   "cell_type": "code",
   "execution_count": 150,
   "metadata": {},
   "outputs": [],
   "source": [
    "from sklearn.datasets import make_regression\n",
    "import plotly.express as px\n",
    "import numpy as np"
   ]
  },
  {
   "cell_type": "code",
   "execution_count": 151,
   "metadata": {},
   "outputs": [],
   "source": [
    "x, y = make_regression(n_samples=100, n_features=1, n_informative=1, n_targets=1, noise=20, random_state=13)"
   ]
  },
  {
   "cell_type": "code",
   "execution_count": 152,
   "metadata": {},
   "outputs": [
    {
     "data": {
      "text/plain": [
       "((100, 1), (100,))"
      ]
     },
     "execution_count": 152,
     "metadata": {},
     "output_type": "execute_result"
    }
   ],
   "source": [
    "x.shape, y.shape"
   ]
  },
  {
   "cell_type": "code",
   "execution_count": 153,
   "metadata": {},
   "outputs": [
    {
     "data": {
      "application/vnd.plotly.v1+json": {
       "config": {
        "plotlyServerURL": "https://plot.ly"
       },
       "data": [
        {
         "hovertemplate": "x=%{x}<br>y=%{y}<extra></extra>",
         "legendgroup": "",
         "marker": {
          "color": "#636efa",
          "symbol": "circle"
         },
         "mode": "markers",
         "name": "",
         "orientation": "v",
         "showlegend": false,
         "type": "scatter",
         "x": [
          -0.712390662050588,
          -0.4371456556814915,
          -0.4537523812416193,
          0.9528306110451948,
          0.23785783828501061,
          0.8612113741693206,
          -0.24332625188556253,
          0.18494595039221876,
          -0.7209996734353815,
          -0.42989708186880404,
          2.0152208250443837,
          0.3972413264075336,
          0.20780005335113885,
          -0.2324258720274623,
          -0.7686270207784495,
          0.4531586132388156,
          0.6398839732802036,
          0.35953229551797367,
          -1.6151079632521659,
          1.749241790081012,
          -0.7889890249515489,
          -0.511965094194221,
          -0.928335225810039,
          2.1503829673811126,
          -0.20734969827652708,
          -1.639093411201915,
          -0.3386182541020083,
          -0.3221236569774085,
          -0.48137141579474935,
          -0.5231642148972904,
          0.7219650574076287,
          0.7659110492252689,
          0.45348104026746144,
          -1.261605945319069,
          -2.187115273247333,
          -1.185418809153406,
          0.21745165945019368,
          1.3303169236725105,
          -1.0871815907509188,
          0.5622617060581323,
          -1.5128451152607716,
          -0.002389025600514556,
          -0.27813451650877447,
          0.45181233874578974,
          1.190705272505982,
          0.9223441482568703,
          0.8149954430712237,
          -0.6209797023155086,
          0.9137407048596775,
          1.1383330474921514,
          1.4786857374358966,
          -0.6510564789536804,
          -0.37591996120915105,
          -0.7746600331288077,
          0.5011372949374676,
          1.3501878997225267,
          0.7291654706806434,
          -0.08165155616424355,
          -0.8541429534648363,
          0.46565797200403236,
          -0.044503078338053455,
          -0.057532387873538586,
          1.8927422187767202,
          -1.0453771305385342,
          0.5646542880869975,
          -1.9241594490929896,
          -0.7640339696578627,
          0.12730328020698067,
          -0.026771649986440726,
          -0.1452113325860197,
          0.5628467852810314,
          0.31735092273633597,
          0.7109747948581455,
          0.753766378659703,
          -0.37011607810475444,
          1.3451017084510097,
          0.5323378882945463,
          -0.9841607817725814,
          1.3503059959308692,
          -0.3466067875476209,
          0.5143288551447859,
          0.1012697856437548,
          -0.6575172676978901,
          0.8309056578021413,
          -0.31726597100271015,
          -0.9802743185258672,
          1.3992384201681904,
          0.5479183096073379,
          -0.530327407582726,
          0.49087183250951594,
          0.3487505938690223,
          2.0536932362953815,
          0.6062886568962988,
          -0.38445768500357647,
          -1.9453906815188249,
          -0.3148580761325759,
          1.8496125662057936,
          -1.1205068713840005,
          -0.33267577528589565,
          -0.757453225587536
         ],
         "xaxis": "x",
         "y": [
          -34.31988063081638,
          -9.42120961239921,
          -19.08818774565816,
          20.437212162837618,
          27.755965901983803,
          -2.907500458765842,
          -14.198782823874307,
          5.400258909615711,
          -26.426430241182402,
          -34.90678722713892,
          37.336204301851694,
          12.853281581453212,
          25.028988781212128,
          -18.960873557222328,
          -23.465585176023875,
          37.78393244269782,
          6.696707918178907,
          -5.572013520473915,
          -49.21587780060539,
          15.94743988166281,
          -42.96673238210259,
          6.090154657122669,
          -25.31947690981174,
          62.82167059557334,
          12.48703995017722,
          -32.713652974324106,
          -18.825547632993782,
          -29.39129263521983,
          -28.688673082068902,
          4.389240686044754,
          46.35423956473224,
          24.39195191027521,
          37.98485171512923,
          -34.57677176602421,
          -61.87362964153242,
          -46.4421596644352,
          -6.888084164727646,
          39.69880836164066,
          -35.237329788013064,
          8.36850884071089,
          -39.681441205454234,
          8.273183075953428,
          -4.407221609258824,
          -3.0135060664427673,
          57.82136286763696,
          24.652560271010255,
          18.113170696123113,
          -52.28490353366432,
          35.918718200086225,
          15.841178809369493,
          24.008054578022303,
          -25.12459942134023,
          -43.92843134919616,
          17.392504946146826,
          15.032279920284017,
          37.833907283500956,
          6.330150593894848,
          5.072661397183754,
          -5.570471890216485,
          19.84111372326433,
          7.041497003915664,
          -18.935330994030277,
          34.80473723730849,
          -57.13912421993564,
          31.05248370162285,
          -75.7291461443336,
          -44.30628825537301,
          21.240410313399202,
          -0.18628862161606075,
          -28.565716532356845,
          -7.391693228518166,
          25.22397748035855,
          32.54321359847095,
          0.29337912869204175,
          -18.63814231042117,
          39.35016824159919,
          2.540050981591735,
          -48.63206990083934,
          54.281805068263225,
          -10.217091039005162,
          -5.66921619738557,
          23.462861952927838,
          -0.06922996701865358,
          5.630794590835777,
          -9.68771367749279,
          -44.66386562968767,
          32.70830971025881,
          18.11747901170934,
          -16.143226187508308,
          45.041441318159386,
          22.7466323999307,
          37.10854707226821,
          12.476026424489888,
          -35.84520019603448,
          -28.638666126195115,
          -27.979066226835464,
          64.17947047969268,
          -60.71543942099409,
          22.233364570202106,
          -2.4022215114722627
         ],
         "yaxis": "y"
        }
       ],
       "layout": {
        "legend": {
         "tracegroupgap": 0
        },
        "margin": {
         "t": 60
        },
        "template": {
         "data": {
          "bar": [
           {
            "error_x": {
             "color": "#2a3f5f"
            },
            "error_y": {
             "color": "#2a3f5f"
            },
            "marker": {
             "line": {
              "color": "#E5ECF6",
              "width": 0.5
             },
             "pattern": {
              "fillmode": "overlay",
              "size": 10,
              "solidity": 0.2
             }
            },
            "type": "bar"
           }
          ],
          "barpolar": [
           {
            "marker": {
             "line": {
              "color": "#E5ECF6",
              "width": 0.5
             },
             "pattern": {
              "fillmode": "overlay",
              "size": 10,
              "solidity": 0.2
             }
            },
            "type": "barpolar"
           }
          ],
          "carpet": [
           {
            "aaxis": {
             "endlinecolor": "#2a3f5f",
             "gridcolor": "white",
             "linecolor": "white",
             "minorgridcolor": "white",
             "startlinecolor": "#2a3f5f"
            },
            "baxis": {
             "endlinecolor": "#2a3f5f",
             "gridcolor": "white",
             "linecolor": "white",
             "minorgridcolor": "white",
             "startlinecolor": "#2a3f5f"
            },
            "type": "carpet"
           }
          ],
          "choropleth": [
           {
            "colorbar": {
             "outlinewidth": 0,
             "ticks": ""
            },
            "type": "choropleth"
           }
          ],
          "contour": [
           {
            "colorbar": {
             "outlinewidth": 0,
             "ticks": ""
            },
            "colorscale": [
             [
              0,
              "#0d0887"
             ],
             [
              0.1111111111111111,
              "#46039f"
             ],
             [
              0.2222222222222222,
              "#7201a8"
             ],
             [
              0.3333333333333333,
              "#9c179e"
             ],
             [
              0.4444444444444444,
              "#bd3786"
             ],
             [
              0.5555555555555556,
              "#d8576b"
             ],
             [
              0.6666666666666666,
              "#ed7953"
             ],
             [
              0.7777777777777778,
              "#fb9f3a"
             ],
             [
              0.8888888888888888,
              "#fdca26"
             ],
             [
              1,
              "#f0f921"
             ]
            ],
            "type": "contour"
           }
          ],
          "contourcarpet": [
           {
            "colorbar": {
             "outlinewidth": 0,
             "ticks": ""
            },
            "type": "contourcarpet"
           }
          ],
          "heatmap": [
           {
            "colorbar": {
             "outlinewidth": 0,
             "ticks": ""
            },
            "colorscale": [
             [
              0,
              "#0d0887"
             ],
             [
              0.1111111111111111,
              "#46039f"
             ],
             [
              0.2222222222222222,
              "#7201a8"
             ],
             [
              0.3333333333333333,
              "#9c179e"
             ],
             [
              0.4444444444444444,
              "#bd3786"
             ],
             [
              0.5555555555555556,
              "#d8576b"
             ],
             [
              0.6666666666666666,
              "#ed7953"
             ],
             [
              0.7777777777777778,
              "#fb9f3a"
             ],
             [
              0.8888888888888888,
              "#fdca26"
             ],
             [
              1,
              "#f0f921"
             ]
            ],
            "type": "heatmap"
           }
          ],
          "heatmapgl": [
           {
            "colorbar": {
             "outlinewidth": 0,
             "ticks": ""
            },
            "colorscale": [
             [
              0,
              "#0d0887"
             ],
             [
              0.1111111111111111,
              "#46039f"
             ],
             [
              0.2222222222222222,
              "#7201a8"
             ],
             [
              0.3333333333333333,
              "#9c179e"
             ],
             [
              0.4444444444444444,
              "#bd3786"
             ],
             [
              0.5555555555555556,
              "#d8576b"
             ],
             [
              0.6666666666666666,
              "#ed7953"
             ],
             [
              0.7777777777777778,
              "#fb9f3a"
             ],
             [
              0.8888888888888888,
              "#fdca26"
             ],
             [
              1,
              "#f0f921"
             ]
            ],
            "type": "heatmapgl"
           }
          ],
          "histogram": [
           {
            "marker": {
             "pattern": {
              "fillmode": "overlay",
              "size": 10,
              "solidity": 0.2
             }
            },
            "type": "histogram"
           }
          ],
          "histogram2d": [
           {
            "colorbar": {
             "outlinewidth": 0,
             "ticks": ""
            },
            "colorscale": [
             [
              0,
              "#0d0887"
             ],
             [
              0.1111111111111111,
              "#46039f"
             ],
             [
              0.2222222222222222,
              "#7201a8"
             ],
             [
              0.3333333333333333,
              "#9c179e"
             ],
             [
              0.4444444444444444,
              "#bd3786"
             ],
             [
              0.5555555555555556,
              "#d8576b"
             ],
             [
              0.6666666666666666,
              "#ed7953"
             ],
             [
              0.7777777777777778,
              "#fb9f3a"
             ],
             [
              0.8888888888888888,
              "#fdca26"
             ],
             [
              1,
              "#f0f921"
             ]
            ],
            "type": "histogram2d"
           }
          ],
          "histogram2dcontour": [
           {
            "colorbar": {
             "outlinewidth": 0,
             "ticks": ""
            },
            "colorscale": [
             [
              0,
              "#0d0887"
             ],
             [
              0.1111111111111111,
              "#46039f"
             ],
             [
              0.2222222222222222,
              "#7201a8"
             ],
             [
              0.3333333333333333,
              "#9c179e"
             ],
             [
              0.4444444444444444,
              "#bd3786"
             ],
             [
              0.5555555555555556,
              "#d8576b"
             ],
             [
              0.6666666666666666,
              "#ed7953"
             ],
             [
              0.7777777777777778,
              "#fb9f3a"
             ],
             [
              0.8888888888888888,
              "#fdca26"
             ],
             [
              1,
              "#f0f921"
             ]
            ],
            "type": "histogram2dcontour"
           }
          ],
          "mesh3d": [
           {
            "colorbar": {
             "outlinewidth": 0,
             "ticks": ""
            },
            "type": "mesh3d"
           }
          ],
          "parcoords": [
           {
            "line": {
             "colorbar": {
              "outlinewidth": 0,
              "ticks": ""
             }
            },
            "type": "parcoords"
           }
          ],
          "pie": [
           {
            "automargin": true,
            "type": "pie"
           }
          ],
          "scatter": [
           {
            "fillpattern": {
             "fillmode": "overlay",
             "size": 10,
             "solidity": 0.2
            },
            "type": "scatter"
           }
          ],
          "scatter3d": [
           {
            "line": {
             "colorbar": {
              "outlinewidth": 0,
              "ticks": ""
             }
            },
            "marker": {
             "colorbar": {
              "outlinewidth": 0,
              "ticks": ""
             }
            },
            "type": "scatter3d"
           }
          ],
          "scattercarpet": [
           {
            "marker": {
             "colorbar": {
              "outlinewidth": 0,
              "ticks": ""
             }
            },
            "type": "scattercarpet"
           }
          ],
          "scattergeo": [
           {
            "marker": {
             "colorbar": {
              "outlinewidth": 0,
              "ticks": ""
             }
            },
            "type": "scattergeo"
           }
          ],
          "scattergl": [
           {
            "marker": {
             "colorbar": {
              "outlinewidth": 0,
              "ticks": ""
             }
            },
            "type": "scattergl"
           }
          ],
          "scattermapbox": [
           {
            "marker": {
             "colorbar": {
              "outlinewidth": 0,
              "ticks": ""
             }
            },
            "type": "scattermapbox"
           }
          ],
          "scatterpolar": [
           {
            "marker": {
             "colorbar": {
              "outlinewidth": 0,
              "ticks": ""
             }
            },
            "type": "scatterpolar"
           }
          ],
          "scatterpolargl": [
           {
            "marker": {
             "colorbar": {
              "outlinewidth": 0,
              "ticks": ""
             }
            },
            "type": "scatterpolargl"
           }
          ],
          "scatterternary": [
           {
            "marker": {
             "colorbar": {
              "outlinewidth": 0,
              "ticks": ""
             }
            },
            "type": "scatterternary"
           }
          ],
          "surface": [
           {
            "colorbar": {
             "outlinewidth": 0,
             "ticks": ""
            },
            "colorscale": [
             [
              0,
              "#0d0887"
             ],
             [
              0.1111111111111111,
              "#46039f"
             ],
             [
              0.2222222222222222,
              "#7201a8"
             ],
             [
              0.3333333333333333,
              "#9c179e"
             ],
             [
              0.4444444444444444,
              "#bd3786"
             ],
             [
              0.5555555555555556,
              "#d8576b"
             ],
             [
              0.6666666666666666,
              "#ed7953"
             ],
             [
              0.7777777777777778,
              "#fb9f3a"
             ],
             [
              0.8888888888888888,
              "#fdca26"
             ],
             [
              1,
              "#f0f921"
             ]
            ],
            "type": "surface"
           }
          ],
          "table": [
           {
            "cells": {
             "fill": {
              "color": "#EBF0F8"
             },
             "line": {
              "color": "white"
             }
            },
            "header": {
             "fill": {
              "color": "#C8D4E3"
             },
             "line": {
              "color": "white"
             }
            },
            "type": "table"
           }
          ]
         },
         "layout": {
          "annotationdefaults": {
           "arrowcolor": "#2a3f5f",
           "arrowhead": 0,
           "arrowwidth": 1
          },
          "autotypenumbers": "strict",
          "coloraxis": {
           "colorbar": {
            "outlinewidth": 0,
            "ticks": ""
           }
          },
          "colorscale": {
           "diverging": [
            [
             0,
             "#8e0152"
            ],
            [
             0.1,
             "#c51b7d"
            ],
            [
             0.2,
             "#de77ae"
            ],
            [
             0.3,
             "#f1b6da"
            ],
            [
             0.4,
             "#fde0ef"
            ],
            [
             0.5,
             "#f7f7f7"
            ],
            [
             0.6,
             "#e6f5d0"
            ],
            [
             0.7,
             "#b8e186"
            ],
            [
             0.8,
             "#7fbc41"
            ],
            [
             0.9,
             "#4d9221"
            ],
            [
             1,
             "#276419"
            ]
           ],
           "sequential": [
            [
             0,
             "#0d0887"
            ],
            [
             0.1111111111111111,
             "#46039f"
            ],
            [
             0.2222222222222222,
             "#7201a8"
            ],
            [
             0.3333333333333333,
             "#9c179e"
            ],
            [
             0.4444444444444444,
             "#bd3786"
            ],
            [
             0.5555555555555556,
             "#d8576b"
            ],
            [
             0.6666666666666666,
             "#ed7953"
            ],
            [
             0.7777777777777778,
             "#fb9f3a"
            ],
            [
             0.8888888888888888,
             "#fdca26"
            ],
            [
             1,
             "#f0f921"
            ]
           ],
           "sequentialminus": [
            [
             0,
             "#0d0887"
            ],
            [
             0.1111111111111111,
             "#46039f"
            ],
            [
             0.2222222222222222,
             "#7201a8"
            ],
            [
             0.3333333333333333,
             "#9c179e"
            ],
            [
             0.4444444444444444,
             "#bd3786"
            ],
            [
             0.5555555555555556,
             "#d8576b"
            ],
            [
             0.6666666666666666,
             "#ed7953"
            ],
            [
             0.7777777777777778,
             "#fb9f3a"
            ],
            [
             0.8888888888888888,
             "#fdca26"
            ],
            [
             1,
             "#f0f921"
            ]
           ]
          },
          "colorway": [
           "#636efa",
           "#EF553B",
           "#00cc96",
           "#ab63fa",
           "#FFA15A",
           "#19d3f3",
           "#FF6692",
           "#B6E880",
           "#FF97FF",
           "#FECB52"
          ],
          "font": {
           "color": "#2a3f5f"
          },
          "geo": {
           "bgcolor": "white",
           "lakecolor": "white",
           "landcolor": "#E5ECF6",
           "showlakes": true,
           "showland": true,
           "subunitcolor": "white"
          },
          "hoverlabel": {
           "align": "left"
          },
          "hovermode": "closest",
          "mapbox": {
           "style": "light"
          },
          "paper_bgcolor": "white",
          "plot_bgcolor": "#E5ECF6",
          "polar": {
           "angularaxis": {
            "gridcolor": "white",
            "linecolor": "white",
            "ticks": ""
           },
           "bgcolor": "#E5ECF6",
           "radialaxis": {
            "gridcolor": "white",
            "linecolor": "white",
            "ticks": ""
           }
          },
          "scene": {
           "xaxis": {
            "backgroundcolor": "#E5ECF6",
            "gridcolor": "white",
            "gridwidth": 2,
            "linecolor": "white",
            "showbackground": true,
            "ticks": "",
            "zerolinecolor": "white"
           },
           "yaxis": {
            "backgroundcolor": "#E5ECF6",
            "gridcolor": "white",
            "gridwidth": 2,
            "linecolor": "white",
            "showbackground": true,
            "ticks": "",
            "zerolinecolor": "white"
           },
           "zaxis": {
            "backgroundcolor": "#E5ECF6",
            "gridcolor": "white",
            "gridwidth": 2,
            "linecolor": "white",
            "showbackground": true,
            "ticks": "",
            "zerolinecolor": "white"
           }
          },
          "shapedefaults": {
           "line": {
            "color": "#2a3f5f"
           }
          },
          "ternary": {
           "aaxis": {
            "gridcolor": "white",
            "linecolor": "white",
            "ticks": ""
           },
           "baxis": {
            "gridcolor": "white",
            "linecolor": "white",
            "ticks": ""
           },
           "bgcolor": "#E5ECF6",
           "caxis": {
            "gridcolor": "white",
            "linecolor": "white",
            "ticks": ""
           }
          },
          "title": {
           "x": 0.05
          },
          "xaxis": {
           "automargin": true,
           "gridcolor": "white",
           "linecolor": "white",
           "ticks": "",
           "title": {
            "standoff": 15
           },
           "zerolinecolor": "white",
           "zerolinewidth": 2
          },
          "yaxis": {
           "automargin": true,
           "gridcolor": "white",
           "linecolor": "white",
           "ticks": "",
           "title": {
            "standoff": 15
           },
           "zerolinecolor": "white",
           "zerolinewidth": 2
          }
         }
        },
        "xaxis": {
         "anchor": "y",
         "domain": [
          0,
          1
         ],
         "title": {
          "text": "x"
         }
        },
        "yaxis": {
         "anchor": "x",
         "domain": [
          0,
          1
         ],
         "title": {
          "text": "y"
         }
        }
       }
      }
     },
     "metadata": {},
     "output_type": "display_data"
    }
   ],
   "source": [
    "px.scatter(x=x.ravel(),y=y.ravel())"
   ]
  },
  {
   "cell_type": "code",
   "execution_count": 154,
   "metadata": {},
   "outputs": [
    {
     "data": {
      "text/html": [
       "<style>#sk-container-id-10 {color: black;}#sk-container-id-10 pre{padding: 0;}#sk-container-id-10 div.sk-toggleable {background-color: white;}#sk-container-id-10 label.sk-toggleable__label {cursor: pointer;display: block;width: 100%;margin-bottom: 0;padding: 0.3em;box-sizing: border-box;text-align: center;}#sk-container-id-10 label.sk-toggleable__label-arrow:before {content: \"▸\";float: left;margin-right: 0.25em;color: #696969;}#sk-container-id-10 label.sk-toggleable__label-arrow:hover:before {color: black;}#sk-container-id-10 div.sk-estimator:hover label.sk-toggleable__label-arrow:before {color: black;}#sk-container-id-10 div.sk-toggleable__content {max-height: 0;max-width: 0;overflow: hidden;text-align: left;background-color: #f0f8ff;}#sk-container-id-10 div.sk-toggleable__content pre {margin: 0.2em;color: black;border-radius: 0.25em;background-color: #f0f8ff;}#sk-container-id-10 input.sk-toggleable__control:checked~div.sk-toggleable__content {max-height: 200px;max-width: 100%;overflow: auto;}#sk-container-id-10 input.sk-toggleable__control:checked~label.sk-toggleable__label-arrow:before {content: \"▾\";}#sk-container-id-10 div.sk-estimator input.sk-toggleable__control:checked~label.sk-toggleable__label {background-color: #d4ebff;}#sk-container-id-10 div.sk-label input.sk-toggleable__control:checked~label.sk-toggleable__label {background-color: #d4ebff;}#sk-container-id-10 input.sk-hidden--visually {border: 0;clip: rect(1px 1px 1px 1px);clip: rect(1px, 1px, 1px, 1px);height: 1px;margin: -1px;overflow: hidden;padding: 0;position: absolute;width: 1px;}#sk-container-id-10 div.sk-estimator {font-family: monospace;background-color: #f0f8ff;border: 1px dotted black;border-radius: 0.25em;box-sizing: border-box;margin-bottom: 0.5em;}#sk-container-id-10 div.sk-estimator:hover {background-color: #d4ebff;}#sk-container-id-10 div.sk-parallel-item::after {content: \"\";width: 100%;border-bottom: 1px solid gray;flex-grow: 1;}#sk-container-id-10 div.sk-label:hover label.sk-toggleable__label {background-color: #d4ebff;}#sk-container-id-10 div.sk-serial::before {content: \"\";position: absolute;border-left: 1px solid gray;box-sizing: border-box;top: 0;bottom: 0;left: 50%;z-index: 0;}#sk-container-id-10 div.sk-serial {display: flex;flex-direction: column;align-items: center;background-color: white;padding-right: 0.2em;padding-left: 0.2em;position: relative;}#sk-container-id-10 div.sk-item {position: relative;z-index: 1;}#sk-container-id-10 div.sk-parallel {display: flex;align-items: stretch;justify-content: center;background-color: white;position: relative;}#sk-container-id-10 div.sk-item::before, #sk-container-id-10 div.sk-parallel-item::before {content: \"\";position: absolute;border-left: 1px solid gray;box-sizing: border-box;top: 0;bottom: 0;left: 50%;z-index: -1;}#sk-container-id-10 div.sk-parallel-item {display: flex;flex-direction: column;z-index: 1;position: relative;background-color: white;}#sk-container-id-10 div.sk-parallel-item:first-child::after {align-self: flex-end;width: 50%;}#sk-container-id-10 div.sk-parallel-item:last-child::after {align-self: flex-start;width: 50%;}#sk-container-id-10 div.sk-parallel-item:only-child::after {width: 0;}#sk-container-id-10 div.sk-dashed-wrapped {border: 1px dashed gray;margin: 0 0.4em 0.5em 0.4em;box-sizing: border-box;padding-bottom: 0.4em;background-color: white;}#sk-container-id-10 div.sk-label label {font-family: monospace;font-weight: bold;display: inline-block;line-height: 1.2em;}#sk-container-id-10 div.sk-label-container {text-align: center;}#sk-container-id-10 div.sk-container {/* jupyter's `normalize.less` sets `[hidden] { display: none; }` but bootstrap.min.css set `[hidden] { display: none !important; }` so we also need the `!important` here to be able to override the default hidden behavior on the sphinx rendered scikit-learn.org. See: https://github.com/scikit-learn/scikit-learn/issues/21755 */display: inline-block !important;position: relative;}#sk-container-id-10 div.sk-text-repr-fallback {display: none;}</style><div id=\"sk-container-id-10\" class=\"sk-top-container\"><div class=\"sk-text-repr-fallback\"><pre>LinearRegression()</pre><b>In a Jupyter environment, please rerun this cell to show the HTML representation or trust the notebook. <br />On GitHub, the HTML representation is unable to render, please try loading this page with nbviewer.org.</b></div><div class=\"sk-container\" hidden><div class=\"sk-item\"><div class=\"sk-estimator sk-toggleable\"><input class=\"sk-toggleable__control sk-hidden--visually\" id=\"sk-estimator-id-10\" type=\"checkbox\" checked><label for=\"sk-estimator-id-10\" class=\"sk-toggleable__label sk-toggleable__label-arrow\">LinearRegression</label><div class=\"sk-toggleable__content\"><pre>LinearRegression()</pre></div></div></div></div></div>"
      ],
      "text/plain": [
       "LinearRegression()"
      ]
     },
     "execution_count": 154,
     "metadata": {},
     "output_type": "execute_result"
    }
   ],
   "source": [
    "from sklearn.linear_model import LinearRegression\n",
    "lr = LinearRegression()\n",
    "lr.fit(x,y)"
   ]
  },
  {
   "cell_type": "code",
   "execution_count": 155,
   "metadata": {},
   "outputs": [
    {
     "name": "stdout",
     "output_type": "stream",
     "text": [
      "[27.82809103]\n",
      "-2.29474455867698\n"
     ]
    }
   ],
   "source": [
    "print(lr.coef_)\n",
    "print(lr.intercept_)"
   ]
  },
  {
   "cell_type": "code",
   "execution_count": 156,
   "metadata": {},
   "outputs": [
    {
     "data": {
      "text/html": [
       "<style>#sk-container-id-11 {color: black;}#sk-container-id-11 pre{padding: 0;}#sk-container-id-11 div.sk-toggleable {background-color: white;}#sk-container-id-11 label.sk-toggleable__label {cursor: pointer;display: block;width: 100%;margin-bottom: 0;padding: 0.3em;box-sizing: border-box;text-align: center;}#sk-container-id-11 label.sk-toggleable__label-arrow:before {content: \"▸\";float: left;margin-right: 0.25em;color: #696969;}#sk-container-id-11 label.sk-toggleable__label-arrow:hover:before {color: black;}#sk-container-id-11 div.sk-estimator:hover label.sk-toggleable__label-arrow:before {color: black;}#sk-container-id-11 div.sk-toggleable__content {max-height: 0;max-width: 0;overflow: hidden;text-align: left;background-color: #f0f8ff;}#sk-container-id-11 div.sk-toggleable__content pre {margin: 0.2em;color: black;border-radius: 0.25em;background-color: #f0f8ff;}#sk-container-id-11 input.sk-toggleable__control:checked~div.sk-toggleable__content {max-height: 200px;max-width: 100%;overflow: auto;}#sk-container-id-11 input.sk-toggleable__control:checked~label.sk-toggleable__label-arrow:before {content: \"▾\";}#sk-container-id-11 div.sk-estimator input.sk-toggleable__control:checked~label.sk-toggleable__label {background-color: #d4ebff;}#sk-container-id-11 div.sk-label input.sk-toggleable__control:checked~label.sk-toggleable__label {background-color: #d4ebff;}#sk-container-id-11 input.sk-hidden--visually {border: 0;clip: rect(1px 1px 1px 1px);clip: rect(1px, 1px, 1px, 1px);height: 1px;margin: -1px;overflow: hidden;padding: 0;position: absolute;width: 1px;}#sk-container-id-11 div.sk-estimator {font-family: monospace;background-color: #f0f8ff;border: 1px dotted black;border-radius: 0.25em;box-sizing: border-box;margin-bottom: 0.5em;}#sk-container-id-11 div.sk-estimator:hover {background-color: #d4ebff;}#sk-container-id-11 div.sk-parallel-item::after {content: \"\";width: 100%;border-bottom: 1px solid gray;flex-grow: 1;}#sk-container-id-11 div.sk-label:hover label.sk-toggleable__label {background-color: #d4ebff;}#sk-container-id-11 div.sk-serial::before {content: \"\";position: absolute;border-left: 1px solid gray;box-sizing: border-box;top: 0;bottom: 0;left: 50%;z-index: 0;}#sk-container-id-11 div.sk-serial {display: flex;flex-direction: column;align-items: center;background-color: white;padding-right: 0.2em;padding-left: 0.2em;position: relative;}#sk-container-id-11 div.sk-item {position: relative;z-index: 1;}#sk-container-id-11 div.sk-parallel {display: flex;align-items: stretch;justify-content: center;background-color: white;position: relative;}#sk-container-id-11 div.sk-item::before, #sk-container-id-11 div.sk-parallel-item::before {content: \"\";position: absolute;border-left: 1px solid gray;box-sizing: border-box;top: 0;bottom: 0;left: 50%;z-index: -1;}#sk-container-id-11 div.sk-parallel-item {display: flex;flex-direction: column;z-index: 1;position: relative;background-color: white;}#sk-container-id-11 div.sk-parallel-item:first-child::after {align-self: flex-end;width: 50%;}#sk-container-id-11 div.sk-parallel-item:last-child::after {align-self: flex-start;width: 50%;}#sk-container-id-11 div.sk-parallel-item:only-child::after {width: 0;}#sk-container-id-11 div.sk-dashed-wrapped {border: 1px dashed gray;margin: 0 0.4em 0.5em 0.4em;box-sizing: border-box;padding-bottom: 0.4em;background-color: white;}#sk-container-id-11 div.sk-label label {font-family: monospace;font-weight: bold;display: inline-block;line-height: 1.2em;}#sk-container-id-11 div.sk-label-container {text-align: center;}#sk-container-id-11 div.sk-container {/* jupyter's `normalize.less` sets `[hidden] { display: none; }` but bootstrap.min.css set `[hidden] { display: none !important; }` so we also need the `!important` here to be able to override the default hidden behavior on the sphinx rendered scikit-learn.org. See: https://github.com/scikit-learn/scikit-learn/issues/21755 */display: inline-block !important;position: relative;}#sk-container-id-11 div.sk-text-repr-fallback {display: none;}</style><div id=\"sk-container-id-11\" class=\"sk-top-container\"><div class=\"sk-text-repr-fallback\"><pre>Ridge(alpha=10)</pre><b>In a Jupyter environment, please rerun this cell to show the HTML representation or trust the notebook. <br />On GitHub, the HTML representation is unable to render, please try loading this page with nbviewer.org.</b></div><div class=\"sk-container\" hidden><div class=\"sk-item\"><div class=\"sk-estimator sk-toggleable\"><input class=\"sk-toggleable__control sk-hidden--visually\" id=\"sk-estimator-id-11\" type=\"checkbox\" checked><label for=\"sk-estimator-id-11\" class=\"sk-toggleable__label sk-toggleable__label-arrow\">Ridge</label><div class=\"sk-toggleable__content\"><pre>Ridge(alpha=10)</pre></div></div></div></div></div>"
      ],
      "text/plain": [
       "Ridge(alpha=10)"
      ]
     },
     "execution_count": 156,
     "metadata": {},
     "output_type": "execute_result"
    }
   ],
   "source": [
    "from sklearn.linear_model import Ridge\n",
    "rr = Ridge(alpha=10)\n",
    "rr.fit(x,y)"
   ]
  },
  {
   "cell_type": "code",
   "execution_count": 157,
   "metadata": {},
   "outputs": [
    {
     "name": "stdout",
     "output_type": "stream",
     "text": [
      "[24.9546267]\n",
      "-2.1269130035235735\n"
     ]
    }
   ],
   "source": [
    "print(rr.coef_)\n",
    "print(rr.intercept_)"
   ]
  },
  {
   "cell_type": "code",
   "execution_count": 158,
   "metadata": {},
   "outputs": [
    {
     "name": "stdout",
     "output_type": "stream",
     "text": [
      "[12.93442104]\n",
      "-1.4248441496033308\n"
     ]
    }
   ],
   "source": [
    "rr1 = Ridge(alpha=100)\n",
    "rr1.fit(x,y)\n",
    "print(rr1.coef_)\n",
    "print(rr1.intercept_)"
   ]
  },
  {
   "cell_type": "code",
   "execution_count": 159,
   "metadata": {},
   "outputs": [
    {
     "name": "stderr",
     "output_type": "stream",
     "text": [
      "c:\\Python\\Python311\\Lib\\site-packages\\plotly\\graph_objs\\_deprecations.py:378: DeprecationWarning:\n",
      "\n",
      "plotly.graph_objs.Line is deprecated.\n",
      "Please replace it with one of the following more specific types\n",
      "  - plotly.graph_objs.scatter.Line\n",
      "  - plotly.graph_objs.layout.shape.Line\n",
      "  - etc.\n",
      "\n",
      "\n",
      "c:\\Python\\Python311\\Lib\\site-packages\\plotly\\graph_objs\\_deprecations.py:378: DeprecationWarning:\n",
      "\n",
      "plotly.graph_objs.Line is deprecated.\n",
      "Please replace it with one of the following more specific types\n",
      "  - plotly.graph_objs.scatter.Line\n",
      "  - plotly.graph_objs.layout.shape.Line\n",
      "  - etc.\n",
      "\n",
      "\n",
      "c:\\Python\\Python311\\Lib\\site-packages\\plotly\\graph_objs\\_deprecations.py:378: DeprecationWarning:\n",
      "\n",
      "plotly.graph_objs.Line is deprecated.\n",
      "Please replace it with one of the following more specific types\n",
      "  - plotly.graph_objs.scatter.Line\n",
      "  - plotly.graph_objs.layout.shape.Line\n",
      "  - etc.\n",
      "\n",
      "\n"
     ]
    },
    {
     "data": {
      "application/vnd.plotly.v1+json": {
       "config": {
        "plotlyServerURL": "https://plot.ly"
       },
       "data": [
        {
         "hovertemplate": "x=%{x}<br>y=%{y}<extra></extra>",
         "legendgroup": "",
         "marker": {
          "color": "#636efa",
          "symbol": "circle"
         },
         "mode": "markers",
         "name": "",
         "orientation": "v",
         "showlegend": false,
         "type": "scatter",
         "x": [
          -0.712390662050588,
          -0.4371456556814915,
          -0.4537523812416193,
          0.9528306110451948,
          0.23785783828501061,
          0.8612113741693206,
          -0.24332625188556253,
          0.18494595039221876,
          -0.7209996734353815,
          -0.42989708186880404,
          2.0152208250443837,
          0.3972413264075336,
          0.20780005335113885,
          -0.2324258720274623,
          -0.7686270207784495,
          0.4531586132388156,
          0.6398839732802036,
          0.35953229551797367,
          -1.6151079632521659,
          1.749241790081012,
          -0.7889890249515489,
          -0.511965094194221,
          -0.928335225810039,
          2.1503829673811126,
          -0.20734969827652708,
          -1.639093411201915,
          -0.3386182541020083,
          -0.3221236569774085,
          -0.48137141579474935,
          -0.5231642148972904,
          0.7219650574076287,
          0.7659110492252689,
          0.45348104026746144,
          -1.261605945319069,
          -2.187115273247333,
          -1.185418809153406,
          0.21745165945019368,
          1.3303169236725105,
          -1.0871815907509188,
          0.5622617060581323,
          -1.5128451152607716,
          -0.002389025600514556,
          -0.27813451650877447,
          0.45181233874578974,
          1.190705272505982,
          0.9223441482568703,
          0.8149954430712237,
          -0.6209797023155086,
          0.9137407048596775,
          1.1383330474921514,
          1.4786857374358966,
          -0.6510564789536804,
          -0.37591996120915105,
          -0.7746600331288077,
          0.5011372949374676,
          1.3501878997225267,
          0.7291654706806434,
          -0.08165155616424355,
          -0.8541429534648363,
          0.46565797200403236,
          -0.044503078338053455,
          -0.057532387873538586,
          1.8927422187767202,
          -1.0453771305385342,
          0.5646542880869975,
          -1.9241594490929896,
          -0.7640339696578627,
          0.12730328020698067,
          -0.026771649986440726,
          -0.1452113325860197,
          0.5628467852810314,
          0.31735092273633597,
          0.7109747948581455,
          0.753766378659703,
          -0.37011607810475444,
          1.3451017084510097,
          0.5323378882945463,
          -0.9841607817725814,
          1.3503059959308692,
          -0.3466067875476209,
          0.5143288551447859,
          0.1012697856437548,
          -0.6575172676978901,
          0.8309056578021413,
          -0.31726597100271015,
          -0.9802743185258672,
          1.3992384201681904,
          0.5479183096073379,
          -0.530327407582726,
          0.49087183250951594,
          0.3487505938690223,
          2.0536932362953815,
          0.6062886568962988,
          -0.38445768500357647,
          -1.9453906815188249,
          -0.3148580761325759,
          1.8496125662057936,
          -1.1205068713840005,
          -0.33267577528589565,
          -0.757453225587536
         ],
         "xaxis": "x",
         "y": [
          -34.31988063081638,
          -9.42120961239921,
          -19.08818774565816,
          20.437212162837618,
          27.755965901983803,
          -2.907500458765842,
          -14.198782823874307,
          5.400258909615711,
          -26.426430241182402,
          -34.90678722713892,
          37.336204301851694,
          12.853281581453212,
          25.028988781212128,
          -18.960873557222328,
          -23.465585176023875,
          37.78393244269782,
          6.696707918178907,
          -5.572013520473915,
          -49.21587780060539,
          15.94743988166281,
          -42.96673238210259,
          6.090154657122669,
          -25.31947690981174,
          62.82167059557334,
          12.48703995017722,
          -32.713652974324106,
          -18.825547632993782,
          -29.39129263521983,
          -28.688673082068902,
          4.389240686044754,
          46.35423956473224,
          24.39195191027521,
          37.98485171512923,
          -34.57677176602421,
          -61.87362964153242,
          -46.4421596644352,
          -6.888084164727646,
          39.69880836164066,
          -35.237329788013064,
          8.36850884071089,
          -39.681441205454234,
          8.273183075953428,
          -4.407221609258824,
          -3.0135060664427673,
          57.82136286763696,
          24.652560271010255,
          18.113170696123113,
          -52.28490353366432,
          35.918718200086225,
          15.841178809369493,
          24.008054578022303,
          -25.12459942134023,
          -43.92843134919616,
          17.392504946146826,
          15.032279920284017,
          37.833907283500956,
          6.330150593894848,
          5.072661397183754,
          -5.570471890216485,
          19.84111372326433,
          7.041497003915664,
          -18.935330994030277,
          34.80473723730849,
          -57.13912421993564,
          31.05248370162285,
          -75.7291461443336,
          -44.30628825537301,
          21.240410313399202,
          -0.18628862161606075,
          -28.565716532356845,
          -7.391693228518166,
          25.22397748035855,
          32.54321359847095,
          0.29337912869204175,
          -18.63814231042117,
          39.35016824159919,
          2.540050981591735,
          -48.63206990083934,
          54.281805068263225,
          -10.217091039005162,
          -5.66921619738557,
          23.462861952927838,
          -0.06922996701865358,
          5.630794590835777,
          -9.68771367749279,
          -44.66386562968767,
          32.70830971025881,
          18.11747901170934,
          -16.143226187508308,
          45.041441318159386,
          22.7466323999307,
          37.10854707226821,
          12.476026424489888,
          -35.84520019603448,
          -28.638666126195115,
          -27.979066226835464,
          64.17947047969268,
          -60.71543942099409,
          22.233364570202106,
          -2.4022215114722627
         ],
         "yaxis": "y"
        },
        {
         "name": "Alpha 0",
         "type": "scatter",
         "x": [
          -0.712390662050588,
          -0.4371456556814915,
          -0.4537523812416193,
          0.9528306110451948,
          0.23785783828501061,
          0.8612113741693206,
          -0.24332625188556253,
          0.18494595039221876,
          -0.7209996734353815,
          -0.42989708186880404,
          2.0152208250443837,
          0.3972413264075336,
          0.20780005335113885,
          -0.2324258720274623,
          -0.7686270207784495,
          0.4531586132388156,
          0.6398839732802036,
          0.35953229551797367,
          -1.6151079632521659,
          1.749241790081012,
          -0.7889890249515489,
          -0.511965094194221,
          -0.928335225810039,
          2.1503829673811126,
          -0.20734969827652708,
          -1.639093411201915,
          -0.3386182541020083,
          -0.3221236569774085,
          -0.48137141579474935,
          -0.5231642148972904,
          0.7219650574076287,
          0.7659110492252689,
          0.45348104026746144,
          -1.261605945319069,
          -2.187115273247333,
          -1.185418809153406,
          0.21745165945019368,
          1.3303169236725105,
          -1.0871815907509188,
          0.5622617060581323,
          -1.5128451152607716,
          -0.002389025600514556,
          -0.27813451650877447,
          0.45181233874578974,
          1.190705272505982,
          0.9223441482568703,
          0.8149954430712237,
          -0.6209797023155086,
          0.9137407048596775,
          1.1383330474921514,
          1.4786857374358966,
          -0.6510564789536804,
          -0.37591996120915105,
          -0.7746600331288077,
          0.5011372949374676,
          1.3501878997225267,
          0.7291654706806434,
          -0.08165155616424355,
          -0.8541429534648363,
          0.46565797200403236,
          -0.044503078338053455,
          -0.057532387873538586,
          1.8927422187767202,
          -1.0453771305385342,
          0.5646542880869975,
          -1.9241594490929896,
          -0.7640339696578627,
          0.12730328020698067,
          -0.026771649986440726,
          -0.1452113325860197,
          0.5628467852810314,
          0.31735092273633597,
          0.7109747948581455,
          0.753766378659703,
          -0.37011607810475444,
          1.3451017084510097,
          0.5323378882945463,
          -0.9841607817725814,
          1.3503059959308692,
          -0.3466067875476209,
          0.5143288551447859,
          0.1012697856437548,
          -0.6575172676978901,
          0.8309056578021413,
          -0.31726597100271015,
          -0.9802743185258672,
          1.3992384201681904,
          0.5479183096073379,
          -0.530327407582726,
          0.49087183250951594,
          0.3487505938690223,
          2.0536932362953815,
          0.6062886568962988,
          -0.38445768500357647,
          -1.9453906815188249,
          -0.3148580761325759,
          1.8496125662057936,
          -1.1205068713840005,
          -0.33267577528589565,
          -0.757453225587536
         ],
         "y": [
          -22.11921675293803,
          -14.45967365945223,
          -14.921807130091546,
          24.220712424060487,
          4.324385017916749,
          21.671123959948638,
          -9.06604964675034,
          2.8519481849336374,
          -22.358789105454072,
          -14.257959687536822,
          53.785004011288464,
          8.759723234470911,
          3.487934242541053,
          -8.762712883770076,
          -23.684167262954418,
          10.315794582703367,
          15.512004900015212,
          7.710352890128123,
          -47.24011598740644,
          46.3833152135859,
          -24.250802968687985,
          -16.541755805386508,
          -28.128541731213886,
          57.5463084123854,
          -8.064890837881759,
          -47.90758521640784,
          -11.717844159100702,
          -11.258831008772596,
          -15.690392137866366,
          -16.853405955795704,
          17.79616478116114,
          19.019097841976816,
          10.324767111407867,
          -37.402829652184664,
          -63.157987481218925,
          -35.28268709145958,
          3.7565200156755783,
          34.72543589538379,
          -32.548932834973606,
          13.351925381608806,
          -44.39433614425715,
          -2.36122658056712,
          -10.03469720336913,
          10.278330333556683,
          30.84031015752118,
          23.372332362327455,
          20.385022822198117,
          -19.57542424406021,
          23.13291495627724,
          29.38289111226068,
          38.85425675117832,
          -20.412403522312026,
          -12.755879460146675,
          -23.852054479840504,
          11.650949704633762,
          35.278407225808664,
          17.99653853719436,
          -4.5669514965624805,
          -26.063912422482055,
          10.663627876269947,
          -3.5331802738957068,
          -3.8957610857400695,
          50.37665820653574,
          -31.385594510618,
          13.418506372110837,
          -55.840428869120494,
          -23.556351418253712,
          1.2478627116612975,
          -3.039748471590419,
          -6.335698740834294,
          13.368207019484878,
          6.536525808484042,
          17.490326754462828,
          18.68113484391828,
          -12.59436847277542,
          35.13686823209608,
          12.519202656843191,
          -29.682060384480558,
          35.281693617845015,
          -11.940149795041542,
          12.018045642943985,
          0.5234002550612296,
          -20.59219493962778,
          20.827773726077034,
          -11.123650881261293,
          -29.573907531456456,
          36.643389573963084,
          12.952776039460572,
          -17.05274393392949,
          11.365281481697808,
          7.410318715155633,
          54.855617773821784,
          14.577111377417593,
          -12.993468015108459,
          -56.431253537799236,
          -11.056643763618458,
          49.17644230859102,
          -33.47631177811528,
          -11.552476317647097,
          -23.373221873202944
         ]
        },
        {
         "name": "Alpha 10",
         "type": "scatter",
         "x": [
          -0.712390662050588,
          -0.4371456556814915,
          -0.4537523812416193,
          0.9528306110451948,
          0.23785783828501061,
          0.8612113741693206,
          -0.24332625188556253,
          0.18494595039221876,
          -0.7209996734353815,
          -0.42989708186880404,
          2.0152208250443837,
          0.3972413264075336,
          0.20780005335113885,
          -0.2324258720274623,
          -0.7686270207784495,
          0.4531586132388156,
          0.6398839732802036,
          0.35953229551797367,
          -1.6151079632521659,
          1.749241790081012,
          -0.7889890249515489,
          -0.511965094194221,
          -0.928335225810039,
          2.1503829673811126,
          -0.20734969827652708,
          -1.639093411201915,
          -0.3386182541020083,
          -0.3221236569774085,
          -0.48137141579474935,
          -0.5231642148972904,
          0.7219650574076287,
          0.7659110492252689,
          0.45348104026746144,
          -1.261605945319069,
          -2.187115273247333,
          -1.185418809153406,
          0.21745165945019368,
          1.3303169236725105,
          -1.0871815907509188,
          0.5622617060581323,
          -1.5128451152607716,
          -0.002389025600514556,
          -0.27813451650877447,
          0.45181233874578974,
          1.190705272505982,
          0.9223441482568703,
          0.8149954430712237,
          -0.6209797023155086,
          0.9137407048596775,
          1.1383330474921514,
          1.4786857374358966,
          -0.6510564789536804,
          -0.37591996120915105,
          -0.7746600331288077,
          0.5011372949374676,
          1.3501878997225267,
          0.7291654706806434,
          -0.08165155616424355,
          -0.8541429534648363,
          0.46565797200403236,
          -0.044503078338053455,
          -0.057532387873538586,
          1.8927422187767202,
          -1.0453771305385342,
          0.5646542880869975,
          -1.9241594490929896,
          -0.7640339696578627,
          0.12730328020698067,
          -0.026771649986440726,
          -0.1452113325860197,
          0.5628467852810314,
          0.31735092273633597,
          0.7109747948581455,
          0.753766378659703,
          -0.37011607810475444,
          1.3451017084510097,
          0.5323378882945463,
          -0.9841607817725814,
          1.3503059959308692,
          -0.3466067875476209,
          0.5143288551447859,
          0.1012697856437548,
          -0.6575172676978901,
          0.8309056578021413,
          -0.31726597100271015,
          -0.9802743185258672,
          1.3992384201681904,
          0.5479183096073379,
          -0.530327407582726,
          0.49087183250951594,
          0.3487505938690223,
          2.0536932362953815,
          0.6062886568962988,
          -0.38445768500357647,
          -1.9453906815188249,
          -0.3148580761325759,
          1.8496125662057936,
          -1.1205068713840005,
          -0.33267577528589565,
          -0.757453225587536
         ],
         "y": [
          -19.904356040326558,
          -13.035719655051174,
          -13.450134292131342,
          21.650619204464967,
          3.8087405588031595,
          19.3642953495903,
          -8.199028785899152,
          2.4883441483894924,
          -20.119190705699374,
          -12.854834201440383,
          48.162170405688244,
          7.786096007215694,
          3.0586597563172404,
          -7.927013875640362,
          -21.307713379407996,
          9.181491026227185,
          13.841152681683557,
          6.845081218107478,
          -42.43132930841241,
          41.52476287786554,
          -21.81583959243339,
          -14.902810813120258,
          -25.29317201706981,
          51.53509121181867,
          -7.301247320594517,
          -43.02987720825643,
          -10.57700512880842,
          -10.165388614979435,
          -14.13935698924875,
          -15.182280689645616,
          15.889455495302855,
          16.986111316120493,
          9.189537072365379,
          -33.60981841281581,
          -56.705558199627,
          -31.708596870377832,
          3.2995119835849573,
          31.070649220844334,
          -29.257123756991945,
          11.904117979465799,
          -39.87939811139855,
          -2.186530245563722,
          -9.067656035683587,
          9.147895248816546,
          27.586692582863126,
          20.88984090614616,
          18.210994041394763,
          -17.6232296637508,
          20.6751451878254,
          26.279763258138363,
          34.77313758239072,
          -18.37378439712794,
          -11.507855304979945,
          -21.45826495049415,
          10.37878111762667,
          31.566522010358458,
          16.069139120624392,
          -4.164497107164003,
          -23.441731556590902,
          9.49340785821596,
          -3.237470710498325,
          -3.562612266129093,
          45.105762507410944,
          -28.21390905795201,
          11.963823970847827,
          -50.14359376898225,
          -21.193095503274808,
          1.04989283186378,
          -2.7949895351069998,
          -5.750607600973116,
          11.9187184130638,
          5.7924608066028895,
          15.615197596033713,
          16.68304559574928,
          -11.36302156869306,
          31.43959800584749,
          11.157380277704561,
          -26.686277926494938,
          31.569469057152457,
          -10.776355998832724,
          10.707971578205033,
          0.4002366933140533,
          -18.535010968434193,
          18.60802751073873,
          -10.044166874849795,
          -26.589292686985747,
          32.790559437573364,
          11.546183875410723,
          -15.361035489098523,
          10.12261033482324,
          6.576027878255549,
          49.122235066747066,
          13.002794102418758,
          -11.720911015146704,
          -50.67341124857269,
          -9.984078757230165,
          44.029478127756484,
          -30.088743694899012,
          -10.428712788273291,
          -21.0288754915845
         ]
        },
        {
         "name": "Alpha 100",
         "type": "scatter",
         "x": [
          -0.712390662050588,
          -0.4371456556814915,
          -0.4537523812416193,
          0.9528306110451948,
          0.23785783828501061,
          0.8612113741693206,
          -0.24332625188556253,
          0.18494595039221876,
          -0.7209996734353815,
          -0.42989708186880404,
          2.0152208250443837,
          0.3972413264075336,
          0.20780005335113885,
          -0.2324258720274623,
          -0.7686270207784495,
          0.4531586132388156,
          0.6398839732802036,
          0.35953229551797367,
          -1.6151079632521659,
          1.749241790081012,
          -0.7889890249515489,
          -0.511965094194221,
          -0.928335225810039,
          2.1503829673811126,
          -0.20734969827652708,
          -1.639093411201915,
          -0.3386182541020083,
          -0.3221236569774085,
          -0.48137141579474935,
          -0.5231642148972904,
          0.7219650574076287,
          0.7659110492252689,
          0.45348104026746144,
          -1.261605945319069,
          -2.187115273247333,
          -1.185418809153406,
          0.21745165945019368,
          1.3303169236725105,
          -1.0871815907509188,
          0.5622617060581323,
          -1.5128451152607716,
          -0.002389025600514556,
          -0.27813451650877447,
          0.45181233874578974,
          1.190705272505982,
          0.9223441482568703,
          0.8149954430712237,
          -0.6209797023155086,
          0.9137407048596775,
          1.1383330474921514,
          1.4786857374358966,
          -0.6510564789536804,
          -0.37591996120915105,
          -0.7746600331288077,
          0.5011372949374676,
          1.3501878997225267,
          0.7291654706806434,
          -0.08165155616424355,
          -0.8541429534648363,
          0.46565797200403236,
          -0.044503078338053455,
          -0.057532387873538586,
          1.8927422187767202,
          -1.0453771305385342,
          0.5646542880869975,
          -1.9241594490929896,
          -0.7640339696578627,
          0.12730328020698067,
          -0.026771649986440726,
          -0.1452113325860197,
          0.5628467852810314,
          0.31735092273633597,
          0.7109747948581455,
          0.753766378659703,
          -0.37011607810475444,
          1.3451017084510097,
          0.5323378882945463,
          -0.9841607817725814,
          1.3503059959308692,
          -0.3466067875476209,
          0.5143288551447859,
          0.1012697856437548,
          -0.6575172676978901,
          0.8309056578021413,
          -0.31726597100271015,
          -0.9802743185258672,
          1.3992384201681904,
          0.5479183096073379,
          -0.530327407582726,
          0.49087183250951594,
          0.3487505938690223,
          2.0536932362953815,
          0.6062886568962988,
          -0.38445768500357647,
          -1.9453906815188249,
          -0.3148580761325759,
          1.8496125662057936,
          -1.1205068713840005,
          -0.33267577528589565,
          -0.757453225587536
         ],
         "y": [
          -10.639204914992751,
          -7.079070114437682,
          -7.293868494868959,
          10.899468150062114,
          1.651709277592079,
          9.71442636527237,
          -4.572128340709665,
          0.9673246417538803,
          -10.750557492951163,
          -6.985314008830681,
          24.64087048291954,
          3.713242419224974,
          1.2629292318346659,
          -4.431138238167884,
          -11.3665896563351,
          4.436500150316069,
          6.851684575271937,
          3.225497936823343,
          -22.315330565611358,
          21.200585657837713,
          -11.629960391455684,
          -8.04681623387124,
          -13.432322823187512,
          26.38911454008981,
          -4.106792448890403,
          -22.625568448140996,
          -5.804675218782398,
          -5.591327154746398,
          -7.651104716399083,
          -8.191670376282634,
          7.913355876503376,
          8.481771837536611,
          4.440670557258102,
          -17.742986628434082,
          -29.713913949009406,
          -16.757550131706928,
          1.3877671687976982,
          15.782035053076438,
          -15.486908587440603,
          5.847685489218732,
          -20.992619833305366,
          -1.4557448125872163,
          -5.022353090894053,
          4.419086869192655,
          13.976239175296186,
          10.505143404446212,
          9.116650053858558,
          -9.456857074434314,
          10.393862845183754,
          13.29883476635221,
          17.701099758968994,
          -9.845882766891343,
          -6.28715120388409,
          -11.444623178192666,
          5.057076620179696,
          16.03905462371233,
          8.006489053412906,
          -2.480959755312056,
          -12.472688735024553,
          4.598172119270879,
          -2.0004657022453163,
          -2.168992277591363,
          23.056680621497414,
          -14.946192097852583,
          5.878632152544291,
          -26.312732605413462,
          -11.307181199299546,
          0.22175007591345497,
          -1.771119942368116,
          -3.3030686645332006,
          5.855253150227381,
          2.6799063013706776,
          7.771203193387359,
          8.32468755509274,
          -6.212081336165553,
          15.973267684334672,
          5.460638231246856,
          -14.154394068600292,
          16.04058212979384,
          -5.908002273831622,
          5.227701814028678,
          -0.11497810381713891,
          -9.929449328736434,
          9.32243946996839,
          -5.528495799086848,
          -14.104124916624647,
          16.673494707212974,
          5.662161960431601,
          -8.284322126441197,
          4.92429880700283,
          3.086042868206544,
          25.138488848326954,
          6.417148608310154,
          -6.397581718134007,
          -26.5873463047317,
          -5.497351073025051,
          22.49882353598974,
          -15.91795179830635,
          -5.727812695774681,
          -11.222063084760896
         ]
        }
       ],
       "layout": {
        "legend": {
         "tracegroupgap": 0
        },
        "margin": {
         "t": 60
        },
        "template": {
         "data": {
          "bar": [
           {
            "error_x": {
             "color": "#2a3f5f"
            },
            "error_y": {
             "color": "#2a3f5f"
            },
            "marker": {
             "line": {
              "color": "#E5ECF6",
              "width": 0.5
             },
             "pattern": {
              "fillmode": "overlay",
              "size": 10,
              "solidity": 0.2
             }
            },
            "type": "bar"
           }
          ],
          "barpolar": [
           {
            "marker": {
             "line": {
              "color": "#E5ECF6",
              "width": 0.5
             },
             "pattern": {
              "fillmode": "overlay",
              "size": 10,
              "solidity": 0.2
             }
            },
            "type": "barpolar"
           }
          ],
          "carpet": [
           {
            "aaxis": {
             "endlinecolor": "#2a3f5f",
             "gridcolor": "white",
             "linecolor": "white",
             "minorgridcolor": "white",
             "startlinecolor": "#2a3f5f"
            },
            "baxis": {
             "endlinecolor": "#2a3f5f",
             "gridcolor": "white",
             "linecolor": "white",
             "minorgridcolor": "white",
             "startlinecolor": "#2a3f5f"
            },
            "type": "carpet"
           }
          ],
          "choropleth": [
           {
            "colorbar": {
             "outlinewidth": 0,
             "ticks": ""
            },
            "type": "choropleth"
           }
          ],
          "contour": [
           {
            "colorbar": {
             "outlinewidth": 0,
             "ticks": ""
            },
            "colorscale": [
             [
              0,
              "#0d0887"
             ],
             [
              0.1111111111111111,
              "#46039f"
             ],
             [
              0.2222222222222222,
              "#7201a8"
             ],
             [
              0.3333333333333333,
              "#9c179e"
             ],
             [
              0.4444444444444444,
              "#bd3786"
             ],
             [
              0.5555555555555556,
              "#d8576b"
             ],
             [
              0.6666666666666666,
              "#ed7953"
             ],
             [
              0.7777777777777778,
              "#fb9f3a"
             ],
             [
              0.8888888888888888,
              "#fdca26"
             ],
             [
              1,
              "#f0f921"
             ]
            ],
            "type": "contour"
           }
          ],
          "contourcarpet": [
           {
            "colorbar": {
             "outlinewidth": 0,
             "ticks": ""
            },
            "type": "contourcarpet"
           }
          ],
          "heatmap": [
           {
            "colorbar": {
             "outlinewidth": 0,
             "ticks": ""
            },
            "colorscale": [
             [
              0,
              "#0d0887"
             ],
             [
              0.1111111111111111,
              "#46039f"
             ],
             [
              0.2222222222222222,
              "#7201a8"
             ],
             [
              0.3333333333333333,
              "#9c179e"
             ],
             [
              0.4444444444444444,
              "#bd3786"
             ],
             [
              0.5555555555555556,
              "#d8576b"
             ],
             [
              0.6666666666666666,
              "#ed7953"
             ],
             [
              0.7777777777777778,
              "#fb9f3a"
             ],
             [
              0.8888888888888888,
              "#fdca26"
             ],
             [
              1,
              "#f0f921"
             ]
            ],
            "type": "heatmap"
           }
          ],
          "heatmapgl": [
           {
            "colorbar": {
             "outlinewidth": 0,
             "ticks": ""
            },
            "colorscale": [
             [
              0,
              "#0d0887"
             ],
             [
              0.1111111111111111,
              "#46039f"
             ],
             [
              0.2222222222222222,
              "#7201a8"
             ],
             [
              0.3333333333333333,
              "#9c179e"
             ],
             [
              0.4444444444444444,
              "#bd3786"
             ],
             [
              0.5555555555555556,
              "#d8576b"
             ],
             [
              0.6666666666666666,
              "#ed7953"
             ],
             [
              0.7777777777777778,
              "#fb9f3a"
             ],
             [
              0.8888888888888888,
              "#fdca26"
             ],
             [
              1,
              "#f0f921"
             ]
            ],
            "type": "heatmapgl"
           }
          ],
          "histogram": [
           {
            "marker": {
             "pattern": {
              "fillmode": "overlay",
              "size": 10,
              "solidity": 0.2
             }
            },
            "type": "histogram"
           }
          ],
          "histogram2d": [
           {
            "colorbar": {
             "outlinewidth": 0,
             "ticks": ""
            },
            "colorscale": [
             [
              0,
              "#0d0887"
             ],
             [
              0.1111111111111111,
              "#46039f"
             ],
             [
              0.2222222222222222,
              "#7201a8"
             ],
             [
              0.3333333333333333,
              "#9c179e"
             ],
             [
              0.4444444444444444,
              "#bd3786"
             ],
             [
              0.5555555555555556,
              "#d8576b"
             ],
             [
              0.6666666666666666,
              "#ed7953"
             ],
             [
              0.7777777777777778,
              "#fb9f3a"
             ],
             [
              0.8888888888888888,
              "#fdca26"
             ],
             [
              1,
              "#f0f921"
             ]
            ],
            "type": "histogram2d"
           }
          ],
          "histogram2dcontour": [
           {
            "colorbar": {
             "outlinewidth": 0,
             "ticks": ""
            },
            "colorscale": [
             [
              0,
              "#0d0887"
             ],
             [
              0.1111111111111111,
              "#46039f"
             ],
             [
              0.2222222222222222,
              "#7201a8"
             ],
             [
              0.3333333333333333,
              "#9c179e"
             ],
             [
              0.4444444444444444,
              "#bd3786"
             ],
             [
              0.5555555555555556,
              "#d8576b"
             ],
             [
              0.6666666666666666,
              "#ed7953"
             ],
             [
              0.7777777777777778,
              "#fb9f3a"
             ],
             [
              0.8888888888888888,
              "#fdca26"
             ],
             [
              1,
              "#f0f921"
             ]
            ],
            "type": "histogram2dcontour"
           }
          ],
          "mesh3d": [
           {
            "colorbar": {
             "outlinewidth": 0,
             "ticks": ""
            },
            "type": "mesh3d"
           }
          ],
          "parcoords": [
           {
            "line": {
             "colorbar": {
              "outlinewidth": 0,
              "ticks": ""
             }
            },
            "type": "parcoords"
           }
          ],
          "pie": [
           {
            "automargin": true,
            "type": "pie"
           }
          ],
          "scatter": [
           {
            "fillpattern": {
             "fillmode": "overlay",
             "size": 10,
             "solidity": 0.2
            },
            "type": "scatter"
           }
          ],
          "scatter3d": [
           {
            "line": {
             "colorbar": {
              "outlinewidth": 0,
              "ticks": ""
             }
            },
            "marker": {
             "colorbar": {
              "outlinewidth": 0,
              "ticks": ""
             }
            },
            "type": "scatter3d"
           }
          ],
          "scattercarpet": [
           {
            "marker": {
             "colorbar": {
              "outlinewidth": 0,
              "ticks": ""
             }
            },
            "type": "scattercarpet"
           }
          ],
          "scattergeo": [
           {
            "marker": {
             "colorbar": {
              "outlinewidth": 0,
              "ticks": ""
             }
            },
            "type": "scattergeo"
           }
          ],
          "scattergl": [
           {
            "marker": {
             "colorbar": {
              "outlinewidth": 0,
              "ticks": ""
             }
            },
            "type": "scattergl"
           }
          ],
          "scattermapbox": [
           {
            "marker": {
             "colorbar": {
              "outlinewidth": 0,
              "ticks": ""
             }
            },
            "type": "scattermapbox"
           }
          ],
          "scatterpolar": [
           {
            "marker": {
             "colorbar": {
              "outlinewidth": 0,
              "ticks": ""
             }
            },
            "type": "scatterpolar"
           }
          ],
          "scatterpolargl": [
           {
            "marker": {
             "colorbar": {
              "outlinewidth": 0,
              "ticks": ""
             }
            },
            "type": "scatterpolargl"
           }
          ],
          "scatterternary": [
           {
            "marker": {
             "colorbar": {
              "outlinewidth": 0,
              "ticks": ""
             }
            },
            "type": "scatterternary"
           }
          ],
          "surface": [
           {
            "colorbar": {
             "outlinewidth": 0,
             "ticks": ""
            },
            "colorscale": [
             [
              0,
              "#0d0887"
             ],
             [
              0.1111111111111111,
              "#46039f"
             ],
             [
              0.2222222222222222,
              "#7201a8"
             ],
             [
              0.3333333333333333,
              "#9c179e"
             ],
             [
              0.4444444444444444,
              "#bd3786"
             ],
             [
              0.5555555555555556,
              "#d8576b"
             ],
             [
              0.6666666666666666,
              "#ed7953"
             ],
             [
              0.7777777777777778,
              "#fb9f3a"
             ],
             [
              0.8888888888888888,
              "#fdca26"
             ],
             [
              1,
              "#f0f921"
             ]
            ],
            "type": "surface"
           }
          ],
          "table": [
           {
            "cells": {
             "fill": {
              "color": "#EBF0F8"
             },
             "line": {
              "color": "white"
             }
            },
            "header": {
             "fill": {
              "color": "#C8D4E3"
             },
             "line": {
              "color": "white"
             }
            },
            "type": "table"
           }
          ]
         },
         "layout": {
          "annotationdefaults": {
           "arrowcolor": "#2a3f5f",
           "arrowhead": 0,
           "arrowwidth": 1
          },
          "autotypenumbers": "strict",
          "coloraxis": {
           "colorbar": {
            "outlinewidth": 0,
            "ticks": ""
           }
          },
          "colorscale": {
           "diverging": [
            [
             0,
             "#8e0152"
            ],
            [
             0.1,
             "#c51b7d"
            ],
            [
             0.2,
             "#de77ae"
            ],
            [
             0.3,
             "#f1b6da"
            ],
            [
             0.4,
             "#fde0ef"
            ],
            [
             0.5,
             "#f7f7f7"
            ],
            [
             0.6,
             "#e6f5d0"
            ],
            [
             0.7,
             "#b8e186"
            ],
            [
             0.8,
             "#7fbc41"
            ],
            [
             0.9,
             "#4d9221"
            ],
            [
             1,
             "#276419"
            ]
           ],
           "sequential": [
            [
             0,
             "#0d0887"
            ],
            [
             0.1111111111111111,
             "#46039f"
            ],
            [
             0.2222222222222222,
             "#7201a8"
            ],
            [
             0.3333333333333333,
             "#9c179e"
            ],
            [
             0.4444444444444444,
             "#bd3786"
            ],
            [
             0.5555555555555556,
             "#d8576b"
            ],
            [
             0.6666666666666666,
             "#ed7953"
            ],
            [
             0.7777777777777778,
             "#fb9f3a"
            ],
            [
             0.8888888888888888,
             "#fdca26"
            ],
            [
             1,
             "#f0f921"
            ]
           ],
           "sequentialminus": [
            [
             0,
             "#0d0887"
            ],
            [
             0.1111111111111111,
             "#46039f"
            ],
            [
             0.2222222222222222,
             "#7201a8"
            ],
            [
             0.3333333333333333,
             "#9c179e"
            ],
            [
             0.4444444444444444,
             "#bd3786"
            ],
            [
             0.5555555555555556,
             "#d8576b"
            ],
            [
             0.6666666666666666,
             "#ed7953"
            ],
            [
             0.7777777777777778,
             "#fb9f3a"
            ],
            [
             0.8888888888888888,
             "#fdca26"
            ],
            [
             1,
             "#f0f921"
            ]
           ]
          },
          "colorway": [
           "#636efa",
           "#EF553B",
           "#00cc96",
           "#ab63fa",
           "#FFA15A",
           "#19d3f3",
           "#FF6692",
           "#B6E880",
           "#FF97FF",
           "#FECB52"
          ],
          "font": {
           "color": "#2a3f5f"
          },
          "geo": {
           "bgcolor": "white",
           "lakecolor": "white",
           "landcolor": "#E5ECF6",
           "showlakes": true,
           "showland": true,
           "subunitcolor": "white"
          },
          "hoverlabel": {
           "align": "left"
          },
          "hovermode": "closest",
          "mapbox": {
           "style": "light"
          },
          "paper_bgcolor": "white",
          "plot_bgcolor": "#E5ECF6",
          "polar": {
           "angularaxis": {
            "gridcolor": "white",
            "linecolor": "white",
            "ticks": ""
           },
           "bgcolor": "#E5ECF6",
           "radialaxis": {
            "gridcolor": "white",
            "linecolor": "white",
            "ticks": ""
           }
          },
          "scene": {
           "xaxis": {
            "backgroundcolor": "#E5ECF6",
            "gridcolor": "white",
            "gridwidth": 2,
            "linecolor": "white",
            "showbackground": true,
            "ticks": "",
            "zerolinecolor": "white"
           },
           "yaxis": {
            "backgroundcolor": "#E5ECF6",
            "gridcolor": "white",
            "gridwidth": 2,
            "linecolor": "white",
            "showbackground": true,
            "ticks": "",
            "zerolinecolor": "white"
           },
           "zaxis": {
            "backgroundcolor": "#E5ECF6",
            "gridcolor": "white",
            "gridwidth": 2,
            "linecolor": "white",
            "showbackground": true,
            "ticks": "",
            "zerolinecolor": "white"
           }
          },
          "shapedefaults": {
           "line": {
            "color": "#2a3f5f"
           }
          },
          "ternary": {
           "aaxis": {
            "gridcolor": "white",
            "linecolor": "white",
            "ticks": ""
           },
           "baxis": {
            "gridcolor": "white",
            "linecolor": "white",
            "ticks": ""
           },
           "bgcolor": "#E5ECF6",
           "caxis": {
            "gridcolor": "white",
            "linecolor": "white",
            "ticks": ""
           }
          },
          "title": {
           "x": 0.05
          },
          "xaxis": {
           "automargin": true,
           "gridcolor": "white",
           "linecolor": "white",
           "ticks": "",
           "title": {
            "standoff": 15
           },
           "zerolinecolor": "white",
           "zerolinewidth": 2
          },
          "yaxis": {
           "automargin": true,
           "gridcolor": "white",
           "linecolor": "white",
           "ticks": "",
           "title": {
            "standoff": 15
           },
           "zerolinecolor": "white",
           "zerolinewidth": 2
          }
         }
        },
        "xaxis": {
         "anchor": "y",
         "domain": [
          0,
          1
         ],
         "title": {
          "text": "x"
         }
        },
        "yaxis": {
         "anchor": "x",
         "domain": [
          0,
          1
         ],
         "title": {
          "text": "y"
         }
        }
       }
      }
     },
     "metadata": {},
     "output_type": "display_data"
    }
   ],
   "source": [
    "import plotly.graph_objects as go\n",
    "fig = px.scatter(x= x.ravel(), y=y.ravel())\n",
    "fig.add_trace(go.Line(x=x.ravel(), y=lr.predict(x), name=\"Alpha 0\"))\n",
    "fig.add_trace(go.Line(x=x.ravel(), y=rr.predict(x), name=\"Alpha 10\"))\n",
    "fig.add_trace(go.Line(x=x.ravel(), y=rr1.predict(x), name=\"Alpha 100\"))\n",
    "fig.show()"
   ]
  },
  {
   "cell_type": "code",
   "execution_count": 160,
   "metadata": {},
   "outputs": [],
   "source": [
    "class MyRidge:\n",
    "    def __init__(self, alpha=0.1) -> None:\n",
    "        self.alpha = alpha\n",
    "        self.m = None\n",
    "        self.b = None\n",
    "\n",
    "    def fit(self, x, y):\n",
    "        num = np.sum((y - y.mean()) * (x.T - x.mean()))\n",
    "        den = np.sum((x - x.mean()) ** 2) + self.alpha\n",
    "        self.m = num/den\n",
    "        self.b = y.mean() - (self.m * x.mean())\n",
    "        print(self.m)\n",
    "        print(self.b)"
   ]
  },
  {
   "cell_type": "code",
   "execution_count": 161,
   "metadata": {},
   "outputs": [
    {
     "name": "stdout",
     "output_type": "stream",
     "text": [
      "24.954626701073426\n",
      "-2.1269130035235726\n"
     ]
    }
   ],
   "source": [
    "mr = MyRidge(10)\n",
    "mr.fit(x,y)"
   ]
  },
  {
   "cell_type": "code",
   "execution_count": 162,
   "metadata": {},
   "outputs": [
    {
     "name": "stdout",
     "output_type": "stream",
     "text": [
      "12.93442103643842\n",
      "-1.4248441496033306\n"
     ]
    }
   ],
   "source": [
    "mr = MyRidge(100)\n",
    "mr.fit(x,y)"
   ]
  },
  {
   "cell_type": "markdown",
   "metadata": {},
   "source": [
    "### For n-D Data"
   ]
  },
  {
   "cell_type": "code",
   "execution_count": 163,
   "metadata": {},
   "outputs": [],
   "source": [
    "from sklearn.datasets import load_diabetes\n",
    "from sklearn.metrics import r2_score"
   ]
  },
  {
   "cell_type": "code",
   "execution_count": 164,
   "metadata": {},
   "outputs": [
    {
     "data": {
      "text/plain": [
       "((442, 10), (442,))"
      ]
     },
     "execution_count": 164,
     "metadata": {},
     "output_type": "execute_result"
    }
   ],
   "source": [
    "x, y = load_diabetes(return_X_y=True)\n",
    "x.shape, y.shape"
   ]
  },
  {
   "cell_type": "code",
   "execution_count": 165,
   "metadata": {},
   "outputs": [],
   "source": [
    "from sklearn.model_selection import train_test_split\n",
    "xTrain, xTest, yTrain, yTest = train_test_split(x,y, test_size=0.2, random_state=4)"
   ]
  },
  {
   "cell_type": "code",
   "execution_count": 166,
   "metadata": {},
   "outputs": [
    {
     "data": {
      "text/plain": [
       "((353, 10), (89, 10))"
      ]
     },
     "execution_count": 166,
     "metadata": {},
     "output_type": "execute_result"
    }
   ],
   "source": [
    "xTrain.shape, xTest.shape"
   ]
  },
  {
   "cell_type": "code",
   "execution_count": 167,
   "metadata": {},
   "outputs": [
    {
     "data": {
      "text/html": [
       "<style>#sk-container-id-12 {color: black;}#sk-container-id-12 pre{padding: 0;}#sk-container-id-12 div.sk-toggleable {background-color: white;}#sk-container-id-12 label.sk-toggleable__label {cursor: pointer;display: block;width: 100%;margin-bottom: 0;padding: 0.3em;box-sizing: border-box;text-align: center;}#sk-container-id-12 label.sk-toggleable__label-arrow:before {content: \"▸\";float: left;margin-right: 0.25em;color: #696969;}#sk-container-id-12 label.sk-toggleable__label-arrow:hover:before {color: black;}#sk-container-id-12 div.sk-estimator:hover label.sk-toggleable__label-arrow:before {color: black;}#sk-container-id-12 div.sk-toggleable__content {max-height: 0;max-width: 0;overflow: hidden;text-align: left;background-color: #f0f8ff;}#sk-container-id-12 div.sk-toggleable__content pre {margin: 0.2em;color: black;border-radius: 0.25em;background-color: #f0f8ff;}#sk-container-id-12 input.sk-toggleable__control:checked~div.sk-toggleable__content {max-height: 200px;max-width: 100%;overflow: auto;}#sk-container-id-12 input.sk-toggleable__control:checked~label.sk-toggleable__label-arrow:before {content: \"▾\";}#sk-container-id-12 div.sk-estimator input.sk-toggleable__control:checked~label.sk-toggleable__label {background-color: #d4ebff;}#sk-container-id-12 div.sk-label input.sk-toggleable__control:checked~label.sk-toggleable__label {background-color: #d4ebff;}#sk-container-id-12 input.sk-hidden--visually {border: 0;clip: rect(1px 1px 1px 1px);clip: rect(1px, 1px, 1px, 1px);height: 1px;margin: -1px;overflow: hidden;padding: 0;position: absolute;width: 1px;}#sk-container-id-12 div.sk-estimator {font-family: monospace;background-color: #f0f8ff;border: 1px dotted black;border-radius: 0.25em;box-sizing: border-box;margin-bottom: 0.5em;}#sk-container-id-12 div.sk-estimator:hover {background-color: #d4ebff;}#sk-container-id-12 div.sk-parallel-item::after {content: \"\";width: 100%;border-bottom: 1px solid gray;flex-grow: 1;}#sk-container-id-12 div.sk-label:hover label.sk-toggleable__label {background-color: #d4ebff;}#sk-container-id-12 div.sk-serial::before {content: \"\";position: absolute;border-left: 1px solid gray;box-sizing: border-box;top: 0;bottom: 0;left: 50%;z-index: 0;}#sk-container-id-12 div.sk-serial {display: flex;flex-direction: column;align-items: center;background-color: white;padding-right: 0.2em;padding-left: 0.2em;position: relative;}#sk-container-id-12 div.sk-item {position: relative;z-index: 1;}#sk-container-id-12 div.sk-parallel {display: flex;align-items: stretch;justify-content: center;background-color: white;position: relative;}#sk-container-id-12 div.sk-item::before, #sk-container-id-12 div.sk-parallel-item::before {content: \"\";position: absolute;border-left: 1px solid gray;box-sizing: border-box;top: 0;bottom: 0;left: 50%;z-index: -1;}#sk-container-id-12 div.sk-parallel-item {display: flex;flex-direction: column;z-index: 1;position: relative;background-color: white;}#sk-container-id-12 div.sk-parallel-item:first-child::after {align-self: flex-end;width: 50%;}#sk-container-id-12 div.sk-parallel-item:last-child::after {align-self: flex-start;width: 50%;}#sk-container-id-12 div.sk-parallel-item:only-child::after {width: 0;}#sk-container-id-12 div.sk-dashed-wrapped {border: 1px dashed gray;margin: 0 0.4em 0.5em 0.4em;box-sizing: border-box;padding-bottom: 0.4em;background-color: white;}#sk-container-id-12 div.sk-label label {font-family: monospace;font-weight: bold;display: inline-block;line-height: 1.2em;}#sk-container-id-12 div.sk-label-container {text-align: center;}#sk-container-id-12 div.sk-container {/* jupyter's `normalize.less` sets `[hidden] { display: none; }` but bootstrap.min.css set `[hidden] { display: none !important; }` so we also need the `!important` here to be able to override the default hidden behavior on the sphinx rendered scikit-learn.org. See: https://github.com/scikit-learn/scikit-learn/issues/21755 */display: inline-block !important;position: relative;}#sk-container-id-12 div.sk-text-repr-fallback {display: none;}</style><div id=\"sk-container-id-12\" class=\"sk-top-container\"><div class=\"sk-text-repr-fallback\"><pre>Ridge(alpha=0.1, solver=&#x27;cholesky&#x27;)</pre><b>In a Jupyter environment, please rerun this cell to show the HTML representation or trust the notebook. <br />On GitHub, the HTML representation is unable to render, please try loading this page with nbviewer.org.</b></div><div class=\"sk-container\" hidden><div class=\"sk-item\"><div class=\"sk-estimator sk-toggleable\"><input class=\"sk-toggleable__control sk-hidden--visually\" id=\"sk-estimator-id-12\" type=\"checkbox\" checked><label for=\"sk-estimator-id-12\" class=\"sk-toggleable__label sk-toggleable__label-arrow\">Ridge</label><div class=\"sk-toggleable__content\"><pre>Ridge(alpha=0.1, solver=&#x27;cholesky&#x27;)</pre></div></div></div></div></div>"
      ],
      "text/plain": [
       "Ridge(alpha=0.1, solver='cholesky')"
      ]
     },
     "execution_count": 167,
     "metadata": {},
     "output_type": "execute_result"
    }
   ],
   "source": [
    "from sklearn.linear_model import Ridge\n",
    "reg = Ridge(alpha=0.1, solver=\"cholesky\")\n",
    "reg.fit(xTrain, yTrain)"
   ]
  },
  {
   "cell_type": "code",
   "execution_count": 168,
   "metadata": {},
   "outputs": [
    {
     "name": "stdout",
     "output_type": "stream",
     "text": [
      "[  44.02063391 -241.69329987  452.98665299  332.04420177  -76.33686744\n",
      "  -68.52143809 -164.98809083  149.96908118  431.61347417   58.51862681]\n",
      "150.89053425602808\n"
     ]
    }
   ],
   "source": [
    "print(reg.coef_)\n",
    "print(reg.intercept_)"
   ]
  },
  {
   "cell_type": "code",
   "execution_count": 169,
   "metadata": {},
   "outputs": [],
   "source": [
    "yPred = reg.predict(xTest)"
   ]
  },
  {
   "cell_type": "code",
   "execution_count": 170,
   "metadata": {},
   "outputs": [
    {
     "data": {
      "text/plain": [
       "0.4693128853309805"
      ]
     },
     "execution_count": 170,
     "metadata": {},
     "output_type": "execute_result"
    }
   ],
   "source": [
    "r2_score(yTest, yPred)"
   ]
  },
  {
   "cell_type": "code",
   "execution_count": 204,
   "metadata": {},
   "outputs": [],
   "source": [
    "class MyRidge:\n",
    "    def __init__(self, alpha=0.01) -> None:\n",
    "        self.w = None\n",
    "        self.alpha = alpha\n",
    "        self.coef=None\n",
    "        self.intercept=None\n",
    "\n",
    "    def fit(self, xTrain, yTrain):\n",
    "        xTrain = np.insert(xTrain, 0, 1, axis=1)\n",
    "        I = np.identity(xTrain.shape[1])\n",
    "        self.w = np.linalg.inv((np.dot(xTrain.T, xTrain)) + self.alpha * I).dot(xTrain.T).dot(yTrain)\n",
    "        self.intercept = self.w[0]\n",
    "        self.coef = self.w[1:]\n",
    "    def predict(self, xTest):\n",
    "        return np.dot(xTest, self.coef) + self.intercept"
   ]
  },
  {
   "cell_type": "code",
   "execution_count": 205,
   "metadata": {},
   "outputs": [],
   "source": [
    "reg = MyRidge()\n",
    "reg.fit(xTrain, yTrain)"
   ]
  },
  {
   "cell_type": "code",
   "execution_count": 207,
   "metadata": {},
   "outputs": [
    {
     "name": "stdout",
     "output_type": "stream",
     "text": [
      "0.4693128853309805\n",
      "[  38.8748422  -283.00197237  485.04853207  362.44271581 -419.2144798\n",
      "  168.09702911  -18.85469005  203.83578981  594.01973778   37.92606389]\n",
      "150.9333906383201\n"
     ]
    }
   ],
   "source": [
    "reg.predict(xTest)\n",
    "print(r2_score(yTest, yPred))\n",
    "print(reg.coef)\n",
    "print(reg.intercept)"
   ]
  },
  {
   "cell_type": "markdown",
   "metadata": {},
   "source": [
    "# End"
   ]
  }
 ],
 "metadata": {
  "kernelspec": {
   "display_name": "Python 3",
   "language": "python",
   "name": "python3"
  },
  "language_info": {
   "codemirror_mode": {
    "name": "ipython",
    "version": 3
   },
   "file_extension": ".py",
   "mimetype": "text/x-python",
   "name": "python",
   "nbconvert_exporter": "python",
   "pygments_lexer": "ipython3",
   "version": "3.11.4"
  },
  "orig_nbformat": 4
 },
 "nbformat": 4,
 "nbformat_minor": 2
}
